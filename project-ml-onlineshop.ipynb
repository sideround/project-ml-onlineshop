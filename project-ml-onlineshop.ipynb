{
 "cells": [
  {
   "cell_type": "markdown",
   "metadata": {
    "toc": true
   },
   "source": [
    "<h1>Table of Contents<span class=\"tocSkip\"></span></h1>\n",
    "<div class=\"toc\"><ul class=\"toc-item\"><li><span><a href=\"#Functions\" data-toc-modified-id=\"Functions-1\"><span class=\"toc-item-num\">1&nbsp;&nbsp;</span>Functions</a></span></li><li><span><a href=\"#Import-and-Analysis\" data-toc-modified-id=\"Import-and-Analysis-2\"><span class=\"toc-item-num\">2&nbsp;&nbsp;</span>Import and Analysis</a></span><ul class=\"toc-item\"><li><span><a href=\"#Dataset-description:\" data-toc-modified-id=\"Dataset-description:-2.1\"><span class=\"toc-item-num\">2.1&nbsp;&nbsp;</span>Dataset description:</a></span></li><li><span><a href=\"#Data-Investigation-and-Cleaning\" data-toc-modified-id=\"Data-Investigation-and-Cleaning-2.2\"><span class=\"toc-item-num\">2.2&nbsp;&nbsp;</span>Data Investigation and Cleaning</a></span><ul class=\"toc-item\"><li><span><a href=\"#Administrative\" data-toc-modified-id=\"Administrative-2.2.1\"><span class=\"toc-item-num\">2.2.1&nbsp;&nbsp;</span>Administrative</a></span></li><li><span><a href=\"#Administrative-Duration\" data-toc-modified-id=\"Administrative-Duration-2.2.2\"><span class=\"toc-item-num\">2.2.2&nbsp;&nbsp;</span>Administrative Duration</a></span></li><li><span><a href=\"#Informational\" data-toc-modified-id=\"Informational-2.2.3\"><span class=\"toc-item-num\">2.2.3&nbsp;&nbsp;</span>Informational</a></span></li><li><span><a href=\"#Informational-Duration\" data-toc-modified-id=\"Informational-Duration-2.2.4\"><span class=\"toc-item-num\">2.2.4&nbsp;&nbsp;</span>Informational Duration</a></span></li><li><span><a href=\"#Product-Related\" data-toc-modified-id=\"Product-Related-2.2.5\"><span class=\"toc-item-num\">2.2.5&nbsp;&nbsp;</span>Product Related</a></span></li><li><span><a href=\"#Product-Related-Duration\" data-toc-modified-id=\"Product-Related-Duration-2.2.6\"><span class=\"toc-item-num\">2.2.6&nbsp;&nbsp;</span>Product Related Duration</a></span></li><li><span><a href=\"#Bounce-Rates\" data-toc-modified-id=\"Bounce-Rates-2.2.7\"><span class=\"toc-item-num\">2.2.7&nbsp;&nbsp;</span>Bounce Rates</a></span></li><li><span><a href=\"#Exit-Rates\" data-toc-modified-id=\"Exit-Rates-2.2.8\"><span class=\"toc-item-num\">2.2.8&nbsp;&nbsp;</span>Exit Rates</a></span></li><li><span><a href=\"#Page-Values\" data-toc-modified-id=\"Page-Values-2.2.9\"><span class=\"toc-item-num\">2.2.9&nbsp;&nbsp;</span>Page Values</a></span></li><li><span><a href=\"#Special-Day\" data-toc-modified-id=\"Special-Day-2.2.10\"><span class=\"toc-item-num\">2.2.10&nbsp;&nbsp;</span>Special Day</a></span></li><li><span><a href=\"#Month\" data-toc-modified-id=\"Month-2.2.11\"><span class=\"toc-item-num\">2.2.11&nbsp;&nbsp;</span>Month</a></span></li><li><span><a href=\"#Operating-Systems\" data-toc-modified-id=\"Operating-Systems-2.2.12\"><span class=\"toc-item-num\">2.2.12&nbsp;&nbsp;</span>Operating Systems</a></span></li><li><span><a href=\"#Browser\" data-toc-modified-id=\"Browser-2.2.13\"><span class=\"toc-item-num\">2.2.13&nbsp;&nbsp;</span>Browser</a></span></li><li><span><a href=\"#Region\" data-toc-modified-id=\"Region-2.2.14\"><span class=\"toc-item-num\">2.2.14&nbsp;&nbsp;</span>Region</a></span></li><li><span><a href=\"#Traffic-type\" data-toc-modified-id=\"Traffic-type-2.2.15\"><span class=\"toc-item-num\">2.2.15&nbsp;&nbsp;</span>Traffic type</a></span></li><li><span><a href=\"#Visitor-Type\" data-toc-modified-id=\"Visitor-Type-2.2.16\"><span class=\"toc-item-num\">2.2.16&nbsp;&nbsp;</span>Visitor Type</a></span></li><li><span><a href=\"#Weekend\" data-toc-modified-id=\"Weekend-2.2.17\"><span class=\"toc-item-num\">2.2.17&nbsp;&nbsp;</span>Weekend</a></span></li><li><span><a href=\"#Revenue\" data-toc-modified-id=\"Revenue-2.2.18\"><span class=\"toc-item-num\">2.2.18&nbsp;&nbsp;</span>Revenue</a></span></li><li><span><a href=\"#Data-Types\" data-toc-modified-id=\"Data-Types-2.2.19\"><span class=\"toc-item-num\">2.2.19&nbsp;&nbsp;</span>Data Types</a></span></li></ul></li><li><span><a href=\"#Data-visualization\" data-toc-modified-id=\"Data-visualization-2.3\"><span class=\"toc-item-num\">2.3&nbsp;&nbsp;</span>Data visualization</a></span></li><li><span><a href=\"#Data-Transformation\" data-toc-modified-id=\"Data-Transformation-2.4\"><span class=\"toc-item-num\">2.4&nbsp;&nbsp;</span>Data Transformation</a></span><ul class=\"toc-item\"><li><span><a href=\"#Transforming-columns\" data-toc-modified-id=\"Transforming-columns-2.4.1\"><span class=\"toc-item-num\">2.4.1&nbsp;&nbsp;</span>Transforming columns</a></span><ul class=\"toc-item\"><li><span><a href=\"#Operating-Systems\" data-toc-modified-id=\"Operating-Systems-2.4.1.1\"><span class=\"toc-item-num\">2.4.1.1&nbsp;&nbsp;</span>Operating Systems</a></span></li><li><span><a href=\"#Browser\" data-toc-modified-id=\"Browser-2.4.1.2\"><span class=\"toc-item-num\">2.4.1.2&nbsp;&nbsp;</span>Browser</a></span></li><li><span><a href=\"#Traffic-Type\" data-toc-modified-id=\"Traffic-Type-2.4.1.3\"><span class=\"toc-item-num\">2.4.1.3&nbsp;&nbsp;</span>Traffic Type</a></span></li></ul></li><li><span><a href=\"#Data-encoding\" data-toc-modified-id=\"Data-encoding-2.4.2\"><span class=\"toc-item-num\">2.4.2&nbsp;&nbsp;</span>Data encoding</a></span></li></ul></li><li><span><a href=\"#Missing-Values\" data-toc-modified-id=\"Missing-Values-2.5\"><span class=\"toc-item-num\">2.5&nbsp;&nbsp;</span>Missing Values</a></span></li><li><span><a href=\"#Correlation\" data-toc-modified-id=\"Correlation-2.6\"><span class=\"toc-item-num\">2.6&nbsp;&nbsp;</span>Correlation</a></span><ul class=\"toc-item\"><li><span><a href=\"#Correlation-insights:\" data-toc-modified-id=\"Correlation-insights:-2.6.1\"><span class=\"toc-item-num\">2.6.1&nbsp;&nbsp;</span>Correlation insights:</a></span></li></ul></li></ul></li><li><span><a href=\"#Individual-work-to-organize\" data-toc-modified-id=\"Individual-work-to-organize-3\"><span class=\"toc-item-num\">3&nbsp;&nbsp;</span>Individual work to organize</a></span><ul class=\"toc-item\"><li><ul class=\"toc-item\"><li><span><a href=\"#Administrative_duration\" data-toc-modified-id=\"Administrative_duration-3.0.1\"><span class=\"toc-item-num\">3.0.1&nbsp;&nbsp;</span>Administrative_duration</a></span></li><li><span><a href=\"#BounceRates\" data-toc-modified-id=\"BounceRates-3.0.2\"><span class=\"toc-item-num\">3.0.2&nbsp;&nbsp;</span>BounceRates</a></span></li><li><span><a href=\"#OperatingSystems\" data-toc-modified-id=\"OperatingSystems-3.0.3\"><span class=\"toc-item-num\">3.0.3&nbsp;&nbsp;</span>OperatingSystems</a></span></li><li><span><a href=\"#Weekend\" data-toc-modified-id=\"Weekend-3.0.4\"><span class=\"toc-item-num\">3.0.4&nbsp;&nbsp;</span>Weekend</a></span></li><li><span><a href=\"#Kristina:\" data-toc-modified-id=\"Kristina:-3.0.5\"><span class=\"toc-item-num\">3.0.5&nbsp;&nbsp;</span>Kristina:</a></span><ul class=\"toc-item\"><li><span><a href=\"#Informational\" data-toc-modified-id=\"Informational-3.0.5.1\"><span class=\"toc-item-num\">3.0.5.1&nbsp;&nbsp;</span>Informational</a></span></li><li><span><a href=\"#Exit-Rates\" data-toc-modified-id=\"Exit-Rates-3.0.5.2\"><span class=\"toc-item-num\">3.0.5.2&nbsp;&nbsp;</span>Exit Rates</a></span></li><li><span><a href=\"#Browser\" data-toc-modified-id=\"Browser-3.0.5.3\"><span class=\"toc-item-num\">3.0.5.3&nbsp;&nbsp;</span>Browser</a></span></li><li><span><a href=\"#Revenue\" data-toc-modified-id=\"Revenue-3.0.5.4\"><span class=\"toc-item-num\">3.0.5.4&nbsp;&nbsp;</span>Revenue</a></span></li></ul></li><li><span><a href=\"#Isaac:\" data-toc-modified-id=\"Isaac:-3.0.6\"><span class=\"toc-item-num\">3.0.6&nbsp;&nbsp;</span>Isaac:</a></span></li><li><span><a href=\"#Pau:\" data-toc-modified-id=\"Pau:-3.0.7\"><span class=\"toc-item-num\">3.0.7&nbsp;&nbsp;</span>Pau:</a></span></li><li><span><a href=\"#Sosa:\" data-toc-modified-id=\"Sosa:-3.0.8\"><span class=\"toc-item-num\">3.0.8&nbsp;&nbsp;</span>Sosa:</a></span></li><li><span><a href=\"#MODEL-APPLICATION-:-K-Nearest-Neighbors¶\" data-toc-modified-id=\"MODEL-APPLICATION-:-K-Nearest-Neighbors¶-3.0.9\"><span class=\"toc-item-num\">3.0.9&nbsp;&nbsp;</span>MODEL APPLICATION : K-Nearest Neighbors¶</a></span></li></ul></li></ul></li></ul></div>"
   ]
  },
  {
   "cell_type": "code",
   "execution_count": null,
   "metadata": {},
   "outputs": [],
   "source": [
    "import re\n",
    "import pandas as pd\n",
    "import numpy as np\n",
    "import matplotlib.pyplot as plt\n",
    "import seaborn as sns\n",
    "import sklearn\n",
    "from sklearn.linear_model import LogisticRegression\n",
    "from sklearn.preprocessing import LabelEncoder\n",
    "from sklearn.preprocessing import OneHotEncoder"
   ]
  },
  {
   "cell_type": "markdown",
   "metadata": {},
   "source": [
    "\n",
    "# Functions"
   ]
  },
  {
   "cell_type": "code",
   "execution_count": null,
   "metadata": {},
   "outputs": [],
   "source": [
    "## Function to explain NA values in a column:\n",
    "\n",
    "def NA_values(series):\n",
    "    '''\n",
    "    Function that takes a Pandas Series and returns a print statement explaining NAs and % of the column\n",
    "    '''\n",
    "    \n",
    "    return print(f'Column name: {series.name}\\nTotal values: {int(series.count())}\\nNA values: {series.isna().sum()}\\n% of NA values: {round(series.isna().mean() * 100,2)}%')"
   ]
  },
  {
   "cell_type": "code",
   "execution_count": null,
   "metadata": {},
   "outputs": [],
   "source": [
    "## Function to get the information about the outliers of a column:\n",
    "\n",
    "def iqr(dataset, series):\n",
    "    \"\"\"\n",
    "    Function takes dataset and column and returns the information about the outliers.\n",
    "    Input:\n",
    "        - dataset, e.g. data\n",
    "        - series, e.g. data.Price, important to use this format!\n",
    "    \"\"\"\n",
    "    Q1 = np.percentile(series, 25)\n",
    "    Q3 = np.percentile(series, 75)\n",
    "    IQR = Q3 - Q1\n",
    "\n",
    "    lower = Q1 - 1.5 * IQR\n",
    "    upper = Q3 + 1.5 * IQR\n",
    "    total_outliers = len(dataset.loc[(series > upper) | (series < lower)])\n",
    "    percent_outliers = total_outliers / len(dataset) * 100\n",
    "    \n",
    "    return print(f'Column: {series.name}\\nLower outliers: all values lower than {round(lower, 3)}\\nUpper outliers: all values higher than {round(upper, 3)}\\nTotal number of rows with outliers: {total_outliers}\\n% of outliers: {round(percent_outliers, 2)}%')"
   ]
  },
  {
   "cell_type": "markdown",
   "metadata": {},
   "source": [
    "# Import and Analysis"
   ]
  },
  {
   "cell_type": "code",
   "execution_count": null,
   "metadata": {},
   "outputs": [],
   "source": [
    "original = pd.read_csv('data/online_shoppers_intention_DATAPTDIC19.csv', sep=',', index_col=0)"
   ]
  },
  {
   "cell_type": "code",
   "execution_count": null,
   "metadata": {},
   "outputs": [],
   "source": [
    "data = original.copy()"
   ]
  },
  {
   "cell_type": "code",
   "execution_count": null,
   "metadata": {},
   "outputs": [],
   "source": [
    "data.head()"
   ]
  },
  {
   "cell_type": "code",
   "execution_count": null,
   "metadata": {},
   "outputs": [],
   "source": [
    "data.shape"
   ]
  },
  {
   "cell_type": "code",
   "execution_count": null,
   "metadata": {},
   "outputs": [],
   "source": [
    "data.describe()"
   ]
  },
  {
   "cell_type": "code",
   "execution_count": null,
   "metadata": {},
   "outputs": [],
   "source": [
    "data.info()"
   ]
  },
  {
   "cell_type": "markdown",
   "metadata": {},
   "source": [
    "## Dataset description:\n",
    " - Administrative:`float`. Administrative Value. `yet to identify`.\n",
    " - Administrative_Duration: `object`. Duration in Administrative Page. `Identify values and change dtype accordingly`. \n",
    " - Informational: `float`. Informational Value. `yet to identify` \n",
    " - Informational_Duration: `object`. Duration in Informational Page. `Identify values and change dtype accordingly.`\n",
    " - ProductRelated: `float.` Product Related Value. `yet to identify` \n",
    " - ProductRelated_Duration: `float`. Duration in Product Related Page. \n",
    " - BounceRates: `float`. Bounce Rates of a web page. Percentages. The value of \"Bounce Rate\" feature for a web page refers to the percentage of visitors who enter the site from that page and then leave (\"bounce\") without triggering any other requests to the analytics server during that session. \n",
    " - ExitRates: `float`. Exit rate of a web page. The value of \"Exit Rate\" feature for a specific web page is calculated as for all pageviews to the page, the percentage that were the last in the session. \n",
    " - PageValues: `object`. Page values of each web page. The \"Page Value\" feature represents the average value for a web page that a user visited before completing an e-commerce transaction. `Identify values and change dtype accordingly.` \n",
    " - SpecialDay: Special days like valentine etc. `float`. Closeness to a special date. `dtype correct`. For example, for Valentina’s day, this value takes a nonzero value between February 2 and February 12, zero before and after this date unless it is close to another special day, and its maximum value of 1 on February 8. \n",
    " - Month: Month of the year. `object`. String to identify the month of the year. `clean`. \n",
    " - OperatingSystems: Operating system used. `object`. `Try to explain the values`. \n",
    " - Browser: Browser used. `float` \n",
    " - Region: Region of the user. `object`. \n",
    " - TrafficType: Traffic Type. `float`.  \n",
    " - VisitorType: Types of Visitor `object` \n",
    " - Weekend: Weekend or not `object`, `Identify values and change dtype accordingly`.   \n",
    " - Revenue: Revenue will be generated or not `bool`.\n",
    "     "
   ]
  },
  {
   "cell_type": "markdown",
   "metadata": {},
   "source": [
    "## Data Investigation and Cleaning"
   ]
  },
  {
   "cell_type": "markdown",
   "metadata": {},
   "source": [
    "- **Administrative**\n",
    "    - 999.0 probably move to nan, can't be that visited 999 times the page\n",
    "- **Administrative_Duration**\n",
    "    - change object type to float\n",
    "    - move -99 and -1.0 values to nan\n",
    "- **Informational_Duration**\n",
    "    - change object type to float\n",
    "    - change -1.0 to nan\n",
    "    - change None to nan\n",
    "- **ProductRelated_Duration**\n",
    "    - change -1.0 values to Nan\n",
    "- **Page Values**\n",
    "    - change object type to float\n",
    "    - #Nan change to Nan\n",
    "- **Month**\n",
    "    - change MAY to May and March to Mar\n",
    "- **OperatingSystems**\n",
    "    - change -999 and ? to Nan\n",
    "- **Browser**\n",
    "    - change -1 to Nan or it's a separate category of a browser?\n",
    "- **Region**\n",
    "    - change Nan to np.nan\n",
    "- **VisitorType**\n",
    "    - unify more to other or change both to Nan?\n",
    "- **Weekend**\n",
    "    - change object type to bool\n",
    "    - change weekdays to 0 and 1"
   ]
  },
  {
   "cell_type": "code",
   "execution_count": null,
   "metadata": {},
   "outputs": [],
   "source": [
    "# Show all values of the dataset\n",
    "\n",
    "pd.set_option('display.max_rows', None)\n",
    "pd.set_option('display.max_columns', None)\n",
    "pd.set_option('display.width', None)\n",
    "pd.set_option('display.max_colwidth', -1)"
   ]
  },
  {
   "cell_type": "markdown",
   "metadata": {},
   "source": [
    "### Administrative"
   ]
  },
  {
   "cell_type": "code",
   "execution_count": null,
   "metadata": {},
   "outputs": [],
   "source": [
    "data.Administrative.unique()"
   ]
  },
  {
   "cell_type": "code",
   "execution_count": null,
   "metadata": {},
   "outputs": [],
   "source": [
    "data.Administrative.value_counts()"
   ]
  },
  {
   "cell_type": "code",
   "execution_count": null,
   "metadata": {},
   "outputs": [],
   "source": [
    "data['AnyPage'] = data['Administrative'] + data['Informational'] + data['ProductRelated']"
   ]
  },
  {
   "cell_type": "code",
   "execution_count": null,
   "metadata": {},
   "outputs": [],
   "source": [
    "data['AnyPage'].value_counts(normalize= True).hist(bins=50)"
   ]
  },
  {
   "cell_type": "code",
   "execution_count": null,
   "metadata": {
    "scrolled": true
   },
   "outputs": [],
   "source": [
    "# Checking 999 values\n",
    "\n",
    "data999 = data.loc[data.Administrative == 999.0]\n",
    "print(len(data999))\n",
    "data999"
   ]
  },
  {
   "cell_type": "markdown",
   "metadata": {},
   "source": [
    "- 999.0 probably move to nan, can't be that visited 999 times the page"
   ]
  },
  {
   "cell_type": "code",
   "execution_count": null,
   "metadata": {},
   "outputs": [],
   "source": [
    "# Percenatge of revenue per 999 values:\n",
    "\n",
    "data999.Revenue.value_counts(normalize = True)*100"
   ]
  },
  {
   "cell_type": "markdown",
   "metadata": {},
   "source": [
    "**Changing to Nan:**"
   ]
  },
  {
   "cell_type": "code",
   "execution_count": null,
   "metadata": {},
   "outputs": [],
   "source": [
    "data.Administrative = data.Administrative.replace(999.0, np.nan)"
   ]
  },
  {
   "cell_type": "code",
   "execution_count": null,
   "metadata": {},
   "outputs": [],
   "source": [
    "data.Administrative.value_counts()"
   ]
  },
  {
   "cell_type": "markdown",
   "metadata": {},
   "source": [
    "### Administrative Duration"
   ]
  },
  {
   "cell_type": "code",
   "execution_count": null,
   "metadata": {},
   "outputs": [],
   "source": [
    "data.Administrative_Duration.unique()"
   ]
  },
  {
   "cell_type": "code",
   "execution_count": null,
   "metadata": {
    "scrolled": true
   },
   "outputs": [],
   "source": [
    "data.Administrative_Duration.value_counts()"
   ]
  },
  {
   "cell_type": "code",
   "execution_count": null,
   "metadata": {
    "scrolled": true
   },
   "outputs": [],
   "source": [
    "# Checking negative values (ignoring nans)\n",
    "\n",
    "data_negative = data.loc[data.Administrative_Duration.str.contains('-', na = False)]\n",
    "print(len(data_negative))\n",
    "data_negative"
   ]
  },
  {
   "cell_type": "markdown",
   "metadata": {},
   "source": [
    "- move negative values to nan, can't be duration negative"
   ]
  },
  {
   "cell_type": "code",
   "execution_count": null,
   "metadata": {
    "scrolled": true
   },
   "outputs": [],
   "source": [
    "# Percenatge of revenue per negative values:\n",
    "\n",
    "data_negative.Revenue.value_counts(normalize = True)*100"
   ]
  },
  {
   "cell_type": "markdown",
   "metadata": {},
   "source": [
    "**Changing to Nan:**"
   ]
  },
  {
   "cell_type": "code",
   "execution_count": null,
   "metadata": {},
   "outputs": [],
   "source": [
    "data.Administrative_Duration = data.Administrative_Duration.replace(['-1.0', '-99'], np.nan)"
   ]
  },
  {
   "cell_type": "code",
   "execution_count": null,
   "metadata": {},
   "outputs": [],
   "source": [
    "data.Administrative_Duration.value_counts()"
   ]
  },
  {
   "cell_type": "markdown",
   "metadata": {},
   "source": [
    "### Informational"
   ]
  },
  {
   "cell_type": "code",
   "execution_count": null,
   "metadata": {},
   "outputs": [],
   "source": [
    "data.Informational.unique()"
   ]
  },
  {
   "cell_type": "code",
   "execution_count": null,
   "metadata": {
    "scrolled": true
   },
   "outputs": [],
   "source": [
    "data.Informational.value_counts()"
   ]
  },
  {
   "cell_type": "markdown",
   "metadata": {},
   "source": [
    "### Informational Duration"
   ]
  },
  {
   "cell_type": "code",
   "execution_count": null,
   "metadata": {},
   "outputs": [],
   "source": [
    "data.Informational_Duration.unique()"
   ]
  },
  {
   "cell_type": "code",
   "execution_count": null,
   "metadata": {
    "scrolled": true
   },
   "outputs": [],
   "source": [
    "data.Informational_Duration.value_counts()"
   ]
  },
  {
   "cell_type": "code",
   "execution_count": null,
   "metadata": {
    "scrolled": true
   },
   "outputs": [],
   "source": [
    "# Checking neagitve values\n",
    "\n",
    "data_negative = data.loc[data.Informational_Duration.str.contains('-', na = False)]\n",
    "print(len(data_negative))\n",
    "data_negative"
   ]
  },
  {
   "cell_type": "markdown",
   "metadata": {},
   "source": [
    "- change negative to nan\n",
    "- we have negative values in all 3 columns with duration"
   ]
  },
  {
   "cell_type": "code",
   "execution_count": null,
   "metadata": {},
   "outputs": [],
   "source": [
    "# Percenatge of revenue per negative values:\n",
    "\n",
    "data_negative.Revenue.value_counts(normalize = True)*100"
   ]
  },
  {
   "cell_type": "code",
   "execution_count": null,
   "metadata": {},
   "outputs": [],
   "source": [
    "# checking none values:\n",
    "\n",
    "data_none = data.loc[data.Informational_Duration == 'None']\n",
    "print(len(data_none))\n",
    "data_none"
   ]
  },
  {
   "cell_type": "markdown",
   "metadata": {},
   "source": [
    "- change None values to Nan"
   ]
  },
  {
   "cell_type": "code",
   "execution_count": null,
   "metadata": {},
   "outputs": [],
   "source": [
    "# Percenatge of revenue per none values:\n",
    "\n",
    "data_none.Revenue.value_counts(normalize = True)*100"
   ]
  },
  {
   "cell_type": "markdown",
   "metadata": {},
   "source": [
    "**Changing to Nan:**"
   ]
  },
  {
   "cell_type": "code",
   "execution_count": null,
   "metadata": {},
   "outputs": [],
   "source": [
    "data.Informational_Duration = data.Informational_Duration.replace(['-1.0', 'None'], np.nan)"
   ]
  },
  {
   "cell_type": "code",
   "execution_count": null,
   "metadata": {},
   "outputs": [],
   "source": [
    "data.Informational_Duration.value_counts()"
   ]
  },
  {
   "cell_type": "markdown",
   "metadata": {},
   "source": [
    "### Product Related"
   ]
  },
  {
   "cell_type": "code",
   "execution_count": null,
   "metadata": {},
   "outputs": [],
   "source": [
    "data.ProductRelated.unique()"
   ]
  },
  {
   "cell_type": "code",
   "execution_count": null,
   "metadata": {},
   "outputs": [],
   "source": [
    "data.ProductRelated.value_counts()"
   ]
  },
  {
   "cell_type": "markdown",
   "metadata": {},
   "source": [
    "### Product Related Duration"
   ]
  },
  {
   "cell_type": "code",
   "execution_count": null,
   "metadata": {},
   "outputs": [],
   "source": [
    "data.ProductRelated_Duration.unique()"
   ]
  },
  {
   "cell_type": "code",
   "execution_count": null,
   "metadata": {},
   "outputs": [],
   "source": [
    "data.ProductRelated_Duration.value_counts()"
   ]
  },
  {
   "cell_type": "code",
   "execution_count": null,
   "metadata": {
    "scrolled": true
   },
   "outputs": [],
   "source": [
    "# Checking negative values\n",
    "\n",
    "data_negative = data.loc[data.ProductRelated_Duration < 0]\n",
    "print(len(data_negative))\n",
    "data_negative"
   ]
  },
  {
   "cell_type": "markdown",
   "metadata": {},
   "source": [
    "- change negative values to Nan"
   ]
  },
  {
   "cell_type": "code",
   "execution_count": null,
   "metadata": {},
   "outputs": [],
   "source": [
    "# Percenatge of revenue per negative values:\n",
    "\n",
    "data_negative.Revenue.value_counts(normalize = True)*100"
   ]
  },
  {
   "cell_type": "markdown",
   "metadata": {},
   "source": [
    "**Changing to Nan:**"
   ]
  },
  {
   "cell_type": "code",
   "execution_count": null,
   "metadata": {},
   "outputs": [],
   "source": [
    "data.ProductRelated_Duration = data.ProductRelated_Duration.replace(-1.000000, np.nan)"
   ]
  },
  {
   "cell_type": "code",
   "execution_count": null,
   "metadata": {},
   "outputs": [],
   "source": [
    "data.ProductRelated_Duration.value_counts()"
   ]
  },
  {
   "cell_type": "markdown",
   "metadata": {},
   "source": [
    "### Bounce Rates"
   ]
  },
  {
   "cell_type": "code",
   "execution_count": null,
   "metadata": {},
   "outputs": [],
   "source": [
    "data.BounceRates.unique()"
   ]
  },
  {
   "cell_type": "code",
   "execution_count": null,
   "metadata": {},
   "outputs": [],
   "source": [
    "data.BounceRates.value_counts()"
   ]
  },
  {
   "cell_type": "markdown",
   "metadata": {},
   "source": [
    "### Exit Rates"
   ]
  },
  {
   "cell_type": "code",
   "execution_count": null,
   "metadata": {},
   "outputs": [],
   "source": [
    "data.ExitRates.unique()"
   ]
  },
  {
   "cell_type": "code",
   "execution_count": null,
   "metadata": {},
   "outputs": [],
   "source": [
    "data.ExitRates.value_counts()"
   ]
  },
  {
   "cell_type": "markdown",
   "metadata": {},
   "source": [
    "### Page Values"
   ]
  },
  {
   "cell_type": "code",
   "execution_count": null,
   "metadata": {},
   "outputs": [],
   "source": [
    "data.PageValues.unique()"
   ]
  },
  {
   "cell_type": "code",
   "execution_count": null,
   "metadata": {},
   "outputs": [],
   "source": [
    "data.PageValues.value_counts()"
   ]
  },
  {
   "cell_type": "code",
   "execution_count": null,
   "metadata": {
    "scrolled": true
   },
   "outputs": [],
   "source": [
    "# Checking #Nan values\n",
    "\n",
    "data_nan = data.loc[data.PageValues == '#Nan']\n",
    "print(len(data_nan))\n",
    "data_nan"
   ]
  },
  {
   "cell_type": "markdown",
   "metadata": {},
   "source": [
    "- #Nan change to Nan"
   ]
  },
  {
   "cell_type": "code",
   "execution_count": null,
   "metadata": {},
   "outputs": [],
   "source": [
    "# Percenatge of revenue per #Nan values:\n",
    "\n",
    "data_nan.Revenue.value_counts(normalize = True)*100"
   ]
  },
  {
   "cell_type": "markdown",
   "metadata": {},
   "source": [
    "**Changing to Nan:**"
   ]
  },
  {
   "cell_type": "code",
   "execution_count": null,
   "metadata": {},
   "outputs": [],
   "source": [
    "data.PageValues = data.PageValues.replace('#Nan', np.nan)"
   ]
  },
  {
   "cell_type": "code",
   "execution_count": null,
   "metadata": {},
   "outputs": [],
   "source": [
    "data.ProductRelated_Duration.value_counts()"
   ]
  },
  {
   "cell_type": "markdown",
   "metadata": {},
   "source": [
    "### Special Day"
   ]
  },
  {
   "cell_type": "code",
   "execution_count": null,
   "metadata": {},
   "outputs": [],
   "source": [
    "data.SpecialDay.unique()"
   ]
  },
  {
   "cell_type": "code",
   "execution_count": null,
   "metadata": {},
   "outputs": [],
   "source": [
    "data.SpecialDay.value_counts()"
   ]
  },
  {
   "cell_type": "markdown",
   "metadata": {},
   "source": [
    "### Month"
   ]
  },
  {
   "cell_type": "code",
   "execution_count": null,
   "metadata": {},
   "outputs": [],
   "source": [
    "data.Month.unique()"
   ]
  },
  {
   "cell_type": "code",
   "execution_count": null,
   "metadata": {},
   "outputs": [],
   "source": [
    "data.Month.value_counts()"
   ]
  },
  {
   "cell_type": "markdown",
   "metadata": {},
   "source": [
    "- change MAY to May and march to Mar"
   ]
  },
  {
   "cell_type": "code",
   "execution_count": null,
   "metadata": {},
   "outputs": [],
   "source": [
    "data.Month = data.Month.str.replace('MAY', 'May').str.replace('March', 'Mar')"
   ]
  },
  {
   "cell_type": "code",
   "execution_count": null,
   "metadata": {},
   "outputs": [],
   "source": [
    "data.Month.unique()"
   ]
  },
  {
   "cell_type": "markdown",
   "metadata": {},
   "source": [
    "### Operating Systems"
   ]
  },
  {
   "cell_type": "code",
   "execution_count": null,
   "metadata": {},
   "outputs": [],
   "source": [
    "data.OperatingSystems.unique()"
   ]
  },
  {
   "cell_type": "code",
   "execution_count": null,
   "metadata": {},
   "outputs": [],
   "source": [
    "data.OperatingSystems.value_counts()"
   ]
  },
  {
   "cell_type": "code",
   "execution_count": null,
   "metadata": {
    "scrolled": true
   },
   "outputs": [],
   "source": [
    "# Checking -999 values\n",
    "\n",
    "data999 = data.loc[data.OperatingSystems == '-999']\n",
    "print(len(data999))\n",
    "data999"
   ]
  },
  {
   "cell_type": "markdown",
   "metadata": {},
   "source": [
    "- change -999 to Nan, also Browser is Nan when Operating systems is -999"
   ]
  },
  {
   "cell_type": "code",
   "execution_count": null,
   "metadata": {},
   "outputs": [],
   "source": [
    "# Percenatge of revenue per -999 values:\n",
    "\n",
    "data999.Revenue.value_counts(normalize = True)*100"
   ]
  },
  {
   "cell_type": "code",
   "execution_count": null,
   "metadata": {
    "scrolled": true
   },
   "outputs": [],
   "source": [
    "# Checking ? values\n",
    "\n",
    "data_quest = data.loc[data.OperatingSystems == '?']\n",
    "print(len(data_quest))\n",
    "data_quest"
   ]
  },
  {
   "cell_type": "markdown",
   "metadata": {},
   "source": [
    "- change ? to Nan"
   ]
  },
  {
   "cell_type": "markdown",
   "metadata": {},
   "source": [
    "**Changing to Nan:**"
   ]
  },
  {
   "cell_type": "code",
   "execution_count": null,
   "metadata": {},
   "outputs": [],
   "source": [
    "data.OperatingSystems = data.OperatingSystems.replace(['-999', '?'], np.nan)"
   ]
  },
  {
   "cell_type": "code",
   "execution_count": null,
   "metadata": {},
   "outputs": [],
   "source": [
    "data.OperatingSystems.unique()"
   ]
  },
  {
   "cell_type": "markdown",
   "metadata": {},
   "source": [
    "### Browser"
   ]
  },
  {
   "cell_type": "code",
   "execution_count": null,
   "metadata": {},
   "outputs": [],
   "source": [
    "data.Browser.unique()"
   ]
  },
  {
   "cell_type": "code",
   "execution_count": null,
   "metadata": {},
   "outputs": [],
   "source": [
    "data.Browser.value_counts()"
   ]
  },
  {
   "cell_type": "code",
   "execution_count": null,
   "metadata": {
    "scrolled": true
   },
   "outputs": [],
   "source": [
    "# Checking negative values\n",
    "\n",
    "data_negative = data.loc[data.Browser < 0]\n",
    "print(len(data_negative))\n",
    "data_negative"
   ]
  },
  {
   "cell_type": "markdown",
   "metadata": {},
   "source": [
    "- change -1 to Nan or it's a separate category of a browser?"
   ]
  },
  {
   "cell_type": "code",
   "execution_count": null,
   "metadata": {},
   "outputs": [],
   "source": [
    "# Percenatge of revenue per negative values:\n",
    "\n",
    "data_negative.Revenue.value_counts(normalize = True)*100"
   ]
  },
  {
   "cell_type": "markdown",
   "metadata": {},
   "source": [
    "**Changing to Nan:**"
   ]
  },
  {
   "cell_type": "code",
   "execution_count": null,
   "metadata": {},
   "outputs": [],
   "source": [
    "data.Browser = data.Browser.replace(-1.0, np.nan)"
   ]
  },
  {
   "cell_type": "code",
   "execution_count": null,
   "metadata": {},
   "outputs": [],
   "source": [
    "data.Browser.unique()"
   ]
  },
  {
   "cell_type": "markdown",
   "metadata": {},
   "source": [
    "### Region"
   ]
  },
  {
   "cell_type": "code",
   "execution_count": null,
   "metadata": {},
   "outputs": [],
   "source": [
    "data.Region.unique()"
   ]
  },
  {
   "cell_type": "code",
   "execution_count": null,
   "metadata": {},
   "outputs": [],
   "source": [
    "data.Region.value_counts()"
   ]
  },
  {
   "cell_type": "code",
   "execution_count": null,
   "metadata": {
    "scrolled": true
   },
   "outputs": [],
   "source": [
    "# Checking Nan values\n",
    "\n",
    "data_nan = data.loc[data.Region == 'Nan']\n",
    "print(len(data_nan))\n",
    "data_nan"
   ]
  },
  {
   "cell_type": "markdown",
   "metadata": {},
   "source": [
    "- change Nan to np.nan"
   ]
  },
  {
   "cell_type": "code",
   "execution_count": null,
   "metadata": {},
   "outputs": [],
   "source": [
    "# Percenatge of revenue per Nan values:\n",
    "\n",
    "data_nan.Revenue.value_counts(normalize = True)*100"
   ]
  },
  {
   "cell_type": "markdown",
   "metadata": {},
   "source": [
    "**Changing to Nan:**"
   ]
  },
  {
   "cell_type": "code",
   "execution_count": null,
   "metadata": {},
   "outputs": [],
   "source": [
    "data.Region = data.Region.replace('Nan', np.nan)"
   ]
  },
  {
   "cell_type": "code",
   "execution_count": null,
   "metadata": {},
   "outputs": [],
   "source": [
    "data.Region.value_counts()"
   ]
  },
  {
   "cell_type": "markdown",
   "metadata": {},
   "source": [
    "### Traffic type"
   ]
  },
  {
   "cell_type": "code",
   "execution_count": null,
   "metadata": {},
   "outputs": [],
   "source": [
    "data.TrafficType.unique()"
   ]
  },
  {
   "cell_type": "code",
   "execution_count": null,
   "metadata": {},
   "outputs": [],
   "source": [
    "data.TrafficType.value_counts()"
   ]
  },
  {
   "cell_type": "markdown",
   "metadata": {},
   "source": [
    "### Visitor Type"
   ]
  },
  {
   "cell_type": "code",
   "execution_count": null,
   "metadata": {},
   "outputs": [],
   "source": [
    "data.VisitorType.unique()"
   ]
  },
  {
   "cell_type": "code",
   "execution_count": null,
   "metadata": {},
   "outputs": [],
   "source": [
    "data.VisitorType.value_counts()"
   ]
  },
  {
   "cell_type": "code",
   "execution_count": null,
   "metadata": {
    "scrolled": true
   },
   "outputs": [],
   "source": [
    "# Checking More and Other values\n",
    "\n",
    "data_other = data.loc[(data.VisitorType == 'More') | (data.VisitorType == 'Other')]\n",
    "print(len(data_other))\n",
    "data_other"
   ]
  },
  {
   "cell_type": "markdown",
   "metadata": {},
   "source": [
    "- unify more to other or change both to Nan?"
   ]
  },
  {
   "cell_type": "code",
   "execution_count": null,
   "metadata": {},
   "outputs": [],
   "source": [
    "# Percenatge of revenue per more/other values:\n",
    "\n",
    "data_other.Revenue.value_counts(normalize = True)*100"
   ]
  },
  {
   "cell_type": "code",
   "execution_count": null,
   "metadata": {},
   "outputs": [],
   "source": [
    "data.VisitorType = data.VisitorType.str.replace('More', 'Other').fillna('Other')"
   ]
  },
  {
   "cell_type": "markdown",
   "metadata": {},
   "source": [
    "**Changing to Nan:**"
   ]
  },
  {
   "cell_type": "code",
   "execution_count": null,
   "metadata": {},
   "outputs": [],
   "source": [
    "data.VisitorType = data.VisitorType.replace('Other', np.nan)"
   ]
  },
  {
   "cell_type": "code",
   "execution_count": null,
   "metadata": {},
   "outputs": [],
   "source": [
    "data.VisitorType.value_counts(normalize = True)*100"
   ]
  },
  {
   "cell_type": "markdown",
   "metadata": {},
   "source": [
    "### Weekend"
   ]
  },
  {
   "cell_type": "code",
   "execution_count": null,
   "metadata": {},
   "outputs": [],
   "source": [
    "data.Weekend.unique()"
   ]
  },
  {
   "cell_type": "code",
   "execution_count": null,
   "metadata": {},
   "outputs": [],
   "source": [
    "data.Weekend.value_counts()"
   ]
  },
  {
   "cell_type": "code",
   "execution_count": null,
   "metadata": {
    "scrolled": true
   },
   "outputs": [],
   "source": [
    "# Checking values other than 0 and 1 values\n",
    "\n",
    "data_week = data[data.Weekend.isin(['Monday', 'Sunday', 'Tuesday', 'Friday'])]\n",
    "print(len(data_week))\n",
    "data_week"
   ]
  },
  {
   "cell_type": "markdown",
   "metadata": {},
   "source": [
    "- change weekdays to 0 and 1"
   ]
  },
  {
   "cell_type": "code",
   "execution_count": null,
   "metadata": {},
   "outputs": [],
   "source": [
    "# Percenatge of revenue per weekdays values:\n",
    "\n",
    "data_week.Revenue.value_counts(normalize = True)*100"
   ]
  },
  {
   "cell_type": "code",
   "execution_count": null,
   "metadata": {},
   "outputs": [],
   "source": [
    "data.Weekend = data.Weekend.replace({'Tuesday' : '0.0', 'Monday': '0.0', 'Friday': '0.0', 'Sunday': '1.0'})"
   ]
  },
  {
   "cell_type": "code",
   "execution_count": null,
   "metadata": {},
   "outputs": [],
   "source": [
    "data.Weekend.value_counts()"
   ]
  },
  {
   "cell_type": "markdown",
   "metadata": {},
   "source": [
    "### Revenue"
   ]
  },
  {
   "cell_type": "code",
   "execution_count": null,
   "metadata": {},
   "outputs": [],
   "source": [
    "data.Revenue.unique()"
   ]
  },
  {
   "cell_type": "code",
   "execution_count": null,
   "metadata": {},
   "outputs": [],
   "source": [
    "data.Revenue.value_counts()"
   ]
  },
  {
   "cell_type": "code",
   "execution_count": null,
   "metadata": {},
   "outputs": [],
   "source": [
    "# Checking the % of value counts\n",
    "\n",
    "data.Revenue.value_counts(normalize = True)*100"
   ]
  },
  {
   "cell_type": "markdown",
   "metadata": {},
   "source": [
    "### Data Types"
   ]
  },
  {
   "cell_type": "code",
   "execution_count": null,
   "metadata": {},
   "outputs": [],
   "source": [
    "data.info()"
   ]
  },
  {
   "cell_type": "code",
   "execution_count": null,
   "metadata": {},
   "outputs": [],
   "source": [
    "# Converting to appropriate data types\n",
    "\n",
    "to_object = ['Month', 'OperatingSystems', 'Browser', 'Region', 'TrafficType', 'VisitorType', \n",
    "             'Weekend', 'Revenue']\n",
    "\n",
    "to_float = ['Administrative', 'Administrative_Duration', 'Informational', 'Informational_Duration', 'ProductRelated', \n",
    "            'ProductRelated_Duration', 'BounceRates', 'ExitRates', 'PageValues', 'SpecialDay', \n",
    "            'AnyPage']\n",
    "\n",
    "data[to_object] = data[to_object].astype('object')\n",
    "\n",
    "data[to_float] = data[to_float].apply(pd.to_numeric, errors='coerce')"
   ]
  },
  {
   "cell_type": "code",
   "execution_count": null,
   "metadata": {},
   "outputs": [],
   "source": [
    "data.info()"
   ]
  },
  {
   "cell_type": "code",
   "execution_count": null,
   "metadata": {},
   "outputs": [],
   "source": [
    "# clean data (no errors, correct data types, with NaNs)\n",
    "\n",
    "clean = data.copy()"
   ]
  },
  {
   "cell_type": "code",
   "execution_count": null,
   "metadata": {},
   "outputs": [],
   "source": [
    "clean.info()"
   ]
  },
  {
   "cell_type": "markdown",
   "metadata": {},
   "source": [
    "## Data visualization"
   ]
  },
  {
   "cell_type": "code",
   "execution_count": null,
   "metadata": {},
   "outputs": [],
   "source": [
    "cols = clean[to_object].columns"
   ]
  },
  {
   "cell_type": "code",
   "execution_count": null,
   "metadata": {},
   "outputs": [],
   "source": [
    "fig, axes = plt.subplots(nrows=4, ncols=2, figsize=(20,20))\n",
    "fig.subplots_adjust(hspace=0.5)\n",
    "for ax, col in zip(axes.flatten(), cols):\n",
    "    sns.countplot(data=clean, x=col, hue='Revenue', ax=ax)\n",
    "    \n",
    "# poner titulos\n",
    "# todo tiene la misma distribucion comparando a revenue (will learn how to equilibrar) en los modelos cargar con y sin\n",
    "# hay que stratificar\n",
    "# hay que buscar mas que 80\n",
    "# mnimizar parametros en confusion matrix, minimzar los falsos positivos\n",
    "\n",
    "# do feature engineering \n",
    "# hacer downsampling\n",
    "\n",
    "# model first with parametros por defecto\n",
    "# hypertuning, probar muchos modelos, diferentes parametros\n",
    "# elegir medida de error, buscar mas comunes para esta problema, check other kernels, projects\n",
    "# repartir tres modelos cada uno\n",
    "# can do loop to try different modelos"
   ]
  },
  {
   "cell_type": "code",
   "execution_count": null,
   "metadata": {},
   "outputs": [],
   "source": [
    "numeric_columns = list(clean.select_dtypes(include='float64').columns)"
   ]
  },
  {
   "cell_type": "code",
   "execution_count": null,
   "metadata": {},
   "outputs": [],
   "source": [
    "fig, axes = plt.subplots(nrows=4, ncols=2, figsize=(20,20))\n",
    "fig.subplots_adjust(hspace=0.5)\n",
    "for ax, col in zip(axes.flatten(), numeric_columns):\n",
    "    sns.boxplot(data=clean, x=col, hue='Revenue', ax=ax)\n",
    "    #sns.swarmplot(data=clean.Revenue, x=col, ax=ax) #put revenue con True\n",
    "    \n",
    "# How to have hue in outliers?"
   ]
  },
  {
   "cell_type": "markdown",
   "metadata": {},
   "source": [
    "## Data Transformation"
   ]
  },
  {
   "cell_type": "markdown",
   "metadata": {},
   "source": [
    "### Transforming columns"
   ]
  },
  {
   "cell_type": "code",
   "execution_count": null,
   "metadata": {},
   "outputs": [],
   "source": [
    "# Adding a column from VisitorType transforming it's content into boolean: 1 is_returning, 0 is_new\n",
    "\n",
    "clean['Visitor_isReturning'] = clean['VisitorType'].replace('Returning_Visitor', 1).replace('New_Visitor', 0)"
   ]
  },
  {
   "cell_type": "markdown",
   "metadata": {},
   "source": [
    "- We can see in the visualization part that some of our principal dataset columns such as Operating Systems, Browser and TrafficType doesn't contain much information:\n",
    "\n",
    "\n",
    "      - Operating Systems: 5-8 values don't give much information, there is no relation to Revenue True. \n",
    "      Change 5,6,7,8 to another category called 'other'.\n",
    "  \n",
    "  \n",
    "      - Browser: Values 3, 7, 9, 11, 12, 13 change to 'other' category.\n",
    "  \n",
    "  \n",
    "      - Traffic Type: 7, 12 and 14 to 19 change to 'other' category. "
   ]
  },
  {
   "cell_type": "markdown",
   "metadata": {},
   "source": [
    "**First of all, we are going to make a copy of the dataset via the .copy() method to ensure that the original DataFrame stays intact.**"
   ]
  },
  {
   "cell_type": "code",
   "execution_count": null,
   "metadata": {},
   "outputs": [],
   "source": [
    "clean_datatransf = clean.copy()"
   ]
  },
  {
   "cell_type": "code",
   "execution_count": null,
   "metadata": {},
   "outputs": [],
   "source": [
    "clean_datatransf.head()"
   ]
  },
  {
   "cell_type": "markdown",
   "metadata": {},
   "source": [
    "#### Operating Systems"
   ]
  },
  {
   "cell_type": "markdown",
   "metadata": {},
   "source": [
    "    In Python, it's a good practice to typecast categorical features to a category dtype because they make the operations on such columns much faster than the object dtype"
   ]
  },
  {
   "cell_type": "code",
   "execution_count": null,
   "metadata": {},
   "outputs": [],
   "source": [
    "clean_datatransf['OperatingSystems'] = clean_datatransf['OperatingSystems'].astype('category')"
   ]
  },
  {
   "cell_type": "code",
   "execution_count": null,
   "metadata": {},
   "outputs": [],
   "source": [
    "clean_datatransf.OperatingSystems.dtypes"
   ]
  },
  {
   "cell_type": "markdown",
   "metadata": {},
   "source": [
    "    Let's apply a lambda function to classify our relevant values. After the visualization we can see that in Operating Systems we have categorical variables with few values and it's possible to reagrupate these values in a categorical variable called 'other'"
   ]
  },
  {
   "cell_type": "code",
   "execution_count": null,
   "metadata": {},
   "outputs": [],
   "source": [
    "op_no_relevant_values = [5,6,7,8]"
   ]
  },
  {
   "cell_type": "code",
   "execution_count": null,
   "metadata": {},
   "outputs": [],
   "source": [
    "clean_datatransf.OperatingSystems.apply(lambda x: 'other' if x in op_no_relevant_values else x)"
   ]
  },
  {
   "cell_type": "markdown",
   "metadata": {},
   "source": [
    "        Applying a lambda function, we can see the 'other' values. If we do a .value_counts() can certify that our values are the same values than before. So, we are maintaining the data but with a better classification."
   ]
  },
  {
   "cell_type": "code",
   "execution_count": null,
   "metadata": {},
   "outputs": [],
   "source": [
    "clean_datatransf.OperatingSystems.value_counts()"
   ]
  },
  {
   "cell_type": "markdown",
   "metadata": {},
   "source": [
    "        We can apply the same reasoning for the other categorical columns we want to transform"
   ]
  },
  {
   "cell_type": "markdown",
   "metadata": {},
   "source": [
    "#### Browser"
   ]
  },
  {
   "cell_type": "code",
   "execution_count": null,
   "metadata": {},
   "outputs": [],
   "source": [
    "clean_datatransf['Browser'] = clean_datatransf['Browser'].astype('category')"
   ]
  },
  {
   "cell_type": "code",
   "execution_count": null,
   "metadata": {},
   "outputs": [],
   "source": [
    "clean_datatransf.Browser.dtypes"
   ]
  },
  {
   "cell_type": "code",
   "execution_count": null,
   "metadata": {},
   "outputs": [],
   "source": [
    "brwsr_no_relevant_values = [3,7,9,11,12,13]"
   ]
  },
  {
   "cell_type": "code",
   "execution_count": null,
   "metadata": {},
   "outputs": [],
   "source": [
    "clean_datatransf.Browser.apply(lambda x: 'other' if x in brwsr_no_relevant_values else x)"
   ]
  },
  {
   "cell_type": "markdown",
   "metadata": {},
   "source": [
    "#### Traffic Type"
   ]
  },
  {
   "cell_type": "code",
   "execution_count": null,
   "metadata": {},
   "outputs": [],
   "source": [
    "clean_datatransf['TrafficType'] = clean_datatransf['TrafficType'].astype('category')"
   ]
  },
  {
   "cell_type": "code",
   "execution_count": null,
   "metadata": {},
   "outputs": [],
   "source": [
    "clean_datatransf.TrafficType.dtypes"
   ]
  },
  {
   "cell_type": "code",
   "execution_count": null,
   "metadata": {},
   "outputs": [],
   "source": [
    "ttype_no_relevant_values = [7,12,14,15,16,17,18,19]"
   ]
  },
  {
   "cell_type": "code",
   "execution_count": null,
   "metadata": {},
   "outputs": [],
   "source": [
    "clean_datatransf.TrafficType.apply(lambda x: 'other' if x in ttype_no_relevant_values else x)"
   ]
  },
  {
   "cell_type": "markdown",
   "metadata": {},
   "source": [
    "### Data encoding"
   ]
  },
  {
   "cell_type": "code",
   "execution_count": null,
   "metadata": {},
   "outputs": [],
   "source": [
    "# Filling missing values with ffill\n",
    "\n",
    "clean_no_nan = clean.fillna(method='ffill').copy()"
   ]
  },
  {
   "cell_type": "code",
   "execution_count": null,
   "metadata": {},
   "outputs": [],
   "source": [
    "# LABEL ENCODING: revenue and weekend to 0 and 1\n",
    "\n",
    "# creating instance of labelencoder\n",
    "labelencoder = LabelEncoder()\n",
    "\n",
    "# Assigning numerical values and storing in another column\n",
    "\n",
    "cols_label_enc = ['Revenue', 'Weekend']\n",
    "\n",
    "for col in cols_label_enc:\n",
    "    clean_no_nan[col+'_enc'] = labelencoder.fit_transform(clean_no_nan[col])"
   ]
  },
  {
   "cell_type": "code",
   "execution_count": null,
   "metadata": {},
   "outputs": [],
   "source": [
    "clean_no_nan.head()"
   ]
  },
  {
   "cell_type": "code",
   "execution_count": null,
   "metadata": {},
   "outputs": [],
   "source": [
    "# ONE HOT ENCODING for Month, OperatingSystems and Region\n",
    "\n",
    "appended_dfs = []\n",
    "\n",
    "columns = ['Month', 'OperatingSystems', 'Region']\n",
    "\n",
    "for col in columns:\n",
    "    # Creating instance of one-hot-encoder\n",
    "    enc = OneHotEncoder(handle_unknown='ignore')\n",
    "    # Passing columns\n",
    "    enc_df = pd.DataFrame(enc.fit_transform(clean_no_nan[[col]]).toarray())\n",
    "    # Getting values for the names of the columns\n",
    "    enc_df.columns = enc.get_feature_names()+col\n",
    "    # Appenign all new dfs to one list\n",
    "    appended_dfs.append(enc_df)\n",
    "# mergeing with main df\n",
    "df_encoded = clean_no_nan.join(appended_dfs) \n",
    "df_encoded.head()"
   ]
  },
  {
   "cell_type": "code",
   "execution_count": null,
   "metadata": {},
   "outputs": [],
   "source": [
    "df_encoded.info()"
   ]
  },
  {
   "cell_type": "markdown",
   "metadata": {},
   "source": [
    "## Missing Values"
   ]
  },
  {
   "cell_type": "code",
   "execution_count": null,
   "metadata": {},
   "outputs": [],
   "source": [
    "# already used it above\n",
    "\n",
    "clean_no_nan = clean.fillna(method='ffill').copy()"
   ]
  },
  {
   "cell_type": "code",
   "execution_count": null,
   "metadata": {},
   "outputs": [],
   "source": []
  },
  {
   "cell_type": "markdown",
   "metadata": {},
   "source": [
    "## Correlation"
   ]
  },
  {
   "cell_type": "code",
   "execution_count": null,
   "metadata": {},
   "outputs": [],
   "source": [
    "sns.set(style=\"white\")\n",
    "\n",
    "# Generate a mask for the upper triangle\n",
    "mask = np.triu(np.ones_like(clean_no_nan.corr(), dtype=np.bool))\n",
    "\n",
    "# Set up the matplotlib figure\n",
    "f, ax = plt.subplots(figsize=(16, 12))\n",
    "\n",
    "# Generate a custom diverging colormap\n",
    "cmap = sns.diverging_palette(220, 10, as_cmap=True)\n",
    "\n",
    "# Draw the heatmap with the mask and correct aspect ratio\n",
    "sns.heatmap(clean_no_nan.corr(), mask=mask, cmap=cmap, vmax=.9, center=0,\n",
    "            square=True, linewidths=.5, annot = True, cbar_kws={\"shrink\": .5})\n",
    "\n",
    "plt.show()"
   ]
  },
  {
   "cell_type": "code",
   "execution_count": null,
   "metadata": {},
   "outputs": [],
   "source": [
    "# print(f\"After filling the NaN values, we can observe that our correlations vary in a {round(clean.corr()['Revenue'].sort_values(ascending=False) - clean_no_nan.corr()['Revenue'].sort_values(ascending=False), 3).sum() * 100}%\")"
   ]
  },
  {
   "cell_type": "code",
   "execution_count": null,
   "metadata": {},
   "outputs": [],
   "source": [
    "clean.corr()['Revenue'].sort_values(ascending=False)"
   ]
  },
  {
   "cell_type": "markdown",
   "metadata": {},
   "source": [
    "### Correlation insights:"
   ]
  },
  {
   "cell_type": "markdown",
   "metadata": {},
   "source": [
    "Make new column synthetizing the values of the non-correlated columns"
   ]
  },
  {
   "cell_type": "markdown",
   "metadata": {},
   "source": [
    "# Individual work to organize"
   ]
  },
  {
   "cell_type": "markdown",
   "metadata": {},
   "source": [
    "### Administrative_duration"
   ]
  },
  {
   "cell_type": "markdown",
   "metadata": {},
   "source": [
    "- Data type: Categorical, ´object´. Necessary change to float.\n",
    "- There are some values with multiple dots. Necessary to delete these dots.\n",
    "- Missing Values: There are 14 missing values, which is 0.11% out of all data. Will fill this cells with median\n",
    "- 47.5% of sessions are coming from the category 0.0 of the Administrative_Duration"
   ]
  },
  {
   "cell_type": "code",
   "execution_count": null,
   "metadata": {},
   "outputs": [],
   "source": [
    "# Missing values\n",
    "\n",
    "NA_values(data.Administrative_Duration)"
   ]
  },
  {
   "cell_type": "code",
   "execution_count": null,
   "metadata": {},
   "outputs": [],
   "source": [
    "# Fixing problems\n",
    "# Drop dots from cells\n"
   ]
  },
  {
   "cell_type": "code",
   "execution_count": null,
   "metadata": {},
   "outputs": [],
   "source": [
    "# Distribution\n",
    "\n",
    "print(data.Administrative_Duration.value_counts())\n",
    "\n",
    "plt.style.use('seaborn')\n",
    "fig, ax = plt.subplots(1, figsize=(8,6))\n",
    "ax1 = data.Informational.hist()\n",
    "plt.title(\"Administrative Duration - distribution\")\n",
    "plt.show()\n"
   ]
  },
  {
   "cell_type": "code",
   "execution_count": null,
   "metadata": {},
   "outputs": [],
   "source": [
    "percent_info_0 = data.Administrative_Duration.value_counts()[0]/len(data)*100  \n",
    "print(f'% of sessions in the category 0.0 of the Administrative_Duration pages: {round(percent_info_0,1)}')"
   ]
  },
  {
   "cell_type": "markdown",
   "metadata": {},
   "source": [
    "### BounceRates"
   ]
  },
  {
   "cell_type": "markdown",
   "metadata": {
    "ExecuteTime": {
     "end_time": "2020-04-22T18:47:04.610250Z",
     "start_time": "2020-04-22T18:47:04.600884Z"
    }
   },
   "source": [
    "- Data type: Numerical, ‘float‘. Dtype change not necessary.\n",
    "- Missing Values: There are 14 missing values, which is 0.11% out of all data. Will fill this cells with median\n",
    "- 44.7% of sessions are coming from the category 0.0 of the BounceRates"
   ]
  },
  {
   "cell_type": "code",
   "execution_count": null,
   "metadata": {},
   "outputs": [],
   "source": [
    "# Missing values\n",
    "\n",
    "NA_values(data.BounceRates)"
   ]
  },
  {
   "cell_type": "code",
   "execution_count": null,
   "metadata": {},
   "outputs": [],
   "source": [
    "# Distribution\n",
    "\n",
    "print(data.BounceRates.value_counts())\n",
    "\n",
    "plt.style.use('seaborn')\n",
    "fig, ax = plt.subplots(1, figsize=(8,6))\n",
    "ax1 = data.Informational.hist()\n",
    "plt.title(\"BounceRates - distribution\")\n",
    "plt.show()"
   ]
  },
  {
   "cell_type": "code",
   "execution_count": null,
   "metadata": {},
   "outputs": [],
   "source": [
    "percent_info_0 = data.BounceRates.value_counts()[0]/len(data)*100  \n",
    "print(f'% of sessions in the category 0.0 of the BounceRates pages: {round(percent_info_0,1)}')"
   ]
  },
  {
   "cell_type": "markdown",
   "metadata": {},
   "source": [
    "### OperatingSystems"
   ]
  },
  {
   "cell_type": "code",
   "execution_count": null,
   "metadata": {},
   "outputs": [],
   "source": [
    "# checking the no. of OSes each user is having??"
   ]
  },
  {
   "cell_type": "markdown",
   "metadata": {
    "ExecuteTime": {
     "end_time": "2020-04-22T18:47:26.026307Z",
     "start_time": "2020-04-22T18:47:26.020195Z"
    }
   },
   "source": [
    "- Data type: Numerical, ‘float‘. Dtype change not necessary.\n",
    "- Missing Values: There are 1 missing values, which is 0.01% out of all data. Will fill this cell with median\n",
    "- 53.4% of sessions are coming from the category 2.0 of the OperatingSystems"
   ]
  },
  {
   "cell_type": "code",
   "execution_count": null,
   "metadata": {},
   "outputs": [],
   "source": [
    "# Missing values\n",
    "\n",
    "NA_values(data.OperatingSystems)"
   ]
  },
  {
   "cell_type": "code",
   "execution_count": null,
   "metadata": {},
   "outputs": [],
   "source": [
    "# transform 999 and ? to NaN\n",
    "\n",
    "data.OperatingSystems.fillna(method= 'ffill')"
   ]
  },
  {
   "cell_type": "code",
   "execution_count": null,
   "metadata": {},
   "outputs": [],
   "source": [
    "print(data.OperatingSystems.value_counts())\n",
    "\n",
    "plt.style.use('seaborn')\n",
    "fig, ax = plt.subplots(1, figsize=(8,6))\n",
    "ax1 = data.Informational.hist()\n",
    "plt.title(\"OperatingSystems - distribution\")\n",
    "plt.show()"
   ]
  },
  {
   "cell_type": "code",
   "execution_count": null,
   "metadata": {},
   "outputs": [],
   "source": [
    "percent_info_2 = data.OperatingSystems.value_counts()[2]/len(data)*100  \n",
    "print(f'% of sessions in the category 2.0 of the OperatingSystems pages: {round(percent_info_2,1)}')"
   ]
  },
  {
   "cell_type": "markdown",
   "metadata": {},
   "source": [
    "### Weekend"
   ]
  },
  {
   "cell_type": "markdown",
   "metadata": {},
   "source": [
    "- Data type: Bool. Dtype change not necessary.\n",
    "- Missing Values: There are no missing values.\n",
    "- 76.7% of sessions are coming from the category False of the Weekend"
   ]
  },
  {
   "cell_type": "code",
   "execution_count": null,
   "metadata": {},
   "outputs": [],
   "source": [
    "# Missing values\n",
    "\n",
    "NA_values(data.Weekend)"
   ]
  },
  {
   "cell_type": "code",
   "execution_count": null,
   "metadata": {},
   "outputs": [],
   "source": [
    "print(data.Weekend.value_counts())\n",
    "\n",
    "plt.style.use('seaborn')\n",
    "fig, ax = plt.subplots(1, figsize=(8,6))\n",
    "ax = data.Informational.hist()\n",
    "plt.title(\"Weekend - distribution\")\n",
    "plt.show()"
   ]
  },
  {
   "cell_type": "code",
   "execution_count": null,
   "metadata": {},
   "outputs": [],
   "source": [
    "percent_info_false = data.Weekend.value_counts()[0]/len(data)*100  \n",
    "print(f'% of sessions in the category False of the Weekend pages, not in weekend: {round(percent_info_0,1)}')"
   ]
  },
  {
   "cell_type": "markdown",
   "metadata": {},
   "source": [
    "### Kristina:\n",
    "\n",
    " - **Informational**\n",
    "  - Data type: Categorical, float. No changes\n",
    "  - Missing Values: There are 14 missing values, which is 0.11% out of all data. It will be interpolated via a ffill, in order to preserve the actual distribution of the values.\n",
    "  - 78.7% of sessions are coming from the category 0.0 of the Informational pages\n",
    "  - No other changes are needed\n",
    " - **ExitRates**\n",
    "  - Data type: Numerical, float. No changes\n",
    "  - Missing Values: There are 14 missing values, which is 0.11% out of all data. It will be filled with the median\n",
    "  - Outliers: There are 1094 outliers, which is 8.87% of all data. The majority of the outliers are falling under the FALSE revenue category and under the 0.2 value of the Exit rates. Additional column will be created to be able to filter out the outliers if needed: exitrates_outliers (boolean values).\n",
    " - **Browser**\n",
    "  - Data type: Categorical, integer. No changes\n",
    "  - Missing Values: There are 100 missing values, which is 0.8% out of all data. It will be interpolated via a ffill, in order to preserve the actual distribution of the values.\n",
    "  - The most popular browser is 2. The usage share is very similar to the standard Usage share of all browsers. Later on, in the data visualization, we will show more insights on this\n",
    "  - There is one category identified with anegative number (-1.0) not sure if we need to change it.\n",
    "  - No other changes are needed\n",
    " - **Revenue**\n",
    "  - Data type: categorical, boolean. No changes\n",
    "  - There are 2 categories, True and False\n",
    "  - 84.53% of data falls under FALSE category of Revenue. Since it's a target column, the data will need to be equilibrated.\n",
    "  - Trying to plot as kind='bar' loads too long, that's why use hist()"
   ]
  },
  {
   "cell_type": "markdown",
   "metadata": {},
   "source": [
    "#### Informational"
   ]
  },
  {
   "cell_type": "code",
   "execution_count": null,
   "metadata": {},
   "outputs": [],
   "source": [
    "# Missing values\n",
    "\n",
    "NA_values(data.Informational)\n",
    "\n",
    "# Filling missing values\n",
    "\n",
    "data.Informational.fillna(method='ffill', inplace=True)\n",
    "\n",
    "# Distribution\n",
    "\n",
    "print(data.Informational.value_counts())\n",
    "\n",
    "plt.style.use('seaborn')\n",
    "fig, ax = plt.subplots(1, figsize=(8,6))\n",
    "ax = data.Informational.hist()\n",
    "plt.title(\"Informational - distribution\")\n",
    "plt.show()\n",
    "\n",
    "# % of sessions in category 0.0 \n",
    "\n",
    "percent_info_0 = data.Informational.value_counts()[0]/len(data)*100  \n",
    "print(f'% of sessions in the category 0.0 of the Informational pages: {round(percent_info_0,1)}')"
   ]
  },
  {
   "cell_type": "markdown",
   "metadata": {},
   "source": [
    "#### Exit Rates"
   ]
  },
  {
   "cell_type": "code",
   "execution_count": null,
   "metadata": {},
   "outputs": [],
   "source": [
    "# Missing values\n",
    "\n",
    "NA_values(data.ExitRates)\n",
    "\n",
    "# Filling missing values\n",
    "\n",
    "data.ExitRates = data.ExitRates.fillna(data.ExitRates.median())\n",
    "\n",
    "# Distribution\n",
    "\n",
    "fig, ax = plt.subplots(1, figsize=(8,6))\n",
    "plt.style.use('seaborn')\n",
    "ax = data.ExitRates.hist()\n",
    "plt.title(\"ExitRates - distribution\")\n",
    "plt.show()\n",
    "\n",
    "# Outliers\n",
    "\n",
    "fig, ax = plt.subplots(1, figsize=(8,6))\n",
    "plt.style.use('seaborn')\n",
    "ax = data.boxplot('ExitRates')\n",
    "plt.title(\"ExitRates - outliers\")\n",
    "plt.show()\n",
    "\n",
    "iqr(data, data.ExitRates)\n",
    "\n",
    "# Checking the distribution of outliers regarding the target column - Revenue\n",
    "\n",
    "exitrates_outliers = data.loc[(data.ExitRates > 0.104) | (data.ExitRates < -0.039)]\n",
    "print(exitrates_outliers.Revenue.value_counts())\n",
    "\n",
    "# Checking the top exit rate values of the outliers:\n",
    "\n",
    "print(exitrates_outliers.ExitRates.value_counts())\n",
    "\n",
    "# Creating a new column in the dataset to indicate exit rate outliers:\n",
    "# Only using the upper IQR because the lower is a negative value and we don't have values lower tahn 0.\n",
    "\n",
    "data['exitrates_outliers']  = data['ExitRates'].apply(lambda x: 'TRUE' if x > 0.104 else 'FALSE')\n",
    "\n",
    "# Converting column to boolean\n",
    "\n",
    "mapa = {'TRUE': True, 'FALSE': False}\n",
    "data['exitrates_outliers'] = data['exitrates_outliers'].map(mapa)"
   ]
  },
  {
   "cell_type": "markdown",
   "metadata": {},
   "source": [
    "#### Browser"
   ]
  },
  {
   "cell_type": "code",
   "execution_count": null,
   "metadata": {},
   "outputs": [],
   "source": [
    "# Missing values\n",
    "\n",
    "NA_values(data.Browser)\n",
    "\n",
    "# Filling missing values\n",
    "\n",
    "data.Browser.fillna(method='ffill', inplace=True)\n",
    "\n",
    "# Distribution\n",
    "\n",
    "print(data.Browser.value_counts(normalize = True)*100) \n",
    "\n",
    "fig, ax = plt.subplots(1, figsize=(8,6))\n",
    "plt.style.use('seaborn')\n",
    "ax = data.Browser.hist()\n",
    "plt.title(\"Browser - distribution\")\n",
    "plt.show()\n",
    "\n",
    "# Creating a dataset of the standard usage share of all browsers and of mobile browsers\n",
    "\n",
    "usage_share_browsers = pd.DataFrame({'Chrome': 64.92, 'Safari': 15.97, 'Firefox': 4.33, 'Samsung_Internet': 3.29, \n",
    "                                     'UC': 2.94, 'Opera': 2.34, 'Edge': 2.05, 'IE': 1.98, 'AOSP': 0.59, 'Others': 1.59}, \n",
    "                                    index = [0]).T\n",
    "colnames = ['standard_usage_all']\n",
    "usage_share_browsers.columns = colnames\n",
    "print(usage_share_browsers)\n",
    "\n",
    "usage_share_browsers_mob = pd.DataFrame({'Chrome': 63.80, 'Safari': 19.70, 'Firefox': 0.35, 'Samsung_Internet': 6.27, \n",
    "                                     'UC': 5.33, 'Opera': 2.48, 'Others': 2.07}, \n",
    "                                    index = [0]).T\n",
    "colnames = ['standard_usage_mobile']\n",
    "usage_share_browsers_mob.columns = colnames\n",
    "print(usage_share_browsers_mob)"
   ]
  },
  {
   "cell_type": "markdown",
   "metadata": {},
   "source": [
    "#### Revenue"
   ]
  },
  {
   "cell_type": "code",
   "execution_count": null,
   "metadata": {
    "scrolled": false
   },
   "outputs": [],
   "source": [
    "# Missing values\n",
    "\n",
    "NA_values(data.Revenue)\n",
    "\n",
    "# Distribution\n",
    "\n",
    "print(data.Revenue.value_counts())\n",
    "\n",
    "# To plot a boolean variable, converting it to numeric\n",
    "\n",
    "fig, ax = plt.subplots(1, figsize=(8,6))\n",
    "plt.style.use('seaborn')\n",
    "ax = data.Revenue.astype(float).hist()\n",
    "plt.title(\"Revenue - distribution\")\n",
    "plt.show()\n",
    "\n",
    "# How much data under False\n",
    "\n",
    "print(f' {round(data.Revenue.value_counts(normalize = True)[0]*100, 2)}% of data falls under FALSE category of Revenue')"
   ]
  },
  {
   "cell_type": "markdown",
   "metadata": {},
   "source": [
    "### Isaac:\n",
    "\n",
    "    - Informational_Duration: There is a 'None' value so for this reason the type is an object.. We should change it to 0 and convert all the Series to float. In terms of missing values we got it covered (0.11%). We will fill them with the mean. 0.0% of outliers.\n",
    "    - PageValues. Same as Informationa_Duration, we got an object called (#Nan). We should also change it and convert all the Series to float. Same for the missing values. 0.0% of outliers.\n",
    "    - Region. There are only 9 regions. There are some with 'nan' or 'Nan'. My proposal is to remove whole cell as it will end up with bad results."
   ]
  },
  {
   "cell_type": "code",
   "execution_count": null,
   "metadata": {},
   "outputs": [],
   "source": [
    "# Informational_Duration column\n",
    "\n",
    "data[data['Informational_Duration'] == 'None'] = 0\n",
    "data[\"Informational_Duration\"] = pd.to_numeric(data[\"Informational_Duration\"])\n",
    "\n",
    "NA_values(data[\"Informational_Duration\"])\n",
    "iqr(data, data[\"Informational_Duration\"])"
   ]
  },
  {
   "cell_type": "code",
   "execution_count": null,
   "metadata": {},
   "outputs": [],
   "source": [
    "# PageValues column\n",
    "\n",
    "data[data['PageValues'] == '#Nan'] = 0\n",
    "data[\"PageValues\"] = pd.to_numeric(data[\"PageValues\"])\n",
    "\n",
    "NA_values(data[\"PageValues\"])\n",
    "iqr(data, data[\"PageValues\"])"
   ]
  },
  {
   "cell_type": "code",
   "execution_count": null,
   "metadata": {},
   "outputs": [],
   "source": [
    "# Region column\n",
    "\n",
    "#data[data['Region'] == 'nan']\n",
    "#data[data['Region'] == 'Nan']\n",
    "\n",
    "#data[\"Region\"] = pd.to_numeric(data[\"Region\"])\n",
    "data.Region.value_counts()"
   ]
  },
  {
   "cell_type": "markdown",
   "metadata": {},
   "source": [
    "\n",
    "\n",
    "### Pau:\n",
    "\n",
    "    - ProductRelated:\n",
    "\n",
    "    - SpecialDay:\n",
    "\n",
    "    - TrafficType:\n"
   ]
  },
  {
   "cell_type": "code",
   "execution_count": null,
   "metadata": {
    "scrolled": true
   },
   "outputs": [],
   "source": [
    "# ProductRelated column\n",
    "\n",
    "# 1.09% NA --> filling method: median?:\n",
    "\n",
    "NA_values(data.ProductRelated) \n",
    "\n",
    "data.ProductRelated.fillna(method='ffill', inplace=True)\n",
    "\n",
    "# dtype transformation: float to int"
   ]
  },
  {
   "cell_type": "code",
   "execution_count": null,
   "metadata": {},
   "outputs": [],
   "source": [
    "# Histogram | Outliers:\n",
    "fig, ax = plt.subplots(1, figsize=(8,6))\n",
    "plt.style.use('seaborn')\n",
    "ax = data.ProductRelated.astype(float).hist()\n",
    "plt.title(\"ProductRelated - distribution\")\n",
    "plt.show()"
   ]
  },
  {
   "cell_type": "code",
   "execution_count": null,
   "metadata": {},
   "outputs": [],
   "source": [
    "data.ProductRelated.describe()"
   ]
  },
  {
   "cell_type": "code",
   "execution_count": null,
   "metadata": {},
   "outputs": [],
   "source": [
    "# SpecialDay column\n",
    "\n",
    "# 0.0% NA --> no filling needed:\n",
    "\n",
    "NA_values(data.SpecialDay) \n",
    "\n",
    "# dtype correct (float)"
   ]
  },
  {
   "cell_type": "code",
   "execution_count": null,
   "metadata": {},
   "outputs": [],
   "source": [
    "# Histogram | Outliers:\n",
    "fig, ax = plt.subplots(1, figsize=(8,6))\n",
    "plt.style.use('seaborn')\n",
    "ax = data.SpecialDay.hist()\n",
    "plt.title(\"SpecialDay - distribution\")\n",
    "plt.show()"
   ]
  },
  {
   "cell_type": "code",
   "execution_count": null,
   "metadata": {},
   "outputs": [],
   "source": [
    "data.SpecialDay.value_counts()"
   ]
  },
  {
   "cell_type": "code",
   "execution_count": null,
   "metadata": {},
   "outputs": [],
   "source": [
    "# TrafficType column\n",
    "\n",
    "# 0.97% NA --> filling method: median?:\n",
    "\n",
    "NA_values(data.TrafficType) \n",
    "\n",
    "data.TrafficType.fillna(method='ffill', inplace=True)\n",
    "\n",
    "# dtype transformation: float to int"
   ]
  },
  {
   "cell_type": "code",
   "execution_count": null,
   "metadata": {},
   "outputs": [],
   "source": [
    "# Histogram | Outliers:\n",
    "fig, ax = plt.subplots(1, figsize=(8,6))\n",
    "plt.style.use('seaborn')\n",
    "ax = data.TrafficType.hist()\n",
    "plt.title(\"TrafficType - distribution\")\n",
    "plt.show()"
   ]
  },
  {
   "cell_type": "code",
   "execution_count": null,
   "metadata": {},
   "outputs": [],
   "source": [
    "data.TrafficType.value_counts()"
   ]
  },
  {
   "cell_type": "markdown",
   "metadata": {
    "ExecuteTime": {
     "end_time": "2020-04-21T11:46:54.269488Z",
     "start_time": "2020-04-21T11:46:54.265517Z"
    }
   },
   "source": [
    "### Sosa:\n",
    "\n",
    "    - Administrative:\n",
    "        Due to the low number of missing values (0.28%), we'll fill them with the median of the values since its \n",
    "        impact won't be noticeable. We can't use mean because each value represents a category and should be\n",
    "        assigned to an existing value. \n",
    "        Also, we can also see that the distribution of the values is a logarithmic one, left-skewed.\n",
    "        There's 100 values 999. These are obvious errors. They're distributed evenly through the column. To\n",
    "        fix this, we'll transform this 999 values into NaNs to interpolate them via a ffill, in order to preserve\n",
    "        the actual distribution of the values.\n",
    "        \n",
    "    - ProductRelated_Duration\n",
    "        In this column, we have negative values. The time of a person staying in a webpage cannot be\n",
    "        negative, so we assume there's a error on the lecture. We'll be replacing them with '0' value.\n",
    "        We have just two pronounced outliers. \n",
    "        Additionaly, we'll assing our NAs, 0,14% of the values, to the mean values since our continuous numeric\n",
    "        values are equally distributed.\n",
    "        \n",
    "        \n",
    "    - Month\n",
    "        We have no NA values, but some wrong strings to classify the months. We'll fix this with Regex.\n",
    "        No more transformation needed.\n",
    "        \n",
    "    - VisitorType\n",
    "        We have four types of visitors: Returning, New, Other and More. In this case, we'll reduce the group\n",
    "        to three types: Returning, New and Other, by merging the More column to Other.\n",
    "        For the NA values, we have no way to know if the visitor is Returning or New, so we'll also group them\n",
    "        with the 'Other' values."
   ]
  },
  {
   "cell_type": "code",
   "execution_count": null,
   "metadata": {},
   "outputs": [],
   "source": [
    "## Administrative column\n",
    "\n",
    "print(NA_values(data.Administrative))\n",
    "\n",
    "data.Administrative = data.Administrative.fillna(data.Administrative.median())\n",
    "\n",
    "\n",
    "data[data['Administrative'] == 999] = None\n",
    "\n",
    "data.Administrative.fillna(method='ffill', inplace=True)\n",
    "\n",
    "iqr(data, data.Administrative)\n",
    "\n"
   ]
  },
  {
   "cell_type": "code",
   "execution_count": null,
   "metadata": {},
   "outputs": [],
   "source": [
    "## ProductRelated_Duration column\n",
    "\n",
    "print(NA_values(data.ProductRelated_Duration))\n",
    "\n",
    "# Fixing outliers:\n",
    "\n",
    "outliers = data.ProductRelated_Duration.sort_values(ascending=False)[:2]\n",
    "\n",
    "data.query('ProductRelated_Duration == @outliers')['ProductRelated_Duration'] = data.ProductRelated_Duration.mean()\n",
    "\n",
    "# Fixing the NA values:\n",
    "\n",
    "data.ProductRelated_Duration = data.ProductRelated_Duration.fillna(data.ProductRelated_Duration.mean())\n",
    "\n",
    "## ??? IQR for logarithmic distributions, are there outliers?"
   ]
  },
  {
   "cell_type": "code",
   "execution_count": null,
   "metadata": {},
   "outputs": [],
   "source": [
    "## Month column\n",
    "\n",
    "NA_values(data.Month)\n",
    "\n",
    "# Fixing strings:\n",
    "\n",
    "data.Month = data.Month.str.replace('MAY', 'May').str.replace('March', 'Mar')\n",
    "\n",
    "print(data.Month.value_counts())\n",
    "\n",
    "print(data.Month.fillna(method='ffill').value_counts())"
   ]
  },
  {
   "cell_type": "code",
   "execution_count": null,
   "metadata": {},
   "outputs": [],
   "source": [
    "## VisitorType column\n",
    "\n",
    "NA_values(data.VisitorType)\n",
    "\n",
    "data.VisitorType = data.VisitorType.str.replace('More', 'Other').fillna('Other')\n",
    "\n",
    "## ver si la columna tiene importancia, probar otras formas de tratar 'Other'"
   ]
  },
  {
   "cell_type": "markdown",
   "metadata": {},
   "source": [
    "### MODEL APPLICATION : K-Nearest Neighbors¶"
   ]
  },
  {
   "cell_type": "markdown",
   "metadata": {},
   "source": [
    "Training and Testing Split: "
   ]
  },
  {
   "cell_type": "code",
   "execution_count": null,
   "metadata": {},
   "outputs": [],
   "source": [
    "from sklearn.model_selection import train_test_split\n",
    "\n",
    "X_train, X_test, y_train, y_test = train_test_split(data.loc[:,\n",
    "                                   data.columns != 'Revenue'],\n",
    "                                   data.Revenue,\n",
    "                                   random_state=0)"
   ]
  },
  {
   "cell_type": "code",
   "execution_count": null,
   "metadata": {},
   "outputs": [],
   "source": [
    "print('data shape:', data.shape)\n",
    "print('X_train shape:', X_train.shape)\n",
    "print('y_train shape:', y_train.shape)\n",
    "print('X_test shape:', X_test.shape)\n",
    "print('y_test shape:', y_test.shape)"
   ]
  },
  {
   "cell_type": "code",
   "execution_count": null,
   "metadata": {},
   "outputs": [],
   "source": [
    "data.shape[0] == (X_train.shape[0] + X_test.shape[0])"
   ]
  },
  {
   "cell_type": "markdown",
   "metadata": {},
   "source": [
    "Training Model:"
   ]
  },
  {
   "cell_type": "code",
   "execution_count": null,
   "metadata": {},
   "outputs": [],
   "source": [
    "from sklearn.neighbors import KNeighborsClassifier\n",
    "\n",
    "neighbors = 1 \n",
    "\n",
    "knn = KNeighborsClassifier(n_neighbors = neighbors)"
   ]
  },
  {
   "cell_type": "code",
   "execution_count": null,
   "metadata": {},
   "outputs": [],
   "source": [
    "knn.fit(X_train, y_train)"
   ]
  },
  {
   "cell_type": "markdown",
   "metadata": {},
   "source": [
    "Evaluating the Model with test set:"
   ]
  },
  {
   "cell_type": "code",
   "execution_count": null,
   "metadata": {},
   "outputs": [],
   "source": [
    "y_pred = knn.predict(X_test)\n",
    "\n",
    "print('Test set score: {:.2f}'.format(np.mean(y_pred == y_test)))"
   ]
  },
  {
   "cell_type": "markdown",
   "metadata": {},
   "source": [
    "Prediction:"
   ]
  },
  {
   "cell_type": "code",
   "execution_count": null,
   "metadata": {},
   "outputs": [],
   "source": [
    "# X_new\n",
    "# prediction = knn.predict(X_new)"
   ]
  }
 ],
 "metadata": {
  "kernelspec": {
   "display_name": "Python 3",
   "language": "python",
   "name": "python3"
  },
  "language_info": {
   "codemirror_mode": {
    "name": "ipython",
    "version": 3
   },
   "file_extension": ".py",
   "mimetype": "text/x-python",
   "name": "python",
   "nbconvert_exporter": "python",
   "pygments_lexer": "ipython3",
   "version": "3.7.6"
  },
  "toc": {
   "base_numbering": 1,
   "nav_menu": {},
   "number_sections": true,
   "sideBar": true,
   "skip_h1_title": false,
   "title_cell": "Table of Contents",
   "title_sidebar": "Contents",
   "toc_cell": true,
   "toc_position": {
    "height": "calc(100% - 180px)",
    "left": "10px",
    "top": "150px",
    "width": "268px"
   },
   "toc_section_display": true,
   "toc_window_display": true
  },
  "varInspector": {
   "cols": {
    "lenName": 16,
    "lenType": 16,
    "lenVar": 40
   },
   "kernels_config": {
    "python": {
     "delete_cmd_postfix": "",
     "delete_cmd_prefix": "del ",
     "library": "var_list.py",
     "varRefreshCmd": "print(var_dic_list())"
    },
    "r": {
     "delete_cmd_postfix": ") ",
     "delete_cmd_prefix": "rm(",
     "library": "var_list.r",
     "varRefreshCmd": "cat(var_dic_list()) "
    }
   },
   "types_to_exclude": [
    "module",
    "function",
    "builtin_function_or_method",
    "instance",
    "_Feature"
   ],
   "window_display": false
  }
 },
 "nbformat": 4,
 "nbformat_minor": 2
}
