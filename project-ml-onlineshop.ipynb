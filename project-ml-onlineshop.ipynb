{
 "cells": [
  {
   "cell_type": "markdown",
   "metadata": {
    "toc": true
   },
   "source": [
    "<h1>Table of Contents<span class=\"tocSkip\"></span></h1>\n",
    "<div class=\"toc\"><ul class=\"toc-item\"><li><span><a href=\"#Functions\" data-toc-modified-id=\"Functions-1\"><span class=\"toc-item-num\">1&nbsp;&nbsp;</span>Functions</a></span></li><li><span><a href=\"#Import-and-Analysis\" data-toc-modified-id=\"Import-and-Analysis-2\"><span class=\"toc-item-num\">2&nbsp;&nbsp;</span>Import and Analysis</a></span><ul class=\"toc-item\"><li><span><a href=\"#Dataset-description:\" data-toc-modified-id=\"Dataset-description:-2.1\"><span class=\"toc-item-num\">2.1&nbsp;&nbsp;</span>Dataset description:</a></span></li></ul></li><li><span><a href=\"#Data-cleaning\" data-toc-modified-id=\"Data-cleaning-3\"><span class=\"toc-item-num\">3&nbsp;&nbsp;</span>Data cleaning</a></span><ul class=\"toc-item\"><li><ul class=\"toc-item\"><li><span><a href=\"#Sosa:\" data-toc-modified-id=\"Sosa:-3.0.1\"><span class=\"toc-item-num\">3.0.1&nbsp;&nbsp;</span>Sosa:</a></span></li></ul></li></ul></li></ul></div>"
   ]
  },
  {
   "cell_type": "code",
   "execution_count": null,
   "metadata": {
    "ExecuteTime": {
     "end_time": "2020-04-22T17:02:49.211726Z",
     "start_time": "2020-04-22T17:02:47.973161Z"
    }
   },
   "outputs": [],
   "source": [
    "import pandas as pd\n",
    "import numpy as np\n",
    "import matplotlib.pyplot as plt\n",
    "from sklearn.linear_model import LogisticRegression\n"
   ]
  },
  {
   "cell_type": "markdown",
   "metadata": {},
   "source": [
    "# Functions"
   ]
  },
  {
   "cell_type": "code",
   "execution_count": null,
   "metadata": {
    "ExecuteTime": {
     "end_time": "2020-04-22T17:02:49.217856Z",
     "start_time": "2020-04-22T17:02:49.214049Z"
    }
   },
   "outputs": [],
   "source": [
    "## Function to explain NA values in a column:\n",
    "\n",
    "def NA_values(series):\n",
    "    '''\n",
    "    Function that takes a Pandas Series and returns a print statement explaining NAs and % of the column\n",
    "    '''\n",
    "    \n",
    "    return print(f'Column name: {series.name}\\nTotal values: {int(series.count())}\\nNA values: {series.isna().sum()}\\n% of NA values: {round(series.isna().mean() * 100,2)}%')\n"
   ]
  },
  {
   "cell_type": "code",
   "execution_count": null,
   "metadata": {
    "ExecuteTime": {
     "end_time": "2020-04-22T17:02:49.226443Z",
     "start_time": "2020-04-22T17:02:49.220025Z"
    }
   },
   "outputs": [],
   "source": [
    "## Function to find the outliers of a column:\n",
    "\n",
    "def iqr(dataset, series):\n",
    "    \"\"\"\n",
    "    Function takes dataset and column and returns the information about the outliers.\n",
    "    \"\"\"\n",
    "    Q1 = np.percentile(series, 25)\n",
    "    Q3 = np.percentile(series, 75)\n",
    "    IQR = Q3 - Q1\n",
    "\n",
    "    lower = Q1 - 1.5 * IQR\n",
    "    upper = Q3 + 1.5 * IQR\n",
    "    total_outliers = len(dataset.loc[(series > upper) | (series < lower)])\n",
    "    percent_outliers = total_outliers / len(dataset) * 100\n",
    "    \n",
    "    return print(f'Column: {series.name}\\nLower outliers: all values lower than {round(lower, 3)}\\nUpper outliers: all values higher than {round(upper, 3)}\\nTotal number of rows with outliers: {total_outliers}\\n% of outliers: {round(percent_outliers, 2)}%')"
   ]
  },
  {
   "cell_type": "markdown",
   "metadata": {},
   "source": [
    "# Import and Analysis"
   ]
  },
  {
   "cell_type": "code",
   "execution_count": null,
   "metadata": {
    "ExecuteTime": {
     "end_time": "2020-04-22T17:02:49.269016Z",
     "start_time": "2020-04-22T17:02:49.228989Z"
    }
   },
   "outputs": [],
   "source": [
    "data = pd.read_csv('data/online_shoppers_intention_DATAPTDIC19.csv', sep=',', index_col=0)"
   ]
  },
  {
   "cell_type": "code",
   "execution_count": null,
   "metadata": {
    "ExecuteTime": {
     "end_time": "2020-04-22T17:02:49.289779Z",
     "start_time": "2020-04-22T17:02:49.270575Z"
    }
   },
   "outputs": [],
   "source": [
    "data.head()"
   ]
  },
  {
   "cell_type": "code",
   "execution_count": null,
   "metadata": {
    "ExecuteTime": {
     "end_time": "2020-04-22T17:02:49.296398Z",
     "start_time": "2020-04-22T17:02:49.291383Z"
    }
   },
   "outputs": [],
   "source": [
    "data.shape"
   ]
  },
  {
   "cell_type": "code",
   "execution_count": null,
   "metadata": {
    "ExecuteTime": {
     "end_time": "2020-04-22T17:02:49.333890Z",
     "start_time": "2020-04-22T17:02:49.297919Z"
    }
   },
   "outputs": [],
   "source": [
    "data.describe()"
   ]
  },
  {
   "cell_type": "code",
   "execution_count": null,
   "metadata": {
    "ExecuteTime": {
     "end_time": "2020-04-22T17:02:49.348193Z",
     "start_time": "2020-04-22T17:02:49.337131Z"
    }
   },
   "outputs": [],
   "source": [
    "data.info()"
   ]
  },
  {
   "cell_type": "markdown",
   "metadata": {},
   "source": [
    "## Dataset description:\n",
    " - Administrative:`float`. Administrative Value. `yet to identify`.\n",
    " - Administrative_Duration: `object`. Duration in Administrative Page. `Identify values and change dtype accordingly.`. \n",
    " - Informational: `float`. Informational Value. `yet to identify` \n",
    " - Informational_Duration: `object`. Duration in Informational Page. `Identify values and change dtype accordingly.`\n",
    " - ProductRelated: `float.` Product Related Value. `yet to identify` \n",
    " - ProductRelated_Duration: `object`. Duration in Product Related Page. `Identify values and change dtype accordingly.` \n",
    " - BounceRates: `float`. Bounce Rates of a web page. Percentages. The value of \"Bounce Rate\" feature for a web page refers to the percentage of visitors who enter the site from that page and then leave (\"bounce\") without triggering any other requests to the analytics server during that session. \n",
    " - ExitRates: `float`. Exit rate of a web page. The value of \"Exit Rate\" feature for a specific web page is calculated as for all pageviews to the page, the percentage that were the last in the session. \n",
    " - PageValues: `object`. Page values of each web page. The \"Page Value\" feature represents the average value for a web page that a user visited before completing an e-commerce transaction. `Identify values and change dtype accordingly.` \n",
    " - SpecialDay: Special days like valentine etc. `float`. Closeness to a special date. `dtype correct`. For example, for Valentina’s day, this value takes a nonzero value between February 2 and February 12, zero before and after this date unless it is close to another special day, and its maximum value of 1 on February 8. \n",
    " - Month: Month of the year. `object`. String to identify the month of the year. `clean`. \n",
    " - OperatingSystems: Operating system used. `float`. `Try to explain the values`. \n",
    " - Browser: Browser used. `integer` \n",
    " - Region: Region of the user. `integer`. \n",
    " - TrafficType: Traffic Type. `integer`.  \n",
    " - VisitorType: Types of Visitor `object` \n",
    " - Weekend: Weekend or not `bool`  \n",
    " - Revenue: Revenue will be generated or not `object`. `Should be bool` \n",
    "     "
   ]
  },
  {
   "cell_type": "markdown",
   "metadata": {},
   "source": [
    "# Data cleaning"
   ]
  },
  {
   "cell_type": "markdown",
   "metadata": {
    "ExecuteTime": {
     "end_time": "2020-04-21T11:46:54.269488Z",
     "start_time": "2020-04-21T11:46:54.265517Z"
    }
   },
   "source": [
    "### Sosa:\n",
    "\n",
    "    - Administrative:\n",
    "        Due to the low number of missing values (0.28%), we'll fill them with the median of the values since its \n",
    "        impact won't be noticeable. We can't use mean because each value represents a category and should be\n",
    "        assigned to an existing value. \n",
    "        Also, we can also see that the distribution of the values is a logarithmic one, left-skewed.\n",
    "        There's 100 values 999. These are obvious errors. They're distributed evenly through the column. To\n",
    "        fix this, we'll transform this 999 values into NaNs to interpolate them via a ffill, in order to preserve\n",
    "        the actual distribution of the values.\n",
    "        \n",
    "    - ProductRelated_Duration\n",
    "        In this column, we have negative values. The time of a person staying in a webpage cannot be\n",
    "        negative, so we assume there's a error on the lecture. We'll be replacing them with '0' value.\n",
    "        We have just two pronounced outliers. \n",
    "        Additionaly, we'll assing our NAs, 0,14% of the values, to the mean values since our continuous numeric\n",
    "        values are equally distributed.\n",
    "        \n",
    "        \n",
    "    - Month\n",
    "        We have no NA values, but some wrong strings to classify the months. We'll fix this with Regex.\n",
    "        No more transformation needed.\n",
    "        \n",
    "    - VisitorType\n",
    "        We have four types of visitors: Returning, New, Other and More. In this case, we'll reduce the group\n",
    "        to three types: Returning, New and Other, by merging the More column to Other.\n",
    "        For the NA values, we have no way to know if the visitor is Returning or New, so we'll also group them\n",
    "        with the 'Other' values.\n",
    "    \n",
    "Missing values\n",
    "Outliers\n",
    "Errors\n",
    "Transformation"
   ]
  },
  {
   "cell_type": "code",
   "execution_count": null,
   "metadata": {
    "ExecuteTime": {
     "end_time": "2020-04-22T17:02:49.371536Z",
     "start_time": "2020-04-22T17:02:49.350027Z"
    }
   },
   "outputs": [],
   "source": [
    "## Administrative column\n",
    "\n",
    "print(NA_values(data.Administrative))\n",
    "\n",
    "data.Administrative = data.Administrative.fillna(data.Administrative.median())\n",
    "\n",
    "\n",
    "data[data['Administrative'] == 999] = None\n",
    "\n",
    "data.Administrative.fillna(method='ffill', inplace=True)\n",
    "\n"
   ]
  },
  {
   "cell_type": "code",
   "execution_count": null,
   "metadata": {
    "ExecuteTime": {
     "end_time": "2020-04-22T17:02:49.398599Z",
     "start_time": "2020-04-22T17:02:49.373282Z"
    }
   },
   "outputs": [],
   "source": [
    "## ProductRelated_Duration column\n",
    "\n",
    "print(NA_values(data.ProductRelated_Duration))\n",
    "\n",
    "# Fixing outliers:\n",
    "\n",
    "outliers = data.ProductRelated_Duration.sort_values(ascending=False)[:2]\n",
    "\n",
    "data.query('ProductRelated_Duration == @outliers')['ProductRelated_Duration'] = data.ProductRelated_Duration.mean()\n",
    "\n",
    "# Fixing the NA values:\n",
    "\n",
    "data.ProductRelated_Duration = data.ProductRelated_Duration.fillna(data.ProductRelated_Duration.mean())\n",
    "\n",
    "\n"
   ]
  },
  {
   "cell_type": "code",
   "execution_count": null,
   "metadata": {
    "ExecuteTime": {
     "end_time": "2020-04-22T17:02:49.427017Z",
     "start_time": "2020-04-22T17:02:49.400758Z"
    }
   },
   "outputs": [],
   "source": [
    "## Month column\n",
    "\n",
    "NA_values(data.Month)\n",
    "\n",
    "# Fixing strings:\n",
    "\n",
    "data.Month = data.Month.str.replace('MAY', 'May').str.replace('March', 'Mar')\n",
    "\n",
    "data.Month.value_counts()"
   ]
  },
  {
   "cell_type": "code",
   "execution_count": null,
   "metadata": {
    "ExecuteTime": {
     "end_time": "2020-04-22T17:02:49.448519Z",
     "start_time": "2020-04-22T17:02:49.428866Z"
    }
   },
   "outputs": [],
   "source": [
    "## VisitorType column\n",
    "\n",
    "NA_values(data.VisitorType)\n",
    "\n",
    "data.VisitorType = data.VisitorType.str.replace('More', 'Other').fillna('Other')\n",
    "\n",
    "data.VisitorType.value_counts()"
   ]
  }
 ],
 "metadata": {
  "kernelspec": {
   "display_name": "Python 3",
   "language": "python",
   "name": "python3"
  },
  "language_info": {
   "codemirror_mode": {
    "name": "ipython",
    "version": 3
   },
   "file_extension": ".py",
   "mimetype": "text/x-python",
   "name": "python",
   "nbconvert_exporter": "python",
   "pygments_lexer": "ipython3",
   "version": "3.7.4"
  },
  "toc": {
   "base_numbering": 1,
   "nav_menu": {},
   "number_sections": true,
   "sideBar": true,
   "skip_h1_title": false,
   "title_cell": "Table of Contents",
   "title_sidebar": "Contents",
   "toc_cell": true,
   "toc_position": {},
   "toc_section_display": true,
   "toc_window_display": false
  },
  "varInspector": {
   "cols": {
    "lenName": 16,
    "lenType": 16,
    "lenVar": 40
   },
   "kernels_config": {
    "python": {
     "delete_cmd_postfix": "",
     "delete_cmd_prefix": "del ",
     "library": "var_list.py",
     "varRefreshCmd": "print(var_dic_list())"
    },
    "r": {
     "delete_cmd_postfix": ") ",
     "delete_cmd_prefix": "rm(",
     "library": "var_list.r",
     "varRefreshCmd": "cat(var_dic_list()) "
    }
   },
   "types_to_exclude": [
    "module",
    "function",
    "builtin_function_or_method",
    "instance",
    "_Feature"
   ],
   "window_display": false
  }
 },
 "nbformat": 4,
 "nbformat_minor": 2
}
