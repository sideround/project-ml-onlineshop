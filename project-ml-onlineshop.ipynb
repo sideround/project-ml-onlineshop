{
 "cells": [
  {
   "cell_type": "code",
   "execution_count": 22,
   "metadata": {
    "ExecuteTime": {
     "end_time": "2020-04-22T15:50:46.911056Z",
     "start_time": "2020-04-22T15:50:24.059473Z"
    }
   },
   "outputs": [],
   "source": [
    "import pandas as pd\n",
    "import numpy as np\n",
    "import matplotlib.pyplot as plt\n",
    "from sklearn.linear_model import LogisticRegression"
   ]
  },
  {
   "cell_type": "markdown",
   "metadata": {},
   "source": [
    "\n",
    "# Functions"
   ]
  },
  {
   "cell_type": "code",
   "execution_count": 23,
   "metadata": {
    "ExecuteTime": {
     "end_time": "2020-04-22T15:50:49.580143Z",
     "start_time": "2020-04-22T15:50:49.573568Z"
    }
   },
   "outputs": [],
   "source": [
    "## Function to explain NA values in a column:\n",
    "\n",
    "def NA_values(series):\n",
    "    '''\n",
    "    Function that takes a Pandas Series and returns a print statement explaining NAs and % of the column\n",
    "    '''\n",
    "    \n",
    "    return print(f'Column name: {series.name}\\nTotal values: {int(series.count())}\\nNA values: {series.isna().sum()}\\n% of NA values: {round(series.isna().mean() * 100,2)}%')"
   ]
  },
  {
   "cell_type": "code",
   "execution_count": 24,
   "metadata": {
    "ExecuteTime": {
     "end_time": "2020-04-22T15:50:49.958814Z",
     "start_time": "2020-04-22T15:50:49.949505Z"
    }
   },
   "outputs": [],
   "source": [
    "## Function to get the information about the outliers of a column:\n",
    "\n",
    "def iqr(dataset, series):\n",
    "    \"\"\"\n",
    "    Function takes dataset and column and returns the information about the outliers.\n",
    "    \"\"\"\n",
    "    Q1 = np.percentile(series, 25)\n",
    "    Q3 = np.percentile(series, 75)\n",
    "    IQR = Q3 - Q1\n",
    "\n",
    "    lower = Q1 - 1.5 * IQR\n",
    "    upper = Q3 + 1.5 * IQR\n",
    "    total_outliers = len(dataset.loc[(series > upper) | (series < lower)])\n",
    "    percent_outliers = total_outliers / len(dataset) * 100\n",
    "    \n",
    "    return print(f'Column: {series.name}\\\n",
    "    nLower outliers: all values lower than {round(lower, 3)}\\\n",
    "    nUpper outliers: all values higher than {round(upper, 3)}\\\n",
    "    nTotal number of rows with outliers: {total_outliers}\\\n",
    "    n% of outliers: {round(percent_outliers, 2)}%')"
   ]
  },
  {
   "cell_type": "markdown",
   "metadata": {},
   "source": [
    "# Import and Analysis"
   ]
  },
  {
   "cell_type": "code",
   "execution_count": 25,
   "metadata": {},
   "outputs": [],
   "source": [
    "data = pd.read_csv('data/online_shoppers_intention_DATAPTDIC19.csv', sep=',')"
   ]
  },
  {
   "cell_type": "code",
   "execution_count": 26,
   "metadata": {},
   "outputs": [
    {
     "data": {
      "text/html": [
       "<div>\n",
       "<style scoped>\n",
       "    .dataframe tbody tr th:only-of-type {\n",
       "        vertical-align: middle;\n",
       "    }\n",
       "\n",
       "    .dataframe tbody tr th {\n",
       "        vertical-align: top;\n",
       "    }\n",
       "\n",
       "    .dataframe thead th {\n",
       "        text-align: right;\n",
       "    }\n",
       "</style>\n",
       "<table border=\"1\" class=\"dataframe\">\n",
       "  <thead>\n",
       "    <tr style=\"text-align: right;\">\n",
       "      <th></th>\n",
       "      <th>Administrative</th>\n",
       "      <th>Administrative_Duration</th>\n",
       "      <th>Informational</th>\n",
       "      <th>Informational_Duration</th>\n",
       "      <th>ProductRelated</th>\n",
       "      <th>ProductRelated_Duration</th>\n",
       "      <th>BounceRates</th>\n",
       "      <th>ExitRates</th>\n",
       "      <th>PageValues</th>\n",
       "      <th>SpecialDay</th>\n",
       "      <th>Month</th>\n",
       "      <th>OperatingSystems</th>\n",
       "      <th>Browser</th>\n",
       "      <th>Region</th>\n",
       "      <th>TrafficType</th>\n",
       "      <th>VisitorType</th>\n",
       "      <th>Weekend</th>\n",
       "      <th>Revenue</th>\n",
       "    </tr>\n",
       "  </thead>\n",
       "  <tbody>\n",
       "    <tr>\n",
       "      <td>0</td>\n",
       "      <td>0.0</td>\n",
       "      <td>0</td>\n",
       "      <td>0.0</td>\n",
       "      <td>0</td>\n",
       "      <td>1.0</td>\n",
       "      <td>0</td>\n",
       "      <td>0.20</td>\n",
       "      <td>0.20</td>\n",
       "      <td>0</td>\n",
       "      <td>0.0</td>\n",
       "      <td>Feb</td>\n",
       "      <td>1.0</td>\n",
       "      <td>1</td>\n",
       "      <td>1</td>\n",
       "      <td>1</td>\n",
       "      <td>Returning_Visitor</td>\n",
       "      <td>False</td>\n",
       "      <td>FALSE</td>\n",
       "    </tr>\n",
       "    <tr>\n",
       "      <td>1</td>\n",
       "      <td>0.0</td>\n",
       "      <td>0</td>\n",
       "      <td>0.0</td>\n",
       "      <td>0</td>\n",
       "      <td>2.0</td>\n",
       "      <td>64</td>\n",
       "      <td>0.00</td>\n",
       "      <td>0.10</td>\n",
       "      <td>0</td>\n",
       "      <td>0.0</td>\n",
       "      <td>Feb</td>\n",
       "      <td>2.0</td>\n",
       "      <td>2</td>\n",
       "      <td>1</td>\n",
       "      <td>2</td>\n",
       "      <td>Returning_Visitor</td>\n",
       "      <td>False</td>\n",
       "      <td>FALSE</td>\n",
       "    </tr>\n",
       "    <tr>\n",
       "      <td>2</td>\n",
       "      <td>0.0</td>\n",
       "      <td>-1</td>\n",
       "      <td>0.0</td>\n",
       "      <td>-1</td>\n",
       "      <td>1.0</td>\n",
       "      <td>-1</td>\n",
       "      <td>0.20</td>\n",
       "      <td>0.20</td>\n",
       "      <td>0</td>\n",
       "      <td>0.0</td>\n",
       "      <td>Feb</td>\n",
       "      <td>4.0</td>\n",
       "      <td>1</td>\n",
       "      <td>9</td>\n",
       "      <td>3</td>\n",
       "      <td>Returning_Visitor</td>\n",
       "      <td>False</td>\n",
       "      <td>FALSE</td>\n",
       "    </tr>\n",
       "    <tr>\n",
       "      <td>3</td>\n",
       "      <td>0.0</td>\n",
       "      <td>0</td>\n",
       "      <td>0.0</td>\n",
       "      <td>0</td>\n",
       "      <td>2.0</td>\n",
       "      <td>2.666.666.667</td>\n",
       "      <td>0.05</td>\n",
       "      <td>0.14</td>\n",
       "      <td>0</td>\n",
       "      <td>0.0</td>\n",
       "      <td>Feb</td>\n",
       "      <td>3.0</td>\n",
       "      <td>2</td>\n",
       "      <td>2</td>\n",
       "      <td>4</td>\n",
       "      <td>Returning_Visitor</td>\n",
       "      <td>False</td>\n",
       "      <td>FALSE</td>\n",
       "    </tr>\n",
       "    <tr>\n",
       "      <td>4</td>\n",
       "      <td>0.0</td>\n",
       "      <td>0</td>\n",
       "      <td>0.0</td>\n",
       "      <td>0</td>\n",
       "      <td>10.0</td>\n",
       "      <td>627.5</td>\n",
       "      <td>0.02</td>\n",
       "      <td>0.05</td>\n",
       "      <td>0</td>\n",
       "      <td>0.0</td>\n",
       "      <td>Feb</td>\n",
       "      <td>3.0</td>\n",
       "      <td>3</td>\n",
       "      <td>1</td>\n",
       "      <td>4</td>\n",
       "      <td>Returning_Visitor</td>\n",
       "      <td>True</td>\n",
       "      <td>FALSE</td>\n",
       "    </tr>\n",
       "  </tbody>\n",
       "</table>\n",
       "</div>"
      ],
      "text/plain": [
       "   Administrative Administrative_Duration  Informational  \\\n",
       "0             0.0                       0            0.0   \n",
       "1             0.0                       0            0.0   \n",
       "2             0.0                      -1            0.0   \n",
       "3             0.0                       0            0.0   \n",
       "4             0.0                       0            0.0   \n",
       "\n",
       "  Informational_Duration  ProductRelated ProductRelated_Duration  BounceRates  \\\n",
       "0                      0             1.0                       0         0.20   \n",
       "1                      0             2.0                      64         0.00   \n",
       "2                     -1             1.0                      -1         0.20   \n",
       "3                      0             2.0           2.666.666.667         0.05   \n",
       "4                      0            10.0                   627.5         0.02   \n",
       "\n",
       "   ExitRates PageValues  SpecialDay Month  OperatingSystems  Browser  Region  \\\n",
       "0       0.20          0         0.0   Feb               1.0        1       1   \n",
       "1       0.10          0         0.0   Feb               2.0        2       1   \n",
       "2       0.20          0         0.0   Feb               4.0        1       9   \n",
       "3       0.14          0         0.0   Feb               3.0        2       2   \n",
       "4       0.05          0         0.0   Feb               3.0        3       1   \n",
       "\n",
       "   TrafficType        VisitorType  Weekend Revenue  \n",
       "0            1  Returning_Visitor    False   FALSE  \n",
       "1            2  Returning_Visitor    False   FALSE  \n",
       "2            3  Returning_Visitor    False   FALSE  \n",
       "3            4  Returning_Visitor    False   FALSE  \n",
       "4            4  Returning_Visitor     True   FALSE  "
      ]
     },
     "execution_count": 26,
     "metadata": {},
     "output_type": "execute_result"
    }
   ],
   "source": [
    "data.head()"
   ]
  },
  {
   "cell_type": "code",
   "execution_count": 27,
   "metadata": {
    "ExecuteTime": {
     "end_time": "2020-04-22T15:50:55.574366Z",
     "start_time": "2020-04-22T15:50:55.567519Z"
    }
   },
   "outputs": [
    {
     "data": {
      "text/plain": [
       "(12330, 18)"
      ]
     },
     "execution_count": 27,
     "metadata": {},
     "output_type": "execute_result"
    }
   ],
   "source": [
    "data.shape"
   ]
  },
  {
   "cell_type": "code",
   "execution_count": null,
   "metadata": {
    "ExecuteTime": {
     "end_time": "2020-04-20T19:06:09.252714Z",
     "start_time": "2020-04-20T19:06:09.249176Z"
    }
   },
   "outputs": [],
   "source": [
    "data.shape"
   ]
  },
  {
   "cell_type": "code",
   "execution_count": 28,
   "metadata": {
    "ExecuteTime": {
     "end_time": "2020-04-22T15:50:55.898918Z",
     "start_time": "2020-04-22T15:50:55.835073Z"
    }
   },
   "outputs": [
    {
     "data": {
      "text/html": [
       "<div>\n",
       "<style scoped>\n",
       "    .dataframe tbody tr th:only-of-type {\n",
       "        vertical-align: middle;\n",
       "    }\n",
       "\n",
       "    .dataframe tbody tr th {\n",
       "        vertical-align: top;\n",
       "    }\n",
       "\n",
       "    .dataframe thead th {\n",
       "        text-align: right;\n",
       "    }\n",
       "</style>\n",
       "<table border=\"1\" class=\"dataframe\">\n",
       "  <thead>\n",
       "    <tr style=\"text-align: right;\">\n",
       "      <th></th>\n",
       "      <th>Administrative</th>\n",
       "      <th>Informational</th>\n",
       "      <th>ProductRelated</th>\n",
       "      <th>BounceRates</th>\n",
       "      <th>ExitRates</th>\n",
       "      <th>SpecialDay</th>\n",
       "      <th>OperatingSystems</th>\n",
       "      <th>Browser</th>\n",
       "      <th>Region</th>\n",
       "      <th>TrafficType</th>\n",
       "    </tr>\n",
       "  </thead>\n",
       "  <tbody>\n",
       "    <tr>\n",
       "      <td>count</td>\n",
       "      <td>12315.000000</td>\n",
       "      <td>12316.000000</td>\n",
       "      <td>12315.000000</td>\n",
       "      <td>12316.000000</td>\n",
       "      <td>12316.000000</td>\n",
       "      <td>12329.000000</td>\n",
       "      <td>12329.000000</td>\n",
       "      <td>12330.000000</td>\n",
       "      <td>12330.000000</td>\n",
       "      <td>12330.000000</td>\n",
       "    </tr>\n",
       "    <tr>\n",
       "      <td>mean</td>\n",
       "      <td>2.317824</td>\n",
       "      <td>0.503979</td>\n",
       "      <td>31.765246</td>\n",
       "      <td>0.022152</td>\n",
       "      <td>0.043003</td>\n",
       "      <td>0.061432</td>\n",
       "      <td>2.273096</td>\n",
       "      <td>2.357097</td>\n",
       "      <td>3.147364</td>\n",
       "      <td>4.069586</td>\n",
       "    </tr>\n",
       "    <tr>\n",
       "      <td>std</td>\n",
       "      <td>3.322888</td>\n",
       "      <td>1.270701</td>\n",
       "      <td>44.491889</td>\n",
       "      <td>0.048427</td>\n",
       "      <td>0.048527</td>\n",
       "      <td>0.198925</td>\n",
       "      <td>3.907923</td>\n",
       "      <td>1.717277</td>\n",
       "      <td>2.401591</td>\n",
       "      <td>4.025169</td>\n",
       "    </tr>\n",
       "    <tr>\n",
       "      <td>min</td>\n",
       "      <td>0.000000</td>\n",
       "      <td>0.000000</td>\n",
       "      <td>0.000000</td>\n",
       "      <td>0.000000</td>\n",
       "      <td>0.000000</td>\n",
       "      <td>0.000000</td>\n",
       "      <td>1.000000</td>\n",
       "      <td>1.000000</td>\n",
       "      <td>1.000000</td>\n",
       "      <td>1.000000</td>\n",
       "    </tr>\n",
       "    <tr>\n",
       "      <td>25%</td>\n",
       "      <td>0.000000</td>\n",
       "      <td>0.000000</td>\n",
       "      <td>7.000000</td>\n",
       "      <td>0.000000</td>\n",
       "      <td>0.014286</td>\n",
       "      <td>0.000000</td>\n",
       "      <td>2.000000</td>\n",
       "      <td>2.000000</td>\n",
       "      <td>1.000000</td>\n",
       "      <td>2.000000</td>\n",
       "    </tr>\n",
       "    <tr>\n",
       "      <td>50%</td>\n",
       "      <td>1.000000</td>\n",
       "      <td>0.000000</td>\n",
       "      <td>18.000000</td>\n",
       "      <td>0.003119</td>\n",
       "      <td>0.025124</td>\n",
       "      <td>0.000000</td>\n",
       "      <td>2.000000</td>\n",
       "      <td>2.000000</td>\n",
       "      <td>3.000000</td>\n",
       "      <td>2.000000</td>\n",
       "    </tr>\n",
       "    <tr>\n",
       "      <td>75%</td>\n",
       "      <td>4.000000</td>\n",
       "      <td>0.000000</td>\n",
       "      <td>38.000000</td>\n",
       "      <td>0.016684</td>\n",
       "      <td>0.050000</td>\n",
       "      <td>0.000000</td>\n",
       "      <td>3.000000</td>\n",
       "      <td>2.000000</td>\n",
       "      <td>4.000000</td>\n",
       "      <td>4.000000</td>\n",
       "    </tr>\n",
       "    <tr>\n",
       "      <td>max</td>\n",
       "      <td>27.000000</td>\n",
       "      <td>24.000000</td>\n",
       "      <td>705.000000</td>\n",
       "      <td>0.200000</td>\n",
       "      <td>0.200000</td>\n",
       "      <td>1.000000</td>\n",
       "      <td>99.000000</td>\n",
       "      <td>13.000000</td>\n",
       "      <td>9.000000</td>\n",
       "      <td>20.000000</td>\n",
       "    </tr>\n",
       "  </tbody>\n",
       "</table>\n",
       "</div>"
      ],
      "text/plain": [
       "       Administrative  Informational  ProductRelated   BounceRates  \\\n",
       "count    12315.000000   12316.000000    12315.000000  12316.000000   \n",
       "mean         2.317824       0.503979       31.765246      0.022152   \n",
       "std          3.322888       1.270701       44.491889      0.048427   \n",
       "min          0.000000       0.000000        0.000000      0.000000   \n",
       "25%          0.000000       0.000000        7.000000      0.000000   \n",
       "50%          1.000000       0.000000       18.000000      0.003119   \n",
       "75%          4.000000       0.000000       38.000000      0.016684   \n",
       "max         27.000000      24.000000      705.000000      0.200000   \n",
       "\n",
       "          ExitRates    SpecialDay  OperatingSystems       Browser  \\\n",
       "count  12316.000000  12329.000000      12329.000000  12330.000000   \n",
       "mean       0.043003      0.061432          2.273096      2.357097   \n",
       "std        0.048527      0.198925          3.907923      1.717277   \n",
       "min        0.000000      0.000000          1.000000      1.000000   \n",
       "25%        0.014286      0.000000          2.000000      2.000000   \n",
       "50%        0.025124      0.000000          2.000000      2.000000   \n",
       "75%        0.050000      0.000000          3.000000      2.000000   \n",
       "max        0.200000      1.000000         99.000000     13.000000   \n",
       "\n",
       "             Region   TrafficType  \n",
       "count  12330.000000  12330.000000  \n",
       "mean       3.147364      4.069586  \n",
       "std        2.401591      4.025169  \n",
       "min        1.000000      1.000000  \n",
       "25%        1.000000      2.000000  \n",
       "50%        3.000000      2.000000  \n",
       "75%        4.000000      4.000000  \n",
       "max        9.000000     20.000000  "
      ]
     },
     "execution_count": 28,
     "metadata": {},
     "output_type": "execute_result"
    }
   ],
   "source": [
    "data.describe()"
   ]
  },
  {
   "cell_type": "code",
   "execution_count": null,
   "metadata": {
    "ExecuteTime": {
     "end_time": "2020-04-20T19:05:28.908220Z",
     "start_time": "2020-04-20T19:05:28.860976Z"
    }
   },
   "outputs": [],
   "source": [
    "data.describe()"
   ]
  },
  {
   "cell_type": "code",
   "execution_count": 29,
   "metadata": {
    "ExecuteTime": {
     "end_time": "2020-04-22T15:50:56.110911Z",
     "start_time": "2020-04-22T15:50:56.090598Z"
    }
   },
   "outputs": [
    {
     "name": "stdout",
     "output_type": "stream",
     "text": [
      "<class 'pandas.core.frame.DataFrame'>\n",
      "RangeIndex: 12330 entries, 0 to 12329\n",
      "Data columns (total 18 columns):\n",
      "Administrative             12315 non-null float64\n",
      "Administrative_Duration    12316 non-null object\n",
      "Informational              12316 non-null float64\n",
      "Informational_Duration     12316 non-null object\n",
      "ProductRelated             12315 non-null float64\n",
      "ProductRelated_Duration    12316 non-null object\n",
      "BounceRates                12316 non-null float64\n",
      "ExitRates                  12316 non-null float64\n",
      "PageValues                 12330 non-null object\n",
      "SpecialDay                 12329 non-null float64\n",
      "Month                      12325 non-null object\n",
      "OperatingSystems           12329 non-null float64\n",
      "Browser                    12330 non-null int64\n",
      "Region                     12330 non-null int64\n",
      "TrafficType                12330 non-null int64\n",
      "VisitorType                12327 non-null object\n",
      "Weekend                    12330 non-null bool\n",
      "Revenue                    12330 non-null object\n",
      "dtypes: bool(1), float64(7), int64(3), object(7)\n",
      "memory usage: 1.6+ MB\n"
     ]
    }
   ],
   "source": [
    "data.info()"
   ]
  },
  {
   "cell_type": "code",
   "execution_count": null,
   "metadata": {
    "ExecuteTime": {
     "end_time": "2020-04-20T19:05:43.523644Z",
     "start_time": "2020-04-20T19:05:43.511429Z"
    }
   },
   "outputs": [],
   "source": [
    "data.info()"
   ]
  },
  {
   "cell_type": "markdown",
   "metadata": {},
   "source": [
    "## Dataset description:\n",
    " - Administrative:`float`. Administrative Value. `yet to identify`.\n",
    " - Administrative_Duration: `object`. Duration in Administrative Page. `Identify values and change dtype accordingly.`. \n",
    " - Informational: `float`. Informational Value. `yet to identify` \n",
    " - Informational_Duration: `object`. Duration in Informational Page. `Identify values and change dtype accordingly.`\n",
    " - ProductRelated: `float.` Product Related Value. `yet to identify` \n",
    " - ProductRelated_Duration: `object`. Duration in Product Related Page. `Identify values and change dtype accordingly.` \n",
    " - BounceRates: `float`. Bounce Rates of a web page. Percentages. The value of \"Bounce Rate\" feature for a web page refers to the percentage of visitors who enter the site from that page and then leave (\"bounce\") without triggering any other requests to the analytics server during that session. \n",
    " - ExitRates: `float`. Exit rate of a web page. The value of \"Exit Rate\" feature for a specific web page is calculated as for all pageviews to the page, the percentage that were the last in the session. \n",
    " - PageValues: `object`. Page values of each web page. The \"Page Value\" feature represents the average value for a web page that a user visited before completing an e-commerce transaction. `Identify values and change dtype accordingly.` \n",
    " - SpecialDay: Special days like valentine etc. `float`. Closeness to a special date. `dtype correct`. For example, for Valentina’s day, this value takes a nonzero value between February 2 and February 12, zero before and after this date unless it is close to another special day, and its maximum value of 1 on February 8. \n",
    " - Month: Month of the year. `object`. String to identify the month of the year. `clean`. \n",
    " - OperatingSystems: Operating system used. `float`. `Try to explain the values`. \n",
    " - Browser: Browser used. `integer` \n",
    " - Region: Region of the user. `integer`. \n",
    " - TrafficType: Traffic Type. `integer`.  \n",
    " - VisitorType: Types of Visitor `object` \n",
    " - Weekend: Weekend or not `bool`  \n",
    " - Revenue: Revenue will be generated or not `object`. `Should be bool` \n",
    "     "
   ]
  },
  {
   "cell_type": "markdown",
   "metadata": {},
   "source": [
    "# Data cleaning"
   ]
  },
  {
   "cell_type": "markdown",
   "metadata": {},
   "source": [
    "### Administrative_duration"
   ]
  },
  {
   "cell_type": "markdown",
   "metadata": {},
   "source": [
    "- Data type: Categorical, ´object´. Necessary change to float.\n",
    "- There are some values with multiple dots. Necessary to delete these dots.\n",
    "- Missing Values: There are 14 missing values, which is 0.11% out of all data. Will fill this cells with median\n",
    "- 47.5% of sessions are coming from the category 0.0 of the Administrative_Duration"
   ]
  },
  {
   "cell_type": "code",
   "execution_count": 40,
   "metadata": {
    "ExecuteTime": {
     "end_time": "2020-04-22T16:17:06.911697Z",
     "start_time": "2020-04-22T16:17:06.898511Z"
    }
   },
   "outputs": [
    {
     "name": "stdout",
     "output_type": "stream",
     "text": [
      "Column name: Administrative_Duration\n",
      "Total values: 12316\n",
      "NA values: 14\n",
      "% of NA values: 0.11%\n"
     ]
    }
   ],
   "source": [
    "# Missing values\n",
    "\n",
    "NA_values(data.Administrative_Duration)"
   ]
  },
  {
   "cell_type": "code",
   "execution_count": 41,
   "metadata": {
    "ExecuteTime": {
     "end_time": "2020-04-22T16:17:07.309251Z",
     "start_time": "2020-04-22T16:17:07.305481Z"
    }
   },
   "outputs": [],
   "source": [
    "# Fixing problems\n",
    "# Drop dots from cells\n"
   ]
  },
  {
   "cell_type": "code",
   "execution_count": 42,
   "metadata": {
    "ExecuteTime": {
     "end_time": "2020-04-22T16:17:08.588316Z",
     "start_time": "2020-04-22T16:17:08.186628Z"
    }
   },
   "outputs": [
    {
     "name": "stdout",
     "output_type": "stream",
     "text": [
      "0                5857\n",
      "4                  56\n",
      "5                  53\n",
      "7                  45\n",
      "11                 42\n",
      "                 ... \n",
      "131.1               1\n",
      "7.421.428.571       1\n",
      "134.36              1\n",
      "187.875             1\n",
      "613.5               1\n",
      "Name: Administrative_Duration, Length: 3316, dtype: int64\n"
     ]
    },
    {
     "data": {
      "image/png": "[encoded data removed]",
      "text/plain": [
       "<Figure size 576x432 with 1 Axes>"
      ]
     },
     "metadata": {},
     "output_type": "display_data"
    }
   ],
   "source": [
    "# Distribution\n",
    "\n",
    "print(data.Administrative_Duration.value_counts())\n",
    "\n",
    "plt.style.use('seaborn')\n",
    "fig, ax = plt.subplots(1, figsize=(8,6))\n",
    "ax1 = data.Informational.hist()\n",
    "plt.title(\"Administrative Duration - distribution\")\n",
    "plt.show()\n"
   ]
  },
  {
   "cell_type": "code",
   "execution_count": 43,
   "metadata": {
    "ExecuteTime": {
     "end_time": "2020-04-22T16:17:09.039002Z",
     "start_time": "2020-04-22T16:17:09.022886Z"
    }
   },
   "outputs": [
    {
     "name": "stdout",
     "output_type": "stream",
     "text": [
      "% of sessions in the category 0.0 of the Administrative_Duration pages: 47.5\n"
     ]
    }
   ],
   "source": [
    "percent_info_0 = data.Administrative_Duration.value_counts()[0]/len(data)*100  \n",
    "print(f'% of sessions in the category 0.0 of the Administrative_Duration pages: {round(percent_info_0,1)}')"
   ]
  },
  {
   "cell_type": "markdown",
   "metadata": {},
   "source": [
    "### BounceRates"
   ]
  },
  {
   "cell_type": "code",
   "execution_count": null,
   "metadata": {},
   "outputs": [],
   "source": [
    "- Data type: Numerical, ‘float‘. Dtype change not necessary.\n",
    "- Missing Values: There are 14 missing values, which is 0.11% out of all data. Will fill this cells with median\n",
    "- 44.7% of sessions are coming from the category 0.0 of the BounceRates"
   ]
  },
  {
   "cell_type": "code",
   "execution_count": 44,
   "metadata": {
    "ExecuteTime": {
     "end_time": "2020-04-22T16:17:11.873864Z",
     "start_time": "2020-04-22T16:17:11.865741Z"
    }
   },
   "outputs": [
    {
     "name": "stdout",
     "output_type": "stream",
     "text": [
      "Column name: BounceRates\n",
      "Total values: 12316\n",
      "NA values: 14\n",
      "% of NA values: 0.11%\n"
     ]
    }
   ],
   "source": [
    "# Missing values\n",
    "\n",
    "NA_values(data.BounceRates)"
   ]
  },
  {
   "cell_type": "code",
   "execution_count": 46,
   "metadata": {
    "ExecuteTime": {
     "end_time": "2020-04-22T16:23:41.333518Z",
     "start_time": "2020-04-22T16:23:41.028069Z"
    }
   },
   "outputs": [
    {
     "name": "stdout",
     "output_type": "stream",
     "text": [
      "0.000000    5510\n",
      "0.200000     697\n",
      "0.066667     134\n",
      "0.028571     115\n",
      "0.050000     112\n",
      "            ... \n",
      "0.002073       1\n",
      "0.023457       1\n",
      "0.003901       1\n",
      "0.005074       1\n",
      "0.007356       1\n",
      "Name: BounceRates, Length: 1872, dtype: int64\n"
     ]
    },
    {
     "data": {
      "image/png": "[encoded data removed]",
      "text/plain": [
       "<Figure size 576x432 with 1 Axes>"
      ]
     },
     "metadata": {},
     "output_type": "display_data"
    }
   ],
   "source": [
    "# Distribution\n",
    "\n",
    "print(data.BounceRates.value_counts())\n",
    "\n",
    "plt.style.use('seaborn')\n",
    "fig, ax = plt.subplots(1, figsize=(8,6))\n",
    "ax1 = data.Informational.hist()\n",
    "plt.title(\"BounceRates - distribution\")\n",
    "plt.show()"
   ]
  },
  {
   "cell_type": "code",
   "execution_count": 45,
   "metadata": {
    "ExecuteTime": {
     "end_time": "2020-04-22T16:23:07.075375Z",
     "start_time": "2020-04-22T16:23:06.977005Z"
    }
   },
   "outputs": [
    {
     "name": "stdout",
     "output_type": "stream",
     "text": [
      "% of sessions in the category 0.0 of the BounceRates pages: 44.7\n"
     ]
    }
   ],
   "source": [
    "percent_info_0 = data.BounceRates.value_counts()[0]/len(data)*100  \n",
    "print(f'% of sessions in the category 0.0 of the BounceRates pages: {round(percent_info_0,1)}')"
   ]
  },
  {
   "cell_type": "markdown",
   "metadata": {},
   "source": [
    "### OperatingSystems"
   ]
  },
  {
   "cell_type": "code",
   "execution_count": null,
   "metadata": {},
   "outputs": [],
   "source": [
    "# checking the no. of OSes each user is having??"
   ]
  },
  {
   "cell_type": "code",
   "execution_count": null,
   "metadata": {},
   "outputs": [],
   "source": [
    "- Data type: Numerical, ‘float‘. Dtype change not necessary.\n",
    "- Missing Values: There are 1 missing values, which is 0.01% out of all data. Will fill this cell with median\n",
    "- 53.4% of sessions are coming from the category 2.0 of the OperatingSystems"
   ]
  },
  {
   "cell_type": "code",
   "execution_count": 20,
   "metadata": {
    "ExecuteTime": {
     "end_time": "2020-04-22T15:49:22.027293Z",
     "start_time": "2020-04-22T15:49:22.019877Z"
    }
   },
   "outputs": [
    {
     "name": "stdout",
     "output_type": "stream",
     "text": [
      "Column name: OperatingSystems\n",
      "Total values: 12329\n",
      "NA values: 1\n",
      "% of NA values: 0.01%\n"
     ]
    }
   ],
   "source": [
    "# Missing values\n",
    "\n",
    "NA_values(data.OperatingSystems)"
   ]
  },
  {
   "cell_type": "code",
   "execution_count": 53,
   "metadata": {
    "ExecuteTime": {
     "end_time": "2020-04-22T16:35:20.723622Z",
     "start_time": "2020-04-22T16:35:20.429674Z"
    }
   },
   "outputs": [
    {
     "name": "stdout",
     "output_type": "stream",
     "text": [
      "2.0     6587\n",
      "1.0     2584\n",
      "3.0     2551\n",
      "4.0      477\n",
      "8.0       79\n",
      "99.0      19\n",
      "6.0       19\n",
      "7.0        7\n",
      "5.0        6\n",
      "Name: OperatingSystems, dtype: int64\n"
     ]
    },
    {
     "data": {
      "image/png": "[encoded data removed]",
      "text/plain": [
       "<Figure size 576x432 with 1 Axes>"
      ]
     },
     "metadata": {},
     "output_type": "display_data"
    }
   ],
   "source": [
    "print(data.OperatingSystems.value_counts())\n",
    "\n",
    "plt.style.use('seaborn')\n",
    "fig, ax = plt.subplots(1, figsize=(8,6))\n",
    "ax1 = data.Informational.hist()\n",
    "plt.title(\"OperatingSystems - distribution\")\n",
    "plt.show()"
   ]
  },
  {
   "cell_type": "code",
   "execution_count": 65,
   "metadata": {
    "ExecuteTime": {
     "end_time": "2020-04-22T16:38:15.934858Z",
     "start_time": "2020-04-22T16:38:15.925119Z"
    }
   },
   "outputs": [
    {
     "name": "stdout",
     "output_type": "stream",
     "text": [
      "% of sessions in the category 2.0 of the OperatingSystems pages: 53.4\n"
     ]
    }
   ],
   "source": [
    "percent_info_2 = data.OperatingSystems.value_counts()[2]/len(data)*100  \n",
    "print(f'% of sessions in the category 2.0 of the OperatingSystems pages: {round(percent_info_2,1)}')"
   ]
  },
  {
   "cell_type": "markdown",
   "metadata": {},
   "source": [
    "### Weekend"
   ]
  },
  {
   "cell_type": "markdown",
   "metadata": {},
   "source": [
    "- Data type: Bool. Dtype change not necessary.\n",
    "- Missing Values: There are no missing values.\n",
    "- 76.7% of sessions are coming from the category False of the Weekend"
   ]
  },
  {
   "cell_type": "code",
   "execution_count": 74,
   "metadata": {
    "ExecuteTime": {
     "end_time": "2020-04-22T17:07:49.119909Z",
     "start_time": "2020-04-22T17:07:49.066191Z"
    }
   },
   "outputs": [
    {
     "name": "stdout",
     "output_type": "stream",
     "text": [
      "Column name: Weekend\n",
      "Total values: 12330\n",
      "NA values: 0\n",
      "% of NA values: 0.0%\n"
     ]
    }
   ],
   "source": [
    "# Missing values\n",
    "\n",
    "NA_values(data.Weekend)"
   ]
  },
  {
   "cell_type": "code",
   "execution_count": 75,
   "metadata": {
    "ExecuteTime": {
     "end_time": "2020-04-22T17:08:04.007375Z",
     "start_time": "2020-04-22T17:08:03.719627Z"
    }
   },
   "outputs": [
    {
     "name": "stdout",
     "output_type": "stream",
     "text": [
      "False    9462\n",
      "True     2868\n",
      "Name: Weekend, dtype: int64\n"
     ]
    },
    {
     "data": {
      "image/png": "[encoded data removed]",
      "text/plain": [
       "<Figure size 576x432 with 1 Axes>"
      ]
     },
     "metadata": {},
     "output_type": "display_data"
    }
   ],
   "source": [
    "print(data.Weekend.value_counts())\n",
    "\n",
    "plt.style.use('seaborn')\n",
    "fig, ax = plt.subplots(1, figsize=(8,6))\n",
    "ax1 = data.Informational.hist()\n",
    "plt.title(\"Weekend - distribution\")\n",
    "plt.show()"
   ]
  },
  {
   "cell_type": "code",
   "execution_count": 73,
   "metadata": {
    "ExecuteTime": {
     "end_time": "2020-04-22T17:06:09.687175Z",
     "start_time": "2020-04-22T17:06:09.678530Z"
    }
   },
   "outputs": [
    {
     "name": "stdout",
     "output_type": "stream",
     "text": [
      "% of sessions in the category False of the Weekend pages, not in weekend: 76.7\n"
     ]
    }
   ],
   "source": [
    "percent_info_false = data.Weekend.value_counts()[0]/len(data)*100  \n",
    "print(f'% of sessions in the category False of the Weekend pages, not in weekend: {round(percent_info_0,1)}')"
   ]
  },
  {
   "cell_type": "markdown",
   "metadata": {},
   "source": [
    "### Kristina:\n",
    "\n",
    " - **Informational**\n",
    "  - Data type: Categorical, float. No changes\n",
    "  - Missing Values: There are 14 missing values, which is 0.11% out of all data. It will be filled with the median\n",
    "  - 78.7% of sessions are coming from the category 0.0 of the Informational pages\n",
    "  - No other changes are needed\n",
    " - **ExitRates**\n",
    "  - Data type: Numerical, float. No changes\n",
    "  - Missing Values: There are 14 missing values, which is 0.11% out of all data. It will be filled with the median\n",
    "  - Outliers: There are 1094 outliers, which is 8.87% of all data. The majority of the outliers are falling under the FALSE revenue category and under the 0.2 value of the Exit rates. Additional column will be created to be able to filter out the outliers if needed: exitrates_outliers (boolean values).\n",
    " - **Browser**\n",
    "  - Data type: Categorical, integer. No changes\n",
    "  - Missing Values: There are no missing values\n",
    "  - The most popular browser is 2. The usage share is very similar to the standard Usage share of all browsers. Later on, in the data visualization, we will show more insights on this\n",
    "  - No other changes are needed\n",
    " - **Revenue**\n",
    "  - Data type: categorical, object. Will change to boolean\n",
    "  - There are 4 categories, will unify the data to have only TRUE and FALSE\n",
    "  - 84.53% of data falls under FALSE category of Revenue. Since it's a target column, the data will need to be equilibrated."
   ]
  },
  {
   "cell_type": "markdown",
   "metadata": {},
   "source": [
    "#### Informational"
   ]
  },
  {
   "cell_type": "code",
   "execution_count": null,
   "metadata": {},
   "outputs": [],
   "source": [
    "# Missing values\n",
    "\n",
    "NA_values(data.Informational)\n",
    "\n",
    "# Filling missing values\n",
    "\n",
    "data.Informational = data.Informational.fillna(data.Informational.median())\n",
    "\n",
    "# Distribution\n",
    "\n",
    "print(data.Informational.value_counts())\n",
    "\n",
    "plt.style.use('seaborn')\n",
    "fig, ax = plt.subplots(1, figsize=(8,6))\n",
    "ax1 = data.Informational.hist()\n",
    "plt.title(\"Informational - distribution\")\n",
    "plt.show()\n",
    "\n",
    "# % of sessions in category 0.0 \n",
    "\n",
    "percent_info_0 = data.Informational.value_counts()[0]/len(data)*100  \n",
    "print(f'% of sessions in the category 0.0 of the Informational pages: {round(percent_info_0,1)}')"
   ]
  },
  {
   "cell_type": "markdown",
   "metadata": {},
   "source": [
    "#### Exit Rates"
   ]
  },
  {
   "cell_type": "code",
   "execution_count": null,
   "metadata": {},
   "outputs": [],
   "source": [
    "# Missing values\n",
    "\n",
    "NA_values(data.ExitRates)\n",
    "\n",
    "# Filling missing values\n",
    "\n",
    "data.ExitRates = data.ExitRates.fillna(data.ExitRates.median())\n",
    "\n",
    "# Distribution\n",
    "\n",
    "fig, ax = plt.subplots(1, figsize=(8,6))\n",
    "plt.style.use('seaborn')\n",
    "ax1 = data.ExitRates.hist()\n",
    "plt.title(\"ExitRates - distribution\")\n",
    "plt.show()\n",
    "\n",
    "# Outliers\n",
    "\n",
    "fig, ax = plt.subplots(1, figsize=(8,6))\n",
    "plt.style.use('seaborn')\n",
    "ax1 = data.boxplot('ExitRates')\n",
    "plt.title(\"ExitRates - outliers\")\n",
    "plt.show()\n",
    "\n",
    "iqr(data, data.ExitRates)\n",
    "\n",
    "# Checking the distribution of outliers regarding the target column - Revenue\n",
    "\n",
    "exitrates_outliers = data.loc[(data.ExitRates > 0.104) | (data.ExitRates < -0.039)]\n",
    "print(exitrates_outliers.Revenue.value_counts())\n",
    "\n",
    "# Checking the top exit rate values of the outliers:\n",
    "\n",
    "print(exitrates_outliers.ExitRates.value_counts())\n",
    "\n",
    "# Creating a new column in the dataset to indicate exit rate outliers:\n",
    "# Only using the upper IQR because the lower is a negative value and we don't have values lower tahn 0.\n",
    "\n",
    "data['exitrates_outliers']  = data['ExitRates'].apply(lambda x: 'TRUE' if x > 0.104 else 'FALSE')\n",
    "\n",
    "# Converting column to boolean\n",
    "\n",
    "mapa = {'TRUE': True, 'FALSE': False}\n",
    "data['exitrates_outliers'] = data['exitrates_outliers'].map(mapa)"
   ]
  },
  {
   "cell_type": "markdown",
   "metadata": {},
   "source": [
    "#### Browser"
   ]
  },
  {
   "cell_type": "code",
   "execution_count": null,
   "metadata": {},
   "outputs": [],
   "source": [
    "# Missing values\n",
    "\n",
    "NA_values(data.Browser)\n",
    "\n",
    "# Distribution\n",
    "\n",
    "print(data.Browser.value_counts(normalize = True)*100) \n",
    "\n",
    "fig, ax = plt.subplots(1, figsize=(8,6))\n",
    "plt.style.use('seaborn')\n",
    "ax1 = data.Browser.hist()\n",
    "plt.title(\"Browser - distribution\")\n",
    "plt.show()\n",
    "\n",
    "# Creating a dataset of the standard usage share of all browsers and of mobile browsers\n",
    "\n",
    "usage_share_browsers = pd.DataFrame({'Chrome': 64.92, 'Safari': 15.97, 'Firefox': 4.33, 'Samsung_Internet': 3.29, \n",
    "                                     'UC': 2.94, 'Opera': 2.34, 'Edge': 2.05, 'IE': 1.98, 'AOSP': 0.59, 'Others': 1.59}, \n",
    "                                    index = [0]).T\n",
    "colnames = ['standard_usage_all']\n",
    "usage_share_browsers.columns = colnames\n",
    "print(usage_share_browsers)\n",
    "\n",
    "usage_share_browsers_mob = pd.DataFrame({'Chrome': 63.80, 'Safari': 19.70, 'Firefox': 0.35, 'Samsung_Internet': 6.27, \n",
    "                                     'UC': 5.33, 'Opera': 2.48, 'Others': 2.07}, \n",
    "                                    index = [0]).T\n",
    "colnames = ['standard_usage_mobile']\n",
    "usage_share_browsers_mob.columns = colnames\n",
    "print(usage_share_browsers_mob)"
   ]
  },
  {
   "cell_type": "markdown",
   "metadata": {},
   "source": [
    "#### Revenue"
   ]
  },
  {
   "cell_type": "code",
   "execution_count": null,
   "metadata": {
    "scrolled": false
   },
   "outputs": [],
   "source": [
    "# Missing values\n",
    "\n",
    "NA_values(data.Revenue)\n",
    "\n",
    "# Distribution\n",
    "\n",
    "print(data.Revenue.value_counts())\n",
    "\n",
    "fig, ax = plt.subplots(1, figsize=(8,6))\n",
    "plt.style.use('seaborn')\n",
    "ax1 = data.Revenue.hist()\n",
    "plt.title(\"Revenue - distribution\")\n",
    "plt.show()\n",
    "\n",
    "# Changing 0 and 1 to TRUE and FALSE\n",
    "\n",
    "data.Revenue.replace('0', 'FALSE', inplace=True)\n",
    "data.Revenue.replace('1', 'TRUE', inplace=True)\n",
    "\n",
    "# Converting column to boolean\n",
    "\n",
    "mapa = {'TRUE': True, 'FALSE': False}\n",
    "data['Revenue'] = data['Revenue'].map(mapa)\n",
    "\n",
    "print(f' {round(data.Revenue.value_counts(normalize = True)[0]*100, 2)}% of data falls under FALSE category of Revenue')"
   ]
  },
  {
   "cell_type": "markdown",
   "metadata": {},
   "source": [
    "\n",
    "\n",
    "### Pau:\n",
    "\n",
    "    - ProductRelated:\n",
    "\n",
    "    - SpecialDay:\n",
    "\n",
    "    - TrafficType:\n"
   ]
  },
  {
   "cell_type": "code",
   "execution_count": null,
   "metadata": {
    "scrolled": true
   },
   "outputs": [],
   "source": [
    "# ProductRelated column\n",
    "\n",
    "# 1.09% NA --> filling method: median?:\n",
    "\n",
    "NA_values(data.ProductRelated) \n",
    "\n",
    "data.ProductRelated = data.ProductRelated.fillna(data.ProductRelated.median()) \n",
    "\n",
    "# Outliers:\n",
    "\n",
    "# dtype transformation: float to int\n"
   ]
  },
  {
   "cell_type": "code",
   "execution_count": null,
   "metadata": {},
   "outputs": [],
   "source": [
    "# SpecialDay column\n",
    "\n",
    "# 0.0% NA --> no filling needed:\n",
    "\n",
    "NA_values(data.SpecialDay) \n",
    "\n",
    "# Outliers:\n",
    "\n",
    "# dtype correct (float)\n"
   ]
  },
  {
   "cell_type": "code",
   "execution_count": null,
   "metadata": {},
   "outputs": [],
   "source": [
    "# TrafficType column\n",
    "\n",
    "# 0.97% NA --> filling method: median?:\n",
    "\n",
    "NA_values(data.TrafficType) \n",
    "\n",
    "data.TrafficType = data.TrafficType.fillna(data.TrafficType.median())\n",
    "\n",
    "# Outliers:\n",
    "\n",
    "# dtype transformation: float to int"
   ]
  },
  {
   "cell_type": "code",
   "execution_count": null,
   "metadata": {},
   "outputs": [],
   "source": []
  }
 ],
 "metadata": {
  "kernelspec": {
   "display_name": "Python 3",
   "language": "python",
   "name": "python3"
  },
  "language_info": {
   "codemirror_mode": {
    "name": "ipython",
    "version": 3
   },
   "file_extension": ".py",
   "mimetype": "text/x-python",
   "name": "python",
   "nbconvert_exporter": "python",
   "pygments_lexer": "ipython3",
   "version": "3.7.4"
  },
  "toc": {
   "base_numbering": 1,
   "nav_menu": {},
   "number_sections": true,
   "sideBar": true,
   "skip_h1_title": false,
   "title_cell": "Table of Contents",
   "title_sidebar": "Contents",
   "toc_cell": true,
   "toc_position": {},
   "toc_section_display": true,
   "toc_window_display": false
  },
  "varInspector": {
   "cols": {
    "lenName": 16,
    "lenType": 16,
    "lenVar": 40
   },
   "kernels_config": {
    "python": {
     "delete_cmd_postfix": "",
     "delete_cmd_prefix": "del ",
     "library": "var_list.py",
     "varRefreshCmd": "print(var_dic_list())"
    },
    "r": {
     "delete_cmd_postfix": ") ",
     "delete_cmd_prefix": "rm(",
     "library": "var_list.r",
     "varRefreshCmd": "cat(var_dic_list()) "
    }
   },
   "types_to_exclude": [
    "module",
    "function",
    "builtin_function_or_method",
    "instance",
    "_Feature"
   ],
   "window_display": false
  }
 },
 "nbformat": 4,
 "nbformat_minor": 2
}
