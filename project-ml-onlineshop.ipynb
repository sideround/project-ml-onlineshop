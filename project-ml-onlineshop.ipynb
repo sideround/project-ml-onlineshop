{
 "cells": [
  {
   "cell_type": "markdown",
   "metadata": {
    "toc": true
   },
   "source": [
    "<h1>Table of Contents<span class=\"tocSkip\"></span></h1>\n",
    "<div class=\"toc\"><ul class=\"toc-item\"><li><span><a href=\"#Functions\" data-toc-modified-id=\"Functions-1\"><span class=\"toc-item-num\">1&nbsp;&nbsp;</span>Functions</a></span></li><li><span><a href=\"#Import-and-Analysis\" data-toc-modified-id=\"Import-and-Analysis-2\"><span class=\"toc-item-num\">2&nbsp;&nbsp;</span>Import and Analysis</a></span><ul class=\"toc-item\"><li><span><a href=\"#Dataset-description:\" data-toc-modified-id=\"Dataset-description:-2.1\"><span class=\"toc-item-num\">2.1&nbsp;&nbsp;</span>Dataset description:</a></span></li></ul></li><li><span><a href=\"#Data-cleaning\" data-toc-modified-id=\"Data-cleaning-3\"><span class=\"toc-item-num\">3&nbsp;&nbsp;</span>Data cleaning</a></span><ul class=\"toc-item\"><li><ul class=\"toc-item\"><li><span><a href=\"#Administrative_duration\" data-toc-modified-id=\"Administrative_duration-3.0.1\"><span class=\"toc-item-num\">3.0.1&nbsp;&nbsp;</span>Administrative_duration</a></span></li><li><span><a href=\"#BounceRates\" data-toc-modified-id=\"BounceRates-3.0.2\"><span class=\"toc-item-num\">3.0.2&nbsp;&nbsp;</span>BounceRates</a></span></li><li><span><a href=\"#OperatingSystems\" data-toc-modified-id=\"OperatingSystems-3.0.3\"><span class=\"toc-item-num\">3.0.3&nbsp;&nbsp;</span>OperatingSystems</a></span></li><li><span><a href=\"#Weekend\" data-toc-modified-id=\"Weekend-3.0.4\"><span class=\"toc-item-num\">3.0.4&nbsp;&nbsp;</span>Weekend</a></span></li><li><span><a href=\"#Kristina:\" data-toc-modified-id=\"Kristina:-3.0.5\"><span class=\"toc-item-num\">3.0.5&nbsp;&nbsp;</span>Kristina:</a></span><ul class=\"toc-item\"><li><span><a href=\"#Informational\" data-toc-modified-id=\"Informational-3.0.5.1\"><span class=\"toc-item-num\">3.0.5.1&nbsp;&nbsp;</span>Informational</a></span></li><li><span><a href=\"#Exit-Rates\" data-toc-modified-id=\"Exit-Rates-3.0.5.2\"><span class=\"toc-item-num\">3.0.5.2&nbsp;&nbsp;</span>Exit Rates</a></span></li><li><span><a href=\"#Browser\" data-toc-modified-id=\"Browser-3.0.5.3\"><span class=\"toc-item-num\">3.0.5.3&nbsp;&nbsp;</span>Browser</a></span></li><li><span><a href=\"#Revenue\" data-toc-modified-id=\"Revenue-3.0.5.4\"><span class=\"toc-item-num\">3.0.5.4&nbsp;&nbsp;</span>Revenue</a></span></li></ul></li><li><span><a href=\"#Isaac:\" data-toc-modified-id=\"Isaac:-3.0.6\"><span class=\"toc-item-num\">3.0.6&nbsp;&nbsp;</span>Isaac:</a></span></li><li><span><a href=\"#Pau:\" data-toc-modified-id=\"Pau:-3.0.7\"><span class=\"toc-item-num\">3.0.7&nbsp;&nbsp;</span>Pau:</a></span></li><li><span><a href=\"#Sosa:\" data-toc-modified-id=\"Sosa:-3.0.8\"><span class=\"toc-item-num\">3.0.8&nbsp;&nbsp;</span>Sosa:</a></span></li></ul></li></ul></li></ul></div>"
   ]
  },
  {
   "cell_type": "code",
   "execution_count": 52,
   "metadata": {
    "ExecuteTime": {
     "end_time": "2020-04-22T18:55:27.020043Z",
     "start_time": "2020-04-22T18:55:27.016626Z"
    }
   },
   "outputs": [],
   "source": [
    "import re\n",
    "import pandas as pd\n",
    "import numpy as np\n",
    "import matplotlib.pyplot as plt\n",
    "from sklearn.linear_model import LogisticRegression"
   ]
  },
  {
   "cell_type": "markdown",
   "metadata": {},
   "source": [
    "\n",
    "# Functions"
   ]
  },
  {
   "cell_type": "code",
   "execution_count": 2,
   "metadata": {
    "ExecuteTime": {
     "end_time": "2020-04-22T18:47:48.957536Z",
     "start_time": "2020-04-22T18:47:48.954226Z"
    }
   },
   "outputs": [],
   "source": [
    "## Function to explain NA values in a column:\n",
    "\n",
    "def NA_values(series):\n",
    "    '''\n",
    "    Function that takes a Pandas Series and returns a print statement explaining NAs and % of the column\n",
    "    '''\n",
    "    \n",
    "    return print(f'Column name: {series.name}\\nTotal values: {int(series.count())}\\nNA values: {series.isna().sum()}\\n% of NA values: {round(series.isna().mean() * 100,2)}%')"
   ]
  },
  {
   "cell_type": "code",
   "execution_count": 69,
   "metadata": {
    "ExecuteTime": {
     "end_time": "2020-04-22T19:23:35.275451Z",
     "start_time": "2020-04-22T19:23:35.268843Z"
    }
   },
   "outputs": [],
   "source": [
    "## Function to get the information about the outliers of a column:\n",
    "\n",
    "def iqr(dataset, series):\n",
    "    \"\"\"\n",
    "    Function takes dataset and column and returns the information about the outliers.\n",
    "    \"\"\"\n",
    "    Q1 = np.percentile(series, 25)\n",
    "    Q3 = np.percentile(series, 75)\n",
    "    IQR = Q3 - Q1\n",
    "\n",
    "    lower = Q1 - 1.5 * IQR\n",
    "    upper = Q3 + 1.5 * IQR\n",
    "    total_outliers = len(dataset.loc[(series > upper) | (series < lower)])\n",
    "    percent_outliers = total_outliers / len(dataset) * 100\n",
    "    \n",
    "    return print(f'Column: {series.name}\\nLower outliers: all values lower than {round(lower, 3)}\\nUpper outliers: all values higher than {round(upper, 3)}\\nTotal number of rows with outliers: {total_outliers}\\n% of outliers: {round(percent_outliers, 2)}%')"
   ]
  },
  {
   "cell_type": "markdown",
   "metadata": {},
   "source": [
    "# Import and Analysis"
   ]
  },
  {
   "cell_type": "code",
   "execution_count": 4,
   "metadata": {
    "ExecuteTime": {
     "end_time": "2020-04-22T18:47:49.028437Z",
     "start_time": "2020-04-22T18:47:48.968759Z"
    }
   },
   "outputs": [],
   "source": [
    "data = pd.read_csv('data/online_shoppers_intention_DATAPTDIC19.csv', sep=',', index_col=0)"
   ]
  },
  {
   "cell_type": "code",
   "execution_count": 5,
   "metadata": {
    "ExecuteTime": {
     "end_time": "2020-04-22T18:47:49.057699Z",
     "start_time": "2020-04-22T18:47:49.030671Z"
    }
   },
   "outputs": [
    {
     "data": {
      "text/html": [
       "<div>\n",
       "<style scoped>\n",
       "    .dataframe tbody tr th:only-of-type {\n",
       "        vertical-align: middle;\n",
       "    }\n",
       "\n",
       "    .dataframe tbody tr th {\n",
       "        vertical-align: top;\n",
       "    }\n",
       "\n",
       "    .dataframe thead th {\n",
       "        text-align: right;\n",
       "    }\n",
       "</style>\n",
       "<table border=\"1\" class=\"dataframe\">\n",
       "  <thead>\n",
       "    <tr style=\"text-align: right;\">\n",
       "      <th></th>\n",
       "      <th>Administrative</th>\n",
       "      <th>Administrative_Duration</th>\n",
       "      <th>Informational</th>\n",
       "      <th>Informational_Duration</th>\n",
       "      <th>ProductRelated</th>\n",
       "      <th>ProductRelated_Duration</th>\n",
       "      <th>BounceRates</th>\n",
       "      <th>ExitRates</th>\n",
       "      <th>PageValues</th>\n",
       "      <th>SpecialDay</th>\n",
       "      <th>Month</th>\n",
       "      <th>OperatingSystems</th>\n",
       "      <th>Browser</th>\n",
       "      <th>Region</th>\n",
       "      <th>TrafficType</th>\n",
       "      <th>VisitorType</th>\n",
       "      <th>Weekend</th>\n",
       "      <th>Revenue</th>\n",
       "    </tr>\n",
       "  </thead>\n",
       "  <tbody>\n",
       "    <tr>\n",
       "      <td>0</td>\n",
       "      <td>0.0</td>\n",
       "      <td>0.0</td>\n",
       "      <td>0.0</td>\n",
       "      <td>0.0</td>\n",
       "      <td>1.0</td>\n",
       "      <td>0.000000</td>\n",
       "      <td>0.20</td>\n",
       "      <td>0.20</td>\n",
       "      <td>0.0</td>\n",
       "      <td>0.0</td>\n",
       "      <td>Feb</td>\n",
       "      <td>1</td>\n",
       "      <td>1.0</td>\n",
       "      <td>1</td>\n",
       "      <td>1.0</td>\n",
       "      <td>Returning_Visitor</td>\n",
       "      <td>0.0</td>\n",
       "      <td>False</td>\n",
       "    </tr>\n",
       "    <tr>\n",
       "      <td>1</td>\n",
       "      <td>0.0</td>\n",
       "      <td>0.0</td>\n",
       "      <td>0.0</td>\n",
       "      <td>0.0</td>\n",
       "      <td>2.0</td>\n",
       "      <td>64.000000</td>\n",
       "      <td>0.00</td>\n",
       "      <td>0.10</td>\n",
       "      <td>0.0</td>\n",
       "      <td>0.0</td>\n",
       "      <td>Feb</td>\n",
       "      <td>2</td>\n",
       "      <td>2.0</td>\n",
       "      <td>1</td>\n",
       "      <td>2.0</td>\n",
       "      <td>Returning_Visitor</td>\n",
       "      <td>0.0</td>\n",
       "      <td>False</td>\n",
       "    </tr>\n",
       "    <tr>\n",
       "      <td>2</td>\n",
       "      <td>0.0</td>\n",
       "      <td>-1.0</td>\n",
       "      <td>0.0</td>\n",
       "      <td>-1.0</td>\n",
       "      <td>1.0</td>\n",
       "      <td>-1.000000</td>\n",
       "      <td>0.20</td>\n",
       "      <td>0.20</td>\n",
       "      <td>0.0</td>\n",
       "      <td>0.0</td>\n",
       "      <td>Feb</td>\n",
       "      <td>4</td>\n",
       "      <td>1.0</td>\n",
       "      <td>9</td>\n",
       "      <td>3.0</td>\n",
       "      <td>Returning_Visitor</td>\n",
       "      <td>0.0</td>\n",
       "      <td>False</td>\n",
       "    </tr>\n",
       "    <tr>\n",
       "      <td>3</td>\n",
       "      <td>0.0</td>\n",
       "      <td>0.0</td>\n",
       "      <td>0.0</td>\n",
       "      <td>0.0</td>\n",
       "      <td>2.0</td>\n",
       "      <td>2.666667</td>\n",
       "      <td>0.05</td>\n",
       "      <td>0.14</td>\n",
       "      <td>0.0</td>\n",
       "      <td>0.0</td>\n",
       "      <td>Feb</td>\n",
       "      <td>3</td>\n",
       "      <td>2.0</td>\n",
       "      <td>2</td>\n",
       "      <td>4.0</td>\n",
       "      <td>Returning_Visitor</td>\n",
       "      <td>0.0</td>\n",
       "      <td>False</td>\n",
       "    </tr>\n",
       "    <tr>\n",
       "      <td>4</td>\n",
       "      <td>0.0</td>\n",
       "      <td>0.0</td>\n",
       "      <td>0.0</td>\n",
       "      <td>0.0</td>\n",
       "      <td>10.0</td>\n",
       "      <td>627.500000</td>\n",
       "      <td>0.02</td>\n",
       "      <td>0.05</td>\n",
       "      <td>0.0</td>\n",
       "      <td>0.0</td>\n",
       "      <td>Feb</td>\n",
       "      <td>3</td>\n",
       "      <td>3.0</td>\n",
       "      <td>1</td>\n",
       "      <td>4.0</td>\n",
       "      <td>Returning_Visitor</td>\n",
       "      <td>1.0</td>\n",
       "      <td>False</td>\n",
       "    </tr>\n",
       "  </tbody>\n",
       "</table>\n",
       "</div>"
      ],
      "text/plain": [
       "   Administrative Administrative_Duration  Informational  \\\n",
       "0             0.0                     0.0            0.0   \n",
       "1             0.0                     0.0            0.0   \n",
       "2             0.0                    -1.0            0.0   \n",
       "3             0.0                     0.0            0.0   \n",
       "4             0.0                     0.0            0.0   \n",
       "\n",
       "  Informational_Duration  ProductRelated  ProductRelated_Duration  \\\n",
       "0                    0.0             1.0                 0.000000   \n",
       "1                    0.0             2.0                64.000000   \n",
       "2                   -1.0             1.0                -1.000000   \n",
       "3                    0.0             2.0                 2.666667   \n",
       "4                    0.0            10.0               627.500000   \n",
       "\n",
       "   BounceRates  ExitRates PageValues  SpecialDay Month OperatingSystems  \\\n",
       "0         0.20       0.20        0.0         0.0   Feb                1   \n",
       "1         0.00       0.10        0.0         0.0   Feb                2   \n",
       "2         0.20       0.20        0.0         0.0   Feb                4   \n",
       "3         0.05       0.14        0.0         0.0   Feb                3   \n",
       "4         0.02       0.05        0.0         0.0   Feb                3   \n",
       "\n",
       "   Browser Region  TrafficType        VisitorType Weekend  Revenue  \n",
       "0      1.0      1          1.0  Returning_Visitor     0.0    False  \n",
       "1      2.0      1          2.0  Returning_Visitor     0.0    False  \n",
       "2      1.0      9          3.0  Returning_Visitor     0.0    False  \n",
       "3      2.0      2          4.0  Returning_Visitor     0.0    False  \n",
       "4      3.0      1          4.0  Returning_Visitor     1.0    False  "
      ]
     },
     "execution_count": 5,
     "metadata": {},
     "output_type": "execute_result"
    }
   ],
   "source": [
    "data.head()"
   ]
  },
  {
   "cell_type": "code",
   "execution_count": 6,
   "metadata": {
    "ExecuteTime": {
     "end_time": "2020-04-22T18:47:49.064408Z",
     "start_time": "2020-04-22T18:47:49.059982Z"
    }
   },
   "outputs": [
    {
     "data": {
      "text/plain": [
       "(12330, 18)"
      ]
     },
     "execution_count": 6,
     "metadata": {},
     "output_type": "execute_result"
    }
   ],
   "source": [
    "data.shape"
   ]
  },
  {
   "cell_type": "code",
   "execution_count": 7,
   "metadata": {
    "ExecuteTime": {
     "end_time": "2020-04-22T18:47:49.071340Z",
     "start_time": "2020-04-22T18:47:49.066958Z"
    }
   },
   "outputs": [
    {
     "data": {
      "text/plain": [
       "(12330, 18)"
      ]
     },
     "execution_count": 7,
     "metadata": {},
     "output_type": "execute_result"
    }
   ],
   "source": [
    "data.shape"
   ]
  },
  {
   "cell_type": "code",
   "execution_count": 8,
   "metadata": {
    "ExecuteTime": {
     "end_time": "2020-04-22T18:47:49.127568Z",
     "start_time": "2020-04-22T18:47:49.080186Z"
    }
   },
   "outputs": [
    {
     "data": {
      "text/html": [
       "<div>\n",
       "<style scoped>\n",
       "    .dataframe tbody tr th:only-of-type {\n",
       "        vertical-align: middle;\n",
       "    }\n",
       "\n",
       "    .dataframe tbody tr th {\n",
       "        vertical-align: top;\n",
       "    }\n",
       "\n",
       "    .dataframe thead th {\n",
       "        text-align: right;\n",
       "    }\n",
       "</style>\n",
       "<table border=\"1\" class=\"dataframe\">\n",
       "  <thead>\n",
       "    <tr style=\"text-align: right;\">\n",
       "      <th></th>\n",
       "      <th>Administrative</th>\n",
       "      <th>Informational</th>\n",
       "      <th>ProductRelated</th>\n",
       "      <th>ProductRelated_Duration</th>\n",
       "      <th>BounceRates</th>\n",
       "      <th>ExitRates</th>\n",
       "      <th>SpecialDay</th>\n",
       "      <th>Browser</th>\n",
       "      <th>TrafficType</th>\n",
       "    </tr>\n",
       "  </thead>\n",
       "  <tbody>\n",
       "    <tr>\n",
       "      <td>count</td>\n",
       "      <td>12296.000000</td>\n",
       "      <td>12316.000000</td>\n",
       "      <td>12196.000000</td>\n",
       "      <td>12316.000000</td>\n",
       "      <td>12216.000000</td>\n",
       "      <td>12316.000000</td>\n",
       "      <td>12330.000000</td>\n",
       "      <td>12230.000000</td>\n",
       "      <td>12210.000000</td>\n",
       "    </tr>\n",
       "    <tr>\n",
       "      <td>mean</td>\n",
       "      <td>10.428351</td>\n",
       "      <td>0.503979</td>\n",
       "      <td>31.739259</td>\n",
       "      <td>1196.037057</td>\n",
       "      <td>0.027052</td>\n",
       "      <td>0.043003</td>\n",
       "      <td>0.061427</td>\n",
       "      <td>2.350613</td>\n",
       "      <td>4.062899</td>\n",
       "    </tr>\n",
       "    <tr>\n",
       "      <td>std</td>\n",
       "      <td>89.580739</td>\n",
       "      <td>1.270701</td>\n",
       "      <td>44.468360</td>\n",
       "      <td>1914.372511</td>\n",
       "      <td>0.129758</td>\n",
       "      <td>0.048527</td>\n",
       "      <td>0.198917</td>\n",
       "      <td>1.720863</td>\n",
       "      <td>4.016304</td>\n",
       "    </tr>\n",
       "    <tr>\n",
       "      <td>min</td>\n",
       "      <td>0.000000</td>\n",
       "      <td>0.000000</td>\n",
       "      <td>0.000000</td>\n",
       "      <td>-1.000000</td>\n",
       "      <td>0.000000</td>\n",
       "      <td>0.000000</td>\n",
       "      <td>0.000000</td>\n",
       "      <td>-1.000000</td>\n",
       "      <td>1.000000</td>\n",
       "    </tr>\n",
       "    <tr>\n",
       "      <td>25%</td>\n",
       "      <td>0.000000</td>\n",
       "      <td>0.000000</td>\n",
       "      <td>7.000000</td>\n",
       "      <td>185.000000</td>\n",
       "      <td>0.000000</td>\n",
       "      <td>0.014286</td>\n",
       "      <td>0.000000</td>\n",
       "      <td>2.000000</td>\n",
       "      <td>2.000000</td>\n",
       "    </tr>\n",
       "    <tr>\n",
       "      <td>50%</td>\n",
       "      <td>1.000000</td>\n",
       "      <td>0.000000</td>\n",
       "      <td>18.000000</td>\n",
       "      <td>599.766190</td>\n",
       "      <td>0.003175</td>\n",
       "      <td>0.025124</td>\n",
       "      <td>0.000000</td>\n",
       "      <td>2.000000</td>\n",
       "      <td>2.000000</td>\n",
       "    </tr>\n",
       "    <tr>\n",
       "      <td>75%</td>\n",
       "      <td>4.000000</td>\n",
       "      <td>0.000000</td>\n",
       "      <td>38.000000</td>\n",
       "      <td>1466.479902</td>\n",
       "      <td>0.017027</td>\n",
       "      <td>0.050000</td>\n",
       "      <td>0.000000</td>\n",
       "      <td>2.000000</td>\n",
       "      <td>4.000000</td>\n",
       "    </tr>\n",
       "    <tr>\n",
       "      <td>max</td>\n",
       "      <td>999.000000</td>\n",
       "      <td>24.000000</td>\n",
       "      <td>705.000000</td>\n",
       "      <td>63973.522230</td>\n",
       "      <td>3.000000</td>\n",
       "      <td>0.200000</td>\n",
       "      <td>1.000000</td>\n",
       "      <td>13.000000</td>\n",
       "      <td>20.000000</td>\n",
       "    </tr>\n",
       "  </tbody>\n",
       "</table>\n",
       "</div>"
      ],
      "text/plain": [
       "       Administrative  Informational  ProductRelated  ProductRelated_Duration  \\\n",
       "count    12296.000000   12316.000000    12196.000000             12316.000000   \n",
       "mean        10.428351       0.503979       31.739259              1196.037057   \n",
       "std         89.580739       1.270701       44.468360              1914.372511   \n",
       "min          0.000000       0.000000        0.000000                -1.000000   \n",
       "25%          0.000000       0.000000        7.000000               185.000000   \n",
       "50%          1.000000       0.000000       18.000000               599.766190   \n",
       "75%          4.000000       0.000000       38.000000              1466.479902   \n",
       "max        999.000000      24.000000      705.000000             63973.522230   \n",
       "\n",
       "        BounceRates     ExitRates    SpecialDay       Browser   TrafficType  \n",
       "count  12216.000000  12316.000000  12330.000000  12230.000000  12210.000000  \n",
       "mean       0.027052      0.043003      0.061427      2.350613      4.062899  \n",
       "std        0.129758      0.048527      0.198917      1.720863      4.016304  \n",
       "min        0.000000      0.000000      0.000000     -1.000000      1.000000  \n",
       "25%        0.000000      0.014286      0.000000      2.000000      2.000000  \n",
       "50%        0.003175      0.025124      0.000000      2.000000      2.000000  \n",
       "75%        0.017027      0.050000      0.000000      2.000000      4.000000  \n",
       "max        3.000000      0.200000      1.000000     13.000000     20.000000  "
      ]
     },
     "execution_count": 8,
     "metadata": {},
     "output_type": "execute_result"
    }
   ],
   "source": [
    "data.describe()"
   ]
  },
  {
   "cell_type": "code",
   "execution_count": 9,
   "metadata": {
    "ExecuteTime": {
     "end_time": "2020-04-22T18:47:49.169903Z",
     "start_time": "2020-04-22T18:47:49.130224Z"
    }
   },
   "outputs": [
    {
     "data": {
      "text/html": [
       "<div>\n",
       "<style scoped>\n",
       "    .dataframe tbody tr th:only-of-type {\n",
       "        vertical-align: middle;\n",
       "    }\n",
       "\n",
       "    .dataframe tbody tr th {\n",
       "        vertical-align: top;\n",
       "    }\n",
       "\n",
       "    .dataframe thead th {\n",
       "        text-align: right;\n",
       "    }\n",
       "</style>\n",
       "<table border=\"1\" class=\"dataframe\">\n",
       "  <thead>\n",
       "    <tr style=\"text-align: right;\">\n",
       "      <th></th>\n",
       "      <th>Administrative</th>\n",
       "      <th>Informational</th>\n",
       "      <th>ProductRelated</th>\n",
       "      <th>ProductRelated_Duration</th>\n",
       "      <th>BounceRates</th>\n",
       "      <th>ExitRates</th>\n",
       "      <th>SpecialDay</th>\n",
       "      <th>Browser</th>\n",
       "      <th>TrafficType</th>\n",
       "    </tr>\n",
       "  </thead>\n",
       "  <tbody>\n",
       "    <tr>\n",
       "      <td>count</td>\n",
       "      <td>12296.000000</td>\n",
       "      <td>12316.000000</td>\n",
       "      <td>12196.000000</td>\n",
       "      <td>12316.000000</td>\n",
       "      <td>12216.000000</td>\n",
       "      <td>12316.000000</td>\n",
       "      <td>12330.000000</td>\n",
       "      <td>12230.000000</td>\n",
       "      <td>12210.000000</td>\n",
       "    </tr>\n",
       "    <tr>\n",
       "      <td>mean</td>\n",
       "      <td>10.428351</td>\n",
       "      <td>0.503979</td>\n",
       "      <td>31.739259</td>\n",
       "      <td>1196.037057</td>\n",
       "      <td>0.027052</td>\n",
       "      <td>0.043003</td>\n",
       "      <td>0.061427</td>\n",
       "      <td>2.350613</td>\n",
       "      <td>4.062899</td>\n",
       "    </tr>\n",
       "    <tr>\n",
       "      <td>std</td>\n",
       "      <td>89.580739</td>\n",
       "      <td>1.270701</td>\n",
       "      <td>44.468360</td>\n",
       "      <td>1914.372511</td>\n",
       "      <td>0.129758</td>\n",
       "      <td>0.048527</td>\n",
       "      <td>0.198917</td>\n",
       "      <td>1.720863</td>\n",
       "      <td>4.016304</td>\n",
       "    </tr>\n",
       "    <tr>\n",
       "      <td>min</td>\n",
       "      <td>0.000000</td>\n",
       "      <td>0.000000</td>\n",
       "      <td>0.000000</td>\n",
       "      <td>-1.000000</td>\n",
       "      <td>0.000000</td>\n",
       "      <td>0.000000</td>\n",
       "      <td>0.000000</td>\n",
       "      <td>-1.000000</td>\n",
       "      <td>1.000000</td>\n",
       "    </tr>\n",
       "    <tr>\n",
       "      <td>25%</td>\n",
       "      <td>0.000000</td>\n",
       "      <td>0.000000</td>\n",
       "      <td>7.000000</td>\n",
       "      <td>185.000000</td>\n",
       "      <td>0.000000</td>\n",
       "      <td>0.014286</td>\n",
       "      <td>0.000000</td>\n",
       "      <td>2.000000</td>\n",
       "      <td>2.000000</td>\n",
       "    </tr>\n",
       "    <tr>\n",
       "      <td>50%</td>\n",
       "      <td>1.000000</td>\n",
       "      <td>0.000000</td>\n",
       "      <td>18.000000</td>\n",
       "      <td>599.766190</td>\n",
       "      <td>0.003175</td>\n",
       "      <td>0.025124</td>\n",
       "      <td>0.000000</td>\n",
       "      <td>2.000000</td>\n",
       "      <td>2.000000</td>\n",
       "    </tr>\n",
       "    <tr>\n",
       "      <td>75%</td>\n",
       "      <td>4.000000</td>\n",
       "      <td>0.000000</td>\n",
       "      <td>38.000000</td>\n",
       "      <td>1466.479902</td>\n",
       "      <td>0.017027</td>\n",
       "      <td>0.050000</td>\n",
       "      <td>0.000000</td>\n",
       "      <td>2.000000</td>\n",
       "      <td>4.000000</td>\n",
       "    </tr>\n",
       "    <tr>\n",
       "      <td>max</td>\n",
       "      <td>999.000000</td>\n",
       "      <td>24.000000</td>\n",
       "      <td>705.000000</td>\n",
       "      <td>63973.522230</td>\n",
       "      <td>3.000000</td>\n",
       "      <td>0.200000</td>\n",
       "      <td>1.000000</td>\n",
       "      <td>13.000000</td>\n",
       "      <td>20.000000</td>\n",
       "    </tr>\n",
       "  </tbody>\n",
       "</table>\n",
       "</div>"
      ],
      "text/plain": [
       "       Administrative  Informational  ProductRelated  ProductRelated_Duration  \\\n",
       "count    12296.000000   12316.000000    12196.000000             12316.000000   \n",
       "mean        10.428351       0.503979       31.739259              1196.037057   \n",
       "std         89.580739       1.270701       44.468360              1914.372511   \n",
       "min          0.000000       0.000000        0.000000                -1.000000   \n",
       "25%          0.000000       0.000000        7.000000               185.000000   \n",
       "50%          1.000000       0.000000       18.000000               599.766190   \n",
       "75%          4.000000       0.000000       38.000000              1466.479902   \n",
       "max        999.000000      24.000000      705.000000             63973.522230   \n",
       "\n",
       "        BounceRates     ExitRates    SpecialDay       Browser   TrafficType  \n",
       "count  12216.000000  12316.000000  12330.000000  12230.000000  12210.000000  \n",
       "mean       0.027052      0.043003      0.061427      2.350613      4.062899  \n",
       "std        0.129758      0.048527      0.198917      1.720863      4.016304  \n",
       "min        0.000000      0.000000      0.000000     -1.000000      1.000000  \n",
       "25%        0.000000      0.014286      0.000000      2.000000      2.000000  \n",
       "50%        0.003175      0.025124      0.000000      2.000000      2.000000  \n",
       "75%        0.017027      0.050000      0.000000      2.000000      4.000000  \n",
       "max        3.000000      0.200000      1.000000     13.000000     20.000000  "
      ]
     },
     "execution_count": 9,
     "metadata": {},
     "output_type": "execute_result"
    }
   ],
   "source": [
    "data.describe()"
   ]
  },
  {
   "cell_type": "code",
   "execution_count": 10,
   "metadata": {
    "ExecuteTime": {
     "end_time": "2020-04-22T18:47:49.189395Z",
     "start_time": "2020-04-22T18:47:49.172051Z"
    }
   },
   "outputs": [
    {
     "name": "stdout",
     "output_type": "stream",
     "text": [
      "<class 'pandas.core.frame.DataFrame'>\n",
      "Int64Index: 12330 entries, 0 to 12329\n",
      "Data columns (total 18 columns):\n",
      "Administrative             12296 non-null float64\n",
      "Administrative_Duration    12316 non-null object\n",
      "Informational              12316 non-null float64\n",
      "Informational_Duration     12316 non-null object\n",
      "ProductRelated             12196 non-null float64\n",
      "ProductRelated_Duration    12316 non-null float64\n",
      "BounceRates                12216 non-null float64\n",
      "ExitRates                  12316 non-null float64\n",
      "PageValues                 12310 non-null object\n",
      "SpecialDay                 12330 non-null float64\n",
      "Month                      12330 non-null object\n",
      "OperatingSystems           12330 non-null object\n",
      "Browser                    12230 non-null float64\n",
      "Region                     12230 non-null object\n",
      "TrafficType                12210 non-null float64\n",
      "VisitorType                12310 non-null object\n",
      "Weekend                    12310 non-null object\n",
      "Revenue                    12330 non-null bool\n",
      "dtypes: bool(1), float64(9), object(8)\n",
      "memory usage: 1.7+ MB\n"
     ]
    }
   ],
   "source": [
    "data.info()"
   ]
  },
  {
   "cell_type": "code",
   "execution_count": 11,
   "metadata": {
    "ExecuteTime": {
     "end_time": "2020-04-22T18:47:49.203458Z",
     "start_time": "2020-04-22T18:47:49.191894Z"
    }
   },
   "outputs": [
    {
     "name": "stdout",
     "output_type": "stream",
     "text": [
      "<class 'pandas.core.frame.DataFrame'>\n",
      "Int64Index: 12330 entries, 0 to 12329\n",
      "Data columns (total 18 columns):\n",
      "Administrative             12296 non-null float64\n",
      "Administrative_Duration    12316 non-null object\n",
      "Informational              12316 non-null float64\n",
      "Informational_Duration     12316 non-null object\n",
      "ProductRelated             12196 non-null float64\n",
      "ProductRelated_Duration    12316 non-null float64\n",
      "BounceRates                12216 non-null float64\n",
      "ExitRates                  12316 non-null float64\n",
      "PageValues                 12310 non-null object\n",
      "SpecialDay                 12330 non-null float64\n",
      "Month                      12330 non-null object\n",
      "OperatingSystems           12330 non-null object\n",
      "Browser                    12230 non-null float64\n",
      "Region                     12230 non-null object\n",
      "TrafficType                12210 non-null float64\n",
      "VisitorType                12310 non-null object\n",
      "Weekend                    12310 non-null object\n",
      "Revenue                    12330 non-null bool\n",
      "dtypes: bool(1), float64(9), object(8)\n",
      "memory usage: 1.7+ MB\n"
     ]
    }
   ],
   "source": [
    "data.info()"
   ]
  },
  {
   "cell_type": "markdown",
   "metadata": {},
   "source": [
    "## Dataset description:\n",
    " - Administrative:`float`. Administrative Value. `yet to identify`.\n",
    " - Administrative_Duration: `object`. Duration in Administrative Page. `Identify values and change dtype accordingly.`. \n",
    " - Informational: `float`. Informational Value. `yet to identify` \n",
    " - Informational_Duration: `object`. Duration in Informational Page. `Identify values and change dtype accordingly.`\n",
    " - ProductRelated: `float.` Product Related Value. `yet to identify` \n",
    " - ProductRelated_Duration: `object`. Duration in Product Related Page. `Identify values and change dtype accordingly.` \n",
    " - BounceRates: `float`. Bounce Rates of a web page. Percentages. The value of \"Bounce Rate\" feature for a web page refers to the percentage of visitors who enter the site from that page and then leave (\"bounce\") without triggering any other requests to the analytics server during that session. \n",
    " - ExitRates: `float`. Exit rate of a web page. The value of \"Exit Rate\" feature for a specific web page is calculated as for all pageviews to the page, the percentage that were the last in the session. \n",
    " - PageValues: `object`. Page values of each web page. The \"Page Value\" feature represents the average value for a web page that a user visited before completing an e-commerce transaction. `Identify values and change dtype accordingly.` \n",
    " - SpecialDay: Special days like valentine etc. `float`. Closeness to a special date. `dtype correct`. For example, for Valentina’s day, this value takes a nonzero value between February 2 and February 12, zero before and after this date unless it is close to another special day, and its maximum value of 1 on February 8. \n",
    " - Month: Month of the year. `object`. String to identify the month of the year. `clean`. \n",
    " - OperatingSystems: Operating system used. `float`. `Try to explain the values`. \n",
    " - Browser: Browser used. `integer` \n",
    " - Region: Region of the user. `integer`. \n",
    " - TrafficType: Traffic Type. `integer`.  \n",
    " - VisitorType: Types of Visitor `object` \n",
    " - Weekend: Weekend or not `bool`  \n",
    " - Revenue: Revenue will be generated or not `object`. `Should be bool` \n",
    "     "
   ]
  },
  {
   "cell_type": "markdown",
   "metadata": {},
   "source": [
    "# Data cleaning"
   ]
  },
  {
   "cell_type": "markdown",
   "metadata": {},
   "source": [
    "### Administrative_duration"
   ]
  },
  {
   "cell_type": "markdown",
   "metadata": {},
   "source": [
    "- Data type: Categorical, ´object´. Necessary change to float.\n",
    "- There are some values with multiple dots. Necessary to delete these dots.\n",
    "- Missing Values: There are 14 missing values, which is 0.11% out of all data. Will fill this cells with median\n",
    "- 47.5% of sessions are coming from the category 0.0 of the Administrative_Duration"
   ]
  },
  {
   "cell_type": "code",
   "execution_count": 12,
   "metadata": {
    "ExecuteTime": {
     "end_time": "2020-04-22T18:47:49.215581Z",
     "start_time": "2020-04-22T18:47:49.206508Z"
    }
   },
   "outputs": [
    {
     "name": "stdout",
     "output_type": "stream",
     "text": [
      "Column name: Administrative_Duration\n",
      "Total values: 12316\n",
      "NA values: 14\n",
      "% of NA values: 0.11%\n"
     ]
    }
   ],
   "source": [
    "# Missing values\n",
    "\n",
    "NA_values(data.Administrative_Duration)"
   ]
  },
  {
   "cell_type": "code",
   "execution_count": 56,
   "metadata": {
    "ExecuteTime": {
     "end_time": "2020-04-22T18:55:54.274767Z",
     "start_time": "2020-04-22T18:55:54.271608Z"
    }
   },
   "outputs": [],
   "source": [
    "# Fixing problems\n",
    "# Drop dots from cells\n"
   ]
  },
  {
   "cell_type": "code",
   "execution_count": 14,
   "metadata": {
    "ExecuteTime": {
     "end_time": "2020-04-22T18:47:49.437827Z",
     "start_time": "2020-04-22T18:47:49.222631Z"
    }
   },
   "outputs": [
    {
     "name": "stdout",
     "output_type": "stream",
     "text": [
      "0.0                   5805\n",
      "-99                    100\n",
      "4.0                     56\n",
      "5.0                     53\n",
      "7.0                     44\n",
      "                      ... \n",
      "595.1                    1\n",
      "121.16666670000001       1\n",
      "377.0                    1\n",
      "889.1666667000002        1\n",
      "121.5                    1\n",
      "Name: Administrative_Duration, Length: 3310, dtype: int64\n"
     ]
    },
    {
     "data": {
      "image/png": "[encoded data removed]",
      "text/plain": [
       "<Figure size 576x432 with 1 Axes>"
      ]
     },
     "metadata": {},
     "output_type": "display_data"
    }
   ],
   "source": [
    "# Distribution\n",
    "\n",
    "print(data.Administrative_Duration.value_counts())\n",
    "\n",
    "plt.style.use('seaborn')\n",
    "fig, ax = plt.subplots(1, figsize=(8,6))\n",
    "ax1 = data.Informational.hist()\n",
    "plt.title(\"Administrative Duration - distribution\")\n",
    "plt.show()\n"
   ]
  },
  {
   "cell_type": "code",
   "execution_count": 15,
   "metadata": {
    "ExecuteTime": {
     "end_time": "2020-04-22T18:47:49.453612Z",
     "start_time": "2020-04-22T18:47:49.441409Z"
    }
   },
   "outputs": [
    {
     "name": "stdout",
     "output_type": "stream",
     "text": [
      "% of sessions in the category 0.0 of the Administrative_Duration pages: 47.1\n"
     ]
    }
   ],
   "source": [
    "percent_info_0 = data.Administrative_Duration.value_counts()[0]/len(data)*100  \n",
    "print(f'% of sessions in the category 0.0 of the Administrative_Duration pages: {round(percent_info_0,1)}')"
   ]
  },
  {
   "cell_type": "markdown",
   "metadata": {},
   "source": [
    "### BounceRates"
   ]
  },
  {
   "cell_type": "markdown",
   "metadata": {
    "ExecuteTime": {
     "end_time": "2020-04-22T18:47:04.610250Z",
     "start_time": "2020-04-22T18:47:04.600884Z"
    }
   },
   "source": [
    "- Data type: Numerical, ‘float‘. Dtype change not necessary.\n",
    "- Missing Values: There are 14 missing values, which is 0.11% out of all data. Will fill this cells with median\n",
    "- 44.7% of sessions are coming from the category 0.0 of the BounceRates"
   ]
  },
  {
   "cell_type": "code",
   "execution_count": 16,
   "metadata": {
    "ExecuteTime": {
     "end_time": "2020-04-22T18:47:49.460386Z",
     "start_time": "2020-04-22T18:47:49.456700Z"
    }
   },
   "outputs": [
    {
     "name": "stdout",
     "output_type": "stream",
     "text": [
      "Column name: BounceRates\n",
      "Total values: 12216\n",
      "NA values: 114\n",
      "% of NA values: 0.92%\n"
     ]
    }
   ],
   "source": [
    "# Missing values\n",
    "\n",
    "NA_values(data.BounceRates)"
   ]
  },
  {
   "cell_type": "code",
   "execution_count": 17,
   "metadata": {
    "ExecuteTime": {
     "end_time": "2020-04-22T18:47:49.627562Z",
     "start_time": "2020-04-22T18:47:49.461976Z"
    }
   },
   "outputs": [
    {
     "name": "stdout",
     "output_type": "stream",
     "text": [
      "0.000000    5446\n",
      "0.200000     691\n",
      "0.066667     134\n",
      "0.028571     114\n",
      "0.050000     111\n",
      "            ... \n",
      "0.024872       1\n",
      "0.006409       1\n",
      "0.014198       1\n",
      "0.056667       1\n",
      "0.012005       1\n",
      "Name: BounceRates, Length: 1860, dtype: int64\n"
     ]
    },
    {
     "data": {
      "image/png": "[encoded data removed]",
      "text/plain": [
       "<Figure size 576x432 with 1 Axes>"
      ]
     },
     "metadata": {},
     "output_type": "display_data"
    }
   ],
   "source": [
    "# Distribution\n",
    "\n",
    "print(data.BounceRates.value_counts())\n",
    "\n",
    "plt.style.use('seaborn')\n",
    "fig, ax = plt.subplots(1, figsize=(8,6))\n",
    "ax1 = data.Informational.hist()\n",
    "plt.title(\"BounceRates - distribution\")\n",
    "plt.show()"
   ]
  },
  {
   "cell_type": "code",
   "execution_count": 18,
   "metadata": {
    "ExecuteTime": {
     "end_time": "2020-04-22T18:47:49.635416Z",
     "start_time": "2020-04-22T18:47:49.629407Z"
    }
   },
   "outputs": [
    {
     "name": "stdout",
     "output_type": "stream",
     "text": [
      "% of sessions in the category 0.0 of the BounceRates pages: 44.2\n"
     ]
    }
   ],
   "source": [
    "percent_info_0 = data.BounceRates.value_counts()[0]/len(data)*100  \n",
    "print(f'% of sessions in the category 0.0 of the BounceRates pages: {round(percent_info_0,1)}')"
   ]
  },
  {
   "cell_type": "markdown",
   "metadata": {},
   "source": [
    "### OperatingSystems"
   ]
  },
  {
   "cell_type": "code",
   "execution_count": 19,
   "metadata": {
    "ExecuteTime": {
     "end_time": "2020-04-22T18:47:49.640001Z",
     "start_time": "2020-04-22T18:47:49.637196Z"
    }
   },
   "outputs": [],
   "source": [
    "# checking the no. of OSes each user is having??"
   ]
  },
  {
   "cell_type": "markdown",
   "metadata": {
    "ExecuteTime": {
     "end_time": "2020-04-22T18:47:26.026307Z",
     "start_time": "2020-04-22T18:47:26.020195Z"
    }
   },
   "source": [
    "- Data type: Numerical, ‘float‘. Dtype change not necessary.\n",
    "- Missing Values: There are 1 missing values, which is 0.01% out of all data. Will fill this cell with median\n",
    "- 53.4% of sessions are coming from the category 2.0 of the OperatingSystems"
   ]
  },
  {
   "cell_type": "code",
   "execution_count": 20,
   "metadata": {
    "ExecuteTime": {
     "end_time": "2020-04-22T18:47:49.654468Z",
     "start_time": "2020-04-22T18:47:49.647270Z"
    }
   },
   "outputs": [
    {
     "name": "stdout",
     "output_type": "stream",
     "text": [
      "Column name: OperatingSystems\n",
      "Total values: 12330\n",
      "NA values: 0\n",
      "% of NA values: 0.0%\n"
     ]
    }
   ],
   "source": [
    "# Missing values\n",
    "\n",
    "NA_values(data.OperatingSystems)"
   ]
  },
  {
   "cell_type": "code",
   "execution_count": null,
   "metadata": {},
   "outputs": [],
   "source": [
    "# transform 999 and ? to NaN\n",
    "\n",
    "data.OperatingSystems.fillna(method= 'ffill')"
   ]
  },
  {
   "cell_type": "code",
   "execution_count": 21,
   "metadata": {
    "ExecuteTime": {
     "end_time": "2020-04-22T18:47:49.814115Z",
     "start_time": "2020-04-22T18:47:49.656558Z"
    }
   },
   "outputs": [
    {
     "name": "stdout",
     "output_type": "stream",
     "text": [
      "2       6542\n",
      "1       2556\n",
      "3       2531\n",
      "4        471\n",
      "-999      99\n",
      "8         79\n",
      "?         20\n",
      "6         19\n",
      "7          7\n",
      "5          6\n",
      "Name: OperatingSystems, dtype: int64\n"
     ]
    },
    {
     "data": {
      "image/png": "[encoded data removed]",
      "text/plain": [
       "<Figure size 576x432 with 1 Axes>"
      ]
     },
     "metadata": {},
     "output_type": "display_data"
    }
   ],
   "source": [
    "print(data.OperatingSystems.value_counts())\n",
    "\n",
    "plt.style.use('seaborn')\n",
    "fig, ax = plt.subplots(1, figsize=(8,6))\n",
    "ax1 = data.Informational.hist()\n",
    "plt.title(\"OperatingSystems - distribution\")\n",
    "plt.show()"
   ]
  },
  {
   "cell_type": "code",
   "execution_count": 22,
   "metadata": {
    "ExecuteTime": {
     "end_time": "2020-04-22T18:47:49.822939Z",
     "start_time": "2020-04-22T18:47:49.815886Z"
    }
   },
   "outputs": [
    {
     "name": "stdout",
     "output_type": "stream",
     "text": [
      "% of sessions in the category 2.0 of the OperatingSystems pages: 20.5\n"
     ]
    }
   ],
   "source": [
    "percent_info_2 = data.OperatingSystems.value_counts()[2]/len(data)*100  \n",
    "print(f'% of sessions in the category 2.0 of the OperatingSystems pages: {round(percent_info_2,1)}')"
   ]
  },
  {
   "cell_type": "markdown",
   "metadata": {},
   "source": [
    "### Weekend"
   ]
  },
  {
   "cell_type": "markdown",
   "metadata": {},
   "source": [
    "- Data type: Bool. Dtype change not necessary.\n",
    "- Missing Values: There are no missing values.\n",
    "- 76.7% of sessions are coming from the category False of the Weekend"
   ]
  },
  {
   "cell_type": "code",
   "execution_count": 23,
   "metadata": {
    "ExecuteTime": {
     "end_time": "2020-04-22T18:47:49.836729Z",
     "start_time": "2020-04-22T18:47:49.830201Z"
    }
   },
   "outputs": [
    {
     "name": "stdout",
     "output_type": "stream",
     "text": [
      "Column name: Weekend\n",
      "Total values: 12310\n",
      "NA values: 20\n",
      "% of NA values: 0.16%\n"
     ]
    }
   ],
   "source": [
    "# Missing values\n",
    "\n",
    "NA_values(data.Weekend)"
   ]
  },
  {
   "cell_type": "code",
   "execution_count": null,
   "metadata": {
    "ExecuteTime": {
     "end_time": "2020-04-22T19:23:08.603088Z",
     "start_time": "2020-04-22T19:15:17.044Z"
    }
   },
   "outputs": [],
   "source": [
    "print(data.Weekend.value_counts())\n",
    "\n",
    "plt.style.use('seaborn')\n",
    "fig, ax = plt.subplots(1, figsize=(8,6))\n",
    "ax = data.Informational.hist()\n",
    "plt.title(\"Weekend - distribution\")\n",
    "plt.show()"
   ]
  },
  {
   "cell_type": "code",
   "execution_count": 25,
   "metadata": {
    "ExecuteTime": {
     "end_time": "2020-04-22T18:47:50.032624Z",
     "start_time": "2020-04-22T18:47:50.026970Z"
    }
   },
   "outputs": [
    {
     "name": "stdout",
     "output_type": "stream",
     "text": [
      "% of sessions in the category False of the Weekend pages, not in weekend: 44.2\n"
     ]
    }
   ],
   "source": [
    "percent_info_false = data.Weekend.value_counts()[0]/len(data)*100  \n",
    "print(f'% of sessions in the category False of the Weekend pages, not in weekend: {round(percent_info_0,1)}')"
   ]
  },
  {
   "cell_type": "markdown",
   "metadata": {},
   "source": [
    "### Kristina:\n",
    "\n",
    " - **Informational**\n",
    "  - Data type: Categorical, float. No changes\n",
    "  - Missing Values: There are 14 missing values, which is 0.11% out of all data. It will be filled with the median\n",
    "  - 78.7% of sessions are coming from the category 0.0 of the Informational pages\n",
    "  - No other changes are needed\n",
    " - **ExitRates**\n",
    "  - Data type: Numerical, float. No changes\n",
    "  - Missing Values: There are 14 missing values, which is 0.11% out of all data. It will be filled with the median\n",
    "  - Outliers: There are 1094 outliers, which is 8.87% of all data. The majority of the outliers are falling under the FALSE revenue category and under the 0.2 value of the Exit rates. Additional column will be created to be able to filter out the outliers if needed: exitrates_outliers (boolean values).\n",
    " - **Browser**\n",
    "  - Data type: Categorical, integer. No changes\n",
    "  - Missing Values: There are no missing values\n",
    "  - The most popular browser is 2. The usage share is very similar to the standard Usage share of all browsers. Later on, in the data visualization, we will show more insights on this\n",
    "  - No other changes are needed\n",
    " - **Revenue**\n",
    "  - Data type: categorical, object. Will change to boolean\n",
    "  - There are 4 categories, will unify the data to have only TRUE and FALSE\n",
    "  - 84.53% of data falls under FALSE category of Revenue. Since it's a target column, the data will need to be equilibrated."
   ]
  },
  {
   "cell_type": "markdown",
   "metadata": {},
   "source": [
    "#### Informational"
   ]
  },
  {
   "cell_type": "code",
   "execution_count": 26,
   "metadata": {
    "ExecuteTime": {
     "end_time": "2020-04-22T18:47:50.225766Z",
     "start_time": "2020-04-22T18:47:50.034228Z"
    }
   },
   "outputs": [
    {
     "name": "stdout",
     "output_type": "stream",
     "text": [
      "Column name: Informational\n",
      "Total values: 12316\n",
      "NA values: 14\n",
      "% of NA values: 0.11%\n",
      "0.0     9700\n",
      "1.0     1041\n",
      "2.0      727\n",
      "3.0      380\n",
      "4.0      222\n",
      "5.0       99\n",
      "6.0       78\n",
      "7.0       36\n",
      "9.0       15\n",
      "8.0       14\n",
      "10.0       7\n",
      "12.0       5\n",
      "14.0       2\n",
      "11.0       1\n",
      "16.0       1\n",
      "24.0       1\n",
      "13.0       1\n",
      "Name: Informational, dtype: int64\n"
     ]
    },
    {
     "data": {
      "image/png": "[encoded data removed]",
      "text/plain": [
       "<Figure size 576x432 with 1 Axes>"
      ]
     },
     "metadata": {},
     "output_type": "display_data"
    },
    {
     "name": "stdout",
     "output_type": "stream",
     "text": [
      "% of sessions in the category 0.0 of the Informational pages: 78.7\n"
     ]
    }
   ],
   "source": [
    "# Missing values\n",
    "\n",
    "NA_values(data.Informational)\n",
    "\n",
    "# Filling missing values\n",
    "\n",
    "data.Informational = data.Informational.fillna(data.Informational.median())\n",
    "\n",
    "# Distribution\n",
    "\n",
    "print(data.Informational.value_counts())\n",
    "\n",
    "plt.style.use('seaborn')\n",
    "fig, ax = plt.subplots(1, figsize=(8,6))\n",
    "ax1 = data.Informational.hist()\n",
    "plt.title(\"Informational - distribution\")\n",
    "plt.show()\n",
    "\n",
    "# % of sessions in category 0.0 \n",
    "\n",
    "percent_info_0 = data.Informational.value_counts()[0]/len(data)*100  \n",
    "print(f'% of sessions in the category 0.0 of the Informational pages: {round(percent_info_0,1)}')"
   ]
  },
  {
   "cell_type": "markdown",
   "metadata": {},
   "source": [
    "#### Exit Rates"
   ]
  },
  {
   "cell_type": "code",
   "execution_count": 27,
   "metadata": {
    "ExecuteTime": {
     "end_time": "2020-04-22T18:47:50.630300Z",
     "start_time": "2020-04-22T18:47:50.227699Z"
    }
   },
   "outputs": [
    {
     "name": "stdout",
     "output_type": "stream",
     "text": [
      "Column name: ExitRates\n",
      "Total values: 12316\n",
      "NA values: 14\n",
      "% of NA values: 0.11%\n"
     ]
    },
    {
     "data": {
      "image/png": "[encoded data removed]",
      "text/plain": [
       "<Figure size 576x432 with 1 Axes>"
      ]
     },
     "metadata": {},
     "output_type": "display_data"
    },
    {
     "data": {
      "image/png": "[encoded data removed]",
      "text/plain": [
       "<Figure size 576x432 with 1 Axes>"
      ]
     },
     "metadata": {},
     "output_type": "display_data"
    },
    {
     "name": "stdout",
     "output_type": "stream",
     "text": [
      "Column: ExitRates    nLower outliers: all values lower than -0.039    nUpper outliers: all values higher than 0.104    nTotal number of rows with outliers: 1094    n% of outliers: 8.87%\n",
      "False    1087\n",
      "True        6\n",
      "Name: Revenue, dtype: int64\n",
      "0.200000    706\n",
      "0.133333     67\n",
      "0.150000     59\n",
      "0.166667     25\n",
      "0.120000     23\n",
      "           ... \n",
      "0.106207      1\n",
      "0.105556      1\n",
      "0.142424      1\n",
      "0.131944      1\n",
      "0.121212      1\n",
      "Name: ExitRates, Length: 90, dtype: int64\n"
     ]
    }
   ],
   "source": [
    "# Missing values\n",
    "\n",
    "NA_values(data.ExitRates)\n",
    "\n",
    "# Filling missing values\n",
    "\n",
    "data.ExitRates = data.ExitRates.fillna(data.ExitRates.median())\n",
    "\n",
    "# Distribution\n",
    "\n",
    "fig, ax = plt.subplots(1, figsize=(8,6))\n",
    "plt.style.use('seaborn')\n",
    "ax1 = data.ExitRates.hist()\n",
    "plt.title(\"ExitRates - distribution\")\n",
    "plt.show()\n",
    "\n",
    "# Outliers\n",
    "\n",
    "fig, ax = plt.subplots(1, figsize=(8,6))\n",
    "plt.style.use('seaborn')\n",
    "ax1 = data.boxplot('ExitRates')\n",
    "plt.title(\"ExitRates - outliers\")\n",
    "plt.show()\n",
    "\n",
    "iqr(data, data.ExitRates)\n",
    "\n",
    "# Checking the distribution of outliers regarding the target column - Revenue\n",
    "\n",
    "exitrates_outliers = data.loc[(data.ExitRates > 0.104) | (data.ExitRates < -0.039)]\n",
    "print(exitrates_outliers.Revenue.value_counts())\n",
    "\n",
    "# Checking the top exit rate values of the outliers:\n",
    "\n",
    "print(exitrates_outliers.ExitRates.value_counts())\n",
    "\n",
    "# Creating a new column in the dataset to indicate exit rate outliers:\n",
    "# Only using the upper IQR because the lower is a negative value and we don't have values lower tahn 0.\n",
    "\n",
    "data['exitrates_outliers']  = data['ExitRates'].apply(lambda x: 'TRUE' if x > 0.104 else 'FALSE')\n",
    "\n",
    "# Converting column to boolean\n",
    "\n",
    "mapa = {'TRUE': True, 'FALSE': False}\n",
    "data['exitrates_outliers'] = data['exitrates_outliers'].map(mapa)"
   ]
  },
  {
   "cell_type": "markdown",
   "metadata": {},
   "source": [
    "#### Browser"
   ]
  },
  {
   "cell_type": "code",
   "execution_count": 28,
   "metadata": {
    "ExecuteTime": {
     "end_time": "2020-04-22T18:47:50.803307Z",
     "start_time": "2020-04-22T18:47:50.632478Z"
    }
   },
   "outputs": [
    {
     "name": "stdout",
     "output_type": "stream",
     "text": [
      "Column name: Browser\n",
      "Total values: 12230\n",
      "NA values: 100\n",
      "% of NA values: 0.81%\n",
      " 2.0     64.488962\n",
      " 1.0     19.942764\n",
      " 4.0      5.960752\n",
      " 5.0      3.785773\n",
      " 6.0      1.414554\n",
      " 10.0     1.316435\n",
      " 8.0      1.079313\n",
      " 3.0      0.825838\n",
      " 13.0     0.498774\n",
      " 7.0      0.384301\n",
      "-1.0      0.163532\n",
      " 12.0     0.081766\n",
      " 11.0     0.049060\n",
      " 9.0      0.008177\n",
      "Name: Browser, dtype: float64\n"
     ]
    },
    {
     "data": {
      "image/png": "[encoded data removed]",
      "text/plain": [
       "<Figure size 576x432 with 1 Axes>"
      ]
     },
     "metadata": {},
     "output_type": "display_data"
    },
    {
     "name": "stdout",
     "output_type": "stream",
     "text": [
      "                  standard_usage_all\n",
      "Chrome                         64.92\n",
      "Safari                         15.97\n",
      "Firefox                         4.33\n",
      "Samsung_Internet                3.29\n",
      "UC                              2.94\n",
      "Opera                           2.34\n",
      "Edge                            2.05\n",
      "IE                              1.98\n",
      "AOSP                            0.59\n",
      "Others                          1.59\n",
      "                  standard_usage_mobile\n",
      "Chrome                            63.80\n",
      "Safari                            19.70\n",
      "Firefox                            0.35\n",
      "Samsung_Internet                   6.27\n",
      "UC                                 5.33\n",
      "Opera                              2.48\n",
      "Others                             2.07\n"
     ]
    }
   ],
   "source": [
    "# Missing values\n",
    "\n",
    "NA_values(data.Browser)\n",
    "\n",
    "# Distribution\n",
    "\n",
    "print(data.Browser.value_counts(normalize = True)*100) \n",
    "\n",
    "fig, ax = plt.subplots(1, figsize=(8,6))\n",
    "plt.style.use('seaborn')\n",
    "ax1 = data.Browser.hist()\n",
    "plt.title(\"Browser - distribution\")\n",
    "plt.show()\n",
    "\n",
    "# Creating a dataset of the standard usage share of all browsers and of mobile browsers\n",
    "\n",
    "usage_share_browsers = pd.DataFrame({'Chrome': 64.92, 'Safari': 15.97, 'Firefox': 4.33, 'Samsung_Internet': 3.29, \n",
    "                                     'UC': 2.94, 'Opera': 2.34, 'Edge': 2.05, 'IE': 1.98, 'AOSP': 0.59, 'Others': 1.59}, \n",
    "                                    index = [0]).T\n",
    "colnames = ['standard_usage_all']\n",
    "usage_share_browsers.columns = colnames\n",
    "print(usage_share_browsers)\n",
    "\n",
    "usage_share_browsers_mob = pd.DataFrame({'Chrome': 63.80, 'Safari': 19.70, 'Firefox': 0.35, 'Samsung_Internet': 6.27, \n",
    "                                     'UC': 5.33, 'Opera': 2.48, 'Others': 2.07}, \n",
    "                                    index = [0]).T\n",
    "colnames = ['standard_usage_mobile']\n",
    "usage_share_browsers_mob.columns = colnames\n",
    "print(usage_share_browsers_mob)"
   ]
  },
  {
   "cell_type": "markdown",
   "metadata": {},
   "source": [
    "#### Revenue"
   ]
  },
  {
   "cell_type": "code",
   "execution_count": 30,
   "metadata": {
    "ExecuteTime": {
     "end_time": "2020-04-22T18:48:50.891158Z",
     "start_time": "2020-04-22T18:48:50.727760Z"
    },
    "scrolled": false
   },
   "outputs": [
    {
     "name": "stdout",
     "output_type": "stream",
     "text": [
      "Column name: Revenue\n",
      "Total values: 12330\n",
      "NA values: 0\n",
      "% of NA values: 0.0%\n",
      "False    10422\n",
      "True      1908\n",
      "Name: Revenue, dtype: int64\n"
     ]
    },
    {
     "ename": "TypeError",
     "evalue": "numpy boolean subtract, the `-` operator, is deprecated, use the bitwise_xor, the `^` operator, or the logical_xor function instead.",
     "output_type": "error",
     "traceback": [
      "\u001b[0;31m---------------------------------------------------------------------------\u001b[0m",
      "\u001b[0;31mKeyError\u001b[0m                                  Traceback (most recent call last)",
      "\u001b[0;32m/opt/anaconda3/lib/python3.7/site-packages/numpy/lib/histograms.py\u001b[0m in \u001b[0;36m_unsigned_subtract\u001b[0;34m(a, b)\u001b[0m\n\u001b[1;32m    343\u001b[0m     \u001b[0;32mtry\u001b[0m\u001b[0;34m:\u001b[0m\u001b[0;34m\u001b[0m\u001b[0;34m\u001b[0m\u001b[0m\n\u001b[0;32m--> 344\u001b[0;31m         \u001b[0mdt\u001b[0m \u001b[0;34m=\u001b[0m \u001b[0msigned_to_unsigned\u001b[0m\u001b[0;34m[\u001b[0m\u001b[0mdt\u001b[0m\u001b[0;34m.\u001b[0m\u001b[0mtype\u001b[0m\u001b[0;34m]\u001b[0m\u001b[0;34m\u001b[0m\u001b[0;34m\u001b[0m\u001b[0m\n\u001b[0m\u001b[1;32m    345\u001b[0m     \u001b[0;32mexcept\u001b[0m \u001b[0mKeyError\u001b[0m\u001b[0;34m:\u001b[0m\u001b[0;34m\u001b[0m\u001b[0;34m\u001b[0m\u001b[0m\n",
      "\u001b[0;31mKeyError\u001b[0m: <class 'numpy.bool_'>",
      "\nDuring handling of the above exception, another exception occurred:\n",
      "\u001b[0;31mTypeError\u001b[0m                                 Traceback (most recent call last)",
      "\u001b[0;32m<ipython-input-30-12b67e1d73e9>\u001b[0m in \u001b[0;36m<module>\u001b[0;34m\u001b[0m\n\u001b[1;32m      9\u001b[0m \u001b[0mfig\u001b[0m\u001b[0;34m,\u001b[0m \u001b[0max\u001b[0m \u001b[0;34m=\u001b[0m \u001b[0mplt\u001b[0m\u001b[0;34m.\u001b[0m\u001b[0msubplots\u001b[0m\u001b[0;34m(\u001b[0m\u001b[0;36m1\u001b[0m\u001b[0;34m,\u001b[0m \u001b[0mfigsize\u001b[0m\u001b[0;34m=\u001b[0m\u001b[0;34m(\u001b[0m\u001b[0;36m8\u001b[0m\u001b[0;34m,\u001b[0m\u001b[0;36m6\u001b[0m\u001b[0;34m)\u001b[0m\u001b[0;34m)\u001b[0m\u001b[0;34m\u001b[0m\u001b[0;34m\u001b[0m\u001b[0m\n\u001b[1;32m     10\u001b[0m \u001b[0mplt\u001b[0m\u001b[0;34m.\u001b[0m\u001b[0mstyle\u001b[0m\u001b[0;34m.\u001b[0m\u001b[0muse\u001b[0m\u001b[0;34m(\u001b[0m\u001b[0;34m'seaborn'\u001b[0m\u001b[0;34m)\u001b[0m\u001b[0;34m\u001b[0m\u001b[0;34m\u001b[0m\u001b[0m\n\u001b[0;32m---> 11\u001b[0;31m \u001b[0max1\u001b[0m \u001b[0;34m=\u001b[0m \u001b[0mdata\u001b[0m\u001b[0;34m.\u001b[0m\u001b[0mRevenue\u001b[0m\u001b[0;34m.\u001b[0m\u001b[0mhist\u001b[0m\u001b[0;34m(\u001b[0m\u001b[0;34m)\u001b[0m\u001b[0;34m\u001b[0m\u001b[0;34m\u001b[0m\u001b[0m\n\u001b[0m\u001b[1;32m     12\u001b[0m \u001b[0mplt\u001b[0m\u001b[0;34m.\u001b[0m\u001b[0mtitle\u001b[0m\u001b[0;34m(\u001b[0m\u001b[0;34m\"Revenue distribution\"\u001b[0m\u001b[0;34m)\u001b[0m\u001b[0;34m\u001b[0m\u001b[0;34m\u001b[0m\u001b[0m\n\u001b[1;32m     13\u001b[0m \u001b[0mplt\u001b[0m\u001b[0;34m.\u001b[0m\u001b[0mshow\u001b[0m\u001b[0;34m(\u001b[0m\u001b[0;34m)\u001b[0m\u001b[0;34m\u001b[0m\u001b[0;34m\u001b[0m\u001b[0m\n",
      "\u001b[0;32m/opt/anaconda3/lib/python3.7/site-packages/pandas/plotting/_core.py\u001b[0m in \u001b[0;36mhist_series\u001b[0;34m(self, by, ax, grid, xlabelsize, xrot, ylabelsize, yrot, figsize, bins, **kwds)\u001b[0m\n\u001b[1;32m     83\u001b[0m         \u001b[0mfigsize\u001b[0m\u001b[0;34m=\u001b[0m\u001b[0mfigsize\u001b[0m\u001b[0;34m,\u001b[0m\u001b[0;34m\u001b[0m\u001b[0;34m\u001b[0m\u001b[0m\n\u001b[1;32m     84\u001b[0m         \u001b[0mbins\u001b[0m\u001b[0;34m=\u001b[0m\u001b[0mbins\u001b[0m\u001b[0;34m,\u001b[0m\u001b[0;34m\u001b[0m\u001b[0;34m\u001b[0m\u001b[0m\n\u001b[0;32m---> 85\u001b[0;31m         \u001b[0;34m**\u001b[0m\u001b[0mkwds\u001b[0m\u001b[0;34m\u001b[0m\u001b[0;34m\u001b[0m\u001b[0m\n\u001b[0m\u001b[1;32m     86\u001b[0m     )\n\u001b[1;32m     87\u001b[0m \u001b[0;34m\u001b[0m\u001b[0m\n",
      "\u001b[0;32m/opt/anaconda3/lib/python3.7/site-packages/pandas/plotting/_matplotlib/hist.py\u001b[0m in \u001b[0;36mhist_series\u001b[0;34m(self, by, ax, grid, xlabelsize, xrot, ylabelsize, yrot, figsize, bins, **kwds)\u001b[0m\n\u001b[1;32m    314\u001b[0m         \u001b[0mvalues\u001b[0m \u001b[0;34m=\u001b[0m \u001b[0mself\u001b[0m\u001b[0;34m.\u001b[0m\u001b[0mdropna\u001b[0m\u001b[0;34m(\u001b[0m\u001b[0;34m)\u001b[0m\u001b[0;34m.\u001b[0m\u001b[0mvalues\u001b[0m\u001b[0;34m\u001b[0m\u001b[0;34m\u001b[0m\u001b[0m\n\u001b[1;32m    315\u001b[0m \u001b[0;34m\u001b[0m\u001b[0m\n\u001b[0;32m--> 316\u001b[0;31m         \u001b[0max\u001b[0m\u001b[0;34m.\u001b[0m\u001b[0mhist\u001b[0m\u001b[0;34m(\u001b[0m\u001b[0mvalues\u001b[0m\u001b[0;34m,\u001b[0m \u001b[0mbins\u001b[0m\u001b[0;34m=\u001b[0m\u001b[0mbins\u001b[0m\u001b[0;34m,\u001b[0m \u001b[0;34m**\u001b[0m\u001b[0mkwds\u001b[0m\u001b[0;34m)\u001b[0m\u001b[0;34m\u001b[0m\u001b[0;34m\u001b[0m\u001b[0m\n\u001b[0m\u001b[1;32m    317\u001b[0m         \u001b[0max\u001b[0m\u001b[0;34m.\u001b[0m\u001b[0mgrid\u001b[0m\u001b[0;34m(\u001b[0m\u001b[0mgrid\u001b[0m\u001b[0;34m)\u001b[0m\u001b[0;34m\u001b[0m\u001b[0;34m\u001b[0m\u001b[0m\n\u001b[1;32m    318\u001b[0m         \u001b[0maxes\u001b[0m \u001b[0;34m=\u001b[0m \u001b[0mnp\u001b[0m\u001b[0;34m.\u001b[0m\u001b[0marray\u001b[0m\u001b[0;34m(\u001b[0m\u001b[0;34m[\u001b[0m\u001b[0max\u001b[0m\u001b[0;34m]\u001b[0m\u001b[0;34m)\u001b[0m\u001b[0;34m\u001b[0m\u001b[0;34m\u001b[0m\u001b[0m\n",
      "\u001b[0;32m/opt/anaconda3/lib/python3.7/site-packages/matplotlib/__init__.py\u001b[0m in \u001b[0;36minner\u001b[0;34m(ax, *args, **kwargs)\u001b[0m\n\u001b[1;32m   1865\u001b[0m                         \u001b[0;34m\"the Matplotlib list!)\"\u001b[0m \u001b[0;34m%\u001b[0m \u001b[0;34m(\u001b[0m\u001b[0mlabel_namer\u001b[0m\u001b[0;34m,\u001b[0m \u001b[0mfunc\u001b[0m\u001b[0;34m.\u001b[0m\u001b[0m__name__\u001b[0m\u001b[0;34m)\u001b[0m\u001b[0;34m,\u001b[0m\u001b[0;34m\u001b[0m\u001b[0;34m\u001b[0m\u001b[0m\n\u001b[1;32m   1866\u001b[0m                         RuntimeWarning, stacklevel=2)\n\u001b[0;32m-> 1867\u001b[0;31m             \u001b[0;32mreturn\u001b[0m \u001b[0mfunc\u001b[0m\u001b[0;34m(\u001b[0m\u001b[0max\u001b[0m\u001b[0;34m,\u001b[0m \u001b[0;34m*\u001b[0m\u001b[0margs\u001b[0m\u001b[0;34m,\u001b[0m \u001b[0;34m**\u001b[0m\u001b[0mkwargs\u001b[0m\u001b[0;34m)\u001b[0m\u001b[0;34m\u001b[0m\u001b[0;34m\u001b[0m\u001b[0m\n\u001b[0m\u001b[1;32m   1868\u001b[0m \u001b[0;34m\u001b[0m\u001b[0m\n\u001b[1;32m   1869\u001b[0m         inner.__doc__ = _add_data_doc(inner.__doc__,\n",
      "\u001b[0;32m/opt/anaconda3/lib/python3.7/site-packages/matplotlib/axes/_axes.py\u001b[0m in \u001b[0;36mhist\u001b[0;34m(***failed resolving arguments***)\u001b[0m\n\u001b[1;32m   6637\u001b[0m             \u001b[0;31m# this will automatically overwrite bins,\u001b[0m\u001b[0;34m\u001b[0m\u001b[0;34m\u001b[0m\u001b[0;34m\u001b[0m\u001b[0m\n\u001b[1;32m   6638\u001b[0m             \u001b[0;31m# so that each histogram uses the same bins\u001b[0m\u001b[0;34m\u001b[0m\u001b[0;34m\u001b[0m\u001b[0;34m\u001b[0m\u001b[0m\n\u001b[0;32m-> 6639\u001b[0;31m             \u001b[0mm\u001b[0m\u001b[0;34m,\u001b[0m \u001b[0mbins\u001b[0m \u001b[0;34m=\u001b[0m \u001b[0mnp\u001b[0m\u001b[0;34m.\u001b[0m\u001b[0mhistogram\u001b[0m\u001b[0;34m(\u001b[0m\u001b[0mx\u001b[0m\u001b[0;34m[\u001b[0m\u001b[0mi\u001b[0m\u001b[0;34m]\u001b[0m\u001b[0;34m,\u001b[0m \u001b[0mbins\u001b[0m\u001b[0;34m,\u001b[0m \u001b[0mweights\u001b[0m\u001b[0;34m=\u001b[0m\u001b[0mw\u001b[0m\u001b[0;34m[\u001b[0m\u001b[0mi\u001b[0m\u001b[0;34m]\u001b[0m\u001b[0;34m,\u001b[0m \u001b[0;34m**\u001b[0m\u001b[0mhist_kwargs\u001b[0m\u001b[0;34m)\u001b[0m\u001b[0;34m\u001b[0m\u001b[0;34m\u001b[0m\u001b[0m\n\u001b[0m\u001b[1;32m   6640\u001b[0m             \u001b[0mm\u001b[0m \u001b[0;34m=\u001b[0m \u001b[0mm\u001b[0m\u001b[0;34m.\u001b[0m\u001b[0mastype\u001b[0m\u001b[0;34m(\u001b[0m\u001b[0mfloat\u001b[0m\u001b[0;34m)\u001b[0m  \u001b[0;31m# causes problems later if it's an int\u001b[0m\u001b[0;34m\u001b[0m\u001b[0;34m\u001b[0m\u001b[0m\n\u001b[1;32m   6641\u001b[0m             \u001b[0;32mif\u001b[0m \u001b[0mmlast\u001b[0m \u001b[0;32mis\u001b[0m \u001b[0;32mNone\u001b[0m\u001b[0;34m:\u001b[0m\u001b[0;34m\u001b[0m\u001b[0;34m\u001b[0m\u001b[0m\n",
      "\u001b[0;32m<__array_function__ internals>\u001b[0m in \u001b[0;36mhistogram\u001b[0;34m(*args, **kwargs)\u001b[0m\n",
      "\u001b[0;32m/opt/anaconda3/lib/python3.7/site-packages/numpy/lib/histograms.py\u001b[0m in \u001b[0;36mhistogram\u001b[0;34m(a, bins, range, normed, weights, density)\u001b[0m\n\u001b[1;32m    813\u001b[0m \u001b[0;34m\u001b[0m\u001b[0m\n\u001b[1;32m    814\u001b[0m         \u001b[0;31m# Pre-compute histogram scaling factor\u001b[0m\u001b[0;34m\u001b[0m\u001b[0;34m\u001b[0m\u001b[0;34m\u001b[0m\u001b[0m\n\u001b[0;32m--> 815\u001b[0;31m         \u001b[0mnorm\u001b[0m \u001b[0;34m=\u001b[0m \u001b[0mn_equal_bins\u001b[0m \u001b[0;34m/\u001b[0m \u001b[0m_unsigned_subtract\u001b[0m\u001b[0;34m(\u001b[0m\u001b[0mlast_edge\u001b[0m\u001b[0;34m,\u001b[0m \u001b[0mfirst_edge\u001b[0m\u001b[0;34m)\u001b[0m\u001b[0;34m\u001b[0m\u001b[0;34m\u001b[0m\u001b[0m\n\u001b[0m\u001b[1;32m    816\u001b[0m \u001b[0;34m\u001b[0m\u001b[0m\n\u001b[1;32m    817\u001b[0m         \u001b[0;31m# We iterate over blocks here for two reasons: the first is that for\u001b[0m\u001b[0;34m\u001b[0m\u001b[0;34m\u001b[0m\u001b[0;34m\u001b[0m\u001b[0m\n",
      "\u001b[0;32m/opt/anaconda3/lib/python3.7/site-packages/numpy/lib/histograms.py\u001b[0m in \u001b[0;36m_unsigned_subtract\u001b[0;34m(a, b)\u001b[0m\n\u001b[1;32m    344\u001b[0m         \u001b[0mdt\u001b[0m \u001b[0;34m=\u001b[0m \u001b[0msigned_to_unsigned\u001b[0m\u001b[0;34m[\u001b[0m\u001b[0mdt\u001b[0m\u001b[0;34m.\u001b[0m\u001b[0mtype\u001b[0m\u001b[0;34m]\u001b[0m\u001b[0;34m\u001b[0m\u001b[0;34m\u001b[0m\u001b[0m\n\u001b[1;32m    345\u001b[0m     \u001b[0;32mexcept\u001b[0m \u001b[0mKeyError\u001b[0m\u001b[0;34m:\u001b[0m\u001b[0;34m\u001b[0m\u001b[0;34m\u001b[0m\u001b[0m\n\u001b[0;32m--> 346\u001b[0;31m         \u001b[0;32mreturn\u001b[0m \u001b[0mnp\u001b[0m\u001b[0;34m.\u001b[0m\u001b[0msubtract\u001b[0m\u001b[0;34m(\u001b[0m\u001b[0ma\u001b[0m\u001b[0;34m,\u001b[0m \u001b[0mb\u001b[0m\u001b[0;34m,\u001b[0m \u001b[0mdtype\u001b[0m\u001b[0;34m=\u001b[0m\u001b[0mdt\u001b[0m\u001b[0;34m)\u001b[0m\u001b[0;34m\u001b[0m\u001b[0;34m\u001b[0m\u001b[0m\n\u001b[0m\u001b[1;32m    347\u001b[0m     \u001b[0;32melse\u001b[0m\u001b[0;34m:\u001b[0m\u001b[0;34m\u001b[0m\u001b[0;34m\u001b[0m\u001b[0m\n\u001b[1;32m    348\u001b[0m         \u001b[0;31m# we know the inputs are integers, and we are deliberately casting\u001b[0m\u001b[0;34m\u001b[0m\u001b[0;34m\u001b[0m\u001b[0;34m\u001b[0m\u001b[0m\n",
      "\u001b[0;31mTypeError\u001b[0m: numpy boolean subtract, the `-` operator, is deprecated, use the bitwise_xor, the `^` operator, or the logical_xor function instead."
     ]
    },
    {
     "data": {
      "image/png": "[encoded data removed]",
      "text/plain": [
       "<Figure size 576x432 with 1 Axes>"
      ]
     },
     "metadata": {},
     "output_type": "display_data"
    }
   ],
   "source": [
    "# Missing values\n",
    "\n",
    "NA_values(data.Revenue)\n",
    "\n",
    "# Distribution\n",
    "\n",
    "print(data.Revenue.value_counts())\n",
    "\n",
    "fig, ax = plt.subplots(1, figsize=(8,6))\n",
    "plt.style.use('seaborn')\n",
    "ax1 = data.Revenue.hist()\n",
    "plt.title(\"Revenue - distribution\")\n",
    "plt.show()\n",
    "\n",
    "# Changing 0 and 1 to TRUE and FALSE\n",
    "\n",
    "data.Revenue.replace('0', 'FALSE', inplace=True)\n",
    "data.Revenue.replace('1', 'TRUE', inplace=True)\n",
    "\n",
    "# Converting column to boolean\n",
    "\n",
    "mapa = {'TRUE': True, 'FALSE': False}\n",
    "data['Revenue'] = data['Revenue'].map(mapa)\n",
    "\n",
    "print(f' {round(data.Revenue.value_counts(normalize = True)[0]*100, 2)}% of data falls under FALSE category of Revenue')"
   ]
  },
  {
   "cell_type": "markdown",
   "metadata": {},
   "source": [
    "### Isaac:\n",
    "\n",
    "    - Informational_Duration: There is a 'None' value so for this reason the type is an object.. We should change it to 0 and convert all the Series to float. In terms of missing values we got it covered (0.11%). We will fill them with the mean. 0.0% of outliers.\n",
    "    - PageValues. Same as Informationa_Duration, we got an object called (#Nan). We should also change it and convert all the Series to float. Same for the missing values. 0.0% of outliers.\n",
    "    - Region. There are only 9 regions. There are some with 'nan' or 'Nan'. My proposal is to remove whole cell as it will end up with bad results."
   ]
  },
  {
   "cell_type": "code",
   "execution_count": 70,
   "metadata": {
    "ExecuteTime": {
     "end_time": "2020-04-22T19:23:52.031812Z",
     "start_time": "2020-04-22T19:23:52.009402Z"
    }
   },
   "outputs": [
    {
     "name": "stdout",
     "output_type": "stream",
     "text": [
      "Column name: Informational_Duration\n",
      "Total values: 12218\n",
      "NA values: 112\n",
      "% of NA values: 0.91%\n",
      "Column: Informational_Duration\n",
      "Lower outliers: all values lower than nan\n",
      "Upper outliers: all values higher than nan\n",
      "Total number of rows with outliers: 0\n",
      "% of outliers: 0.0%\n"
     ]
    },
    {
     "name": "stderr",
     "output_type": "stream",
     "text": [
      "/opt/anaconda3/lib/python3.7/site-packages/pandas/core/ops/__init__.py:1115: FutureWarning: elementwise comparison failed; returning scalar instead, but in the future will perform elementwise comparison\n",
      "  result = method(y)\n"
     ]
    }
   ],
   "source": [
    "# Informational_Duration column\n",
    "\n",
    "data[data['Informational_Duration'] == 'None'] = 0\n",
    "data[\"Informational_Duration\"] = pd.to_numeric(data[\"Informational_Duration\"])\n",
    "\n",
    "NA_values(data[\"Informational_Duration\"])\n",
    "iqr(data, data[\"Informational_Duration\"])"
   ]
  },
  {
   "cell_type": "code",
   "execution_count": 32,
   "metadata": {
    "ExecuteTime": {
     "end_time": "2020-04-22T18:50:52.789845Z",
     "start_time": "2020-04-22T18:50:52.754781Z"
    }
   },
   "outputs": [
    {
     "name": "stdout",
     "output_type": "stream",
     "text": [
      "Column name: PageValues\n",
      "Total values: 12310\n",
      "NA values: 20\n",
      "% of NA values: 0.16%\n",
      "Column: PageValues    nLower outliers: all values lower than nan    nUpper outliers: all values higher than nan    nTotal number of rows with outliers: 0    n% of outliers: 0.0%\n"
     ]
    }
   ],
   "source": [
    "# PageValues column\n",
    "\n",
    "data[data['PageValues'] == '#Nan'] = 0\n",
    "data[\"PageValues\"] = pd.to_numeric(data[\"PageValues\"])\n",
    "\n",
    "NA_values(data[\"PageValues\"])\n",
    "iqr(data, data[\"PageValues\"])"
   ]
  },
  {
   "cell_type": "code",
   "execution_count": 82,
   "metadata": {
    "ExecuteTime": {
     "end_time": "2020-04-22T19:29:39.609950Z",
     "start_time": "2020-04-22T19:29:39.603020Z"
    }
   },
   "outputs": [
    {
     "data": {
      "text/plain": [
       "1      4593\n",
       "3      2341\n",
       "4      1151\n",
       "2      1090\n",
       "6       787\n",
       "7       730\n",
       "9       493\n",
       "8       428\n",
       "5       303\n",
       "0       200\n",
       "Nan      20\n",
       "Name: Region, dtype: int64"
      ]
     },
     "execution_count": 82,
     "metadata": {},
     "output_type": "execute_result"
    }
   ],
   "source": [
    "# Region column\n",
    "\n",
    "#data[data['Region'] == 'nan']\n",
    "#data[data['Region'] == 'Nan']\n",
    "\n",
    "#data[\"Region\"] = pd.to_numeric(data[\"Region\"])\n",
    "data.Region.value_counts()"
   ]
  },
  {
   "cell_type": "markdown",
   "metadata": {},
   "source": [
    "\n",
    "\n",
    "### Pau:\n",
    "\n",
    "    - ProductRelated:\n",
    "\n",
    "    - SpecialDay:\n",
    "\n",
    "    - TrafficType:\n"
   ]
  },
  {
   "cell_type": "code",
   "execution_count": 85,
   "metadata": {
    "ExecuteTime": {
     "end_time": "2020-04-22T19:32:35.235386Z",
     "start_time": "2020-04-22T19:32:35.229308Z"
    },
    "scrolled": true
   },
   "outputs": [
    {
     "name": "stdout",
     "output_type": "stream",
     "text": [
      "Column name: ProductRelated\n",
      "Total values: 12330\n",
      "NA values: 0\n",
      "% of NA values: 0.0%\n"
     ]
    }
   ],
   "source": [
    "# ProductRelated column\n",
    "\n",
    "# 1.09% NA --> filling method: median?:\n",
    "\n",
    "NA_values(data.ProductRelated) \n",
    "\n",
    "data.ProductRelated = data.ProductRelated.fillna(data.ProductRelated.median()) \n",
    "\n",
    "# Outliers:\n",
    "\n",
    "# dtype transformation: float to int\n",
    "\n",
    "# data.ProductRelated.fillna(method='ffill')"
   ]
  },
  {
   "cell_type": "code",
   "execution_count": 35,
   "metadata": {
    "ExecuteTime": {
     "end_time": "2020-04-22T18:50:54.849510Z",
     "start_time": "2020-04-22T18:50:54.843326Z"
    }
   },
   "outputs": [
    {
     "name": "stdout",
     "output_type": "stream",
     "text": [
      "Column name: SpecialDay\n",
      "Total values: 12330\n",
      "NA values: 0\n",
      "% of NA values: 0.0%\n"
     ]
    }
   ],
   "source": [
    "# SpecialDay column\n",
    "\n",
    "# 0.0% NA --> no filling needed:\n",
    "\n",
    "NA_values(data.SpecialDay) \n",
    "\n",
    "# Outliers:\n",
    "\n",
    "# dtype correct (float)\n"
   ]
  },
  {
   "cell_type": "code",
   "execution_count": 87,
   "metadata": {
    "ExecuteTime": {
     "end_time": "2020-04-22T19:33:25.529500Z",
     "start_time": "2020-04-22T19:33:25.519469Z"
    }
   },
   "outputs": [
    {
     "name": "stdout",
     "output_type": "stream",
     "text": [
      "Column name: TrafficType\n",
      "Total values: 12330\n",
      "NA values: 0\n",
      "% of NA values: 0.0%\n"
     ]
    },
    {
     "data": {
      "text/plain": [
       "2.0     3989\n",
       "1.0     2377\n",
       "3.0     1975\n",
       "4.0     1038\n",
       "13.0     714\n",
       "10.0     438\n",
       "6.0      436\n",
       "8.0      328\n",
       "5.0      252\n",
       "11.0     236\n",
       "0.0      200\n",
       "20.0     191\n",
       "9.0       40\n",
       "7.0       37\n",
       "15.0      35\n",
       "19.0      17\n",
       "14.0      13\n",
       "18.0       9\n",
       "16.0       3\n",
       "17.0       1\n",
       "12.0       1\n",
       "Name: TrafficType, dtype: int64"
      ]
     },
     "execution_count": 87,
     "metadata": {},
     "output_type": "execute_result"
    }
   ],
   "source": [
    "# TrafficType column\n",
    "\n",
    "# 0.97% NA --> filling method: median?:\n",
    "\n",
    "NA_values(data.TrafficType) \n",
    "\n",
    "data.TrafficType = data.TrafficType.fillna(data.TrafficType.median())\n",
    "\n",
    "# Outliers:\n",
    "\n",
    "# dtype transformation: float to int\n",
    "\n",
    "data.TrafficType.value_counts()"
   ]
  },
  {
   "cell_type": "markdown",
   "metadata": {
    "ExecuteTime": {
     "end_time": "2020-04-21T11:46:54.269488Z",
     "start_time": "2020-04-21T11:46:54.265517Z"
    }
   },
   "source": [
    "### Sosa:\n",
    "\n",
    "    - Administrative:\n",
    "        Due to the low number of missing values (0.28%), we'll fill them with the median of the values since its \n",
    "        impact won't be noticeable. We can't use mean because each value represents a category and should be\n",
    "        assigned to an existing value. \n",
    "        Also, we can also see that the distribution of the values is a logarithmic one, left-skewed.\n",
    "        There's 100 values 999. These are obvious errors. They're distributed evenly through the column. To\n",
    "        fix this, we'll transform this 999 values into NaNs to interpolate them via a ffill, in order to preserve\n",
    "        the actual distribution of the values.\n",
    "        \n",
    "    - ProductRelated_Duration\n",
    "        In this column, we have negative values. The time of a person staying in a webpage cannot be\n",
    "        negative, so we assume there's a error on the lecture. We'll be replacing them with '0' value.\n",
    "        We have just two pronounced outliers. \n",
    "        Additionaly, we'll assing our NAs, 0,14% of the values, to the mean values since our continuous numeric\n",
    "        values are equally distributed.\n",
    "        \n",
    "        \n",
    "    - Month\n",
    "        We have no NA values, but some wrong strings to classify the months. We'll fix this with Regex.\n",
    "        No more transformation needed.\n",
    "        \n",
    "    - VisitorType\n",
    "        We have four types of visitors: Returning, New, Other and More. In this case, we'll reduce the group\n",
    "        to three types: Returning, New and Other, by merging the More column to Other.\n",
    "        For the NA values, we have no way to know if the visitor is Returning or New, so we'll also group them\n",
    "        with the 'Other' values."
   ]
  },
  {
   "cell_type": "code",
   "execution_count": 88,
   "metadata": {
    "ExecuteTime": {
     "end_time": "2020-04-22T19:36:13.276299Z",
     "start_time": "2020-04-22T19:36:13.254911Z"
    }
   },
   "outputs": [
    {
     "name": "stdout",
     "output_type": "stream",
     "text": [
      "Column name: Administrative\n",
      "Total values: 12330\n",
      "NA values: 0\n",
      "% of NA values: 0.0%\n",
      "None\n",
      "Column: Administrative\n",
      "Lower outliers: all values lower than -6.0\n",
      "Upper outliers: all values higher than 10.0\n",
      "Total number of rows with outliers: 398\n",
      "% of outliers: 3.23%\n"
     ]
    }
   ],
   "source": [
    "## Administrative column\n",
    "\n",
    "print(NA_values(data.Administrative))\n",
    "\n",
    "data.Administrative = data.Administrative.fillna(data.Administrative.median())\n",
    "\n",
    "\n",
    "data[data['Administrative'] == 999] = None\n",
    "\n",
    "data.Administrative.fillna(method='ffill', inplace=True)\n",
    "\n",
    "iqr(data, data.Administrative)\n",
    "\n"
   ]
  },
  {
   "cell_type": "code",
   "execution_count": 105,
   "metadata": {
    "ExecuteTime": {
     "end_time": "2020-04-22T19:44:05.129358Z",
     "start_time": "2020-04-22T19:44:05.110532Z"
    }
   },
   "outputs": [
    {
     "name": "stdout",
     "output_type": "stream",
     "text": [
      "Column name: ProductRelated_Duration\n",
      "Total values: 12330\n",
      "NA values: 0\n",
      "% of NA values: 0.0%\n",
      "None\n"
     ]
    },
    {
     "name": "stderr",
     "output_type": "stream",
     "text": [
      "/opt/anaconda3/lib/python3.7/site-packages/ipykernel_launcher.py:9: SettingWithCopyWarning: \n",
      "A value is trying to be set on a copy of a slice from a DataFrame.\n",
      "Try using .loc[row_indexer,col_indexer] = value instead\n",
      "\n",
      "See the caveats in the documentation: http://pandas.pydata.org/pandas-docs/stable/user_guide/indexing.html#returning-a-view-versus-a-copy\n",
      "  if __name__ == '__main__':\n"
     ]
    }
   ],
   "source": [
    "## ProductRelated_Duration column\n",
    "\n",
    "print(NA_values(data.ProductRelated_Duration))\n",
    "\n",
    "# Fixing outliers:\n",
    "\n",
    "outliers = data.ProductRelated_Duration.sort_values(ascending=False)[:2]\n",
    "\n",
    "data.query('ProductRelated_Duration == @outliers')['ProductRelated_Duration'] = data.ProductRelated_Duration.mean()\n",
    "\n",
    "# Fixing the NA values:\n",
    "\n",
    "data.ProductRelated_Duration = data.ProductRelated_Duration.fillna(data.ProductRelated_Duration.mean())\n",
    "\n",
    "## ??? IQR for logarithmic distributions, are there outliers?"
   ]
  },
  {
   "cell_type": "raw",
   "metadata": {},
   "source": []
  },
  {
   "cell_type": "code",
   "execution_count": 109,
   "metadata": {
    "ExecuteTime": {
     "end_time": "2020-04-22T19:46:32.915369Z",
     "start_time": "2020-04-22T19:46:32.886482Z"
    }
   },
   "outputs": [
    {
     "name": "stdout",
     "output_type": "stream",
     "text": [
      "Column name: Month\n",
      "Total values: 12032\n",
      "NA values: 298\n",
      "% of NA values: 2.42%\n",
      "May     3295\n",
      "Nov     2923\n",
      "Mar     1866\n",
      "Dec     1687\n",
      "Oct      533\n",
      "Sep      428\n",
      "Aug      424\n",
      "Jul      420\n",
      "June     281\n",
      "Feb      175\n",
      "Name: Month, dtype: int64\n",
      "May     3374\n",
      "Nov     2991\n",
      "Mar     1921\n",
      "Dec     1723\n",
      "Oct      548\n",
      "Sep      440\n",
      "Aug      432\n",
      "Jul      428\n",
      "June     289\n",
      "Feb      184\n",
      "Name: Month, dtype: int64\n"
     ]
    }
   ],
   "source": [
    "## Month column\n",
    "\n",
    "NA_values(data.Month)\n",
    "\n",
    "# Fixing strings:\n",
    "\n",
    "data.Month = data.Month.str.replace('MAY', 'May').str.replace('March', 'Mar')\n",
    "\n",
    "print(data.Month.value_counts())\n",
    "\n",
    "print(data.Month.fillna(method='ffill').value_counts())"
   ]
  },
  {
   "cell_type": "code",
   "execution_count": 115,
   "metadata": {
    "ExecuteTime": {
     "end_time": "2020-04-22T19:56:05.856785Z",
     "start_time": "2020-04-22T19:56:05.840058Z"
    }
   },
   "outputs": [
    {
     "name": "stdout",
     "output_type": "stream",
     "text": [
      "Column name: VisitorType\n",
      "Total values: 12330\n",
      "NA values: 0\n",
      "% of NA values: 0.0%\n"
     ]
    }
   ],
   "source": [
    "## VisitorType column\n",
    "\n",
    "NA_values(data.VisitorType)\n",
    "\n",
    "data.VisitorType = data.VisitorType.str.replace('More', 'Other').fillna('Other')\n",
    "\n",
    "## ver si la columna tiene importancia, probar otras formas de tratar 'Other'"
   ]
  },
  {
   "cell_type": "code",
   "execution_count": null,
   "metadata": {},
   "outputs": [],
   "source": []
  },
  {
   "cell_type": "code",
   "execution_count": null,
   "metadata": {},
   "outputs": [],
   "source": []
  }
 ],
 "metadata": {
  "kernelspec": {
   "display_name": "Python 3",
   "language": "python",
   "name": "python3"
  },
  "language_info": {
   "codemirror_mode": {
    "name": "ipython",
    "version": 3
   },
   "file_extension": ".py",
   "mimetype": "text/x-python",
   "name": "python",
   "nbconvert_exporter": "python",
   "pygments_lexer": "ipython3",
   "version": "3.7.4"
  },
  "toc": {
   "base_numbering": 1,
   "nav_menu": {},
   "number_sections": true,
   "sideBar": true,
   "skip_h1_title": false,
   "title_cell": "Table of Contents",
   "title_sidebar": "Contents",
   "toc_cell": true,
   "toc_position": {},
   "toc_section_display": true,
   "toc_window_display": false
  },
  "varInspector": {
   "cols": {
    "lenName": 16,
    "lenType": 16,
    "lenVar": 40
   },
   "kernels_config": {
    "python": {
     "delete_cmd_postfix": "",
     "delete_cmd_prefix": "del ",
     "library": "var_list.py",
     "varRefreshCmd": "print(var_dic_list())"
    },
    "r": {
     "delete_cmd_postfix": ") ",
     "delete_cmd_prefix": "rm(",
     "library": "var_list.r",
     "varRefreshCmd": "cat(var_dic_list()) "
    }
   },
   "types_to_exclude": [
    "module",
    "function",
    "builtin_function_or_method",
    "instance",
    "_Feature"
   ],
   "window_display": false
  }
 },
 "nbformat": 4,
 "nbformat_minor": 2
}
