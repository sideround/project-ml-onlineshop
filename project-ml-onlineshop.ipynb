{
 "cells": [
  {
   "cell_type": "markdown",
   "metadata": {
    "toc": true
   },
   "source": [
    "<h1>Table of Contents<span class=\"tocSkip\"></span></h1>\n",
    "<div class=\"toc\"><ul class=\"toc-item\"><li><span><a href=\"#Functions\" data-toc-modified-id=\"Functions-1\"><span class=\"toc-item-num\">1&nbsp;&nbsp;</span>Functions</a></span><ul class=\"toc-item\"><li><span><a href=\"#Dataset-description:\" data-toc-modified-id=\"Dataset-description:-1.1\"><span class=\"toc-item-num\">1.1&nbsp;&nbsp;</span>Dataset description:</a></span></li></ul></li><li><span><a href=\"#Data-cleaning\" data-toc-modified-id=\"Data-cleaning-2\"><span class=\"toc-item-num\">2&nbsp;&nbsp;</span>Data cleaning</a></span><ul class=\"toc-item\"><li><ul class=\"toc-item\"><li><span><a href=\"#Kristina:\" data-toc-modified-id=\"Kristina:-2.0.1\"><span class=\"toc-item-num\">2.0.1&nbsp;&nbsp;</span>Kristina:</a></span><ul class=\"toc-item\"><li><span><a href=\"#Informational\" data-toc-modified-id=\"Informational-2.0.1.1\"><span class=\"toc-item-num\">2.0.1.1&nbsp;&nbsp;</span>Informational</a></span></li><li><span><a href=\"#Exit-Rates\" data-toc-modified-id=\"Exit-Rates-2.0.1.2\"><span class=\"toc-item-num\">2.0.1.2&nbsp;&nbsp;</span>Exit Rates</a></span></li><li><span><a href=\"#Browser\" data-toc-modified-id=\"Browser-2.0.1.3\"><span class=\"toc-item-num\">2.0.1.3&nbsp;&nbsp;</span>Browser</a></span></li><li><span><a href=\"#Revenue\" data-toc-modified-id=\"Revenue-2.0.1.4\"><span class=\"toc-item-num\">2.0.1.4&nbsp;&nbsp;</span>Revenue</a></span></li></ul></li></ul></li></ul></li></ul></div>"
   ]
  },
  {
   "cell_type": "code",
   "execution_count": null,
   "metadata": {},
   "outputs": [],
   "source": [
    "import pandas as pd\n",
    "import numpy as np\n",
    "import matplotlib.pyplot as plt\n",
    "from sklearn.linear_model import LogisticRegression"
   ]
  },
  {
   "cell_type": "markdown",
   "metadata": {},
   "source": [
    "\n",
    "# Functions"
   ]
  },
  {
   "cell_type": "code",
   "execution_count": null,
   "metadata": {},
   "outputs": [],
   "source": [
    "## Function to explain NA values in a column:\n",
    "\n",
    "def NA_values(series):\n",
    "    '''\n",
    "    Function that takes a Pandas Series and returns a print statement explaining NAs and % of the column\n",
    "    '''\n",
    "    \n",
    "    return print(f'Column name: {series.name}\\nTotal values: {int(series.count())}\\nNA values: {series.isna().sum()}\\n% of NA values: {round(series.isna().mean() * 100,2)}%')\n"
   ]
  },
  {
   "cell_type": "code",
   "execution_count": null,
   "metadata": {},
   "outputs": [],
   "source": [
    "## Function to get the information about the outliers of a column:\n",
    "\n",
    "def iqr(dataset, series):\n",
    "    \"\"\"\n",
    "    Function takes dataset and column and returns the information about the outliers.\n",
    "    \"\"\"\n",
    "    Q1 = np.percentile(series, 25)\n",
    "    Q3 = np.percentile(series, 75)\n",
    "    IQR = Q3 - Q1\n",
    "\n",
    "    lower = Q1 - 1.5 * IQR\n",
    "    upper = Q3 + 1.5 * IQR\n",
    "    total_outliers = len(dataset.loc[(series > upper) | (series < lower)])\n",
    "    percent_outliers = total_outliers / len(dataset) * 100\n",
    "    \n",
    "    return print(f'Column: {series.name}\\nLower outliers: all values lower than {round(lower, 3)}\\nUpper outliers: all values higher than {round(upper, 3)}\\nTotal number of rows with outliers: {total_outliers}\\n% of outliers: {round(percent_outliers, 2)}%')"
   ]
  },
  {
   "cell_type": "code",
   "execution_count": null,
   "metadata": {
    "ExecuteTime": {
     "end_time": "2020-04-20T18:01:16.175976Z",
     "start_time": "2020-04-20T18:01:16.118152Z"
    }
   },
   "outputs": [],
   "source": [
    "data = pd.read_csv('data/online_shoppers_intention_DATAPTDIC19.csv', sep=',')"
   ]
  },
  {
   "cell_type": "code",
   "execution_count": null,
   "metadata": {
    "ExecuteTime": {
     "end_time": "2020-04-20T18:01:16.834240Z",
     "start_time": "2020-04-20T18:01:16.808312Z"
    }
   },
   "outputs": [],
   "source": [
    "data.head()"
   ]
  },
  {
   "cell_type": "code",
   "execution_count": null,
   "metadata": {
    "ExecuteTime": {
     "end_time": "2020-04-20T19:06:09.252714Z",
     "start_time": "2020-04-20T19:06:09.249176Z"
    }
   },
   "outputs": [],
   "source": [
    "data.shape"
   ]
  },
  {
   "cell_type": "code",
   "execution_count": null,
   "metadata": {
    "ExecuteTime": {
     "end_time": "2020-04-20T19:05:28.908220Z",
     "start_time": "2020-04-20T19:05:28.860976Z"
    }
   },
   "outputs": [],
   "source": [
    "data.describe()"
   ]
  },
  {
   "cell_type": "code",
   "execution_count": null,
   "metadata": {
    "ExecuteTime": {
     "end_time": "2020-04-20T19:05:43.523644Z",
     "start_time": "2020-04-20T19:05:43.511429Z"
    }
   },
   "outputs": [],
   "source": [
    "data.info()"
   ]
  },
  {
   "cell_type": "markdown",
   "metadata": {},
   "source": [
    "## Dataset description:\n",
    " - Administrative:`float`. Administrative Value. `yet to identify`.\n",
    " - Administrative_Duration: `object`. Duration in Administrative Page. `Identify values and change dtype accordingly.`. \n",
    " - Informational: `float`. Informational Value. `yet to identify` \n",
    " - Informational_Duration: `object`. Duration in Informational Page. `Identify values and change dtype accordingly.`\n",
    " - ProductRelated: `float.` Product Related Value. `yet to identify` \n",
    " - ProductRelated_Duration: `object`. Duration in Product Related Page. `Identify values and change dtype accordingly.` \n",
    " - BounceRates: `float`. Bounce Rates of a web page. Percentages. The value of \"Bounce Rate\" feature for a web page refers to the percentage of visitors who enter the site from that page and then leave (\"bounce\") without triggering any other requests to the analytics server during that session. \n",
    " - ExitRates: `float`. Exit rate of a web page. The value of \"Exit Rate\" feature for a specific web page is calculated as for all pageviews to the page, the percentage that were the last in the session. \n",
    " - PageValues: `object`. Page values of each web page. The \"Page Value\" feature represents the average value for a web page that a user visited before completing an e-commerce transaction. `Identify values and change dtype accordingly.` \n",
    " - SpecialDay: Special days like valentine etc. `float`. Closeness to a special date. `dtype correct`. For example, for Valentina’s day, this value takes a nonzero value between February 2 and February 12, zero before and after this date unless it is close to another special day, and its maximum value of 1 on February 8. \n",
    " - Month: Month of the year. `object`. String to identify the month of the year. `clean`. \n",
    " - OperatingSystems: Operating system used. `float`. `Try to explain the values`. \n",
    " - Browser: Browser used. `integer` \n",
    " - Region: Region of the user. `integer`. \n",
    " - TrafficType: Traffic Type. `integer`.  \n",
    " - VisitorType: Types of Visitor `object` \n",
    " - Weekend: Weekend or not `bool`  \n",
    " - Revenue: Revenue will be generated or not `object`. `Should be bool` \n",
    "     "
   ]
  },
  {
   "cell_type": "markdown",
   "metadata": {},
   "source": [
    "# Data cleaning"
   ]
  },
  {
   "cell_type": "markdown",
   "metadata": {},
   "source": [
    "### Kristina:\n",
    "\n",
    " - **Informational**\n",
    "  - Data type: Categorical, float. No changes\n",
    "  - Missing Values: There are 14 missing values, which is 0.11% out of all data. It will be filled with the median\n",
    "  - 78.7% of sessions are coming from the category 0.0 of the Informational pages\n",
    "  - No other changes are needed\n",
    " - **ExitRates**\n",
    "  - Data type: Numerical, float. No changes\n",
    "  - Missing Values: There are 14 missing values, which is 0.11% out of all data. It will be filled with the median\n",
    "  - Outliers: There are 1094 outliers, which is 8.87% of all data. The majority of the outliers are falling under the FALSE revenue category and under the 0.2 value of the Exit rates. Additional column will be created to be able to filter out the outliers if needed: exitrates_outliers (boolean values).\n",
    " - **Browser**\n",
    "  - Data type: Categorical, integer. No changes\n",
    "  - Missing Values: There are no missing values\n",
    "  - The most popular browser is 2. The usage share is very similar to the standard Usage share of all browsers. Later on, in the data visualization, we will show more insights on this\n",
    "  - No other changes are needed\n",
    " - **Revenue**\n",
    "  - Data type: categorical, object. Will change to boolean\n",
    "  - There are 4 categories, will unify the data to have only TRUE and FALSE\n",
    "  - 84.53% of data falls under FALSE category of Revenue. Since it's a target column, the data will need to be equilibrated."
   ]
  },
  {
   "cell_type": "markdown",
   "metadata": {},
   "source": [
    "#### Informational"
   ]
  },
  {
   "cell_type": "code",
   "execution_count": null,
   "metadata": {},
   "outputs": [],
   "source": [
    "# Missing values\n",
    "\n",
    "NA_values(data.Informational)\n",
    "\n",
    "# Filling missing values\n",
    "\n",
    "data.Informational = data.Informational.fillna(data.Informational.median())\n",
    "\n",
    "# Distribution\n",
    "\n",
    "print(data.Informational.value_counts())\n",
    "\n",
    "plt.style.use('seaborn')\n",
    "fig, ax = plt.subplots(1, figsize=(8,6))\n",
    "ax1 = data.Informational.hist()\n",
    "plt.title(\"Informational - distribution\")\n",
    "plt.show()\n",
    "\n",
    "# % of sessions in category 0.0 \n",
    "\n",
    "percent_info_0 = data.Informational.value_counts()[0]/len(data)*100  \n",
    "print(f'% of sessions in the category 0.0 of the Informational pages: {round(percent_info_0,1)}')"
   ]
  },
  {
   "cell_type": "markdown",
   "metadata": {},
   "source": [
    "#### Exit Rates"
   ]
  },
  {
   "cell_type": "code",
   "execution_count": null,
   "metadata": {},
   "outputs": [],
   "source": [
    "# Missing values\n",
    "\n",
    "NA_values(data.ExitRates)\n",
    "\n",
    "# Filling missing values\n",
    "\n",
    "data.ExitRates = data.ExitRates.fillna(data.ExitRates.median())\n",
    "\n",
    "# Distribution\n",
    "\n",
    "fig, ax = plt.subplots(1, figsize=(8,6))\n",
    "plt.style.use('seaborn')\n",
    "ax1 = data.ExitRates.hist()\n",
    "plt.title(\"ExitRates - distribution\")\n",
    "plt.show()\n",
    "\n",
    "# Outliers\n",
    "\n",
    "fig, ax = plt.subplots(1, figsize=(8,6))\n",
    "plt.style.use('seaborn')\n",
    "ax1 = data.boxplot('ExitRates')\n",
    "plt.title(\"ExitRates - outliers\")\n",
    "plt.show()\n",
    "\n",
    "iqr(data, data.ExitRates)\n",
    "\n",
    "# Checking the distribution of outliers regarding the target column - Revenue\n",
    "\n",
    "exitrates_outliers = data.loc[(data.ExitRates > 0.104) | (data.ExitRates < -0.039)]\n",
    "print(exitrates_outliers.Revenue.value_counts())\n",
    "\n",
    "# Checking the top exit rate values of the outliers:\n",
    "\n",
    "print(exitrates_outliers.ExitRates.value_counts())\n",
    "\n",
    "# Creating a new column in the dataset to indicate exit rate outliers:\n",
    "# Only using the upper IQR because the lower is a negative value and we don't have values lower tahn 0.\n",
    "\n",
    "data['exitrates_outliers']  = data['ExitRates'].apply(lambda x: 'TRUE' if x > 0.104 else 'FALSE')\n",
    "\n",
    "# Converting column to boolean\n",
    "\n",
    "mapa = {'TRUE': True, 'FALSE': False}\n",
    "data['exitrates_outliers'] = data['exitrates_outliers'].map(mapa)"
   ]
  },
  {
   "cell_type": "markdown",
   "metadata": {},
   "source": [
    "#### Browser"
   ]
  },
  {
   "cell_type": "code",
   "execution_count": null,
   "metadata": {},
   "outputs": [],
   "source": [
    "# Missing values\n",
    "\n",
    "NA_values(data.Browser)\n",
    "\n",
    "# Distribution\n",
    "\n",
    "print(data.Browser.value_counts(normalize = True)*100) \n",
    "\n",
    "fig, ax = plt.subplots(1, figsize=(8,6))\n",
    "plt.style.use('seaborn')\n",
    "ax1 = data.Browser.hist()\n",
    "plt.title(\"Browser - distribution\")\n",
    "plt.show()\n",
    "\n",
    "# Creating a dataset of the standard usage share of all browsers and of mobile browsers\n",
    "\n",
    "usage_share_browsers = pd.DataFrame({'Chrome': 64.92, 'Safari': 15.97, 'Firefox': 4.33, 'Samsung_Internet': 3.29, \n",
    "                                     'UC': 2.94, 'Opera': 2.34, 'Edge': 2.05, 'IE': 1.98, 'AOSP': 0.59, 'Others': 1.59}, \n",
    "                                    index = [0]).T\n",
    "colnames = ['standard_usage_all']\n",
    "usage_share_browsers.columns = colnames\n",
    "print(usage_share_browsers)\n",
    "\n",
    "usage_share_browsers_mob = pd.DataFrame({'Chrome': 63.80, 'Safari': 19.70, 'Firefox': 0.35, 'Samsung_Internet': 6.27, \n",
    "                                     'UC': 5.33, 'Opera': 2.48, 'Others': 2.07}, \n",
    "                                    index = [0]).T\n",
    "colnames = ['standard_usage_mobile']\n",
    "usage_share_browsers_mob.columns = colnames\n",
    "print(usage_share_browsers_mob)"
   ]
  },
  {
   "cell_type": "markdown",
   "metadata": {},
   "source": [
    "#### Revenue"
   ]
  },
  {
   "cell_type": "code",
   "execution_count": null,
   "metadata": {
    "scrolled": false
   },
   "outputs": [],
   "source": [
    "# Missing values\n",
    "\n",
    "NA_values(data.Revenue)\n",
    "\n",
    "# Distribution\n",
    "\n",
    "print(data.Revenue.value_counts())\n",
    "\n",
    "fig, ax = plt.subplots(1, figsize=(8,6))\n",
    "plt.style.use('seaborn')\n",
    "ax1 = data.Revenue.hist()\n",
    "plt.title(\"Revenue - distribution\")\n",
    "plt.show()\n",
    "\n",
    "# Changing 0 and 1 to TRUE and FALSE\n",
    "\n",
    "data.Revenue.replace('0', 'FALSE', inplace=True)\n",
    "data.Revenue.replace('1', 'TRUE', inplace=True)\n",
    "\n",
    "# Converting column to boolean\n",
    "\n",
    "mapa = {'TRUE': True, 'FALSE': False}\n",
    "data['Revenue'] = data['Revenue'].map(mapa)\n",
    "\n",
    "print(f' {round(data.Revenue.value_counts(normalize = True)[0]*100, 2)}% of data falls under FALSE category of Revenue')"
   ]
  },
  {
   "cell_type": "markdown",
   "metadata": {},
   "source": [
    "\n",
    "\n",
    "### Pau:\n",
    "\n",
    "    - ProductRelated:\n",
    "\n",
    "    - SpecialDay:\n",
    "\n",
    "    - TrafficType:\n"
   ]
  },
  {
   "cell_type": "code",
   "execution_count": null,
   "metadata": {
    "scrolled": true
   },
   "outputs": [],
   "source": [
    "# ProductRelated column\n",
    "\n",
    "# 1.09% NA --> filling method: median?:\n",
    "\n",
    "NA_values(data.ProductRelated) \n",
    "\n",
    "data.ProductRelated = data.ProductRelated.fillna(data.ProductRelated.median()) \n",
    "\n",
    "# Outliers:\n",
    "\n",
    "# dtype transformation: float to int\n"
   ]
  },
  {
   "cell_type": "code",
   "execution_count": null,
   "metadata": {},
   "outputs": [],
   "source": [
    "# SpecialDay column\n",
    "\n",
    "# 0.0% NA --> no filling needed:\n",
    "\n",
    "NA_values(data.SpecialDay) \n",
    "\n",
    "# Outliers:\n",
    "\n",
    "# dtype correct (float)\n"
   ]
  },
  {
   "cell_type": "code",
   "execution_count": null,
   "metadata": {},
   "outputs": [],
   "source": [
    "# TrafficType column\n",
    "\n",
    "# 0.97% NA --> filling method: median?:\n",
    "\n",
    "NA_values(data.TrafficType) \n",
    "\n",
    "data.TrafficType = data.TrafficType.fillna(data.TrafficType.median())\n",
    "\n",
    "# Outliers:\n",
    "\n",
    "# dtype transformation: float to int"
   ]
  },
  {
   "cell_type": "code",
   "execution_count": null,
   "metadata": {},
   "outputs": [],
   "source": []
  }
 ],
 "metadata": {
  "kernelspec": {
   "display_name": "Python 3",
   "language": "python",
   "name": "python3"
  },
  "language_info": {
   "codemirror_mode": {
    "name": "ipython",
    "version": 3
   },
   "file_extension": ".py",
   "mimetype": "text/x-python",
   "name": "python",
   "nbconvert_exporter": "python",
   "pygments_lexer": "ipython3",
   "version": "3.7.4"
  },
  "toc": {
   "base_numbering": 1,
   "nav_menu": {},
   "number_sections": true,
   "sideBar": true,
   "skip_h1_title": false,
   "title_cell": "Table of Contents",
   "title_sidebar": "Contents",
   "toc_cell": true,
   "toc_position": {},
   "toc_section_display": true,
   "toc_window_display": false
  },
  "varInspector": {
   "cols": {
    "lenName": 16,
    "lenType": 16,
    "lenVar": 40
   },
   "kernels_config": {
    "python": {
     "delete_cmd_postfix": "",
     "delete_cmd_prefix": "del ",
     "library": "var_list.py",
     "varRefreshCmd": "print(var_dic_list())"
    },
    "r": {
     "delete_cmd_postfix": ") ",
     "delete_cmd_prefix": "rm(",
     "library": "var_list.r",
     "varRefreshCmd": "cat(var_dic_list()) "
    }
   },
   "types_to_exclude": [
    "module",
    "function",
    "builtin_function_or_method",
    "instance",
    "_Feature"
   ],
   "window_display": false
  }
 },
 "nbformat": 4,
 "nbformat_minor": 2
}
