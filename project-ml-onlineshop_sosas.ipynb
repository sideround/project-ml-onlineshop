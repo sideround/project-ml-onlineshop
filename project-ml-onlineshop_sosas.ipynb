{
 "cells": [
  {
   "cell_type": "markdown",
   "metadata": {
    "toc": true
   },
   "source": [
    "<h1>Table of Contents<span class=\"tocSkip\"></span></h1>\n",
    "<div class=\"toc\"><ul class=\"toc-item\"><li><span><a href=\"#Functions\" data-toc-modified-id=\"Functions-1\"><span class=\"toc-item-num\">1&nbsp;&nbsp;</span>Functions</a></span></li><li><span><a href=\"#Import-and-Analysis\" data-toc-modified-id=\"Import-and-Analysis-2\"><span class=\"toc-item-num\">2&nbsp;&nbsp;</span>Import and Analysis</a></span><ul class=\"toc-item\"><li><span><a href=\"#Dataset-description:\" data-toc-modified-id=\"Dataset-description:-2.1\"><span class=\"toc-item-num\">2.1&nbsp;&nbsp;</span>Dataset description:</a></span></li><li><span><a href=\"#Data-Investigation-and-Cleaning\" data-toc-modified-id=\"Data-Investigation-and-Cleaning-2.2\"><span class=\"toc-item-num\">2.2&nbsp;&nbsp;</span>Data Investigation and Cleaning</a></span><ul class=\"toc-item\"><li><span><a href=\"#Administrative\" data-toc-modified-id=\"Administrative-2.2.1\"><span class=\"toc-item-num\">2.2.1&nbsp;&nbsp;</span>Administrative</a></span></li><li><span><a href=\"#Administrative-Duration\" data-toc-modified-id=\"Administrative-Duration-2.2.2\"><span class=\"toc-item-num\">2.2.2&nbsp;&nbsp;</span>Administrative Duration</a></span></li><li><span><a href=\"#Informational\" data-toc-modified-id=\"Informational-2.2.3\"><span class=\"toc-item-num\">2.2.3&nbsp;&nbsp;</span>Informational</a></span></li><li><span><a href=\"#Informational-Duration\" data-toc-modified-id=\"Informational-Duration-2.2.4\"><span class=\"toc-item-num\">2.2.4&nbsp;&nbsp;</span>Informational Duration</a></span></li><li><span><a href=\"#Product-Related\" data-toc-modified-id=\"Product-Related-2.2.5\"><span class=\"toc-item-num\">2.2.5&nbsp;&nbsp;</span>Product Related</a></span></li><li><span><a href=\"#Product-Related-Duration\" data-toc-modified-id=\"Product-Related-Duration-2.2.6\"><span class=\"toc-item-num\">2.2.6&nbsp;&nbsp;</span>Product Related Duration</a></span></li><li><span><a href=\"#Bounce-Rates\" data-toc-modified-id=\"Bounce-Rates-2.2.7\"><span class=\"toc-item-num\">2.2.7&nbsp;&nbsp;</span>Bounce Rates</a></span></li><li><span><a href=\"#Exit-Rates\" data-toc-modified-id=\"Exit-Rates-2.2.8\"><span class=\"toc-item-num\">2.2.8&nbsp;&nbsp;</span>Exit Rates</a></span></li><li><span><a href=\"#Page-Values\" data-toc-modified-id=\"Page-Values-2.2.9\"><span class=\"toc-item-num\">2.2.9&nbsp;&nbsp;</span>Page Values</a></span></li><li><span><a href=\"#Special-Day\" data-toc-modified-id=\"Special-Day-2.2.10\"><span class=\"toc-item-num\">2.2.10&nbsp;&nbsp;</span>Special Day</a></span></li><li><span><a href=\"#Month\" data-toc-modified-id=\"Month-2.2.11\"><span class=\"toc-item-num\">2.2.11&nbsp;&nbsp;</span>Month</a></span></li><li><span><a href=\"#Operating-Systems\" data-toc-modified-id=\"Operating-Systems-2.2.12\"><span class=\"toc-item-num\">2.2.12&nbsp;&nbsp;</span>Operating Systems</a></span></li><li><span><a href=\"#Browser\" data-toc-modified-id=\"Browser-2.2.13\"><span class=\"toc-item-num\">2.2.13&nbsp;&nbsp;</span>Browser</a></span></li><li><span><a href=\"#Region\" data-toc-modified-id=\"Region-2.2.14\"><span class=\"toc-item-num\">2.2.14&nbsp;&nbsp;</span>Region</a></span></li><li><span><a href=\"#Traffic-type\" data-toc-modified-id=\"Traffic-type-2.2.15\"><span class=\"toc-item-num\">2.2.15&nbsp;&nbsp;</span>Traffic type</a></span></li><li><span><a href=\"#Visitor-Type\" data-toc-modified-id=\"Visitor-Type-2.2.16\"><span class=\"toc-item-num\">2.2.16&nbsp;&nbsp;</span>Visitor Type</a></span></li><li><span><a href=\"#Weekend\" data-toc-modified-id=\"Weekend-2.2.17\"><span class=\"toc-item-num\">2.2.17&nbsp;&nbsp;</span>Weekend</a></span></li><li><span><a href=\"#Revenue\" data-toc-modified-id=\"Revenue-2.2.18\"><span class=\"toc-item-num\">2.2.18&nbsp;&nbsp;</span>Revenue</a></span></li><li><span><a href=\"#Data-Types\" data-toc-modified-id=\"Data-Types-2.2.19\"><span class=\"toc-item-num\">2.2.19&nbsp;&nbsp;</span>Data Types</a></span></li></ul></li><li><span><a href=\"#Data-visualization\" data-toc-modified-id=\"Data-visualization-2.3\"><span class=\"toc-item-num\">2.3&nbsp;&nbsp;</span>Data visualization</a></span></li><li><span><a href=\"#Data-Transformation\" data-toc-modified-id=\"Data-Transformation-2.4\"><span class=\"toc-item-num\">2.4&nbsp;&nbsp;</span>Data Transformation</a></span><ul class=\"toc-item\"><li><span><a href=\"#Transforming-columns\" data-toc-modified-id=\"Transforming-columns-2.4.1\"><span class=\"toc-item-num\">2.4.1&nbsp;&nbsp;</span>Transforming columns</a></span></li><li><span><a href=\"#Data-encoding\" data-toc-modified-id=\"Data-encoding-2.4.2\"><span class=\"toc-item-num\">2.4.2&nbsp;&nbsp;</span>Data encoding</a></span></li></ul></li><li><span><a href=\"#Missing-Values\" data-toc-modified-id=\"Missing-Values-2.5\"><span class=\"toc-item-num\">2.5&nbsp;&nbsp;</span>Missing Values</a></span></li><li><span><a href=\"#Correlation\" data-toc-modified-id=\"Correlation-2.6\"><span class=\"toc-item-num\">2.6&nbsp;&nbsp;</span>Correlation</a></span><ul class=\"toc-item\"><li><span><a href=\"#Correlation-insights:\" data-toc-modified-id=\"Correlation-insights:-2.6.1\"><span class=\"toc-item-num\">2.6.1&nbsp;&nbsp;</span>Correlation insights:</a></span></li></ul></li></ul></li><li><span><a href=\"#Individual-work-to-organize\" data-toc-modified-id=\"Individual-work-to-organize-3\"><span class=\"toc-item-num\">3&nbsp;&nbsp;</span>Individual work to organize</a></span><ul class=\"toc-item\"><li><ul class=\"toc-item\"><li><span><a href=\"#Administrative_duration\" data-toc-modified-id=\"Administrative_duration-3.0.1\"><span class=\"toc-item-num\">3.0.1&nbsp;&nbsp;</span>Administrative_duration</a></span></li><li><span><a href=\"#BounceRates\" data-toc-modified-id=\"BounceRates-3.0.2\"><span class=\"toc-item-num\">3.0.2&nbsp;&nbsp;</span>BounceRates</a></span></li><li><span><a href=\"#OperatingSystems\" data-toc-modified-id=\"OperatingSystems-3.0.3\"><span class=\"toc-item-num\">3.0.3&nbsp;&nbsp;</span>OperatingSystems</a></span></li><li><span><a href=\"#Weekend\" data-toc-modified-id=\"Weekend-3.0.4\"><span class=\"toc-item-num\">3.0.4&nbsp;&nbsp;</span>Weekend</a></span></li><li><span><a href=\"#Kristina:\" data-toc-modified-id=\"Kristina:-3.0.5\"><span class=\"toc-item-num\">3.0.5&nbsp;&nbsp;</span>Kristina:</a></span><ul class=\"toc-item\"><li><span><a href=\"#Informational\" data-toc-modified-id=\"Informational-3.0.5.1\"><span class=\"toc-item-num\">3.0.5.1&nbsp;&nbsp;</span>Informational</a></span></li><li><span><a href=\"#Exit-Rates\" data-toc-modified-id=\"Exit-Rates-3.0.5.2\"><span class=\"toc-item-num\">3.0.5.2&nbsp;&nbsp;</span>Exit Rates</a></span></li><li><span><a href=\"#Browser\" data-toc-modified-id=\"Browser-3.0.5.3\"><span class=\"toc-item-num\">3.0.5.3&nbsp;&nbsp;</span>Browser</a></span></li><li><span><a href=\"#Revenue\" data-toc-modified-id=\"Revenue-3.0.5.4\"><span class=\"toc-item-num\">3.0.5.4&nbsp;&nbsp;</span>Revenue</a></span></li></ul></li><li><span><a href=\"#Isaac:\" data-toc-modified-id=\"Isaac:-3.0.6\"><span class=\"toc-item-num\">3.0.6&nbsp;&nbsp;</span>Isaac:</a></span></li><li><span><a href=\"#Pau:\" data-toc-modified-id=\"Pau:-3.0.7\"><span class=\"toc-item-num\">3.0.7&nbsp;&nbsp;</span>Pau:</a></span></li><li><span><a href=\"#Sosa:\" data-toc-modified-id=\"Sosa:-3.0.8\"><span class=\"toc-item-num\">3.0.8&nbsp;&nbsp;</span>Sosa:</a></span></li></ul></li></ul></li><li><span><a href=\"#Prepare-Training-Data\" data-toc-modified-id=\"Prepare-Training-Data-4\"><span class=\"toc-item-num\">4&nbsp;&nbsp;</span>Prepare Training Data</a></span></li><li><span><a href=\"#Scaling\" data-toc-modified-id=\"Scaling-5\"><span class=\"toc-item-num\">5&nbsp;&nbsp;</span>Scaling</a></span></li></ul></div>"
   ]
  },
  {
   "cell_type": "code",
   "execution_count": null,
   "metadata": {
    "ExecuteTime": {
     "end_time": "2020-04-24T17:39:06.625595Z",
     "start_time": "2020-04-24T17:39:04.887347Z"
    },
    "nbdime-conflicts": {
     "local_diff": [
      {
       "diff": [
        {
         "diff": [
          {
           "key": 0,
           "op": "addrange",
           "valuelist": [
            "2020-04-29T11:01:34.812025Z"
           ]
          },
          {
           "key": 0,
           "length": 1,
           "op": "removerange"
          }
         ],
         "key": "end_time",
         "op": "patch"
        },
        {
         "diff": [
          {
           "key": 0,
           "op": "addrange",
           "valuelist": [
            "2020-04-29T11:01:33.635168Z"
           ]
          },
          {
           "key": 0,
           "length": 1,
           "op": "removerange"
          }
         ],
         "key": "start_time",
         "op": "patch"
        }
       ],
       "key": "ExecuteTime",
       "op": "patch"
      }
     ],
     "remote_diff": [
      {
       "key": "ExecuteTime",
       "op": "remove"
      }
     ]
    }
   },
   "outputs": [],
   "source": [
    "import re\n",
    "import pandas as pd\n",
    "import numpy as np\n",
    "import matplotlib.pyplot as plt\n",
    "import seaborn as sns\n",
    "import sklearn\n",
    "from sklearn.linear_model import LogisticRegression\n",
    "<<<<<<< local\n",
    "from sklearn.model_selection import train_test_split \n",
    "from sklearn.preprocessing import scale\n",
    "=======\n",
    "from sklearn.preprocessing import LabelEncoder\n",
    "from sklearn.preprocessing import OneHotEncoder\n",
    ">>>>>>> remote"
   ]
  },
  {
   "cell_type": "markdown",
   "metadata": {},
   "source": [
    "\n",
    "# Functions"
   ]
  },
  {
   "cell_type": "code",
   "execution_count": null,
   "metadata": {
    "ExecuteTime": {
     "end_time": "2020-04-24T17:39:06.631326Z",
     "start_time": "2020-04-24T17:39:06.627783Z"
    },
    "nbdime-conflicts": {
     "local_diff": [
      {
       "diff": [
        {
         "diff": [
          {
           "key": 0,
           "op": "addrange",
           "valuelist": [
            "2020-04-29T11:01:34.818040Z"
           ]
          },
          {
           "key": 0,
           "length": 1,
           "op": "removerange"
          }
         ],
         "key": "end_time",
         "op": "patch"
        },
        {
         "diff": [
          {
           "key": 0,
           "op": "addrange",
           "valuelist": [
            "2020-04-29T11:01:34.814288Z"
           ]
          },
          {
           "key": 0,
           "length": 1,
           "op": "removerange"
          }
         ],
         "key": "start_time",
         "op": "patch"
        }
       ],
       "key": "ExecuteTime",
       "op": "patch"
      }
     ],
     "remote_diff": [
      {
       "key": "ExecuteTime",
       "op": "remove"
      }
     ]
    }
   },
   "outputs": [],
   "source": [
    "## Function to explain NA values in a column:\n",
    "\n",
    "def NA_values(series):\n",
    "    '''\n",
    "    Function that takes a Pandas Series and returns a print statement explaining NAs and % of the column\n",
    "    '''\n",
    "    \n",
    "    return print(f'Column name: {series.name}\\nTotal values: {int(series.count())}\\nNA values: {series.isna().sum()}\\n% of NA values: {round(series.isna().mean() * 100,2)}%')"
   ]
  },
  {
   "cell_type": "code",
   "execution_count": null,
   "metadata": {
    "ExecuteTime": {
     "end_time": "2020-04-24T17:39:06.638624Z",
     "start_time": "2020-04-24T17:39:06.633822Z"
    },
    "nbdime-conflicts": {
     "local_diff": [
      {
       "diff": [
        {
         "diff": [
          {
           "key": 0,
           "op": "addrange",
           "valuelist": [
            "2020-04-29T11:01:34.825668Z"
           ]
          },
          {
           "key": 0,
           "length": 1,
           "op": "removerange"
          }
         ],
         "key": "end_time",
         "op": "patch"
        },
        {
         "diff": [
          {
           "key": 0,
           "op": "addrange",
           "valuelist": [
            "2020-04-29T11:01:34.820499Z"
           ]
          },
          {
           "key": 0,
           "length": 1,
           "op": "removerange"
          }
         ],
         "key": "start_time",
         "op": "patch"
        }
       ],
       "key": "ExecuteTime",
       "op": "patch"
      }
     ],
     "remote_diff": [
      {
       "key": "ExecuteTime",
       "op": "remove"
      }
     ]
    }
   },
   "outputs": [],
   "source": [
    "## Function to get the information about the outliers of a column:\n",
    "\n",
    "def iqr(dataset, series):\n",
    "    \"\"\"\n",
    "    Function takes dataset and column and returns the information about the outliers.\n",
    "    Input:\n",
    "        - dataset, e.g. data\n",
    "        - series, e.g. data.Price, important to use this format!\n",
    "    \"\"\"\n",
    "    Q1 = np.percentile(series, 25)\n",
    "    Q3 = np.percentile(series, 75)\n",
    "    IQR = Q3 - Q1\n",
    "\n",
    "    lower = Q1 - 1.5 * IQR\n",
    "    upper = Q3 + 1.5 * IQR\n",
    "    total_outliers = len(dataset.loc[(series > upper) | (series < lower)])\n",
    "    percent_outliers = total_outliers / len(dataset) * 100\n",
    "    \n",
    "    return print(f'Column: {series.name}\\nLower outliers: all values lower than {round(lower, 3)}\\nUpper outliers: all values higher than {round(upper, 3)}\\nTotal number of rows with outliers: {total_outliers}\\n% of outliers: {round(percent_outliers, 2)}%')"
   ]
  },
  {
   "cell_type": "markdown",
   "metadata": {},
   "source": [
    "# Import and Analysis"
   ]
  },
  {
   "cell_type": "code",
   "execution_count": null,
   "metadata": {
    "ExecuteTime": {
     "end_time": "2020-04-24T17:39:06.698344Z",
     "start_time": "2020-04-24T17:39:06.640538Z"
    },
    "nbdime-conflicts": {
     "local_diff": [
      {
       "diff": [
        {
         "diff": [
          {
           "key": 0,
           "op": "addrange",
           "valuelist": [
            "2020-04-29T11:01:34.867648Z"
           ]
          },
          {
           "key": 0,
           "length": 1,
           "op": "removerange"
          }
         ],
         "key": "end_time",
         "op": "patch"
        },
        {
         "diff": [
          {
           "key": 0,
           "op": "addrange",
           "valuelist": [
            "2020-04-29T11:01:34.827348Z"
           ]
          },
          {
           "key": 0,
           "length": 1,
           "op": "removerange"
          }
         ],
         "key": "start_time",
         "op": "patch"
        }
       ],
       "key": "ExecuteTime",
       "op": "patch"
      }
     ],
     "remote_diff": [
      {
       "key": "ExecuteTime",
       "op": "remove"
      }
     ]
    }
   },
   "outputs": [],
   "source": [
    "original = pd.read_csv('data/online_shoppers_intention_DATAPTDIC19.csv', sep=',', index_col=0)"
   ]
  },
  {
   "cell_type": "code",
   "execution_count": null,
   "metadata": {
    "ExecuteTime": {
     "end_time": "2020-04-24T17:39:06.711025Z",
     "start_time": "2020-04-24T17:39:06.700222Z"
    },
    "nbdime-conflicts": {
     "local_diff": [
      {
       "diff": [
        {
         "diff": [
          {
           "key": 0,
           "op": "addrange",
           "valuelist": [
            "2020-04-29T11:01:34.874964Z"
           ]
          },
          {
           "key": 0,
           "length": 1,
           "op": "removerange"
          }
         ],
         "key": "end_time",
         "op": "patch"
        },
        {
         "diff": [
          {
           "key": 0,
           "op": "addrange",
           "valuelist": [
            "2020-04-29T11:01:34.869377Z"
           ]
          },
          {
           "key": 0,
           "length": 1,
           "op": "removerange"
          }
         ],
         "key": "start_time",
         "op": "patch"
        }
       ],
       "key": "ExecuteTime",
       "op": "patch"
      }
     ],
     "remote_diff": [
      {
       "key": "ExecuteTime",
       "op": "remove"
      }
     ]
    }
   },
   "outputs": [],
   "source": [
    "data = original.copy()"
   ]
  },
  {
   "cell_type": "code",
   "execution_count": null,
   "metadata": {
    "ExecuteTime": {
     "end_time": "2020-04-24T17:39:06.741109Z",
     "start_time": "2020-04-24T17:39:06.713186Z"
    },
    "nbdime-conflicts": {
     "local_diff": [
      {
       "diff": [
        {
         "diff": [
          {
           "key": 0,
           "op": "addrange",
           "valuelist": [
            "2020-04-29T11:01:34.897917Z"
           ]
          },
          {
           "key": 0,
           "length": 1,
           "op": "removerange"
          }
         ],
         "key": "end_time",
         "op": "patch"
        },
        {
         "diff": [
          {
           "key": 0,
           "op": "addrange",
           "valuelist": [
            "2020-04-29T11:01:34.876679Z"
           ]
          },
          {
           "key": 0,
           "length": 1,
           "op": "removerange"
          }
         ],
         "key": "start_time",
         "op": "patch"
        }
       ],
       "key": "ExecuteTime",
       "op": "patch"
      }
     ],
     "remote_diff": [
      {
       "key": "ExecuteTime",
       "op": "remove"
      }
     ]
    }
   },
   "outputs": [],
   "source": [
    "data.head()"
   ]
  },
  {
   "cell_type": "code",
   "execution_count": null,
   "metadata": {
    "ExecuteTime": {
     "end_time": "2020-04-24T17:39:06.750703Z",
     "start_time": "2020-04-24T17:39:06.745340Z"
    },
    "nbdime-conflicts": {
     "local_diff": [
      {
       "diff": [
        {
         "diff": [
          {
           "key": 0,
           "op": "addrange",
           "valuelist": [
            "2020-04-29T11:01:34.903510Z"
           ]
          },
          {
           "key": 0,
           "length": 1,
           "op": "removerange"
          }
         ],
         "key": "end_time",
         "op": "patch"
        },
        {
         "diff": [
          {
           "key": 0,
           "op": "addrange",
           "valuelist": [
            "2020-04-29T11:01:34.899523Z"
           ]
          },
          {
           "key": 0,
           "length": 1,
           "op": "removerange"
          }
         ],
         "key": "start_time",
         "op": "patch"
        }
       ],
       "key": "ExecuteTime",
       "op": "patch"
      }
     ],
     "remote_diff": [
      {
       "key": "ExecuteTime",
       "op": "remove"
      }
     ]
    }
   },
   "outputs": [],
   "source": [
    "data.shape"
   ]
  },
  {
   "cell_type": "code",
   "execution_count": null,
   "metadata": {
    "ExecuteTime": {
     "end_time": "2020-04-24T17:39:06.801576Z",
     "start_time": "2020-04-24T17:39:06.756155Z"
    },
    "nbdime-conflicts": {
     "local_diff": [
      {
       "diff": [
        {
         "diff": [
          {
           "key": 0,
           "op": "addrange",
           "valuelist": [
            "2020-04-29T11:01:34.941179Z"
           ]
          },
          {
           "key": 0,
           "length": 1,
           "op": "removerange"
          }
         ],
         "key": "end_time",
         "op": "patch"
        },
        {
         "diff": [
          {
           "key": 0,
           "op": "addrange",
           "valuelist": [
            "2020-04-29T11:01:34.906086Z"
           ]
          },
          {
           "key": 0,
           "length": 1,
           "op": "removerange"
          }
         ],
         "key": "start_time",
         "op": "patch"
        }
       ],
       "key": "ExecuteTime",
       "op": "patch"
      }
     ],
     "remote_diff": [
      {
       "key": "ExecuteTime",
       "op": "remove"
      }
     ]
    }
   },
   "outputs": [],
   "source": [
    "data.describe()"
   ]
  },
  {
   "cell_type": "code",
   "execution_count": null,
   "metadata": {
    "ExecuteTime": {
     "end_time": "2020-04-24T17:39:06.819610Z",
     "start_time": "2020-04-24T17:39:06.804354Z"
    },
    "nbdime-conflicts": {
     "local_diff": [
      {
       "diff": [
        {
         "diff": [
          {
           "key": 0,
           "op": "addrange",
           "valuelist": [
            "2020-04-29T11:01:34.953062Z"
           ]
          },
          {
           "key": 0,
           "length": 1,
           "op": "removerange"
          }
         ],
         "key": "end_time",
         "op": "patch"
        },
        {
         "diff": [
          {
           "key": 0,
           "op": "addrange",
           "valuelist": [
            "2020-04-29T11:01:34.943204Z"
           ]
          },
          {
           "key": 0,
           "length": 1,
           "op": "removerange"
          }
         ],
         "key": "start_time",
         "op": "patch"
        }
       ],
       "key": "ExecuteTime",
       "op": "patch"
      }
     ],
     "remote_diff": [
      {
       "key": "ExecuteTime",
       "op": "remove"
      }
     ]
    }
   },
   "outputs": [],
   "source": [
    "data.info()"
   ]
  },
  {
   "cell_type": "markdown",
   "metadata": {},
   "source": [
    "## Dataset description:\n",
    " - Administrative:`float`. Administrative Value. `yet to identify`.\n",
    " - Administrative_Duration: `object`. Duration in Administrative Page. `Identify values and change dtype accordingly`. \n",
    " - Informational: `float`. Informational Value. `yet to identify` \n",
    " - Informational_Duration: `object`. Duration in Informational Page. `Identify values and change dtype accordingly.`\n",
    " - ProductRelated: `float.` Product Related Value. `yet to identify` \n",
    " - ProductRelated_Duration: `float`. Duration in Product Related Page. \n",
    " - BounceRates: `float`. Bounce Rates of a web page. Percentages. The value of \"Bounce Rate\" feature for a web page refers to the percentage of visitors who enter the site from that page and then leave (\"bounce\") without triggering any other requests to the analytics server during that session. \n",
    " - ExitRates: `float`. Exit rate of a web page. The value of \"Exit Rate\" feature for a specific web page is calculated as for all pageviews to the page, the percentage that were the last in the session. \n",
    " - PageValues: `object`. Page values of each web page. The \"Page Value\" feature represents the average value for a web page that a user visited before completing an e-commerce transaction. `Identify values and change dtype accordingly.` \n",
    " - SpecialDay: Special days like valentine etc. `float`. Closeness to a special date. `dtype correct`. For example, for Valentina’s day, this value takes a nonzero value between February 2 and February 12, zero before and after this date unless it is close to another special day, and its maximum value of 1 on February 8. \n",
    " - Month: Month of the year. `object`. String to identify the month of the year. `clean`. \n",
    " - OperatingSystems: Operating system used. `object`. `Try to explain the values`. \n",
    " - Browser: Browser used. `float` \n",
    " - Region: Region of the user. `object`. \n",
    " - TrafficType: Traffic Type. `float`.  \n",
    " - VisitorType: Types of Visitor `object` \n",
    " - Weekend: Weekend or not `object`, `Identify values and change dtype accordingly`.   \n",
    " - Revenue: Revenue will be generated or not `bool`.\n",
    "     "
   ]
  },
  {
   "cell_type": "markdown",
   "metadata": {},
   "source": [
    "## Data Investigation and Cleaning"
   ]
  },
  {
   "cell_type": "markdown",
   "metadata": {},
   "source": [
    "- **Administrative**\n",
    "    - 999.0 probably move to nan, can't be that visited 999 times the page\n",
    "- **Administrative_Duration**\n",
    "    - change object type to float\n",
    "    - move -99 and -1.0 values to nan\n",
    "- **Informational_Duration**\n",
    "    - change object type to float\n",
    "    - change -1.0 to nan\n",
    "    - change None to nan\n",
    "- **ProductRelated_Duration**\n",
    "    - change -1.0 values to Nan\n",
    "- **Page Values**\n",
    "    - change object type to float\n",
    "    - #Nan change to Nan\n",
    "- **Month**\n",
    "    - change MAY to May and March to Mar\n",
    "- **OperatingSystems**\n",
    "    - change -999 and ? to Nan\n",
    "- **Browser**\n",
    "    - change -1 to Nan or it's a separate category of a browser?\n",
    "- **Region**\n",
    "    - change Nan to np.nan\n",
    "- **VisitorType**\n",
    "    - unify more to other or change both to Nan?\n",
    "- **Weekend**\n",
    "    - change object type to bool\n",
    "    - change weekdays to 0 and 1"
   ]
  },
  {
   "cell_type": "code",
   "execution_count": 10,
   "metadata": {
    "ExecuteTime": {
     "end_time": "2020-04-24T17:39:06.824823Z",
     "start_time": "2020-04-24T17:39:06.821381Z"
    }
   },
   "outputs": [],
   "source": [
    "# Show all values of the dataset\n",
    "\n",
    "pd.set_option('display.max_rows', None)\n",
    "pd.set_option('display.max_columns', None)\n",
    "pd.set_option('display.width', None)\n",
    "pd.set_option('display.max_colwidth', -1)"
   ]
  },
  {
   "cell_type": "markdown",
   "metadata": {},
   "source": [
    "### Administrative"
   ]
  },
  {
   "cell_type": "code",
   "execution_count": null,
   "metadata": {
    "ExecuteTime": {
     "end_time": "2020-04-24T17:39:06.832632Z",
     "start_time": "2020-04-24T17:39:06.827492Z"
    },
    "nbdime-conflicts": {
     "local_diff": [
      {
       "diff": [
        {
         "diff": [
          {
           "key": 0,
           "op": "addrange",
           "valuelist": [
            "2020-04-29T11:01:34.958756Z"
           ]
          },
          {
           "key": 0,
           "length": 1,
           "op": "removerange"
          }
         ],
         "key": "end_time",
         "op": "patch"
        },
        {
         "diff": [
          {
           "key": 0,
           "op": "addrange",
           "valuelist": [
            "2020-04-29T11:01:34.954429Z"
           ]
          },
          {
           "key": 0,
           "length": 1,
           "op": "removerange"
          }
         ],
         "key": "start_time",
         "op": "patch"
        }
       ],
       "key": "ExecuteTime",
       "op": "patch"
      }
     ],
     "remote_diff": [
      {
       "key": "ExecuteTime",
       "op": "remove"
      }
     ]
    }
   },
   "outputs": [],
   "source": [
    "data.Administrative.unique()"
   ]
  },
  {
   "cell_type": "code",
   "execution_count": null,
   "metadata": {
    "ExecuteTime": {
     "end_time": "2020-04-24T17:39:06.841605Z",
     "start_time": "2020-04-24T17:39:06.834410Z"
    },
    "nbdime-conflicts": {
     "local_diff": [
      {
       "diff": [
        {
         "diff": [
          {
           "key": 0,
           "op": "addrange",
           "valuelist": [
            "2020-04-29T11:01:34.965596Z"
           ]
          },
          {
           "key": 0,
           "length": 1,
           "op": "removerange"
          }
         ],
         "key": "end_time",
         "op": "patch"
        },
        {
         "diff": [
          {
           "key": 0,
           "op": "addrange",
           "valuelist": [
            "2020-04-29T11:01:34.960169Z"
           ]
          },
          {
           "key": 0,
           "length": 1,
           "op": "removerange"
          }
         ],
         "key": "start_time",
         "op": "patch"
        }
       ],
       "key": "ExecuteTime",
       "op": "patch"
      }
     ],
     "remote_diff": [
      {
       "key": "ExecuteTime",
       "op": "remove"
      }
     ]
    }
   },
   "outputs": [],
   "source": [
    "data.Administrative.value_counts()"
   ]
  },
  {
   "cell_type": "code",
   "execution_count": null,
   "metadata": {
    "ExecuteTime": {
     "end_time": "2020-04-24T17:39:06.856432Z",
     "start_time": "2020-04-24T17:39:06.843388Z"
    },
    "nbdime-conflicts": {
     "local_diff": [
      {
       "diff": [
        {
         "diff": [
          {
           "key": 0,
           "op": "addrange",
           "valuelist": [
            "2020-04-29T11:01:34.977126Z"
           ]
          },
          {
           "key": 0,
           "length": 1,
           "op": "removerange"
          }
         ],
         "key": "end_time",
         "op": "patch"
        },
        {
         "diff": [
          {
           "key": 0,
           "op": "addrange",
           "valuelist": [
            "2020-04-29T11:01:34.967303Z"
           ]
          },
          {
           "key": 0,
           "length": 1,
           "op": "removerange"
          }
         ],
         "key": "start_time",
         "op": "patch"
        }
       ],
       "key": "ExecuteTime",
       "op": "patch"
      }
     ],
     "remote_diff": [
      {
       "key": "ExecuteTime",
       "op": "remove"
      }
     ]
    }
   },
   "outputs": [],
   "source": [
    "data['AnyPage'] = data['Administrative'] + data['Informational'] + data['ProductRelated']"
   ]
  },
  {
   "cell_type": "code",
   "execution_count": null,
   "metadata": {
    "ExecuteTime": {
     "end_time": "2020-04-24T17:39:07.203650Z",
     "start_time": "2020-04-24T17:39:06.858770Z"
    },
    "nbdime-conflicts": {
     "local_diff": [
      {
       "diff": [
        {
         "diff": [
          {
           "key": 0,
           "op": "addrange",
           "valuelist": [
            "2020-04-29T11:01:35.224615Z"
           ]
          },
          {
           "key": 0,
           "length": 1,
           "op": "removerange"
          }
         ],
         "key": "end_time",
         "op": "patch"
        },
        {
         "diff": [
          {
           "key": 0,
           "op": "addrange",
           "valuelist": [
            "2020-04-29T11:01:34.978604Z"
           ]
          },
          {
           "key": 0,
           "length": 1,
           "op": "removerange"
          }
         ],
         "key": "start_time",
         "op": "patch"
        }
       ],
       "key": "ExecuteTime",
       "op": "patch"
      }
     ],
     "remote_diff": [
      {
       "key": "ExecuteTime",
       "op": "remove"
      }
     ]
    }
   },
   "outputs": [],
   "source": [
    "data['AnyPage'].value_counts(normalize= True).hist(bins=50)"
   ]
  },
  {
   "cell_type": "code",
   "execution_count": null,
   "metadata": {
    "ExecuteTime": {
     "end_time": "2020-04-24T17:39:07.283475Z",
     "start_time": "2020-04-24T17:39:07.205365Z"
    },
    "nbdime-conflicts": {
     "local_diff": [
      {
       "diff": [
        {
         "diff": [
          {
           "key": 0,
           "op": "addrange",
           "valuelist": [
            "2020-04-29T11:01:35.260082Z"
           ]
          },
          {
           "key": 0,
           "length": 1,
           "op": "removerange"
          }
         ],
         "key": "end_time",
         "op": "patch"
        },
        {
         "diff": [
          {
           "key": 0,
           "op": "addrange",
           "valuelist": [
            "2020-04-29T11:01:35.226206Z"
           ]
          },
          {
           "key": 0,
           "length": 1,
           "op": "removerange"
          }
         ],
         "key": "start_time",
         "op": "patch"
        }
       ],
       "key": "ExecuteTime",
       "op": "patch"
      }
     ],
     "remote_diff": [
      {
       "key": "ExecuteTime",
       "op": "remove"
      }
     ]
    },
    "scrolled": true
   },
   "outputs": [],
   "source": [
    "# Checking 999 values\n",
    "\n",
    "data999 = data.loc[data.Administrative == 999.0]\n",
    "print(len(data999))\n",
    "data999"
   ]
  },
  {
   "cell_type": "markdown",
   "metadata": {},
   "source": [
    "- 999.0 probably move to nan, can't be that visited 999 times the page"
   ]
  },
  {
   "cell_type": "code",
   "execution_count": null,
   "metadata": {
    "ExecuteTime": {
     "end_time": "2020-04-24T17:39:07.293699Z",
     "start_time": "2020-04-24T17:39:07.286313Z"
    },
    "nbdime-conflicts": {
     "local_diff": [
      {
       "diff": [
        {
         "diff": [
          {
           "key": 0,
           "op": "addrange",
           "valuelist": [
            "2020-04-29T11:01:35.267433Z"
           ]
          },
          {
           "key": 0,
           "length": 1,
           "op": "removerange"
          }
         ],
         "key": "end_time",
         "op": "patch"
        },
        {
         "diff": [
          {
           "key": 0,
           "op": "addrange",
           "valuelist": [
            "2020-04-29T11:01:35.261598Z"
           ]
          },
          {
           "key": 0,
           "length": 1,
           "op": "removerange"
          }
         ],
         "key": "start_time",
         "op": "patch"
        }
       ],
       "key": "ExecuteTime",
       "op": "patch"
      }
     ],
     "remote_diff": [
      {
       "key": "ExecuteTime",
       "op": "remove"
      }
     ]
    }
   },
   "outputs": [],
   "source": [
    "# Percenatge of revenue per 999 values:\n",
    "\n",
    "data999.Revenue.value_counts(normalize = True)*100"
   ]
  },
  {
   "cell_type": "markdown",
   "metadata": {},
   "source": [
    "**Changing to Nan:**"
   ]
  },
  {
   "cell_type": "code",
   "execution_count": null,
   "metadata": {
    "ExecuteTime": {
     "end_time": "2020-04-24T17:39:07.299646Z",
     "start_time": "2020-04-24T17:39:07.295611Z"
    },
    "nbdime-conflicts": {
     "local_diff": [
      {
       "diff": [
        {
         "diff": [
          {
           "key": 0,
           "op": "addrange",
           "valuelist": [
            "2020-04-29T11:01:35.271993Z"
           ]
          },
          {
           "key": 0,
           "length": 1,
           "op": "removerange"
          }
         ],
         "key": "end_time",
         "op": "patch"
        },
        {
         "diff": [
          {
           "key": 0,
           "op": "addrange",
           "valuelist": [
            "2020-04-29T11:01:35.268919Z"
           ]
          },
          {
           "key": 0,
           "length": 1,
           "op": "removerange"
          }
         ],
         "key": "start_time",
         "op": "patch"
        }
       ],
       "key": "ExecuteTime",
       "op": "patch"
      }
     ],
     "remote_diff": [
      {
       "key": "ExecuteTime",
       "op": "remove"
      }
     ]
    }
   },
   "outputs": [],
   "source": [
    "data.Administrative = data.Administrative.replace(999.0, np.nan)"
   ]
  },
  {
   "cell_type": "code",
   "execution_count": null,
   "metadata": {
    "ExecuteTime": {
     "end_time": "2020-04-24T17:39:07.308292Z",
     "start_time": "2020-04-24T17:39:07.301311Z"
    },
    "nbdime-conflicts": {
     "local_diff": [
      {
       "diff": [
        {
         "diff": [
          {
           "key": 0,
           "op": "addrange",
           "valuelist": [
            "2020-04-29T11:01:35.278999Z"
           ]
          },
          {
           "key": 0,
           "length": 1,
           "op": "removerange"
          }
         ],
         "key": "end_time",
         "op": "patch"
        },
        {
         "diff": [
          {
           "key": 0,
           "op": "addrange",
           "valuelist": [
            "2020-04-29T11:01:35.273411Z"
           ]
          },
          {
           "key": 0,
           "length": 1,
           "op": "removerange"
          }
         ],
         "key": "start_time",
         "op": "patch"
        }
       ],
       "key": "ExecuteTime",
       "op": "patch"
      }
     ],
     "remote_diff": [
      {
       "key": "ExecuteTime",
       "op": "remove"
      }
     ]
    }
   },
   "outputs": [],
   "source": [
    "data.Administrative.value_counts()"
   ]
  },
  {
   "cell_type": "markdown",
   "metadata": {},
   "source": [
    "### Administrative Duration"
   ]
  },
  {
   "cell_type": "code",
   "execution_count": null,
   "metadata": {
    "ExecuteTime": {
     "end_time": "2020-04-24T17:39:07.317238Z",
     "start_time": "2020-04-24T17:39:07.310857Z"
    },
    "nbdime-conflicts": {
     "local_diff": [
      {
       "diff": [
        {
         "diff": [
          {
           "key": 0,
           "op": "addrange",
           "valuelist": [
            "2020-04-29T11:01:35.284896Z"
           ]
          },
          {
           "key": 0,
           "length": 1,
           "op": "removerange"
          }
         ],
         "key": "end_time",
         "op": "patch"
        },
        {
         "diff": [
          {
           "key": 0,
           "op": "addrange",
           "valuelist": [
            "2020-04-29T11:01:35.280409Z"
           ]
          },
          {
           "key": 0,
           "length": 1,
           "op": "removerange"
          }
         ],
         "key": "start_time",
         "op": "patch"
        }
       ],
       "key": "ExecuteTime",
       "op": "patch"
      }
     ],
     "remote_diff": [
      {
       "key": "ExecuteTime",
       "op": "remove"
      }
     ]
    }
   },
   "outputs": [],
   "source": [
    "data.Administrative_Duration.unique()"
   ]
  },
  {
   "cell_type": "code",
   "execution_count": null,
   "metadata": {
    "ExecuteTime": {
     "end_time": "2020-04-24T17:39:07.358815Z",
     "start_time": "2020-04-24T17:39:07.319926Z"
    },
    "nbdime-conflicts": {
     "local_diff": [
      {
       "diff": [
        {
         "diff": [
          {
           "key": 0,
           "op": "addrange",
           "valuelist": [
            "2020-04-29T11:01:35.293767Z"
           ]
          },
          {
           "key": 0,
           "length": 1,
           "op": "removerange"
          }
         ],
         "key": "end_time",
         "op": "patch"
        },
        {
         "diff": [
          {
           "key": 0,
           "op": "addrange",
           "valuelist": [
            "2020-04-29T11:01:35.286387Z"
           ]
          },
          {
           "key": 0,
           "length": 1,
           "op": "removerange"
          }
         ],
         "key": "start_time",
         "op": "patch"
        }
       ],
       "key": "ExecuteTime",
       "op": "patch"
      }
     ],
     "remote_diff": [
      {
       "key": "ExecuteTime",
       "op": "remove"
      }
     ]
    },
    "scrolled": true
   },
   "outputs": [],
   "source": [
    "data.Administrative_Duration.value_counts()"
   ]
  },
  {
   "cell_type": "code",
   "execution_count": null,
   "metadata": {
    "ExecuteTime": {
     "end_time": "2020-04-24T17:39:07.467061Z",
     "start_time": "2020-04-24T17:39:07.360467Z"
    },
    "nbdime-conflicts": {
     "local_diff": [
      {
       "diff": [
        {
         "diff": [
          {
           "key": 0,
           "op": "addrange",
           "valuelist": [
            "2020-04-29T11:01:35.333262Z"
           ]
          },
          {
           "key": 0,
           "length": 1,
           "op": "removerange"
          }
         ],
         "key": "end_time",
         "op": "patch"
        },
        {
         "diff": [
          {
           "key": 0,
           "op": "addrange",
           "valuelist": [
            "2020-04-29T11:01:35.295206Z"
           ]
          },
          {
           "key": 0,
           "length": 1,
           "op": "removerange"
          }
         ],
         "key": "start_time",
         "op": "patch"
        }
       ],
       "key": "ExecuteTime",
       "op": "patch"
      }
     ],
     "remote_diff": [
      {
       "key": "ExecuteTime",
       "op": "remove"
      }
     ]
    },
    "scrolled": true
   },
   "outputs": [],
   "source": [
    "# Checking negative values (ignoring nans)\n",
    "\n",
    "data_negative = data.loc[data.Administrative_Duration.str.contains('-', na = False)]\n",
    "print(len(data_negative))\n",
    "data_negative"
   ]
  },
  {
   "cell_type": "markdown",
   "metadata": {},
   "source": [
    "- move negative values to nan, can't be duration negative"
   ]
  },
  {
   "cell_type": "code",
   "execution_count": null,
   "metadata": {
    "ExecuteTime": {
     "end_time": "2020-04-24T17:39:07.488154Z",
     "start_time": "2020-04-24T17:39:07.469137Z"
    },
    "nbdime-conflicts": {
     "local_diff": [
      {
       "diff": [
        {
         "diff": [
          {
           "key": 0,
           "op": "addrange",
           "valuelist": [
            "2020-04-29T11:01:35.340804Z"
           ]
          },
          {
           "key": 0,
           "length": 1,
           "op": "removerange"
          }
         ],
         "key": "end_time",
         "op": "patch"
        },
        {
         "diff": [
          {
           "key": 0,
           "op": "addrange",
           "valuelist": [
            "2020-04-29T11:01:35.334710Z"
           ]
          },
          {
           "key": 0,
           "length": 1,
           "op": "removerange"
          }
         ],
         "key": "start_time",
         "op": "patch"
        }
       ],
       "key": "ExecuteTime",
       "op": "patch"
      }
     ],
     "remote_diff": [
      {
       "key": "ExecuteTime",
       "op": "remove"
      }
     ]
    },
    "scrolled": true
   },
   "outputs": [],
   "source": [
    "# Percenatge of revenue per negative values:\n",
    "\n",
    "data_negative.Revenue.value_counts(normalize = True)*100"
   ]
  },
  {
   "cell_type": "markdown",
   "metadata": {},
   "source": [
    "**Changing to Nan:**"
   ]
  },
  {
   "cell_type": "code",
   "execution_count": null,
   "metadata": {
    "ExecuteTime": {
     "end_time": "2020-04-24T17:39:07.498790Z",
     "start_time": "2020-04-24T17:39:07.493596Z"
    },
    "nbdime-conflicts": {
     "local_diff": [
      {
       "diff": [
        {
         "diff": [
          {
           "key": 0,
           "op": "addrange",
           "valuelist": [
            "2020-04-29T11:01:35.346867Z"
           ]
          },
          {
           "key": 0,
           "length": 1,
           "op": "removerange"
          }
         ],
         "key": "end_time",
         "op": "patch"
        },
        {
         "diff": [
          {
           "key": 0,
           "op": "addrange",
           "valuelist": [
            "2020-04-29T11:01:35.342313Z"
           ]
          },
          {
           "key": 0,
           "length": 1,
           "op": "removerange"
          }
         ],
         "key": "start_time",
         "op": "patch"
        }
       ],
       "key": "ExecuteTime",
       "op": "patch"
      }
     ],
     "remote_diff": [
      {
       "key": "ExecuteTime",
       "op": "remove"
      }
     ]
    }
   },
   "outputs": [],
   "source": [
    "data.Administrative_Duration = data.Administrative_Duration.replace(['-1.0', '-99'], np.nan)"
   ]
  },
  {
   "cell_type": "code",
   "execution_count": null,
   "metadata": {
    "ExecuteTime": {
     "end_time": "2020-04-24T17:39:07.538616Z",
     "start_time": "2020-04-24T17:39:07.501512Z"
    },
    "nbdime-conflicts": {
     "local_diff": [
      {
       "diff": [
        {
         "diff": [
          {
           "key": 0,
           "op": "addrange",
           "valuelist": [
            "2020-04-29T11:01:35.359317Z"
           ]
          },
          {
           "key": 0,
           "length": 1,
           "op": "removerange"
          }
         ],
         "key": "end_time",
         "op": "patch"
        },
        {
         "diff": [
          {
           "key": 0,
           "op": "addrange",
           "valuelist": [
            "2020-04-29T11:01:35.351403Z"
           ]
          },
          {
           "key": 0,
           "length": 1,
           "op": "removerange"
          }
         ],
         "key": "start_time",
         "op": "patch"
        }
       ],
       "key": "ExecuteTime",
       "op": "patch"
      }
     ],
     "remote_diff": [
      {
       "key": "ExecuteTime",
       "op": "remove"
      }
     ]
    }
   },
   "outputs": [],
   "source": [
    "data.Administrative_Duration.value_counts()"
   ]
  },
  {
   "cell_type": "markdown",
   "metadata": {},
   "source": [
    "### Informational"
   ]
  },
  {
   "cell_type": "code",
   "execution_count": null,
   "metadata": {
    "ExecuteTime": {
     "end_time": "2020-04-24T17:39:07.545975Z",
     "start_time": "2020-04-24T17:39:07.540417Z"
    },
    "nbdime-conflicts": {
     "local_diff": [
      {
       "diff": [
        {
         "diff": [
          {
           "key": 0,
           "op": "addrange",
           "valuelist": [
            "2020-04-29T11:01:35.366396Z"
           ]
          },
          {
           "key": 0,
           "length": 1,
           "op": "removerange"
          }
         ],
         "key": "end_time",
         "op": "patch"
        },
        {
         "diff": [
          {
           "key": 0,
           "op": "addrange",
           "valuelist": [
            "2020-04-29T11:01:35.362006Z"
           ]
          },
          {
           "key": 0,
           "length": 1,
           "op": "removerange"
          }
         ],
         "key": "start_time",
         "op": "patch"
        }
       ],
       "key": "ExecuteTime",
       "op": "patch"
      }
     ],
     "remote_diff": [
      {
       "key": "ExecuteTime",
       "op": "remove"
      }
     ]
    }
   },
   "outputs": [],
   "source": [
    "data.Informational.unique()"
   ]
  },
  {
   "cell_type": "code",
   "execution_count": null,
   "metadata": {
    "ExecuteTime": {
     "end_time": "2020-04-24T17:39:07.555929Z",
     "start_time": "2020-04-24T17:39:07.548320Z"
    },
    "nbdime-conflicts": {
     "local_diff": [
      {
       "diff": [
        {
         "diff": [
          {
           "key": 0,
           "op": "addrange",
           "valuelist": [
            "2020-04-29T11:01:35.373470Z"
           ]
          },
          {
           "key": 0,
           "length": 1,
           "op": "removerange"
          }
         ],
         "key": "end_time",
         "op": "patch"
        },
        {
         "diff": [
          {
           "key": 0,
           "op": "addrange",
           "valuelist": [
            "2020-04-29T11:01:35.367826Z"
           ]
          },
          {
           "key": 0,
           "length": 1,
           "op": "removerange"
          }
         ],
         "key": "start_time",
         "op": "patch"
        }
       ],
       "key": "ExecuteTime",
       "op": "patch"
      }
     ],
     "remote_diff": [
      {
       "key": "ExecuteTime",
       "op": "remove"
      }
     ]
    },
    "scrolled": true
   },
   "outputs": [],
   "source": [
    "data.Informational.value_counts()"
   ]
  },
  {
   "cell_type": "markdown",
   "metadata": {},
   "source": [
    "### Informational Duration"
   ]
  },
  {
   "cell_type": "code",
   "execution_count": null,
   "metadata": {
    "ExecuteTime": {
     "end_time": "2020-04-24T17:39:07.562644Z",
     "start_time": "2020-04-24T17:39:07.558009Z"
    },
    "nbdime-conflicts": {
     "local_diff": [
      {
       "diff": [
        {
         "diff": [
          {
           "key": 0,
           "op": "addrange",
           "valuelist": [
            "2020-04-29T11:01:35.381149Z"
           ]
          },
          {
           "key": 0,
           "length": 1,
           "op": "removerange"
          }
         ],
         "key": "end_time",
         "op": "patch"
        },
        {
         "diff": [
          {
           "key": 0,
           "op": "addrange",
           "valuelist": [
            "2020-04-29T11:01:35.375293Z"
           ]
          },
          {
           "key": 0,
           "length": 1,
           "op": "removerange"
          }
         ],
         "key": "start_time",
         "op": "patch"
        }
       ],
       "key": "ExecuteTime",
       "op": "patch"
      }
     ],
     "remote_diff": [
      {
       "key": "ExecuteTime",
       "op": "remove"
      }
     ]
    }
   },
   "outputs": [],
   "source": [
    "data.Informational_Duration.unique()"
   ]
  },
  {
   "cell_type": "code",
   "execution_count": null,
   "metadata": {
    "ExecuteTime": {
     "end_time": "2020-04-24T17:39:07.593429Z",
     "start_time": "2020-04-24T17:39:07.564331Z"
    },
    "nbdime-conflicts": {
     "local_diff": [
      {
       "diff": [
        {
         "diff": [
          {
           "diff": [
            {
             "key": 9,
             "op": "addrange",
             "valuelist": "9"
            },
            {
             "key": 9,
             "length": 1,
             "op": "removerange"
            },
            {
             "key": 12,
             "op": "addrange",
             "valuelist": "1:01"
            },
            {
             "key": 12,
             "length": 1,
             "op": "removerange"
            },
            {
             "key": 15,
             "op": "addrange",
             "valuelist": "5.3"
            },
            {
             "key": 16,
             "length": 1,
             "op": "removerange"
            },
            {
             "key": 18,
             "length": 2,
             "op": "removerange"
            },
            {
             "key": 21,
             "length": 2,
             "op": "removerange"
            },
            {
             "key": 25,
             "length": 1,
             "op": "removerange"
            }
           ],
           "key": 0,
           "op": "patch"
          }
         ],
         "key": "end_time",
         "op": "patch"
        },
        {
         "diff": [
          {
           "key": 0,
           "op": "addrange",
           "valuelist": [
            "2020-04-29T11:01:35.382823Z"
           ]
          },
          {
           "key": 0,
           "length": 1,
           "op": "removerange"
          }
         ],
         "key": "start_time",
         "op": "patch"
        }
       ],
       "key": "ExecuteTime",
       "op": "patch"
      }
     ],
     "remote_diff": [
      {
       "key": "ExecuteTime",
       "op": "remove"
      }
     ]
    },
    "scrolled": true
   },
   "outputs": [],
   "source": [
    "data.Informational_Duration.value_counts()"
   ]
  },
  {
   "cell_type": "code",
   "execution_count": null,
   "metadata": {
    "ExecuteTime": {
     "end_time": "2020-04-24T17:39:07.643449Z",
     "start_time": "2020-04-24T17:39:07.595061Z"
    },
    "nbdime-conflicts": {
     "local_diff": [
      {
       "diff": [
        {
         "diff": [
          {
           "key": 0,
           "op": "addrange",
           "valuelist": [
            "2020-04-29T11:01:35.432600Z"
           ]
          },
          {
           "key": 0,
           "length": 1,
           "op": "removerange"
          }
         ],
         "key": "end_time",
         "op": "patch"
        },
        {
         "diff": [
          {
           "key": 0,
           "op": "addrange",
           "valuelist": [
            "2020-04-29T11:01:35.392249Z"
           ]
          },
          {
           "key": 0,
           "length": 1,
           "op": "removerange"
          }
         ],
         "key": "start_time",
         "op": "patch"
        }
       ],
       "key": "ExecuteTime",
       "op": "patch"
      }
     ],
     "remote_diff": [
      {
       "key": "ExecuteTime",
       "op": "remove"
      }
     ]
    },
    "scrolled": true
   },
   "outputs": [],
   "source": [
    "# Checking neagitve values\n",
    "\n",
    "data_negative = data.loc[data.Informational_Duration.str.contains('-', na = False)]\n",
    "print(len(data_negative))\n",
    "data_negative"
   ]
  },
  {
   "cell_type": "markdown",
   "metadata": {},
   "source": [
    "- change negative to nan\n",
    "- we have negative values in all 3 columns with duration"
   ]
  },
  {
   "cell_type": "code",
   "execution_count": null,
   "metadata": {
    "ExecuteTime": {
     "end_time": "2020-04-24T17:39:07.654263Z",
     "start_time": "2020-04-24T17:39:07.647211Z"
    },
    "nbdime-conflicts": {
     "local_diff": [
      {
       "diff": [
        {
         "diff": [
          {
           "key": 0,
           "op": "addrange",
           "valuelist": [
            "2020-04-29T11:01:35.439470Z"
           ]
          },
          {
           "key": 0,
           "length": 1,
           "op": "removerange"
          }
         ],
         "key": "end_time",
         "op": "patch"
        },
        {
         "diff": [
          {
           "key": 0,
           "op": "addrange",
           "valuelist": [
            "2020-04-29T11:01:35.434043Z"
           ]
          },
          {
           "key": 0,
           "length": 1,
           "op": "removerange"
          }
         ],
         "key": "start_time",
         "op": "patch"
        }
       ],
       "key": "ExecuteTime",
       "op": "patch"
      }
     ],
     "remote_diff": [
      {
       "key": "ExecuteTime",
       "op": "remove"
      }
     ]
    }
   },
   "outputs": [],
   "source": [
    "# Percenatge of revenue per negative values:\n",
    "\n",
    "data_negative.Revenue.value_counts(normalize = True)*100"
   ]
  },
  {
   "cell_type": "code",
   "execution_count": null,
   "metadata": {
    "ExecuteTime": {
     "end_time": "2020-04-24T17:39:07.741964Z",
     "start_time": "2020-04-24T17:39:07.655973Z"
    },
    "nbdime-conflicts": {
     "local_diff": [
      {
       "diff": [
        {
         "diff": [
          {
           "key": 0,
           "op": "addrange",
           "valuelist": [
            "2020-04-29T11:01:35.472431Z"
           ]
          },
          {
           "key": 0,
           "length": 1,
           "op": "removerange"
          }
         ],
         "key": "end_time",
         "op": "patch"
        },
        {
         "diff": [
          {
           "key": 0,
           "op": "addrange",
           "valuelist": [
            "2020-04-29T11:01:35.440713Z"
           ]
          },
          {
           "key": 0,
           "length": 1,
           "op": "removerange"
          }
         ],
         "key": "start_time",
         "op": "patch"
        }
       ],
       "key": "ExecuteTime",
       "op": "patch"
      }
     ],
     "remote_diff": [
      {
       "key": "ExecuteTime",
       "op": "remove"
      }
     ]
    }
   },
   "outputs": [],
   "source": [
    "# checking none values:\n",
    "\n",
    "data_none = data.loc[data.Informational_Duration == 'None']\n",
    "print(len(data_none))\n",
    "data_none"
   ]
  },
  {
   "cell_type": "markdown",
   "metadata": {},
   "source": [
    "- change None values to Nan"
   ]
  },
  {
   "cell_type": "code",
   "execution_count": null,
   "metadata": {
    "ExecuteTime": {
     "end_time": "2020-04-24T17:39:07.753202Z",
     "start_time": "2020-04-24T17:39:07.744555Z"
    },
    "nbdime-conflicts": {
     "local_diff": [
      {
       "diff": [
        {
         "diff": [
          {
           "key": 0,
           "op": "addrange",
           "valuelist": [
            "2020-04-29T11:01:35.479630Z"
           ]
          },
          {
           "key": 0,
           "length": 1,
           "op": "removerange"
          }
         ],
         "key": "end_time",
         "op": "patch"
        },
        {
         "diff": [
          {
           "key": 0,
           "op": "addrange",
           "valuelist": [
            "2020-04-29T11:01:35.473950Z"
           ]
          },
          {
           "key": 0,
           "length": 1,
           "op": "removerange"
          }
         ],
         "key": "start_time",
         "op": "patch"
        }
       ],
       "key": "ExecuteTime",
       "op": "patch"
      }
     ],
     "remote_diff": [
      {
       "key": "ExecuteTime",
       "op": "remove"
      }
     ]
    }
   },
   "outputs": [],
   "source": [
    "# Percenatge of revenue per none values:\n",
    "\n",
    "data_none.Revenue.value_counts(normalize = True)*100"
   ]
  },
  {
   "cell_type": "markdown",
   "metadata": {},
   "source": [
    "**Changing to Nan:**"
   ]
  },
  {
   "cell_type": "code",
   "execution_count": null,
   "metadata": {
    "ExecuteTime": {
     "end_time": "2020-04-24T17:39:07.762469Z",
     "start_time": "2020-04-24T17:39:07.756381Z"
    },
    "nbdime-conflicts": {
     "local_diff": [
      {
       "diff": [
        {
         "diff": [
          {
           "key": 0,
           "op": "addrange",
           "valuelist": [
            "2020-04-29T11:01:35.485307Z"
           ]
          },
          {
           "key": 0,
           "length": 1,
           "op": "removerange"
          }
         ],
         "key": "end_time",
         "op": "patch"
        },
        {
         "diff": [
          {
           "key": 0,
           "op": "addrange",
           "valuelist": [
            "2020-04-29T11:01:35.481080Z"
           ]
          },
          {
           "key": 0,
           "length": 1,
           "op": "removerange"
          }
         ],
         "key": "start_time",
         "op": "patch"
        }
       ],
       "key": "ExecuteTime",
       "op": "patch"
      }
     ],
     "remote_diff": [
      {
       "key": "ExecuteTime",
       "op": "remove"
      }
     ]
    }
   },
   "outputs": [],
   "source": [
    "data.Informational_Duration = data.Informational_Duration.replace(['-1.0', 'None'], np.nan)"
   ]
  },
  {
   "cell_type": "code",
   "execution_count": null,
   "metadata": {
    "ExecuteTime": {
     "end_time": "2020-04-24T17:39:07.788036Z",
     "start_time": "2020-04-24T17:39:07.764683Z"
    },
    "nbdime-conflicts": {
     "local_diff": [
      {
       "diff": [
        {
         "diff": [
          {
           "key": 0,
           "op": "addrange",
           "valuelist": [
            "2020-04-29T11:01:35.493570Z"
           ]
          },
          {
           "key": 0,
           "length": 1,
           "op": "removerange"
          }
         ],
         "key": "end_time",
         "op": "patch"
        },
        {
         "diff": [
          {
           "key": 0,
           "op": "addrange",
           "valuelist": [
            "2020-04-29T11:01:35.486701Z"
           ]
          },
          {
           "key": 0,
           "length": 1,
           "op": "removerange"
          }
         ],
         "key": "start_time",
         "op": "patch"
        }
       ],
       "key": "ExecuteTime",
       "op": "patch"
      }
     ],
     "remote_diff": [
      {
       "key": "ExecuteTime",
       "op": "remove"
      }
     ]
    }
   },
   "outputs": [],
   "source": [
    "data.Informational_Duration.value_counts()"
   ]
  },
  {
   "cell_type": "markdown",
   "metadata": {},
   "source": [
    "### Product Related"
   ]
  },
  {
   "cell_type": "code",
   "execution_count": null,
   "metadata": {
    "ExecuteTime": {
     "end_time": "2020-04-24T17:39:07.799949Z",
     "start_time": "2020-04-24T17:39:07.791197Z"
    },
    "nbdime-conflicts": {
     "local_diff": [
      {
       "diff": [
        {
         "diff": [
          {
           "key": 0,
           "op": "addrange",
           "valuelist": [
            "2020-04-29T11:01:35.501136Z"
           ]
          },
          {
           "key": 0,
           "length": 1,
           "op": "removerange"
          }
         ],
         "key": "end_time",
         "op": "patch"
        },
        {
         "diff": [
          {
           "key": 0,
           "op": "addrange",
           "valuelist": [
            "2020-04-29T11:01:35.494816Z"
           ]
          },
          {
           "key": 0,
           "length": 1,
           "op": "removerange"
          }
         ],
         "key": "start_time",
         "op": "patch"
        }
       ],
       "key": "ExecuteTime",
       "op": "patch"
      }
     ],
     "remote_diff": [
      {
       "key": "ExecuteTime",
       "op": "remove"
      }
     ]
    }
   },
   "outputs": [],
   "source": [
    "data.ProductRelated.unique()"
   ]
  },
  {
   "cell_type": "code",
   "execution_count": null,
   "metadata": {
    "ExecuteTime": {
     "end_time": "2020-04-24T17:39:07.814563Z",
     "start_time": "2020-04-24T17:39:07.801722Z"
    },
    "nbdime-conflicts": {
     "local_diff": [
      {
       "diff": [
        {
         "diff": [
          {
           "key": 0,
           "op": "addrange",
           "valuelist": [
            "2020-04-29T11:01:35.508320Z"
           ]
          },
          {
           "key": 0,
           "length": 1,
           "op": "removerange"
          }
         ],
         "key": "end_time",
         "op": "patch"
        },
        {
         "diff": [
          {
           "key": 0,
           "op": "addrange",
           "valuelist": [
            "2020-04-29T11:01:35.502488Z"
           ]
          },
          {
           "key": 0,
           "length": 1,
           "op": "removerange"
          }
         ],
         "key": "start_time",
         "op": "patch"
        }
       ],
       "key": "ExecuteTime",
       "op": "patch"
      }
     ],
     "remote_diff": [
      {
       "key": "ExecuteTime",
       "op": "remove"
      }
     ]
    }
   },
   "outputs": [],
   "source": [
    "data.ProductRelated.value_counts()"
   ]
  },
  {
   "cell_type": "markdown",
   "metadata": {},
   "source": [
    "### Product Related Duration"
   ]
  },
  {
   "cell_type": "code",
   "execution_count": null,
   "metadata": {
    "ExecuteTime": {
     "end_time": "2020-04-24T17:39:07.825043Z",
     "start_time": "2020-04-24T17:39:07.817308Z"
    },
    "nbdime-conflicts": {
     "local_diff": [
      {
       "diff": [
        {
         "diff": [
          {
           "key": 0,
           "op": "addrange",
           "valuelist": [
            "2020-04-29T11:01:35.514487Z"
           ]
          },
          {
           "key": 0,
           "length": 1,
           "op": "removerange"
          }
         ],
         "key": "end_time",
         "op": "patch"
        },
        {
         "diff": [
          {
           "key": 0,
           "op": "addrange",
           "valuelist": [
            "2020-04-29T11:01:35.509780Z"
           ]
          },
          {
           "key": 0,
           "length": 1,
           "op": "removerange"
          }
         ],
         "key": "start_time",
         "op": "patch"
        }
       ],
       "key": "ExecuteTime",
       "op": "patch"
      }
     ],
     "remote_diff": [
      {
       "key": "ExecuteTime",
       "op": "remove"
      }
     ]
    }
   },
   "outputs": [],
   "source": [
    "data.ProductRelated_Duration.unique()"
   ]
  },
  {
   "cell_type": "code",
   "execution_count": null,
   "metadata": {
    "ExecuteTime": {
     "end_time": "2020-04-24T17:39:07.924321Z",
     "start_time": "2020-04-24T17:39:07.827201Z"
    },
    "nbdime-conflicts": {
     "local_diff": [
      {
       "diff": [
        {
         "diff": [
          {
           "key": 0,
           "op": "addrange",
           "valuelist": [
            "2020-04-29T11:01:35.521631Z"
           ]
          },
          {
           "key": 0,
           "length": 1,
           "op": "removerange"
          }
         ],
         "key": "end_time",
         "op": "patch"
        },
        {
         "diff": [
          {
           "key": 0,
           "op": "addrange",
           "valuelist": [
            "2020-04-29T11:01:35.515969Z"
           ]
          },
          {
           "key": 0,
           "length": 1,
           "op": "removerange"
          }
         ],
         "key": "start_time",
         "op": "patch"
        }
       ],
       "key": "ExecuteTime",
       "op": "patch"
      }
     ],
     "remote_diff": [
      {
       "key": "ExecuteTime",
       "op": "remove"
      }
     ]
    }
   },
   "outputs": [],
   "source": [
    "data.ProductRelated_Duration.value_counts()"
   ]
  },
  {
   "cell_type": "code",
   "execution_count": null,
   "metadata": {
    "ExecuteTime": {
     "end_time": "2020-04-24T17:39:07.976943Z",
     "start_time": "2020-04-24T17:39:07.926398Z"
    },
    "nbdime-conflicts": {
     "local_diff": [
      {
       "diff": [
        {
         "diff": [
          {
           "key": 0,
           "op": "addrange",
           "valuelist": [
            "2020-04-29T11:01:35.556106Z"
           ]
          },
          {
           "key": 0,
           "length": 1,
           "op": "removerange"
          }
         ],
         "key": "end_time",
         "op": "patch"
        },
        {
         "diff": [
          {
           "key": 0,
           "op": "addrange",
           "valuelist": [
            "2020-04-29T11:01:35.523135Z"
           ]
          },
          {
           "key": 0,
           "length": 1,
           "op": "removerange"
          }
         ],
         "key": "start_time",
         "op": "patch"
        }
       ],
       "key": "ExecuteTime",
       "op": "patch"
      }
     ],
     "remote_diff": [
      {
       "key": "ExecuteTime",
       "op": "remove"
      }
     ]
    },
    "scrolled": true
   },
   "outputs": [],
   "source": [
    "# Checking negative values\n",
    "\n",
    "data_negative = data.loc[data.ProductRelated_Duration < 0]\n",
    "print(len(data_negative))\n",
    "data_negative"
   ]
  },
  {
   "cell_type": "markdown",
   "metadata": {},
   "source": [
    "- change negative values to Nan"
   ]
  },
  {
   "cell_type": "code",
   "execution_count": null,
   "metadata": {
    "ExecuteTime": {
     "end_time": "2020-04-24T17:39:07.989086Z",
     "start_time": "2020-04-24T17:39:07.980006Z"
    },
    "nbdime-conflicts": {
     "local_diff": [
      {
       "diff": [
        {
         "diff": [
          {
           "key": 0,
           "op": "addrange",
           "valuelist": [
            "2020-04-29T11:01:35.563249Z"
           ]
          },
          {
           "key": 0,
           "length": 1,
           "op": "removerange"
          }
         ],
         "key": "end_time",
         "op": "patch"
        },
        {
         "diff": [
          {
           "key": 0,
           "op": "addrange",
           "valuelist": [
            "2020-04-29T11:01:35.557702Z"
           ]
          },
          {
           "key": 0,
           "length": 1,
           "op": "removerange"
          }
         ],
         "key": "start_time",
         "op": "patch"
        }
       ],
       "key": "ExecuteTime",
       "op": "patch"
      }
     ],
     "remote_diff": [
      {
       "key": "ExecuteTime",
       "op": "remove"
      }
     ]
    }
   },
   "outputs": [],
   "source": [
    "# Percenatge of revenue per negative values:\n",
    "\n",
    "data_negative.Revenue.value_counts(normalize = True)*100"
   ]
  },
  {
   "cell_type": "markdown",
   "metadata": {},
   "source": [
    "**Changing to Nan:**"
   ]
  },
  {
   "cell_type": "code",
   "execution_count": null,
   "metadata": {
    "ExecuteTime": {
     "end_time": "2020-04-24T17:39:07.995667Z",
     "start_time": "2020-04-24T17:39:07.990969Z"
    },
    "nbdime-conflicts": {
     "local_diff": [
      {
       "diff": [
        {
         "diff": [
          {
           "key": 0,
           "op": "addrange",
           "valuelist": [
            "2020-04-29T11:01:35.568284Z"
           ]
          },
          {
           "key": 0,
           "length": 1,
           "op": "removerange"
          }
         ],
         "key": "end_time",
         "op": "patch"
        },
        {
         "diff": [
          {
           "key": 0,
           "op": "addrange",
           "valuelist": [
            "2020-04-29T11:01:35.564750Z"
           ]
          },
          {
           "key": 0,
           "length": 1,
           "op": "removerange"
          }
         ],
         "key": "start_time",
         "op": "patch"
        }
       ],
       "key": "ExecuteTime",
       "op": "patch"
      }
     ],
     "remote_diff": [
      {
       "key": "ExecuteTime",
       "op": "remove"
      }
     ]
    }
   },
   "outputs": [],
   "source": [
    "data.ProductRelated_Duration = data.ProductRelated_Duration.replace(-1.000000, np.nan)"
   ]
  },
  {
   "cell_type": "code",
   "execution_count": null,
   "metadata": {
    "ExecuteTime": {
     "end_time": "2020-04-24T17:39:08.100721Z",
     "start_time": "2020-04-24T17:39:07.997419Z"
    },
    "nbdime-conflicts": {
     "local_diff": [
      {
       "diff": [
        {
         "diff": [
          {
           "key": 0,
           "op": "addrange",
           "valuelist": [
            "2020-04-29T11:01:35.575680Z"
           ]
          },
          {
           "key": 0,
           "length": 1,
           "op": "removerange"
          }
         ],
         "key": "end_time",
         "op": "patch"
        },
        {
         "diff": [
          {
           "key": 0,
           "op": "addrange",
           "valuelist": [
            "2020-04-29T11:01:35.569732Z"
           ]
          },
          {
           "key": 0,
           "length": 1,
           "op": "removerange"
          }
         ],
         "key": "start_time",
         "op": "patch"
        }
       ],
       "key": "ExecuteTime",
       "op": "patch"
      }
     ],
     "remote_diff": [
      {
       "key": "ExecuteTime",
       "op": "remove"
      }
     ]
    }
   },
   "outputs": [],
   "source": [
    "data.ProductRelated_Duration.value_counts()"
   ]
  },
  {
   "cell_type": "markdown",
   "metadata": {},
   "source": [
    "### Bounce Rates"
   ]
  },
  {
   "cell_type": "code",
   "execution_count": null,
   "metadata": {
    "ExecuteTime": {
     "end_time": "2020-04-24T17:39:08.108407Z",
     "start_time": "2020-04-24T17:39:08.102742Z"
    },
    "nbdime-conflicts": {
     "local_diff": [
      {
       "diff": [
        {
         "diff": [
          {
           "key": 0,
           "op": "addrange",
           "valuelist": [
            "2020-04-29T11:01:35.581136Z"
           ]
          },
          {
           "key": 0,
           "length": 1,
           "op": "removerange"
          }
         ],
         "key": "end_time",
         "op": "patch"
        },
        {
         "diff": [
          {
           "key": 0,
           "op": "addrange",
           "valuelist": [
            "2020-04-29T11:01:35.577174Z"
           ]
          },
          {
           "key": 0,
           "length": 1,
           "op": "removerange"
          }
         ],
         "key": "start_time",
         "op": "patch"
        }
       ],
       "key": "ExecuteTime",
       "op": "patch"
      }
     ],
     "remote_diff": [
      {
       "key": "ExecuteTime",
       "op": "remove"
      }
     ]
    }
   },
   "outputs": [],
   "source": [
    "data.BounceRates.unique()"
   ]
  },
  {
   "cell_type": "code",
   "execution_count": null,
   "metadata": {
    "ExecuteTime": {
     "end_time": "2020-04-24T17:39:08.134416Z",
     "start_time": "2020-04-24T17:39:08.111183Z"
    },
    "nbdime-conflicts": {
     "local_diff": [
      {
       "diff": [
        {
         "diff": [
          {
           "key": 0,
           "op": "addrange",
           "valuelist": [
            "2020-04-29T11:01:35.587944Z"
           ]
          },
          {
           "key": 0,
           "length": 1,
           "op": "removerange"
          }
         ],
         "key": "end_time",
         "op": "patch"
        },
        {
         "diff": [
          {
           "key": 0,
           "op": "addrange",
           "valuelist": [
            "2020-04-29T11:01:35.582568Z"
           ]
          },
          {
           "key": 0,
           "length": 1,
           "op": "removerange"
          }
         ],
         "key": "start_time",
         "op": "patch"
        }
       ],
       "key": "ExecuteTime",
       "op": "patch"
      }
     ],
     "remote_diff": [
      {
       "key": "ExecuteTime",
       "op": "remove"
      }
     ]
    }
   },
   "outputs": [],
   "source": [
    "data.BounceRates.value_counts()"
   ]
  },
  {
   "cell_type": "markdown",
   "metadata": {},
   "source": [
    "### Exit Rates"
   ]
  },
  {
   "cell_type": "code",
   "execution_count": null,
   "metadata": {
    "ExecuteTime": {
     "end_time": "2020-04-24T17:39:08.141619Z",
     "start_time": "2020-04-24T17:39:08.136592Z"
    },
    "nbdime-conflicts": {
     "local_diff": [
      {
       "diff": [
        {
         "diff": [
          {
           "key": 0,
           "op": "addrange",
           "valuelist": [
            "2020-04-29T11:01:35.593619Z"
           ]
          },
          {
           "key": 0,
           "length": 1,
           "op": "removerange"
          }
         ],
         "key": "end_time",
         "op": "patch"
        },
        {
         "diff": [
          {
           "key": 0,
           "op": "addrange",
           "valuelist": [
            "2020-04-29T11:01:35.589358Z"
           ]
          },
          {
           "key": 0,
           "length": 1,
           "op": "removerange"
          }
         ],
         "key": "start_time",
         "op": "patch"
        }
       ],
       "key": "ExecuteTime",
       "op": "patch"
      }
     ],
     "remote_diff": [
      {
       "key": "ExecuteTime",
       "op": "remove"
      }
     ]
    }
   },
   "outputs": [],
   "source": [
    "data.ExitRates.unique()"
   ]
  },
  {
   "cell_type": "code",
   "execution_count": null,
   "metadata": {
    "ExecuteTime": {
     "end_time": "2020-04-24T17:39:08.194793Z",
     "start_time": "2020-04-24T17:39:08.144717Z"
    },
    "nbdime-conflicts": {
     "local_diff": [
      {
       "diff": [
        {
         "diff": [
          {
           "key": 0,
           "op": "addrange",
           "valuelist": [
            "2020-04-29T11:01:35.600547Z"
           ]
          },
          {
           "key": 0,
           "length": 1,
           "op": "removerange"
          }
         ],
         "key": "end_time",
         "op": "patch"
        },
        {
         "diff": [
          {
           "key": 0,
           "op": "addrange",
           "valuelist": [
            "2020-04-29T11:01:35.595033Z"
           ]
          },
          {
           "key": 0,
           "length": 1,
           "op": "removerange"
          }
         ],
         "key": "start_time",
         "op": "patch"
        }
       ],
       "key": "ExecuteTime",
       "op": "patch"
      }
     ],
     "remote_diff": [
      {
       "key": "ExecuteTime",
       "op": "remove"
      }
     ]
    }
   },
   "outputs": [],
   "source": [
    "data.ExitRates.value_counts()"
   ]
  },
  {
   "cell_type": "markdown",
   "metadata": {},
   "source": [
    "### Page Values"
   ]
  },
  {
   "cell_type": "code",
   "execution_count": null,
   "metadata": {
    "ExecuteTime": {
     "end_time": "2020-04-24T17:39:08.201461Z",
     "start_time": "2020-04-24T17:39:08.196441Z"
    },
    "nbdime-conflicts": {
     "local_diff": [
      {
       "diff": [
        {
         "diff": [
          {
           "key": 0,
           "op": "addrange",
           "valuelist": [
            "2020-04-29T11:01:35.606442Z"
           ]
          },
          {
           "key": 0,
           "length": 1,
           "op": "removerange"
          }
         ],
         "key": "end_time",
         "op": "patch"
        },
        {
         "diff": [
          {
           "key": 0,
           "op": "addrange",
           "valuelist": [
            "2020-04-29T11:01:35.602029Z"
           ]
          },
          {
           "key": 0,
           "length": 1,
           "op": "removerange"
          }
         ],
         "key": "start_time",
         "op": "patch"
        }
       ],
       "key": "ExecuteTime",
       "op": "patch"
      }
     ],
     "remote_diff": [
      {
       "key": "ExecuteTime",
       "op": "remove"
      }
     ]
    }
   },
   "outputs": [],
   "source": [
    "data.PageValues.unique()"
   ]
  },
  {
   "cell_type": "code",
   "execution_count": null,
   "metadata": {
    "ExecuteTime": {
     "end_time": "2020-04-24T17:39:08.231205Z",
     "start_time": "2020-04-24T17:39:08.203284Z"
    },
    "nbdime-conflicts": {
     "local_diff": [
      {
       "diff": [
        {
         "diff": [
          {
           "key": 0,
           "op": "addrange",
           "valuelist": [
            "2020-04-29T11:01:35.614931Z"
           ]
          },
          {
           "key": 0,
           "length": 1,
           "op": "removerange"
          }
         ],
         "key": "end_time",
         "op": "patch"
        },
        {
         "diff": [
          {
           "key": 0,
           "op": "addrange",
           "valuelist": [
            "2020-04-29T11:01:35.607798Z"
           ]
          },
          {
           "key": 0,
           "length": 1,
           "op": "removerange"
          }
         ],
         "key": "start_time",
         "op": "patch"
        }
       ],
       "key": "ExecuteTime",
       "op": "patch"
      }
     ],
     "remote_diff": [
      {
       "key": "ExecuteTime",
       "op": "remove"
      }
     ]
    }
   },
   "outputs": [],
   "source": [
    "data.PageValues.value_counts()"
   ]
  },
  {
   "cell_type": "code",
   "execution_count": null,
   "metadata": {
    "ExecuteTime": {
     "end_time": "2020-04-24T17:39:08.308168Z",
     "start_time": "2020-04-24T17:39:08.232877Z"
    },
    "nbdime-conflicts": {
     "local_diff": [
      {
       "diff": [
        {
         "diff": [
          {
           "key": 0,
           "op": "addrange",
           "valuelist": [
            "2020-04-29T11:01:35.648021Z"
           ]
          },
          {
           "key": 0,
           "length": 1,
           "op": "removerange"
          }
         ],
         "key": "end_time",
         "op": "patch"
        },
        {
         "diff": [
          {
           "key": 0,
           "op": "addrange",
           "valuelist": [
            "2020-04-29T11:01:35.616614Z"
           ]
          },
          {
           "key": 0,
           "length": 1,
           "op": "removerange"
          }
         ],
         "key": "start_time",
         "op": "patch"
        }
       ],
       "key": "ExecuteTime",
       "op": "patch"
      }
     ],
     "remote_diff": [
      {
       "key": "ExecuteTime",
       "op": "remove"
      }
     ]
    },
    "scrolled": true
   },
   "outputs": [],
   "source": [
    "# Checking #Nan values\n",
    "\n",
    "data_nan = data.loc[data.PageValues == '#Nan']\n",
    "print(len(data_nan))\n",
    "data_nan"
   ]
  },
  {
   "cell_type": "markdown",
   "metadata": {},
   "source": [
    "- #Nan change to Nan"
   ]
  },
  {
   "cell_type": "code",
   "execution_count": null,
   "metadata": {
    "ExecuteTime": {
     "end_time": "2020-04-24T17:39:08.318120Z",
     "start_time": "2020-04-24T17:39:08.310269Z"
    },
    "nbdime-conflicts": {
     "local_diff": [
      {
       "diff": [
        {
         "diff": [
          {
           "key": 0,
           "op": "addrange",
           "valuelist": [
            "2020-04-29T11:01:35.654985Z"
           ]
          },
          {
           "key": 0,
           "length": 1,
           "op": "removerange"
          }
         ],
         "key": "end_time",
         "op": "patch"
        },
        {
         "diff": [
          {
           "key": 0,
           "op": "addrange",
           "valuelist": [
            "2020-04-29T11:01:35.649428Z"
           ]
          },
          {
           "key": 0,
           "length": 1,
           "op": "removerange"
          }
         ],
         "key": "start_time",
         "op": "patch"
        }
       ],
       "key": "ExecuteTime",
       "op": "patch"
      }
     ],
     "remote_diff": [
      {
       "key": "ExecuteTime",
       "op": "remove"
      }
     ]
    }
   },
   "outputs": [],
   "source": [
    "# Percenatge of revenue per #Nan values:\n",
    "\n",
    "data_nan.Revenue.value_counts(normalize = True)*100"
   ]
  },
  {
   "cell_type": "markdown",
   "metadata": {},
   "source": [
    "**Changing to Nan:**"
   ]
  },
  {
   "cell_type": "code",
   "execution_count": null,
   "metadata": {
    "ExecuteTime": {
     "end_time": "2020-04-24T17:39:08.327322Z",
     "start_time": "2020-04-24T17:39:08.321778Z"
    },
    "nbdime-conflicts": {
     "local_diff": [
      {
       "diff": [
        {
         "diff": [
          {
           "key": 0,
           "op": "addrange",
           "valuelist": [
            "2020-04-29T11:01:35.660399Z"
           ]
          },
          {
           "key": 0,
           "length": 1,
           "op": "removerange"
          }
         ],
         "key": "end_time",
         "op": "patch"
        },
        {
         "diff": [
          {
           "key": 0,
           "op": "addrange",
           "valuelist": [
            "2020-04-29T11:01:35.656523Z"
           ]
          },
          {
           "key": 0,
           "length": 1,
           "op": "removerange"
          }
         ],
         "key": "start_time",
         "op": "patch"
        }
       ],
       "key": "ExecuteTime",
       "op": "patch"
      }
     ],
     "remote_diff": [
      {
       "key": "ExecuteTime",
       "op": "remove"
      }
     ]
    }
   },
   "outputs": [],
   "source": [
    "data.PageValues = data.PageValues.replace('#Nan', np.nan)"
   ]
  },
  {
   "cell_type": "code",
   "execution_count": null,
   "metadata": {
    "ExecuteTime": {
     "end_time": "2020-04-24T17:39:08.426556Z",
     "start_time": "2020-04-24T17:39:08.329042Z"
    },
    "nbdime-conflicts": {
     "local_diff": [
      {
       "diff": [
        {
         "diff": [
          {
           "key": 0,
           "op": "addrange",
           "valuelist": [
            "2020-04-29T11:01:35.667731Z"
           ]
          },
          {
           "key": 0,
           "length": 1,
           "op": "removerange"
          }
         ],
         "key": "end_time",
         "op": "patch"
        },
        {
         "diff": [
          {
           "key": 0,
           "op": "addrange",
           "valuelist": [
            "2020-04-29T11:01:35.661828Z"
           ]
          },
          {
           "key": 0,
           "length": 1,
           "op": "removerange"
          }
         ],
         "key": "start_time",
         "op": "patch"
        }
       ],
       "key": "ExecuteTime",
       "op": "patch"
      }
     ],
     "remote_diff": [
      {
       "key": "ExecuteTime",
       "op": "remove"
      }
     ]
    }
   },
   "outputs": [],
   "source": [
    "data.ProductRelated_Duration.value_counts()"
   ]
  },
  {
   "cell_type": "markdown",
   "metadata": {},
   "source": [
    "### Special Day"
   ]
  },
  {
   "cell_type": "code",
   "execution_count": null,
   "metadata": {
    "ExecuteTime": {
     "end_time": "2020-04-24T17:39:08.435076Z",
     "start_time": "2020-04-24T17:39:08.428580Z"
    },
    "nbdime-conflicts": {
     "local_diff": [
      {
       "diff": [
        {
         "diff": [
          {
           "key": 0,
           "op": "addrange",
           "valuelist": [
            "2020-04-29T11:01:35.673198Z"
           ]
          },
          {
           "key": 0,
           "length": 1,
           "op": "removerange"
          }
         ],
         "key": "end_time",
         "op": "patch"
        },
        {
         "diff": [
          {
           "key": 0,
           "op": "addrange",
           "valuelist": [
            "2020-04-29T11:01:35.669157Z"
           ]
          },
          {
           "key": 0,
           "length": 1,
           "op": "removerange"
          }
         ],
         "key": "start_time",
         "op": "patch"
        }
       ],
       "key": "ExecuteTime",
       "op": "patch"
      }
     ],
     "remote_diff": [
      {
       "key": "ExecuteTime",
       "op": "remove"
      }
     ]
    }
   },
   "outputs": [],
   "source": [
    "data.SpecialDay.unique()"
   ]
  },
  {
   "cell_type": "code",
   "execution_count": null,
   "metadata": {
    "ExecuteTime": {
     "end_time": "2020-04-24T17:39:08.446906Z",
     "start_time": "2020-04-24T17:39:08.437421Z"
    },
    "nbdime-conflicts": {
     "local_diff": [
      {
       "diff": [
        {
         "diff": [
          {
           "key": 0,
           "op": "addrange",
           "valuelist": [
            "2020-04-29T11:01:35.679644Z"
           ]
          },
          {
           "key": 0,
           "length": 1,
           "op": "removerange"
          }
         ],
         "key": "end_time",
         "op": "patch"
        },
        {
         "diff": [
          {
           "key": 0,
           "op": "addrange",
           "valuelist": [
            "2020-04-29T11:01:35.674698Z"
           ]
          },
          {
           "key": 0,
           "length": 1,
           "op": "removerange"
          }
         ],
         "key": "start_time",
         "op": "patch"
        }
       ],
       "key": "ExecuteTime",
       "op": "patch"
      }
     ],
     "remote_diff": [
      {
       "key": "ExecuteTime",
       "op": "remove"
      }
     ]
    }
   },
   "outputs": [],
   "source": [
    "data.SpecialDay.value_counts()"
   ]
  },
  {
   "cell_type": "markdown",
   "metadata": {},
   "source": [
    "### Month"
   ]
  },
  {
   "cell_type": "code",
   "execution_count": null,
   "metadata": {
    "ExecuteTime": {
     "end_time": "2020-04-24T17:39:08.458744Z",
     "start_time": "2020-04-24T17:39:08.452272Z"
    },
    "nbdime-conflicts": {
     "local_diff": [
      {
       "diff": [
        {
         "diff": [
          {
           "key": 0,
           "op": "addrange",
           "valuelist": [
            "2020-04-29T11:01:35.685337Z"
           ]
          },
          {
           "key": 0,
           "length": 1,
           "op": "removerange"
          }
         ],
         "key": "end_time",
         "op": "patch"
        },
        {
         "diff": [
          {
           "key": 0,
           "op": "addrange",
           "valuelist": [
            "2020-04-29T11:01:35.680995Z"
           ]
          },
          {
           "key": 0,
           "length": 1,
           "op": "removerange"
          }
         ],
         "key": "start_time",
         "op": "patch"
        }
       ],
       "key": "ExecuteTime",
       "op": "patch"
      }
     ],
     "remote_diff": [
      {
       "key": "ExecuteTime",
       "op": "remove"
      }
     ]
    }
   },
   "outputs": [],
   "source": [
    "data.Month.unique()"
   ]
  },
  {
   "cell_type": "code",
   "execution_count": null,
   "metadata": {
    "ExecuteTime": {
     "end_time": "2020-04-24T17:39:08.471754Z",
     "start_time": "2020-04-24T17:39:08.460764Z"
    },
    "nbdime-conflicts": {
     "local_diff": [
      {
       "diff": [
        {
         "diff": [
          {
           "key": 0,
           "op": "addrange",
           "valuelist": [
            "2020-04-29T11:01:35.692565Z"
           ]
          },
          {
           "key": 0,
           "length": 1,
           "op": "removerange"
          }
         ],
         "key": "end_time",
         "op": "patch"
        },
        {
         "diff": [
          {
           "key": 0,
           "op": "addrange",
           "valuelist": [
            "2020-04-29T11:01:35.686799Z"
           ]
          },
          {
           "key": 0,
           "length": 1,
           "op": "removerange"
          }
         ],
         "key": "start_time",
         "op": "patch"
        }
       ],
       "key": "ExecuteTime",
       "op": "patch"
      }
     ],
     "remote_diff": [
      {
       "key": "ExecuteTime",
       "op": "remove"
      }
     ]
    }
   },
   "outputs": [],
   "source": [
    "data.Month.value_counts()"
   ]
  },
  {
   "cell_type": "markdown",
   "metadata": {},
   "source": [
    "- change MAY to May and march to Mar"
   ]
  },
  {
   "cell_type": "code",
   "execution_count": null,
   "metadata": {
    "ExecuteTime": {
     "end_time": "2020-04-24T17:39:08.499713Z",
     "start_time": "2020-04-24T17:39:08.474518Z"
    },
    "nbdime-conflicts": {
     "local_diff": [
      {
       "diff": [
        {
         "diff": [
          {
           "key": 0,
           "op": "addrange",
           "valuelist": [
            "2020-04-29T11:01:35.710793Z"
           ]
          },
          {
           "key": 0,
           "length": 1,
           "op": "removerange"
          }
         ],
         "key": "end_time",
         "op": "patch"
        },
        {
         "diff": [
          {
           "key": 0,
           "op": "addrange",
           "valuelist": [
            "2020-04-29T11:01:35.694047Z"
           ]
          },
          {
           "key": 0,
           "length": 1,
           "op": "removerange"
          }
         ],
         "key": "start_time",
         "op": "patch"
        }
       ],
       "key": "ExecuteTime",
       "op": "patch"
      }
     ],
     "remote_diff": [
      {
       "key": "ExecuteTime",
       "op": "remove"
      }
     ]
    }
   },
   "outputs": [],
   "source": [
    "data.Month = data.Month.str.replace('MAY', 'May').str.replace('March', 'Mar')"
   ]
  },
  {
   "cell_type": "code",
   "execution_count": null,
   "metadata": {
    "ExecuteTime": {
     "end_time": "2020-04-24T17:39:08.509532Z",
     "start_time": "2020-04-24T17:39:08.501678Z"
    },
    "nbdime-conflicts": {
     "local_diff": [
      {
       "diff": [
        {
         "diff": [
          {
           "key": 0,
           "op": "addrange",
           "valuelist": [
            "2020-04-29T11:01:35.716472Z"
           ]
          },
          {
           "key": 0,
           "length": 1,
           "op": "removerange"
          }
         ],
         "key": "end_time",
         "op": "patch"
        },
        {
         "diff": [
          {
           "key": 0,
           "op": "addrange",
           "valuelist": [
            "2020-04-29T11:01:35.712146Z"
           ]
          },
          {
           "key": 0,
           "length": 1,
           "op": "removerange"
          }
         ],
         "key": "start_time",
         "op": "patch"
        }
       ],
       "key": "ExecuteTime",
       "op": "patch"
      }
     ],
     "remote_diff": [
      {
       "key": "ExecuteTime",
       "op": "remove"
      }
     ]
    }
   },
   "outputs": [],
   "source": [
    "data.Month.unique()"
   ]
  },
  {
   "cell_type": "markdown",
   "metadata": {},
   "source": [
    "### Operating Systems"
   ]
  },
  {
   "cell_type": "code",
   "execution_count": null,
   "metadata": {
    "ExecuteTime": {
     "end_time": "2020-04-24T17:39:08.518581Z",
     "start_time": "2020-04-24T17:39:08.512193Z"
    },
    "nbdime-conflicts": {
     "local_diff": [
      {
       "diff": [
        {
         "diff": [
          {
           "key": 0,
           "op": "addrange",
           "valuelist": [
            "2020-04-29T11:01:35.721929Z"
           ]
          },
          {
           "key": 0,
           "length": 1,
           "op": "removerange"
          }
         ],
         "key": "end_time",
         "op": "patch"
        },
        {
         "diff": [
          {
           "key": 0,
           "op": "addrange",
           "valuelist": [
            "2020-04-29T11:01:35.717751Z"
           ]
          },
          {
           "key": 0,
           "length": 1,
           "op": "removerange"
          }
         ],
         "key": "start_time",
         "op": "patch"
        }
       ],
       "key": "ExecuteTime",
       "op": "patch"
      }
     ],
     "remote_diff": [
      {
       "key": "ExecuteTime",
       "op": "remove"
      }
     ]
    }
   },
   "outputs": [],
   "source": [
    "data.OperatingSystems.unique()"
   ]
  },
  {
   "cell_type": "code",
   "execution_count": null,
   "metadata": {
    "ExecuteTime": {
     "end_time": "2020-04-24T17:39:08.530416Z",
     "start_time": "2020-04-24T17:39:08.521008Z"
    },
    "nbdime-conflicts": {
     "local_diff": [
      {
       "diff": [
        {
         "diff": [
          {
           "key": 0,
           "op": "addrange",
           "valuelist": [
            "2020-04-29T11:01:35.728907Z"
           ]
          },
          {
           "key": 0,
           "length": 1,
           "op": "removerange"
          }
         ],
         "key": "end_time",
         "op": "patch"
        },
        {
         "diff": [
          {
           "key": 0,
           "op": "addrange",
           "valuelist": [
            "2020-04-29T11:01:35.723294Z"
           ]
          },
          {
           "key": 0,
           "length": 1,
           "op": "removerange"
          }
         ],
         "key": "start_time",
         "op": "patch"
        }
       ],
       "key": "ExecuteTime",
       "op": "patch"
      }
     ],
     "remote_diff": [
      {
       "key": "ExecuteTime",
       "op": "remove"
      }
     ]
    }
   },
   "outputs": [],
   "source": [
    "data.OperatingSystems.value_counts()"
   ]
  },
  {
   "cell_type": "code",
   "execution_count": null,
   "metadata": {
    "ExecuteTime": {
     "end_time": "2020-04-24T17:39:08.612519Z",
     "start_time": "2020-04-24T17:39:08.532098Z"
    },
    "nbdime-conflicts": {
     "local_diff": [
      {
       "diff": [
        {
         "diff": [
          {
           "key": 0,
           "op": "addrange",
           "valuelist": [
            "2020-04-29T11:01:35.761960Z"
           ]
          },
          {
           "key": 0,
           "length": 1,
           "op": "removerange"
          }
         ],
         "key": "end_time",
         "op": "patch"
        },
        {
         "diff": [
          {
           "key": 0,
           "op": "addrange",
           "valuelist": [
            "2020-04-29T11:01:35.730268Z"
           ]
          },
          {
           "key": 0,
           "length": 1,
           "op": "removerange"
          }
         ],
         "key": "start_time",
         "op": "patch"
        }
       ],
       "key": "ExecuteTime",
       "op": "patch"
      }
     ],
     "remote_diff": [
      {
       "key": "ExecuteTime",
       "op": "remove"
      }
     ]
    },
    "scrolled": true
   },
   "outputs": [],
   "source": [
    "# Checking -999 values\n",
    "\n",
    "data999 = data.loc[data.OperatingSystems == '-999']\n",
    "print(len(data999))\n",
    "data999"
   ]
  },
  {
   "cell_type": "markdown",
   "metadata": {},
   "source": [
    "- change -999 to Nan, also Browser is Nan when Operating systems is -999"
   ]
  },
  {
   "cell_type": "code",
   "execution_count": null,
   "metadata": {
    "ExecuteTime": {
     "end_time": "2020-04-24T17:39:08.623212Z",
     "start_time": "2020-04-24T17:39:08.615252Z"
    },
    "nbdime-conflicts": {
     "local_diff": [
      {
       "diff": [
        {
         "diff": [
          {
           "key": 0,
           "op": "addrange",
           "valuelist": [
            "2020-04-29T11:01:35.768922Z"
           ]
          },
          {
           "key": 0,
           "length": 1,
           "op": "removerange"
          }
         ],
         "key": "end_time",
         "op": "patch"
        },
        {
         "diff": [
          {
           "key": 0,
           "op": "addrange",
           "valuelist": [
            "2020-04-29T11:01:35.763467Z"
           ]
          },
          {
           "key": 0,
           "length": 1,
           "op": "removerange"
          }
         ],
         "key": "start_time",
         "op": "patch"
        }
       ],
       "key": "ExecuteTime",
       "op": "patch"
      }
     ],
     "remote_diff": [
      {
       "key": "ExecuteTime",
       "op": "remove"
      }
     ]
    }
   },
   "outputs": [],
   "source": [
    "# Percenatge of revenue per -999 values:\n",
    "\n",
    "data999.Revenue.value_counts(normalize = True)*100"
   ]
  },
  {
   "cell_type": "code",
   "execution_count": null,
   "metadata": {
    "ExecuteTime": {
     "end_time": "2020-04-24T17:39:08.658474Z",
     "start_time": "2020-04-24T17:39:08.625073Z"
    },
    "nbdime-conflicts": {
     "local_diff": [
      {
       "diff": [
        {
         "diff": [
          {
           "key": 0,
           "op": "addrange",
           "valuelist": [
            "2020-04-29T11:01:35.796762Z"
           ]
          },
          {
           "key": 0,
           "length": 1,
           "op": "removerange"
          }
         ],
         "key": "end_time",
         "op": "patch"
        },
        {
         "diff": [
          {
           "key": 0,
           "op": "addrange",
           "valuelist": [
            "2020-04-29T11:01:35.770339Z"
           ]
          },
          {
           "key": 0,
           "length": 1,
           "op": "removerange"
          }
         ],
         "key": "start_time",
         "op": "patch"
        }
       ],
       "key": "ExecuteTime",
       "op": "patch"
      }
     ],
     "remote_diff": [
      {
       "key": "ExecuteTime",
       "op": "remove"
      }
     ]
    },
    "scrolled": true
   },
   "outputs": [],
   "source": [
    "# Checking ? values\n",
    "\n",
    "data_quest = data.loc[data.OperatingSystems == '?']\n",
    "print(len(data_quest))\n",
    "data_quest"
   ]
  },
  {
   "cell_type": "markdown",
   "metadata": {},
   "source": [
    "- change ? to Nan"
   ]
  },
  {
   "cell_type": "markdown",
   "metadata": {},
   "source": [
    "**Changing to Nan:**"
   ]
  },
  {
   "cell_type": "code",
   "execution_count": null,
   "metadata": {
    "ExecuteTime": {
     "end_time": "2020-04-24T17:39:08.664627Z",
     "start_time": "2020-04-24T17:39:08.660023Z"
    },
    "nbdime-conflicts": {
     "local_diff": [
      {
       "diff": [
        {
         "diff": [
          {
           "key": 0,
           "op": "addrange",
           "valuelist": [
            "2020-04-29T11:01:35.802670Z"
           ]
          },
          {
           "key": 0,
           "length": 1,
           "op": "removerange"
          }
         ],
         "key": "end_time",
         "op": "patch"
        },
        {
         "diff": [
          {
           "key": 0,
           "op": "addrange",
           "valuelist": [
            "2020-04-29T11:01:35.798354Z"
           ]
          },
          {
           "key": 0,
           "length": 1,
           "op": "removerange"
          }
         ],
         "key": "start_time",
         "op": "patch"
        }
       ],
       "key": "ExecuteTime",
       "op": "patch"
      }
     ],
     "remote_diff": [
      {
       "key": "ExecuteTime",
       "op": "remove"
      }
     ]
    }
   },
   "outputs": [],
   "source": [
    "data.OperatingSystems = data.OperatingSystems.replace(['-999', '?'], np.nan)"
   ]
  },
  {
   "cell_type": "code",
   "execution_count": null,
   "metadata": {
    "ExecuteTime": {
     "end_time": "2020-04-24T17:39:08.672346Z",
     "start_time": "2020-04-24T17:39:08.666327Z"
    },
    "nbdime-conflicts": {
     "local_diff": [
      {
       "diff": [
        {
         "diff": [
          {
           "key": 0,
           "op": "addrange",
           "valuelist": [
            "2020-04-29T11:01:35.808341Z"
           ]
          },
          {
           "key": 0,
           "length": 1,
           "op": "removerange"
          }
         ],
         "key": "end_time",
         "op": "patch"
        },
        {
         "diff": [
          {
           "key": 0,
           "op": "addrange",
           "valuelist": [
            "2020-04-29T11:01:35.804078Z"
           ]
          },
          {
           "key": 0,
           "length": 1,
           "op": "removerange"
          }
         ],
         "key": "start_time",
         "op": "patch"
        }
       ],
       "key": "ExecuteTime",
       "op": "patch"
      }
     ],
     "remote_diff": [
      {
       "key": "ExecuteTime",
       "op": "remove"
      }
     ]
    }
   },
   "outputs": [],
   "source": [
    "data.OperatingSystems.unique()"
   ]
  },
  {
   "cell_type": "markdown",
   "metadata": {},
   "source": [
    "### Browser"
   ]
  },
  {
   "cell_type": "code",
   "execution_count": null,
   "metadata": {
    "ExecuteTime": {
     "end_time": "2020-04-24T17:39:08.680307Z",
     "start_time": "2020-04-24T17:39:08.674199Z"
    },
    "nbdime-conflicts": {
     "local_diff": [
      {
       "diff": [
        {
         "diff": [
          {
           "key": 0,
           "op": "addrange",
           "valuelist": [
            "2020-04-29T11:01:35.813898Z"
           ]
          },
          {
           "key": 0,
           "length": 1,
           "op": "removerange"
          }
         ],
         "key": "end_time",
         "op": "patch"
        },
        {
         "diff": [
          {
           "key": 0,
           "op": "addrange",
           "valuelist": [
            "2020-04-29T11:01:35.809761Z"
           ]
          },
          {
           "key": 0,
           "length": 1,
           "op": "removerange"
          }
         ],
         "key": "start_time",
         "op": "patch"
        }
       ],
       "key": "ExecuteTime",
       "op": "patch"
      }
     ],
     "remote_diff": [
      {
       "key": "ExecuteTime",
       "op": "remove"
      }
     ]
    }
   },
   "outputs": [],
   "source": [
    "data.Browser.unique()"
   ]
  },
  {
   "cell_type": "code",
   "execution_count": null,
   "metadata": {
    "ExecuteTime": {
     "end_time": "2020-04-24T17:39:08.689379Z",
     "start_time": "2020-04-24T17:39:08.682721Z"
    },
    "nbdime-conflicts": {
     "local_diff": [
      {
       "diff": [
        {
         "diff": [
          {
           "key": 0,
           "op": "addrange",
           "valuelist": [
            "2020-04-29T11:01:35.820805Z"
           ]
          },
          {
           "key": 0,
           "length": 1,
           "op": "removerange"
          }
         ],
         "key": "end_time",
         "op": "patch"
        },
        {
         "diff": [
          {
           "key": 0,
           "op": "addrange",
           "valuelist": [
            "2020-04-29T11:01:35.815454Z"
           ]
          },
          {
           "key": 0,
           "length": 1,
           "op": "removerange"
          }
         ],
         "key": "start_time",
         "op": "patch"
        }
       ],
       "key": "ExecuteTime",
       "op": "patch"
      }
     ],
     "remote_diff": [
      {
       "key": "ExecuteTime",
       "op": "remove"
      }
     ]
    }
   },
   "outputs": [],
   "source": [
    "data.Browser.value_counts()"
   ]
  },
  {
   "cell_type": "code",
   "execution_count": null,
   "metadata": {
    "ExecuteTime": {
     "end_time": "2020-04-24T17:39:08.732811Z",
     "start_time": "2020-04-24T17:39:08.702035Z"
    },
    "nbdime-conflicts": {
     "local_diff": [
      {
       "diff": [
        {
         "diff": [
          {
           "key": 0,
           "op": "addrange",
           "valuelist": [
            "2020-04-29T11:01:35.847075Z"
           ]
          },
          {
           "key": 0,
           "length": 1,
           "op": "removerange"
          }
         ],
         "key": "end_time",
         "op": "patch"
        },
        {
         "diff": [
          {
           "key": 0,
           "op": "addrange",
           "valuelist": [
            "2020-04-29T11:01:35.822172Z"
           ]
          },
          {
           "key": 0,
           "length": 1,
           "op": "removerange"
          }
         ],
         "key": "start_time",
         "op": "patch"
        }
       ],
       "key": "ExecuteTime",
       "op": "patch"
      }
     ],
     "remote_diff": [
      {
       "key": "ExecuteTime",
       "op": "remove"
      }
     ]
    },
    "scrolled": true
   },
   "outputs": [],
   "source": [
    "# Checking negative values\n",
    "\n",
    "data_negative = data.loc[data.Browser < 0]\n",
    "print(len(data_negative))\n",
    "data_negative"
   ]
  },
  {
   "cell_type": "markdown",
   "metadata": {},
   "source": [
    "- change -1 to Nan or it's a separate category of a browser?"
   ]
  },
  {
   "cell_type": "code",
   "execution_count": null,
   "metadata": {
    "ExecuteTime": {
     "end_time": "2020-04-24T17:39:08.746583Z",
     "start_time": "2020-04-24T17:39:08.738859Z"
    },
    "nbdime-conflicts": {
     "local_diff": [
      {
       "diff": [
        {
         "diff": [
          {
           "key": 0,
           "op": "addrange",
           "valuelist": [
            "2020-04-29T11:01:35.862206Z"
           ]
          },
          {
           "key": 0,
           "length": 1,
           "op": "removerange"
          }
         ],
         "key": "end_time",
         "op": "patch"
        },
        {
         "diff": [
          {
           "key": 0,
           "op": "addrange",
           "valuelist": [
            "2020-04-29T11:01:35.856335Z"
           ]
          },
          {
           "key": 0,
           "length": 1,
           "op": "removerange"
          }
         ],
         "key": "start_time",
         "op": "patch"
        }
       ],
       "key": "ExecuteTime",
       "op": "patch"
      }
     ],
     "remote_diff": [
      {
       "key": "ExecuteTime",
       "op": "remove"
      }
     ]
    }
   },
   "outputs": [],
   "source": [
    "# Percenatge of revenue per negative values:\n",
    "\n",
    "data_negative.Revenue.value_counts(normalize = True)*100"
   ]
  },
  {
   "cell_type": "markdown",
   "metadata": {},
   "source": [
    "**Changing to Nan:**"
   ]
  },
  {
   "cell_type": "code",
   "execution_count": null,
   "metadata": {
    "ExecuteTime": {
     "end_time": "2020-04-24T17:39:08.753252Z",
     "start_time": "2020-04-24T17:39:08.748797Z"
    },
    "nbdime-conflicts": {
     "local_diff": [
      {
       "diff": [
        {
         "diff": [
          {
           "key": 0,
           "op": "addrange",
           "valuelist": [
            "2020-04-29T11:01:35.869876Z"
           ]
          },
          {
           "key": 0,
           "length": 1,
           "op": "removerange"
          }
         ],
         "key": "end_time",
         "op": "patch"
        },
        {
         "diff": [
          {
           "key": 0,
           "op": "addrange",
           "valuelist": [
            "2020-04-29T11:01:35.866477Z"
           ]
          },
          {
           "key": 0,
           "length": 1,
           "op": "removerange"
          }
         ],
         "key": "start_time",
         "op": "patch"
        }
       ],
       "key": "ExecuteTime",
       "op": "patch"
      }
     ],
     "remote_diff": [
      {
       "key": "ExecuteTime",
       "op": "remove"
      }
     ]
    }
   },
   "outputs": [],
   "source": [
    "data.Browser = data.Browser.replace(-1.0, np.nan)"
   ]
  },
  {
   "cell_type": "code",
   "execution_count": null,
   "metadata": {
    "ExecuteTime": {
     "end_time": "2020-04-24T17:39:08.760021Z",
     "start_time": "2020-04-24T17:39:08.755253Z"
    },
    "nbdime-conflicts": {
     "local_diff": [
      {
       "diff": [
        {
         "diff": [
          {
           "key": 0,
           "op": "addrange",
           "valuelist": [
            "2020-04-29T11:01:35.875661Z"
           ]
          },
          {
           "key": 0,
           "length": 1,
           "op": "removerange"
          }
         ],
         "key": "end_time",
         "op": "patch"
        },
        {
         "diff": [
          {
           "key": 0,
           "op": "addrange",
           "valuelist": [
            "2020-04-29T11:01:35.871438Z"
           ]
          },
          {
           "key": 0,
           "length": 1,
           "op": "removerange"
          }
         ],
         "key": "start_time",
         "op": "patch"
        }
       ],
       "key": "ExecuteTime",
       "op": "patch"
      }
     ],
     "remote_diff": [
      {
       "key": "ExecuteTime",
       "op": "remove"
      }
     ]
    }
   },
   "outputs": [],
   "source": [
    "data.Browser.unique()"
   ]
  },
  {
   "cell_type": "markdown",
   "metadata": {},
   "source": [
    "### Region"
   ]
  },
  {
   "cell_type": "code",
   "execution_count": null,
   "metadata": {
    "ExecuteTime": {
     "end_time": "2020-04-24T17:39:08.766693Z",
     "start_time": "2020-04-24T17:39:08.761505Z"
    },
    "nbdime-conflicts": {
     "local_diff": [
      {
       "diff": [
        {
         "diff": [
          {
           "key": 0,
           "op": "addrange",
           "valuelist": [
            "2020-04-29T11:01:35.881593Z"
           ]
          },
          {
           "key": 0,
           "length": 1,
           "op": "removerange"
          }
         ],
         "key": "end_time",
         "op": "patch"
        },
        {
         "diff": [
          {
           "key": 0,
           "op": "addrange",
           "valuelist": [
            "2020-04-29T11:01:35.877319Z"
           ]
          },
          {
           "key": 0,
           "length": 1,
           "op": "removerange"
          }
         ],
         "key": "start_time",
         "op": "patch"
        }
       ],
       "key": "ExecuteTime",
       "op": "patch"
      }
     ],
     "remote_diff": [
      {
       "key": "ExecuteTime",
       "op": "remove"
      }
     ]
    }
   },
   "outputs": [],
   "source": [
    "data.Region.unique()"
   ]
  },
  {
   "cell_type": "code",
   "execution_count": null,
   "metadata": {
    "ExecuteTime": {
     "end_time": "2020-04-24T17:39:08.777068Z",
     "start_time": "2020-04-24T17:39:08.768751Z"
    },
    "nbdime-conflicts": {
     "local_diff": [
      {
       "diff": [
        {
         "diff": [
          {
           "key": 0,
           "op": "addrange",
           "valuelist": [
            "2020-04-29T11:01:35.889255Z"
           ]
          },
          {
           "key": 0,
           "length": 1,
           "op": "removerange"
          }
         ],
         "key": "end_time",
         "op": "patch"
        },
        {
         "diff": [
          {
           "key": 0,
           "op": "addrange",
           "valuelist": [
            "2020-04-29T11:01:35.883148Z"
           ]
          },
          {
           "key": 0,
           "length": 1,
           "op": "removerange"
          }
         ],
         "key": "start_time",
         "op": "patch"
        }
       ],
       "key": "ExecuteTime",
       "op": "patch"
      }
     ],
     "remote_diff": [
      {
       "key": "ExecuteTime",
       "op": "remove"
      }
     ]
    }
   },
   "outputs": [],
   "source": [
    "data.Region.value_counts()"
   ]
  },
  {
   "cell_type": "code",
   "execution_count": null,
   "metadata": {
    "ExecuteTime": {
     "end_time": "2020-04-24T17:39:08.809179Z",
     "start_time": "2020-04-24T17:39:08.778589Z"
    },
    "nbdime-conflicts": {
     "local_diff": [
      {
       "diff": [
        {
         "diff": [
          {
           "key": 0,
           "op": "addrange",
           "valuelist": [
            "2020-04-29T11:01:35.917035Z"
           ]
          },
          {
           "key": 0,
           "length": 1,
           "op": "removerange"
          }
         ],
         "key": "end_time",
         "op": "patch"
        },
        {
         "diff": [
          {
           "key": 0,
           "op": "addrange",
           "valuelist": [
            "2020-04-29T11:01:35.890653Z"
           ]
          },
          {
           "key": 0,
           "length": 1,
           "op": "removerange"
          }
         ],
         "key": "start_time",
         "op": "patch"
        }
       ],
       "key": "ExecuteTime",
       "op": "patch"
      }
     ],
     "remote_diff": [
      {
       "key": "ExecuteTime",
       "op": "remove"
      }
     ]
    },
    "scrolled": true
   },
   "outputs": [],
   "source": [
    "# Checking Nan values\n",
    "\n",
    "data_nan = data.loc[data.Region == 'Nan']\n",
    "print(len(data_nan))\n",
    "data_nan"
   ]
  },
  {
   "cell_type": "markdown",
   "metadata": {},
   "source": [
    "- change Nan to np.nan"
   ]
  },
  {
   "cell_type": "code",
   "execution_count": null,
   "metadata": {
    "ExecuteTime": {
     "end_time": "2020-04-24T17:39:08.819045Z",
     "start_time": "2020-04-24T17:39:08.811272Z"
    },
    "nbdime-conflicts": {
     "local_diff": [
      {
       "diff": [
        {
         "diff": [
          {
           "key": 0,
           "op": "addrange",
           "valuelist": [
            "2020-04-29T11:01:35.924113Z"
           ]
          },
          {
           "key": 0,
           "length": 1,
           "op": "removerange"
          }
         ],
         "key": "end_time",
         "op": "patch"
        },
        {
         "diff": [
          {
           "key": 0,
           "op": "addrange",
           "valuelist": [
            "2020-04-29T11:01:35.918570Z"
           ]
          },
          {
           "key": 0,
           "length": 1,
           "op": "removerange"
          }
         ],
         "key": "start_time",
         "op": "patch"
        }
       ],
       "key": "ExecuteTime",
       "op": "patch"
      }
     ],
     "remote_diff": [
      {
       "key": "ExecuteTime",
       "op": "remove"
      }
     ]
    }
   },
   "outputs": [],
   "source": [
    "# Percenatge of revenue per Nan values:\n",
    "\n",
    "data_nan.Revenue.value_counts(normalize = True)*100"
   ]
  },
  {
   "cell_type": "markdown",
   "metadata": {},
   "source": [
    "**Changing to Nan:**"
   ]
  },
  {
   "cell_type": "code",
   "execution_count": null,
   "metadata": {
    "ExecuteTime": {
     "end_time": "2020-04-24T17:39:08.828044Z",
     "start_time": "2020-04-24T17:39:08.821879Z"
    },
    "nbdime-conflicts": {
     "local_diff": [
      {
       "diff": [
        {
         "diff": [
          {
           "key": 0,
           "op": "addrange",
           "valuelist": [
            "2020-04-29T11:01:35.929586Z"
           ]
          },
          {
           "key": 0,
           "length": 1,
           "op": "removerange"
          }
         ],
         "key": "end_time",
         "op": "patch"
        },
        {
         "diff": [
          {
           "key": 0,
           "op": "addrange",
           "valuelist": [
            "2020-04-29T11:01:35.925571Z"
           ]
          },
          {
           "key": 0,
           "length": 1,
           "op": "removerange"
          }
         ],
         "key": "start_time",
         "op": "patch"
        }
       ],
       "key": "ExecuteTime",
       "op": "patch"
      }
     ],
     "remote_diff": [
      {
       "key": "ExecuteTime",
       "op": "remove"
      }
     ]
    }
   },
   "outputs": [],
   "source": [
    "data.Region = data.Region.replace('Nan', np.nan)"
   ]
  },
  {
   "cell_type": "code",
   "execution_count": null,
   "metadata": {
    "ExecuteTime": {
     "end_time": "2020-04-24T17:39:08.836792Z",
     "start_time": "2020-04-24T17:39:08.830211Z"
    },
    "nbdime-conflicts": {
     "local_diff": [
      {
       "diff": [
        {
         "diff": [
          {
           "key": 0,
           "op": "addrange",
           "valuelist": [
            "2020-04-29T11:01:35.936858Z"
           ]
          },
          {
           "key": 0,
           "length": 1,
           "op": "removerange"
          }
         ],
         "key": "end_time",
         "op": "patch"
        },
        {
         "diff": [
          {
           "key": 0,
           "op": "addrange",
           "valuelist": [
            "2020-04-29T11:01:35.931062Z"
           ]
          },
          {
           "key": 0,
           "length": 1,
           "op": "removerange"
          }
         ],
         "key": "start_time",
         "op": "patch"
        }
       ],
       "key": "ExecuteTime",
       "op": "patch"
      }
     ],
     "remote_diff": [
      {
       "key": "ExecuteTime",
       "op": "remove"
      }
     ]
    }
   },
   "outputs": [],
   "source": [
    "data.Region.value_counts()"
   ]
  },
  {
   "cell_type": "markdown",
   "metadata": {},
   "source": [
    "### Traffic type"
   ]
  },
  {
   "cell_type": "code",
   "execution_count": null,
   "metadata": {
    "ExecuteTime": {
     "end_time": "2020-04-24T17:39:08.848581Z",
     "start_time": "2020-04-24T17:39:08.839424Z"
    },
    "nbdime-conflicts": {
     "local_diff": [
      {
       "diff": [
        {
         "diff": [
          {
           "key": 0,
           "op": "addrange",
           "valuelist": [
            "2020-04-29T11:01:35.942524Z"
           ]
          },
          {
           "key": 0,
           "length": 1,
           "op": "removerange"
          }
         ],
         "key": "end_time",
         "op": "patch"
        },
        {
         "diff": [
          {
           "key": 0,
           "op": "addrange",
           "valuelist": [
            "2020-04-29T11:01:35.938268Z"
           ]
          },
          {
           "key": 0,
           "length": 1,
           "op": "removerange"
          }
         ],
         "key": "start_time",
         "op": "patch"
        }
       ],
       "key": "ExecuteTime",
       "op": "patch"
      }
     ],
     "remote_diff": [
      {
       "key": "ExecuteTime",
       "op": "remove"
      }
     ]
    }
   },
   "outputs": [],
   "source": [
    "data.TrafficType.unique()"
   ]
  },
  {
   "cell_type": "code",
   "execution_count": null,
   "metadata": {
    "ExecuteTime": {
     "end_time": "2020-04-24T17:39:08.861198Z",
     "start_time": "2020-04-24T17:39:08.850389Z"
    },
    "nbdime-conflicts": {
     "local_diff": [
      {
       "diff": [
        {
         "diff": [
          {
           "key": 0,
           "op": "addrange",
           "valuelist": [
            "2020-04-29T11:01:35.949291Z"
           ]
          },
          {
           "key": 0,
           "length": 1,
           "op": "removerange"
          }
         ],
         "key": "end_time",
         "op": "patch"
        },
        {
         "diff": [
          {
           "key": 0,
           "op": "addrange",
           "valuelist": [
            "2020-04-29T11:01:35.943950Z"
           ]
          },
          {
           "key": 0,
           "length": 1,
           "op": "removerange"
          }
         ],
         "key": "start_time",
         "op": "patch"
        }
       ],
       "key": "ExecuteTime",
       "op": "patch"
      }
     ],
     "remote_diff": [
      {
       "key": "ExecuteTime",
       "op": "remove"
      }
     ]
    }
   },
   "outputs": [],
   "source": [
    "data.TrafficType.value_counts()"
   ]
  },
  {
   "cell_type": "markdown",
   "metadata": {},
   "source": [
    "### Visitor Type"
   ]
  },
  {
   "cell_type": "code",
   "execution_count": null,
   "metadata": {
    "ExecuteTime": {
     "end_time": "2020-04-24T17:39:08.868415Z",
     "start_time": "2020-04-24T17:39:08.862841Z"
    },
    "nbdime-conflicts": {
     "local_diff": [
      {
       "diff": [
        {
         "diff": [
          {
           "key": 0,
           "op": "addrange",
           "valuelist": [
            "2020-04-29T11:01:35.955096Z"
           ]
          },
          {
           "key": 0,
           "length": 1,
           "op": "removerange"
          }
         ],
         "key": "end_time",
         "op": "patch"
        },
        {
         "diff": [
          {
           "key": 0,
           "op": "addrange",
           "valuelist": [
            "2020-04-29T11:01:35.950717Z"
           ]
          },
          {
           "key": 0,
           "length": 1,
           "op": "removerange"
          }
         ],
         "key": "start_time",
         "op": "patch"
        }
       ],
       "key": "ExecuteTime",
       "op": "patch"
      }
     ],
     "remote_diff": [
      {
       "key": "ExecuteTime",
       "op": "remove"
      }
     ]
    }
   },
   "outputs": [],
   "source": [
    "data.VisitorType.unique()"
   ]
  },
  {
   "cell_type": "code",
   "execution_count": null,
   "metadata": {
    "ExecuteTime": {
     "end_time": "2020-04-24T17:39:08.880667Z",
     "start_time": "2020-04-24T17:39:08.871925Z"
    },
    "nbdime-conflicts": {
     "local_diff": [
      {
       "diff": [
        {
         "diff": [
          {
           "key": 0,
           "op": "addrange",
           "valuelist": [
            "2020-04-29T11:01:35.962408Z"
           ]
          },
          {
           "key": 0,
           "length": 1,
           "op": "removerange"
          }
         ],
         "key": "end_time",
         "op": "patch"
        },
        {
         "diff": [
          {
           "key": 0,
           "op": "addrange",
           "valuelist": [
            "2020-04-29T11:01:35.956580Z"
           ]
          },
          {
           "key": 0,
           "length": 1,
           "op": "removerange"
          }
         ],
         "key": "start_time",
         "op": "patch"
        }
       ],
       "key": "ExecuteTime",
       "op": "patch"
      }
     ],
     "remote_diff": [
      {
       "key": "ExecuteTime",
       "op": "remove"
      }
     ]
    }
   },
   "outputs": [],
   "source": [
    "data.VisitorType.value_counts()"
   ]
  },
  {
   "cell_type": "code",
   "execution_count": null,
   "metadata": {
    "ExecuteTime": {
     "end_time": "2020-04-24T17:39:09.018553Z",
     "start_time": "2020-04-24T17:39:08.882420Z"
    },
    "nbdime-conflicts": {
     "local_diff": [
      {
       "diff": [
        {
         "diff": [
          {
           "key": 0,
           "op": "addrange",
           "valuelist": [
            "2020-04-29T11:01:35.996944Z"
           ]
          },
          {
           "key": 0,
           "length": 1,
           "op": "removerange"
          }
         ],
         "key": "end_time",
         "op": "patch"
        },
        {
         "diff": [
          {
           "key": 0,
           "op": "addrange",
           "valuelist": [
            "2020-04-29T11:01:35.963836Z"
           ]
          },
          {
           "key": 0,
           "length": 1,
           "op": "removerange"
          }
         ],
         "key": "start_time",
         "op": "patch"
        }
       ],
       "key": "ExecuteTime",
       "op": "patch"
      }
     ],
     "remote_diff": [
      {
       "key": "ExecuteTime",
       "op": "remove"
      }
     ]
    },
    "scrolled": true
   },
   "outputs": [],
   "source": [
    "# Checking More and Other values\n",
    "\n",
    "data_other = data.loc[(data.VisitorType == 'More') | (data.VisitorType == 'Other')]\n",
    "print(len(data_other))\n",
    "data_other"
   ]
  },
  {
   "cell_type": "markdown",
   "metadata": {},
   "source": [
    "- unify more to other or change both to Nan?"
   ]
  },
  {
   "cell_type": "code",
   "execution_count": null,
   "metadata": {
    "ExecuteTime": {
     "end_time": "2020-04-24T17:39:09.029322Z",
     "start_time": "2020-04-24T17:39:09.021040Z"
    },
    "nbdime-conflicts": {
     "local_diff": [
      {
       "diff": [
        {
         "diff": [
          {
           "key": 0,
           "op": "addrange",
           "valuelist": [
            "2020-04-29T11:01:36.003836Z"
           ]
          },
          {
           "key": 0,
           "length": 1,
           "op": "removerange"
          }
         ],
         "key": "end_time",
         "op": "patch"
        },
        {
         "diff": [
          {
           "key": 0,
           "op": "addrange",
           "valuelist": [
            "2020-04-29T11:01:35.998357Z"
           ]
          },
          {
           "key": 0,
           "length": 1,
           "op": "removerange"
          }
         ],
         "key": "start_time",
         "op": "patch"
        }
       ],
       "key": "ExecuteTime",
       "op": "patch"
      }
     ],
     "remote_diff": [
      {
       "key": "ExecuteTime",
       "op": "remove"
      }
     ]
    }
   },
   "outputs": [],
   "source": [
    "# Percenatge of revenue per more/other values:\n",
    "\n",
    "data_other.Revenue.value_counts(normalize = True)*100"
   ]
  },
  {
   "cell_type": "code",
   "execution_count": null,
   "metadata": {
    "ExecuteTime": {
     "end_time": "2020-04-24T17:39:09.044796Z",
     "start_time": "2020-04-24T17:39:09.030893Z"
    },
    "nbdime-conflicts": {
     "local_diff": [
      {
       "diff": [
        {
         "diff": [
          {
           "key": 0,
           "op": "addrange",
           "valuelist": [
            "2020-04-29T11:01:36.016239Z"
           ]
          },
          {
           "key": 0,
           "length": 1,
           "op": "removerange"
          }
         ],
         "key": "end_time",
         "op": "patch"
        },
        {
         "diff": [
          {
           "key": 0,
           "op": "addrange",
           "valuelist": [
            "2020-04-29T11:01:36.005231Z"
           ]
          },
          {
           "key": 0,
           "length": 1,
           "op": "removerange"
          }
         ],
         "key": "start_time",
         "op": "patch"
        }
       ],
       "key": "ExecuteTime",
       "op": "patch"
      }
     ],
     "remote_diff": [
      {
       "key": "ExecuteTime",
       "op": "remove"
      }
     ]
    }
   },
   "outputs": [],
   "source": [
    "data.VisitorType = data.VisitorType.str.replace('More', 'Other').fillna('Other')"
   ]
  },
  {
   "cell_type": "markdown",
   "metadata": {},
   "source": [
    "**Changing to Nan:**"
   ]
  },
  {
   "cell_type": "code",
   "execution_count": null,
   "metadata": {
    "ExecuteTime": {
     "end_time": "2020-04-24T17:39:09.054168Z",
     "start_time": "2020-04-24T17:39:09.048413Z"
    },
    "nbdime-conflicts": {
     "local_diff": [
      {
       "diff": [
        {
         "diff": [
          {
           "key": 0,
           "op": "addrange",
           "valuelist": [
            "2020-04-29T11:01:36.021992Z"
           ]
          },
          {
           "key": 0,
           "length": 1,
           "op": "removerange"
          }
         ],
         "key": "end_time",
         "op": "patch"
        },
        {
         "diff": [
          {
           "key": 0,
           "op": "addrange",
           "valuelist": [
            "2020-04-29T11:01:36.017829Z"
           ]
          },
          {
           "key": 0,
           "length": 1,
           "op": "removerange"
          }
         ],
         "key": "start_time",
         "op": "patch"
        }
       ],
       "key": "ExecuteTime",
       "op": "patch"
      }
     ],
     "remote_diff": [
      {
       "key": "ExecuteTime",
       "op": "remove"
      }
     ]
    }
   },
   "outputs": [],
   "source": [
    "data.VisitorType = data.VisitorType.replace('Other', np.nan)"
   ]
  },
  {
   "cell_type": "code",
   "execution_count": null,
   "metadata": {
    "ExecuteTime": {
     "end_time": "2020-04-24T17:39:09.064217Z",
     "start_time": "2020-04-24T17:39:09.055743Z"
    },
    "nbdime-conflicts": {
     "local_diff": [
      {
       "diff": [
        {
         "diff": [
          {
           "key": 0,
           "op": "addrange",
           "valuelist": [
            "2020-04-29T11:01:36.029549Z"
           ]
          },
          {
           "key": 0,
           "length": 1,
           "op": "removerange"
          }
         ],
         "key": "end_time",
         "op": "patch"
        },
        {
         "diff": [
          {
           "key": 0,
           "op": "addrange",
           "valuelist": [
            "2020-04-29T11:01:36.023424Z"
           ]
          },
          {
           "key": 0,
           "length": 1,
           "op": "removerange"
          }
         ],
         "key": "start_time",
         "op": "patch"
        }
       ],
       "key": "ExecuteTime",
       "op": "patch"
      }
     ],
     "remote_diff": [
      {
       "key": "ExecuteTime",
       "op": "remove"
      }
     ]
    }
   },
   "outputs": [],
   "source": [
    "data.VisitorType.value_counts(normalize = True)*100"
   ]
  },
  {
   "cell_type": "markdown",
   "metadata": {},
   "source": [
    "### Weekend"
   ]
  },
  {
   "cell_type": "code",
   "execution_count": null,
   "metadata": {
    "ExecuteTime": {
     "end_time": "2020-04-24T17:39:09.071745Z",
     "start_time": "2020-04-24T17:39:09.066072Z"
    },
    "nbdime-conflicts": {
     "local_diff": [
      {
       "diff": [
        {
         "diff": [
          {
           "key": 0,
           "op": "addrange",
           "valuelist": [
            "2020-04-29T11:01:36.035251Z"
           ]
          },
          {
           "key": 0,
           "length": 1,
           "op": "removerange"
          }
         ],
         "key": "end_time",
         "op": "patch"
        },
        {
         "diff": [
          {
           "key": 0,
           "op": "addrange",
           "valuelist": [
            "2020-04-29T11:01:36.030973Z"
           ]
          },
          {
           "key": 0,
           "length": 1,
           "op": "removerange"
          }
         ],
         "key": "start_time",
         "op": "patch"
        }
       ],
       "key": "ExecuteTime",
       "op": "patch"
      }
     ],
     "remote_diff": [
      {
       "key": "ExecuteTime",
       "op": "remove"
      }
     ]
    }
   },
   "outputs": [],
   "source": [
    "data.Weekend.unique()"
   ]
  },
  {
   "cell_type": "code",
   "execution_count": null,
   "metadata": {
    "ExecuteTime": {
     "end_time": "2020-04-24T17:39:09.082252Z",
     "start_time": "2020-04-24T17:39:09.073477Z"
    },
    "nbdime-conflicts": {
     "local_diff": [
      {
       "diff": [
        {
         "diff": [
          {
           "key": 0,
           "op": "addrange",
           "valuelist": [
            "2020-04-29T11:01:36.042031Z"
           ]
          },
          {
           "key": 0,
           "length": 1,
           "op": "removerange"
          }
         ],
         "key": "end_time",
         "op": "patch"
        },
        {
         "diff": [
          {
           "key": 0,
           "op": "addrange",
           "valuelist": [
            "2020-04-29T11:01:36.036492Z"
           ]
          },
          {
           "key": 0,
           "length": 1,
           "op": "removerange"
          }
         ],
         "key": "start_time",
         "op": "patch"
        }
       ],
       "key": "ExecuteTime",
       "op": "patch"
      }
     ],
     "remote_diff": [
      {
       "key": "ExecuteTime",
       "op": "remove"
      }
     ]
    }
   },
   "outputs": [],
   "source": [
    "data.Weekend.value_counts()"
   ]
  },
  {
   "cell_type": "code",
   "execution_count": null,
   "metadata": {
    "ExecuteTime": {
     "end_time": "2020-04-24T17:39:09.160183Z",
     "start_time": "2020-04-24T17:39:09.084757Z"
    },
    "nbdime-conflicts": {
     "local_diff": [
      {
       "diff": [
        {
         "diff": [
          {
           "key": 0,
           "op": "addrange",
           "valuelist": [
            "2020-04-29T11:01:36.076054Z"
           ]
          },
          {
           "key": 0,
           "length": 1,
           "op": "removerange"
          }
         ],
         "key": "end_time",
         "op": "patch"
        },
        {
         "diff": [
          {
           "key": 0,
           "op": "addrange",
           "valuelist": [
            "2020-04-29T11:01:36.043428Z"
           ]
          },
          {
           "key": 0,
           "length": 1,
           "op": "removerange"
          }
         ],
         "key": "start_time",
         "op": "patch"
        }
       ],
       "key": "ExecuteTime",
       "op": "patch"
      }
     ],
     "remote_diff": [
      {
       "key": "ExecuteTime",
       "op": "remove"
      }
     ]
    },
    "scrolled": true
   },
   "outputs": [],
   "source": [
    "# Checking values other than 0 and 1 values\n",
    "\n",
    "data_week = data[data.Weekend.isin(['Monday', 'Sunday', 'Tuesday', 'Friday'])]\n",
    "print(len(data_week))\n",
    "data_week"
   ]
  },
  {
   "cell_type": "markdown",
   "metadata": {},
   "source": [
    "- change weekdays to 0 and 1"
   ]
  },
  {
   "cell_type": "code",
   "execution_count": null,
   "metadata": {
    "ExecuteTime": {
     "end_time": "2020-04-24T17:39:09.169190Z",
     "start_time": "2020-04-24T17:39:09.161810Z"
    },
    "nbdime-conflicts": {
     "local_diff": [
      {
       "diff": [
        {
         "diff": [
          {
           "key": 0,
           "op": "addrange",
           "valuelist": [
            "2020-04-29T11:01:36.083998Z"
           ]
          },
          {
           "key": 0,
           "length": 1,
           "op": "removerange"
          }
         ],
         "key": "end_time",
         "op": "patch"
        },
        {
         "diff": [
          {
           "key": 0,
           "op": "addrange",
           "valuelist": [
            "2020-04-29T11:01:36.077569Z"
           ]
          },
          {
           "key": 0,
           "length": 1,
           "op": "removerange"
          }
         ],
         "key": "start_time",
         "op": "patch"
        }
       ],
       "key": "ExecuteTime",
       "op": "patch"
      }
     ],
     "remote_diff": [
      {
       "key": "ExecuteTime",
       "op": "remove"
      }
     ]
    }
   },
   "outputs": [],
   "source": [
    "# Percenatge of revenue per weekdays values:\n",
    "\n",
    "data_week.Revenue.value_counts(normalize = True)*100"
   ]
  },
  {
   "cell_type": "code",
   "execution_count": null,
   "metadata": {
    "ExecuteTime": {
     "end_time": "2020-04-24T17:39:09.179437Z",
     "start_time": "2020-04-24T17:39:09.171507Z"
    },
    "nbdime-conflicts": {
     "local_diff": [
      {
       "diff": [
        {
         "diff": [
          {
           "key": 0,
           "op": "addrange",
           "valuelist": [
            "2020-04-29T11:01:36.092093Z"
           ]
          },
          {
           "key": 0,
           "length": 1,
           "op": "removerange"
          }
         ],
         "key": "end_time",
         "op": "patch"
        },
        {
         "diff": [
          {
           "key": 0,
           "op": "addrange",
           "valuelist": [
            "2020-04-29T11:01:36.085524Z"
           ]
          },
          {
           "key": 0,
           "length": 1,
           "op": "removerange"
          }
         ],
         "key": "start_time",
         "op": "patch"
        }
       ],
       "key": "ExecuteTime",
       "op": "patch"
      }
     ],
     "remote_diff": [
      {
       "key": "ExecuteTime",
       "op": "remove"
      }
     ]
    }
   },
   "outputs": [],
   "source": [
    "data.Weekend = data.Weekend.replace({'Tuesday' : '0.0', 'Monday': '0.0', 'Friday': '0.0', 'Sunday': '1.0'})"
   ]
  },
  {
   "cell_type": "code",
   "execution_count": null,
   "metadata": {
    "ExecuteTime": {
     "end_time": "2020-04-24T17:39:09.191669Z",
     "start_time": "2020-04-24T17:39:09.180993Z"
    },
    "nbdime-conflicts": {
     "local_diff": [
      {
       "diff": [
        {
         "diff": [
          {
           "key": 0,
           "op": "addrange",
           "valuelist": [
            "2020-04-29T11:01:36.100095Z"
           ]
          },
          {
           "key": 0,
           "length": 1,
           "op": "removerange"
          }
         ],
         "key": "end_time",
         "op": "patch"
        },
        {
         "diff": [
          {
           "key": 0,
           "op": "addrange",
           "valuelist": [
            "2020-04-29T11:01:36.093683Z"
           ]
          },
          {
           "key": 0,
           "length": 1,
           "op": "removerange"
          }
         ],
         "key": "start_time",
         "op": "patch"
        }
       ],
       "key": "ExecuteTime",
       "op": "patch"
      }
     ],
     "remote_diff": [
      {
       "key": "ExecuteTime",
       "op": "remove"
      }
     ]
    }
   },
   "outputs": [],
   "source": [
    "data.Weekend.value_counts()"
   ]
  },
  {
   "cell_type": "markdown",
   "metadata": {},
   "source": [
    "### Revenue"
   ]
  },
  {
   "cell_type": "code",
   "execution_count": null,
   "metadata": {
    "ExecuteTime": {
     "end_time": "2020-04-24T17:39:09.197882Z",
     "start_time": "2020-04-24T17:39:09.193381Z"
    },
    "nbdime-conflicts": {
     "local_diff": [
      {
       "diff": [
        {
         "diff": [
          {
           "key": 0,
           "op": "addrange",
           "valuelist": [
            "2020-04-29T11:01:36.105591Z"
           ]
          },
          {
           "key": 0,
           "length": 1,
           "op": "removerange"
          }
         ],
         "key": "end_time",
         "op": "patch"
        },
        {
         "diff": [
          {
           "key": 0,
           "op": "addrange",
           "valuelist": [
            "2020-04-29T11:01:36.101567Z"
           ]
          },
          {
           "key": 0,
           "length": 1,
           "op": "removerange"
          }
         ],
         "key": "start_time",
         "op": "patch"
        }
       ],
       "key": "ExecuteTime",
       "op": "patch"
      }
     ],
     "remote_diff": [
      {
       "key": "ExecuteTime",
       "op": "remove"
      }
     ]
    }
   },
   "outputs": [],
   "source": [
    "data.Revenue.unique()"
   ]
  },
  {
   "cell_type": "code",
   "execution_count": null,
   "metadata": {
    "ExecuteTime": {
     "end_time": "2020-04-24T17:39:09.205643Z",
     "start_time": "2020-04-24T17:39:09.199593Z"
    },
    "nbdime-conflicts": {
     "local_diff": [
      {
       "diff": [
        {
         "diff": [
          {
           "key": 0,
           "op": "addrange",
           "valuelist": [
            "2020-04-29T11:01:36.112318Z"
           ]
          },
          {
           "key": 0,
           "length": 1,
           "op": "removerange"
          }
         ],
         "key": "end_time",
         "op": "patch"
        },
        {
         "diff": [
          {
           "key": 0,
           "op": "addrange",
           "valuelist": [
            "2020-04-29T11:01:36.107031Z"
           ]
          },
          {
           "key": 0,
           "length": 1,
           "op": "removerange"
          }
         ],
         "key": "start_time",
         "op": "patch"
        }
       ],
       "key": "ExecuteTime",
       "op": "patch"
      }
     ],
     "remote_diff": [
      {
       "key": "ExecuteTime",
       "op": "remove"
      }
     ]
    }
   },
   "outputs": [],
   "source": [
    "data.Revenue.value_counts()"
   ]
  },
  {
   "cell_type": "code",
   "execution_count": null,
   "metadata": {
    "ExecuteTime": {
     "end_time": "2020-04-24T17:39:09.216064Z",
     "start_time": "2020-04-24T17:39:09.207373Z"
    },
    "nbdime-conflicts": {
     "local_diff": [
      {
       "diff": [
        {
         "diff": [
          {
           "key": 0,
           "op": "addrange",
           "valuelist": [
            "2020-04-29T11:01:36.119729Z"
           ]
          },
          {
           "key": 0,
           "length": 1,
           "op": "removerange"
          }
         ],
         "key": "end_time",
         "op": "patch"
        },
        {
         "diff": [
          {
           "key": 0,
           "op": "addrange",
           "valuelist": [
            "2020-04-29T11:01:36.113857Z"
           ]
          },
          {
           "key": 0,
           "length": 1,
           "op": "removerange"
          }
         ],
         "key": "start_time",
         "op": "patch"
        }
       ],
       "key": "ExecuteTime",
       "op": "patch"
      }
     ],
     "remote_diff": [
      {
       "key": "ExecuteTime",
       "op": "remove"
      }
     ]
    }
   },
   "outputs": [],
   "source": [
    "# Checking the % of value counts\n",
    "\n",
    "data.Revenue.value_counts(normalize = True)*100"
   ]
  },
  {
   "cell_type": "markdown",
   "metadata": {},
   "source": [
    "### Data Types"
   ]
  },
  {
   "cell_type": "code",
   "execution_count": null,
   "metadata": {},
   "outputs": [],
   "source": [
    "data.info()"
   ]
  },
  {
   "cell_type": "code",
   "execution_count": null,
   "metadata": {},
   "outputs": [],
   "source": [
    "# Converting to appropriate data types\n",
    "\n",
    "to_object = ['Month', 'OperatingSystems', 'Browser', 'Region', 'TrafficType', 'VisitorType', \n",
    "             'Weekend', 'Revenue']\n",
    "\n",
    "to_float = ['Administrative', 'Administrative_Duration', 'Informational', 'Informational_Duration', 'ProductRelated', \n",
    "            'ProductRelated_Duration', 'BounceRates', 'ExitRates', 'PageValues', 'SpecialDay', \n",
    "            'AnyPage']\n",
    "\n",
    "data[to_object] = data[to_object].astype('object')\n",
    "\n",
    "data[to_float] = data[to_float].apply(pd.to_numeric, errors='coerce')"
   ]
  },
  {
   "cell_type": "code",
   "execution_count": null,
   "metadata": {},
   "outputs": [],
   "source": [
    "data.info()"
   ]
  },
  {
   "cell_type": "code",
   "execution_count": null,
   "metadata": {},
   "outputs": [],
   "source": [
    "# clean data (no errors, correct data types, with NaNs)\n",
    "\n",
    "clean = data.copy()"
   ]
  },
  {
   "cell_type": "code",
   "execution_count": null,
   "metadata": {},
   "outputs": [],
   "source": [
    "clean.info()"
   ]
  },
  {
   "cell_type": "markdown",
   "metadata": {},
   "source": [
    "## Data visualization"
   ]
  },
  {
   "cell_type": "code",
   "execution_count": null,
   "metadata": {},
   "outputs": [],
   "source": [
    "cols = clean[to_object].columns"
   ]
  },
  {
   "cell_type": "code",
   "execution_count": null,
   "metadata": {},
   "outputs": [],
   "source": [
    "fig, axes = plt.subplots(nrows=4, ncols=2, figsize=(20,20))\n",
    "fig.subplots_adjust(hspace=0.5)\n",
    "for ax, col in zip(axes.flatten(), cols):\n",
    "    sns.countplot(data=clean, x=col, hue='Revenue', ax=ax)\n",
    "    \n",
    "# poner titulos\n",
    "# todo tiene la misma distribucion comparando a revenue (will learn how to equilibrar) en los modelos cargar con y sin\n",
    "# hay que stratificar\n",
    "# hay que buscar mas que 80\n",
    "# mnimizar parametros en confusion matrix, minimzar los falsos positivos\n",
    "\n",
    "# do feature engineering \n",
    "# hacer downsampling\n",
    "\n",
    "# model first with parametros por defecto\n",
    "# hypertuning, probar muchos modelos, diferentes parametros\n",
    "# elegir medida de error, buscar mas comunes para esta problema, check other kernels, projects\n",
    "# repartir tres modelos cada uno\n",
    "# can do loop to try different modelos"
   ]
  },
  {
   "cell_type": "code",
   "execution_count": null,
   "metadata": {},
   "outputs": [],
   "source": [
    "numeric_columns = list(clean.select_dtypes(include='float64').columns)"
   ]
  },
  {
   "cell_type": "code",
   "execution_count": null,
   "metadata": {},
   "outputs": [],
   "source": [
    "fig, axes = plt.subplots(nrows=4, ncols=2, figsize=(20,20))\n",
    "fig.subplots_adjust(hspace=0.5)\n",
    "for ax, col in zip(axes.flatten(), numeric_columns):\n",
    "    sns.boxplot(data=clean, x=col, hue='Revenue', ax=ax)\n",
    "    #sns.swarmplot(data=clean.Revenue, x=col, ax=ax) #put revenue con True\n",
    "    \n",
    "# How to have hue in outliers?"
   ]
  },
  {
   "cell_type": "markdown",
   "metadata": {},
   "source": [
    "## Data Transformation"
   ]
  },
  {
   "cell_type": "markdown",
   "metadata": {},
   "source": [
    "### Transforming columns"
   ]
  },
  {
   "cell_type": "code",
   "execution_count": 96,
   "metadata": {
    "ExecuteTime": {
     "end_time": "2020-04-24T17:39:09.220897Z",
     "start_time": "2020-04-24T17:39:09.217660Z"
    }
   },
   "outputs": [],
   "source": [
    "#to_category = ['Month', 'OperatingSystems', 'Browser', 'Region', 'TrafficType', 'VisitorType', 'Weekend', 'Revenue']\n",
    "\n",
    "#data[to_category] = data[to_category].astype('category')"
   ]
  },
  {
   "cell_type": "code",
   "execution_count": null,
   "metadata": {
    "ExecuteTime": {
     "end_time": "2020-04-24T17:39:09.234021Z",
     "start_time": "2020-04-24T17:39:09.222751Z"
    },
    "nbdime-conflicts": {
     "local_diff": [
      {
       "diff": [
        {
         "diff": [
          {
           "key": 0,
           "op": "addrange",
           "valuelist": [
            "2020-04-29T11:01:36.132960Z"
           ]
          },
          {
           "key": 0,
           "length": 1,
           "op": "removerange"
          }
         ],
         "key": "end_time",
         "op": "patch"
        },
        {
         "diff": [
          {
           "key": 0,
           "op": "addrange",
           "valuelist": [
            "2020-04-29T11:01:36.124936Z"
           ]
          },
          {
           "key": 0,
           "length": 1,
           "op": "removerange"
          }
         ],
         "key": "start_time",
         "op": "patch"
        }
       ],
       "key": "ExecuteTime",
       "op": "patch"
      }
     ],
     "remote_diff": [
      {
       "key": "ExecuteTime",
       "op": "remove"
      }
     ]
    }
   },
   "outputs": [],
   "source": [
    "# Adding a column from VisitorType transforming it's content into boolean: 1 is_returning, 0 is_new\n",
    "\n",
    "clean['Visitor_isReturning'] = clean['VisitorType'].replace('Returning_Visitor', 1).replace('New_Visitor', 0)"
   ]
  },
  {
   "cell_type": "code",
   "execution_count": null,
   "metadata": {},
   "outputs": [],
   "source": [
    "# operating system: 5-8 values don't give much information, there is no relation to Revenue True. \n",
    "# Change 5,6,7,8 to 'other'.\n"
   ]
  },
  {
   "cell_type": "code",
   "execution_count": null,
   "metadata": {},
   "outputs": [],
   "source": [
    "# browser: values 3, 7, 9, 11, 12, 13 change to 'other'\n",
    "\n"
   ]
  },
  {
   "cell_type": "code",
   "execution_count": null,
   "metadata": {},
   "outputs": [],
   "source": [
    "clean.head()"
   ]
  },
  {
   "cell_type": "code",
   "execution_count": 98,
   "metadata": {
    "ExecuteTime": {
     "end_time": "2020-04-24T17:39:09.305598Z",
     "start_time": "2020-04-24T17:39:09.235625Z"
    }
   },
   "outputs": [],
   "source": [
    "to_float = ['Administrative', 'Administrative_Duration', 'Informational',\n",
    "       'Informational_Duration', 'ProductRelated', 'ProductRelated_Duration',\n",
    "       'BounceRates', 'ExitRates', 'PageValues', 'SpecialDay',\n",
    "       'OperatingSystems', 'Browser', 'Region', 'TrafficType',\n",
    "       'Weekend', 'Revenue']\n",
    "\n",
    "data[to_float] = data[to_float].apply(pd.to_numeric, errors='coerce')"
   ]
  },
  {
   "cell_type": "code",
   "execution_count": 99,
   "metadata": {
    "ExecuteTime": {
     "end_time": "2020-04-24T17:39:09.319775Z",
     "start_time": "2020-04-24T17:39:09.308011Z"
    }
   },
   "outputs": [
    {
     "name": "stdout",
     "output_type": "stream",
     "text": [
      "<class 'pandas.core.frame.DataFrame'>\n",
      "Int64Index: 12330 entries, 0 to 12329\n",
      "Data columns (total 20 columns):\n",
      "Administrative             12196 non-null float64\n",
      "Administrative_Duration    12163 non-null float64\n",
      "Informational              12316 non-null float64\n",
      "Informational_Duration     12184 non-null float64\n",
      "ProductRelated             12196 non-null float64\n",
      "ProductRelated_Duration    12283 non-null float64\n",
      "BounceRates                12216 non-null float64\n",
      "ExitRates                  12316 non-null float64\n",
      "PageValues                 12210 non-null float64\n",
      "SpecialDay                 12330 non-null float64\n",
      "Month                      12330 non-null object\n",
      "OperatingSystems           12211 non-null float64\n",
      "Browser                    12210 non-null float64\n",
      "Region                     12210 non-null float64\n",
      "TrafficType                12210 non-null float64\n",
      "VisitorType                12126 non-null object\n",
      "Weekend                    12310 non-null float64\n",
      "Revenue                    12330 non-null bool\n",
      "AnyPage                    12176 non-null float64\n",
      "Visitor_isReturning        12126 non-null float64\n",
      "dtypes: bool(1), float64(17), object(2)\n",
      "memory usage: 1.9+ MB\n"
     ]
    }
   ],
   "source": [
    "data.info()"
   ]
  },
  {
   "cell_type": "markdown",
   "metadata": {},
   "source": [
    "### Data encoding"
   ]
  },
  {
   "cell_type": "code",
   "execution_count": null,
   "metadata": {},
   "outputs": [],
   "source": [
    "# Filling missing values with ffill\n",
    "\n",
    "clean_no_nan = clean.fillna(method='ffill').copy()"
   ]
  },
  {
   "cell_type": "code",
   "execution_count": null,
   "metadata": {},
   "outputs": [],
   "source": [
    "# LABEL ENCODING: revenue and weekend to 0 and 1\n",
    "\n",
    "# creating instance of labelencoder\n",
    "labelencoder = LabelEncoder()\n",
    "\n",
    "# Assigning numerical values and storing in another column\n",
    "\n",
    "cols_label_enc = ['Revenue', 'Weekend']\n",
    "\n",
    "for col in cols_label_enc:\n",
    "    clean_no_nan[col+'_enc'] = labelencoder.fit_transform(clean_no_nan[col])"
   ]
  },
  {
   "cell_type": "code",
   "execution_count": null,
   "metadata": {},
   "outputs": [],
   "source": [
    "clean_no_nan.head()"
   ]
  },
  {
   "cell_type": "code",
   "execution_count": null,
   "metadata": {},
   "outputs": [],
   "source": [
    "# ONE HOT ENCODING for Month, OperatingSystems and Region\n",
    "\n",
    "appended_dfs = []\n",
    "\n",
    "columns = ['Month', 'OperatingSystems', 'Region']\n",
    "\n",
    "for col in columns:\n",
    "    # Creating instance of one-hot-encoder\n",
    "    enc = OneHotEncoder(handle_unknown='ignore')\n",
    "    # Passing columns\n",
    "    enc_df = pd.DataFrame(enc.fit_transform(clean_no_nan[[col]]).toarray())\n",
    "    # Getting values for the names of the columns\n",
    "    enc_df.columns = enc.get_feature_names()+col\n",
    "    # Appenign all new dfs to one list\n",
    "    appended_dfs.append(enc_df)\n",
    "# mergeing with main df\n",
    "df_encoded = clean_no_nan.join(appended_dfs) \n",
    "df_encoded.head()"
   ]
  },
  {
   "cell_type": "code",
   "execution_count": null,
   "metadata": {},
   "outputs": [],
   "source": [
    "df_encoded.info()"
   ]
  },
  {
   "cell_type": "markdown",
   "metadata": {},
   "source": [
    "## Missing Values"
   ]
  },
  {
   "cell_type": "code",
   "execution_count": null,
   "metadata": {},
   "outputs": [],
   "source": [
    "# already used it above\n",
    "\n",
    "clean_no_nan = clean.fillna(method='ffill').copy()"
   ]
  },
  {
   "cell_type": "code",
   "execution_count": 134,
   "metadata": {
    "ExecuteTime": {
     "end_time": "2020-04-24T17:40:30.263636Z",
     "start_time": "2020-04-24T17:40:30.254223Z"
    }
   },
   "outputs": [],
   "source": [
    "clean = data.fillna(method='ffill')"
   ]
  },
  {
   "cell_type": "code",
   "execution_count": null,
   "metadata": {},
   "outputs": [],
   "source": []
  },
  {
   "cell_type": "markdown",
   "metadata": {},
   "source": [
    "## Correlation"
   ]
  },
  {
   "cell_type": "code",
   "execution_count": null,
   "metadata": {
    "ExecuteTime": {
     "end_time": "2020-04-24T17:41:23.331208Z",
     "start_time": "2020-04-24T17:41:22.073794Z"
    },
    "nbdime-conflicts": {
     "local_diff": [
      {
       "diff": [
        {
         "diff": [
          {
           "key": 0,
           "op": "addrange",
           "valuelist": [
            "2020-04-29T11:01:37.201916Z"
           ]
          },
          {
           "key": 0,
           "length": 1,
           "op": "removerange"
          }
         ],
         "key": "end_time",
         "op": "patch"
        },
        {
         "diff": [
          {
           "key": 0,
           "op": "addrange",
           "valuelist": [
            "2020-04-29T11:01:36.211266Z"
           ]
          },
          {
           "key": 0,
           "length": 1,
           "op": "removerange"
          }
         ],
         "key": "start_time",
         "op": "patch"
        }
       ],
       "key": "ExecuteTime",
       "op": "patch"
      }
     ],
     "remote_diff": [
      {
       "key": "ExecuteTime",
       "op": "remove"
      }
     ]
    }
   },
   "outputs": [],
   "source": [
    "sns.set(style=\"white\")\n",
    "\n",
    "# Generate a mask for the upper triangle\n",
    "mask = np.triu(np.ones_like(clean_no_nan.corr(), dtype=np.bool))\n",
    "\n",
    "# Set up the matplotlib figure\n",
    "f, ax = plt.subplots(figsize=(16, 12))\n",
    "\n",
    "# Generate a custom diverging colormap\n",
    "cmap = sns.diverging_palette(220, 10, as_cmap=True)\n",
    "\n",
    "# Draw the heatmap with the mask and correct aspect ratio\n",
    "sns.heatmap(clean_no_nan.corr(), mask=mask, cmap=cmap, vmax=.9, center=0,\n",
    "            square=True, linewidths=.5, annot = True, cbar_kws={\"shrink\": .5})\n",
    "\n",
    "plt.show()"
   ]
  },
  {
   "cell_type": "code",
   "execution_count": null,
   "metadata": {
    "ExecuteTime": {
     "end_time": "2020-04-24T17:53:11.960197Z",
     "start_time": "2020-04-24T17:53:11.940835Z"
    },
    "nbdime-conflicts": {
     "local_diff": [
      {
       "diff": [
        {
         "diff": [
          {
           "key": 0,
           "op": "addrange",
           "valuelist": [
            "2020-04-29T11:01:37.252372Z"
           ]
          },
          {
           "key": 0,
           "length": 1,
           "op": "removerange"
          }
         ],
         "key": "end_time",
         "op": "patch"
        },
        {
         "diff": [
          {
           "key": 0,
           "op": "addrange",
           "valuelist": [
            "2020-04-29T11:01:37.203386Z"
           ]
          },
          {
           "key": 0,
           "length": 1,
           "op": "removerange"
          }
         ],
         "key": "start_time",
         "op": "patch"
        }
       ],
       "key": "ExecuteTime",
       "op": "patch"
      }
     ],
     "remote_diff": [
      {
       "key": "ExecuteTime",
       "op": "remove"
      }
     ]
    }
   },
   "outputs": [],
   "source": [
    "# print(f\"After filling the NaN values, we can observe that our correlations vary in a {round(clean.corr()['Revenue'].sort_values(ascending=False) - clean_no_nan.corr()['Revenue'].sort_values(ascending=False), 3).sum() * 100}%\")"
   ]
  },
  {
   "cell_type": "code",
   "execution_count": null,
   "metadata": {
    "ExecuteTime": {
     "end_time": "2020-04-24T17:46:14.315240Z",
     "start_time": "2020-04-24T17:46:14.278829Z"
    },
    "nbdime-conflicts": {
     "local_diff": [
      {
       "diff": [
        {
         "diff": [
          {
           "key": 0,
           "op": "addrange",
           "valuelist": [
            "2020-04-29T11:01:37.280518Z"
           ]
          },
          {
           "key": 0,
           "length": 1,
           "op": "removerange"
          }
         ],
         "key": "end_time",
         "op": "patch"
        },
        {
         "diff": [
          {
           "key": 0,
           "op": "addrange",
           "valuelist": [
            "2020-04-29T11:01:37.253879Z"
           ]
          },
          {
           "key": 0,
           "length": 1,
           "op": "removerange"
          }
         ],
         "key": "start_time",
         "op": "patch"
        }
       ],
       "key": "ExecuteTime",
       "op": "patch"
      }
     ],
     "remote_diff": [
      {
       "key": "ExecuteTime",
       "op": "remove"
      }
     ]
    }
   },
   "outputs": [],
   "source": [
    "clean.corr()['Revenue'].sort_values(ascending=False)"
   ]
  },
  {
   "cell_type": "code",
   "execution_count": null,
   "metadata": {
    "ExecuteTime": {
     "end_time": "2020-04-29T11:01:37.289152Z",
     "start_time": "2020-04-29T11:01:37.282035Z"
    }
   },
   "outputs": [],
   "source": [
    "data.info()"
   ]
  },
  {
   "cell_type": "code",
   "execution_count": null,
   "metadata": {
    "ExecuteTime": {
     "end_time": "2020-04-29T11:01:37.309103Z",
     "start_time": "2020-04-29T11:01:37.290718Z"
    }
   },
   "outputs": [],
   "source": [
    "to_object = ['Month', 'OperatingSystems', 'Browser', 'Region', 'TrafficType', 'VisitorType', 'Weekend', 'Revenue']\n",
    "\n",
    "clean[to_object] = clean[to_object].astype('object')"
   ]
  },
  {
   "cell_type": "code",
   "execution_count": null,
   "metadata": {
    "ExecuteTime": {
     "end_time": "2020-04-29T11:01:37.318985Z",
     "start_time": "2020-04-29T11:01:37.310697Z"
    }
   },
   "outputs": [],
   "source": [
    "cols = clean[to_object].columns"
   ]
  },
  {
   "cell_type": "code",
   "execution_count": null,
   "metadata": {
    "ExecuteTime": {
     "end_time": "2020-04-29T11:01:39.225847Z",
     "start_time": "2020-04-29T11:01:37.320363Z"
    }
   },
   "outputs": [],
   "source": [
    "fig, axes = plt.subplots(nrows=4, ncols=2, figsize=(20,20))\n",
    "fig.subplots_adjust(hspace=0.5)\n",
    "for ax, col in zip(axes.flatten(), cols):\n",
    "    sns.countplot(data=clean, x=col, hue='Revenue', ax=ax)"
   ]
  },
  {
   "cell_type": "code",
   "execution_count": null,
   "metadata": {
    "ExecuteTime": {
     "end_time": "2020-04-29T11:01:39.234195Z",
     "start_time": "2020-04-29T11:01:39.227445Z"
    }
   },
   "outputs": [],
   "source": [
    "numeric_columns = list(clean.select_dtypes(include='float64').columns)"
   ]
  },
  {
   "cell_type": "code",
   "execution_count": null,
   "metadata": {
    "ExecuteTime": {
     "end_time": "2020-04-29T11:01:41.178592Z",
     "start_time": "2020-04-29T11:01:39.235729Z"
    }
   },
   "outputs": [],
   "source": [
    "fig, axes = plt.subplots(nrows=4, ncols=2, figsize=(20,20))\n",
    "fig.subplots_adjust(hspace=0.5)\n",
    "for ax, col in zip(axes.flatten(), numeric_columns):\n",
    "    sns.boxplot(data=clean, x=col, hue='Revenue', ax=ax)\n",
    "    \n",
    "# How to have hue in outliers?"
   ]
  },
  {
   "cell_type": "code",
   "execution_count": 153,
   "metadata": {
    "ExecuteTime": {
     "end_time": "2020-04-24T18:02:39.637305Z",
     "start_time": "2020-04-24T18:02:39.431178Z"
    }
   },
   "outputs": [
    {
     "data": {
      "text/plain": [
       "<matplotlib.axes._subplots.AxesSubplot at 0x1a28646d90>"
      ]
     },
     "execution_count": 153,
     "metadata": {},
     "output_type": "execute_result"
    },
    {
     "data": {
      "image/png": "[encoded data removed]",
      "text/plain": [
       "<Figure size 576x396 with 1 Axes>"
      ]
     },
     "metadata": {},
     "output_type": "display_data"
    }
   ],
   "source": [
    "pd.crosstab(data['Visitor_isReturning'],data['Revenue']).plot(kind='bar',stacked=True)\n"
   ]
  },
  {
   "cell_type": "code",
   "execution_count": null,
   "metadata": {},
   "outputs": [],
   "source": [
    "data['VisitorType']"
   ]
  },
  {
   "cell_type": "code",
   "execution_count": null,
   "metadata": {
    "ExecuteTime": {
     "end_time": "2020-04-29T11:01:42.164557Z",
     "start_time": "2020-04-29T11:01:41.352304Z"
    }
   },
   "outputs": [],
   "source": [
    "<<<<<<< REMOTE CELL DELETED >>>>>>>\n",
    "plt.figure(figsize=(5,5))\n",
    "sns.scatterplot(data= data, x='Revenue', y='PageValues', hue='Revenue', cmap='coolwarm')\n",
    "\n",
    "plt.show()"
   ]
  },
  {
   "cell_type": "code",
   "execution_count": null,
   "metadata": {
    "ExecuteTime": {
     "end_time": "2020-04-29T11:01:42.179740Z",
     "start_time": "2020-04-29T11:01:42.166120Z"
    }
   },
   "outputs": [],
   "source": [
    "to_object = ['Month', 'OperatingSystems', 'Browser', 'Region', 'TrafficType', 'VisitorType', 'Weekend', 'Revenue']\n",
    "clean[to_object] = clean[to_object].astype('object')"
   ]
  },
  {
   "cell_type": "code",
   "execution_count": null,
   "metadata": {
    "ExecuteTime": {
     "end_time": "2020-04-29T11:01:42.185271Z",
     "start_time": "2020-04-29T11:01:42.181253Z"
    }
   },
   "outputs": [],
   "source": [
    "cols = clean[to_object].columns"
   ]
  },
  {
   "cell_type": "code",
   "execution_count": null,
   "metadata": {
    "ExecuteTime": {
     "end_time": "2020-04-29T11:01:44.046417Z",
     "start_time": "2020-04-29T11:01:42.186704Z"
    }
   },
   "outputs": [],
   "source": [
    "\n",
    "fig, axes = plt.subplots(nrows=2, ncols=4, figsize=(15, 12))\n",
    "fig.subplots_adjust(hspace=0.2)\n",
    "\n",
    "for ax, col in zip(axes.flatten(), cols):\n",
    "    sns.countplot(data=clean, x=col, hue='Revenue', ax=ax)\n",
    "    "
   ]
  },
  {
   "cell_type": "markdown",
   "metadata": {},
   "source": [
    "### Correlation insights:"
   ]
  },
  {
   "cell_type": "markdown",
   "metadata": {},
   "source": [
    "Make new column synthetizing the values of the non-correlated columns"
   ]
  },
  {
   "cell_type": "markdown",
   "metadata": {},
   "source": [
    "# Individual work to organize"
   ]
  },
  {
   "cell_type": "markdown",
   "metadata": {},
   "source": [
    "### Administrative_duration"
   ]
  },
  {
   "cell_type": "markdown",
   "metadata": {},
   "source": [
    "- Data type: Categorical, ´object´. Necessary change to float.\n",
    "- There are some values with multiple dots. Necessary to delete these dots.\n",
    "- Missing Values: There are 14 missing values, which is 0.11% out of all data. Will fill this cells with median\n",
    "- 47.5% of sessions are coming from the category 0.0 of the Administrative_Duration"
   ]
  },
  {
   "cell_type": "code",
   "execution_count": null,
   "metadata": {
    "ExecuteTime": {
     "end_time": "2020-04-24T17:39:14.005162Z",
     "start_time": "2020-04-24T17:39:13.999823Z"
    },
    "nbdime-conflicts": {
     "local_diff": [
      {
       "diff": [
        {
         "diff": [
          {
           "diff": [
            {
             "key": 9,
             "op": "addrange",
             "valuelist": "9"
            },
            {
             "key": 9,
             "length": 1,
             "op": "removerange"
            },
            {
             "key": 12,
             "op": "addrange",
             "valuelist": "1"
            },
            {
             "key": 12,
             "length": 1,
             "op": "removerange"
            },
            {
             "key": 14,
             "op": "addrange",
             "valuelist": "01"
            },
            {
             "key": 14,
             "length": 2,
             "op": "removerange"
            },
            {
             "key": 17,
             "op": "addrange",
             "valuelist": "4"
            },
            {
             "key": 17,
             "length": 1,
             "op": "removerange"
            },
            {
             "key": 21,
             "length": 1,
             "op": "removerange"
            },
            {
             "key": 24,
             "op": "addrange",
             "valuelist": "8"
            },
            {
             "key": 24,
             "length": 1,
             "op": "removerange"
            },
            {
             "key": 26,
             "op": "addrange",
             "valuelist": "8"
            }
           ],
           "key": 0,
           "op": "patch"
          }
         ],
         "key": "end_time",
         "op": "patch"
        },
        {
         "diff": [
          {
           "key": 0,
           "op": "addrange",
           "valuelist": [
            "2020-04-29T11:01:44.047941Z"
           ]
          },
          {
           "key": 0,
           "length": 1,
           "op": "removerange"
          }
         ],
         "key": "start_time",
         "op": "patch"
        }
       ],
       "key": "ExecuteTime",
       "op": "patch"
      }
     ],
     "remote_diff": [
      {
       "key": "ExecuteTime",
       "op": "remove"
      }
     ]
    }
   },
   "outputs": [],
   "source": [
    "# Missing values\n",
    "\n",
    "NA_values(data.Administrative_Duration)"
   ]
  },
  {
   "cell_type": "code",
   "execution_count": null,
   "metadata": {
    "ExecuteTime": {
     "end_time": "2020-04-24T17:39:14.010552Z",
     "start_time": "2020-04-24T17:39:14.007721Z"
    },
    "nbdime-conflicts": {
     "local_diff": [
      {
       "diff": [
        {
         "diff": [
          {
           "diff": [
            {
             "key": 9,
             "op": "addrange",
             "valuelist": "9"
            },
            {
             "key": 9,
             "length": 1,
             "op": "removerange"
            },
            {
             "key": 12,
             "op": "addrange",
             "valuelist": "1"
            },
            {
             "key": 12,
             "length": 1,
             "op": "removerange"
            },
            {
             "key": 14,
             "op": "addrange",
             "valuelist": "01"
            },
            {
             "key": 14,
             "length": 2,
             "op": "removerange"
            },
            {
             "key": 17,
             "op": "addrange",
             "valuelist": "4"
            },
            {
             "key": 17,
             "length": 1,
             "op": "removerange"
            },
            {
             "key": 21,
             "length": 2,
             "op": "removerange"
            },
            {
             "key": 25,
             "op": "addrange",
             "valuelist": "591"
            },
            {
             "key": 25,
             "length": 1,
             "op": "removerange"
            }
           ],
           "key": 0,
           "op": "patch"
          }
         ],
         "key": "end_time",
         "op": "patch"
        },
        {
         "diff": [
          {
           "key": 0,
           "op": "addrange",
           "valuelist": [
            "2020-04-29T11:01:44.053588Z"
           ]
          },
          {
           "key": 0,
           "length": 1,
           "op": "removerange"
          }
         ],
         "key": "start_time",
         "op": "patch"
        }
       ],
       "key": "ExecuteTime",
       "op": "patch"
      }
     ],
     "remote_diff": [
      {
       "key": "ExecuteTime",
       "op": "remove"
      }
     ]
    }
   },
   "outputs": [],
   "source": [
    "# Fixing problems\n",
    "# Drop dots from cells\n"
   ]
  },
  {
   "cell_type": "code",
   "execution_count": null,
   "metadata": {
    "ExecuteTime": {
     "end_time": "2020-04-24T17:39:14.360305Z",
     "start_time": "2020-04-24T17:39:14.012580Z"
    },
    "nbdime-conflicts": {
     "local_diff": [
      {
       "diff": [
        {
         "diff": [
          {
           "key": 0,
           "op": "addrange",
           "valuelist": [
            "2020-04-29T11:01:44.315423Z"
           ]
          },
          {
           "key": 0,
           "length": 1,
           "op": "removerange"
          }
         ],
         "key": "end_time",
         "op": "patch"
        },
        {
         "diff": [
          {
           "diff": [
            {
             "key": 9,
             "op": "addrange",
             "valuelist": "9"
            },
            {
             "key": 9,
             "length": 1,
             "op": "removerange"
            },
            {
             "key": 12,
             "op": "addrange",
             "valuelist": "1"
            },
            {
             "key": 12,
             "length": 1,
             "op": "removerange"
            },
            {
             "key": 14,
             "op": "addrange",
             "valuelist": "01"
            },
            {
             "key": 14,
             "length": 2,
             "op": "removerange"
            },
            {
             "key": 17,
             "op": "addrange",
             "valuelist": "4"
            },
            {
             "key": 17,
             "length": 1,
             "op": "removerange"
            },
            {
             "key": 21,
             "op": "addrange",
             "valuelist": "57"
            },
            {
             "key": 22,
             "op": "addrange",
             "valuelist": "4"
            },
            {
             "key": 22,
             "length": 3,
             "op": "removerange"
            }
           ],
           "key": 0,
           "op": "patch"
          }
         ],
         "key": "start_time",
         "op": "patch"
        }
       ],
       "key": "ExecuteTime",
       "op": "patch"
      }
     ],
     "remote_diff": [
      {
       "key": "ExecuteTime",
       "op": "remove"
      }
     ]
    }
   },
   "outputs": [],
   "source": [
    "# Distribution\n",
    "\n",
    "print(data.Administrative_Duration.value_counts())\n",
    "\n",
    "plt.style.use('seaborn')\n",
    "fig, ax = plt.subplots(1, figsize=(8,6))\n",
    "ax1 = data.Informational.hist()\n",
    "plt.title(\"Administrative Duration - distribution\")\n",
    "plt.show()\n"
   ]
  },
  {
   "cell_type": "code",
   "execution_count": null,
   "metadata": {
    "ExecuteTime": {
     "end_time": "2020-04-24T17:39:14.367292Z",
     "start_time": "2020-04-24T17:39:14.361959Z"
    },
    "nbdime-conflicts": {
     "local_diff": [
      {
       "diff": [
        {
         "diff": [
          {
           "diff": [
            {
             "key": 9,
             "op": "addrange",
             "valuelist": "9"
            },
            {
             "key": 9,
             "length": 1,
             "op": "removerange"
            },
            {
             "key": 12,
             "op": "addrange",
             "valuelist": "1"
            },
            {
             "key": 12,
             "length": 1,
             "op": "removerange"
            },
            {
             "key": 14,
             "op": "addrange",
             "valuelist": "01"
            },
            {
             "key": 14,
             "length": 2,
             "op": "removerange"
            },
            {
             "key": 17,
             "op": "addrange",
             "valuelist": "4"
            },
            {
             "key": 17,
             "length": 1,
             "op": "removerange"
            },
            {
             "key": 21,
             "length": 2,
             "op": "removerange"
            },
            {
             "key": 24,
             "op": "addrange",
             "valuelist": "228"
            },
            {
             "key": 24,
             "length": 1,
             "op": "removerange"
            }
           ],
           "key": 0,
           "op": "patch"
          }
         ],
         "key": "end_time",
         "op": "patch"
        },
        {
         "diff": [
          {
           "key": 0,
           "op": "addrange",
           "valuelist": [
            "2020-04-29T11:01:44.317017Z"
           ]
          },
          {
           "key": 0,
           "length": 1,
           "op": "removerange"
          }
         ],
         "key": "start_time",
         "op": "patch"
        }
       ],
       "key": "ExecuteTime",
       "op": "patch"
      }
     ],
     "remote_diff": [
      {
       "key": "ExecuteTime",
       "op": "remove"
      }
     ]
    }
   },
   "outputs": [],
   "source": [
    "percent_info_0 = data.Administrative_Duration.value_counts()[0]/len(data)*100  \n",
    "print(f'% of sessions in the category 0.0 of the Administrative_Duration pages: {round(percent_info_0,1)}')"
   ]
  },
  {
   "cell_type": "markdown",
   "metadata": {},
   "source": [
    "### BounceRates"
   ]
  },
  {
   "cell_type": "markdown",
   "metadata": {
    "ExecuteTime": {
     "end_time": "2020-04-22T18:47:04.610250Z",
     "start_time": "2020-04-22T18:47:04.600884Z"
    }
   },
   "source": [
    "- Data type: Numerical, ‘float‘. Dtype change not necessary.\n",
    "- Missing Values: There are 14 missing values, which is 0.11% out of all data. Will fill this cells with median\n",
    "- 44.7% of sessions are coming from the category 0.0 of the BounceRates"
   ]
  },
  {
   "cell_type": "code",
   "execution_count": null,
   "metadata": {
    "ExecuteTime": {
     "end_time": "2020-04-24T17:39:14.373717Z",
     "start_time": "2020-04-24T17:39:14.368978Z"
    },
    "nbdime-conflicts": {
     "local_diff": [
      {
       "diff": [
        {
         "diff": [
          {
           "key": 0,
           "op": "addrange",
           "valuelist": [
            "2020-04-29T11:01:44.327995Z"
           ]
          },
          {
           "key": 0,
           "length": 1,
           "op": "removerange"
          }
         ],
         "key": "end_time",
         "op": "patch"
        },
        {
         "diff": [
          {
           "key": 0,
           "op": "addrange",
           "valuelist": [
            "2020-04-29T11:01:44.324041Z"
           ]
          },
          {
           "key": 0,
           "length": 1,
           "op": "removerange"
          }
         ],
         "key": "start_time",
         "op": "patch"
        }
       ],
       "key": "ExecuteTime",
       "op": "patch"
      }
     ],
     "remote_diff": [
      {
       "key": "ExecuteTime",
       "op": "remove"
      }
     ]
    }
   },
   "outputs": [],
   "source": [
    "# Missing values\n",
    "\n",
    "NA_values(data.BounceRates)"
   ]
  },
  {
   "cell_type": "code",
   "execution_count": null,
   "metadata": {
    "ExecuteTime": {
     "end_time": "2020-04-24T17:39:14.712123Z",
     "start_time": "2020-04-24T17:39:14.375394Z"
    },
    "nbdime-conflicts": {
     "local_diff": [
      {
       "diff": [
        {
         "diff": [
          {
           "key": 0,
           "op": "addrange",
           "valuelist": [
            "2020-04-29T11:01:44.583479Z"
           ]
          },
          {
           "key": 0,
           "length": 1,
           "op": "removerange"
          }
         ],
         "key": "end_time",
         "op": "patch"
        },
        {
         "diff": [
          {
           "diff": [
            {
             "key": 9,
             "op": "addrange",
             "valuelist": "9"
            },
            {
             "key": 9,
             "length": 1,
             "op": "removerange"
            },
            {
             "key": 12,
             "op": "addrange",
             "valuelist": "1"
            },
            {
             "key": 12,
             "length": 1,
             "op": "removerange"
            },
            {
             "key": 14,
             "op": "addrange",
             "valuelist": "01"
            },
            {
             "key": 14,
             "length": 2,
             "op": "removerange"
            },
            {
             "key": 17,
             "op": "addrange",
             "valuelist": "4"
            },
            {
             "key": 17,
             "length": 1,
             "op": "removerange"
            },
            {
             "key": 21,
             "op": "addrange",
             "valuelist": "296"
            },
            {
             "key": 21,
             "length": 2,
             "op": "removerange"
            },
            {
             "key": 24,
             "length": 1,
             "op": "removerange"
            }
           ],
           "key": 0,
           "op": "patch"
          }
         ],
         "key": "start_time",
         "op": "patch"
        }
       ],
       "key": "ExecuteTime",
       "op": "patch"
      }
     ],
     "remote_diff": [
      {
       "key": "ExecuteTime",
       "op": "remove"
      }
     ]
    }
   },
   "outputs": [],
   "source": [
    "# Distribution\n",
    "\n",
    "print(data.BounceRates.value_counts())\n",
    "\n",
    "plt.style.use('seaborn')\n",
    "fig, ax = plt.subplots(1, figsize=(8,6))\n",
    "ax1 = data.Informational.hist()\n",
    "plt.title(\"BounceRates - distribution\")\n",
    "plt.show()"
   ]
  },
  {
   "cell_type": "code",
   "execution_count": null,
   "metadata": {
    "ExecuteTime": {
     "end_time": "2020-04-24T17:39:14.719205Z",
     "start_time": "2020-04-24T17:39:14.713823Z"
    },
    "nbdime-conflicts": {
     "local_diff": [
      {
       "diff": [
        {
         "diff": [
          {
           "diff": [
            {
             "key": 9,
             "op": "addrange",
             "valuelist": "9"
            },
            {
             "key": 9,
             "length": 1,
             "op": "removerange"
            },
            {
             "key": 12,
             "op": "addrange",
             "valuelist": "1"
            },
            {
             "key": 12,
             "length": 1,
             "op": "removerange"
            },
            {
             "key": 14,
             "op": "addrange",
             "valuelist": "01"
            },
            {
             "key": 14,
             "length": 2,
             "op": "removerange"
            },
            {
             "key": 17,
             "op": "addrange",
             "valuelist": "4"
            },
            {
             "key": 17,
             "length": 1,
             "op": "removerange"
            },
            {
             "key": 20,
             "op": "addrange",
             "valuelist": "5"
            },
            {
             "key": 20,
             "length": 2,
             "op": "removerange"
            },
            {
             "key": 23,
             "op": "addrange",
             "valuelist": "0"
            },
            {
             "key": 25,
             "op": "addrange",
             "valuelist": "4"
            },
            {
             "key": 25,
             "length": 1,
             "op": "removerange"
            }
           ],
           "key": 0,
           "op": "patch"
          }
         ],
         "key": "end_time",
         "op": "patch"
        },
        {
         "diff": [
          {
           "key": 0,
           "op": "addrange",
           "valuelist": [
            "2020-04-29T11:01:44.585184Z"
           ]
          },
          {
           "key": 0,
           "length": 1,
           "op": "removerange"
          }
         ],
         "key": "start_time",
         "op": "patch"
        }
       ],
       "key": "ExecuteTime",
       "op": "patch"
      }
     ],
     "remote_diff": [
      {
       "key": "ExecuteTime",
       "op": "remove"
      }
     ]
    }
   },
   "outputs": [],
   "source": [
    "percent_info_0 = data.BounceRates.value_counts()[0]/len(data)*100  \n",
    "print(f'% of sessions in the category 0.0 of the BounceRates pages: {round(percent_info_0,1)}')"
   ]
  },
  {
   "cell_type": "markdown",
   "metadata": {},
   "source": [
    "### OperatingSystems"
   ]
  },
  {
   "cell_type": "code",
   "execution_count": null,
   "metadata": {
    "ExecuteTime": {
     "end_time": "2020-04-24T17:39:14.723825Z",
     "start_time": "2020-04-24T17:39:14.721022Z"
    },
    "nbdime-conflicts": {
     "local_diff": [
      {
       "diff": [
        {
         "diff": [
          {
           "key": 0,
           "op": "addrange",
           "valuelist": [
            "2020-04-29T11:01:44.593816Z"
           ]
          },
          {
           "key": 0,
           "length": 1,
           "op": "removerange"
          }
         ],
         "key": "end_time",
         "op": "patch"
        },
        {
         "diff": [
          {
           "key": 0,
           "op": "addrange",
           "valuelist": [
            "2020-04-29T11:01:44.591863Z"
           ]
          },
          {
           "key": 0,
           "length": 1,
           "op": "removerange"
          }
         ],
         "key": "start_time",
         "op": "patch"
        }
       ],
       "key": "ExecuteTime",
       "op": "patch"
      }
     ],
     "remote_diff": [
      {
       "key": "ExecuteTime",
       "op": "remove"
      }
     ]
    }
   },
   "outputs": [],
   "source": [
    "# checking the no. of OSes each user is having??"
   ]
  },
  {
   "cell_type": "markdown",
   "metadata": {
    "ExecuteTime": {
     "end_time": "2020-04-22T18:47:26.026307Z",
     "start_time": "2020-04-22T18:47:26.020195Z"
    }
   },
   "source": [
    "- Data type: Numerical, ‘float‘. Dtype change not necessary.\n",
    "- Missing Values: There are 1 missing values, which is 0.01% out of all data. Will fill this cell with median\n",
    "- 53.4% of sessions are coming from the category 2.0 of the OperatingSystems"
   ]
  },
  {
   "cell_type": "code",
   "execution_count": null,
   "metadata": {
    "ExecuteTime": {
     "end_time": "2020-04-24T17:39:14.731114Z",
     "start_time": "2020-04-24T17:39:14.725695Z"
    },
    "nbdime-conflicts": {
     "local_diff": [
      {
       "diff": [
        {
         "diff": [
          {
           "key": 0,
           "op": "addrange",
           "valuelist": [
            "2020-04-29T11:01:44.598573Z"
           ]
          },
          {
           "key": 0,
           "length": 1,
           "op": "removerange"
          }
         ],
         "key": "end_time",
         "op": "patch"
        },
        {
         "diff": [
          {
           "diff": [
            {
             "key": 9,
             "op": "addrange",
             "valuelist": "9"
            },
            {
             "key": 9,
             "length": 1,
             "op": "removerange"
            },
            {
             "key": 12,
             "op": "addrange",
             "valuelist": "1"
            },
            {
             "key": 12,
             "length": 1,
             "op": "removerange"
            },
            {
             "key": 14,
             "op": "addrange",
             "valuelist": "01"
            },
            {
             "key": 14,
             "length": 2,
             "op": "removerange"
            },
            {
             "key": 17,
             "op": "addrange",
             "valuelist": "4"
            },
            {
             "key": 17,
             "length": 1,
             "op": "removerange"
            },
            {
             "key": 20,
             "length": 2,
             "op": "removerange"
            },
            {
             "key": 23,
             "length": 1,
             "op": "removerange"
            },
            {
             "key": 26,
             "op": "addrange",
             "valuelist": "206"
            }
           ],
           "key": 0,
           "op": "patch"
          }
         ],
         "key": "start_time",
         "op": "patch"
        }
       ],
       "key": "ExecuteTime",
       "op": "patch"
      }
     ],
     "remote_diff": [
      {
       "key": "ExecuteTime",
       "op": "remove"
      }
     ]
    }
   },
   "outputs": [],
   "source": [
    "# Missing values\n",
    "\n",
    "NA_values(data.OperatingSystems)"
   ]
  },
  {
   "cell_type": "code",
   "execution_count": null,
   "metadata": {
    "ExecuteTime": {
     "end_time": "2020-04-24T17:39:14.934766Z",
     "start_time": "2020-04-24T17:39:14.732837Z"
    },
    "nbdime-conflicts": {
     "local_diff": [
      {
       "diff": [
        {
         "diff": [
          {
           "key": 0,
           "op": "addrange",
           "valuelist": [
            "2020-04-29T11:01:44.605149Z"
           ]
          },
          {
           "key": 0,
           "length": 1,
           "op": "removerange"
          }
         ],
         "key": "end_time",
         "op": "patch"
        },
        {
         "diff": [
          {
           "key": 0,
           "op": "addrange",
           "valuelist": [
            "2020-04-29T11:01:44.599956Z"
           ]
          },
          {
           "key": 0,
           "length": 1,
           "op": "removerange"
          }
         ],
         "key": "start_time",
         "op": "patch"
        }
       ],
       "key": "ExecuteTime",
       "op": "patch"
      }
     ],
     "remote_diff": [
      {
       "key": "ExecuteTime",
       "op": "remove"
      }
     ]
    }
   },
   "outputs": [],
   "source": [
    "# transform 999 and ? to NaN\n",
    "\n",
    "data.OperatingSystems.fillna(method= 'ffill')"
   ]
  },
  {
   "cell_type": "code",
   "execution_count": null,
   "metadata": {
    "ExecuteTime": {
     "end_time": "2020-04-24T17:39:15.245258Z",
     "start_time": "2020-04-24T17:39:14.936685Z"
    },
    "nbdime-conflicts": {
     "local_diff": [
      {
       "diff": [
        {
         "diff": [
          {
           "key": 0,
           "op": "addrange",
           "valuelist": [
            "2020-04-29T11:01:44.857405Z"
           ]
          },
          {
           "key": 0,
           "length": 1,
           "op": "removerange"
          }
         ],
         "key": "end_time",
         "op": "patch"
        },
        {
         "diff": [
          {
           "diff": [
            {
             "key": 9,
             "op": "addrange",
             "valuelist": "9"
            },
            {
             "key": 9,
             "length": 1,
             "op": "removerange"
            },
            {
             "key": 12,
             "op": "addrange",
             "valuelist": "1"
            },
            {
             "key": 12,
             "length": 1,
             "op": "removerange"
            },
            {
             "key": 14,
             "op": "addrange",
             "valuelist": "01"
            },
            {
             "key": 14,
             "length": 2,
             "op": "removerange"
            },
            {
             "key": 17,
             "op": "addrange",
             "valuelist": "4"
            },
            {
             "key": 17,
             "length": 1,
             "op": "removerange"
            },
            {
             "key": 20,
             "length": 2,
             "op": "removerange"
            },
            {
             "key": 23,
             "op": "addrange",
             "valuelist": "0"
            },
            {
             "key": 24,
             "op": "addrange",
             "valuelist": "4"
            },
            {
             "key": 25,
             "op": "addrange",
             "valuelist": "4"
            },
            {
             "key": 25,
             "length": 1,
             "op": "removerange"
            }
           ],
           "key": 0,
           "op": "patch"
          }
         ],
         "key": "start_time",
         "op": "patch"
        }
       ],
       "key": "ExecuteTime",
       "op": "patch"
      }
     ],
     "remote_diff": [
      {
       "key": "ExecuteTime",
       "op": "remove"
      }
     ]
    }
   },
   "outputs": [],
   "source": [
    "print(data.OperatingSystems.value_counts())\n",
    "\n",
    "plt.style.use('seaborn')\n",
    "fig, ax = plt.subplots(1, figsize=(8,6))\n",
    "ax1 = data.Informational.hist()\n",
    "plt.title(\"OperatingSystems - distribution\")\n",
    "plt.show()"
   ]
  },
  {
   "cell_type": "code",
   "execution_count": null,
   "metadata": {
    "ExecuteTime": {
     "end_time": "2020-04-24T17:39:15.253411Z",
     "start_time": "2020-04-24T17:39:15.247202Z"
    },
    "nbdime-conflicts": {
     "local_diff": [
      {
       "diff": [
        {
         "diff": [
          {
           "key": 0,
           "op": "addrange",
           "valuelist": [
            "2020-04-29T11:01:44.863284Z"
           ]
          },
          {
           "key": 0,
           "length": 1,
           "op": "removerange"
          }
         ],
         "key": "end_time",
         "op": "patch"
        },
        {
         "diff": [
          {
           "key": 0,
           "op": "addrange",
           "valuelist": [
            "2020-04-29T11:01:44.858945Z"
           ]
          },
          {
           "key": 0,
           "length": 1,
           "op": "removerange"
          }
         ],
         "key": "start_time",
         "op": "patch"
        }
       ],
       "key": "ExecuteTime",
       "op": "patch"
      }
     ],
     "remote_diff": [
      {
       "key": "ExecuteTime",
       "op": "remove"
      }
     ]
    }
   },
   "outputs": [],
   "source": [
    "percent_info_2 = data.OperatingSystems.value_counts()[2]/len(data)*100  \n",
    "print(f'% of sessions in the category 2.0 of the OperatingSystems pages: {round(percent_info_2,1)}')"
   ]
  },
  {
   "cell_type": "markdown",
   "metadata": {},
   "source": [
    "### Weekend"
   ]
  },
  {
   "cell_type": "markdown",
   "metadata": {},
   "source": [
    "- Data type: Bool. Dtype change not necessary.\n",
    "- Missing Values: There are no missing values.\n",
    "- 76.7% of sessions are coming from the category False of the Weekend"
   ]
  },
  {
   "cell_type": "code",
   "execution_count": null,
   "metadata": {
    "ExecuteTime": {
     "end_time": "2020-04-24T17:39:15.258893Z",
     "start_time": "2020-04-24T17:39:15.254996Z"
    },
    "nbdime-conflicts": {
     "local_diff": [
      {
       "diff": [
        {
         "diff": [
          {
           "key": 0,
           "op": "addrange",
           "valuelist": [
            "2020-04-29T11:01:44.868758Z"
           ]
          },
          {
           "key": 0,
           "length": 1,
           "op": "removerange"
          }
         ],
         "key": "end_time",
         "op": "patch"
        },
        {
         "diff": [
          {
           "key": 0,
           "op": "addrange",
           "valuelist": [
            "2020-04-29T11:01:44.864926Z"
           ]
          },
          {
           "key": 0,
           "length": 1,
           "op": "removerange"
          }
         ],
         "key": "start_time",
         "op": "patch"
        }
       ],
       "key": "ExecuteTime",
       "op": "patch"
      }
     ],
     "remote_diff": [
      {
       "key": "ExecuteTime",
       "op": "remove"
      }
     ]
    }
   },
   "outputs": [],
   "source": [
    "# Missing values\n",
    "\n",
    "NA_values(data.Weekend)"
   ]
  },
  {
   "cell_type": "code",
   "execution_count": null,
   "metadata": {
    "ExecuteTime": {
     "end_time": "2020-04-24T17:39:15.596553Z",
     "start_time": "2020-04-24T17:39:15.260764Z"
    },
    "nbdime-conflicts": {
     "local_diff": [
      {
       "diff": [
        {
         "diff": [
          {
           "key": 0,
           "op": "addrange",
           "valuelist": [
            "2020-04-29T11:01:45.176903Z"
           ]
          },
          {
           "key": 0,
           "length": 1,
           "op": "removerange"
          }
         ],
         "key": "end_time",
         "op": "patch"
        },
        {
         "diff": [
          {
           "key": 0,
           "op": "addrange",
           "valuelist": [
            "2020-04-29T11:01:44.870293Z"
           ]
          },
          {
           "key": 0,
           "length": 1,
           "op": "removerange"
          }
         ],
         "key": "start_time",
         "op": "patch"
        }
       ],
       "key": "ExecuteTime",
       "op": "patch"
      }
     ],
     "remote_diff": [
      {
       "key": "ExecuteTime",
       "op": "remove"
      }
     ]
    }
   },
   "outputs": [],
   "source": [
    "print(data.Weekend.value_counts())\n",
    "\n",
    "plt.style.use('seaborn')\n",
    "fig, ax = plt.subplots(1, figsize=(8,6))\n",
    "ax = data.Informational.hist()\n",
    "plt.title(\"Weekend - distribution\")\n",
    "plt.show()"
   ]
  },
  {
   "cell_type": "code",
   "execution_count": null,
   "metadata": {
    "ExecuteTime": {
     "end_time": "2020-04-24T17:39:15.603889Z",
     "start_time": "2020-04-24T17:39:15.598422Z"
    },
    "nbdime-conflicts": {
     "local_diff": [
      {
       "diff": [
        {
         "diff": [
          {
           "key": 0,
           "op": "addrange",
           "valuelist": [
            "2020-04-29T11:01:45.183422Z"
           ]
          },
          {
           "key": 0,
           "length": 1,
           "op": "removerange"
          }
         ],
         "key": "end_time",
         "op": "patch"
        },
        {
         "diff": [
          {
           "key": 0,
           "op": "addrange",
           "valuelist": [
            "2020-04-29T11:01:45.178572Z"
           ]
          },
          {
           "key": 0,
           "length": 1,
           "op": "removerange"
          }
         ],
         "key": "start_time",
         "op": "patch"
        }
       ],
       "key": "ExecuteTime",
       "op": "patch"
      }
     ],
     "remote_diff": [
      {
       "key": "ExecuteTime",
       "op": "remove"
      }
     ]
    }
   },
   "outputs": [],
   "source": [
    "percent_info_false = data.Weekend.value_counts()[0]/len(data)*100  \n",
    "print(f'% of sessions in the category False of the Weekend pages, not in weekend: {round(percent_info_0,1)}')"
   ]
  },
  {
   "cell_type": "markdown",
   "metadata": {},
   "source": [
    "### Kristina:\n",
    "\n",
    " - **Informational**\n",
    "  - Data type: Categorical, float. No changes\n",
    "  - Missing Values: There are 14 missing values, which is 0.11% out of all data. It will be interpolated via a ffill, in order to preserve the actual distribution of the values.\n",
    "  - 78.7% of sessions are coming from the category 0.0 of the Informational pages\n",
    "  - No other changes are needed\n",
    " - **ExitRates**\n",
    "  - Data type: Numerical, float. No changes\n",
    "  - Missing Values: There are 14 missing values, which is 0.11% out of all data. It will be filled with the median\n",
    "  - Outliers: There are 1094 outliers, which is 8.87% of all data. The majority of the outliers are falling under the FALSE revenue category and under the 0.2 value of the Exit rates. Additional column will be created to be able to filter out the outliers if needed: exitrates_outliers (boolean values).\n",
    " - **Browser**\n",
    "  - Data type: Categorical, integer. No changes\n",
    "  - Missing Values: There are 100 missing values, which is 0.8% out of all data. It will be interpolated via a ffill, in order to preserve the actual distribution of the values.\n",
    "  - The most popular browser is 2. The usage share is very similar to the standard Usage share of all browsers. Later on, in the data visualization, we will show more insights on this\n",
    "  - There is one category identified with anegative number (-1.0) not sure if we need to change it.\n",
    "  - No other changes are needed\n",
    " - **Revenue**\n",
    "  - Data type: categorical, boolean. No changes\n",
    "  - There are 2 categories, True and False\n",
    "  - 84.53% of data falls under FALSE category of Revenue. Since it's a target column, the data will need to be equilibrated.\n",
    "  - Trying to plot as kind='bar' loads too long, that's why use hist()"
   ]
  },
  {
   "cell_type": "markdown",
   "metadata": {},
   "source": [
    "#### Informational"
   ]
  },
  {
   "cell_type": "code",
   "execution_count": null,
   "metadata": {
    "ExecuteTime": {
     "end_time": "2020-04-24T17:39:15.963450Z",
     "start_time": "2020-04-24T17:39:15.606256Z"
    },
    "nbdime-conflicts": {
     "local_diff": [
      {
       "diff": [
        {
         "diff": [
          {
           "key": 0,
           "op": "addrange",
           "valuelist": [
            "2020-04-29T11:01:45.438736Z"
           ]
          },
          {
           "key": 0,
           "length": 1,
           "op": "removerange"
          }
         ],
         "key": "end_time",
         "op": "patch"
        },
        {
         "diff": [
          {
           "key": 0,
           "op": "addrange",
           "valuelist": [
            "2020-04-29T11:01:45.185288Z"
           ]
          },
          {
           "key": 0,
           "length": 1,
           "op": "removerange"
          }
         ],
         "key": "start_time",
         "op": "patch"
        }
       ],
       "key": "ExecuteTime",
       "op": "patch"
      }
     ],
     "remote_diff": [
      {
       "key": "ExecuteTime",
       "op": "remove"
      }
     ]
    }
   },
   "outputs": [],
   "source": [
    "# Missing values\n",
    "\n",
    "NA_values(data.Informational)\n",
    "\n",
    "# Filling missing values\n",
    "\n",
    "data.Informational.fillna(method='ffill', inplace=True)\n",
    "\n",
    "# Distribution\n",
    "\n",
    "print(data.Informational.value_counts())\n",
    "\n",
    "plt.style.use('seaborn')\n",
    "fig, ax = plt.subplots(1, figsize=(8,6))\n",
    "ax = data.Informational.hist()\n",
    "plt.title(\"Informational - distribution\")\n",
    "plt.show()\n",
    "\n",
    "# % of sessions in category 0.0 \n",
    "\n",
    "percent_info_0 = data.Informational.value_counts()[0]/len(data)*100  \n",
    "print(f'% of sessions in the category 0.0 of the Informational pages: {round(percent_info_0,1)}')"
   ]
  },
  {
   "cell_type": "markdown",
   "metadata": {},
   "source": [
    "#### Exit Rates"
   ]
  },
  {
   "cell_type": "code",
   "execution_count": null,
   "metadata": {
    "ExecuteTime": {
     "end_time": "2020-04-24T17:39:16.640139Z",
     "start_time": "2020-04-24T17:39:15.965075Z"
    },
    "nbdime-conflicts": {
     "local_diff": [
      {
       "diff": [
        {
         "diff": [
          {
           "key": 0,
           "op": "addrange",
           "valuelist": [
            "2020-04-29T11:01:45.866310Z"
           ]
          },
          {
           "key": 0,
           "length": 1,
           "op": "removerange"
          }
         ],
         "key": "end_time",
         "op": "patch"
        },
        {
         "diff": [
          {
           "key": 0,
           "op": "addrange",
           "valuelist": [
            "2020-04-29T11:01:45.440312Z"
           ]
          },
          {
           "key": 0,
           "length": 1,
           "op": "removerange"
          }
         ],
         "key": "start_time",
         "op": "patch"
        }
       ],
       "key": "ExecuteTime",
       "op": "patch"
      }
     ],
     "remote_diff": [
      {
       "key": "ExecuteTime",
       "op": "remove"
      }
     ]
    }
   },
   "outputs": [],
   "source": [
    "# Missing values\n",
    "\n",
    "NA_values(data.ExitRates)\n",
    "\n",
    "# Filling missing values\n",
    "\n",
    "data.ExitRates = data.ExitRates.fillna(data.ExitRates.median())\n",
    "\n",
    "# Distribution\n",
    "\n",
    "fig, ax = plt.subplots(1, figsize=(8,6))\n",
    "plt.style.use('seaborn')\n",
    "ax = data.ExitRates.hist()\n",
    "plt.title(\"ExitRates - distribution\")\n",
    "plt.show()\n",
    "\n",
    "# Outliers\n",
    "\n",
    "fig, ax = plt.subplots(1, figsize=(8,6))\n",
    "plt.style.use('seaborn')\n",
    "ax = data.boxplot('ExitRates')\n",
    "plt.title(\"ExitRates - outliers\")\n",
    "plt.show()\n",
    "\n",
    "iqr(data, data.ExitRates)\n",
    "\n",
    "# Checking the distribution of outliers regarding the target column - Revenue\n",
    "\n",
    "exitrates_outliers = data.loc[(data.ExitRates > 0.104) | (data.ExitRates < -0.039)]\n",
    "print(exitrates_outliers.Revenue.value_counts())\n",
    "\n",
    "# Checking the top exit rate values of the outliers:\n",
    "\n",
    "print(exitrates_outliers.ExitRates.value_counts())\n",
    "\n",
    "# Creating a new column in the dataset to indicate exit rate outliers:\n",
    "# Only using the upper IQR because the lower is a negative value and we don't have values lower tahn 0.\n",
    "\n",
    "data['exitrates_outliers']  = data['ExitRates'].apply(lambda x: 'TRUE' if x > 0.104 else 'FALSE')\n",
    "\n",
    "# Converting column to boolean\n",
    "\n",
    "mapa = {'TRUE': True, 'FALSE': False}\n",
    "data['exitrates_outliers'] = data['exitrates_outliers'].map(mapa)"
   ]
  },
  {
   "cell_type": "markdown",
   "metadata": {},
   "source": [
    "#### Browser"
   ]
  },
  {
   "cell_type": "code",
   "execution_count": null,
   "metadata": {
    "ExecuteTime": {
     "end_time": "2020-04-24T17:39:17.315468Z",
     "start_time": "2020-04-24T17:39:16.642081Z"
    },
    "nbdime-conflicts": {
     "local_diff": [
      {
       "diff": [
        {
         "diff": [
          {
           "key": 0,
           "op": "addrange",
           "valuelist": [
            "2020-04-29T11:01:46.129579Z"
           ]
          },
          {
           "key": 0,
           "length": 1,
           "op": "removerange"
          }
         ],
         "key": "end_time",
         "op": "patch"
        },
        {
         "diff": [
          {
           "key": 0,
           "op": "addrange",
           "valuelist": [
            "2020-04-29T11:01:45.867893Z"
           ]
          },
          {
           "key": 0,
           "length": 1,
           "op": "removerange"
          }
         ],
         "key": "start_time",
         "op": "patch"
        }
       ],
       "key": "ExecuteTime",
       "op": "patch"
      }
     ],
     "remote_diff": [
      {
       "key": "ExecuteTime",
       "op": "remove"
      }
     ]
    }
   },
   "outputs": [],
   "source": [
    "# Missing values\n",
    "\n",
    "NA_values(data.Browser)\n",
    "\n",
    "# Filling missing values\n",
    "\n",
    "data.Browser.fillna(method='ffill', inplace=True)\n",
    "\n",
    "# Distribution\n",
    "\n",
    "print(data.Browser.value_counts(normalize = True)*100) \n",
    "\n",
    "fig, ax = plt.subplots(1, figsize=(8,6))\n",
    "plt.style.use('seaborn')\n",
    "ax = data.Browser.hist()\n",
    "plt.title(\"Browser - distribution\")\n",
    "plt.show()\n",
    "\n",
    "# Creating a dataset of the standard usage share of all browsers and of mobile browsers\n",
    "\n",
    "usage_share_browsers = pd.DataFrame({'Chrome': 64.92, 'Safari': 15.97, 'Firefox': 4.33, 'Samsung_Internet': 3.29, \n",
    "                                     'UC': 2.94, 'Opera': 2.34, 'Edge': 2.05, 'IE': 1.98, 'AOSP': 0.59, 'Others': 1.59}, \n",
    "                                    index = [0]).T\n",
    "colnames = ['standard_usage_all']\n",
    "usage_share_browsers.columns = colnames\n",
    "print(usage_share_browsers)\n",
    "\n",
    "usage_share_browsers_mob = pd.DataFrame({'Chrome': 63.80, 'Safari': 19.70, 'Firefox': 0.35, 'Samsung_Internet': 6.27, \n",
    "                                     'UC': 5.33, 'Opera': 2.48, 'Others': 2.07}, \n",
    "                                    index = [0]).T\n",
    "colnames = ['standard_usage_mobile']\n",
    "usage_share_browsers_mob.columns = colnames\n",
    "print(usage_share_browsers_mob)"
   ]
  },
  {
   "cell_type": "markdown",
   "metadata": {},
   "source": [
    "#### Revenue"
   ]
  },
  {
   "cell_type": "code",
   "execution_count": null,
   "metadata": {
    "ExecuteTime": {
     "end_time": "2020-04-24T17:39:17.654922Z",
     "start_time": "2020-04-24T17:39:17.317866Z"
    },
    "nbdime-conflicts": {
     "local_diff": [
      {
       "diff": [
        {
         "diff": [
          {
           "key": 0,
           "op": "addrange",
           "valuelist": [
            "2020-04-29T11:01:46.391306Z"
           ]
          },
          {
           "key": 0,
           "length": 1,
           "op": "removerange"
          }
         ],
         "key": "end_time",
         "op": "patch"
        },
        {
         "diff": [
          {
           "key": 0,
           "op": "addrange",
           "valuelist": [
            "2020-04-29T11:01:46.131182Z"
           ]
          },
          {
           "key": 0,
           "length": 1,
           "op": "removerange"
          }
         ],
         "key": "start_time",
         "op": "patch"
        }
       ],
       "key": "ExecuteTime",
       "op": "patch"
      }
     ],
     "remote_diff": [
      {
       "key": "ExecuteTime",
       "op": "remove"
      }
     ]
    },
    "scrolled": false
   },
   "outputs": [],
   "source": [
    "# Missing values\n",
    "\n",
    "NA_values(data.Revenue)\n",
    "\n",
    "# Distribution\n",
    "\n",
    "print(data.Revenue.value_counts())\n",
    "\n",
    "# To plot a boolean variable, converting it to numeric\n",
    "\n",
    "fig, ax = plt.subplots(1, figsize=(8,6))\n",
    "plt.style.use('seaborn')\n",
    "ax = data.Revenue.astype(float).hist()\n",
    "plt.title(\"Revenue - distribution\")\n",
    "plt.show()\n",
    "\n",
    "# How much data under False\n",
    "\n",
    "print(f' {round(data.Revenue.value_counts(normalize = True)[0]*100, 2)}% of data falls under FALSE category of Revenue')"
   ]
  },
  {
   "cell_type": "markdown",
   "metadata": {},
   "source": [
    "### Isaac:\n",
    "\n",
    "    - Informational_Duration: There is a 'None' value so for this reason the type is an object.. We should change it to 0 and convert all the Series to float. In terms of missing values we got it covered (0.11%). We will fill them with the mean. 0.0% of outliers.\n",
    "    - PageValues. Same as Informationa_Duration, we got an object called (#Nan). We should also change it and convert all the Series to float. Same for the missing values. 0.0% of outliers.\n",
    "    - Region. There are only 9 regions. There are some with 'nan' or 'Nan'. My proposal is to remove whole cell as it will end up with bad results."
   ]
  },
  {
   "cell_type": "code",
   "execution_count": null,
   "metadata": {
    "ExecuteTime": {
     "end_time": "2020-04-24T17:39:17.682384Z",
     "start_time": "2020-04-24T17:39:17.660399Z"
    },
    "nbdime-conflicts": {
     "local_diff": [
      {
       "diff": [
        {
         "diff": [
          {
           "key": 0,
           "op": "addrange",
           "valuelist": [
            "2020-04-29T11:01:46.416535Z"
           ]
          },
          {
           "key": 0,
           "length": 1,
           "op": "removerange"
          }
         ],
         "key": "end_time",
         "op": "patch"
        },
        {
         "diff": [
          {
           "key": 0,
           "op": "addrange",
           "valuelist": [
            "2020-04-29T11:01:46.393697Z"
           ]
          },
          {
           "key": 0,
           "length": 1,
           "op": "removerange"
          }
         ],
         "key": "start_time",
         "op": "patch"
        }
       ],
       "key": "ExecuteTime",
       "op": "patch"
      }
     ],
     "remote_diff": [
      {
       "key": "ExecuteTime",
       "op": "remove"
      }
     ]
    }
   },
   "outputs": [],
   "source": [
    "# Informational_Duration column\n",
    "\n",
    "data[data['Informational_Duration'] == 'None'] = 0\n",
    "data[\"Informational_Duration\"] = pd.to_numeric(data[\"Informational_Duration\"])\n",
    "\n",
    "NA_values(data[\"Informational_Duration\"])\n",
    "iqr(data, data[\"Informational_Duration\"])"
   ]
  },
  {
   "cell_type": "code",
   "execution_count": null,
   "metadata": {
    "ExecuteTime": {
     "end_time": "2020-04-24T17:39:17.708151Z",
     "start_time": "2020-04-24T17:39:17.684065Z"
    },
    "nbdime-conflicts": {
     "local_diff": [
      {
       "diff": [
        {
         "diff": [
          {
           "key": 0,
           "op": "addrange",
           "valuelist": [
            "2020-04-29T11:01:46.436237Z"
           ]
          },
          {
           "key": 0,
           "length": 1,
           "op": "removerange"
          }
         ],
         "key": "end_time",
         "op": "patch"
        },
        {
         "diff": [
          {
           "key": 0,
           "op": "addrange",
           "valuelist": [
            "2020-04-29T11:01:46.417915Z"
           ]
          },
          {
           "key": 0,
           "length": 1,
           "op": "removerange"
          }
         ],
         "key": "start_time",
         "op": "patch"
        }
       ],
       "key": "ExecuteTime",
       "op": "patch"
      }
     ],
     "remote_diff": [
      {
       "key": "ExecuteTime",
       "op": "remove"
      }
     ]
    }
   },
   "outputs": [],
   "source": [
    "# PageValues column\n",
    "\n",
    "data[data['PageValues'] == '#Nan'] = 0\n",
    "data[\"PageValues\"] = pd.to_numeric(data[\"PageValues\"])\n",
    "\n",
    "NA_values(data[\"PageValues\"])\n",
    "iqr(data, data[\"PageValues\"])"
   ]
  },
  {
   "cell_type": "code",
   "execution_count": null,
   "metadata": {
    "ExecuteTime": {
     "end_time": "2020-04-24T17:39:17.716543Z",
     "start_time": "2020-04-24T17:39:17.709993Z"
    },
    "nbdime-conflicts": {
     "local_diff": [
      {
       "diff": [
        {
         "diff": [
          {
           "key": 0,
           "op": "addrange",
           "valuelist": [
            "2020-04-29T11:01:46.443530Z"
           ]
          },
          {
           "key": 0,
           "length": 1,
           "op": "removerange"
          }
         ],
         "key": "end_time",
         "op": "patch"
        },
        {
         "diff": [
          {
           "key": 0,
           "op": "addrange",
           "valuelist": [
            "2020-04-29T11:01:46.437670Z"
           ]
          },
          {
           "key": 0,
           "length": 1,
           "op": "removerange"
          }
         ],
         "key": "start_time",
         "op": "patch"
        }
       ],
       "key": "ExecuteTime",
       "op": "patch"
      }
     ],
     "remote_diff": [
      {
       "key": "ExecuteTime",
       "op": "remove"
      }
     ]
    }
   },
   "outputs": [],
   "source": [
    "# Region column\n",
    "\n",
    "#data[data['Region'] == 'nan']\n",
    "#data[data['Region'] == 'Nan']\n",
    "\n",
    "#data[\"Region\"] = pd.to_numeric(data[\"Region\"])\n",
    "data.Region.value_counts()"
   ]
  },
  {
   "cell_type": "markdown",
   "metadata": {},
   "source": [
    "\n",
    "\n",
    "### Pau:\n",
    "\n",
    "    - ProductRelated:\n",
    "\n",
    "    - SpecialDay:\n",
    "\n",
    "    - TrafficType:\n"
   ]
  },
  {
   "cell_type": "code",
   "execution_count": null,
   "metadata": {
    "ExecuteTime": {
     "end_time": "2020-04-24T17:39:17.726763Z",
     "start_time": "2020-04-24T17:39:17.718924Z"
    },
    "nbdime-conflicts": {
     "local_diff": [
      {
       "diff": [
        {
         "diff": [
          {
           "key": 0,
           "op": "addrange",
           "valuelist": [
            "2020-04-29T11:01:46.449899Z"
           ]
          },
          {
           "key": 0,
           "length": 1,
           "op": "removerange"
          }
         ],
         "key": "end_time",
         "op": "patch"
        },
        {
         "diff": [
          {
           "key": 0,
           "op": "addrange",
           "valuelist": [
            "2020-04-29T11:01:46.445084Z"
           ]
          },
          {
           "key": 0,
           "length": 1,
           "op": "removerange"
          }
         ],
         "key": "start_time",
         "op": "patch"
        }
       ],
       "key": "ExecuteTime",
       "op": "patch"
      }
     ],
     "remote_diff": [
      {
       "key": "ExecuteTime",
       "op": "remove"
      }
     ]
    },
    "scrolled": true
   },
   "outputs": [],
   "source": [
    "# ProductRelated column\n",
    "\n",
    "# 1.09% NA --> filling method: median?:\n",
    "\n",
    "NA_values(data.ProductRelated) \n",
    "\n",
    "data.ProductRelated = data.ProductRelated.fillna(data.ProductRelated.median()) \n",
    "\n",
    "# Outliers:\n",
    "\n",
    "# dtype transformation: float to int\n",
    "\n",
    "# data.ProductRelated.fillna(method='ffill')"
   ]
  },
  {
   "cell_type": "code",
   "execution_count": null,
   "metadata": {
    "ExecuteTime": {
     "end_time": "2020-04-24T17:39:17.733911Z",
     "start_time": "2020-04-24T17:39:17.729149Z"
    },
    "nbdime-conflicts": {
     "local_diff": [
      {
       "diff": [
        {
         "diff": [
          {
           "key": 0,
           "op": "addrange",
           "valuelist": [
            "2020-04-29T11:01:46.454877Z"
           ]
          },
          {
           "key": 0,
           "length": 1,
           "op": "removerange"
          }
         ],
         "key": "end_time",
         "op": "patch"
        },
        {
         "diff": [
          {
           "key": 0,
           "op": "addrange",
           "valuelist": [
            "2020-04-29T11:01:46.451595Z"
           ]
          },
          {
           "key": 0,
           "length": 1,
           "op": "removerange"
          }
         ],
         "key": "start_time",
         "op": "patch"
        }
       ],
       "key": "ExecuteTime",
       "op": "patch"
      }
     ],
     "remote_diff": [
      {
       "key": "ExecuteTime",
       "op": "remove"
      }
     ]
    }
   },
   "outputs": [],
   "source": [
    "# SpecialDay column\n",
    "\n",
    "# 0.0% NA --> no filling needed:\n",
    "\n",
    "NA_values(data.SpecialDay) \n",
    "\n",
    "# Outliers:\n",
    "\n",
    "# dtype correct (float)\n"
   ]
  },
  {
   "cell_type": "code",
   "execution_count": null,
   "metadata": {
    "ExecuteTime": {
     "end_time": "2020-04-24T17:39:17.745911Z",
     "start_time": "2020-04-24T17:39:17.735786Z"
    },
    "nbdime-conflicts": {
     "local_diff": [
      {
       "diff": [
        {
         "diff": [
          {
           "key": 0,
           "op": "addrange",
           "valuelist": [
            "2020-04-29T11:01:46.464807Z"
           ]
          },
          {
           "key": 0,
           "length": 1,
           "op": "removerange"
          }
         ],
         "key": "end_time",
         "op": "patch"
        },
        {
         "diff": [
          {
           "key": 0,
           "op": "addrange",
           "valuelist": [
            "2020-04-29T11:01:46.456246Z"
           ]
          },
          {
           "key": 0,
           "length": 1,
           "op": "removerange"
          }
         ],
         "key": "start_time",
         "op": "patch"
        }
       ],
       "key": "ExecuteTime",
       "op": "patch"
      }
     ],
     "remote_diff": [
      {
       "key": "ExecuteTime",
       "op": "remove"
      }
     ]
    }
   },
   "outputs": [],
   "source": [
    "# TrafficType column\n",
    "\n",
    "# 0.97% NA --> filling method: median?:\n",
    "\n",
    "NA_values(data.TrafficType) \n",
    "\n",
    "data.TrafficType = data.TrafficType.fillna(data.TrafficType.median())\n",
    "\n",
    "# Outliers:\n",
    "\n",
    "# dtype transformation: float to int\n",
    "\n",
    "data.TrafficType.value_counts()"
   ]
  },
  {
   "cell_type": "markdown",
   "metadata": {
    "ExecuteTime": {
     "end_time": "2020-04-21T11:46:54.269488Z",
     "start_time": "2020-04-21T11:46:54.265517Z"
    }
   },
   "source": [
    "### Sosa:\n",
    "\n",
    "    - Administrative:\n",
    "        Due to the low number of missing values (0.28%), we'll fill them with the median of the values since its \n",
    "        impact won't be noticeable. We can't use mean because each value represents a category and should be\n",
    "        assigned to an existing value. \n",
    "        Also, we can also see that the distribution of the values is a logarithmic one, left-skewed.\n",
    "        There's 100 values 999. These are obvious errors. They're distributed evenly through the column. To\n",
    "        fix this, we'll transform this 999 values into NaNs to interpolate them via a ffill, in order to preserve\n",
    "        the actual distribution of the values.\n",
    "        \n",
    "    - ProductRelated_Duration\n",
    "        In this column, we have negative values. The time of a person staying in a webpage cannot be\n",
    "        negative, so we assume there's a error on the lecture. We'll be replacing them with '0' value.\n",
    "        We have just two pronounced outliers. \n",
    "        Additionaly, we'll assing our NAs, 0,14% of the values, to the mean values since our continuous numeric\n",
    "        values are equally distributed.\n",
    "        \n",
    "        \n",
    "    - Month\n",
    "        We have no NA values, but some wrong strings to classify the months. We'll fix this with Regex.\n",
    "        No more transformation needed.\n",
    "        \n",
    "    - VisitorType\n",
    "        We have four types of visitors: Returning, New, Other and More. In this case, we'll reduce the group\n",
    "        to three types: Returning, New and Other, by merging the More column to Other.\n",
    "        For the NA values, we have no way to know if the visitor is Returning or New, so we'll also group them\n",
    "        with the 'Other' values."
   ]
  },
  {
   "cell_type": "code",
   "execution_count": null,
   "metadata": {
    "ExecuteTime": {
     "end_time": "2020-04-24T17:39:17.773965Z",
     "start_time": "2020-04-24T17:39:17.747759Z"
    },
    "nbdime-conflicts": {
     "local_diff": [
      {
       "diff": [
        {
         "diff": [
          {
           "key": 0,
           "op": "addrange",
           "valuelist": [
            "2020-04-29T11:01:46.485470Z"
           ]
          },
          {
           "key": 0,
           "length": 1,
           "op": "removerange"
          }
         ],
         "key": "end_time",
         "op": "patch"
        },
        {
         "diff": [
          {
           "key": 0,
           "op": "addrange",
           "valuelist": [
            "2020-04-29T11:01:46.466255Z"
           ]
          },
          {
           "key": 0,
           "length": 1,
           "op": "removerange"
          }
         ],
         "key": "start_time",
         "op": "patch"
        }
       ],
       "key": "ExecuteTime",
       "op": "patch"
      }
     ],
     "remote_diff": [
      {
       "key": "ExecuteTime",
       "op": "remove"
      }
     ]
    }
   },
   "outputs": [],
   "source": [
    "## Administrative column\n",
    "\n",
    "print(NA_values(data.Administrative))\n",
    "\n",
    "data.Administrative = data.Administrative.fillna(data.Administrative.median())\n",
    "\n",
    "\n",
    "data[data['Administrative'] == 999] = None\n",
    "\n",
    "data.Administrative.fillna(method='ffill', inplace=True)\n",
    "\n",
    "iqr(data, data.Administrative)\n",
    "\n"
   ]
  },
  {
   "cell_type": "code",
   "execution_count": null,
   "metadata": {
    "ExecuteTime": {
     "end_time": "2020-04-24T17:39:17.797573Z",
     "start_time": "2020-04-24T17:39:17.776303Z"
    },
    "nbdime-conflicts": {
     "local_diff": [
      {
       "diff": [
        {
         "diff": [
          {
           "key": 0,
           "op": "addrange",
           "valuelist": [
            "2020-04-29T11:01:46.501258Z"
           ]
          },
          {
           "key": 0,
           "length": 1,
           "op": "removerange"
          }
         ],
         "key": "end_time",
         "op": "patch"
        },
        {
         "diff": [
          {
           "key": 0,
           "op": "addrange",
           "valuelist": [
            "2020-04-29T11:01:46.486906Z"
           ]
          },
          {
           "key": 0,
           "length": 1,
           "op": "removerange"
          }
         ],
         "key": "start_time",
         "op": "patch"
        }
       ],
       "key": "ExecuteTime",
       "op": "patch"
      }
     ],
     "remote_diff": [
      {
       "key": "ExecuteTime",
       "op": "remove"
      }
     ]
    }
   },
   "outputs": [],
   "source": [
    "## ProductRelated_Duration column\n",
    "\n",
    "print(NA_values(data.ProductRelated_Duration))\n",
    "\n",
    "# Fixing outliers:\n",
    "\n",
    "outliers = data.ProductRelated_Duration.sort_values(ascending=False)[:2]\n",
    "\n",
    "data.query('ProductRelated_Duration == @outliers')['ProductRelated_Duration'] = data.ProductRelated_Duration.mean()\n",
    "\n",
    "# Fixing the NA values:\n",
    "\n",
    "data.ProductRelated_Duration = data.ProductRelated_Duration.fillna(data.ProductRelated_Duration.mean())\n",
    "\n",
    "## ??? IQR for logarithmic distributions, are there outliers?"
   ]
  },
  {
   "cell_type": "code",
   "execution_count": null,
   "metadata": {
    "ExecuteTime": {
     "end_time": "2020-04-24T17:39:17.834180Z",
     "start_time": "2020-04-24T17:39:17.799659Z"
    },
    "nbdime-conflicts": {
     "local_diff": [
      {
       "diff": [
        {
         "diff": [
          {
           "key": 0,
           "op": "addrange",
           "valuelist": [
            "2020-04-29T11:01:46.528628Z"
           ]
          },
          {
           "key": 0,
           "length": 1,
           "op": "removerange"
          }
         ],
         "key": "end_time",
         "op": "patch"
        },
        {
         "diff": [
          {
           "key": 0,
           "op": "addrange",
           "valuelist": [
            "2020-04-29T11:01:46.502821Z"
           ]
          },
          {
           "key": 0,
           "length": 1,
           "op": "removerange"
          }
         ],
         "key": "start_time",
         "op": "patch"
        }
       ],
       "key": "ExecuteTime",
       "op": "patch"
      }
     ],
     "remote_diff": [
      {
       "key": "ExecuteTime",
       "op": "remove"
      }
     ]
    }
   },
   "outputs": [],
   "source": [
    "## Month column\n",
    "\n",
    "NA_values(data.Month)\n",
    "\n",
    "# Fixing strings:\n",
    "\n",
    "data.Month = data.Month.str.replace('MAY', 'May').str.replace('March', 'Mar')\n",
    "\n",
    "print(data.Month.value_counts())\n",
    "\n",
    "print(data.Month.fillna(method='ffill').value_counts())"
   ]
  },
  {
   "cell_type": "code",
   "execution_count": null,
   "metadata": {
    "ExecuteTime": {
     "end_time": "2020-04-24T17:39:17.859819Z",
     "start_time": "2020-04-24T17:39:17.835896Z"
    },
    "nbdime-conflicts": {
     "local_diff": [
      {
       "diff": [
        {
         "diff": [
          {
           "key": 0,
           "op": "addrange",
           "valuelist": [
            "2020-04-29T11:01:46.544364Z"
           ]
          },
          {
           "key": 0,
           "length": 1,
           "op": "removerange"
          }
         ],
         "key": "end_time",
         "op": "patch"
        },
        {
         "diff": [
          {
           "key": 0,
           "op": "addrange",
           "valuelist": [
            "2020-04-29T11:01:46.530147Z"
           ]
          },
          {
           "key": 0,
           "length": 1,
           "op": "removerange"
          }
         ],
         "key": "start_time",
         "op": "patch"
        }
       ],
       "key": "ExecuteTime",
       "op": "patch"
      }
     ],
     "remote_diff": [
      {
       "key": "ExecuteTime",
       "op": "remove"
      }
     ]
    }
   },
   "outputs": [],
   "source": [
    "## VisitorType column\n",
    "\n",
    "NA_values(data.VisitorType)\n",
    "\n",
    "data.VisitorType = data.VisitorType.str.replace('More', 'Other').fillna('Other')\n",
    "\n",
    "## ver si la columna tiene importancia, probar otras formas de tratar 'Other'"
   ]
  },
  {
   "cell_type": "markdown",
   "metadata": {
    "ExecuteTime": {
     "end_time": "2020-04-28T12:50:53.038123Z",
     "start_time": "2020-04-28T12:50:53.035880Z"
    }
   },
   "source": [
    "# Prepare Training Data"
   ]
  },
  {
   "cell_type": "markdown",
   "metadata": {},
   "source": [
    "First we'll have to select our training data and our target column, which in this case is `'Revenue'`"
   ]
  },
  {
   "cell_type": "code",
   "execution_count": null,
   "metadata": {
    "ExecuteTime": {
     "end_time": "2020-04-29T11:01:46.550640Z",
     "start_time": "2020-04-29T11:01:46.545737Z"
    }
   },
   "outputs": [],
   "source": [
    "X = data.drop(columns='Revenue')\n",
    "y = data['Revenue']\n",
    "\n",
    "print(X.shape, y.shape)"
   ]
  },
  {
   "cell_type": "markdown",
   "metadata": {},
   "source": [
    "We define the train and test data in X training values and target column.\n",
    "\n",
    "With shuffle, we set whether or not to shuffle the data before splitting (Default True).\n",
    "With stratify, we choose to split the data stritifying via labels (Default None)."
   ]
  },
  {
   "cell_type": "code",
   "execution_count": null,
   "metadata": {
    "ExecuteTime": {
     "end_time": "2020-04-29T11:01:46.558644Z",
     "start_time": "2020-04-29T11:01:46.552074Z"
    }
   },
   "outputs": [],
   "source": [
    "X_train, X_test, y_train, y_test = train_test_split(X, y, test_size = 0.2, shuffle=True, stratify= None)"
   ]
  },
  {
   "cell_type": "markdown",
   "metadata": {},
   "source": [
    "# Scaling"
   ]
  },
  {
   "cell_type": "markdown",
   "metadata": {
    "ExecuteTime": {
     "end_time": "2020-04-28T14:52:08.977683Z",
     "start_time": "2020-04-28T14:52:08.971988Z"
    }
   },
   "source": [
    "Scaling allows us to standarize the numerical values of our dataset, centering to the mean.\n",
    "We can't use scale on categorical variables, so we'll have to filter them:"
   ]
  },
  {
   "cell_type": "code",
   "execution_count": null,
   "metadata": {
    "ExecuteTime": {
     "end_time": "2020-04-29T11:01:46.567702Z",
     "start_time": "2020-04-29T11:01:46.560336Z"
    }
   },
   "outputs": [],
   "source": [
    "X_numerical = X.select_dtypes('float')"
   ]
  },
  {
   "cell_type": "code",
   "execution_count": null,
   "metadata": {
    "ExecuteTime": {
     "end_time": "2020-04-29T11:01:46.581947Z",
     "start_time": "2020-04-29T11:01:46.569125Z"
    }
   },
   "outputs": [],
   "source": [
    "scaled = scale(X_numerical, axis=0, with_mean=True, with_std=True, copy=True)"
   ]
  }
 ],
 "metadata": {
  "kernelspec": {
   "display_name": "Python 3",
   "language": "python",
   "name": "python3"
  },
  "language_info": {
   "codemirror_mode": {
    "name": "ipython",
    "version": 3
   },
   "file_extension": ".py",
   "mimetype": "text/x-python",
   "name": "python",
   "nbconvert_exporter": "python",
   "pygments_lexer": "ipython3",
   "version": "3.7.4"
  },
  "toc": {
   "base_numbering": 1,
   "nav_menu": {},
   "number_sections": true,
   "sideBar": true,
   "skip_h1_title": false,
   "title_cell": "Table of Contents",
   "title_sidebar": "Contents",
   "toc_cell": true,
   "toc_position": {
    "height": "calc(100% - 180px)",
    "left": "10px",
    "top": "150px",
    "width": "268px"
   },
   "toc_section_display": true,
   "toc_window_display": false
  },
  "varInspector": {
   "cols": {
    "lenName": 16,
    "lenType": 16,
    "lenVar": 40
   },
   "kernels_config": {
    "python": {
     "delete_cmd_postfix": "",
     "delete_cmd_prefix": "del ",
     "library": "var_list.py",
     "varRefreshCmd": "print(var_dic_list())"
    },
    "r": {
     "delete_cmd_postfix": ") ",
     "delete_cmd_prefix": "rm(",
     "library": "var_list.r",
     "varRefreshCmd": "cat(var_dic_list()) "
    }
   },
   "types_to_exclude": [
    "module",
    "function",
    "builtin_function_or_method",
    "instance",
    "_Feature"
   ],
   "window_display": false
  }
 },
 "nbformat": 4,
 "nbformat_minor": 2
}
