{
 "cells": [
  {
   "cell_type": "markdown",
   "metadata": {},
   "source": [
    "# Imports"
   ]
  },
  {
   "cell_type": "markdown",
   "metadata": {},
   "source": [
    "## Libraries"
   ]
  },
  {
   "cell_type": "code",
   "execution_count": 1,
   "metadata": {
    "ExecuteTime": {
     "end_time": "2020-05-08T17:38:03.233587Z",
     "start_time": "2020-05-08T17:38:02.206376Z"
    }
   },
   "outputs": [],
   "source": [
    "import re\n",
    "import pandas as pd\n",
    "import numpy as np\n",
    "import matplotlib.pyplot as plt\n",
    "plt.rcParams['figure.figsize'] = [12, 12]\n",
    "\n",
    "\n",
    "import seaborn as sns\n",
    "sns.set_style(style='ticks', rc=None)\n",
    "import sklearn\n",
    "import warnings\n",
    "warnings.filterwarnings('ignore')\n",
    "warnings.simplefilter('ignore')\n"
   ]
  },
  {
   "cell_type": "markdown",
   "metadata": {},
   "source": [
    "## Dataset"
   ]
  },
  {
   "cell_type": "code",
   "execution_count": 2,
   "metadata": {
    "ExecuteTime": {
     "end_time": "2020-05-08T17:38:03.288591Z",
     "start_time": "2020-05-08T17:38:03.236156Z"
    }
   },
   "outputs": [],
   "source": [
    "original = pd.read_csv('data/online_shoppers_intention_DATAPTDIC19.csv', sep=',', index_col=0)"
   ]
  },
  {
   "cell_type": "code",
   "execution_count": 3,
   "metadata": {
    "ExecuteTime": {
     "end_time": "2020-05-08T17:38:03.298392Z",
     "start_time": "2020-05-08T17:38:03.291264Z"
    }
   },
   "outputs": [],
   "source": [
    "data = original.copy()"
   ]
  },
  {
   "cell_type": "markdown",
   "metadata": {},
   "source": [
    "# Functions"
   ]
  },
  {
   "cell_type": "code",
   "execution_count": 4,
   "metadata": {
    "ExecuteTime": {
     "end_time": "2020-05-08T17:38:03.303887Z",
     "start_time": "2020-05-08T17:38:03.300506Z"
    }
   },
   "outputs": [],
   "source": [
    "## Function to explain NA values in a column:\n",
    "\n",
    "def NA_values(series):\n",
    "    '''\n",
    "    Function that takes a Pandas Series and returns a print statement explaining NAs and % of the column\n",
    "    '''\n",
    "    \n",
    "    return print(f'Column name: {series.name}\\nTotal values: {int(series.count())}\\nNA values: {series.isna().sum()}\\n% of NA values: {round(series.isna().mean() * 100,2)}%')"
   ]
  },
  {
   "cell_type": "code",
   "execution_count": 5,
   "metadata": {
    "ExecuteTime": {
     "end_time": "2020-05-08T17:38:03.315332Z",
     "start_time": "2020-05-08T17:38:03.305760Z"
    }
   },
   "outputs": [],
   "source": [
    "## Function to get the information about the outliers of a column:\n",
    "\n",
    "def outliers_info(dataset, fillna= True, how= 'ffill'):\n",
    "    \"\"\"\n",
    "    Function takes dataset and returns a DataFrame with information about the outliers in the numeric columns.\n",
    "    It also can fill the NA values present in the dataset.\n",
    "    \n",
    "    Input:\n",
    "        - dataset, e.g. data\n",
    "        \n",
    "    Output:\n",
    "        - DataFrame containing information about the outliers in each column\n",
    "    \"\"\"\n",
    "    \n",
    "    if fillna:\n",
    "        dataset = dataset.fillna(method= how)\n",
    "        \n",
    "    data= []\n",
    "    for series in dataset.select_dtypes('float').columns:\n",
    "        \n",
    "        name = dataset[series].name\n",
    "        \n",
    "        Q1 = np.percentile(dataset[series], 25)\n",
    "        Q3 = np.percentile(dataset[series], 75)\n",
    "        IQR = Q3 - Q1\n",
    "\n",
    "        lower = Q1 - 1.5 * IQR\n",
    "        upper = Q3 + 1.5 * IQR\n",
    "        \n",
    "        val_min = min(dataset[series])\n",
    "        val_max = max(dataset[series])\n",
    "        \n",
    "        total_outliers = len(dataset.loc[(dataset[series] > upper) | (dataset[series] < lower)])\n",
    "        percent_outliers = total_outliers / len(dataset) * 100\n",
    "        \n",
    "        data.append([name, val_min, val_max, Q1, Q3, IQR, lower, upper, total_outliers, percent_outliers])\n",
    "        \n",
    "    return pd.DataFrame(data, columns=['Column', 'Min Value', 'Max Value', \n",
    "                                       'Q1', 'Q3', 'IQR', 'Out_Under', 'Out_Over', \n",
    "                                       'Outliers', '% Outliers']).set_index('Column')\n",
    "\n",
    "    ## TODO: Identify which column needs outlier treatment and which not\n",
    "    ## TODO: Find a way to print outliers in the function\n"
   ]
  },
  {
   "cell_type": "markdown",
   "metadata": {},
   "source": [
    "# EDA"
   ]
  },
  {
   "cell_type": "markdown",
   "metadata": {},
   "source": [
    "## Quick look"
   ]
  },
  {
   "cell_type": "code",
   "execution_count": 6,
   "metadata": {
    "ExecuteTime": {
     "end_time": "2020-05-08T17:38:03.321699Z",
     "start_time": "2020-05-08T17:38:03.316804Z"
    }
   },
   "outputs": [
    {
     "data": {
      "text/plain": [
       "(12330, 18)"
      ]
     },
     "execution_count": 6,
     "metadata": {},
     "output_type": "execute_result"
    }
   ],
   "source": [
    "data.shape"
   ]
  },
  {
   "cell_type": "code",
   "execution_count": 7,
   "metadata": {
    "ExecuteTime": {
     "end_time": "2020-05-08T17:38:03.352909Z",
     "start_time": "2020-05-08T17:38:03.324091Z"
    }
   },
   "outputs": [
    {
     "data": {
      "text/html": [
       "<div>\n",
       "<style scoped>\n",
       "    .dataframe tbody tr th:only-of-type {\n",
       "        vertical-align: middle;\n",
       "    }\n",
       "\n",
       "    .dataframe tbody tr th {\n",
       "        vertical-align: top;\n",
       "    }\n",
       "\n",
       "    .dataframe thead th {\n",
       "        text-align: right;\n",
       "    }\n",
       "</style>\n",
       "<table border=\"1\" class=\"dataframe\">\n",
       "  <thead>\n",
       "    <tr style=\"text-align: right;\">\n",
       "      <th></th>\n",
       "      <th>Administrative</th>\n",
       "      <th>Administrative_Duration</th>\n",
       "      <th>Informational</th>\n",
       "      <th>Informational_Duration</th>\n",
       "      <th>ProductRelated</th>\n",
       "      <th>ProductRelated_Duration</th>\n",
       "      <th>BounceRates</th>\n",
       "      <th>ExitRates</th>\n",
       "      <th>PageValues</th>\n",
       "      <th>SpecialDay</th>\n",
       "      <th>Month</th>\n",
       "      <th>OperatingSystems</th>\n",
       "      <th>Browser</th>\n",
       "      <th>Region</th>\n",
       "      <th>TrafficType</th>\n",
       "      <th>VisitorType</th>\n",
       "      <th>Weekend</th>\n",
       "      <th>Revenue</th>\n",
       "    </tr>\n",
       "  </thead>\n",
       "  <tbody>\n",
       "    <tr>\n",
       "      <td>0</td>\n",
       "      <td>0.0</td>\n",
       "      <td>0.0</td>\n",
       "      <td>0.0</td>\n",
       "      <td>0.0</td>\n",
       "      <td>1.0</td>\n",
       "      <td>0.000000</td>\n",
       "      <td>0.20</td>\n",
       "      <td>0.20</td>\n",
       "      <td>0.0</td>\n",
       "      <td>0.0</td>\n",
       "      <td>Feb</td>\n",
       "      <td>1</td>\n",
       "      <td>1.0</td>\n",
       "      <td>1</td>\n",
       "      <td>1.0</td>\n",
       "      <td>Returning_Visitor</td>\n",
       "      <td>0.0</td>\n",
       "      <td>False</td>\n",
       "    </tr>\n",
       "    <tr>\n",
       "      <td>1</td>\n",
       "      <td>0.0</td>\n",
       "      <td>0.0</td>\n",
       "      <td>0.0</td>\n",
       "      <td>0.0</td>\n",
       "      <td>2.0</td>\n",
       "      <td>64.000000</td>\n",
       "      <td>0.00</td>\n",
       "      <td>0.10</td>\n",
       "      <td>0.0</td>\n",
       "      <td>0.0</td>\n",
       "      <td>Feb</td>\n",
       "      <td>2</td>\n",
       "      <td>2.0</td>\n",
       "      <td>1</td>\n",
       "      <td>2.0</td>\n",
       "      <td>Returning_Visitor</td>\n",
       "      <td>0.0</td>\n",
       "      <td>False</td>\n",
       "    </tr>\n",
       "    <tr>\n",
       "      <td>2</td>\n",
       "      <td>0.0</td>\n",
       "      <td>-1.0</td>\n",
       "      <td>0.0</td>\n",
       "      <td>-1.0</td>\n",
       "      <td>1.0</td>\n",
       "      <td>-1.000000</td>\n",
       "      <td>0.20</td>\n",
       "      <td>0.20</td>\n",
       "      <td>0.0</td>\n",
       "      <td>0.0</td>\n",
       "      <td>Feb</td>\n",
       "      <td>4</td>\n",
       "      <td>1.0</td>\n",
       "      <td>9</td>\n",
       "      <td>3.0</td>\n",
       "      <td>Returning_Visitor</td>\n",
       "      <td>0.0</td>\n",
       "      <td>False</td>\n",
       "    </tr>\n",
       "    <tr>\n",
       "      <td>3</td>\n",
       "      <td>0.0</td>\n",
       "      <td>0.0</td>\n",
       "      <td>0.0</td>\n",
       "      <td>0.0</td>\n",
       "      <td>2.0</td>\n",
       "      <td>2.666667</td>\n",
       "      <td>0.05</td>\n",
       "      <td>0.14</td>\n",
       "      <td>0.0</td>\n",
       "      <td>0.0</td>\n",
       "      <td>Feb</td>\n",
       "      <td>3</td>\n",
       "      <td>2.0</td>\n",
       "      <td>2</td>\n",
       "      <td>4.0</td>\n",
       "      <td>Returning_Visitor</td>\n",
       "      <td>0.0</td>\n",
       "      <td>False</td>\n",
       "    </tr>\n",
       "    <tr>\n",
       "      <td>4</td>\n",
       "      <td>0.0</td>\n",
       "      <td>0.0</td>\n",
       "      <td>0.0</td>\n",
       "      <td>0.0</td>\n",
       "      <td>10.0</td>\n",
       "      <td>627.500000</td>\n",
       "      <td>0.02</td>\n",
       "      <td>0.05</td>\n",
       "      <td>0.0</td>\n",
       "      <td>0.0</td>\n",
       "      <td>Feb</td>\n",
       "      <td>3</td>\n",
       "      <td>3.0</td>\n",
       "      <td>1</td>\n",
       "      <td>4.0</td>\n",
       "      <td>Returning_Visitor</td>\n",
       "      <td>1.0</td>\n",
       "      <td>False</td>\n",
       "    </tr>\n",
       "  </tbody>\n",
       "</table>\n",
       "</div>"
      ],
      "text/plain": [
       "   Administrative Administrative_Duration  Informational  \\\n",
       "0             0.0                     0.0            0.0   \n",
       "1             0.0                     0.0            0.0   \n",
       "2             0.0                    -1.0            0.0   \n",
       "3             0.0                     0.0            0.0   \n",
       "4             0.0                     0.0            0.0   \n",
       "\n",
       "  Informational_Duration  ProductRelated  ProductRelated_Duration  \\\n",
       "0                    0.0             1.0                 0.000000   \n",
       "1                    0.0             2.0                64.000000   \n",
       "2                   -1.0             1.0                -1.000000   \n",
       "3                    0.0             2.0                 2.666667   \n",
       "4                    0.0            10.0               627.500000   \n",
       "\n",
       "   BounceRates  ExitRates PageValues  SpecialDay Month OperatingSystems  \\\n",
       "0         0.20       0.20        0.0         0.0   Feb                1   \n",
       "1         0.00       0.10        0.0         0.0   Feb                2   \n",
       "2         0.20       0.20        0.0         0.0   Feb                4   \n",
       "3         0.05       0.14        0.0         0.0   Feb                3   \n",
       "4         0.02       0.05        0.0         0.0   Feb                3   \n",
       "\n",
       "   Browser Region  TrafficType        VisitorType Weekend  Revenue  \n",
       "0      1.0      1          1.0  Returning_Visitor     0.0    False  \n",
       "1      2.0      1          2.0  Returning_Visitor     0.0    False  \n",
       "2      1.0      9          3.0  Returning_Visitor     0.0    False  \n",
       "3      2.0      2          4.0  Returning_Visitor     0.0    False  \n",
       "4      3.0      1          4.0  Returning_Visitor     1.0    False  "
      ]
     },
     "execution_count": 7,
     "metadata": {},
     "output_type": "execute_result"
    }
   ],
   "source": [
    "data.head()"
   ]
  },
  {
   "cell_type": "code",
   "execution_count": 8,
   "metadata": {
    "ExecuteTime": {
     "end_time": "2020-05-08T17:38:03.371921Z",
     "start_time": "2020-05-08T17:38:03.356426Z"
    }
   },
   "outputs": [
    {
     "name": "stdout",
     "output_type": "stream",
     "text": [
      "<class 'pandas.core.frame.DataFrame'>\n",
      "Int64Index: 12330 entries, 0 to 12329\n",
      "Data columns (total 18 columns):\n",
      "Administrative             12296 non-null float64\n",
      "Administrative_Duration    12316 non-null object\n",
      "Informational              12316 non-null float64\n",
      "Informational_Duration     12316 non-null object\n",
      "ProductRelated             12196 non-null float64\n",
      "ProductRelated_Duration    12316 non-null float64\n",
      "BounceRates                12216 non-null float64\n",
      "ExitRates                  12316 non-null float64\n",
      "PageValues                 12310 non-null object\n",
      "SpecialDay                 12330 non-null float64\n",
      "Month                      12330 non-null object\n",
      "OperatingSystems           12330 non-null object\n",
      "Browser                    12230 non-null float64\n",
      "Region                     12230 non-null object\n",
      "TrafficType                12210 non-null float64\n",
      "VisitorType                12310 non-null object\n",
      "Weekend                    12310 non-null object\n",
      "Revenue                    12330 non-null bool\n",
      "dtypes: bool(1), float64(9), object(8)\n",
      "memory usage: 1.7+ MB\n"
     ]
    }
   ],
   "source": [
    "data.info()"
   ]
  },
  {
   "cell_type": "markdown",
   "metadata": {},
   "source": [
    "We can see that some of our numerical columns have wrong dtypes. This may be due to errors in string-form in some of the values, that force pandas to transform all the colum to object type.  By the moment, we'll be transforming this columns to numeric types, transforming all the non-numeric values to NaN in the process, to be taken care of later on."
   ]
  },
  {
   "cell_type": "code",
   "execution_count": 9,
   "metadata": {
    "ExecuteTime": {
     "end_time": "2020-05-08T17:38:03.381753Z",
     "start_time": "2020-05-08T17:38:03.375366Z"
    }
   },
   "outputs": [],
   "source": [
    "object_cols = ['Month', 'VisitorType']\n",
    "\n",
    "numerical_cols = [col for col in data.columns if col not in object_cols]"
   ]
  },
  {
   "cell_type": "code",
   "execution_count": 10,
   "metadata": {
    "ExecuteTime": {
     "end_time": "2020-05-08T17:38:03.459873Z",
     "start_time": "2020-05-08T17:38:03.384027Z"
    }
   },
   "outputs": [],
   "source": [
    "eda_data = data[numerical_cols].apply(pd.to_numeric, errors='coerce')"
   ]
  },
  {
   "cell_type": "code",
   "execution_count": 11,
   "metadata": {
    "ExecuteTime": {
     "end_time": "2020-05-08T17:38:03.567405Z",
     "start_time": "2020-05-08T17:38:03.463641Z"
    }
   },
   "outputs": [
    {
     "data": {
      "text/html": [
       "<div>\n",
       "<style scoped>\n",
       "    .dataframe tbody tr th:only-of-type {\n",
       "        vertical-align: middle;\n",
       "    }\n",
       "\n",
       "    .dataframe tbody tr th {\n",
       "        vertical-align: top;\n",
       "    }\n",
       "\n",
       "    .dataframe thead th {\n",
       "        text-align: right;\n",
       "    }\n",
       "</style>\n",
       "<table border=\"1\" class=\"dataframe\">\n",
       "  <thead>\n",
       "    <tr style=\"text-align: right;\">\n",
       "      <th></th>\n",
       "      <th>Min Value</th>\n",
       "      <th>Max Value</th>\n",
       "      <th>Q1</th>\n",
       "      <th>Q3</th>\n",
       "      <th>IQR</th>\n",
       "      <th>Out_Under</th>\n",
       "      <th>Out_Over</th>\n",
       "      <th>Outliers</th>\n",
       "      <th>% Outliers</th>\n",
       "    </tr>\n",
       "    <tr>\n",
       "      <th>Column</th>\n",
       "      <th></th>\n",
       "      <th></th>\n",
       "      <th></th>\n",
       "      <th></th>\n",
       "      <th></th>\n",
       "      <th></th>\n",
       "      <th></th>\n",
       "      <th></th>\n",
       "      <th></th>\n",
       "    </tr>\n",
       "  </thead>\n",
       "  <tbody>\n",
       "    <tr>\n",
       "      <td>Administrative</td>\n",
       "      <td>0.0</td>\n",
       "      <td>999.000000</td>\n",
       "      <td>0.000000</td>\n",
       "      <td>4.000000</td>\n",
       "      <td>4.000000</td>\n",
       "      <td>-6.000000</td>\n",
       "      <td>10.000000</td>\n",
       "      <td>503</td>\n",
       "      <td>4.079481</td>\n",
       "    </tr>\n",
       "    <tr>\n",
       "      <td>Administrative_Duration</td>\n",
       "      <td>-99.0</td>\n",
       "      <td>3398.750000</td>\n",
       "      <td>0.000000</td>\n",
       "      <td>92.287500</td>\n",
       "      <td>92.287500</td>\n",
       "      <td>-138.431250</td>\n",
       "      <td>230.718750</td>\n",
       "      <td>1175</td>\n",
       "      <td>9.529603</td>\n",
       "    </tr>\n",
       "    <tr>\n",
       "      <td>Informational</td>\n",
       "      <td>0.0</td>\n",
       "      <td>24.000000</td>\n",
       "      <td>0.000000</td>\n",
       "      <td>0.000000</td>\n",
       "      <td>0.000000</td>\n",
       "      <td>0.000000</td>\n",
       "      <td>0.000000</td>\n",
       "      <td>2635</td>\n",
       "      <td>21.370641</td>\n",
       "    </tr>\n",
       "    <tr>\n",
       "      <td>Informational_Duration</td>\n",
       "      <td>-1.0</td>\n",
       "      <td>2549.375000</td>\n",
       "      <td>0.000000</td>\n",
       "      <td>0.000000</td>\n",
       "      <td>0.000000</td>\n",
       "      <td>0.000000</td>\n",
       "      <td>0.000000</td>\n",
       "      <td>2441</td>\n",
       "      <td>19.797242</td>\n",
       "    </tr>\n",
       "    <tr>\n",
       "      <td>ProductRelated</td>\n",
       "      <td>0.0</td>\n",
       "      <td>705.000000</td>\n",
       "      <td>7.000000</td>\n",
       "      <td>38.000000</td>\n",
       "      <td>31.000000</td>\n",
       "      <td>-39.500000</td>\n",
       "      <td>84.500000</td>\n",
       "      <td>986</td>\n",
       "      <td>7.996756</td>\n",
       "    </tr>\n",
       "    <tr>\n",
       "      <td>ProductRelated_Duration</td>\n",
       "      <td>-1.0</td>\n",
       "      <td>63973.522230</td>\n",
       "      <td>185.287500</td>\n",
       "      <td>1469.163556</td>\n",
       "      <td>1283.876056</td>\n",
       "      <td>-1740.526583</td>\n",
       "      <td>3394.977639</td>\n",
       "      <td>956</td>\n",
       "      <td>7.753447</td>\n",
       "    </tr>\n",
       "    <tr>\n",
       "      <td>BounceRates</td>\n",
       "      <td>0.0</td>\n",
       "      <td>3.000000</td>\n",
       "      <td>0.000000</td>\n",
       "      <td>0.017020</td>\n",
       "      <td>0.017020</td>\n",
       "      <td>-0.025530</td>\n",
       "      <td>0.042549</td>\n",
       "      <td>1561</td>\n",
       "      <td>12.660178</td>\n",
       "    </tr>\n",
       "    <tr>\n",
       "      <td>ExitRates</td>\n",
       "      <td>0.0</td>\n",
       "      <td>0.200000</td>\n",
       "      <td>0.014286</td>\n",
       "      <td>0.050000</td>\n",
       "      <td>0.035714</td>\n",
       "      <td>-0.039286</td>\n",
       "      <td>0.103571</td>\n",
       "      <td>1094</td>\n",
       "      <td>8.872668</td>\n",
       "    </tr>\n",
       "    <tr>\n",
       "      <td>PageValues</td>\n",
       "      <td>0.0</td>\n",
       "      <td>361.763742</td>\n",
       "      <td>0.000000</td>\n",
       "      <td>0.000000</td>\n",
       "      <td>0.000000</td>\n",
       "      <td>0.000000</td>\n",
       "      <td>0.000000</td>\n",
       "      <td>2721</td>\n",
       "      <td>22.068127</td>\n",
       "    </tr>\n",
       "    <tr>\n",
       "      <td>SpecialDay</td>\n",
       "      <td>0.0</td>\n",
       "      <td>1.000000</td>\n",
       "      <td>0.000000</td>\n",
       "      <td>0.000000</td>\n",
       "      <td>0.000000</td>\n",
       "      <td>0.000000</td>\n",
       "      <td>0.000000</td>\n",
       "      <td>1251</td>\n",
       "      <td>10.145985</td>\n",
       "    </tr>\n",
       "    <tr>\n",
       "      <td>OperatingSystems</td>\n",
       "      <td>-999.0</td>\n",
       "      <td>8.000000</td>\n",
       "      <td>2.000000</td>\n",
       "      <td>3.000000</td>\n",
       "      <td>1.000000</td>\n",
       "      <td>0.500000</td>\n",
       "      <td>4.500000</td>\n",
       "      <td>210</td>\n",
       "      <td>1.703163</td>\n",
       "    </tr>\n",
       "    <tr>\n",
       "      <td>Browser</td>\n",
       "      <td>-1.0</td>\n",
       "      <td>13.000000</td>\n",
       "      <td>2.000000</td>\n",
       "      <td>2.000000</td>\n",
       "      <td>0.000000</td>\n",
       "      <td>2.000000</td>\n",
       "      <td>2.000000</td>\n",
       "      <td>4378</td>\n",
       "      <td>35.506894</td>\n",
       "    </tr>\n",
       "    <tr>\n",
       "      <td>Region</td>\n",
       "      <td>1.0</td>\n",
       "      <td>9.000000</td>\n",
       "      <td>1.000000</td>\n",
       "      <td>4.000000</td>\n",
       "      <td>3.000000</td>\n",
       "      <td>-3.500000</td>\n",
       "      <td>8.500000</td>\n",
       "      <td>517</td>\n",
       "      <td>4.193025</td>\n",
       "    </tr>\n",
       "    <tr>\n",
       "      <td>TrafficType</td>\n",
       "      <td>1.0</td>\n",
       "      <td>20.000000</td>\n",
       "      <td>2.000000</td>\n",
       "      <td>4.000000</td>\n",
       "      <td>2.000000</td>\n",
       "      <td>-1.000000</td>\n",
       "      <td>7.000000</td>\n",
       "      <td>2088</td>\n",
       "      <td>16.934307</td>\n",
       "    </tr>\n",
       "    <tr>\n",
       "      <td>Weekend</td>\n",
       "      <td>0.0</td>\n",
       "      <td>1.000000</td>\n",
       "      <td>0.000000</td>\n",
       "      <td>0.000000</td>\n",
       "      <td>0.000000</td>\n",
       "      <td>0.000000</td>\n",
       "      <td>0.000000</td>\n",
       "      <td>2870</td>\n",
       "      <td>23.276561</td>\n",
       "    </tr>\n",
       "  </tbody>\n",
       "</table>\n",
       "</div>"
      ],
      "text/plain": [
       "                         Min Value     Max Value          Q1           Q3  \\\n",
       "Column                                                                      \n",
       "Administrative                 0.0    999.000000    0.000000     4.000000   \n",
       "Administrative_Duration      -99.0   3398.750000    0.000000    92.287500   \n",
       "Informational                  0.0     24.000000    0.000000     0.000000   \n",
       "Informational_Duration        -1.0   2549.375000    0.000000     0.000000   \n",
       "ProductRelated                 0.0    705.000000    7.000000    38.000000   \n",
       "ProductRelated_Duration       -1.0  63973.522230  185.287500  1469.163556   \n",
       "BounceRates                    0.0      3.000000    0.000000     0.017020   \n",
       "ExitRates                      0.0      0.200000    0.014286     0.050000   \n",
       "PageValues                     0.0    361.763742    0.000000     0.000000   \n",
       "SpecialDay                     0.0      1.000000    0.000000     0.000000   \n",
       "OperatingSystems            -999.0      8.000000    2.000000     3.000000   \n",
       "Browser                       -1.0     13.000000    2.000000     2.000000   \n",
       "Region                         1.0      9.000000    1.000000     4.000000   \n",
       "TrafficType                    1.0     20.000000    2.000000     4.000000   \n",
       "Weekend                        0.0      1.000000    0.000000     0.000000   \n",
       "\n",
       "                                 IQR    Out_Under     Out_Over  Outliers  \\\n",
       "Column                                                                     \n",
       "Administrative              4.000000    -6.000000    10.000000       503   \n",
       "Administrative_Duration    92.287500  -138.431250   230.718750      1175   \n",
       "Informational               0.000000     0.000000     0.000000      2635   \n",
       "Informational_Duration      0.000000     0.000000     0.000000      2441   \n",
       "ProductRelated             31.000000   -39.500000    84.500000       986   \n",
       "ProductRelated_Duration  1283.876056 -1740.526583  3394.977639       956   \n",
       "BounceRates                 0.017020    -0.025530     0.042549      1561   \n",
       "ExitRates                   0.035714    -0.039286     0.103571      1094   \n",
       "PageValues                  0.000000     0.000000     0.000000      2721   \n",
       "SpecialDay                  0.000000     0.000000     0.000000      1251   \n",
       "OperatingSystems            1.000000     0.500000     4.500000       210   \n",
       "Browser                     0.000000     2.000000     2.000000      4378   \n",
       "Region                      3.000000    -3.500000     8.500000       517   \n",
       "TrafficType                 2.000000    -1.000000     7.000000      2088   \n",
       "Weekend                     0.000000     0.000000     0.000000      2870   \n",
       "\n",
       "                         % Outliers  \n",
       "Column                               \n",
       "Administrative             4.079481  \n",
       "Administrative_Duration    9.529603  \n",
       "Informational             21.370641  \n",
       "Informational_Duration    19.797242  \n",
       "ProductRelated             7.996756  \n",
       "ProductRelated_Duration    7.753447  \n",
       "BounceRates               12.660178  \n",
       "ExitRates                  8.872668  \n",
       "PageValues                22.068127  \n",
       "SpecialDay                10.145985  \n",
       "OperatingSystems           1.703163  \n",
       "Browser                   35.506894  \n",
       "Region                     4.193025  \n",
       "TrafficType               16.934307  \n",
       "Weekend                   23.276561  "
      ]
     },
     "execution_count": 11,
     "metadata": {},
     "output_type": "execute_result"
    }
   ],
   "source": [
    "outliers_info(eda_data)"
   ]
  },
  {
   "cell_type": "markdown",
   "metadata": {},
   "source": [
    "## Visual exploration"
   ]
  },
  {
   "cell_type": "markdown",
   "metadata": {},
   "source": [
    "### Target column"
   ]
  },
  {
   "cell_type": "markdown",
   "metadata": {},
   "source": [
    "Our target column will be `'Revenue'`, a column that indicates if the user has generated some revenue on the webpage. This column is a boolean type column, and has the following distribution:"
   ]
  },
  {
   "cell_type": "code",
   "execution_count": 12,
   "metadata": {
    "ExecuteTime": {
     "end_time": "2020-05-08T17:38:03.715095Z",
     "start_time": "2020-05-08T17:38:03.569272Z"
    }
   },
   "outputs": [
    {
     "data": {
      "image/png": "[encoded data removed]",
      "text/plain": [
       "<Figure size 504x288 with 1 Axes>"
      ]
     },
     "metadata": {
      "needs_background": "light"
     },
     "output_type": "display_data"
    }
   ],
   "source": [
    "plt.figure(figsize=(7,4))\n",
    "sns.countplot(eda_data.Revenue)\n",
    "plt.title('Revenue Distribution')\n",
    "plt.xlabel('')\n",
    "plt.ylabel('')\n",
    "# plt.savefig('Revenue_dist')\n",
    "plt.show()"
   ]
  },
  {
   "cell_type": "markdown",
   "metadata": {
    "ExecuteTime": {
     "end_time": "2020-05-08T12:22:20.440091Z",
     "start_time": "2020-05-08T12:22:20.435953Z"
    }
   },
   "source": [
    "We can see that our values are not balanced (equal values for True and False). In order to make proper predictions with our machine learning models, we'll have to balance this later on."
   ]
  },
  {
   "cell_type": "markdown",
   "metadata": {},
   "source": [
    "### Data distribution"
   ]
  },
  {
   "cell_type": "markdown",
   "metadata": {
    "ExecuteTime": {
     "end_time": "2020-05-08T08:53:22.905432Z",
     "start_time": "2020-05-08T08:53:22.901370Z"
    }
   },
   "source": [
    "We'll do a quick visual exploration on each column to find potential issues on its values, and see how they are distributed compared to our target column 'Revenue'.\n",
    "\n",
    "We'll divide our columns in categorical and continuous columns, to be able to properly observe its characteristics."
   ]
  },
  {
   "cell_type": "code",
   "execution_count": 13,
   "metadata": {
    "ExecuteTime": {
     "end_time": "2020-05-08T17:38:03.737302Z",
     "start_time": "2020-05-08T17:38:03.717079Z"
    }
   },
   "outputs": [],
   "source": [
    "cat_columns = [eda_data[col].name for col in eda_data.columns if len(eda_data[col].unique()) < 30 if col != 'Revenue']\n",
    "\n",
    "cont_columns = [eda_data[col].name for col in eda_data.columns if len(eda_data[col].unique()) > 30]\n"
   ]
  },
  {
   "cell_type": "markdown",
   "metadata": {},
   "source": [
    "##### Categorical columns"
   ]
  },
  {
   "cell_type": "code",
   "execution_count": 14,
   "metadata": {
    "ExecuteTime": {
     "end_time": "2020-05-08T17:38:06.646751Z",
     "start_time": "2020-05-08T17:38:03.739261Z"
    }
   },
   "outputs": [
    {
     "data": {
      "image/png": "[encoded data removed]",
      "text/plain": [
       "<Figure size 1440x1080 with 10 Axes>"
      ]
     },
     "metadata": {
      "needs_background": "light"
     },
     "output_type": "display_data"
    }
   ],
   "source": [
    "fig, axes = plt.subplots(nrows=5, ncols=2, figsize=(20,15))\n",
    "# fig.subplots_adjust(hspace=0.5)\n",
    "for ax, col in zip(axes.flatten(), cat_columns):\n",
    "        sns.countplot(data=eda_data, x=col, hue='Revenue', ax=ax)\n",
    "        \n",
    "plt.savefig('Categorical_columns')"
   ]
  },
  {
   "cell_type": "markdown",
   "metadata": {
    "ExecuteTime": {
     "end_time": "2020-05-08T10:34:48.509271Z",
     "start_time": "2020-05-08T10:34:48.506718Z"
    }
   },
   "source": [
    "##### Continuous numeric values"
   ]
  },
  {
   "cell_type": "markdown",
   "metadata": {},
   "source": [
    "In order to idenitify outliers and other irregularities, we'll using boxplots:"
   ]
  },
  {
   "cell_type": "code",
   "execution_count": 15,
   "metadata": {
    "ExecuteTime": {
     "end_time": "2020-05-08T17:38:07.951105Z",
     "start_time": "2020-05-08T17:38:06.648447Z"
    }
   },
   "outputs": [
    {
     "data": {
      "image/png": "[encoded data removed]",
      "text/plain": [
       "<Figure size 1440x1152 with 7 Axes>"
      ]
     },
     "metadata": {
      "needs_background": "light"
     },
     "output_type": "display_data"
    }
   ],
   "source": [
    "fig, axes = plt.subplots(nrows=7, ncols=1, figsize=(20,16))\n",
    "fig.subplots_adjust(hspace=1)\n",
    "for ax, col in zip(axes.flatten(), cont_columns):\n",
    "    sns.boxplot(eda_data[col], orient='h', ax=ax)\n",
    "    \n",
    "plt.savefig('Continuous_columns')\n",
    "#     plt.title(col)\n",
    "#     sns.swarmplot(data['Revenue'], ax=ax)"
   ]
  },
  {
   "cell_type": "markdown",
   "metadata": {},
   "source": [
    "### Correlation"
   ]
  },
  {
   "cell_type": "markdown",
   "metadata": {},
   "source": [
    "In order to analyze similarities between columns, we're looking for correlations. We're seeting up a function to be able to identify them in a clearer way:"
   ]
  },
  {
   "cell_type": "code",
   "execution_count": 16,
   "metadata": {
    "ExecuteTime": {
     "end_time": "2020-05-08T17:38:07.959276Z",
     "start_time": "2020-05-08T17:38:07.952883Z"
    }
   },
   "outputs": [],
   "source": [
    "def correlation_heatmap(dataframe):\n",
    "    '''\n",
    "    This function takes a dataframe as input and draws a heatmap with its correlations\n",
    "    '''\n",
    "\n",
    "    sns.set(style=\"white\")\n",
    "\n",
    "    # Generate a mask for the upper triangle\n",
    "    mask = np.triu(np.ones_like(dataframe.corr(), dtype=np.bool))\n",
    "\n",
    "    # Set up the matplotlib figure\n",
    "    f, ax = plt.subplots(figsize=(16, 12))\n",
    "\n",
    "    # Generate a custom diverging colormap\n",
    "    cmap = sns.diverging_palette(220, 10, as_cmap=True)\n",
    "\n",
    "    # Draw the heatmap with the mask and correct aspect ratio\n",
    "    sns.heatmap(dataframe.corr(), mask=mask, cmap=cmap, vmax=.9, center=0,\n",
    "                square=True, linewidths=.5, annot = True, cbar_kws={\"shrink\": .5})\n",
    "\n",
    "    plt.show()"
   ]
  },
  {
   "cell_type": "code",
   "execution_count": 17,
   "metadata": {
    "ExecuteTime": {
     "end_time": "2020-05-08T17:38:08.898062Z",
     "start_time": "2020-05-08T17:38:07.961322Z"
    }
   },
   "outputs": [
    {
     "data": {
      "image/png": "[encoded data removed]",
      "text/plain": [
       "<Figure size 1152x864 with 2 Axes>"
      ]
     },
     "metadata": {},
     "output_type": "display_data"
    },
    {
     "data": {
      "text/plain": [
       "<Figure size 432x288 with 0 Axes>"
      ]
     },
     "metadata": {},
     "output_type": "display_data"
    }
   ],
   "source": [
    "correlation_heatmap(eda_data)\n",
    "\n",
    "plt.savefig('Correlation_heatmap')"
   ]
  },
  {
   "cell_type": "markdown",
   "metadata": {
    "ExecuteTime": {
     "end_time": "2020-05-08T12:30:28.627573Z",
     "start_time": "2020-05-08T12:30:28.624090Z"
    }
   },
   "source": [
    "In this heatmap, we can see mild correlations in the dataset overall. The most relevant ones are:\n",
    "\n",
    "- `Informational` and `Informational_Duration`: This is logical, the many pages you visited, the more time you spend on them. Not really relevant.\n",
    "\n",
    "- `ProductRelated` and `ProductRelated_Duration`: Same happens in this case, but with Product related webpages\n",
    "- `BounceRates` and `Exit_Rates`: This is also logical, since everytime a user quits the page without entering another section, is exiting the page at some point.\n",
    "- `PageValues` and `Revenue`: This is a biased correlation. The PageValues metric indicates the average value for a page that a user visited before landing on the goal page or completing an Ecommerce transaction. So, we'll have to remove this column since we have this metric AFTER a client has generated revenue."
   ]
  },
  {
   "cell_type": "markdown",
   "metadata": {},
   "source": [
    "## EDA Insights and planning"
   ]
  },
  {
   "cell_type": "markdown",
   "metadata": {},
   "source": [
    "This dataset gathers information about costumers visiting an e-commerce webpage during a month. We'll be inspecting this data in order to be able to achieve our objective: being able to predict if a customer is likely to generate revenue given the dataset information.\n",
    "\n",
    "This data does not come in a clean way, so after we inspected it we found that we'll have to fix some issues on the following columns:\n",
    "\n",
    "- **Administrative:** \n",
    "    - Number of pages type Administrative that the customer visited.\n",
    "        - Contains some 999.0 values. This is a lecture error, so we'll transform this values to `NaN`\n",
    "    \n",
    "    \n",
    "- **Administrative_Duration:** \n",
    "    - Duration of the overall sessions in this type Administrative pages.\n",
    "        - `object` type column. Since the data is numerical, we'll change it to `float`\n",
    "        - Again, we'll move -99 and -1.0 values to `NaN` \n",
    "    \n",
    "    \n",
    "- **Informational**: \n",
    "    - Number of pages type Informational that the customer visited.\n",
    "        - Column type `float`. No processing needed. \n",
    "\n",
    "\n",
    "- **Informational_Duration:** \n",
    "    - Duration of the overall sessions in this type Informational pages\n",
    "        - Column type `object`. We're changing `object` type to `float`\n",
    "        - change -1.0 to nan\n",
    "        - change None to nan\n",
    "    \n",
    "- **ProductRelated**: \n",
    "    - Number of pages related to a single product that the customer has visited. \n",
    "\n",
    "- **ProductRelated_Duration:** \n",
    "    - Duration of the overall sessions in this product pages\n",
    "        - change -1.0 values to Nan\n",
    "\n",
    "- **Page Values**: \n",
    "    - Average value for a page that a user visited before landing on the goal page or completing an Ecommerce transaction.\n",
    "        - change `object` type to `float`\n",
    "        - #Nan change to `NaN`\n",
    "    \n",
    "- **BounceRates:** \n",
    "    - Bounce Rates of a web page. Percentages. The value of \"Bounce Rate\" feature for a web page refers to the percentage of visitors who enter the site from that page and then leave (\"bounce\") without triggering any other requests to the analytics server during that session\n",
    "    \n",
    "- **ExitRates**: \n",
    "    - Exit rate of a web page. The value of \"Exit Rate\" feature for a specific web page is calculated as for all pageviews to the page, the percentage that were the last in the session.\n",
    "    \n",
    "- **PageValues**: \n",
    "    - Page values of each web page. The \"Page Value\" feature represents the average value for a web page that a user visited before completing an e-commerce transaction.\n",
    "   \n",
    "- **SpecialDay**\n",
    "    - Special days like valentine etc. Closeness to a special date. For example, for Valentina’s day, this value takes a nonzero value between February 2 and February 12, zero before and after this date unless it is close to another special day, and its maximum value of 1 on February 8. \n",
    " \n",
    "- **Month**: \n",
    "    - Month of the year.\n",
    "        - change 'MAY' to May and 'March' to Mar\n",
    "    \n",
    "- **OperatingSystems**: \n",
    "    - Operating system used.\n",
    "        - change -999 and ? to `NaN`\n",
    "    \n",
    "- **Browser**: \n",
    "    - Browser used.\n",
    "        - change -1 to `NaN` or it's a separate category of a browser?\n",
    "    \n",
    "- **Region**: \n",
    "    - Region of the user.\n",
    "        - change 'Nan' to `NaN`\n",
    "    \n",
    "- **TrafficType** \n",
    "     - Origin of the visit. It can be Direct, Organic, Paid, Referral or Social Media.  \n",
    "\n",
    "- **VisitorType**: \n",
    "    - Indicates if a costumer returned to the page or not.\n",
    "        - unify 'more' to other or change both to `NaN`?\n",
    "    \n",
    "- **Weekend**\n",
    "    - Indicates if the user entered the wabpage on weekend\n",
    "        - change `object` type to `bool`\n",
    "        - change weekdays to 0 and 1\n",
    "    \n",
    "- **Revenue**: \n",
    "    - Indicates if a client generated income or not\n",
    "       \n",
    "    \n",
    " \n",
    "  \n",
    "\n",
    " \n",
    "\n"
   ]
  },
  {
   "cell_type": "markdown",
   "metadata": {},
   "source": [
    "# Data cleaning"
   ]
  },
  {
   "cell_type": "markdown",
   "metadata": {},
   "source": [
    "## Values correction"
   ]
  },
  {
   "cell_type": "markdown",
   "metadata": {},
   "source": [
    "Following the instructions explained on the previous step, we proceed to clean the DataFrame. We will also save this Dataframe as an unprocessed but clean one."
   ]
  },
  {
   "cell_type": "code",
   "execution_count": 18,
   "metadata": {
    "ExecuteTime": {
     "end_time": "2020-05-08T17:38:08.954831Z",
     "start_time": "2020-05-08T17:38:08.900385Z"
    }
   },
   "outputs": [],
   "source": [
    "data.Administrative = data.Administrative.replace(999.0, np.nan)\n",
    "data.Administrative_Duration = data.Administrative_Duration.replace(['-1.0', '-99'], np.nan)\n",
    "data.Informational_Duration = data.Informational_Duration.replace(['-1.0', 'None'], np.nan)\n",
    "data.ProductRelated_Duration = data.ProductRelated_Duration.replace(-1.000000, np.nan)\n",
    "data.PageValues = data.PageValues.replace('#Nan', np.nan)\n",
    "data.Month = data.Month.str.replace('MAY', 'May').str.replace('March', 'Mar')\n",
    "data.OperatingSystems = data.OperatingSystems.replace(['-999', '?'], np.nan)\n",
    "data.Browser = data.Browser.replace(-1.0, np.nan)\n",
    "data.Region = data.Region.replace('Nan', np.nan)\n",
    "data.VisitorType = data.VisitorType.str.replace('More', 'Other').replace('Other', np.nan)\n",
    "data.Weekend = data.Weekend.replace({'Tuesday' : '0.0', 'Monday': '0.0', 'Friday': '0.0', 'Sunday': '1.0'})"
   ]
  },
  {
   "cell_type": "markdown",
   "metadata": {},
   "source": [
    "## Data Types correction"
   ]
  },
  {
   "cell_type": "markdown",
   "metadata": {},
   "source": [
    "Some columns had wrong data types due to pandas import. Some columns had string character on numeric columns so they were converted to object. We're fixing this:"
   ]
  },
  {
   "cell_type": "code",
   "execution_count": 19,
   "metadata": {
    "ExecuteTime": {
     "end_time": "2020-05-08T17:38:09.034883Z",
     "start_time": "2020-05-08T17:38:08.957429Z"
    }
   },
   "outputs": [],
   "source": [
    "to_object = ['Month', 'OperatingSystems', 'Browser', 'Region', 'TrafficType', 'VisitorType', \n",
    "             'Weekend', 'Revenue']\n",
    "\n",
    "to_float = ['Administrative', 'Administrative_Duration', 'Informational', 'Informational_Duration', 'ProductRelated', \n",
    "            'ProductRelated_Duration', 'BounceRates', 'ExitRates', 'PageValues', 'SpecialDay']\n",
    "\n",
    "data[to_object] = data[to_object].astype('object')\n",
    "\n",
    "data[to_float] = data[to_float].apply(pd.to_numeric, errors='coerce')"
   ]
  },
  {
   "cell_type": "markdown",
   "metadata": {},
   "source": [
    "## NA Treatment"
   ]
  },
  {
   "cell_type": "markdown",
   "metadata": {},
   "source": [
    "Due to the pipeline of our project, we won't fill the NA values since we'll be treating them with the sklearn methods in the future. "
   ]
  },
  {
   "cell_type": "code",
   "execution_count": 20,
   "metadata": {
    "ExecuteTime": {
     "end_time": "2020-05-08T17:38:09.043644Z",
     "start_time": "2020-05-08T17:38:09.036467Z"
    }
   },
   "outputs": [],
   "source": [
    "clean = data.copy()"
   ]
  },
  {
   "cell_type": "code",
   "execution_count": 21,
   "metadata": {
    "ExecuteTime": {
     "end_time": "2020-05-08T17:38:09.056583Z",
     "start_time": "2020-05-08T17:38:09.045286Z"
    }
   },
   "outputs": [
    {
     "data": {
      "text/plain": [
       "Administrative             134\n",
       "Administrative_Duration    167\n",
       "Informational               14\n",
       "Informational_Duration     146\n",
       "ProductRelated             134\n",
       "ProductRelated_Duration     47\n",
       "BounceRates                114\n",
       "ExitRates                   14\n",
       "PageValues                 120\n",
       "SpecialDay                   0\n",
       "Month                        0\n",
       "OperatingSystems           119\n",
       "Browser                    120\n",
       "Region                     120\n",
       "TrafficType                120\n",
       "VisitorType                204\n",
       "Weekend                     20\n",
       "Revenue                      0\n",
       "dtype: int64"
      ]
     },
     "execution_count": 21,
     "metadata": {},
     "output_type": "execute_result"
    }
   ],
   "source": [
    "clean.isna().sum()"
   ]
  },
  {
   "cell_type": "markdown",
   "metadata": {},
   "source": [
    "## Exporting"
   ]
  },
  {
   "cell_type": "code",
   "execution_count": 22,
   "metadata": {
    "ExecuteTime": {
     "end_time": "2020-05-08T17:38:09.251564Z",
     "start_time": "2020-05-08T17:38:09.061258Z"
    }
   },
   "outputs": [],
   "source": [
    "# clean.to_csv('df_clean.csv')"
   ]
  },
  {
   "cell_type": "markdown",
   "metadata": {
    "ExecuteTime": {
     "end_time": "2020-05-08T14:49:28.654862Z",
     "start_time": "2020-05-08T14:49:28.652315Z"
    }
   },
   "source": [
    "# Data Transformation"
   ]
  },
  {
   "cell_type": "markdown",
   "metadata": {},
   "source": [
    "Since we're performing some Machine Learning algorithms on our data, there are some transformations we need to do in order to be able to train our models."
   ]
  },
  {
   "cell_type": "markdown",
   "metadata": {},
   "source": [
    "## Transforming columns"
   ]
  },
  {
   "cell_type": "markdown",
   "metadata": {},
   "source": [
    "Adding a column from VisitorType transforming it's content into boolean: 1 is_returning, 0 is_new\n"
   ]
  },
  {
   "cell_type": "code",
   "execution_count": 23,
   "metadata": {
    "ExecuteTime": {
     "end_time": "2020-05-08T17:38:09.269945Z",
     "start_time": "2020-05-08T17:38:09.260379Z"
    }
   },
   "outputs": [],
   "source": [
    "clean['Visitor_isReturning'] = clean['VisitorType'].replace('Returning_Visitor', 1).replace('New_Visitor', 0)\n"
   ]
  },
  {
   "cell_type": "markdown",
   "metadata": {
    "ExecuteTime": {
     "end_time": "2020-05-08T16:18:53.006071Z",
     "start_time": "2020-05-08T16:18:53.003786Z"
    }
   },
   "source": [
    "##### Operating Systems"
   ]
  },
  {
   "cell_type": "markdown",
   "metadata": {},
   "source": [
    " In Python, it's a good practice to typecast categorical features to a category dtype because they make the operations on such columns much faster than the object dtype.\n",
    " \n",
    " Let's apply a lambda function to classify our relevant values. After the visualization we can see that in Operating Systems we have categorical variables with few values and it's possible to reagrupate these values in a categorical variable called 'other'"
   ]
  },
  {
   "cell_type": "code",
   "execution_count": 24,
   "metadata": {
    "ExecuteTime": {
     "end_time": "2020-05-08T17:38:09.286098Z",
     "start_time": "2020-05-08T17:38:09.272799Z"
    }
   },
   "outputs": [
    {
     "data": {
      "text/plain": [
       "2    6542\n",
       "1    2556\n",
       "3    2531\n",
       "4     471\n",
       "8      79\n",
       "6      19\n",
       "7       7\n",
       "5       6\n",
       "Name: OperatingSystems, dtype: int64"
      ]
     },
     "execution_count": 24,
     "metadata": {},
     "output_type": "execute_result"
    }
   ],
   "source": [
    "clean['OperatingSystems'] = clean['OperatingSystems'].astype('category')\n",
    "#clean.OperatingSystems.dtypes \n",
    "op_no_relevant_values = [5, 6, 7, 8]\n",
    "clean.OperatingSystems = clean.OperatingSystems.apply(lambda x: 99 if x in op_no_relevant_values else x)\n",
    "clean.OperatingSystems.value_counts()"
   ]
  },
  {
   "cell_type": "markdown",
   "metadata": {},
   "source": [
    "Applying a lambda function, we can see the 'other' values. If we do a .value_counts() can certify that our values are the same values than before. So, we are maintaining the data but with a better classification."
   ]
  },
  {
   "cell_type": "markdown",
   "metadata": {},
   "source": [
    "We can apply the same reasoning for the other categorical columns we want to transform"
   ]
  },
  {
   "cell_type": "markdown",
   "metadata": {},
   "source": [
    "##### Browser"
   ]
  },
  {
   "cell_type": "code",
   "execution_count": 25,
   "metadata": {
    "ExecuteTime": {
     "end_time": "2020-05-08T17:38:09.302898Z",
     "start_time": "2020-05-08T17:38:09.287986Z"
    }
   },
   "outputs": [],
   "source": [
    "brwsr_no_relevant_values = [3, 7, 9, 11, 12, 13]\n",
    "clean.Browser = clean.Browser.apply(lambda x: 99 if x in brwsr_no_relevant_values else x)"
   ]
  },
  {
   "cell_type": "markdown",
   "metadata": {},
   "source": [
    "###### TrafficType"
   ]
  },
  {
   "cell_type": "code",
   "execution_count": 26,
   "metadata": {
    "ExecuteTime": {
     "end_time": "2020-05-08T17:38:09.316164Z",
     "start_time": "2020-05-08T17:38:09.305390Z"
    }
   },
   "outputs": [],
   "source": [
    "ttype_no_relevant_values = [7, 12, 14, 15, 16, 17, 18, 19]\n",
    "clean.TrafficType = clean.TrafficType.apply(lambda x: 99 if x in ttype_no_relevant_values else x)"
   ]
  },
  {
   "cell_type": "markdown",
   "metadata": {},
   "source": [
    "We've finished with the preparation of our data. It's now prepared for all the steps needed for predicting values with machine learning, so we'll also save a copy of this dataframe as encoded:"
   ]
  },
  {
   "cell_type": "code",
   "execution_count": 27,
   "metadata": {
    "ExecuteTime": {
     "end_time": "2020-05-08T17:38:09.553580Z",
     "start_time": "2020-05-08T17:38:09.318875Z"
    }
   },
   "outputs": [],
   "source": [
    "# clean.to_csv('df_transformed.csv')"
   ]
  }
 ],
 "metadata": {
  "kernelspec": {
   "display_name": "Python 3",
   "language": "python",
   "name": "python3"
  },
  "language_info": {
   "codemirror_mode": {
    "name": "ipython",
    "version": 3
   },
   "file_extension": ".py",
   "mimetype": "text/x-python",
   "name": "python",
   "nbconvert_exporter": "python",
   "pygments_lexer": "ipython3",
   "version": "3.7.4"
  },
  "toc": {
   "base_numbering": 1,
   "nav_menu": {},
   "number_sections": true,
   "sideBar": true,
   "skip_h1_title": false,
   "title_cell": "Table of Contents",
   "title_sidebar": "Contents",
   "toc_cell": false,
   "toc_position": {
    "height": "calc(100% - 180px)",
    "left": "10px",
    "top": "150px",
    "width": "320px"
   },
   "toc_section_display": true,
   "toc_window_display": true
  },
  "varInspector": {
   "cols": {
    "lenName": 16,
    "lenType": 16,
    "lenVar": 40
   },
   "kernels_config": {
    "python": {
     "delete_cmd_postfix": "",
     "delete_cmd_prefix": "del ",
     "library": "var_list.py",
     "varRefreshCmd": "print(var_dic_list())"
    },
    "r": {
     "delete_cmd_postfix": ") ",
     "delete_cmd_prefix": "rm(",
     "library": "var_list.r",
     "varRefreshCmd": "cat(var_dic_list()) "
    }
   },
   "types_to_exclude": [
    "module",
    "function",
    "builtin_function_or_method",
    "instance",
    "_Feature"
   ],
   "window_display": false
  }
 },
 "nbformat": 4,
 "nbformat_minor": 4
}
