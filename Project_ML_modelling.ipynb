{
 "cells": [
  {
   "cell_type": "markdown",
   "metadata": {},
   "source": [
    "# Imports"
   ]
  },
  {
   "cell_type": "markdown",
   "metadata": {},
   "source": [
    "## Libraries"
   ]
  },
  {
   "cell_type": "code",
   "execution_count": 1,
   "metadata": {
    "ExecuteTime": {
     "end_time": "2020-05-08T23:57:54.366361Z",
     "start_time": "2020-05-08T23:57:51.964897Z"
    }
   },
   "outputs": [
    {
     "name": "stderr",
     "output_type": "stream",
     "text": [
      "Using TensorFlow backend.\n",
      "/opt/anaconda3/lib/python3.7/site-packages/tensorflow/python/framework/dtypes.py:526: FutureWarning: Passing (type, 1) or '1type' as a synonym of type is deprecated; in a future version of numpy, it will be understood as (type, (1,)) / '(1,)type'.\n",
      "  _np_qint8 = np.dtype([(\"qint8\", np.int8, 1)])\n",
      "/opt/anaconda3/lib/python3.7/site-packages/tensorflow/python/framework/dtypes.py:527: FutureWarning: Passing (type, 1) or '1type' as a synonym of type is deprecated; in a future version of numpy, it will be understood as (type, (1,)) / '(1,)type'.\n",
      "  _np_quint8 = np.dtype([(\"quint8\", np.uint8, 1)])\n",
      "/opt/anaconda3/lib/python3.7/site-packages/tensorflow/python/framework/dtypes.py:528: FutureWarning: Passing (type, 1) or '1type' as a synonym of type is deprecated; in a future version of numpy, it will be understood as (type, (1,)) / '(1,)type'.\n",
      "  _np_qint16 = np.dtype([(\"qint16\", np.int16, 1)])\n",
      "/opt/anaconda3/lib/python3.7/site-packages/tensorflow/python/framework/dtypes.py:529: FutureWarning: Passing (type, 1) or '1type' as a synonym of type is deprecated; in a future version of numpy, it will be understood as (type, (1,)) / '(1,)type'.\n",
      "  _np_quint16 = np.dtype([(\"quint16\", np.uint16, 1)])\n",
      "/opt/anaconda3/lib/python3.7/site-packages/tensorflow/python/framework/dtypes.py:530: FutureWarning: Passing (type, 1) or '1type' as a synonym of type is deprecated; in a future version of numpy, it will be understood as (type, (1,)) / '(1,)type'.\n",
      "  _np_qint32 = np.dtype([(\"qint32\", np.int32, 1)])\n",
      "/opt/anaconda3/lib/python3.7/site-packages/tensorflow/python/framework/dtypes.py:535: FutureWarning: Passing (type, 1) or '1type' as a synonym of type is deprecated; in a future version of numpy, it will be understood as (type, (1,)) / '(1,)type'.\n",
      "  np_resource = np.dtype([(\"resource\", np.ubyte, 1)])\n"
     ]
    }
   ],
   "source": [
    "import random ################can delete thsi when have sosas csv\n",
    "\n",
    "import pandas as pd\n",
    "import numpy as np\n",
    "import seaborn as sns\n",
    "import matplotlib.pyplot as plt\n",
    "from sklearn.preprocessing import LabelEncoder, OneHotEncoder\n",
    "from imblearn.under_sampling import NearMiss\n",
    "from sklearn.model_selection import train_test_split, GridSearchCV, StratifiedKFold, cross_val_score \n",
    "from sklearn.preprocessing import StandardScaler\n",
    "from sklearn.metrics import confusion_matrix, classification_report\n",
    "from sklearn.metrics import accuracy_score, precision_score, recall_score, f1_score, log_loss\n",
    "from sklearn.metrics import auc, roc_curve, roc_auc_score, precision_recall_curve\n",
    "from sklearn.model_selection import GridSearchCV\n",
    "import re\n",
    "import sklearn\n",
    "from sklearn.linear_model import LogisticRegression\n",
    "from sklearn.model_selection import train_test_split \n",
    "from sklearn.preprocessing import scale\n",
    "from sklearn.metrics import confusion_matrix, classification_report\n",
    "from sklearn.metrics import accuracy_score, precision_score, recall_score, f1_score, log_loss\n",
    "from sklearn.metrics import auc, roc_curve, roc_auc_score, precision_recall_curve\n",
    "from sklearn.metrics import confusion_matrix\n",
    "import random\n",
    "from sklearn.svm import LinearSVC\n",
    "from imblearn.pipeline import Pipeline\n",
    "from sklearn.model_selection import RepeatedStratifiedKFold\n",
    "from sklearn.linear_model import LogisticRegression\n",
    "from sklearn.neighbors import KNeighborsClassifier\n",
    "from sklearn.naive_bayes import GaussianNB, BernoulliNB, MultinomialNB\n",
    "from sklearn.tree import DecisionTreeClassifier\n",
    "from sklearn.ensemble import RandomForestClassifier\n",
    "from sklearn.svm import LinearSVC, SVC\n",
    "from sklearn.compose import ColumnTransformer\n",
    "from sklearn.preprocessing import StandardScaler\n",
    "from sklearn.decomposition import PCA\n"
   ]
  },
  {
   "cell_type": "code",
   "execution_count": 2,
   "metadata": {
    "ExecuteTime": {
     "end_time": "2020-05-08T23:57:54.371187Z",
     "start_time": "2020-05-08T23:57:54.368349Z"
    }
   },
   "outputs": [],
   "source": [
    "plt.rcParams[\"figure.figsize\"] = (10, 10)"
   ]
  },
  {
   "cell_type": "code",
   "execution_count": 3,
   "metadata": {
    "ExecuteTime": {
     "end_time": "2020-05-08T23:57:54.376242Z",
     "start_time": "2020-05-08T23:57:54.373184Z"
    }
   },
   "outputs": [],
   "source": [
    "import warnings\n",
    "warnings.filterwarnings('ignore')\n",
    "warnings.simplefilter('ignore')"
   ]
  },
  {
   "cell_type": "markdown",
   "metadata": {},
   "source": [
    "## Functions"
   ]
  },
  {
   "cell_type": "code",
   "execution_count": 4,
   "metadata": {
    "ExecuteTime": {
     "end_time": "2020-05-08T23:57:54.390502Z",
     "start_time": "2020-05-08T23:57:54.378082Z"
    }
   },
   "outputs": [],
   "source": [
    "def baseline_report(model, X_train, X_test, y_train, y_test, name):\n",
    "    \"\"\"\n",
    "    The function takes the model, the split data and the name and returns the dataframe with\n",
    "    the scores of the models with training and test data.\n",
    "    \"\"\"\n",
    "    strat_k_fold = StratifiedKFold(n_splits=5, shuffle=True)\n",
    "    model.fit(X_train, y_train)\n",
    "    accuracy     = np.mean(cross_val_score(model, X_train, y_train, cv=strat_k_fold, scoring='accuracy'))\n",
    "    precision    = np.mean(cross_val_score(model, X_train, y_train, cv=strat_k_fold, scoring='precision'))\n",
    "    recall       = np.mean(cross_val_score(model, X_train, y_train, cv=strat_k_fold, scoring='recall'))\n",
    "    f1score      = np.mean(cross_val_score(model, X_train, y_train, cv=strat_k_fold, scoring='f1'))\n",
    "    rocauc       = np.mean(cross_val_score(model, X_train, y_train, cv=strat_k_fold, scoring='roc_auc'))\n",
    "    y_pred_train = model.predict(X_train)\n",
    "    logloss      = log_loss(y_train, y_pred_train)\n",
    "\n",
    "    df_model_train = pd.DataFrame({'data'        : 'training',\n",
    "                             'model'        : [name],\n",
    "                             'accuracy'     : [accuracy],\n",
    "                             'precision'    : [precision],\n",
    "                             'recall'       : [recall],\n",
    "                             'f1score'      : [f1score],\n",
    "                             'rocauc'       : [rocauc],\n",
    "                             'logloss'      : [logloss]})\n",
    "    \n",
    "    accuracy     = np.mean(cross_val_score(model, X_test, y_test, cv=strat_k_fold, scoring='accuracy'))\n",
    "    precision    = np.mean(cross_val_score(model, X_test, y_test, cv=strat_k_fold, scoring='precision'))\n",
    "    recall       = np.mean(cross_val_score(model, X_test, y_test, cv=strat_k_fold, scoring='recall'))\n",
    "    f1score      = np.mean(cross_val_score(model, X_test, y_test, cv=strat_k_fold, scoring='f1'))\n",
    "    rocauc       = np.mean(cross_val_score(model, X_test, y_test, cv=strat_k_fold, scoring='roc_auc'))\n",
    "    y_pred_test = model.predict(X_test)\n",
    "    logloss      = log_loss(y_test, y_pred_test)   # SVC & LinearSVC unable to use cvs\n",
    "\n",
    "    df_model_test = pd.DataFrame({'data'        : 'test',\n",
    "                             'model'        : [name],\n",
    "                             'accuracy'     : [accuracy],\n",
    "                             'precision'    : [precision],\n",
    "                             'recall'       : [recall],\n",
    "                             'f1score'      : [f1score],\n",
    "                             'rocauc'       : [rocauc],\n",
    "                             'logloss'      : [logloss]})   # timetaken: to be used for comparison later\n",
    "    \n",
    "    df_model = pd.concat([df_model_train, df_model_test], ignore_index=True)\n",
    "\n",
    "    return df_model"
   ]
  },
  {
   "cell_type": "code",
   "execution_count": 5,
   "metadata": {
    "ExecuteTime": {
     "end_time": "2020-05-08T23:57:54.399197Z",
     "start_time": "2020-05-08T23:57:54.392936Z"
    }
   },
   "outputs": [],
   "source": [
    "def plot_feature_importances(model, df):\n",
    "    \"\"\"\n",
    "    The function takes the model and the dataframe and returns graph showing the importance of\n",
    "    the features.\n",
    "    \"\"\"\n",
    "    names = df.columns[model.feature_importances_.argsort()]\n",
    "    model.feature_importances_.sort()\n",
    "    plt.figure(figsize=(15,15))\n",
    "    n_features = len(names)\n",
    "    plt.barh(range(n_features), np.sort(model.feature_importances_), align='center')\n",
    "    plt.yticks(np.arange(n_features), names)\n",
    "    plt.xlabel(\"Feature importance\")\n",
    "    plt.ylabel(\"Feature\")\n",
    "    plt.ylim(-1, n_features)"
   ]
  },
  {
   "cell_type": "code",
   "execution_count": 6,
   "metadata": {
    "ExecuteTime": {
     "end_time": "2020-05-08T23:57:54.406323Z",
     "start_time": "2020-05-08T23:57:54.401770Z"
    }
   },
   "outputs": [],
   "source": [
    "def results_defaut(main_model_results, compare_model_results_hyp):\n",
    "    \"\"\"\n",
    "    Function takes main model results with default values and model to compare results after the\n",
    "    hyperparameter tuning and returns the comparison of the results.\n",
    "    \"\"\"\n",
    "    print(f'{main_model_results.iloc[1][\"model\"]} is giving us the F1 score of {round(main_model_results.iloc[1][\"f1score\"], 3)} on the test data.')\n",
    "\n",
    "    if main_model_results.iloc[1][\"f1score\"] > compare_model_results_hyp.iloc[1][\"f1score\"]:\n",
    "          print(f'{main_model_results.iloc[1][\"model\"]} improves the result from {compare_model_results_hyp.iloc[1][\"model\"]} (score: {round(compare_model_results_hyp.iloc[1][\"f1score\"], 3)})')\n",
    "    else:\n",
    "          print(f'{main_model_results.iloc[1][\"model\"]} does not imporve the score from {compare_model_results_hyp.iloc[1][\"model\"]} (score: {round(compare_model_results_hyp.iloc[1][\"f1score\"], 3)}')\n"
   ]
  },
  {
   "cell_type": "code",
   "execution_count": 7,
   "metadata": {
    "ExecuteTime": {
     "end_time": "2020-05-08T23:57:54.414600Z",
     "start_time": "2020-05-08T23:57:54.407928Z"
    }
   },
   "outputs": [],
   "source": [
    "def results_after_hyp(main_model_results_hyp, main_model_results, compare_model_results_hyp):\n",
    "    \"\"\"\n",
    "    Function takes main model results before and after the hyperparameter tuning \n",
    "    and model to compare results after the hyperparameter tuning \n",
    "    and returns the comparison of the results.\n",
    "    \"\"\"\n",
    "    print(f'{main_model_results_hyp.iloc[1][\"model\"]} is giving us the F1 score of {round(main_model_results_hyp.iloc[1][\"f1score\"], 3)} on the test data.')\n",
    "\n",
    "    if main_model_results_hyp.iloc[1][\"f1score\"] > main_model_results.iloc[1][\"f1score\"]:\n",
    "        print(f'Hyperparameter tuning imporved our score from {round(main_model_results.iloc[1][\"f1score\"], 3)} to {round(main_model_results_hyp.iloc[1][\"f1score\"], 3)}')\n",
    "    else:\n",
    "        print(f'Our score after the hyperparameter tuning changed from {round(main_model_results.iloc[1][\"f1score\"], 3)} to {round(main_model_results_hyp.iloc[1][\"f1score\"], 3)}')\n",
    "\n",
    "    if main_model_results_hyp.iloc[1][\"f1score\"] > compare_model_results_hyp.iloc[1][\"f1score\"]:\n",
    "          print(f'{main_model_results_hyp.iloc[1][\"model\"]} improves the result from {compare_model_results_hyp.iloc[1][\"model\"]} (score: {round(compare_model_results_hyp.iloc[1][\"f1score\"], 3)})')\n",
    "    else:\n",
    "          print(f'{main_model_results_hyp.iloc[1][\"model\"]} does not imporve the score from {compare_model_results_hyp.iloc[1][\"model\"]} (score: {round(compare_model_results_hyp.iloc[1][\"f1score\"], 3)})')"
   ]
  },
  {
   "cell_type": "markdown",
   "metadata": {},
   "source": [
    "## Data"
   ]
  },
  {
   "cell_type": "markdown",
   "metadata": {},
   "source": [
    "In this section, we will be working with the clean and transformed dataframe (errors and NaN values were handled in the previous step)."
   ]
  },
  {
   "cell_type": "code",
   "execution_count": 8,
   "metadata": {
    "ExecuteTime": {
     "end_time": "2020-05-08T23:57:54.453399Z",
     "start_time": "2020-05-08T23:57:54.419105Z"
    }
   },
   "outputs": [],
   "source": [
    "# Loading clean and transformed dataframe\n",
    "\n",
    "df = pd.read_csv('data/df_clean.csv', sep=',', index_col=0)"
   ]
  },
  {
   "cell_type": "markdown",
   "metadata": {},
   "source": [
    "Investigating data to see what changes have to be done before moving to the modeling."
   ]
  },
  {
   "cell_type": "code",
   "execution_count": 9,
   "metadata": {
    "ExecuteTime": {
     "end_time": "2020-05-08T23:57:54.476724Z",
     "start_time": "2020-05-08T23:57:54.455511Z"
    }
   },
   "outputs": [
    {
     "data": {
      "text/html": [
       "<div>\n",
       "<style scoped>\n",
       "    .dataframe tbody tr th:only-of-type {\n",
       "        vertical-align: middle;\n",
       "    }\n",
       "\n",
       "    .dataframe tbody tr th {\n",
       "        vertical-align: top;\n",
       "    }\n",
       "\n",
       "    .dataframe thead th {\n",
       "        text-align: right;\n",
       "    }\n",
       "</style>\n",
       "<table border=\"1\" class=\"dataframe\">\n",
       "  <thead>\n",
       "    <tr style=\"text-align: right;\">\n",
       "      <th></th>\n",
       "      <th>Administrative</th>\n",
       "      <th>Administrative_Duration</th>\n",
       "      <th>Informational</th>\n",
       "      <th>Informational_Duration</th>\n",
       "      <th>ProductRelated</th>\n",
       "      <th>ProductRelated_Duration</th>\n",
       "      <th>BounceRates</th>\n",
       "      <th>ExitRates</th>\n",
       "      <th>PageValues</th>\n",
       "      <th>SpecialDay</th>\n",
       "      <th>Month</th>\n",
       "      <th>OperatingSystems</th>\n",
       "      <th>Browser</th>\n",
       "      <th>Region</th>\n",
       "      <th>TrafficType</th>\n",
       "      <th>VisitorType</th>\n",
       "      <th>Weekend</th>\n",
       "      <th>Revenue</th>\n",
       "      <th>Visitor_isReturning</th>\n",
       "    </tr>\n",
       "  </thead>\n",
       "  <tbody>\n",
       "    <tr>\n",
       "      <td>0</td>\n",
       "      <td>0.0</td>\n",
       "      <td>0.0</td>\n",
       "      <td>0.0</td>\n",
       "      <td>0.0</td>\n",
       "      <td>1.0</td>\n",
       "      <td>0.000000</td>\n",
       "      <td>0.20</td>\n",
       "      <td>0.20</td>\n",
       "      <td>0.0</td>\n",
       "      <td>0.0</td>\n",
       "      <td>Feb</td>\n",
       "      <td>1.0</td>\n",
       "      <td>1.0</td>\n",
       "      <td>1</td>\n",
       "      <td>1.0</td>\n",
       "      <td>Returning_Visitor</td>\n",
       "      <td>0.0</td>\n",
       "      <td>False</td>\n",
       "      <td>1</td>\n",
       "    </tr>\n",
       "    <tr>\n",
       "      <td>1</td>\n",
       "      <td>0.0</td>\n",
       "      <td>0.0</td>\n",
       "      <td>0.0</td>\n",
       "      <td>0.0</td>\n",
       "      <td>2.0</td>\n",
       "      <td>64.000000</td>\n",
       "      <td>0.00</td>\n",
       "      <td>0.10</td>\n",
       "      <td>0.0</td>\n",
       "      <td>0.0</td>\n",
       "      <td>Feb</td>\n",
       "      <td>2.0</td>\n",
       "      <td>2.0</td>\n",
       "      <td>1</td>\n",
       "      <td>2.0</td>\n",
       "      <td>Returning_Visitor</td>\n",
       "      <td>0.0</td>\n",
       "      <td>False</td>\n",
       "      <td>1</td>\n",
       "    </tr>\n",
       "    <tr>\n",
       "      <td>2</td>\n",
       "      <td>0.0</td>\n",
       "      <td>0.0</td>\n",
       "      <td>0.0</td>\n",
       "      <td>0.0</td>\n",
       "      <td>1.0</td>\n",
       "      <td>64.000000</td>\n",
       "      <td>0.20</td>\n",
       "      <td>0.20</td>\n",
       "      <td>0.0</td>\n",
       "      <td>0.0</td>\n",
       "      <td>Feb</td>\n",
       "      <td>4.0</td>\n",
       "      <td>1.0</td>\n",
       "      <td>9</td>\n",
       "      <td>3.0</td>\n",
       "      <td>Returning_Visitor</td>\n",
       "      <td>0.0</td>\n",
       "      <td>False</td>\n",
       "      <td>1</td>\n",
       "    </tr>\n",
       "    <tr>\n",
       "      <td>3</td>\n",
       "      <td>0.0</td>\n",
       "      <td>0.0</td>\n",
       "      <td>0.0</td>\n",
       "      <td>0.0</td>\n",
       "      <td>2.0</td>\n",
       "      <td>2.666667</td>\n",
       "      <td>0.05</td>\n",
       "      <td>0.14</td>\n",
       "      <td>0.0</td>\n",
       "      <td>0.0</td>\n",
       "      <td>Feb</td>\n",
       "      <td>3.0</td>\n",
       "      <td>2.0</td>\n",
       "      <td>2</td>\n",
       "      <td>4.0</td>\n",
       "      <td>Returning_Visitor</td>\n",
       "      <td>0.0</td>\n",
       "      <td>False</td>\n",
       "      <td>1</td>\n",
       "    </tr>\n",
       "    <tr>\n",
       "      <td>4</td>\n",
       "      <td>0.0</td>\n",
       "      <td>0.0</td>\n",
       "      <td>0.0</td>\n",
       "      <td>0.0</td>\n",
       "      <td>10.0</td>\n",
       "      <td>627.500000</td>\n",
       "      <td>0.02</td>\n",
       "      <td>0.05</td>\n",
       "      <td>0.0</td>\n",
       "      <td>0.0</td>\n",
       "      <td>Feb</td>\n",
       "      <td>3.0</td>\n",
       "      <td>99.0</td>\n",
       "      <td>1</td>\n",
       "      <td>4.0</td>\n",
       "      <td>Returning_Visitor</td>\n",
       "      <td>1.0</td>\n",
       "      <td>False</td>\n",
       "      <td>1</td>\n",
       "    </tr>\n",
       "  </tbody>\n",
       "</table>\n",
       "</div>"
      ],
      "text/plain": [
       "   Administrative  Administrative_Duration  Informational  \\\n",
       "0             0.0                      0.0            0.0   \n",
       "1             0.0                      0.0            0.0   \n",
       "2             0.0                      0.0            0.0   \n",
       "3             0.0                      0.0            0.0   \n",
       "4             0.0                      0.0            0.0   \n",
       "\n",
       "   Informational_Duration  ProductRelated  ProductRelated_Duration  \\\n",
       "0                     0.0             1.0                 0.000000   \n",
       "1                     0.0             2.0                64.000000   \n",
       "2                     0.0             1.0                64.000000   \n",
       "3                     0.0             2.0                 2.666667   \n",
       "4                     0.0            10.0               627.500000   \n",
       "\n",
       "   BounceRates  ExitRates  PageValues  SpecialDay Month  OperatingSystems  \\\n",
       "0         0.20       0.20         0.0         0.0   Feb               1.0   \n",
       "1         0.00       0.10         0.0         0.0   Feb               2.0   \n",
       "2         0.20       0.20         0.0         0.0   Feb               4.0   \n",
       "3         0.05       0.14         0.0         0.0   Feb               3.0   \n",
       "4         0.02       0.05         0.0         0.0   Feb               3.0   \n",
       "\n",
       "   Browser  Region  TrafficType        VisitorType  Weekend  Revenue  \\\n",
       "0      1.0       1          1.0  Returning_Visitor      0.0    False   \n",
       "1      2.0       1          2.0  Returning_Visitor      0.0    False   \n",
       "2      1.0       9          3.0  Returning_Visitor      0.0    False   \n",
       "3      2.0       2          4.0  Returning_Visitor      0.0    False   \n",
       "4     99.0       1          4.0  Returning_Visitor      1.0    False   \n",
       "\n",
       "   Visitor_isReturning  \n",
       "0                    1  \n",
       "1                    1  \n",
       "2                    1  \n",
       "3                    1  \n",
       "4                    1  "
      ]
     },
     "execution_count": 9,
     "metadata": {},
     "output_type": "execute_result"
    }
   ],
   "source": [
    "# Checking if imported data is correct\n",
    "\n",
    "df.head()"
   ]
  },
  {
   "cell_type": "code",
   "execution_count": 10,
   "metadata": {
    "ExecuteTime": {
     "end_time": "2020-05-08T23:57:54.484338Z",
     "start_time": "2020-05-08T23:57:54.478633Z"
    }
   },
   "outputs": [
    {
     "data": {
      "text/plain": [
       "Administrative             float64\n",
       "Administrative_Duration    float64\n",
       "Informational              float64\n",
       "Informational_Duration     float64\n",
       "ProductRelated             float64\n",
       "ProductRelated_Duration    float64\n",
       "BounceRates                float64\n",
       "ExitRates                  float64\n",
       "PageValues                 float64\n",
       "SpecialDay                 float64\n",
       "Month                       object\n",
       "OperatingSystems           float64\n",
       "Browser                    float64\n",
       "Region                       int64\n",
       "TrafficType                float64\n",
       "VisitorType                 object\n",
       "Weekend                    float64\n",
       "Revenue                       bool\n",
       "Visitor_isReturning          int64\n",
       "dtype: object"
      ]
     },
     "execution_count": 10,
     "metadata": {},
     "output_type": "execute_result"
    }
   ],
   "source": [
    "# Checking the types of the variables\n",
    "\n",
    "df.dtypes"
   ]
  },
  {
   "cell_type": "markdown",
   "metadata": {},
   "source": [
    "From this short investigation, we have identified that there are several categorical variables that will need to be encoded before using data with the models."
   ]
  },
  {
   "cell_type": "markdown",
   "metadata": {},
   "source": [
    "# Prepare Training Data"
   ]
  },
  {
   "cell_type": "markdown",
   "metadata": {},
   "source": [
    "## Data Transformation"
   ]
  },
  {
   "cell_type": "markdown",
   "metadata": {},
   "source": [
    "A good technique for evaluating performance is generating a random values column. We're inserting random value column as measure of feature importance. If a feature has less score that this random generated column, it's a sign of its poor significance in our data."
   ]
  },
  {
   "cell_type": "code",
   "execution_count": 11,
   "metadata": {
    "ExecuteTime": {
     "end_time": "2020-05-08T23:57:54.491342Z",
     "start_time": "2020-05-08T23:57:54.485773Z"
    }
   },
   "outputs": [],
   "source": [
    "rand = [random.random() for i in range(len(df))]\n",
    "df['random'] = rand"
   ]
  },
  {
   "cell_type": "markdown",
   "metadata": {},
   "source": [
    "We are also eliminating 'PageValues' from the independent variables because (as identified in the previous steps) it is too dependent on the outcome and it will not be possible to use it in the prediction."
   ]
  },
  {
   "cell_type": "code",
   "execution_count": 12,
   "metadata": {
    "ExecuteTime": {
     "end_time": "2020-05-08T23:57:54.499634Z",
     "start_time": "2020-05-08T23:57:54.493106Z"
    }
   },
   "outputs": [],
   "source": [
    "df = df.drop('PageValues', axis=1)"
   ]
  },
  {
   "cell_type": "markdown",
   "metadata": {},
   "source": [
    "## Data Encoding"
   ]
  },
  {
   "cell_type": "markdown",
   "metadata": {},
   "source": [
    "We're encoding categorical variables to be able to use them in the models of machine learning.\n"
   ]
  },
  {
   "cell_type": "markdown",
   "metadata": {},
   "source": [
    "### Label Encoder"
   ]
  },
  {
   "cell_type": "markdown",
   "metadata": {},
   "source": [
    "We will be using the Label Encoder for the columns 'Revenue' and 'Weekend'. These columns have only two categories meaning that we don't need to create different columns to encode the values."
   ]
  },
  {
   "cell_type": "code",
   "execution_count": 13,
   "metadata": {
    "ExecuteTime": {
     "end_time": "2020-05-08T23:57:54.507405Z",
     "start_time": "2020-05-08T23:57:54.502025Z"
    }
   },
   "outputs": [],
   "source": [
    "# Creating the instance of labelencoder\n",
    "labelencoder = LabelEncoder()\n",
    "\n",
    "# Assigning the columns\n",
    "cols_label_enc = ['Revenue', 'Weekend']\n",
    "\n",
    "# Creating labels for the columns\n",
    "for col in cols_label_enc:\n",
    "    df[col+'_enc'] = labelencoder.fit_transform(df[col])"
   ]
  },
  {
   "cell_type": "code",
   "execution_count": 14,
   "metadata": {
    "ExecuteTime": {
     "end_time": "2020-05-08T23:57:54.523107Z",
     "start_time": "2020-05-08T23:57:54.508844Z"
    }
   },
   "outputs": [
    {
     "name": "stdout",
     "output_type": "stream",
     "text": [
      "Encoded Revenue values:\n",
      "0    10422\n",
      "1     1908\n",
      "Name: Revenue_enc, dtype: int64\n",
      "\n",
      "Encoded Weekend values:\n",
      "0    9460\n",
      "1    2870\n",
      "Name: Weekend_enc, dtype: int64\n"
     ]
    }
   ],
   "source": [
    "print(f'Encoded Revenue values:\\n{df.Revenue_enc.value_counts()}')\n",
    "print(f'\\nEncoded Weekend values:\\n{df.Weekend_enc.value_counts()}')"
   ]
  },
  {
   "cell_type": "markdown",
   "metadata": {},
   "source": [
    "Checking the value counts of these columns we can see that the values have been encoded to 0 (False) and 1 (True)."
   ]
  },
  {
   "cell_type": "markdown",
   "metadata": {
    "ExecuteTime": {
     "end_time": "2020-05-06T16:29:39.088671Z",
     "start_time": "2020-05-06T16:29:39.085695Z"
    }
   },
   "source": [
    "### OneHotEncoder"
   ]
  },
  {
   "cell_type": "markdown",
   "metadata": {},
   "source": [
    "We will be using OneHotEncoder for 'Month', 'OperatingSystems', 'Region', 'TrafficType' and 'Browser' columns because they have more than two categories, therefore, additional columns have to be created."
   ]
  },
  {
   "cell_type": "code",
   "execution_count": 15,
   "metadata": {
    "ExecuteTime": {
     "end_time": "2020-05-08T23:57:54.583422Z",
     "start_time": "2020-05-08T23:57:54.524698Z"
    }
   },
   "outputs": [
    {
     "data": {
      "text/html": [
       "<div>\n",
       "<style scoped>\n",
       "    .dataframe tbody tr th:only-of-type {\n",
       "        vertical-align: middle;\n",
       "    }\n",
       "\n",
       "    .dataframe tbody tr th {\n",
       "        vertical-align: top;\n",
       "    }\n",
       "\n",
       "    .dataframe thead th {\n",
       "        text-align: right;\n",
       "    }\n",
       "</style>\n",
       "<table border=\"1\" class=\"dataframe\">\n",
       "  <thead>\n",
       "    <tr style=\"text-align: right;\">\n",
       "      <th></th>\n",
       "      <th>Administrative</th>\n",
       "      <th>Administrative_Duration</th>\n",
       "      <th>Informational</th>\n",
       "      <th>Informational_Duration</th>\n",
       "      <th>ProductRelated</th>\n",
       "      <th>ProductRelated_Duration</th>\n",
       "      <th>BounceRates</th>\n",
       "      <th>ExitRates</th>\n",
       "      <th>SpecialDay</th>\n",
       "      <th>Month</th>\n",
       "      <th>...</th>\n",
       "      <th>x0_4.0TrafficType</th>\n",
       "      <th>x0_5.0TrafficType</th>\n",
       "      <th>x0_6.0TrafficType</th>\n",
       "      <th>x0_8.0TrafficType</th>\n",
       "      <th>x0_9.0TrafficType</th>\n",
       "      <th>x0_10.0TrafficType</th>\n",
       "      <th>x0_11.0TrafficType</th>\n",
       "      <th>x0_13.0TrafficType</th>\n",
       "      <th>x0_20.0TrafficType</th>\n",
       "      <th>x0_99.0TrafficType</th>\n",
       "    </tr>\n",
       "  </thead>\n",
       "  <tbody>\n",
       "    <tr>\n",
       "      <td>0</td>\n",
       "      <td>0.0</td>\n",
       "      <td>0.0</td>\n",
       "      <td>0.0</td>\n",
       "      <td>0.0</td>\n",
       "      <td>1.0</td>\n",
       "      <td>0.000000</td>\n",
       "      <td>0.20</td>\n",
       "      <td>0.20</td>\n",
       "      <td>0.0</td>\n",
       "      <td>Feb</td>\n",
       "      <td>...</td>\n",
       "      <td>0.0</td>\n",
       "      <td>0.0</td>\n",
       "      <td>0.0</td>\n",
       "      <td>0.0</td>\n",
       "      <td>0.0</td>\n",
       "      <td>0.0</td>\n",
       "      <td>0.0</td>\n",
       "      <td>0.0</td>\n",
       "      <td>0.0</td>\n",
       "      <td>0.0</td>\n",
       "    </tr>\n",
       "    <tr>\n",
       "      <td>1</td>\n",
       "      <td>0.0</td>\n",
       "      <td>0.0</td>\n",
       "      <td>0.0</td>\n",
       "      <td>0.0</td>\n",
       "      <td>2.0</td>\n",
       "      <td>64.000000</td>\n",
       "      <td>0.00</td>\n",
       "      <td>0.10</td>\n",
       "      <td>0.0</td>\n",
       "      <td>Feb</td>\n",
       "      <td>...</td>\n",
       "      <td>0.0</td>\n",
       "      <td>0.0</td>\n",
       "      <td>0.0</td>\n",
       "      <td>0.0</td>\n",
       "      <td>0.0</td>\n",
       "      <td>0.0</td>\n",
       "      <td>0.0</td>\n",
       "      <td>0.0</td>\n",
       "      <td>0.0</td>\n",
       "      <td>0.0</td>\n",
       "    </tr>\n",
       "    <tr>\n",
       "      <td>2</td>\n",
       "      <td>0.0</td>\n",
       "      <td>0.0</td>\n",
       "      <td>0.0</td>\n",
       "      <td>0.0</td>\n",
       "      <td>1.0</td>\n",
       "      <td>64.000000</td>\n",
       "      <td>0.20</td>\n",
       "      <td>0.20</td>\n",
       "      <td>0.0</td>\n",
       "      <td>Feb</td>\n",
       "      <td>...</td>\n",
       "      <td>0.0</td>\n",
       "      <td>0.0</td>\n",
       "      <td>0.0</td>\n",
       "      <td>0.0</td>\n",
       "      <td>0.0</td>\n",
       "      <td>0.0</td>\n",
       "      <td>0.0</td>\n",
       "      <td>0.0</td>\n",
       "      <td>0.0</td>\n",
       "      <td>0.0</td>\n",
       "    </tr>\n",
       "    <tr>\n",
       "      <td>3</td>\n",
       "      <td>0.0</td>\n",
       "      <td>0.0</td>\n",
       "      <td>0.0</td>\n",
       "      <td>0.0</td>\n",
       "      <td>2.0</td>\n",
       "      <td>2.666667</td>\n",
       "      <td>0.05</td>\n",
       "      <td>0.14</td>\n",
       "      <td>0.0</td>\n",
       "      <td>Feb</td>\n",
       "      <td>...</td>\n",
       "      <td>1.0</td>\n",
       "      <td>0.0</td>\n",
       "      <td>0.0</td>\n",
       "      <td>0.0</td>\n",
       "      <td>0.0</td>\n",
       "      <td>0.0</td>\n",
       "      <td>0.0</td>\n",
       "      <td>0.0</td>\n",
       "      <td>0.0</td>\n",
       "      <td>0.0</td>\n",
       "    </tr>\n",
       "    <tr>\n",
       "      <td>4</td>\n",
       "      <td>0.0</td>\n",
       "      <td>0.0</td>\n",
       "      <td>0.0</td>\n",
       "      <td>0.0</td>\n",
       "      <td>10.0</td>\n",
       "      <td>627.500000</td>\n",
       "      <td>0.02</td>\n",
       "      <td>0.05</td>\n",
       "      <td>0.0</td>\n",
       "      <td>Feb</td>\n",
       "      <td>...</td>\n",
       "      <td>1.0</td>\n",
       "      <td>0.0</td>\n",
       "      <td>0.0</td>\n",
       "      <td>0.0</td>\n",
       "      <td>0.0</td>\n",
       "      <td>0.0</td>\n",
       "      <td>0.0</td>\n",
       "      <td>0.0</td>\n",
       "      <td>0.0</td>\n",
       "      <td>0.0</td>\n",
       "    </tr>\n",
       "  </tbody>\n",
       "</table>\n",
       "<p>5 rows × 66 columns</p>\n",
       "</div>"
      ],
      "text/plain": [
       "   Administrative  Administrative_Duration  Informational  \\\n",
       "0             0.0                      0.0            0.0   \n",
       "1             0.0                      0.0            0.0   \n",
       "2             0.0                      0.0            0.0   \n",
       "3             0.0                      0.0            0.0   \n",
       "4             0.0                      0.0            0.0   \n",
       "\n",
       "   Informational_Duration  ProductRelated  ProductRelated_Duration  \\\n",
       "0                     0.0             1.0                 0.000000   \n",
       "1                     0.0             2.0                64.000000   \n",
       "2                     0.0             1.0                64.000000   \n",
       "3                     0.0             2.0                 2.666667   \n",
       "4                     0.0            10.0               627.500000   \n",
       "\n",
       "   BounceRates  ExitRates  SpecialDay Month  ...  x0_4.0TrafficType  \\\n",
       "0         0.20       0.20         0.0   Feb  ...                0.0   \n",
       "1         0.00       0.10         0.0   Feb  ...                0.0   \n",
       "2         0.20       0.20         0.0   Feb  ...                0.0   \n",
       "3         0.05       0.14         0.0   Feb  ...                1.0   \n",
       "4         0.02       0.05         0.0   Feb  ...                1.0   \n",
       "\n",
       "   x0_5.0TrafficType  x0_6.0TrafficType  x0_8.0TrafficType x0_9.0TrafficType  \\\n",
       "0                0.0                0.0                0.0               0.0   \n",
       "1                0.0                0.0                0.0               0.0   \n",
       "2                0.0                0.0                0.0               0.0   \n",
       "3                0.0                0.0                0.0               0.0   \n",
       "4                0.0                0.0                0.0               0.0   \n",
       "\n",
       "   x0_10.0TrafficType  x0_11.0TrafficType  x0_13.0TrafficType  \\\n",
       "0                 0.0                 0.0                 0.0   \n",
       "1                 0.0                 0.0                 0.0   \n",
       "2                 0.0                 0.0                 0.0   \n",
       "3                 0.0                 0.0                 0.0   \n",
       "4                 0.0                 0.0                 0.0   \n",
       "\n",
       "   x0_20.0TrafficType  x0_99.0TrafficType  \n",
       "0                 0.0                 0.0  \n",
       "1                 0.0                 0.0  \n",
       "2                 0.0                 0.0  \n",
       "3                 0.0                 0.0  \n",
       "4                 0.0                 0.0  \n",
       "\n",
       "[5 rows x 66 columns]"
      ]
     },
     "execution_count": 15,
     "metadata": {},
     "output_type": "execute_result"
    }
   ],
   "source": [
    "appended_dfs = []\n",
    "\n",
    "columns = ['Month', 'OperatingSystems', 'Region', 'Browser', 'TrafficType']\n",
    "\n",
    "for col in columns:\n",
    "    # Creating instance of one-hot-encoder\n",
    "    enc = OneHotEncoder(handle_unknown='ignore')\n",
    "    # Passing columns\n",
    "    enc_df = pd.DataFrame(enc.fit_transform(df[[col]]).toarray())\n",
    "    # Getting values for the names of the columns\n",
    "    enc_df.columns = enc.get_feature_names()+col\n",
    "    # Appenign all new dfs to one list\n",
    "    appended_dfs.append(enc_df)\n",
    "# Mergeing with the main df\n",
    "df_encoded = df.join(appended_dfs) \n",
    "df_encoded.head()"
   ]
  },
  {
   "cell_type": "markdown",
   "metadata": {},
   "source": [
    "Deleting the columns that were encoded:"
   ]
  },
  {
   "cell_type": "code",
   "execution_count": 16,
   "metadata": {
    "ExecuteTime": {
     "end_time": "2020-05-08T23:57:54.591188Z",
     "start_time": "2020-05-08T23:57:54.585229Z"
    }
   },
   "outputs": [],
   "source": [
    "cols_drop = ['Revenue', 'Weekend', 'Month', 'OperatingSystems', 'Region', 'Browser', 'TrafficType', \n",
    "             'VisitorType']\n",
    "df_encoded.drop(columns=cols_drop, inplace=True)"
   ]
  },
  {
   "cell_type": "markdown",
   "metadata": {},
   "source": [
    "Checking if the data has been encoded correctly:"
   ]
  },
  {
   "cell_type": "code",
   "execution_count": 17,
   "metadata": {
    "ExecuteTime": {
     "end_time": "2020-05-08T23:57:54.616194Z",
     "start_time": "2020-05-08T23:57:54.593398Z"
    }
   },
   "outputs": [
    {
     "data": {
      "text/html": [
       "<div>\n",
       "<style scoped>\n",
       "    .dataframe tbody tr th:only-of-type {\n",
       "        vertical-align: middle;\n",
       "    }\n",
       "\n",
       "    .dataframe tbody tr th {\n",
       "        vertical-align: top;\n",
       "    }\n",
       "\n",
       "    .dataframe thead th {\n",
       "        text-align: right;\n",
       "    }\n",
       "</style>\n",
       "<table border=\"1\" class=\"dataframe\">\n",
       "  <thead>\n",
       "    <tr style=\"text-align: right;\">\n",
       "      <th></th>\n",
       "      <th>Administrative</th>\n",
       "      <th>Administrative_Duration</th>\n",
       "      <th>Informational</th>\n",
       "      <th>Informational_Duration</th>\n",
       "      <th>ProductRelated</th>\n",
       "      <th>ProductRelated_Duration</th>\n",
       "      <th>BounceRates</th>\n",
       "      <th>ExitRates</th>\n",
       "      <th>SpecialDay</th>\n",
       "      <th>Visitor_isReturning</th>\n",
       "      <th>...</th>\n",
       "      <th>x0_4.0TrafficType</th>\n",
       "      <th>x0_5.0TrafficType</th>\n",
       "      <th>x0_6.0TrafficType</th>\n",
       "      <th>x0_8.0TrafficType</th>\n",
       "      <th>x0_9.0TrafficType</th>\n",
       "      <th>x0_10.0TrafficType</th>\n",
       "      <th>x0_11.0TrafficType</th>\n",
       "      <th>x0_13.0TrafficType</th>\n",
       "      <th>x0_20.0TrafficType</th>\n",
       "      <th>x0_99.0TrafficType</th>\n",
       "    </tr>\n",
       "  </thead>\n",
       "  <tbody>\n",
       "    <tr>\n",
       "      <td>0</td>\n",
       "      <td>0.0</td>\n",
       "      <td>0.0</td>\n",
       "      <td>0.0</td>\n",
       "      <td>0.0</td>\n",
       "      <td>1.0</td>\n",
       "      <td>0.000000</td>\n",
       "      <td>0.20</td>\n",
       "      <td>0.20</td>\n",
       "      <td>0.0</td>\n",
       "      <td>1</td>\n",
       "      <td>...</td>\n",
       "      <td>0.0</td>\n",
       "      <td>0.0</td>\n",
       "      <td>0.0</td>\n",
       "      <td>0.0</td>\n",
       "      <td>0.0</td>\n",
       "      <td>0.0</td>\n",
       "      <td>0.0</td>\n",
       "      <td>0.0</td>\n",
       "      <td>0.0</td>\n",
       "      <td>0.0</td>\n",
       "    </tr>\n",
       "    <tr>\n",
       "      <td>1</td>\n",
       "      <td>0.0</td>\n",
       "      <td>0.0</td>\n",
       "      <td>0.0</td>\n",
       "      <td>0.0</td>\n",
       "      <td>2.0</td>\n",
       "      <td>64.000000</td>\n",
       "      <td>0.00</td>\n",
       "      <td>0.10</td>\n",
       "      <td>0.0</td>\n",
       "      <td>1</td>\n",
       "      <td>...</td>\n",
       "      <td>0.0</td>\n",
       "      <td>0.0</td>\n",
       "      <td>0.0</td>\n",
       "      <td>0.0</td>\n",
       "      <td>0.0</td>\n",
       "      <td>0.0</td>\n",
       "      <td>0.0</td>\n",
       "      <td>0.0</td>\n",
       "      <td>0.0</td>\n",
       "      <td>0.0</td>\n",
       "    </tr>\n",
       "    <tr>\n",
       "      <td>2</td>\n",
       "      <td>0.0</td>\n",
       "      <td>0.0</td>\n",
       "      <td>0.0</td>\n",
       "      <td>0.0</td>\n",
       "      <td>1.0</td>\n",
       "      <td>64.000000</td>\n",
       "      <td>0.20</td>\n",
       "      <td>0.20</td>\n",
       "      <td>0.0</td>\n",
       "      <td>1</td>\n",
       "      <td>...</td>\n",
       "      <td>0.0</td>\n",
       "      <td>0.0</td>\n",
       "      <td>0.0</td>\n",
       "      <td>0.0</td>\n",
       "      <td>0.0</td>\n",
       "      <td>0.0</td>\n",
       "      <td>0.0</td>\n",
       "      <td>0.0</td>\n",
       "      <td>0.0</td>\n",
       "      <td>0.0</td>\n",
       "    </tr>\n",
       "    <tr>\n",
       "      <td>3</td>\n",
       "      <td>0.0</td>\n",
       "      <td>0.0</td>\n",
       "      <td>0.0</td>\n",
       "      <td>0.0</td>\n",
       "      <td>2.0</td>\n",
       "      <td>2.666667</td>\n",
       "      <td>0.05</td>\n",
       "      <td>0.14</td>\n",
       "      <td>0.0</td>\n",
       "      <td>1</td>\n",
       "      <td>...</td>\n",
       "      <td>1.0</td>\n",
       "      <td>0.0</td>\n",
       "      <td>0.0</td>\n",
       "      <td>0.0</td>\n",
       "      <td>0.0</td>\n",
       "      <td>0.0</td>\n",
       "      <td>0.0</td>\n",
       "      <td>0.0</td>\n",
       "      <td>0.0</td>\n",
       "      <td>0.0</td>\n",
       "    </tr>\n",
       "    <tr>\n",
       "      <td>4</td>\n",
       "      <td>0.0</td>\n",
       "      <td>0.0</td>\n",
       "      <td>0.0</td>\n",
       "      <td>0.0</td>\n",
       "      <td>10.0</td>\n",
       "      <td>627.500000</td>\n",
       "      <td>0.02</td>\n",
       "      <td>0.05</td>\n",
       "      <td>0.0</td>\n",
       "      <td>1</td>\n",
       "      <td>...</td>\n",
       "      <td>1.0</td>\n",
       "      <td>0.0</td>\n",
       "      <td>0.0</td>\n",
       "      <td>0.0</td>\n",
       "      <td>0.0</td>\n",
       "      <td>0.0</td>\n",
       "      <td>0.0</td>\n",
       "      <td>0.0</td>\n",
       "      <td>0.0</td>\n",
       "      <td>0.0</td>\n",
       "    </tr>\n",
       "  </tbody>\n",
       "</table>\n",
       "<p>5 rows × 58 columns</p>\n",
       "</div>"
      ],
      "text/plain": [
       "   Administrative  Administrative_Duration  Informational  \\\n",
       "0             0.0                      0.0            0.0   \n",
       "1             0.0                      0.0            0.0   \n",
       "2             0.0                      0.0            0.0   \n",
       "3             0.0                      0.0            0.0   \n",
       "4             0.0                      0.0            0.0   \n",
       "\n",
       "   Informational_Duration  ProductRelated  ProductRelated_Duration  \\\n",
       "0                     0.0             1.0                 0.000000   \n",
       "1                     0.0             2.0                64.000000   \n",
       "2                     0.0             1.0                64.000000   \n",
       "3                     0.0             2.0                 2.666667   \n",
       "4                     0.0            10.0               627.500000   \n",
       "\n",
       "   BounceRates  ExitRates  SpecialDay  Visitor_isReturning  ...  \\\n",
       "0         0.20       0.20         0.0                    1  ...   \n",
       "1         0.00       0.10         0.0                    1  ...   \n",
       "2         0.20       0.20         0.0                    1  ...   \n",
       "3         0.05       0.14         0.0                    1  ...   \n",
       "4         0.02       0.05         0.0                    1  ...   \n",
       "\n",
       "   x0_4.0TrafficType  x0_5.0TrafficType  x0_6.0TrafficType  x0_8.0TrafficType  \\\n",
       "0                0.0                0.0                0.0                0.0   \n",
       "1                0.0                0.0                0.0                0.0   \n",
       "2                0.0                0.0                0.0                0.0   \n",
       "3                1.0                0.0                0.0                0.0   \n",
       "4                1.0                0.0                0.0                0.0   \n",
       "\n",
       "   x0_9.0TrafficType  x0_10.0TrafficType  x0_11.0TrafficType  \\\n",
       "0                0.0                 0.0                 0.0   \n",
       "1                0.0                 0.0                 0.0   \n",
       "2                0.0                 0.0                 0.0   \n",
       "3                0.0                 0.0                 0.0   \n",
       "4                0.0                 0.0                 0.0   \n",
       "\n",
       "   x0_13.0TrafficType  x0_20.0TrafficType  x0_99.0TrafficType  \n",
       "0                 0.0                 0.0                 0.0  \n",
       "1                 0.0                 0.0                 0.0  \n",
       "2                 0.0                 0.0                 0.0  \n",
       "3                 0.0                 0.0                 0.0  \n",
       "4                 0.0                 0.0                 0.0  \n",
       "\n",
       "[5 rows x 58 columns]"
      ]
     },
     "execution_count": 17,
     "metadata": {},
     "output_type": "execute_result"
    }
   ],
   "source": [
    "df_encoded.head()"
   ]
  },
  {
   "cell_type": "code",
   "execution_count": 18,
   "metadata": {
    "ExecuteTime": {
     "end_time": "2020-05-08T23:57:54.624755Z",
     "start_time": "2020-05-08T23:57:54.617796Z"
    }
   },
   "outputs": [
    {
     "data": {
      "text/plain": [
       "Administrative             float64\n",
       "Administrative_Duration    float64\n",
       "Informational              float64\n",
       "Informational_Duration     float64\n",
       "ProductRelated             float64\n",
       "ProductRelated_Duration    float64\n",
       "BounceRates                float64\n",
       "ExitRates                  float64\n",
       "SpecialDay                 float64\n",
       "Visitor_isReturning          int64\n",
       "random                     float64\n",
       "Revenue_enc                  int64\n",
       "Weekend_enc                  int64\n",
       "x0_AugMonth                float64\n",
       "x0_DecMonth                float64\n",
       "x0_FebMonth                float64\n",
       "x0_JulMonth                float64\n",
       "x0_JuneMonth               float64\n",
       "x0_MarMonth                float64\n",
       "x0_MayMonth                float64\n",
       "x0_NovMonth                float64\n",
       "x0_OctMonth                float64\n",
       "x0_SepMonth                float64\n",
       "x0_1.0OperatingSystems     float64\n",
       "x0_2.0OperatingSystems     float64\n",
       "x0_3.0OperatingSystems     float64\n",
       "x0_4.0OperatingSystems     float64\n",
       "x0_99.0OperatingSystems    float64\n",
       "x0_1Region                 float64\n",
       "x0_2Region                 float64\n",
       "x0_3Region                 float64\n",
       "x0_4Region                 float64\n",
       "x0_5Region                 float64\n",
       "x0_6Region                 float64\n",
       "x0_7Region                 float64\n",
       "x0_8Region                 float64\n",
       "x0_9Region                 float64\n",
       "x0_1.0Browser              float64\n",
       "x0_2.0Browser              float64\n",
       "x0_4.0Browser              float64\n",
       "x0_5.0Browser              float64\n",
       "x0_6.0Browser              float64\n",
       "x0_8.0Browser              float64\n",
       "x0_10.0Browser             float64\n",
       "x0_99.0Browser             float64\n",
       "x0_1.0TrafficType          float64\n",
       "x0_2.0TrafficType          float64\n",
       "x0_3.0TrafficType          float64\n",
       "x0_4.0TrafficType          float64\n",
       "x0_5.0TrafficType          float64\n",
       "x0_6.0TrafficType          float64\n",
       "x0_8.0TrafficType          float64\n",
       "x0_9.0TrafficType          float64\n",
       "x0_10.0TrafficType         float64\n",
       "x0_11.0TrafficType         float64\n",
       "x0_13.0TrafficType         float64\n",
       "x0_20.0TrafficType         float64\n",
       "x0_99.0TrafficType         float64\n",
       "dtype: object"
      ]
     },
     "execution_count": 18,
     "metadata": {},
     "output_type": "execute_result"
    }
   ],
   "source": [
    "df_encoded.dtypes"
   ]
  },
  {
   "cell_type": "code",
   "execution_count": 19,
   "metadata": {
    "ExecuteTime": {
     "end_time": "2020-05-08T23:57:54.630979Z",
     "start_time": "2020-05-08T23:57:54.627257Z"
    }
   },
   "outputs": [
    {
     "name": "stdout",
     "output_type": "stream",
     "text": [
      "The shape of the encoded dataset is: (12330, 58)\n"
     ]
    }
   ],
   "source": [
    "print(f'The shape of the encoded dataset is: {df_encoded.shape}')"
   ]
  },
  {
   "cell_type": "markdown",
   "metadata": {},
   "source": [
    "### Exporting encoded data to csv"
   ]
  },
  {
   "cell_type": "code",
   "execution_count": 20,
   "metadata": {
    "ExecuteTime": {
     "end_time": "2020-05-08T23:57:54.635583Z",
     "start_time": "2020-05-08T23:57:54.632641Z"
    }
   },
   "outputs": [],
   "source": [
    "# df_encoded.to_csv(\"data/df_encoded.csv\", index=True)"
   ]
  },
  {
   "cell_type": "markdown",
   "metadata": {},
   "source": [
    "## Data Split"
   ]
  },
  {
   "cell_type": "markdown",
   "metadata": {},
   "source": [
    "To be able to use data with the machine learning models we will need to split it to the independent variables (X) and target variable (y). "
   ]
  },
  {
   "cell_type": "code",
   "execution_count": 21,
   "metadata": {
    "ExecuteTime": {
     "end_time": "2020-05-08T23:57:54.795623Z",
     "start_time": "2020-05-08T23:57:54.637012Z"
    }
   },
   "outputs": [
    {
     "name": "stdout",
     "output_type": "stream",
     "text": [
      "Original dataset shape X: 12330, y: 12330\n",
      "\n",
      "Original split between True and False:\n",
      "0    10422\n",
      "1     1908\n",
      "Name: Revenue_enc, dtype: int64\n"
     ]
    },
    {
     "data": {
      "image/png": "[encoded data removed]",
      "text/plain": [
       "<Figure size 720x720 with 1 Axes>"
      ]
     },
     "metadata": {
      "needs_background": "light"
     },
     "output_type": "display_data"
    }
   ],
   "source": [
    "X = df_encoded.drop(columns=['Revenue_enc'])\n",
    "y = df_encoded['Revenue_enc']\n",
    "\n",
    "print(f'Original dataset shape X: {len(X)}, y: {len(y)}')\n",
    "print(f'\\nOriginal split between True and False:\\n{y.value_counts()}')\n",
    "\n",
    "sns.countplot(y)\n",
    "plt.show()"
   ]
  },
  {
   "cell_type": "markdown",
   "metadata": {},
   "source": [
    "## Data Balancing (Undersampling)"
   ]
  },
  {
   "cell_type": "markdown",
   "metadata": {},
   "source": [
    "As identified in the EDA in the previous step, we have imbalanced data distribution, the observations in the class False are much higher than the observations in the class True.\n",
    "\n",
    "Standard ML techniques such as Decision Tree and Logistic Regression have a bias towards the majority class, and they tend to ignore the minority class. They tend only to predict the majority class, hence, having major misclassification of the minority class in comparison with the majority class.\n",
    "\n",
    "We will use the NearMiss, an undersampling technique for our dataset."
   ]
  },
  {
   "cell_type": "markdown",
   "metadata": {},
   "source": [
    "### NearMiss"
   ]
  },
  {
   "cell_type": "markdown",
   "metadata": {
    "ExecuteTime": {
     "end_time": "2020-05-08T10:11:48.834187Z",
     "start_time": "2020-05-08T10:11:48.831194Z"
    }
   },
   "source": [
    "This technique aims to balance class distribution by randomly eliminating majority class examples. When instances of two different classes are very close to each other, it removes the instances of the majority class to increase the spaces between the two classes. This helps in the classification process."
   ]
  },
  {
   "cell_type": "code",
   "execution_count": 22,
   "metadata": {
    "ExecuteTime": {
     "end_time": "2020-05-08T23:57:55.171122Z",
     "start_time": "2020-05-08T23:57:54.797229Z"
    }
   },
   "outputs": [
    {
     "name": "stdout",
     "output_type": "stream",
     "text": [
      "Resampled dataset shape X: 3816, Y: 3816\n",
      "\n",
      "Resampled split between True and False:\n",
      "1    1908\n",
      "0    1908\n",
      "dtype: int64\n"
     ]
    },
    {
     "data": {
      "image/png": "[encoded data removed]",
      "text/plain": [
       "<Figure size 720x720 with 1 Axes>"
      ]
     },
     "metadata": {
      "needs_background": "light"
     },
     "output_type": "display_data"
    }
   ],
   "source": [
    "nr = NearMiss()\n",
    "X, y = nr.fit_sample(X, y)\n",
    "\n",
    "print(f'Resampled dataset shape X: {len(X)}, Y: {len(y)}')\n",
    "print(f'\\nResampled split between True and False:\\n{pd.Series(y).value_counts()}')\n",
    "\n",
    "sns.countplot(y)\n",
    "plt.show()"
   ]
  },
  {
   "cell_type": "markdown",
   "metadata": {},
   "source": [
    "## Scaling"
   ]
  },
  {
   "cell_type": "markdown",
   "metadata": {},
   "source": [
    "Feature Scaling is a technique to standardize the independent variables present in the data in a fixed range. We will perform it to handle highly varying values of our dataset. If feature scaling is not done, a machine learning algorithm tends to weigh greater values, and consider smaller values as the lower values, regardless of the unit of the values."
   ]
  },
  {
   "cell_type": "markdown",
   "metadata": {},
   "source": [
    "### StandardScaler"
   ]
  },
  {
   "cell_type": "markdown",
   "metadata": {},
   "source": [
    "We will be using the StandardScaler. It is a technique which re-scales a feature value so that it has distribution with 0 mean value and variance equals to 1."
   ]
  },
  {
   "cell_type": "code",
   "execution_count": 23,
   "metadata": {
    "ExecuteTime": {
     "end_time": "2020-05-08T23:57:55.185824Z",
     "start_time": "2020-05-08T23:57:55.176670Z"
    }
   },
   "outputs": [],
   "source": [
    "std_scale = StandardScaler()\n",
    "\n",
    "X = std_scale.fit_transform(X)"
   ]
  },
  {
   "cell_type": "markdown",
   "metadata": {},
   "source": [
    "## Selecting test and train data"
   ]
  },
  {
   "cell_type": "markdown",
   "metadata": {},
   "source": [
    "To be able to train and test our model on the different sets of the dataset, we will split the data into training and testing parts.\n",
    "\n",
    "- With shuffle, we set to shuffle the data before splitting.\n",
    "- With stratify, we choose to split the data stratifying via our target feature (y)."
   ]
  },
  {
   "cell_type": "code",
   "execution_count": 24,
   "metadata": {
    "ExecuteTime": {
     "end_time": "2020-05-08T23:57:55.194664Z",
     "start_time": "2020-05-08T23:57:55.188483Z"
    }
   },
   "outputs": [],
   "source": [
    "X_train, X_test, y_train, y_test = train_test_split(X, y, test_size=0.3, shuffle=True, stratify=y, \n",
    "                                                    random_state=41)"
   ]
  },
  {
   "cell_type": "markdown",
   "metadata": {},
   "source": [
    "# Modeling"
   ]
  },
  {
   "cell_type": "markdown",
   "metadata": {},
   "source": [
    "We will be testing our data with 6 classification models:\n",
    "\n",
    "- K-Nearest Neighbors\n",
    "- Logistic Regression\n",
    "- Decision Tree\n",
    "- Random Forest\n",
    "- Linear Support Vector Classification\n",
    "- Gaussian Naive Bayes\n",
    "\n",
    "We will focus our analysis to optimize the F1_score. When optimizing for F1_score we take both precision and recall into account. Trying to only optimize recall, the algorithm will predict most examples to belong to the positive class, but that will result in many false positives and, hence, low precision. On the other hand, trying to optimize precision, the model will predict very few examples as positive results (the ones with the highest probability), but recall will be very low."
   ]
  },
  {
   "cell_type": "markdown",
   "metadata": {},
   "source": [
    "## K-Nearest Neighbors"
   ]
  },
  {
   "cell_type": "markdown",
   "metadata": {
    "ExecuteTime": {
     "end_time": "2020-05-07T08:45:33.218399Z",
     "start_time": "2020-05-07T08:45:33.214547Z"
    }
   },
   "source": [
    "K-Nearest Neighbors is an algorithm by which an unclassified data point is classified based on its distance from known points.\n",
    "\n",
    "The way that model decides how to classify the unknown point is by creating a circle with the point as the center. The size of the circle is set by choosing the number of neighbors. This setting does not refer to the actual size of the circle, however, it refers to how many neighboring points are to fall inside of the circle.\n",
    "\n",
    "We will start our modeling with the K-Nearest Neighbors with the default number of neighbors (5)."
   ]
  },
  {
   "cell_type": "code",
   "execution_count": 25,
   "metadata": {
    "ExecuteTime": {
     "end_time": "2020-05-08T23:57:59.053904Z",
     "start_time": "2020-05-08T23:57:55.196341Z"
    }
   },
   "outputs": [
    {
     "name": "stdout",
     "output_type": "stream",
     "text": [
      "Confussion Matrix for test data:\n",
      "[[461 112]\n",
      " [152 420]]\n",
      "\n",
      "Classification report for test data:\n",
      "              precision    recall  f1-score   support\n",
      "\n",
      "           0       0.75      0.80      0.78       573\n",
      "           1       0.79      0.73      0.76       572\n",
      "\n",
      "    accuracy                           0.77      1145\n",
      "   macro avg       0.77      0.77      0.77      1145\n",
      "weighted avg       0.77      0.77      0.77      1145\n",
      "\n"
     ]
    },
    {
     "data": {
      "text/html": [
       "<div>\n",
       "<style scoped>\n",
       "    .dataframe tbody tr th:only-of-type {\n",
       "        vertical-align: middle;\n",
       "    }\n",
       "\n",
       "    .dataframe tbody tr th {\n",
       "        vertical-align: top;\n",
       "    }\n",
       "\n",
       "    .dataframe thead th {\n",
       "        text-align: right;\n",
       "    }\n",
       "</style>\n",
       "<table border=\"1\" class=\"dataframe\">\n",
       "  <thead>\n",
       "    <tr style=\"text-align: right;\">\n",
       "      <th></th>\n",
       "      <th>data</th>\n",
       "      <th>model</th>\n",
       "      <th>accuracy</th>\n",
       "      <th>precision</th>\n",
       "      <th>recall</th>\n",
       "      <th>f1score</th>\n",
       "      <th>rocauc</th>\n",
       "      <th>logloss</th>\n",
       "    </tr>\n",
       "  </thead>\n",
       "  <tbody>\n",
       "    <tr>\n",
       "      <td>0</td>\n",
       "      <td>training</td>\n",
       "      <td>KNeighborsClassifier</td>\n",
       "      <td>0.762265</td>\n",
       "      <td>0.778469</td>\n",
       "      <td>0.720082</td>\n",
       "      <td>0.752208</td>\n",
       "      <td>0.839083</td>\n",
       "      <td>5.120734</td>\n",
       "    </tr>\n",
       "    <tr>\n",
       "      <td>1</td>\n",
       "      <td>test</td>\n",
       "      <td>KNeighborsClassifier</td>\n",
       "      <td>0.773811</td>\n",
       "      <td>0.786296</td>\n",
       "      <td>0.735850</td>\n",
       "      <td>0.767087</td>\n",
       "      <td>0.856559</td>\n",
       "      <td>7.963604</td>\n",
       "    </tr>\n",
       "  </tbody>\n",
       "</table>\n",
       "</div>"
      ],
      "text/plain": [
       "       data                 model  accuracy  precision    recall   f1score  \\\n",
       "0  training  KNeighborsClassifier  0.762265   0.778469  0.720082  0.752208   \n",
       "1      test  KNeighborsClassifier  0.773811   0.786296  0.735850  0.767087   \n",
       "\n",
       "     rocauc   logloss  \n",
       "0  0.839083  5.120734  \n",
       "1  0.856559  7.963604  "
      ]
     },
     "execution_count": 25,
     "metadata": {},
     "output_type": "execute_result"
    }
   ],
   "source": [
    "from sklearn.neighbors import KNeighborsClassifier\n",
    "\n",
    "knn = KNeighborsClassifier()\n",
    "knn.fit(X_train, y_train)\n",
    "\n",
    "y_pred_test = knn.predict(X_test)\n",
    "\n",
    "print(f'Confussion Matrix for test data:\\n{confusion_matrix(y_test, y_pred_test)}')\n",
    "print(f'\\nClassification report for test data:\\n{classification_report(y_test, y_pred_test)}')\n",
    "knn_results = baseline_report(knn, X_train, X_test, y_train, y_test, 'KNeighborsClassifier')\n",
    "knn_results"
   ]
  },
  {
   "cell_type": "markdown",
   "metadata": {
    "ExecuteTime": {
     "end_time": "2020-05-08T10:11:52.358755Z",
     "start_time": "2020-05-08T10:11:52.343131Z"
    }
   },
   "source": [
    "##### Results with default parameters"
   ]
  },
  {
   "cell_type": "code",
   "execution_count": 26,
   "metadata": {
    "ExecuteTime": {
     "end_time": "2020-05-08T23:57:59.059556Z",
     "start_time": "2020-05-08T23:57:59.055572Z"
    }
   },
   "outputs": [
    {
     "name": "stdout",
     "output_type": "stream",
     "text": [
      "KNeighborsClassifier is giving us the F1 score of 0.767 on the test data.\n"
     ]
    }
   ],
   "source": [
    "print(f'{knn_results.iloc[1][\"model\"]} is giving us the F1 score of {round(knn_results.iloc[1][\"f1score\"], 3)} on the test data.')"
   ]
  },
  {
   "cell_type": "markdown",
   "metadata": {},
   "source": [
    "### Hyperparameter Tuning"
   ]
  },
  {
   "cell_type": "markdown",
   "metadata": {},
   "source": [
    "We will be using a GridSearchCV to choose the best parameters for our models. The grid search provided by GridSearchCV exhaustively generates candidates from a grid of parameter values specified with the param_grid parameter. \n",
    "\n",
    "We need to keep in mind that GridSearchCV has a very high computation cost if we want to try a bigger range of parameter values."
   ]
  },
  {
   "cell_type": "markdown",
   "metadata": {},
   "source": [
    "Another thing to mention is that n_jobs is set to -1. By setting n_jobs to -1, we are telling the computer to use all of it’s processors to perform the model."
   ]
  },
  {
   "cell_type": "markdown",
   "metadata": {},
   "source": [
    "##### GridSearchCV"
   ]
  },
  {
   "cell_type": "markdown",
   "metadata": {},
   "source": [
    "Parameters that we will be checking:\n",
    "\n",
    "**n_neighbors**: int, optional (default = 5). Number of neighbors to use by default for kneighbors queries.\n",
    "\n",
    "We will be passing only the odd numbers as the possible values for the n_neighbors parameter. If you choose an even number, in the case of a tie vote, the decision on which class to assign will be done randomly when weights is set to uniform. By choosing an odd number, there are no ties.\n",
    "\n",
    "**weights**: str or callable, optional (default = 'uniform'). Weight function used in prediction. Possible values: \n",
    "\n",
    "'uniform' : uniform weights. All points in each neighborhood are weighted equally. \n",
    "\n",
    "'distance' : weight points by the inverse of their distance. in this case, closer neighbors of a query point will have a greater influence than neighbors which are further away. \n",
    "\n",
    "[callable] : a user-defined function which accepts an array of distances, and returns an array of the same shape containing the weights. \n",
    "\n",
    "**metric**: string or callable, default 'minkowski'. The distance metric to use for the tree. The default metric is minkowski. We will be testing 'euclidean' metric, which distance function is sqrt(sum((x - y)^2)) and 'manhattan' metric, which function is sum(|x - y|).\n",
    "\n",
    "\n"
   ]
  },
  {
   "cell_type": "code",
   "execution_count": 27,
   "metadata": {
    "ExecuteTime": {
     "end_time": "2020-05-08T23:58:04.079448Z",
     "start_time": "2020-05-08T23:57:59.061702Z"
    }
   },
   "outputs": [
    {
     "name": "stdout",
     "output_type": "stream",
     "text": [
      "Fitting 3 folds for each of 32 candidates, totalling 96 fits\n"
     ]
    },
    {
     "name": "stderr",
     "output_type": "stream",
     "text": [
      "[Parallel(n_jobs=-1)]: Using backend LokyBackend with 8 concurrent workers.\n",
      "[Parallel(n_jobs=-1)]: Done  34 tasks      | elapsed:    3.1s\n"
     ]
    },
    {
     "name": "stdout",
     "output_type": "stream",
     "text": [
      "{'metric': 'manhattan', 'n_neighbors': 19, 'weights': 'distance'}\n"
     ]
    },
    {
     "name": "stderr",
     "output_type": "stream",
     "text": [
      "[Parallel(n_jobs=-1)]: Done  96 out of  96 | elapsed:    5.0s finished\n"
     ]
    }
   ],
   "source": [
    "param_grid = {'n_neighbors': [5,7,9,11,13,15,17,19],\n",
    "              'weights': ['uniform', 'distance'],\n",
    "              'metric' : ['euclidean', 'manhattan']}\n",
    "\n",
    "grid = GridSearchCV(KNeighborsClassifier(), param_grid, verbose=1, cv=3, n_jobs=-1, scoring='f1')                 \n",
    "grid.fit(X_train, y_train)\n",
    "\n",
    "best_knn = grid.best_estimator_ # pipeline model\n",
    "best_params_knn = grid.best_params_\n",
    "print(best_params_knn)"
   ]
  },
  {
   "cell_type": "markdown",
   "metadata": {},
   "source": [
    "We now know the best parameters for our model. The second step is to evaluate our model with the selection of the best parameters and see the impact on the scores."
   ]
  },
  {
   "cell_type": "code",
   "execution_count": 28,
   "metadata": {
    "ExecuteTime": {
     "end_time": "2020-05-08T23:58:07.602526Z",
     "start_time": "2020-05-08T23:58:04.081773Z"
    }
   },
   "outputs": [
    {
     "name": "stdout",
     "output_type": "stream",
     "text": [
      "Confussion Matrix for test data:\n",
      "[[522  51]\n",
      " [124 448]]\n",
      "\n",
      "Classification report for test data:\n",
      "              precision    recall  f1-score   support\n",
      "\n",
      "           0       0.81      0.91      0.86       573\n",
      "           1       0.90      0.78      0.84       572\n",
      "\n",
      "    accuracy                           0.85      1145\n",
      "   macro avg       0.85      0.85      0.85      1145\n",
      "weighted avg       0.85      0.85      0.85      1145\n",
      "\n"
     ]
    },
    {
     "data": {
      "text/html": [
       "<div>\n",
       "<style scoped>\n",
       "    .dataframe tbody tr th:only-of-type {\n",
       "        vertical-align: middle;\n",
       "    }\n",
       "\n",
       "    .dataframe tbody tr th {\n",
       "        vertical-align: top;\n",
       "    }\n",
       "\n",
       "    .dataframe thead th {\n",
       "        text-align: right;\n",
       "    }\n",
       "</style>\n",
       "<table border=\"1\" class=\"dataframe\">\n",
       "  <thead>\n",
       "    <tr style=\"text-align: right;\">\n",
       "      <th></th>\n",
       "      <th>data</th>\n",
       "      <th>model</th>\n",
       "      <th>accuracy</th>\n",
       "      <th>precision</th>\n",
       "      <th>recall</th>\n",
       "      <th>f1score</th>\n",
       "      <th>rocauc</th>\n",
       "      <th>logloss</th>\n",
       "    </tr>\n",
       "  </thead>\n",
       "  <tbody>\n",
       "    <tr>\n",
       "      <td>0</td>\n",
       "      <td>training</td>\n",
       "      <td>KNeighborsClassifier</td>\n",
       "      <td>0.826278</td>\n",
       "      <td>0.894832</td>\n",
       "      <td>0.748468</td>\n",
       "      <td>0.811731</td>\n",
       "      <td>0.922133</td>\n",
       "      <td>9.992007e-16</td>\n",
       "    </tr>\n",
       "    <tr>\n",
       "      <td>1</td>\n",
       "      <td>test</td>\n",
       "      <td>KNeighborsClassifier</td>\n",
       "      <td>0.833997</td>\n",
       "      <td>0.896243</td>\n",
       "      <td>0.772738</td>\n",
       "      <td>0.829444</td>\n",
       "      <td>0.932489</td>\n",
       "      <td>5.278888e+00</td>\n",
       "    </tr>\n",
       "  </tbody>\n",
       "</table>\n",
       "</div>"
      ],
      "text/plain": [
       "       data                 model  accuracy  precision    recall   f1score  \\\n",
       "0  training  KNeighborsClassifier  0.826278   0.894832  0.748468  0.811731   \n",
       "1      test  KNeighborsClassifier  0.833997   0.896243  0.772738  0.829444   \n",
       "\n",
       "     rocauc       logloss  \n",
       "0  0.922133  9.992007e-16  \n",
       "1  0.932489  5.278888e+00  "
      ]
     },
     "execution_count": 28,
     "metadata": {},
     "output_type": "execute_result"
    }
   ],
   "source": [
    "y_pred_test = grid.predict(X_test)\n",
    "\n",
    "print(f'Confussion Matrix for test data:\\n{confusion_matrix(y_test, y_pred_test)}')\n",
    "print(f'\\nClassification report for test data:\\n{classification_report(y_test, y_pred_test)}')\n",
    "knn_results_hyp = baseline_report(grid.best_estimator_, X_train, X_test, y_train, y_test, 'KNeighborsClassifier')\n",
    "knn_results_hyp"
   ]
  },
  {
   "cell_type": "markdown",
   "metadata": {
    "ExecuteTime": {
     "end_time": "2020-05-08T10:11:59.288051Z",
     "start_time": "2020-05-08T10:11:59.285059Z"
    }
   },
   "source": [
    "##### Results after the hyperparameter tuning"
   ]
  },
  {
   "cell_type": "code",
   "execution_count": 29,
   "metadata": {
    "ExecuteTime": {
     "end_time": "2020-05-08T23:58:07.609825Z",
     "start_time": "2020-05-08T23:58:07.604038Z"
    }
   },
   "outputs": [
    {
     "name": "stdout",
     "output_type": "stream",
     "text": [
      "KNeighborsClassifier is giving us the F1 score of 0.829 on the test data.\n",
      "Hyperparameter tuning improved our score from 0.767 to 0.829\n"
     ]
    }
   ],
   "source": [
    "print(f'{knn_results_hyp.iloc[1][\"model\"]} is giving us the F1 score of {round(knn_results_hyp.iloc[1][\"f1score\"], 3)} on the test data.')\n",
    "\n",
    "if knn_results_hyp.iloc[1][\"f1score\"] > knn_results.iloc[1][\"f1score\"]:\n",
    "    print(f'Hyperparameter tuning improved our score from {round(knn_results.iloc[1][\"f1score\"], 3)} to {round(knn_results_hyp.iloc[1][\"f1score\"], 3)}')\n",
    "else:\n",
    "    print(f'Our score after the hyperparameter tuning changed from {round(knn_results.iloc[1][\"f1score\"], 3)} to {round(knn_results_hyp.iloc[1][\"f1score\"], 3)}')\n",
    "    "
   ]
  },
  {
   "cell_type": "markdown",
   "metadata": {},
   "source": [
    "## Logistic Regression"
   ]
  },
  {
   "cell_type": "markdown",
   "metadata": {
    "ExecuteTime": {
     "end_time": "2020-05-08T09:23:54.157705Z",
     "start_time": "2020-05-08T09:23:54.148684Z"
    }
   },
   "source": [
    "Logistic Regression is a Machine Learning classification algorithm that is used to predict the probability of a categorical dependent variable. In logistic regression, the dependent variable is a binary variable that contains data coded as 1 (yes, success, etc.) or 0 (no, failure, etc.). In other words, the logistic regression model predicts P(Y=1) as a function of X."
   ]
  },
  {
   "cell_type": "code",
   "execution_count": 30,
   "metadata": {
    "ExecuteTime": {
     "end_time": "2020-05-08T23:58:08.955785Z",
     "start_time": "2020-05-08T23:58:07.611580Z"
    }
   },
   "outputs": [
    {
     "name": "stdout",
     "output_type": "stream",
     "text": [
      "Confussion Matrix for test data:\n",
      "[[546  27]\n",
      " [ 40 532]]\n",
      "\n",
      "Classification report for test data:\n",
      "              precision    recall  f1-score   support\n",
      "\n",
      "           0       0.93      0.95      0.94       573\n",
      "           1       0.95      0.93      0.94       572\n",
      "\n",
      "    accuracy                           0.94      1145\n",
      "   macro avg       0.94      0.94      0.94      1145\n",
      "weighted avg       0.94      0.94      0.94      1145\n",
      "\n"
     ]
    },
    {
     "data": {
      "text/html": [
       "<div>\n",
       "<style scoped>\n",
       "    .dataframe tbody tr th:only-of-type {\n",
       "        vertical-align: middle;\n",
       "    }\n",
       "\n",
       "    .dataframe tbody tr th {\n",
       "        vertical-align: top;\n",
       "    }\n",
       "\n",
       "    .dataframe thead th {\n",
       "        text-align: right;\n",
       "    }\n",
       "</style>\n",
       "<table border=\"1\" class=\"dataframe\">\n",
       "  <thead>\n",
       "    <tr style=\"text-align: right;\">\n",
       "      <th></th>\n",
       "      <th>data</th>\n",
       "      <th>model</th>\n",
       "      <th>accuracy</th>\n",
       "      <th>precision</th>\n",
       "      <th>recall</th>\n",
       "      <th>f1score</th>\n",
       "      <th>rocauc</th>\n",
       "      <th>logloss</th>\n",
       "    </tr>\n",
       "  </thead>\n",
       "  <tbody>\n",
       "    <tr>\n",
       "      <td>0</td>\n",
       "      <td>training</td>\n",
       "      <td>LogisticRegression</td>\n",
       "      <td>0.925498</td>\n",
       "      <td>0.948168</td>\n",
       "      <td>0.904184</td>\n",
       "      <td>0.927918</td>\n",
       "      <td>0.979401</td>\n",
       "      <td>2.107773</td>\n",
       "    </tr>\n",
       "    <tr>\n",
       "      <td>1</td>\n",
       "      <td>test</td>\n",
       "      <td>LogisticRegression</td>\n",
       "      <td>0.937109</td>\n",
       "      <td>0.942520</td>\n",
       "      <td>0.914401</td>\n",
       "      <td>0.935317</td>\n",
       "      <td>0.982191</td>\n",
       "      <td>2.021065</td>\n",
       "    </tr>\n",
       "  </tbody>\n",
       "</table>\n",
       "</div>"
      ],
      "text/plain": [
       "       data               model  accuracy  precision    recall   f1score  \\\n",
       "0  training  LogisticRegression  0.925498   0.948168  0.904184  0.927918   \n",
       "1      test  LogisticRegression  0.937109   0.942520  0.914401  0.935317   \n",
       "\n",
       "     rocauc   logloss  \n",
       "0  0.979401  2.107773  \n",
       "1  0.982191  2.021065  "
      ]
     },
     "execution_count": 30,
     "metadata": {},
     "output_type": "execute_result"
    }
   ],
   "source": [
    "from sklearn.linear_model import LogisticRegression\n",
    "\n",
    "logreg = LogisticRegression()\n",
    "logreg.fit(X_train, y_train)\n",
    "\n",
    "y_pred_test = logreg.predict(X_test)\n",
    "\n",
    "print(f'Confussion Matrix for test data:\\n{confusion_matrix(y_test, y_pred_test)}')\n",
    "print(f'\\nClassification report for test data:\\n{classification_report(y_test, y_pred_test)}')\n",
    "logreg_results = baseline_report(logreg, X_train, X_test, y_train, y_test, 'LogisticRegression')\n",
    "logreg_results"
   ]
  },
  {
   "cell_type": "markdown",
   "metadata": {
    "ExecuteTime": {
     "end_time": "2020-05-08T10:11:52.358755Z",
     "start_time": "2020-05-08T10:11:52.343131Z"
    }
   },
   "source": [
    "##### Results with default parameters"
   ]
  },
  {
   "cell_type": "code",
   "execution_count": 31,
   "metadata": {
    "ExecuteTime": {
     "end_time": "2020-05-08T23:58:08.964292Z",
     "start_time": "2020-05-08T23:58:08.957676Z"
    }
   },
   "outputs": [
    {
     "name": "stdout",
     "output_type": "stream",
     "text": [
      "LogisticRegression is giving us the F1 score of 0.935 on the test data.\n",
      "LogisticRegression improves the result from KNeighborsClassifier (score: 0.829)\n"
     ]
    }
   ],
   "source": [
    "results_defaut(logreg_results, knn_results_hyp)"
   ]
  },
  {
   "cell_type": "markdown",
   "metadata": {},
   "source": [
    "### Hyperparameter Tuning"
   ]
  },
  {
   "cell_type": "markdown",
   "metadata": {},
   "source": [
    "##### GridSearchCV"
   ]
  },
  {
   "cell_type": "markdown",
   "metadata": {},
   "source": [
    "Parameters that we will be checking:\n",
    "\n",
    "**C**: float, default=1.0 Inverse of regularization strength. Must be a positive float. Like in support vector machines, smaller values specify stronger regularization.\n",
    "\n",
    "**penalty**: {'l1', 'l2', 'elasticnet', 'none'}, default='l2'. Used to specify the norm used in the penalization. The 'newton-cg', 'sag' and 'lbfgs' solvers support only l2 penalties. 'elasticnet' is only supported by the 'saga' solver. If 'none' (not supported by the liblinear solver), no regularization is applied.\n",
    "\n",
    "**solver**: {'newton-cg', 'lbfgs', 'liblinear', 'sag', 'saga'}, default='lbfgs'. Algorithm to use in the optimization problem. For small datasets, 'liblinear' is a good choice, whereas 'sag' and 'saga' are faster for large ones. For multiclass problems, only 'newton-cg', 'sag', 'saga' and 'lbfgs' handle multinomial loss; 'liblinear' is limited to one-versus-rest schemes.\n",
    "\n",
    "‘newton-cg’, ‘lbfgs’, ‘sag’ and ‘saga’ handle L2 or no penalty\n",
    "\n",
    "‘liblinear’ and ‘saga’ also handle L1 penalty\n",
    "\n",
    "‘saga’ also supports ‘elasticnet’ penalty\n",
    "\n",
    "‘liblinear’ does not support setting penalty='none'\n",
    "\n",
    "**multi_class**: {‘auto’, ‘ovr’, ‘multinomial’}, default=’auto’. If the option chosen is ‘ovr’, then a binary problem is fit for each label. For ‘multinomial’ the loss minimised is the multinomial loss fit across the entire probability distribution, even when the data is binary. ‘multinomial’ is unavailable when solver=’liblinear’. ‘auto’ selects ‘ovr’ if the data is binary, or if solver=’liblinear’, and otherwise selects ‘multinomial’."
   ]
  },
  {
   "cell_type": "code",
   "execution_count": 32,
   "metadata": {
    "ExecuteTime": {
     "end_time": "2020-05-08T23:58:14.760099Z",
     "start_time": "2020-05-08T23:58:08.966510Z"
    }
   },
   "outputs": [
    {
     "name": "stdout",
     "output_type": "stream",
     "text": [
      "Fitting 3 folds for each of 84 candidates, totalling 252 fits\n"
     ]
    },
    {
     "name": "stderr",
     "output_type": "stream",
     "text": [
      "[Parallel(n_jobs=-1)]: Using backend LokyBackend with 8 concurrent workers.\n"
     ]
    },
    {
     "name": "stdout",
     "output_type": "stream",
     "text": [
      "{'C': 100.0, 'multi_class': 'ovr', 'penalty': 'l2', 'solver': 'newton-cg'}\n"
     ]
    },
    {
     "name": "stderr",
     "output_type": "stream",
     "text": [
      "[Parallel(n_jobs=-1)]: Done 252 out of 252 | elapsed:    5.7s finished\n"
     ]
    }
   ],
   "source": [
    "c_values = list(10.0**np.arange(-3, 3))\n",
    "\n",
    "param_grid = [{'C': c_values,\n",
    "              'penalty': ['l2'],\n",
    "              'solver' : ['liblinear', 'newton-cg', 'lbfgs', 'sag', 'saga'],\n",
    "              'multi_class': ['ovr', 'warn']},\n",
    "              {'C': c_values,\n",
    "              'penalty': ['l1'],\n",
    "              'solver' : ['liblinear', 'saga'],\n",
    "              'multi_class': ['ovr', 'warn']}]\n",
    "\n",
    "grid = GridSearchCV(LogisticRegression(), param_grid, verbose=1, cv=3, n_jobs=-1, scoring='f1')                 \n",
    "grid.fit(X_train, y_train)\n",
    "\n",
    "best_logreg = grid.best_estimator_ # pipeline model\n",
    "best_params_logreg = grid.best_params_\n",
    "print(best_params_logreg)"
   ]
  },
  {
   "cell_type": "markdown",
   "metadata": {},
   "source": [
    "We now know the best parameters for our model. The second step is to evaluate our model with the selection of the best parameters and see the impact on the scores."
   ]
  },
  {
   "cell_type": "code",
   "execution_count": 33,
   "metadata": {
    "ExecuteTime": {
     "end_time": "2020-05-08T23:58:17.338457Z",
     "start_time": "2020-05-08T23:58:14.762233Z"
    }
   },
   "outputs": [
    {
     "name": "stdout",
     "output_type": "stream",
     "text": [
      "Confussion Matrix for test data:\n",
      "[[544  29]\n",
      " [ 39 533]]\n",
      "\n",
      "Classification report for test data:\n",
      "              precision    recall  f1-score   support\n",
      "\n",
      "           0       0.93      0.95      0.94       573\n",
      "           1       0.95      0.93      0.94       572\n",
      "\n",
      "    accuracy                           0.94      1145\n",
      "   macro avg       0.94      0.94      0.94      1145\n",
      "weighted avg       0.94      0.94      0.94      1145\n",
      "\n"
     ]
    },
    {
     "data": {
      "text/html": [
       "<div>\n",
       "<style scoped>\n",
       "    .dataframe tbody tr th:only-of-type {\n",
       "        vertical-align: middle;\n",
       "    }\n",
       "\n",
       "    .dataframe tbody tr th {\n",
       "        vertical-align: top;\n",
       "    }\n",
       "\n",
       "    .dataframe thead th {\n",
       "        text-align: right;\n",
       "    }\n",
       "</style>\n",
       "<table border=\"1\" class=\"dataframe\">\n",
       "  <thead>\n",
       "    <tr style=\"text-align: right;\">\n",
       "      <th></th>\n",
       "      <th>data</th>\n",
       "      <th>model</th>\n",
       "      <th>accuracy</th>\n",
       "      <th>precision</th>\n",
       "      <th>recall</th>\n",
       "      <th>f1score</th>\n",
       "      <th>rocauc</th>\n",
       "      <th>logloss</th>\n",
       "    </tr>\n",
       "  </thead>\n",
       "  <tbody>\n",
       "    <tr>\n",
       "      <td>0</td>\n",
       "      <td>training</td>\n",
       "      <td>LogisticRegression</td>\n",
       "      <td>0.929615</td>\n",
       "      <td>0.948139</td>\n",
       "      <td>0.915403</td>\n",
       "      <td>0.931120</td>\n",
       "      <td>0.981402</td>\n",
       "      <td>1.952601</td>\n",
       "    </tr>\n",
       "    <tr>\n",
       "      <td>1</td>\n",
       "      <td>test</td>\n",
       "      <td>LogisticRegression</td>\n",
       "      <td>0.930137</td>\n",
       "      <td>0.947904</td>\n",
       "      <td>0.929962</td>\n",
       "      <td>0.936875</td>\n",
       "      <td>0.979424</td>\n",
       "      <td>2.051231</td>\n",
       "    </tr>\n",
       "  </tbody>\n",
       "</table>\n",
       "</div>"
      ],
      "text/plain": [
       "       data               model  accuracy  precision    recall   f1score  \\\n",
       "0  training  LogisticRegression  0.929615   0.948139  0.915403  0.931120   \n",
       "1      test  LogisticRegression  0.930137   0.947904  0.929962  0.936875   \n",
       "\n",
       "     rocauc   logloss  \n",
       "0  0.981402  1.952601  \n",
       "1  0.979424  2.051231  "
      ]
     },
     "execution_count": 33,
     "metadata": {},
     "output_type": "execute_result"
    }
   ],
   "source": [
    "y_pred_test = grid.predict(X_test)\n",
    "\n",
    "print(f'Confussion Matrix for test data:\\n{confusion_matrix(y_test, y_pred_test)}')\n",
    "print(f'\\nClassification report for test data:\\n{classification_report(y_test, y_pred_test)}')\n",
    "logreg_results_hyp = baseline_report(grid.best_estimator_, X_train, X_test, y_train, y_test, 'LogisticRegression')\n",
    "logreg_results_hyp\n",
    "\n"
   ]
  },
  {
   "cell_type": "markdown",
   "metadata": {
    "ExecuteTime": {
     "end_time": "2020-05-08T10:11:59.288051Z",
     "start_time": "2020-05-08T10:11:59.285059Z"
    }
   },
   "source": [
    "##### Results after the hyperparameter tuning"
   ]
  },
  {
   "cell_type": "code",
   "execution_count": 34,
   "metadata": {
    "ExecuteTime": {
     "end_time": "2020-05-08T23:58:17.349037Z",
     "start_time": "2020-05-08T23:58:17.340585Z"
    }
   },
   "outputs": [
    {
     "name": "stdout",
     "output_type": "stream",
     "text": [
      "LogisticRegression is giving us the F1 score of 0.937 on the test data.\n",
      "Hyperparameter tuning imporved our score from 0.935 to 0.937\n",
      "LogisticRegression improves the result from KNeighborsClassifier (score: 0.829)\n"
     ]
    }
   ],
   "source": [
    "results_after_hyp(logreg_results_hyp, logreg_results, knn_results_hyp)"
   ]
  },
  {
   "cell_type": "markdown",
   "metadata": {},
   "source": [
    "## Decision Tree"
   ]
  },
  {
   "cell_type": "markdown",
   "metadata": {},
   "source": [
    "Decision trees learn how to best split the dataset into smaller and smaller subsets to predict the target value. The condition, or test, is represented as the 'leaf' (node) and the possible outcomes as 'branches' (edges). This splitting process continues until no further gain can be made or a preset rule is met, e.g. the maximum depth of the tree is reached."
   ]
  },
  {
   "cell_type": "code",
   "execution_count": 35,
   "metadata": {
    "ExecuteTime": {
     "end_time": "2020-05-08T23:58:17.913046Z",
     "start_time": "2020-05-08T23:58:17.351391Z"
    }
   },
   "outputs": [
    {
     "name": "stdout",
     "output_type": "stream",
     "text": [
      "Confussion Matrix for test data:\n",
      "[[522  51]\n",
      " [ 41 531]]\n",
      "\n",
      "Classification report for test data:\n",
      "              precision    recall  f1-score   support\n",
      "\n",
      "           0       0.93      0.91      0.92       573\n",
      "           1       0.91      0.93      0.92       572\n",
      "\n",
      "    accuracy                           0.92      1145\n",
      "   macro avg       0.92      0.92      0.92      1145\n",
      "weighted avg       0.92      0.92      0.92      1145\n",
      "\n"
     ]
    },
    {
     "data": {
      "text/html": [
       "<div>\n",
       "<style scoped>\n",
       "    .dataframe tbody tr th:only-of-type {\n",
       "        vertical-align: middle;\n",
       "    }\n",
       "\n",
       "    .dataframe tbody tr th {\n",
       "        vertical-align: top;\n",
       "    }\n",
       "\n",
       "    .dataframe thead th {\n",
       "        text-align: right;\n",
       "    }\n",
       "</style>\n",
       "<table border=\"1\" class=\"dataframe\">\n",
       "  <thead>\n",
       "    <tr style=\"text-align: right;\">\n",
       "      <th></th>\n",
       "      <th>data</th>\n",
       "      <th>model</th>\n",
       "      <th>accuracy</th>\n",
       "      <th>precision</th>\n",
       "      <th>recall</th>\n",
       "      <th>f1score</th>\n",
       "      <th>rocauc</th>\n",
       "      <th>logloss</th>\n",
       "    </tr>\n",
       "  </thead>\n",
       "  <tbody>\n",
       "    <tr>\n",
       "      <td>0</td>\n",
       "      <td>training</td>\n",
       "      <td>DecisionTreeClassifier</td>\n",
       "      <td>0.915011</td>\n",
       "      <td>0.907576</td>\n",
       "      <td>0.903435</td>\n",
       "      <td>0.910555</td>\n",
       "      <td>0.903791</td>\n",
       "      <td>9.992007e-16</td>\n",
       "    </tr>\n",
       "    <tr>\n",
       "      <td>1</td>\n",
       "      <td>test</td>\n",
       "      <td>DecisionTreeClassifier</td>\n",
       "      <td>0.916987</td>\n",
       "      <td>0.908955</td>\n",
       "      <td>0.921358</td>\n",
       "      <td>0.898035</td>\n",
       "      <td>0.910023</td>\n",
       "      <td>2.654541e+00</td>\n",
       "    </tr>\n",
       "  </tbody>\n",
       "</table>\n",
       "</div>"
      ],
      "text/plain": [
       "       data                   model  accuracy  precision    recall   f1score  \\\n",
       "0  training  DecisionTreeClassifier  0.915011   0.907576  0.903435  0.910555   \n",
       "1      test  DecisionTreeClassifier  0.916987   0.908955  0.921358  0.898035   \n",
       "\n",
       "     rocauc       logloss  \n",
       "0  0.903791  9.992007e-16  \n",
       "1  0.910023  2.654541e+00  "
      ]
     },
     "execution_count": 35,
     "metadata": {},
     "output_type": "execute_result"
    }
   ],
   "source": [
    "from sklearn.tree import DecisionTreeClassifier\n",
    "\n",
    "dectree = DecisionTreeClassifier()\n",
    "dectree.fit(X_train, y_train)\n",
    "\n",
    "y_pred_test = dectree.predict(X_test)\n",
    "\n",
    "print(f'Confussion Matrix for test data:\\n{confusion_matrix(y_test, y_pred_test)}')\n",
    "print(f'\\nClassification report for test data:\\n{classification_report(y_test, y_pred_test)}')\n",
    "dectree_results = baseline_report(dectree, X_train, X_test, y_train, y_test, 'DecisionTreeClassifier')\n",
    "dectree_results"
   ]
  },
  {
   "cell_type": "markdown",
   "metadata": {
    "ExecuteTime": {
     "end_time": "2020-05-08T10:11:52.358755Z",
     "start_time": "2020-05-08T10:11:52.343131Z"
    }
   },
   "source": [
    "##### Results with default parameters"
   ]
  },
  {
   "cell_type": "code",
   "execution_count": 36,
   "metadata": {
    "ExecuteTime": {
     "end_time": "2020-05-08T23:58:17.919872Z",
     "start_time": "2020-05-08T23:58:17.914829Z"
    }
   },
   "outputs": [
    {
     "name": "stdout",
     "output_type": "stream",
     "text": [
      "DecisionTreeClassifier is giving us the F1 score of 0.898 on the test data.\n",
      "DecisionTreeClassifier does not imporve the score from LogisticRegression (score: 0.937\n"
     ]
    }
   ],
   "source": [
    "results_defaut(dectree_results, logreg_results_hyp)"
   ]
  },
  {
   "cell_type": "markdown",
   "metadata": {},
   "source": [
    "### Feature importance"
   ]
  },
  {
   "cell_type": "markdown",
   "metadata": {},
   "source": [
    "We're will be using a defined function to visualize the most important features from the Decision Tree model:"
   ]
  },
  {
   "cell_type": "code",
   "execution_count": 37,
   "metadata": {
    "ExecuteTime": {
     "end_time": "2020-05-08T23:58:18.811627Z",
     "start_time": "2020-05-08T23:58:17.921482Z"
    }
   },
   "outputs": [
    {
     "data": {
      "image/png": "[encoded data removed]",
      "text/plain": [
       "<Figure size 1080x1080 with 1 Axes>"
      ]
     },
     "metadata": {
      "needs_background": "light"
     },
     "output_type": "display_data"
    }
   ],
   "source": [
    "plot_feature_importances(dectree, df_encoded)\n",
    "# plt.savefig('images/feature_importance_dectree_final')"
   ]
  },
  {
   "cell_type": "markdown",
   "metadata": {
    "ExecuteTime": {
     "end_time": "2020-05-08T10:12:07.977323Z",
     "start_time": "2020-05-08T10:12:07.973283Z"
    }
   },
   "source": [
    "We can see that the most important feature is ProductRelated_Duration. Other important features are: Administrative_Duration, ExitRates and ProductRelated. All the rest of features don't have significant importance because they are lower than the radom feature. \n",
    "\n",
    "The good practice is to remove the insignificant variables and run the model again, to avoid the overfitting."
   ]
  },
  {
   "cell_type": "markdown",
   "metadata": {},
   "source": [
    "### Hyperparameter Tuning"
   ]
  },
  {
   "cell_type": "markdown",
   "metadata": {},
   "source": [
    "##### GridSearchCV"
   ]
  },
  {
   "cell_type": "markdown",
   "metadata": {},
   "source": [
    "Parameters that we will be checking:\n",
    "\n",
    "**criterion**: optional (default=”gini”) or Choose attribute selection measure: This parameter allows us to use the different attribute selection measure. Supported criteria are “gini” for the Gini index and “entropy” for the information gain.\n",
    "\n",
    "**splitter**: string, optional (default=”best”) or Split Strategy: This parameter allows us to choose the split strategy. Supported strategies are “best” to choose the best split and “random” to choose the best random split.\n",
    "\n",
    "**max_depth**: int or None, optional (default=None) or Maximum Depth of a Tree: The maximum depth of the tree. If None, then nodes are expanded until all the leaves contain less than min_samples_split samples. The higher value of maximum depth causes overfitting, and a lower value causes underfitting"
   ]
  },
  {
   "cell_type": "code",
   "execution_count": 38,
   "metadata": {
    "ExecuteTime": {
     "end_time": "2020-05-08T23:58:19.083050Z",
     "start_time": "2020-05-08T23:58:18.813580Z"
    }
   },
   "outputs": [
    {
     "name": "stdout",
     "output_type": "stream",
     "text": [
      "Fitting 3 folds for each of 32 candidates, totalling 96 fits\n"
     ]
    },
    {
     "name": "stderr",
     "output_type": "stream",
     "text": [
      "[Parallel(n_jobs=-1)]: Using backend LokyBackend with 8 concurrent workers.\n"
     ]
    },
    {
     "name": "stdout",
     "output_type": "stream",
     "text": [
      "{'criterion': 'gini', 'max_depth': 6, 'splitter': 'best'}\n"
     ]
    },
    {
     "name": "stderr",
     "output_type": "stream",
     "text": [
      "[Parallel(n_jobs=-1)]: Done  96 out of  96 | elapsed:    0.2s finished\n"
     ]
    }
   ],
   "source": [
    "depth = list(np.arange(2, 10))\n",
    "\n",
    "param_grid = {'criterion': ['gini', 'entropy'],\n",
    "              'splitter': ['best', 'random'],\n",
    "              'max_depth' : depth}\n",
    "\n",
    "grid = GridSearchCV(DecisionTreeClassifier(), param_grid, verbose=1, cv=3, n_jobs=-1, scoring='f1')                 \n",
    "grid.fit(X_train, y_train)  \n",
    "\n",
    "\n",
    "best_dectree = grid.best_estimator_ # pipeline model\n",
    "best_params_dectree = grid.best_params_\n",
    "print(best_params_dectree)"
   ]
  },
  {
   "cell_type": "markdown",
   "metadata": {},
   "source": [
    "We now know the best parameters for our model. The second step is to evaluate our model with the selection of the best parameters and see the impact on the scores."
   ]
  },
  {
   "cell_type": "code",
   "execution_count": 39,
   "metadata": {
    "ExecuteTime": {
     "end_time": "2020-05-08T23:58:19.472408Z",
     "start_time": "2020-05-08T23:58:19.084680Z"
    }
   },
   "outputs": [
    {
     "name": "stdout",
     "output_type": "stream",
     "text": [
      "Confussion Matrix for test data:\n",
      "[[550  23]\n",
      " [ 51 521]]\n",
      "\n",
      "Classification report for test data:\n",
      "              precision    recall  f1-score   support\n",
      "\n",
      "           0       0.92      0.96      0.94       573\n",
      "           1       0.96      0.91      0.93       572\n",
      "\n",
      "    accuracy                           0.94      1145\n",
      "   macro avg       0.94      0.94      0.94      1145\n",
      "weighted avg       0.94      0.94      0.94      1145\n",
      "\n"
     ]
    },
    {
     "data": {
      "text/html": [
       "<div>\n",
       "<style scoped>\n",
       "    .dataframe tbody tr th:only-of-type {\n",
       "        vertical-align: middle;\n",
       "    }\n",
       "\n",
       "    .dataframe tbody tr th {\n",
       "        vertical-align: top;\n",
       "    }\n",
       "\n",
       "    .dataframe thead th {\n",
       "        text-align: right;\n",
       "    }\n",
       "</style>\n",
       "<table border=\"1\" class=\"dataframe\">\n",
       "  <thead>\n",
       "    <tr style=\"text-align: right;\">\n",
       "      <th></th>\n",
       "      <th>data</th>\n",
       "      <th>model</th>\n",
       "      <th>accuracy</th>\n",
       "      <th>precision</th>\n",
       "      <th>recall</th>\n",
       "      <th>f1score</th>\n",
       "      <th>rocauc</th>\n",
       "      <th>logloss</th>\n",
       "    </tr>\n",
       "  </thead>\n",
       "  <tbody>\n",
       "    <tr>\n",
       "      <td>0</td>\n",
       "      <td>training</td>\n",
       "      <td>DecisionTreeClassifier</td>\n",
       "      <td>0.932236</td>\n",
       "      <td>0.946791</td>\n",
       "      <td>0.893717</td>\n",
       "      <td>0.927518</td>\n",
       "      <td>0.949245</td>\n",
       "      <td>1.525867</td>\n",
       "    </tr>\n",
       "    <tr>\n",
       "      <td>1</td>\n",
       "      <td>test</td>\n",
       "      <td>DecisionTreeClassifier</td>\n",
       "      <td>0.922281</td>\n",
       "      <td>0.920424</td>\n",
       "      <td>0.902105</td>\n",
       "      <td>0.914892</td>\n",
       "      <td>0.923351</td>\n",
       "      <td>2.202052</td>\n",
       "    </tr>\n",
       "  </tbody>\n",
       "</table>\n",
       "</div>"
      ],
      "text/plain": [
       "       data                   model  accuracy  precision    recall   f1score  \\\n",
       "0  training  DecisionTreeClassifier  0.932236   0.946791  0.893717  0.927518   \n",
       "1      test  DecisionTreeClassifier  0.922281   0.920424  0.902105  0.914892   \n",
       "\n",
       "     rocauc   logloss  \n",
       "0  0.949245  1.525867  \n",
       "1  0.923351  2.202052  "
      ]
     },
     "execution_count": 39,
     "metadata": {},
     "output_type": "execute_result"
    }
   ],
   "source": [
    "y_pred_test = grid.predict(X_test)\n",
    "\n",
    "print(f'Confussion Matrix for test data:\\n{confusion_matrix(y_test, y_pred_test)}')\n",
    "print(f'\\nClassification report for test data:\\n{classification_report(y_test, y_pred_test)}')\n",
    "dectree_results_hyp = baseline_report(grid.best_estimator_, X_train, X_test, y_train, y_test, 'DecisionTreeClassifier')\n",
    "dectree_results_hyp"
   ]
  },
  {
   "cell_type": "markdown",
   "metadata": {
    "ExecuteTime": {
     "end_time": "2020-05-08T10:11:59.288051Z",
     "start_time": "2020-05-08T10:11:59.285059Z"
    }
   },
   "source": [
    "##### Results after the hyperparameter tuning"
   ]
  },
  {
   "cell_type": "code",
   "execution_count": 40,
   "metadata": {
    "ExecuteTime": {
     "end_time": "2020-05-08T23:58:19.480111Z",
     "start_time": "2020-05-08T23:58:19.474323Z"
    }
   },
   "outputs": [
    {
     "name": "stdout",
     "output_type": "stream",
     "text": [
      "DecisionTreeClassifier is giving us the F1 score of 0.915 on the test data.\n",
      "Hyperparameter tuning imporved our score from 0.898 to 0.915\n",
      "DecisionTreeClassifier does not imporve the score from LogisticRegression (score: 0.937)\n"
     ]
    }
   ],
   "source": [
    "results_after_hyp(dectree_results_hyp, dectree_results, logreg_results_hyp)"
   ]
  },
  {
   "cell_type": "markdown",
   "metadata": {},
   "source": [
    "## Random Forest"
   ]
  },
  {
   "cell_type": "markdown",
   "metadata": {},
   "source": [
    "Random forests construct many individual decision trees at training. Predictions from all trees are pooled to make the final prediction, the mode of the classes for classification or the mean prediction for regression. As they use a collection of results to make a final decision, they are referred to as Ensemble techniques."
   ]
  },
  {
   "cell_type": "code",
   "execution_count": 41,
   "metadata": {
    "ExecuteTime": {
     "end_time": "2020-05-08T23:58:20.742382Z",
     "start_time": "2020-05-08T23:58:19.481849Z"
    }
   },
   "outputs": [
    {
     "name": "stdout",
     "output_type": "stream",
     "text": [
      "Confussion Matrix for test data:\n",
      "[[543  30]\n",
      " [ 41 531]]\n",
      "\n",
      "Classification report for test data:\n",
      "              precision    recall  f1-score   support\n",
      "\n",
      "           0       0.93      0.95      0.94       573\n",
      "           1       0.95      0.93      0.94       572\n",
      "\n",
      "    accuracy                           0.94      1145\n",
      "   macro avg       0.94      0.94      0.94      1145\n",
      "weighted avg       0.94      0.94      0.94      1145\n",
      "\n"
     ]
    },
    {
     "data": {
      "text/html": [
       "<div>\n",
       "<style scoped>\n",
       "    .dataframe tbody tr th:only-of-type {\n",
       "        vertical-align: middle;\n",
       "    }\n",
       "\n",
       "    .dataframe tbody tr th {\n",
       "        vertical-align: top;\n",
       "    }\n",
       "\n",
       "    .dataframe thead th {\n",
       "        text-align: right;\n",
       "    }\n",
       "</style>\n",
       "<table border=\"1\" class=\"dataframe\">\n",
       "  <thead>\n",
       "    <tr style=\"text-align: right;\">\n",
       "      <th></th>\n",
       "      <th>data</th>\n",
       "      <th>model</th>\n",
       "      <th>accuracy</th>\n",
       "      <th>precision</th>\n",
       "      <th>recall</th>\n",
       "      <th>f1score</th>\n",
       "      <th>rocauc</th>\n",
       "      <th>logloss</th>\n",
       "    </tr>\n",
       "  </thead>\n",
       "  <tbody>\n",
       "    <tr>\n",
       "      <td>0</td>\n",
       "      <td>training</td>\n",
       "      <td>RandomForestClassifier</td>\n",
       "      <td>0.929983</td>\n",
       "      <td>0.949681</td>\n",
       "      <td>0.904190</td>\n",
       "      <td>0.926522</td>\n",
       "      <td>0.976821</td>\n",
       "      <td>0.219828</td>\n",
       "    </tr>\n",
       "    <tr>\n",
       "      <td>1</td>\n",
       "      <td>test</td>\n",
       "      <td>RandomForestClassifier</td>\n",
       "      <td>0.925774</td>\n",
       "      <td>0.953566</td>\n",
       "      <td>0.917803</td>\n",
       "      <td>0.927362</td>\n",
       "      <td>0.978508</td>\n",
       "      <td>2.292553</td>\n",
       "    </tr>\n",
       "  </tbody>\n",
       "</table>\n",
       "</div>"
      ],
      "text/plain": [
       "       data                   model  accuracy  precision    recall   f1score  \\\n",
       "0  training  RandomForestClassifier  0.929983   0.949681  0.904190  0.926522   \n",
       "1      test  RandomForestClassifier  0.925774   0.953566  0.917803  0.927362   \n",
       "\n",
       "     rocauc   logloss  \n",
       "0  0.976821  0.219828  \n",
       "1  0.978508  2.292553  "
      ]
     },
     "execution_count": 41,
     "metadata": {},
     "output_type": "execute_result"
    }
   ],
   "source": [
    "from sklearn.ensemble import RandomForestClassifier\n",
    "\n",
    "rfor = RandomForestClassifier()\n",
    "rfor.fit(X_train, y_train)\n",
    "\n",
    "y_pred_test = rfor.predict(X_test)\n",
    "\n",
    "print(f'Confussion Matrix for test data:\\n{confusion_matrix(y_test, y_pred_test)}')\n",
    "print(f'\\nClassification report for test data:\\n{classification_report(y_test, y_pred_test)}')\n",
    "rfor_results = baseline_report(rfor, X_train, X_test, y_train, y_test, 'RandomForestClassifier')\n",
    "rfor_results"
   ]
  },
  {
   "cell_type": "markdown",
   "metadata": {
    "ExecuteTime": {
     "end_time": "2020-05-08T10:11:52.358755Z",
     "start_time": "2020-05-08T10:11:52.343131Z"
    }
   },
   "source": [
    "##### Results with default parameters"
   ]
  },
  {
   "cell_type": "code",
   "execution_count": 42,
   "metadata": {
    "ExecuteTime": {
     "end_time": "2020-05-08T23:58:20.749235Z",
     "start_time": "2020-05-08T23:58:20.743986Z"
    }
   },
   "outputs": [
    {
     "name": "stdout",
     "output_type": "stream",
     "text": [
      "RandomForestClassifier is giving us the F1 score of 0.927 on the test data.\n",
      "RandomForestClassifier improves the result from DecisionTreeClassifier (score: 0.915)\n"
     ]
    }
   ],
   "source": [
    "results_defaut(rfor_results, dectree_results_hyp)"
   ]
  },
  {
   "cell_type": "markdown",
   "metadata": {},
   "source": [
    "### Feature importance"
   ]
  },
  {
   "cell_type": "markdown",
   "metadata": {},
   "source": [
    "Feature importance is calculated as the decrease in node impurity weighted by the probability of reaching that node. The node probability can be calculated by the number of samples that reach the node, divided by the total number of samples. The higher the value the more important the feature."
   ]
  },
  {
   "cell_type": "code",
   "execution_count": 43,
   "metadata": {
    "ExecuteTime": {
     "end_time": "2020-05-08T23:58:21.661774Z",
     "start_time": "2020-05-08T23:58:20.750904Z"
    }
   },
   "outputs": [
    {
     "data": {
      "image/png": "[encoded data removed]",
      "text/plain": [
       "<Figure size 1080x1080 with 1 Axes>"
      ]
     },
     "metadata": {
      "needs_background": "light"
     },
     "output_type": "display_data"
    }
   ],
   "source": [
    "plot_feature_importances(rfor, df_encoded)\n",
    "# plt.savefig('images/feature_importance_rfor_final')"
   ]
  },
  {
   "cell_type": "markdown",
   "metadata": {},
   "source": [
    "We can see a slight difference in the feature selection from the features selected with Decision Tree. Here the importance of the ProductRelated_Duration is much lower. \n",
    "\n",
    "The randomness in building the random forest forces the algorithm to consider many possible explanations, the result being that the random forest captures a much broader picture of the data than a single tree.\n",
    "\n",
    "The most important feature from the Random Forest is Administrative_Duration. Other 6 important features are: ExitRates, Administrative, ProductRelated_Duration, ProductRelated, BounceRates and Informational_Duration. \n",
    "\n",
    "The same as in the Decision Tree, we should leave only the most important features."
   ]
  },
  {
   "cell_type": "markdown",
   "metadata": {},
   "source": [
    "### Hyperparameter Tuning"
   ]
  },
  {
   "cell_type": "markdown",
   "metadata": {},
   "source": [
    "##### GridSearchCV"
   ]
  },
  {
   "cell_type": "markdown",
   "metadata": {},
   "source": [
    "Parameters that we will be checking:\n",
    "\n",
    "**n_estimators**: integer, optional (default=100). The number of trees in the forest. The default value of n_estimators changed from 10 to 100 in version 0.22.\n",
    "\n",
    "**max_features**: int, float, string or None, optional (default=”auto”). The number of features to consider when looking for the best split:\n",
    "\n",
    "If int, then consider max_features features at each split.\n",
    "\n",
    "If float, then max_features is a fraction and int(max_features * n_features) features are considered at each split.\n",
    "\n",
    "If “auto”, then max_features=sqrt(n_features).\n",
    "\n",
    "If “sqrt”, then max_features=sqrt(n_features) (same as “auto”).\n",
    "\n",
    "If “log2”, then max_features=log2(n_features).\n",
    "\n",
    "If None, then max_features=n_features.\n",
    "\n",
    "Note: the search for a split does not stop until at least one valid partition of the node samples is found, even if it requires to effectively inspect more than max_features features.\n",
    "\n",
    "**max_depth**: integer or None, optional (default=None). The maximum depth of the tree. If None, then nodes are expanded until all leaves are pure or until all leaves contain less than min_samples_split samples.\n",
    "\n",
    "**criterion**: string, optional (default=”gini”). The function to measure the quality of a split. Supported criteria are “gini” for the Gini impurity and “entropy” for the information gain. Note: this parameter is tree-specific."
   ]
  },
  {
   "cell_type": "code",
   "execution_count": 44,
   "metadata": {
    "ExecuteTime": {
     "end_time": "2020-05-08T23:58:58.050387Z",
     "start_time": "2020-05-08T23:58:21.663533Z"
    }
   },
   "outputs": [
    {
     "name": "stdout",
     "output_type": "stream",
     "text": [
      "Fitting 3 folds for each of 60 candidates, totalling 180 fits\n"
     ]
    },
    {
     "name": "stderr",
     "output_type": "stream",
     "text": [
      "[Parallel(n_jobs=-1)]: Using backend LokyBackend with 8 concurrent workers.\n",
      "[Parallel(n_jobs=-1)]: Done  34 tasks      | elapsed:    6.7s\n",
      "[Parallel(n_jobs=-1)]: Done 180 out of 180 | elapsed:   35.2s finished\n"
     ]
    },
    {
     "name": "stdout",
     "output_type": "stream",
     "text": [
      "{'criterion': 'entropy', 'max_depth': 8, 'max_features': 'sqrt', 'n_estimators': 500}\n"
     ]
    }
   ],
   "source": [
    "param_grid = {'n_estimators': [200, 500],\n",
    "              'max_features': ['auto', 'sqrt', 'log2'],\n",
    "              'max_depth' : [4,5,6,7,8],\n",
    "              'criterion' :['gini', 'entropy']}\n",
    "\n",
    "grid = GridSearchCV(RandomForestClassifier(), param_grid, verbose=1, cv=3, n_jobs=-1, scoring='f1')                 \n",
    "grid.fit(X_train, y_train)  \n",
    "\n",
    "best_rfor = grid.best_estimator_ # pipeline model\n",
    "best_params_rfor = grid.best_params_\n",
    "print(best_params_rfor)"
   ]
  },
  {
   "cell_type": "markdown",
   "metadata": {},
   "source": [
    "We now know the best parameters for our model. The second step is to evaluate our model with the selection of the best parameters and see the impact on the scores."
   ]
  },
  {
   "cell_type": "code",
   "execution_count": 45,
   "metadata": {
    "ExecuteTime": {
     "end_time": "2020-05-08T23:59:47.968409Z",
     "start_time": "2020-05-08T23:58:58.052619Z"
    }
   },
   "outputs": [
    {
     "name": "stdout",
     "output_type": "stream",
     "text": [
      "Confussion Matrix for test data:\n",
      "[[549  24]\n",
      " [ 42 530]]\n",
      "\n",
      "Classification report for test data:\n",
      "              precision    recall  f1-score   support\n",
      "\n",
      "           0       0.93      0.96      0.94       573\n",
      "           1       0.96      0.93      0.94       572\n",
      "\n",
      "    accuracy                           0.94      1145\n",
      "   macro avg       0.94      0.94      0.94      1145\n",
      "weighted avg       0.94      0.94      0.94      1145\n",
      "\n"
     ]
    },
    {
     "data": {
      "text/html": [
       "<div>\n",
       "<style scoped>\n",
       "    .dataframe tbody tr th:only-of-type {\n",
       "        vertical-align: middle;\n",
       "    }\n",
       "\n",
       "    .dataframe tbody tr th {\n",
       "        vertical-align: top;\n",
       "    }\n",
       "\n",
       "    .dataframe thead th {\n",
       "        text-align: right;\n",
       "    }\n",
       "</style>\n",
       "<table border=\"1\" class=\"dataframe\">\n",
       "  <thead>\n",
       "    <tr style=\"text-align: right;\">\n",
       "      <th></th>\n",
       "      <th>data</th>\n",
       "      <th>model</th>\n",
       "      <th>accuracy</th>\n",
       "      <th>precision</th>\n",
       "      <th>recall</th>\n",
       "      <th>f1score</th>\n",
       "      <th>rocauc</th>\n",
       "      <th>logloss</th>\n",
       "    </tr>\n",
       "  </thead>\n",
       "  <tbody>\n",
       "    <tr>\n",
       "      <td>0</td>\n",
       "      <td>training</td>\n",
       "      <td>RandomForestClassifier</td>\n",
       "      <td>0.937846</td>\n",
       "      <td>0.962246</td>\n",
       "      <td>0.910163</td>\n",
       "      <td>0.936342</td>\n",
       "      <td>0.984439</td>\n",
       "      <td>1.474142</td>\n",
       "    </tr>\n",
       "    <tr>\n",
       "      <td>1</td>\n",
       "      <td>test</td>\n",
       "      <td>RandomForestClassifier</td>\n",
       "      <td>0.937998</td>\n",
       "      <td>0.943984</td>\n",
       "      <td>0.926575</td>\n",
       "      <td>0.936226</td>\n",
       "      <td>0.987974</td>\n",
       "      <td>2.081394</td>\n",
       "    </tr>\n",
       "  </tbody>\n",
       "</table>\n",
       "</div>"
      ],
      "text/plain": [
       "       data                   model  accuracy  precision    recall   f1score  \\\n",
       "0  training  RandomForestClassifier  0.937846   0.962246  0.910163  0.936342   \n",
       "1      test  RandomForestClassifier  0.937998   0.943984  0.926575  0.936226   \n",
       "\n",
       "     rocauc   logloss  \n",
       "0  0.984439  1.474142  \n",
       "1  0.987974  2.081394  "
      ]
     },
     "execution_count": 45,
     "metadata": {},
     "output_type": "execute_result"
    }
   ],
   "source": [
    "y_pred_test = grid.predict(X_test)\n",
    "\n",
    "print(f'Confussion Matrix for test data:\\n{confusion_matrix(y_test, y_pred_test)}')\n",
    "print(f'\\nClassification report for test data:\\n{classification_report(y_test, y_pred_test)}')\n",
    "rfor_results_hyp = baseline_report(grid.best_estimator_, X_train, X_test, y_train, y_test, 'RandomForestClassifier')\n",
    "rfor_results_hyp"
   ]
  },
  {
   "cell_type": "markdown",
   "metadata": {
    "ExecuteTime": {
     "end_time": "2020-05-08T10:11:59.288051Z",
     "start_time": "2020-05-08T10:11:59.285059Z"
    }
   },
   "source": [
    "##### Results after the hyperparameter tuning"
   ]
  },
  {
   "cell_type": "code",
   "execution_count": 46,
   "metadata": {
    "ExecuteTime": {
     "end_time": "2020-05-08T23:59:47.976480Z",
     "start_time": "2020-05-08T23:59:47.970261Z"
    }
   },
   "outputs": [
    {
     "name": "stdout",
     "output_type": "stream",
     "text": [
      "RandomForestClassifier is giving us the F1 score of 0.936 on the test data.\n",
      "Hyperparameter tuning imporved our score from 0.927 to 0.936\n",
      "RandomForestClassifier improves the result from DecisionTreeClassifier (score: 0.915)\n"
     ]
    }
   ],
   "source": [
    "results_after_hyp(rfor_results_hyp, rfor_results, dectree_results_hyp)"
   ]
  },
  {
   "cell_type": "markdown",
   "metadata": {},
   "source": [
    "## Linear Support Vector Classification"
   ]
  },
  {
   "cell_type": "markdown",
   "metadata": {},
   "source": [
    "The objective of a Linear SVC (Support Vector Classifier) is to fit to the data provided, returning a 'best fit' hyperplane that divides or categorizes the data. After getting the hyperplane, you can then feed some features to the classifier to see what the 'predicted' class is. It has more flexibility in the choice of penalties and loss functions and should scale better to large numbers of samples compared to SVC."
   ]
  },
  {
   "cell_type": "code",
   "execution_count": 47,
   "metadata": {
    "ExecuteTime": {
     "end_time": "2020-05-08T23:59:52.706957Z",
     "start_time": "2020-05-08T23:59:47.978046Z"
    }
   },
   "outputs": [
    {
     "name": "stdout",
     "output_type": "stream",
     "text": [
      "Confussion Matrix for test data:\n",
      "[[547  26]\n",
      " [ 42 530]]\n",
      "\n",
      "Classification report for test data:\n",
      "              precision    recall  f1-score   support\n",
      "\n",
      "           0       0.93      0.95      0.94       573\n",
      "           1       0.95      0.93      0.94       572\n",
      "\n",
      "    accuracy                           0.94      1145\n",
      "   macro avg       0.94      0.94      0.94      1145\n",
      "weighted avg       0.94      0.94      0.94      1145\n",
      "\n"
     ]
    },
    {
     "data": {
      "text/html": [
       "<div>\n",
       "<style scoped>\n",
       "    .dataframe tbody tr th:only-of-type {\n",
       "        vertical-align: middle;\n",
       "    }\n",
       "\n",
       "    .dataframe tbody tr th {\n",
       "        vertical-align: top;\n",
       "    }\n",
       "\n",
       "    .dataframe thead th {\n",
       "        text-align: right;\n",
       "    }\n",
       "</style>\n",
       "<table border=\"1\" class=\"dataframe\">\n",
       "  <thead>\n",
       "    <tr style=\"text-align: right;\">\n",
       "      <th></th>\n",
       "      <th>data</th>\n",
       "      <th>model</th>\n",
       "      <th>accuracy</th>\n",
       "      <th>precision</th>\n",
       "      <th>recall</th>\n",
       "      <th>f1score</th>\n",
       "      <th>rocauc</th>\n",
       "      <th>logloss</th>\n",
       "    </tr>\n",
       "  </thead>\n",
       "  <tbody>\n",
       "    <tr>\n",
       "      <td>0</td>\n",
       "      <td>training</td>\n",
       "      <td>LinearSVC</td>\n",
       "      <td>0.926993</td>\n",
       "      <td>0.949359</td>\n",
       "      <td>0.907935</td>\n",
       "      <td>0.925969</td>\n",
       "      <td>0.980821</td>\n",
       "      <td>2.004324</td>\n",
       "    </tr>\n",
       "    <tr>\n",
       "      <td>1</td>\n",
       "      <td>test</td>\n",
       "      <td>LinearSVC</td>\n",
       "      <td>0.935328</td>\n",
       "      <td>0.950808</td>\n",
       "      <td>0.926667</td>\n",
       "      <td>0.929096</td>\n",
       "      <td>0.983461</td>\n",
       "      <td>2.051229</td>\n",
       "    </tr>\n",
       "  </tbody>\n",
       "</table>\n",
       "</div>"
      ],
      "text/plain": [
       "       data      model  accuracy  precision    recall   f1score    rocauc  \\\n",
       "0  training  LinearSVC  0.926993   0.949359  0.907935  0.925969  0.980821   \n",
       "1      test  LinearSVC  0.935328   0.950808  0.926667  0.929096  0.983461   \n",
       "\n",
       "    logloss  \n",
       "0  2.004324  \n",
       "1  2.051229  "
      ]
     },
     "execution_count": 47,
     "metadata": {},
     "output_type": "execute_result"
    }
   ],
   "source": [
    "from sklearn.svm import LinearSVC\n",
    "\n",
    "linearsvc = LinearSVC()\n",
    "linearsvc.fit(X_train, y_train)\n",
    "\n",
    "y_pred_test = linearsvc.predict(X_test)\n",
    "\n",
    "print(f'Confussion Matrix for test data:\\n{confusion_matrix(y_test, y_pred_test)}')\n",
    "print(f'\\nClassification report for test data:\\n{classification_report(y_test, y_pred_test)}')\n",
    "linearsvc_results = baseline_report(linearsvc, X_train, X_test, y_train, y_test, 'LinearSVC')\n",
    "linearsvc_results"
   ]
  },
  {
   "cell_type": "markdown",
   "metadata": {
    "ExecuteTime": {
     "end_time": "2020-05-08T10:11:52.358755Z",
     "start_time": "2020-05-08T10:11:52.343131Z"
    }
   },
   "source": [
    "##### Results with default parameters"
   ]
  },
  {
   "cell_type": "code",
   "execution_count": 48,
   "metadata": {
    "ExecuteTime": {
     "end_time": "2020-05-08T23:59:52.714868Z",
     "start_time": "2020-05-08T23:59:52.708872Z"
    }
   },
   "outputs": [
    {
     "name": "stdout",
     "output_type": "stream",
     "text": [
      "LinearSVC is giving us the F1 score of 0.929 on the test data.\n",
      "LinearSVC does not imporve the score from RandomForestClassifier (score: 0.936\n"
     ]
    }
   ],
   "source": [
    "results_defaut(linearsvc_results, rfor_results_hyp)"
   ]
  },
  {
   "cell_type": "code",
   "execution_count": 49,
   "metadata": {
    "ExecuteTime": {
     "end_time": "2020-05-08T23:59:52.934781Z",
     "start_time": "2020-05-08T23:59:52.717213Z"
    },
    "scrolled": false
   },
   "outputs": [
    {
     "data": {
      "image/png": "[encoded data removed]",
      "text/plain": [
       "<Figure size 720x720 with 2 Axes>"
      ]
     },
     "metadata": {
      "needs_background": "light"
     },
     "output_type": "display_data"
    }
   ],
   "source": [
    "# Visualizing results\n",
    "\n",
    "sns.heatmap(confusion_matrix(y_test, y_pred_test), annot=True)\n",
    "plt.show()"
   ]
  },
  {
   "cell_type": "markdown",
   "metadata": {},
   "source": [
    "### Hyperparameter Tuning"
   ]
  },
  {
   "cell_type": "markdown",
   "metadata": {},
   "source": [
    "##### GridSearchCV"
   ]
  },
  {
   "cell_type": "markdown",
   "metadata": {},
   "source": [
    "Parameters that we will be checking:\n",
    "\n",
    "**C**: float, optional (default=1.0). Regularization parameter. The strength of the regularization is inversely proportional to C. Must be strictly positive.\n",
    "\n",
    "**multi_class**: str, ‘ovr’ or ‘crammer_singer’ (default=’ovr’). Determines the multi-class strategy if y contains more than two classes. \n",
    "\n",
    "\"ovr\" trains n_classes one-vs-rest classifiers, while \"crammer_singer\" optimizes a joint objective over all classes. While crammer_singer is interesting from a theoretical perspective as it is consistent, it is seldom used in practice as it rarely leads to better accuracy and is more expensive to compute. If \"crammer_singer\" is chosen, the options loss, penalty and dual will be ignored.\n",
    "\n",
    "**penalty**: str, ‘l1’ or ‘l2’ (default=’l2’). Specifies the norm used in the penalization. The ‘l2’ penalty is the standard used in SVC. The ‘l1’ leads to coef_ vectors that are sparse.\n",
    "\n",
    "**loss**: str, ‘hinge’ or ‘squared_hinge’ (default=’squared_hinge’). Specifies the loss function. ‘hinge’ is the standard SVM loss (used e.g. by the SVC class) while ‘squared_hinge’ is the square of the hinge loss.\n",
    "\n",
    "**dual**: bool, (default=True). Select the algorithm to either solve the dual or primal optimization problem. Prefer dual=False when n_samples > n_features."
   ]
  },
  {
   "cell_type": "code",
   "execution_count": 50,
   "metadata": {
    "ExecuteTime": {
     "end_time": "2020-05-09T00:00:19.827763Z",
     "start_time": "2020-05-08T23:59:52.937216Z"
    }
   },
   "outputs": [
    {
     "name": "stdout",
     "output_type": "stream",
     "text": [
      "Fitting 3 folds for each of 24 candidates, totalling 72 fits\n"
     ]
    },
    {
     "name": "stderr",
     "output_type": "stream",
     "text": [
      "[Parallel(n_jobs=-1)]: Using backend LokyBackend with 8 concurrent workers.\n"
     ]
    },
    {
     "name": "stdout",
     "output_type": "stream",
     "text": [
      "{'C': 0.1, 'dual': 0, 'loss': 'squared_hinge', 'multi_class': 'ovr', 'penalty': 'l1'}\n"
     ]
    },
    {
     "name": "stderr",
     "output_type": "stream",
     "text": [
      "[Parallel(n_jobs=-1)]: Done  72 out of  72 | elapsed:   26.7s finished\n"
     ]
    }
   ],
   "source": [
    "c_values = list(10.0**np.arange(-3, 3))\n",
    "\n",
    "param_grid = [{'C': c_values,\n",
    "              'multi_class': ['ovr', 'crammer_singer'],\n",
    "              'penalty': ['l1'],\n",
    "              'loss': ['squared_hinge'],\n",
    "              'dual': [0]},\n",
    "              {'C': c_values,\n",
    "              'multi_class': ['ovr', 'crammer_singer'],\n",
    "              'penalty': ['l2'],\n",
    "              'loss': ['squared_hinge'],\n",
    "              'dual': [1]}]\n",
    "\n",
    "grid = GridSearchCV(LinearSVC(), param_grid, verbose=1, cv=3, n_jobs=-1, scoring='f1')                 \n",
    "grid.fit(X_train, y_train)  \n",
    "\n",
    "best_linearsvc = grid.best_estimator_ # pipeline model\n",
    "best_params_linearsvc = grid.best_params_\n",
    "print(best_params_linearsvc)"
   ]
  },
  {
   "cell_type": "markdown",
   "metadata": {},
   "source": [
    "We now know the best parameters for our model. The second step is to evaluate our model with the selection of the best parameters and see the impact on the scores."
   ]
  },
  {
   "cell_type": "code",
   "execution_count": 51,
   "metadata": {
    "ExecuteTime": {
     "end_time": "2020-05-09T00:00:24.323376Z",
     "start_time": "2020-05-09T00:00:19.829727Z"
    }
   },
   "outputs": [
    {
     "name": "stdout",
     "output_type": "stream",
     "text": [
      "Confussion Matrix for test data:\n",
      "[[549  24]\n",
      " [ 44 528]]\n",
      "\n",
      "Classification report for test data:\n",
      "              precision    recall  f1-score   support\n",
      "\n",
      "           0       0.93      0.96      0.94       573\n",
      "           1       0.96      0.92      0.94       572\n",
      "\n",
      "    accuracy                           0.94      1145\n",
      "   macro avg       0.94      0.94      0.94      1145\n",
      "weighted avg       0.94      0.94      0.94      1145\n",
      "\n"
     ]
    },
    {
     "data": {
      "text/html": [
       "<div>\n",
       "<style scoped>\n",
       "    .dataframe tbody tr th:only-of-type {\n",
       "        vertical-align: middle;\n",
       "    }\n",
       "\n",
       "    .dataframe tbody tr th {\n",
       "        vertical-align: top;\n",
       "    }\n",
       "\n",
       "    .dataframe thead th {\n",
       "        text-align: right;\n",
       "    }\n",
       "</style>\n",
       "<table border=\"1\" class=\"dataframe\">\n",
       "  <thead>\n",
       "    <tr style=\"text-align: right;\">\n",
       "      <th></th>\n",
       "      <th>data</th>\n",
       "      <th>model</th>\n",
       "      <th>accuracy</th>\n",
       "      <th>precision</th>\n",
       "      <th>recall</th>\n",
       "      <th>f1score</th>\n",
       "      <th>rocauc</th>\n",
       "      <th>logloss</th>\n",
       "    </tr>\n",
       "  </thead>\n",
       "  <tbody>\n",
       "    <tr>\n",
       "      <td>0</td>\n",
       "      <td>training</td>\n",
       "      <td>LinearSVC</td>\n",
       "      <td>0.930742</td>\n",
       "      <td>0.952882</td>\n",
       "      <td>0.905699</td>\n",
       "      <td>0.925267</td>\n",
       "      <td>0.982662</td>\n",
       "      <td>2.159496</td>\n",
       "    </tr>\n",
       "    <tr>\n",
       "      <td>1</td>\n",
       "      <td>test</td>\n",
       "      <td>LinearSVC</td>\n",
       "      <td>0.937990</td>\n",
       "      <td>0.946269</td>\n",
       "      <td>0.916079</td>\n",
       "      <td>0.941493</td>\n",
       "      <td>0.986045</td>\n",
       "      <td>2.051228</td>\n",
       "    </tr>\n",
       "  </tbody>\n",
       "</table>\n",
       "</div>"
      ],
      "text/plain": [
       "       data      model  accuracy  precision    recall   f1score    rocauc  \\\n",
       "0  training  LinearSVC  0.930742   0.952882  0.905699  0.925267  0.982662   \n",
       "1      test  LinearSVC  0.937990   0.946269  0.916079  0.941493  0.986045   \n",
       "\n",
       "    logloss  \n",
       "0  2.159496  \n",
       "1  2.051228  "
      ]
     },
     "execution_count": 51,
     "metadata": {},
     "output_type": "execute_result"
    }
   ],
   "source": [
    "y_pred_test = grid.predict(X_test)\n",
    "\n",
    "print(f'Confussion Matrix for test data:\\n{confusion_matrix(y_test, y_pred_test)}')\n",
    "print(f'\\nClassification report for test data:\\n{classification_report(y_test, y_pred_test)}')\n",
    "linearsvc_results_hyp = baseline_report(grid.best_estimator_, X_train, X_test, y_train, y_test, 'LinearSVC')\n",
    "linearsvc_results_hyp"
   ]
  },
  {
   "cell_type": "markdown",
   "metadata": {
    "ExecuteTime": {
     "end_time": "2020-05-08T10:11:59.288051Z",
     "start_time": "2020-05-08T10:11:59.285059Z"
    }
   },
   "source": [
    "##### Results after the hyperparameter tuning"
   ]
  },
  {
   "cell_type": "code",
   "execution_count": 52,
   "metadata": {
    "ExecuteTime": {
     "end_time": "2020-05-09T00:00:24.334110Z",
     "start_time": "2020-05-09T00:00:24.325234Z"
    }
   },
   "outputs": [
    {
     "name": "stdout",
     "output_type": "stream",
     "text": [
      "LinearSVC is giving us the F1 score of 0.941 on the test data.\n",
      "Hyperparameter tuning imporved our score from 0.929 to 0.941\n",
      "LinearSVC improves the result from RandomForestClassifier (score: 0.936)\n"
     ]
    }
   ],
   "source": [
    "results_after_hyp(linearsvc_results_hyp, linearsvc_results, rfor_results_hyp)"
   ]
  },
  {
   "cell_type": "markdown",
   "metadata": {},
   "source": [
    "## Gaussian Naive Bayes"
   ]
  },
  {
   "cell_type": "markdown",
   "metadata": {},
   "source": [
    "A Gaussian Naive Bayes algorithm is a special type of NB algorithm. It assumes that all the features are following a gaussian distribution i.e, normal distribution and that the value of a particular feature is independent of the value of any other feature, given the class variable. An advantage of naive Bayes is that it only requires a small number of training data to estimate the parameters necessary for classification. "
   ]
  },
  {
   "cell_type": "code",
   "execution_count": 53,
   "metadata": {
    "ExecuteTime": {
     "end_time": "2020-05-09T00:00:24.587239Z",
     "start_time": "2020-05-09T00:00:24.335978Z"
    }
   },
   "outputs": [
    {
     "name": "stdout",
     "output_type": "stream",
     "text": [
      "Confussion Matrix for test data:\n",
      "[[556  17]\n",
      " [ 69 503]]\n",
      "\n",
      "Classification report for test data:\n",
      "              precision    recall  f1-score   support\n",
      "\n",
      "           0       0.89      0.97      0.93       573\n",
      "           1       0.97      0.88      0.92       572\n",
      "\n",
      "    accuracy                           0.92      1145\n",
      "   macro avg       0.93      0.92      0.92      1145\n",
      "weighted avg       0.93      0.92      0.92      1145\n",
      "\n"
     ]
    },
    {
     "data": {
      "text/html": [
       "<div>\n",
       "<style scoped>\n",
       "    .dataframe tbody tr th:only-of-type {\n",
       "        vertical-align: middle;\n",
       "    }\n",
       "\n",
       "    .dataframe tbody tr th {\n",
       "        vertical-align: top;\n",
       "    }\n",
       "\n",
       "    .dataframe thead th {\n",
       "        text-align: right;\n",
       "    }\n",
       "</style>\n",
       "<table border=\"1\" class=\"dataframe\">\n",
       "  <thead>\n",
       "    <tr style=\"text-align: right;\">\n",
       "      <th></th>\n",
       "      <th>data</th>\n",
       "      <th>model</th>\n",
       "      <th>accuracy</th>\n",
       "      <th>precision</th>\n",
       "      <th>recall</th>\n",
       "      <th>f1score</th>\n",
       "      <th>rocauc</th>\n",
       "      <th>logloss</th>\n",
       "    </tr>\n",
       "  </thead>\n",
       "  <tbody>\n",
       "    <tr>\n",
       "      <td>0</td>\n",
       "      <td>training</td>\n",
       "      <td>GaussianNB</td>\n",
       "      <td>0.912760</td>\n",
       "      <td>0.96246</td>\n",
       "      <td>0.851054</td>\n",
       "      <td>0.911092</td>\n",
       "      <td>0.972049</td>\n",
       "      <td>2.857767</td>\n",
       "    </tr>\n",
       "    <tr>\n",
       "      <td>1</td>\n",
       "      <td>test</td>\n",
       "      <td>GaussianNB</td>\n",
       "      <td>0.923116</td>\n",
       "      <td>0.93527</td>\n",
       "      <td>0.902075</td>\n",
       "      <td>0.920647</td>\n",
       "      <td>0.959902</td>\n",
       "      <td>2.594191</td>\n",
       "    </tr>\n",
       "  </tbody>\n",
       "</table>\n",
       "</div>"
      ],
      "text/plain": [
       "       data       model  accuracy  precision    recall   f1score    rocauc  \\\n",
       "0  training  GaussianNB  0.912760    0.96246  0.851054  0.911092  0.972049   \n",
       "1      test  GaussianNB  0.923116    0.93527  0.902075  0.920647  0.959902   \n",
       "\n",
       "    logloss  \n",
       "0  2.857767  \n",
       "1  2.594191  "
      ]
     },
     "execution_count": 53,
     "metadata": {},
     "output_type": "execute_result"
    }
   ],
   "source": [
    "from sklearn.naive_bayes import GaussianNB\n",
    "\n",
    "naive_b = GaussianNB()\n",
    "naive_b.fit(X_train, y_train)\n",
    "\n",
    "y_pred_test = naive_b.predict(X_test)\n",
    "\n",
    "print(f'Confussion Matrix for test data:\\n{confusion_matrix(y_test, y_pred_test)}')\n",
    "print(f'\\nClassification report for test data:\\n{classification_report(y_test, y_pred_test)}')\n",
    "naive_b_results = baseline_report(naive_b, X_train, X_test, y_train, y_test, 'GaussianNB')\n",
    "naive_b_results"
   ]
  },
  {
   "cell_type": "markdown",
   "metadata": {
    "ExecuteTime": {
     "end_time": "2020-05-08T10:11:52.358755Z",
     "start_time": "2020-05-08T10:11:52.343131Z"
    }
   },
   "source": [
    "##### Results with default parameters"
   ]
  },
  {
   "cell_type": "code",
   "execution_count": 54,
   "metadata": {
    "ExecuteTime": {
     "end_time": "2020-05-09T00:00:24.593623Z",
     "start_time": "2020-05-09T00:00:24.589046Z"
    }
   },
   "outputs": [
    {
     "name": "stdout",
     "output_type": "stream",
     "text": [
      "GaussianNB is giving us the F1 score of 0.921 on the test data.\n",
      "GaussianNB does not imporve the score from LinearSVC (score: 0.941\n"
     ]
    }
   ],
   "source": [
    "results_defaut(naive_b_results, linearsvc_results_hyp)"
   ]
  },
  {
   "cell_type": "markdown",
   "metadata": {},
   "source": [
    "### Hyperparameter Tuning"
   ]
  },
  {
   "cell_type": "markdown",
   "metadata": {},
   "source": [
    "##### GridSearchCV"
   ]
  },
  {
   "cell_type": "markdown",
   "metadata": {},
   "source": [
    "Parameters that we will be checking:\n",
    "\n",
    "**var_smoothing** : float, optional (default=1e-9). Portion of the largest variance of all features that is added to variances for calculation stability."
   ]
  },
  {
   "cell_type": "code",
   "execution_count": 55,
   "metadata": {
    "ExecuteTime": {
     "end_time": "2020-05-09T00:00:24.691597Z",
     "start_time": "2020-05-09T00:00:24.595596Z"
    }
   },
   "outputs": [
    {
     "name": "stdout",
     "output_type": "stream",
     "text": [
      "Fitting 3 folds for each of 5 candidates, totalling 15 fits\n",
      "{'var_smoothing': 1e-06}\n"
     ]
    },
    {
     "name": "stderr",
     "output_type": "stream",
     "text": [
      "[Parallel(n_jobs=-1)]: Using backend LokyBackend with 8 concurrent workers.\n",
      "[Parallel(n_jobs=-1)]: Done  15 out of  15 | elapsed:    0.1s finished\n"
     ]
    }
   ],
   "source": [
    "smooth = list(10.0**np.arange(-9, -4))\n",
    "\n",
    "param_grid = {'var_smoothing' : smooth}\n",
    "\n",
    "grid = GridSearchCV(GaussianNB(), param_grid, verbose=1, cv=3, n_jobs=-1, scoring='f1')                 \n",
    "grid.fit(X_train, y_train)  \n",
    "\n",
    "best_naive_b = grid.best_estimator_ # pipeline model\n",
    "best_params_naive_b = grid.best_params_\n",
    "print(best_params_naive_b)"
   ]
  },
  {
   "cell_type": "markdown",
   "metadata": {},
   "source": [
    "We now know the best parameters for our model. The second step is to evaluate our model with the selection of the best parameters and see the impact on the scores."
   ]
  },
  {
   "cell_type": "code",
   "execution_count": 56,
   "metadata": {
    "ExecuteTime": {
     "end_time": "2020-05-09T00:00:24.899288Z",
     "start_time": "2020-05-09T00:00:24.693662Z"
    }
   },
   "outputs": [
    {
     "name": "stdout",
     "output_type": "stream",
     "text": [
      "Confussion Matrix for test data:\n",
      "[[549  24]\n",
      " [ 61 511]]\n",
      "\n",
      "Classification report for test data:\n",
      "              precision    recall  f1-score   support\n",
      "\n",
      "           0       0.90      0.96      0.93       573\n",
      "           1       0.96      0.89      0.92       572\n",
      "\n",
      "    accuracy                           0.93      1145\n",
      "   macro avg       0.93      0.93      0.93      1145\n",
      "weighted avg       0.93      0.93      0.93      1145\n",
      "\n"
     ]
    },
    {
     "data": {
      "text/html": [
       "<div>\n",
       "<style scoped>\n",
       "    .dataframe tbody tr th:only-of-type {\n",
       "        vertical-align: middle;\n",
       "    }\n",
       "\n",
       "    .dataframe tbody tr th {\n",
       "        vertical-align: top;\n",
       "    }\n",
       "\n",
       "    .dataframe thead th {\n",
       "        text-align: right;\n",
       "    }\n",
       "</style>\n",
       "<table border=\"1\" class=\"dataframe\">\n",
       "  <thead>\n",
       "    <tr style=\"text-align: right;\">\n",
       "      <th></th>\n",
       "      <th>data</th>\n",
       "      <th>model</th>\n",
       "      <th>accuracy</th>\n",
       "      <th>precision</th>\n",
       "      <th>recall</th>\n",
       "      <th>f1score</th>\n",
       "      <th>rocauc</th>\n",
       "      <th>logloss</th>\n",
       "    </tr>\n",
       "  </thead>\n",
       "  <tbody>\n",
       "    <tr>\n",
       "      <td>0</td>\n",
       "      <td>training</td>\n",
       "      <td>GaussianNB</td>\n",
       "      <td>0.918379</td>\n",
       "      <td>0.950627</td>\n",
       "      <td>0.876480</td>\n",
       "      <td>0.909407</td>\n",
       "      <td>0.971736</td>\n",
       "      <td>2.767253</td>\n",
       "    </tr>\n",
       "    <tr>\n",
       "      <td>1</td>\n",
       "      <td>test</td>\n",
       "      <td>GaussianNB</td>\n",
       "      <td>0.917033</td>\n",
       "      <td>0.932170</td>\n",
       "      <td>0.903905</td>\n",
       "      <td>0.916374</td>\n",
       "      <td>0.963415</td>\n",
       "      <td>2.564031</td>\n",
       "    </tr>\n",
       "  </tbody>\n",
       "</table>\n",
       "</div>"
      ],
      "text/plain": [
       "       data       model  accuracy  precision    recall   f1score    rocauc  \\\n",
       "0  training  GaussianNB  0.918379   0.950627  0.876480  0.909407  0.971736   \n",
       "1      test  GaussianNB  0.917033   0.932170  0.903905  0.916374  0.963415   \n",
       "\n",
       "    logloss  \n",
       "0  2.767253  \n",
       "1  2.564031  "
      ]
     },
     "execution_count": 56,
     "metadata": {},
     "output_type": "execute_result"
    }
   ],
   "source": [
    "y_pred_test = grid.predict(X_test)\n",
    "\n",
    "print(f'Confussion Matrix for test data:\\n{confusion_matrix(y_test, y_pred_test)}')\n",
    "print(f'\\nClassification report for test data:\\n{classification_report(y_test, y_pred_test)}')\n",
    "naive_b_results_hyp = baseline_report(grid.best_estimator_, X_train, X_test, y_train, y_test, 'GaussianNB')\n",
    "naive_b_results_hyp"
   ]
  },
  {
   "cell_type": "markdown",
   "metadata": {
    "ExecuteTime": {
     "end_time": "2020-05-08T10:11:59.288051Z",
     "start_time": "2020-05-08T10:11:59.285059Z"
    }
   },
   "source": [
    "##### Results after the hyperparameter tuning"
   ]
  },
  {
   "cell_type": "code",
   "execution_count": 57,
   "metadata": {
    "ExecuteTime": {
     "end_time": "2020-05-09T00:00:24.907162Z",
     "start_time": "2020-05-09T00:00:24.901222Z"
    }
   },
   "outputs": [
    {
     "name": "stdout",
     "output_type": "stream",
     "text": [
      "GaussianNB is giving us the F1 score of 0.916 on the test data.\n",
      "Our score after the hyperparameter tuning changed from 0.921 to 0.916\n",
      "GaussianNB does not imporve the score from LinearSVC (score: 0.941)\n"
     ]
    }
   ],
   "source": [
    "results_after_hyp(naive_b_results_hyp, naive_b_results, linearsvc_results_hyp)"
   ]
  },
  {
   "cell_type": "markdown",
   "metadata": {},
   "source": [
    "## Final model evaluation"
   ]
  },
  {
   "cell_type": "markdown",
   "metadata": {},
   "source": [
    "Results of all models before hyperparameter tuning:"
   ]
  },
  {
   "cell_type": "code",
   "execution_count": 58,
   "metadata": {
    "ExecuteTime": {
     "end_time": "2020-05-09T00:00:24.925456Z",
     "start_time": "2020-05-09T00:00:24.909040Z"
    }
   },
   "outputs": [
    {
     "data": {
      "text/html": [
       "<div>\n",
       "<style scoped>\n",
       "    .dataframe tbody tr th:only-of-type {\n",
       "        vertical-align: middle;\n",
       "    }\n",
       "\n",
       "    .dataframe tbody tr th {\n",
       "        vertical-align: top;\n",
       "    }\n",
       "\n",
       "    .dataframe thead th {\n",
       "        text-align: right;\n",
       "    }\n",
       "</style>\n",
       "<table border=\"1\" class=\"dataframe\">\n",
       "  <thead>\n",
       "    <tr style=\"text-align: right;\">\n",
       "      <th></th>\n",
       "      <th>data</th>\n",
       "      <th>model</th>\n",
       "      <th>accuracy</th>\n",
       "      <th>precision</th>\n",
       "      <th>recall</th>\n",
       "      <th>f1score</th>\n",
       "      <th>rocauc</th>\n",
       "      <th>logloss</th>\n",
       "    </tr>\n",
       "  </thead>\n",
       "  <tbody>\n",
       "    <tr>\n",
       "      <td>0</td>\n",
       "      <td>training</td>\n",
       "      <td>KNeighborsClassifier</td>\n",
       "      <td>0.762265</td>\n",
       "      <td>0.778469</td>\n",
       "      <td>0.720082</td>\n",
       "      <td>0.752208</td>\n",
       "      <td>0.839083</td>\n",
       "      <td>5.120734e+00</td>\n",
       "    </tr>\n",
       "    <tr>\n",
       "      <td>1</td>\n",
       "      <td>test</td>\n",
       "      <td>KNeighborsClassifier</td>\n",
       "      <td>0.773811</td>\n",
       "      <td>0.786296</td>\n",
       "      <td>0.735850</td>\n",
       "      <td>0.767087</td>\n",
       "      <td>0.856559</td>\n",
       "      <td>7.963604e+00</td>\n",
       "    </tr>\n",
       "    <tr>\n",
       "      <td>2</td>\n",
       "      <td>training</td>\n",
       "      <td>LogisticRegression</td>\n",
       "      <td>0.925498</td>\n",
       "      <td>0.948168</td>\n",
       "      <td>0.904184</td>\n",
       "      <td>0.927918</td>\n",
       "      <td>0.979401</td>\n",
       "      <td>2.107773e+00</td>\n",
       "    </tr>\n",
       "    <tr>\n",
       "      <td>3</td>\n",
       "      <td>test</td>\n",
       "      <td>LogisticRegression</td>\n",
       "      <td>0.937109</td>\n",
       "      <td>0.942520</td>\n",
       "      <td>0.914401</td>\n",
       "      <td>0.935317</td>\n",
       "      <td>0.982191</td>\n",
       "      <td>2.021065e+00</td>\n",
       "    </tr>\n",
       "    <tr>\n",
       "      <td>4</td>\n",
       "      <td>training</td>\n",
       "      <td>DecisionTreeClassifier</td>\n",
       "      <td>0.915011</td>\n",
       "      <td>0.907576</td>\n",
       "      <td>0.903435</td>\n",
       "      <td>0.910555</td>\n",
       "      <td>0.903791</td>\n",
       "      <td>9.992007e-16</td>\n",
       "    </tr>\n",
       "    <tr>\n",
       "      <td>5</td>\n",
       "      <td>test</td>\n",
       "      <td>DecisionTreeClassifier</td>\n",
       "      <td>0.916987</td>\n",
       "      <td>0.908955</td>\n",
       "      <td>0.921358</td>\n",
       "      <td>0.898035</td>\n",
       "      <td>0.910023</td>\n",
       "      <td>2.654541e+00</td>\n",
       "    </tr>\n",
       "    <tr>\n",
       "      <td>6</td>\n",
       "      <td>training</td>\n",
       "      <td>RandomForestClassifier</td>\n",
       "      <td>0.929983</td>\n",
       "      <td>0.949681</td>\n",
       "      <td>0.904190</td>\n",
       "      <td>0.926522</td>\n",
       "      <td>0.976821</td>\n",
       "      <td>2.198281e-01</td>\n",
       "    </tr>\n",
       "    <tr>\n",
       "      <td>7</td>\n",
       "      <td>test</td>\n",
       "      <td>RandomForestClassifier</td>\n",
       "      <td>0.925774</td>\n",
       "      <td>0.953566</td>\n",
       "      <td>0.917803</td>\n",
       "      <td>0.927362</td>\n",
       "      <td>0.978508</td>\n",
       "      <td>2.292553e+00</td>\n",
       "    </tr>\n",
       "    <tr>\n",
       "      <td>8</td>\n",
       "      <td>training</td>\n",
       "      <td>LinearSVC</td>\n",
       "      <td>0.926993</td>\n",
       "      <td>0.949359</td>\n",
       "      <td>0.907935</td>\n",
       "      <td>0.925969</td>\n",
       "      <td>0.980821</td>\n",
       "      <td>2.004324e+00</td>\n",
       "    </tr>\n",
       "    <tr>\n",
       "      <td>9</td>\n",
       "      <td>test</td>\n",
       "      <td>LinearSVC</td>\n",
       "      <td>0.935328</td>\n",
       "      <td>0.950808</td>\n",
       "      <td>0.926667</td>\n",
       "      <td>0.929096</td>\n",
       "      <td>0.983461</td>\n",
       "      <td>2.051229e+00</td>\n",
       "    </tr>\n",
       "    <tr>\n",
       "      <td>10</td>\n",
       "      <td>training</td>\n",
       "      <td>GaussianNB</td>\n",
       "      <td>0.912760</td>\n",
       "      <td>0.962460</td>\n",
       "      <td>0.851054</td>\n",
       "      <td>0.911092</td>\n",
       "      <td>0.972049</td>\n",
       "      <td>2.857767e+00</td>\n",
       "    </tr>\n",
       "    <tr>\n",
       "      <td>11</td>\n",
       "      <td>test</td>\n",
       "      <td>GaussianNB</td>\n",
       "      <td>0.923116</td>\n",
       "      <td>0.935270</td>\n",
       "      <td>0.902075</td>\n",
       "      <td>0.920647</td>\n",
       "      <td>0.959902</td>\n",
       "      <td>2.594191e+00</td>\n",
       "    </tr>\n",
       "  </tbody>\n",
       "</table>\n",
       "</div>"
      ],
      "text/plain": [
       "        data                   model  accuracy  precision    recall   f1score  \\\n",
       "0   training    KNeighborsClassifier  0.762265   0.778469  0.720082  0.752208   \n",
       "1       test    KNeighborsClassifier  0.773811   0.786296  0.735850  0.767087   \n",
       "2   training      LogisticRegression  0.925498   0.948168  0.904184  0.927918   \n",
       "3       test      LogisticRegression  0.937109   0.942520  0.914401  0.935317   \n",
       "4   training  DecisionTreeClassifier  0.915011   0.907576  0.903435  0.910555   \n",
       "5       test  DecisionTreeClassifier  0.916987   0.908955  0.921358  0.898035   \n",
       "6   training  RandomForestClassifier  0.929983   0.949681  0.904190  0.926522   \n",
       "7       test  RandomForestClassifier  0.925774   0.953566  0.917803  0.927362   \n",
       "8   training               LinearSVC  0.926993   0.949359  0.907935  0.925969   \n",
       "9       test               LinearSVC  0.935328   0.950808  0.926667  0.929096   \n",
       "10  training              GaussianNB  0.912760   0.962460  0.851054  0.911092   \n",
       "11      test              GaussianNB  0.923116   0.935270  0.902075  0.920647   \n",
       "\n",
       "      rocauc       logloss  \n",
       "0   0.839083  5.120734e+00  \n",
       "1   0.856559  7.963604e+00  \n",
       "2   0.979401  2.107773e+00  \n",
       "3   0.982191  2.021065e+00  \n",
       "4   0.903791  9.992007e-16  \n",
       "5   0.910023  2.654541e+00  \n",
       "6   0.976821  2.198281e-01  \n",
       "7   0.978508  2.292553e+00  \n",
       "8   0.980821  2.004324e+00  \n",
       "9   0.983461  2.051229e+00  \n",
       "10  0.972049  2.857767e+00  \n",
       "11  0.959902  2.594191e+00  "
      ]
     },
     "execution_count": 58,
     "metadata": {},
     "output_type": "execute_result"
    }
   ],
   "source": [
    "before_hyp = [knn_results, logreg_results, dectree_results, rfor_results, \n",
    "              linearsvc_results, naive_b_results]\n",
    "\n",
    "final_results_before = pd.concat(before_hyp, ignore_index=True)\n",
    "final_results_before"
   ]
  },
  {
   "cell_type": "code",
   "execution_count": 59,
   "metadata": {
    "ExecuteTime": {
     "end_time": "2020-05-09T00:00:24.934124Z",
     "start_time": "2020-05-09T00:00:24.927168Z"
    }
   },
   "outputs": [
    {
     "name": "stdout",
     "output_type": "stream",
     "text": [
      "The model with the best F1_score with the default parameters is LogisticRegression, score: 0.935\n"
     ]
    }
   ],
   "source": [
    "best_test_score_before = final_results_before.loc[final_results_before.data == 'test'].f1score.max()\n",
    "best_test_model_before = final_results_before.loc[(final_results_before.data == 'test') & \n",
    "                                                  (final_results_before.f1score == \n",
    "                                                   best_test_score_before)].model.values[0]\n",
    "print(f'The model with the best F1_score with the default parameters is {best_test_model_before}, score: {round(best_test_score_before, 3)}')"
   ]
  },
  {
   "cell_type": "markdown",
   "metadata": {},
   "source": [
    "Results of all models after hyperparameter tuning:"
   ]
  },
  {
   "cell_type": "code",
   "execution_count": 60,
   "metadata": {
    "ExecuteTime": {
     "end_time": "2020-05-09T00:00:24.948184Z",
     "start_time": "2020-05-09T00:00:24.935679Z"
    }
   },
   "outputs": [
    {
     "data": {
      "text/html": [
       "<div>\n",
       "<style scoped>\n",
       "    .dataframe tbody tr th:only-of-type {\n",
       "        vertical-align: middle;\n",
       "    }\n",
       "\n",
       "    .dataframe tbody tr th {\n",
       "        vertical-align: top;\n",
       "    }\n",
       "\n",
       "    .dataframe thead th {\n",
       "        text-align: right;\n",
       "    }\n",
       "</style>\n",
       "<table border=\"1\" class=\"dataframe\">\n",
       "  <thead>\n",
       "    <tr style=\"text-align: right;\">\n",
       "      <th></th>\n",
       "      <th>data</th>\n",
       "      <th>model</th>\n",
       "      <th>accuracy</th>\n",
       "      <th>precision</th>\n",
       "      <th>recall</th>\n",
       "      <th>f1score</th>\n",
       "      <th>rocauc</th>\n",
       "      <th>logloss</th>\n",
       "    </tr>\n",
       "  </thead>\n",
       "  <tbody>\n",
       "    <tr>\n",
       "      <td>0</td>\n",
       "      <td>training</td>\n",
       "      <td>KNeighborsClassifier</td>\n",
       "      <td>0.826278</td>\n",
       "      <td>0.894832</td>\n",
       "      <td>0.748468</td>\n",
       "      <td>0.811731</td>\n",
       "      <td>0.922133</td>\n",
       "      <td>9.992007e-16</td>\n",
       "    </tr>\n",
       "    <tr>\n",
       "      <td>1</td>\n",
       "      <td>test</td>\n",
       "      <td>KNeighborsClassifier</td>\n",
       "      <td>0.833997</td>\n",
       "      <td>0.896243</td>\n",
       "      <td>0.772738</td>\n",
       "      <td>0.829444</td>\n",
       "      <td>0.932489</td>\n",
       "      <td>5.278888e+00</td>\n",
       "    </tr>\n",
       "    <tr>\n",
       "      <td>2</td>\n",
       "      <td>training</td>\n",
       "      <td>LogisticRegression</td>\n",
       "      <td>0.929615</td>\n",
       "      <td>0.948139</td>\n",
       "      <td>0.915403</td>\n",
       "      <td>0.931120</td>\n",
       "      <td>0.981402</td>\n",
       "      <td>1.952601e+00</td>\n",
       "    </tr>\n",
       "    <tr>\n",
       "      <td>3</td>\n",
       "      <td>test</td>\n",
       "      <td>LogisticRegression</td>\n",
       "      <td>0.930137</td>\n",
       "      <td>0.947904</td>\n",
       "      <td>0.929962</td>\n",
       "      <td>0.936875</td>\n",
       "      <td>0.979424</td>\n",
       "      <td>2.051231e+00</td>\n",
       "    </tr>\n",
       "    <tr>\n",
       "      <td>4</td>\n",
       "      <td>training</td>\n",
       "      <td>DecisionTreeClassifier</td>\n",
       "      <td>0.932236</td>\n",
       "      <td>0.946791</td>\n",
       "      <td>0.893717</td>\n",
       "      <td>0.927518</td>\n",
       "      <td>0.949245</td>\n",
       "      <td>1.525867e+00</td>\n",
       "    </tr>\n",
       "    <tr>\n",
       "      <td>5</td>\n",
       "      <td>test</td>\n",
       "      <td>DecisionTreeClassifier</td>\n",
       "      <td>0.922281</td>\n",
       "      <td>0.920424</td>\n",
       "      <td>0.902105</td>\n",
       "      <td>0.914892</td>\n",
       "      <td>0.923351</td>\n",
       "      <td>2.202052e+00</td>\n",
       "    </tr>\n",
       "    <tr>\n",
       "      <td>6</td>\n",
       "      <td>training</td>\n",
       "      <td>RandomForestClassifier</td>\n",
       "      <td>0.937846</td>\n",
       "      <td>0.962246</td>\n",
       "      <td>0.910163</td>\n",
       "      <td>0.936342</td>\n",
       "      <td>0.984439</td>\n",
       "      <td>1.474142e+00</td>\n",
       "    </tr>\n",
       "    <tr>\n",
       "      <td>7</td>\n",
       "      <td>test</td>\n",
       "      <td>RandomForestClassifier</td>\n",
       "      <td>0.937998</td>\n",
       "      <td>0.943984</td>\n",
       "      <td>0.926575</td>\n",
       "      <td>0.936226</td>\n",
       "      <td>0.987974</td>\n",
       "      <td>2.081394e+00</td>\n",
       "    </tr>\n",
       "    <tr>\n",
       "      <td>8</td>\n",
       "      <td>training</td>\n",
       "      <td>LinearSVC</td>\n",
       "      <td>0.930742</td>\n",
       "      <td>0.952882</td>\n",
       "      <td>0.905699</td>\n",
       "      <td>0.925267</td>\n",
       "      <td>0.982662</td>\n",
       "      <td>2.159496e+00</td>\n",
       "    </tr>\n",
       "    <tr>\n",
       "      <td>9</td>\n",
       "      <td>test</td>\n",
       "      <td>LinearSVC</td>\n",
       "      <td>0.937990</td>\n",
       "      <td>0.946269</td>\n",
       "      <td>0.916079</td>\n",
       "      <td>0.941493</td>\n",
       "      <td>0.986045</td>\n",
       "      <td>2.051228e+00</td>\n",
       "    </tr>\n",
       "    <tr>\n",
       "      <td>10</td>\n",
       "      <td>training</td>\n",
       "      <td>GaussianNB</td>\n",
       "      <td>0.918379</td>\n",
       "      <td>0.950627</td>\n",
       "      <td>0.876480</td>\n",
       "      <td>0.909407</td>\n",
       "      <td>0.971736</td>\n",
       "      <td>2.767253e+00</td>\n",
       "    </tr>\n",
       "    <tr>\n",
       "      <td>11</td>\n",
       "      <td>test</td>\n",
       "      <td>GaussianNB</td>\n",
       "      <td>0.917033</td>\n",
       "      <td>0.932170</td>\n",
       "      <td>0.903905</td>\n",
       "      <td>0.916374</td>\n",
       "      <td>0.963415</td>\n",
       "      <td>2.564031e+00</td>\n",
       "    </tr>\n",
       "  </tbody>\n",
       "</table>\n",
       "</div>"
      ],
      "text/plain": [
       "        data                   model  accuracy  precision    recall   f1score  \\\n",
       "0   training    KNeighborsClassifier  0.826278   0.894832  0.748468  0.811731   \n",
       "1       test    KNeighborsClassifier  0.833997   0.896243  0.772738  0.829444   \n",
       "2   training      LogisticRegression  0.929615   0.948139  0.915403  0.931120   \n",
       "3       test      LogisticRegression  0.930137   0.947904  0.929962  0.936875   \n",
       "4   training  DecisionTreeClassifier  0.932236   0.946791  0.893717  0.927518   \n",
       "5       test  DecisionTreeClassifier  0.922281   0.920424  0.902105  0.914892   \n",
       "6   training  RandomForestClassifier  0.937846   0.962246  0.910163  0.936342   \n",
       "7       test  RandomForestClassifier  0.937998   0.943984  0.926575  0.936226   \n",
       "8   training               LinearSVC  0.930742   0.952882  0.905699  0.925267   \n",
       "9       test               LinearSVC  0.937990   0.946269  0.916079  0.941493   \n",
       "10  training              GaussianNB  0.918379   0.950627  0.876480  0.909407   \n",
       "11      test              GaussianNB  0.917033   0.932170  0.903905  0.916374   \n",
       "\n",
       "      rocauc       logloss  \n",
       "0   0.922133  9.992007e-16  \n",
       "1   0.932489  5.278888e+00  \n",
       "2   0.981402  1.952601e+00  \n",
       "3   0.979424  2.051231e+00  \n",
       "4   0.949245  1.525867e+00  \n",
       "5   0.923351  2.202052e+00  \n",
       "6   0.984439  1.474142e+00  \n",
       "7   0.987974  2.081394e+00  \n",
       "8   0.982662  2.159496e+00  \n",
       "9   0.986045  2.051228e+00  \n",
       "10  0.971736  2.767253e+00  \n",
       "11  0.963415  2.564031e+00  "
      ]
     },
     "execution_count": 60,
     "metadata": {},
     "output_type": "execute_result"
    }
   ],
   "source": [
    "after_hyp = [knn_results_hyp, logreg_results_hyp, dectree_results_hyp, rfor_results_hyp, \n",
    "              linearsvc_results_hyp, naive_b_results_hyp]\n",
    "\n",
    "final_results_after = pd.concat(after_hyp, ignore_index=True)\n",
    "final_results_after"
   ]
  },
  {
   "cell_type": "code",
   "execution_count": 61,
   "metadata": {
    "ExecuteTime": {
     "end_time": "2020-05-09T00:00:24.956641Z",
     "start_time": "2020-05-09T00:00:24.949782Z"
    }
   },
   "outputs": [
    {
     "name": "stdout",
     "output_type": "stream",
     "text": [
      "The model with the best F1_score after the hyperparameter tuning is LinearSVC, score: 0.941\n"
     ]
    }
   ],
   "source": [
    "best_test_score_after = final_results_after.loc[final_results_after.data == 'test'].f1score.max()\n",
    "best_test_model_after = final_results_after.loc[(final_results_after.data == 'test') & \n",
    "                                                (final_results_after.f1score == \n",
    "                                                 best_test_score_after)].model.values[0]\n",
    "print(f'The model with the best F1_score after the hyperparameter tuning is {best_test_model_after}, score: {round(best_test_score_after, 3)}')"
   ]
  },
  {
   "cell_type": "markdown",
   "metadata": {},
   "source": [
    "# Pipelines"
   ]
  },
  {
   "cell_type": "code",
   "execution_count": 63,
   "metadata": {
    "ExecuteTime": {
     "end_time": "2020-05-09T00:00:24.965144Z",
     "start_time": "2020-05-09T00:00:24.961920Z"
    }
   },
   "outputs": [],
   "source": [
    "from imblearn.under_sampling import NearMiss \n",
    "from imblearn.under_sampling import AllKNN\n",
    "\n",
    "# Combined sampling\n",
    "from imblearn.combine import SMOTEENN \n",
    "\n",
    "## Scaling\n",
    "from sklearn.preprocessing import StandardScaler\n",
    "from sklearn.preprocessing import MinMaxScaler\n",
    "from sklearn.preprocessing import Normalizer\n",
    "\n",
    "# PCA\n",
    "from sklearn.decomposition import PCA"
   ]
  },
  {
   "cell_type": "markdown",
   "metadata": {},
   "source": [
    "After applying our model and predicting our target variable, we can see that the models **Random Forest Classifier** and **Linear Support Vector Classification** are the ones that give us overall better predictions.\n",
    "\n",
    "Anyway, we're not happy with that. We'll use the strengh of Pipelines to see if we can improve our models. With this Pipelines, we can automate all our process in few lines of code. We'll be using this in order to change other parameters in the data, such as normalization, undersampling, scaling, PCA, etc:"
   ]
  },
  {
   "cell_type": "markdown",
   "metadata": {},
   "source": [
    "## Random Forest Classifier"
   ]
  },
  {
   "cell_type": "markdown",
   "metadata": {},
   "source": [
    "### Scaling"
   ]
  },
  {
   "cell_type": "markdown",
   "metadata": {},
   "source": [
    "We'll explore other ways to scale our data, to see if we can get some extra points on our score. We used the **Standard Scaler** for our predictions before, so we'll try with **MinMaxScaler** and **Normalizer**"
   ]
  },
  {
   "cell_type": "code",
   "execution_count": 64,
   "metadata": {
    "ExecuteTime": {
     "end_time": "2020-05-09T00:01:50.013728Z",
     "start_time": "2020-05-09T00:00:24.966472Z"
    }
   },
   "outputs": [
    {
     "name": "stdout",
     "output_type": "stream",
     "text": [
      "MinMaxScaler(copy=True, feature_range=(0, 1)) Test F1 Score: 0.939\n",
      "Normalizer(copy=True, norm='l2') Test F1 Score: 0.935\n",
      "StandardScaler Test F1 Score: 0.938\n"
     ]
    }
   ],
   "source": [
    "rfor_minmax = Pipeline([('scaling', MinMaxScaler()),\n",
    "                      ('predictor', best_rfor)])\n",
    "\n",
    "rfor_normalizer = Pipeline([('scaling', Normalizer()),\n",
    "                      ('predictor', best_rfor)])\n",
    "\n",
    "scaling_pipes = [rfor_minmax, rfor_normalizer] \n",
    "\n",
    "for pipe in scaling_pipes:\n",
    "    pipe.fit(X_train, y_train)\n",
    "\n",
    "for i, model in enumerate(scaling_pipes):\n",
    "    print(f\"{model[0]} Test F1 Score: {round(np.mean(cross_val_score(model, X_test, y_test, cv=10, scoring='f1')), 3)}\")\n",
    "print(f\"StandardScaler Test F1 Score: {round(baseline_report(best_rfor, X_train, X_test, y_train, y_test, 'RandomForestClassifier')['f1score'][1], 3)}\")\n",
    "    \n"
   ]
  },
  {
   "cell_type": "markdown",
   "metadata": {
    "ExecuteTime": {
     "end_time": "2020-05-08T20:59:33.456145Z",
     "start_time": "2020-05-08T20:59:33.452824Z"
    }
   },
   "source": [
    "We can see that our model performs sightly better with the MinMaxScaler, so we'll stick with it."
   ]
  },
  {
   "cell_type": "markdown",
   "metadata": {},
   "source": [
    "### Balancing"
   ]
  },
  {
   "cell_type": "markdown",
   "metadata": {},
   "source": [
    "The same way we did with scaling, we're gonna try different ways of balancing the data, with the scaler that performed best, in this case MinMaxScaler. For this step, we'll experiment with two new data balance models: **All KNN** and **SMOTEENN** (we've previously been using **NearMiss**)."
   ]
  },
  {
   "cell_type": "code",
   "execution_count": 75,
   "metadata": {
    "ExecuteTime": {
     "end_time": "2020-05-09T07:25:43.813533Z",
     "start_time": "2020-05-09T07:24:26.826226Z"
    }
   },
   "outputs": [
    {
     "name": "stdout",
     "output_type": "stream",
     "text": [
      "AllKNN(allow_minority=False, kind_sel='all', n_jobs=1, n_neighbors=3,\n",
      "       random_state=None, ratio=None, return_indices=False,\n",
      "       sampling_strategy='auto') Test F1 Score: 0.94\n",
      "SMOTEENN(enn=None, n_jobs=1, random_state=None, ratio=None,\n",
      "         sampling_strategy='auto', smote=None) Test F1 Score: 0.939\n",
      "NearMiss Test F1 Score: 0.938\n"
     ]
    }
   ],
   "source": [
    "allknn_balanced = Pipeline([('scaling', MinMaxScaler()),\n",
    "                            ('balancing', AllKNN()),\n",
    "                      ('predictor', best_rfor)])\n",
    "\n",
    "smoteenn_balanced = Pipeline([('scaling', MinMaxScaler()),\n",
    "                            ('balancing', SMOTEENN()),  \n",
    "                      ('predictor', best_rfor)])\n",
    "\n",
    "scaling_pipes = [allknn_balanced, smoteenn_balanced] \n",
    "\n",
    "for pipe in scaling_pipes:\n",
    "    pipe.fit(X_train, y_train)\n",
    "\n",
    "for i, model in enumerate(scaling_pipes):\n",
    "    print(f\"{model[1]} Test F1 Score: {round(np.mean(cross_val_score(model, X_test, y_test, cv=10, scoring='f1')), 3)}\")\n",
    "print(f\"NearMiss Test F1 Score: {round(baseline_report(best_rfor, X_train, X_test, y_train, y_test, 'RandomForestClassifier')['f1score'][1], 3)}\")\n",
    "    "
   ]
  },
  {
   "cell_type": "markdown",
   "metadata": {},
   "source": [
    "We have to take into account that the Hyperparameters of the NearMiss model have been tuned, so in comparison, we can think that the KNN balanced data performs a bit better than the NearMiss one. "
   ]
  },
  {
   "cell_type": "markdown",
   "metadata": {
    "ExecuteTime": {
     "end_time": "2020-05-08T22:28:05.154418Z",
     "start_time": "2020-05-08T22:28:05.152136Z"
    }
   },
   "source": [
    "## Linear Support Vector Classification"
   ]
  },
  {
   "cell_type": "markdown",
   "metadata": {
    "ExecuteTime": {
     "end_time": "2020-05-08T22:28:33.470226Z",
     "start_time": "2020-05-08T22:28:33.466763Z"
    }
   },
   "source": [
    "Same experimentation, this time with the LinearSVC model:"
   ]
  },
  {
   "cell_type": "markdown",
   "metadata": {},
   "source": [
    "### Scaling"
   ]
  },
  {
   "cell_type": "code",
   "execution_count": 66,
   "metadata": {
    "ExecuteTime": {
     "end_time": "2020-05-09T00:04:28.536072Z",
     "start_time": "2020-05-09T00:03:03.581535Z"
    }
   },
   "outputs": [
    {
     "name": "stdout",
     "output_type": "stream",
     "text": [
      "MinMaxScaler(copy=True, feature_range=(0, 1)) Test F1 Score: 0.94\n",
      "Normalizer(copy=True, norm='l2') Test F1 Score: 0.94\n",
      "StandardScaler Test F1 Score: 0.938\n"
     ]
    }
   ],
   "source": [
    "linearsvc_minmax = Pipeline([('scaling', MinMaxScaler()),\n",
    "                      ('predictor', best_linearsvc)])\n",
    "\n",
    "linearsvc_normalizer = Pipeline([('scaling', Normalizer()),\n",
    "                      ('predictor', best_linearsvc)])\n",
    "\n",
    "scaling_pipes = [rfor_minmax, rfor_normalizer] \n",
    "\n",
    "for pipe in scaling_pipes:\n",
    "    pipe.fit(X_train, y_train)\n",
    "\n",
    "for i, model in enumerate(scaling_pipes):\n",
    "    print(f\"{model[0]} Test F1 Score: {round(np.mean(cross_val_score(model, X_test, y_test, cv=10, scoring='f1')), 3)}\")\n",
    "print(f\"StandardScaler Test F1 Score: {round(baseline_report(best_rfor, X_train, X_test, y_train, y_test, 'LinearSVC')['f1score'][1], 3)}\")\n",
    "    "
   ]
  },
  {
   "cell_type": "markdown",
   "metadata": {},
   "source": [
    "In this case, Normalizer outperforms the other ones for a minimum difference. Let's see the data balancing section:"
   ]
  },
  {
   "cell_type": "markdown",
   "metadata": {},
   "source": [
    "### Balancing"
   ]
  },
  {
   "cell_type": "code",
   "execution_count": 67,
   "metadata": {
    "ExecuteTime": {
     "end_time": "2020-05-09T00:05:20.715124Z",
     "start_time": "2020-05-09T00:04:28.537807Z"
    }
   },
   "outputs": [
    {
     "name": "stdout",
     "output_type": "stream",
     "text": [
      "AllKNN(allow_minority=False, kind_sel='all', n_jobs=1, n_neighbors=3,\n",
      "       random_state=None, ratio=None, return_indices=False,\n",
      "       sampling_strategy='auto') Test F1 Score: 0.908\n",
      "SMOTEENN(enn=None, n_jobs=1, random_state=None, ratio=None,\n",
      "         sampling_strategy='auto', smote=None) Test F1 Score: 0.881\n",
      "NearMiss Test F1 Score: 0.936\n"
     ]
    }
   ],
   "source": [
    "linearsvc_AllKNN = Pipeline([('scaling', Normalizer()),\n",
    "                             ('balancing', AllKNN()),\n",
    "                      ('predictor', best_linearsvc)])\n",
    "\n",
    "linearsvc_SMOTEENN = Pipeline([('scaling', Normalizer()),\n",
    "                                 ('balancing', SMOTEENN()),\n",
    "                      ('predictor', best_linearsvc)])\n",
    "\n",
    "scaling_pipes = [linearsvc_AllKNN, linearsvc_SMOTEENN] \n",
    "\n",
    "for pipe in scaling_pipes:\n",
    "    pipe.fit(X_train, y_train)\n",
    "\n",
    "for i, model in enumerate(scaling_pipes):\n",
    "    print(f\"{model[1]} Test F1 Score: {round(np.mean(cross_val_score(model, X_test, y_test, cv=10, scoring='f1')), 3)}\")\n",
    "print(f\"NearMiss Test F1 Score: {round(baseline_report(best_rfor, X_train, X_test, y_train, y_test, 'LinearSVC')['f1score'][1], 3)}\")\n",
    "    "
   ]
  },
  {
   "cell_type": "markdown",
   "metadata": {},
   "source": [
    "We could make the same assumption with the KNN balancing model. Though we didn't search for the best parameters in this model, still manages to get pretty close with the tuned NearMiss one.\n",
    "\n",
    "We could automate this process with a mix of the Pipelines and GridSearchCV(), to find the best possible combination for predicting our values."
   ]
  },
  {
   "cell_type": "markdown",
   "metadata": {},
   "source": [
    "# Neural Networks"
   ]
  },
  {
   "cell_type": "markdown",
   "metadata": {
    "ExecuteTime": {
     "end_time": "2020-05-08T22:43:11.132841Z",
     "start_time": "2020-05-08T22:43:11.128881Z"
    }
   },
   "source": [
    "Alternatively, we can find the best predictor for our data using Neural Networks:"
   ]
  },
  {
   "cell_type": "markdown",
   "metadata": {
    "ExecuteTime": {
     "end_time": "2020-05-08T22:43:17.542098Z",
     "start_time": "2020-05-08T22:43:17.539738Z"
    }
   },
   "source": [
    "## Multi-layer Perceptron Classifier"
   ]
  },
  {
   "cell_type": "markdown",
   "metadata": {},
   "source": [
    "MLPClassifier is the basic neural network classifier of scikit learn. This model optimizes the log-loss function using LBFGS or stochastic gradient descent. MLP is supervised learning algorithm that learns a function \n",
    "by training on a dataset implementing a multi-layer perceptron (MLP) algorithm that trains using Backpropagation."
   ]
  },
  {
   "cell_type": "code",
   "execution_count": 68,
   "metadata": {
    "ExecuteTime": {
     "end_time": "2020-05-09T00:05:22.698928Z",
     "start_time": "2020-05-09T00:05:20.726097Z"
    }
   },
   "outputs": [
    {
     "name": "stdout",
     "output_type": "stream",
     "text": [
      "MLPClassifier F1 Score on test set: 0.876\n"
     ]
    }
   ],
   "source": [
    "from sklearn.neural_network import MLPClassifier\n",
    "\n",
    "# By default, MLP uses 100 hidden nodes and 1 single layer: \n",
    "\n",
    "mlp = MLPClassifier(solver='lbfgs', random_state=0)\n",
    "mlp.fit(X_train, y_train)\n",
    "\n",
    "print(f\"MLPClassifier F1 Score on test set: {round(np.mean(cross_val_score(model, X_test, y_test, cv=10, scoring='f1')), 3)}\")\n"
   ]
  },
  {
   "cell_type": "markdown",
   "metadata": {},
   "source": [
    "As we can see, with no configuration at all our Neural Network classifier manages to achieve an impressive 0.87 F1 Score. Let's take a look on a more complex one:"
   ]
  },
  {
   "cell_type": "markdown",
   "metadata": {},
   "source": [
    "## Deep Learing with Keras"
   ]
  },
  {
   "cell_type": "markdown",
   "metadata": {},
   "source": [
    "In this case, we'll build a neural network with Keras, building a simple 3-layer network."
   ]
  },
  {
   "cell_type": "code",
   "execution_count": 86,
   "metadata": {
    "ExecuteTime": {
     "end_time": "2020-05-09T08:00:23.769359Z",
     "start_time": "2020-05-09T07:57:42.933228Z"
    }
   },
   "outputs": [
    {
     "name": "stdout",
     "output_type": "stream",
     "text": [
      "2671/2671 [==============================] - 1s 383us/step\n",
      "1145/1145 [==============================] - 0s 82us/step\n",
      "Train Accuracy: 0.9910\n",
      "Test Accuracy: 0.9109\n"
     ]
    }
   ],
   "source": [
    "from keras.models import Sequential\n",
    "from keras.layers import Dense\n",
    "from keras.wrappers.scikit_learn import KerasClassifier\n",
    "\n",
    "# # define the keras model\n",
    "def create_model():\n",
    "    # create model\n",
    "    model = Sequential()\n",
    "    model.add(Dense(12, input_dim=X.shape[1], activation='relu'))\n",
    "    model.add(Dense(1, activation='sigmoid'))\n",
    "    # Compile model\n",
    "    model.compile(loss='binary_crossentropy', optimizer='adam', metrics=['accuracy'])\n",
    "    return model\n",
    "\n",
    "model= create_model()\n",
    "\n",
    "model.fit(X_train, y_train, epochs=100, batch_size=10, verbose=0)\n",
    "\n",
    "\n",
    "# evaluate the keras model\n",
    "_, train_acc = model.evaluate(X_train, y_train)\n",
    "_, test_acc = model.evaluate(X_test, y_test)\n",
    "print('Train Accuracy: %.4f' % (train_acc))\n",
    "print('Test Accuracy: %.4f' % (test_acc))"
   ]
  },
  {
   "cell_type": "markdown",
   "metadata": {
    "ExecuteTime": {
     "end_time": "2020-05-08T23:13:36.064028Z",
     "start_time": "2020-05-08T23:13:36.060643Z"
    }
   },
   "source": [
    "With practically no tweaking at all, our Sequential neural network classifier reaches a great 91% accuracy score on the test data."
   ]
  },
  {
   "cell_type": "markdown",
   "metadata": {},
   "source": [
    "# Conclussions"
   ]
  },
  {
   "cell_type": "markdown",
   "metadata": {},
   "source": [
    "As we've been observing, all Machine Learning models work pretty good with the data we've been training. All of them provide a good predicting score, and a quick way to work with them. Each one of them has particularities, and weak and strong points. After analyzing some of them, we can choose the one which predicted our values better:\n",
    "\n",
    "    - Model:      Random Forest Classifier\n",
    "    - Scaling:    MinMaxScaler\n",
    "    - Balancing:  AllKNN\n",
    "    \n",
    "**Overall Score**: 94%\n",
    "\n",
    "This results are subject to randomness, and could not represent the actual predictions on our data. Anyways, we must search for other benefits in our models. For example:\n",
    "    \n",
    "    - Linear models perform better in terms of efficiency. If we're looking for quick results, or working with really large datasets, they're a good choice to start with.\n",
    "    - Tree models lets us detect the features on our dataset that explain our predictions better. For real-case applications, this characteristic is really important to make actual decisions based on data. Also, this allows the optimization and improving the simplicity of our model, which is always a good idea.\n",
    "    - Neural networks are becoming more and more accessible. The improvement on the frameworks, simplicity of use, and overwhelming performance make them a must. Although they're pretty processing intensive, the improvement on the computing power on the consumption market has made them widely popular. They're robust, simple, highly tweakable and they can also learn the feature that work better. Definitely a good choice."
   ]
  }
 ],
 "metadata": {
  "kernelspec": {
   "display_name": "Python 3",
   "language": "python",
   "name": "python3"
  },
  "language_info": {
   "codemirror_mode": {
    "name": "ipython",
    "version": 3
   },
   "file_extension": ".py",
   "mimetype": "text/x-python",
   "name": "python",
   "nbconvert_exporter": "python",
   "pygments_lexer": "ipython3",
   "version": "3.7.4"
  },
  "toc": {
   "base_numbering": 1,
   "nav_menu": {},
   "number_sections": true,
   "sideBar": true,
   "skip_h1_title": false,
   "title_cell": "Table of Contents",
   "title_sidebar": "Contents",
   "toc_cell": false,
   "toc_position": {
    "height": "calc(100% - 180px)",
    "left": "10px",
    "top": "150px",
    "width": "244.983px"
   },
   "toc_section_display": true,
   "toc_window_display": true
  },
  "varInspector": {
   "cols": {
    "lenName": 16,
    "lenType": 16,
    "lenVar": 40
   },
   "kernels_config": {
    "python": {
     "delete_cmd_postfix": "",
     "delete_cmd_prefix": "del ",
     "library": "var_list.py",
     "varRefreshCmd": "print(var_dic_list())"
    },
    "r": {
     "delete_cmd_postfix": ") ",
     "delete_cmd_prefix": "rm(",
     "library": "var_list.r",
     "varRefreshCmd": "cat(var_dic_list()) "
    }
   },
   "types_to_exclude": [
    "module",
    "function",
    "builtin_function_or_method",
    "instance",
    "_Feature"
   ],
   "window_display": false
  }
 },
 "nbformat": 4,
 "nbformat_minor": 2
}
