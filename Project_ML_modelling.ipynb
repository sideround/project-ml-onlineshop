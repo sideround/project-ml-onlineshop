{
 "cells": [
  {
   "cell_type": "markdown",
   "metadata": {},
   "source": [
    "# Imports"
   ]
  },
  {
   "cell_type": "markdown",
   "metadata": {},
   "source": [
    "## Libraries"
   ]
  },
  {
   "cell_type": "code",
   "execution_count": 1,
   "metadata": {
    "ExecuteTime": {
     "end_time": "2020-05-08T16:29:11.092012Z",
     "start_time": "2020-05-08T16:29:08.604942Z"
    }
   },
   "outputs": [
    {
     "name": "stderr",
     "output_type": "stream",
     "text": [
      "Using TensorFlow backend.\n",
      "/opt/anaconda3/lib/python3.7/site-packages/tensorflow/python/framework/dtypes.py:526: FutureWarning: Passing (type, 1) or '1type' as a synonym of type is deprecated; in a future version of numpy, it will be understood as (type, (1,)) / '(1,)type'.\n",
      "  _np_qint8 = np.dtype([(\"qint8\", np.int8, 1)])\n",
      "/opt/anaconda3/lib/python3.7/site-packages/tensorflow/python/framework/dtypes.py:527: FutureWarning: Passing (type, 1) or '1type' as a synonym of type is deprecated; in a future version of numpy, it will be understood as (type, (1,)) / '(1,)type'.\n",
      "  _np_quint8 = np.dtype([(\"quint8\", np.uint8, 1)])\n",
      "/opt/anaconda3/lib/python3.7/site-packages/tensorflow/python/framework/dtypes.py:528: FutureWarning: Passing (type, 1) or '1type' as a synonym of type is deprecated; in a future version of numpy, it will be understood as (type, (1,)) / '(1,)type'.\n",
      "  _np_qint16 = np.dtype([(\"qint16\", np.int16, 1)])\n",
      "/opt/anaconda3/lib/python3.7/site-packages/tensorflow/python/framework/dtypes.py:529: FutureWarning: Passing (type, 1) or '1type' as a synonym of type is deprecated; in a future version of numpy, it will be understood as (type, (1,)) / '(1,)type'.\n",
      "  _np_quint16 = np.dtype([(\"quint16\", np.uint16, 1)])\n",
      "/opt/anaconda3/lib/python3.7/site-packages/tensorflow/python/framework/dtypes.py:530: FutureWarning: Passing (type, 1) or '1type' as a synonym of type is deprecated; in a future version of numpy, it will be understood as (type, (1,)) / '(1,)type'.\n",
      "  _np_qint32 = np.dtype([(\"qint32\", np.int32, 1)])\n",
      "/opt/anaconda3/lib/python3.7/site-packages/tensorflow/python/framework/dtypes.py:535: FutureWarning: Passing (type, 1) or '1type' as a synonym of type is deprecated; in a future version of numpy, it will be understood as (type, (1,)) / '(1,)type'.\n",
      "  np_resource = np.dtype([(\"resource\", np.ubyte, 1)])\n"
     ]
    }
   ],
   "source": [
    "import pandas as pd\n",
    "import numpy as np\n",
    "import seaborn as sns\n",
    "import matplotlib.pyplot as plt\n",
    "import random\n",
    "\n",
    "from sklearn.preprocessing import LabelEncoder, OneHotEncoder\n",
    "from imblearn.under_sampling import NearMiss\n",
    "from sklearn.model_selection import train_test_split, GridSearchCV, StratifiedKFold, cross_val_score \n",
    "from sklearn.preprocessing import StandardScaler\n",
    "from sklearn.metrics import confusion_matrix, classification_report\n",
    "from sklearn.metrics import accuracy_score, precision_score, recall_score, f1_score, log_loss\n",
    "from sklearn.metrics import auc, roc_curve, roc_auc_score, precision_recall_curve\n",
    "from sklearn.model_selection import GridSearchCV"
   ]
  },
  {
   "cell_type": "code",
   "execution_count": 2,
   "metadata": {
    "ExecuteTime": {
     "end_time": "2020-05-08T16:29:11.096808Z",
     "start_time": "2020-05-08T16:29:11.094008Z"
    }
   },
   "outputs": [],
   "source": [
    "plt.rcParams[\"figure.figsize\"] = (10, 10)"
   ]
  },
  {
   "cell_type": "code",
   "execution_count": 3,
   "metadata": {
    "ExecuteTime": {
     "end_time": "2020-05-08T16:29:11.101713Z",
     "start_time": "2020-05-08T16:29:11.098928Z"
    }
   },
   "outputs": [],
   "source": [
    "import warnings\n",
    "warnings.filterwarnings('ignore')\n",
    "warnings.simplefilter('ignore')"
   ]
  },
  {
   "cell_type": "markdown",
   "metadata": {},
   "source": [
    "## Functions"
   ]
  },
  {
   "cell_type": "code",
   "execution_count": 4,
   "metadata": {
    "ExecuteTime": {
     "end_time": "2020-05-08T16:29:11.116658Z",
     "start_time": "2020-05-08T16:29:11.103566Z"
    }
   },
   "outputs": [],
   "source": [
    "def baseline_report(model, X_train, X_test, y_train, y_test, name):\n",
    "    \"\"\"\n",
    "    The function takes the model, the split data and the name and returns the dataframe with\n",
    "    the scores of the models with training and test data.\n",
    "    \"\"\"\n",
    "    strat_k_fold = StratifiedKFold(n_splits=5, shuffle=True)\n",
    "    model.fit(X_train, y_train)\n",
    "    accuracy     = np.mean(cross_val_score(model, X_train, y_train, cv=strat_k_fold, scoring='accuracy'))\n",
    "    precision    = np.mean(cross_val_score(model, X_train, y_train, cv=strat_k_fold, scoring='precision'))\n",
    "    recall       = np.mean(cross_val_score(model, X_train, y_train, cv=strat_k_fold, scoring='recall'))\n",
    "    f1score      = np.mean(cross_val_score(model, X_train, y_train, cv=strat_k_fold, scoring='f1'))\n",
    "    rocauc       = np.mean(cross_val_score(model, X_train, y_train, cv=strat_k_fold, scoring='roc_auc'))\n",
    "    y_pred_train = model.predict(X_train)\n",
    "    logloss      = log_loss(y_train, y_pred_train)\n",
    "\n",
    "    df_model_train = pd.DataFrame({'data'        : 'training',\n",
    "                             'model'        : [name],\n",
    "                             'accuracy'     : [accuracy],\n",
    "                             'precision'    : [precision],\n",
    "                             'recall'       : [recall],\n",
    "                             'f1score'      : [f1score],\n",
    "                             'rocauc'       : [rocauc],\n",
    "                             'logloss'      : [logloss]})\n",
    "    \n",
    "    accuracy     = np.mean(cross_val_score(model, X_test, y_test, cv=strat_k_fold, scoring='accuracy'))\n",
    "    precision    = np.mean(cross_val_score(model, X_test, y_test, cv=strat_k_fold, scoring='precision'))\n",
    "    recall       = np.mean(cross_val_score(model, X_test, y_test, cv=strat_k_fold, scoring='recall'))\n",
    "    f1score      = np.mean(cross_val_score(model, X_test, y_test, cv=strat_k_fold, scoring='f1'))\n",
    "    rocauc       = np.mean(cross_val_score(model, X_test, y_test, cv=strat_k_fold, scoring='roc_auc'))\n",
    "    y_pred_test = model.predict(X_test)\n",
    "    logloss      = log_loss(y_test, y_pred_test)   # SVC & LinearSVC unable to use cvs\n",
    "\n",
    "    df_model_test = pd.DataFrame({'data'        : 'test',\n",
    "                             'model'        : [name],\n",
    "                             'accuracy'     : [accuracy],\n",
    "                             'precision'    : [precision],\n",
    "                             'recall'       : [recall],\n",
    "                             'f1score'      : [f1score],\n",
    "                             'rocauc'       : [rocauc],\n",
    "                             'logloss'      : [logloss]})   # timetaken: to be used for comparison later\n",
    "    \n",
    "    df_model = pd.concat([df_model_train, df_model_test], ignore_index=True)\n",
    "\n",
    "    return df_model"
   ]
  },
  {
   "cell_type": "code",
   "execution_count": 5,
   "metadata": {
    "ExecuteTime": {
     "end_time": "2020-05-08T16:29:11.128860Z",
     "start_time": "2020-05-08T16:29:11.119533Z"
    }
   },
   "outputs": [],
   "source": [
    "def plot_feature_importances(model, df):\n",
    "    \"\"\"\n",
    "    The function takes the model and the dataframe and returns graph showing the importance of\n",
    "    the features.\n",
    "    \"\"\"\n",
    "    names = df.columns[model.feature_importances_.argsort()]\n",
    "    model.feature_importances_.sort()\n",
    "    plt.figure(figsize=(15,15))\n",
    "    n_features = len(names)\n",
    "    plt.barh(range(n_features), np.sort(model.feature_importances_), align='center')\n",
    "    plt.yticks(np.arange(n_features), names)\n",
    "    plt.xlabel(\"Feature importance\")\n",
    "    plt.ylabel(\"Feature\")\n",
    "    plt.ylim(-1, n_features)"
   ]
  },
  {
   "cell_type": "code",
   "execution_count": 6,
   "metadata": {
    "ExecuteTime": {
     "end_time": "2020-05-08T16:29:11.136909Z",
     "start_time": "2020-05-08T16:29:11.131392Z"
    }
   },
   "outputs": [],
   "source": [
    "def results_defaut(main_model_results, compare_model_results_hyp):\n",
    "    \"\"\"\n",
    "    Function takes main model results with default values and model to compare results after the\n",
    "    hyperparameter tuning and returns the comparison of the results.\n",
    "    \"\"\"\n",
    "    print(f'{main_model_results.iloc[1][\"model\"]} is giving us the F1 score of {round(main_model_results.iloc[1][\"f1score\"], 3)} on the test data.')\n",
    "\n",
    "    if main_model_results.iloc[1][\"f1score\"] > compare_model_results_hyp.iloc[1][\"f1score\"]:\n",
    "          print(f'{main_model_results.iloc[1][\"model\"]} improves the result from {compare_model_results_hyp.iloc[1][\"model\"]} (score: {round(compare_model_results_hyp.iloc[1][\"f1score\"], 3)})')\n",
    "    else:\n",
    "          print(f'{main_model_results.iloc[1][\"model\"]} does not imporve the score from {compare_model_results_hyp.iloc[1][\"model\"]} (score: {round(compare_model_results_hyp.iloc[1][\"f1score\"], 3)}')\n"
   ]
  },
  {
   "cell_type": "code",
   "execution_count": 7,
   "metadata": {
    "ExecuteTime": {
     "end_time": "2020-05-08T16:29:11.145844Z",
     "start_time": "2020-05-08T16:29:11.139876Z"
    }
   },
   "outputs": [],
   "source": [
    "def results_after_hyp(main_model_results_hyp, main_model_results, compare_model_results_hyp):\n",
    "    \"\"\"\n",
    "    Function takes main model results before and after the hyperparameter tuning \n",
    "    and model to compare results after the hyperparameter tuning \n",
    "    and returns the comparison of the results.\n",
    "    \"\"\"\n",
    "    print(f'{main_model_results_hyp.iloc[1][\"model\"]} is giving us the F1 score of {round(main_model_results_hyp.iloc[1][\"f1score\"], 3)} on the test data.')\n",
    "\n",
    "    if main_model_results_hyp.iloc[1][\"f1score\"] > main_model_results.iloc[1][\"f1score\"]:\n",
    "        print(f'Hyperparameter tuning imporved our score from {round(main_model_results.iloc[1][\"f1score\"], 3)} to {round(main_model_results_hyp.iloc[1][\"f1score\"], 3)}')\n",
    "    else:\n",
    "        print(f'Our score after the hyperparameter tuning changed from {round(main_model_results.iloc[1][\"f1score\"], 3)} to {round(main_model_results_hyp.iloc[1][\"f1score\"], 3)}')\n",
    "\n",
    "    if main_model_results_hyp.iloc[1][\"f1score\"] > compare_model_results_hyp.iloc[1][\"f1score\"]:\n",
    "          print(f'{main_model_results_hyp.iloc[1][\"model\"]} improves the result from {compare_model_results_hyp.iloc[1][\"model\"]} (score: {round(compare_model_results_hyp.iloc[1][\"f1score\"], 3)})')\n",
    "    else:\n",
    "          print(f'{main_model_results_hyp.iloc[1][\"model\"]} does not imporve the score from {compare_model_results_hyp.iloc[1][\"model\"]} (score: {round(compare_model_results_hyp.iloc[1][\"f1score\"], 3)})')"
   ]
  },
  {
   "cell_type": "markdown",
   "metadata": {},
   "source": [
    "## Data"
   ]
  },
  {
   "cell_type": "markdown",
   "metadata": {},
   "source": [
    "In this section, we will be working with the clean and transformed dataframe (errors and NaN values were handled in the previous step)."
   ]
  },
  {
   "cell_type": "code",
   "execution_count": 8,
   "metadata": {
    "ExecuteTime": {
     "end_time": "2020-05-08T16:29:11.154001Z",
     "start_time": "2020-05-08T16:29:11.149282Z"
    }
   },
   "outputs": [],
   "source": [
    "# Loading clean and transformed dataframe\n",
    "\n",
    "#df = pd.read_csv('data/df_transformed.csv')"
   ]
  },
  {
   "cell_type": "code",
   "execution_count": 9,
   "metadata": {
    "ExecuteTime": {
     "end_time": "2020-05-08T16:29:11.227690Z",
     "start_time": "2020-05-08T16:29:11.158181Z"
    }
   },
   "outputs": [],
   "source": [
    "################# To delete this step when have the dataframe from sosa\n",
    "\n",
    "# since don't have yeat the real df, will upload the old one\n",
    "\n",
    "df = pd.read_csv('data/clean_tf.csv', sep=',', index_col=0)\n",
    "\n",
    "df = df.fillna(method='ffill')\n",
    "df = df.drop('Unnamed: 0', axis=1)"
   ]
  },
  {
   "cell_type": "markdown",
   "metadata": {},
   "source": [
    "Investigating data to see what changes have to be done before moving to the modeling."
   ]
  },
  {
   "cell_type": "code",
   "execution_count": 10,
   "metadata": {
    "ExecuteTime": {
     "end_time": "2020-05-08T16:29:11.267032Z",
     "start_time": "2020-05-08T16:29:11.230889Z"
    }
   },
   "outputs": [
    {
     "data": {
      "text/html": [
       "<div>\n",
       "<style scoped>\n",
       "    .dataframe tbody tr th:only-of-type {\n",
       "        vertical-align: middle;\n",
       "    }\n",
       "\n",
       "    .dataframe tbody tr th {\n",
       "        vertical-align: top;\n",
       "    }\n",
       "\n",
       "    .dataframe thead th {\n",
       "        text-align: right;\n",
       "    }\n",
       "</style>\n",
       "<table border=\"1\" class=\"dataframe\">\n",
       "  <thead>\n",
       "    <tr style=\"text-align: right;\">\n",
       "      <th></th>\n",
       "      <th>Administrative</th>\n",
       "      <th>Administrative_Duration</th>\n",
       "      <th>Informational</th>\n",
       "      <th>Informational_Duration</th>\n",
       "      <th>ProductRelated</th>\n",
       "      <th>ProductRelated_Duration</th>\n",
       "      <th>BounceRates</th>\n",
       "      <th>ExitRates</th>\n",
       "      <th>PageValues</th>\n",
       "      <th>SpecialDay</th>\n",
       "      <th>...</th>\n",
       "      <th>OperatingSystems</th>\n",
       "      <th>Browser</th>\n",
       "      <th>Region</th>\n",
       "      <th>TrafficType</th>\n",
       "      <th>VisitorType</th>\n",
       "      <th>Weekend</th>\n",
       "      <th>Revenue</th>\n",
       "      <th>AnyPage</th>\n",
       "      <th>Visitor_isReturning</th>\n",
       "      <th>random</th>\n",
       "    </tr>\n",
       "  </thead>\n",
       "  <tbody>\n",
       "    <tr>\n",
       "      <td>0</td>\n",
       "      <td>0.0</td>\n",
       "      <td>0.0</td>\n",
       "      <td>0.0</td>\n",
       "      <td>0.0</td>\n",
       "      <td>1.0</td>\n",
       "      <td>0.000000</td>\n",
       "      <td>0.20</td>\n",
       "      <td>0.20</td>\n",
       "      <td>0.0</td>\n",
       "      <td>0.0</td>\n",
       "      <td>...</td>\n",
       "      <td>1.0</td>\n",
       "      <td>1.0</td>\n",
       "      <td>1.0</td>\n",
       "      <td>1.0</td>\n",
       "      <td>Returning_Visitor</td>\n",
       "      <td>0.0</td>\n",
       "      <td>False</td>\n",
       "      <td>1.0</td>\n",
       "      <td>1.0</td>\n",
       "      <td>0.228473</td>\n",
       "    </tr>\n",
       "    <tr>\n",
       "      <td>1</td>\n",
       "      <td>0.0</td>\n",
       "      <td>0.0</td>\n",
       "      <td>0.0</td>\n",
       "      <td>0.0</td>\n",
       "      <td>2.0</td>\n",
       "      <td>64.000000</td>\n",
       "      <td>0.00</td>\n",
       "      <td>0.10</td>\n",
       "      <td>0.0</td>\n",
       "      <td>0.0</td>\n",
       "      <td>...</td>\n",
       "      <td>2.0</td>\n",
       "      <td>2.0</td>\n",
       "      <td>1.0</td>\n",
       "      <td>2.0</td>\n",
       "      <td>Returning_Visitor</td>\n",
       "      <td>0.0</td>\n",
       "      <td>False</td>\n",
       "      <td>2.0</td>\n",
       "      <td>1.0</td>\n",
       "      <td>0.222005</td>\n",
       "    </tr>\n",
       "    <tr>\n",
       "      <td>2</td>\n",
       "      <td>0.0</td>\n",
       "      <td>0.0</td>\n",
       "      <td>0.0</td>\n",
       "      <td>0.0</td>\n",
       "      <td>1.0</td>\n",
       "      <td>64.000000</td>\n",
       "      <td>0.20</td>\n",
       "      <td>0.20</td>\n",
       "      <td>0.0</td>\n",
       "      <td>0.0</td>\n",
       "      <td>...</td>\n",
       "      <td>4.0</td>\n",
       "      <td>1.0</td>\n",
       "      <td>9.0</td>\n",
       "      <td>3.0</td>\n",
       "      <td>Returning_Visitor</td>\n",
       "      <td>0.0</td>\n",
       "      <td>False</td>\n",
       "      <td>1.0</td>\n",
       "      <td>1.0</td>\n",
       "      <td>0.775748</td>\n",
       "    </tr>\n",
       "    <tr>\n",
       "      <td>3</td>\n",
       "      <td>0.0</td>\n",
       "      <td>0.0</td>\n",
       "      <td>0.0</td>\n",
       "      <td>0.0</td>\n",
       "      <td>2.0</td>\n",
       "      <td>2.666667</td>\n",
       "      <td>0.05</td>\n",
       "      <td>0.14</td>\n",
       "      <td>0.0</td>\n",
       "      <td>0.0</td>\n",
       "      <td>...</td>\n",
       "      <td>3.0</td>\n",
       "      <td>2.0</td>\n",
       "      <td>2.0</td>\n",
       "      <td>4.0</td>\n",
       "      <td>Returning_Visitor</td>\n",
       "      <td>0.0</td>\n",
       "      <td>False</td>\n",
       "      <td>2.0</td>\n",
       "      <td>1.0</td>\n",
       "      <td>0.337079</td>\n",
       "    </tr>\n",
       "    <tr>\n",
       "      <td>4</td>\n",
       "      <td>0.0</td>\n",
       "      <td>0.0</td>\n",
       "      <td>0.0</td>\n",
       "      <td>0.0</td>\n",
       "      <td>10.0</td>\n",
       "      <td>627.500000</td>\n",
       "      <td>0.02</td>\n",
       "      <td>0.05</td>\n",
       "      <td>0.0</td>\n",
       "      <td>0.0</td>\n",
       "      <td>...</td>\n",
       "      <td>3.0</td>\n",
       "      <td>99.0</td>\n",
       "      <td>1.0</td>\n",
       "      <td>4.0</td>\n",
       "      <td>Returning_Visitor</td>\n",
       "      <td>1.0</td>\n",
       "      <td>False</td>\n",
       "      <td>10.0</td>\n",
       "      <td>1.0</td>\n",
       "      <td>0.064565</td>\n",
       "    </tr>\n",
       "  </tbody>\n",
       "</table>\n",
       "<p>5 rows × 21 columns</p>\n",
       "</div>"
      ],
      "text/plain": [
       "   Administrative  Administrative_Duration  Informational  \\\n",
       "0             0.0                      0.0            0.0   \n",
       "1             0.0                      0.0            0.0   \n",
       "2             0.0                      0.0            0.0   \n",
       "3             0.0                      0.0            0.0   \n",
       "4             0.0                      0.0            0.0   \n",
       "\n",
       "   Informational_Duration  ProductRelated  ProductRelated_Duration  \\\n",
       "0                     0.0             1.0                 0.000000   \n",
       "1                     0.0             2.0                64.000000   \n",
       "2                     0.0             1.0                64.000000   \n",
       "3                     0.0             2.0                 2.666667   \n",
       "4                     0.0            10.0               627.500000   \n",
       "\n",
       "   BounceRates  ExitRates  PageValues  SpecialDay  ... OperatingSystems  \\\n",
       "0         0.20       0.20         0.0         0.0  ...              1.0   \n",
       "1         0.00       0.10         0.0         0.0  ...              2.0   \n",
       "2         0.20       0.20         0.0         0.0  ...              4.0   \n",
       "3         0.05       0.14         0.0         0.0  ...              3.0   \n",
       "4         0.02       0.05         0.0         0.0  ...              3.0   \n",
       "\n",
       "   Browser  Region  TrafficType        VisitorType Weekend  Revenue  AnyPage  \\\n",
       "0      1.0     1.0          1.0  Returning_Visitor     0.0    False      1.0   \n",
       "1      2.0     1.0          2.0  Returning_Visitor     0.0    False      2.0   \n",
       "2      1.0     9.0          3.0  Returning_Visitor     0.0    False      1.0   \n",
       "3      2.0     2.0          4.0  Returning_Visitor     0.0    False      2.0   \n",
       "4     99.0     1.0          4.0  Returning_Visitor     1.0    False     10.0   \n",
       "\n",
       "   Visitor_isReturning    random  \n",
       "0                  1.0  0.228473  \n",
       "1                  1.0  0.222005  \n",
       "2                  1.0  0.775748  \n",
       "3                  1.0  0.337079  \n",
       "4                  1.0  0.064565  \n",
       "\n",
       "[5 rows x 21 columns]"
      ]
     },
     "execution_count": 10,
     "metadata": {},
     "output_type": "execute_result"
    }
   ],
   "source": [
    "# Checking if imported data is correct\n",
    "\n",
    "df.head()"
   ]
  },
  {
   "cell_type": "code",
   "execution_count": 11,
   "metadata": {
    "ExecuteTime": {
     "end_time": "2020-05-08T16:29:11.275788Z",
     "start_time": "2020-05-08T16:29:11.269608Z"
    }
   },
   "outputs": [
    {
     "data": {
      "text/plain": [
       "Administrative             float64\n",
       "Administrative_Duration    float64\n",
       "Informational              float64\n",
       "Informational_Duration     float64\n",
       "ProductRelated             float64\n",
       "ProductRelated_Duration    float64\n",
       "BounceRates                float64\n",
       "ExitRates                  float64\n",
       "PageValues                 float64\n",
       "SpecialDay                 float64\n",
       "Month                       object\n",
       "OperatingSystems           float64\n",
       "Browser                    float64\n",
       "Region                     float64\n",
       "TrafficType                float64\n",
       "VisitorType                 object\n",
       "Weekend                    float64\n",
       "Revenue                       bool\n",
       "AnyPage                    float64\n",
       "Visitor_isReturning        float64\n",
       "random                     float64\n",
       "dtype: object"
      ]
     },
     "execution_count": 11,
     "metadata": {},
     "output_type": "execute_result"
    }
   ],
   "source": [
    "# Checking the types of the variables\n",
    "\n",
    "df.dtypes"
   ]
  },
  {
   "cell_type": "markdown",
   "metadata": {},
   "source": [
    "From this short investigation, we have identified that there are several categorical variables that will need to be encoded before using data with the models."
   ]
  },
  {
   "cell_type": "markdown",
   "metadata": {},
   "source": [
    "# Prepare Training Data"
   ]
  },
  {
   "cell_type": "markdown",
   "metadata": {},
   "source": [
    "## Data Transformation"
   ]
  },
  {
   "cell_type": "markdown",
   "metadata": {},
   "source": [
    "A good technique for evaluating performance is generating a random values column. We're inserting random value column as measure of feature importance. If a feature has less score that this random generated column, it's a sign of its poor significance in our data."
   ]
  },
  {
   "cell_type": "code",
   "execution_count": null,
   "metadata": {},
   "outputs": [],
   "source": [
    "rand = [random.random() for i in range(len(df))]\n",
    "df['random'] = rand"
   ]
  },
  {
   "cell_type": "markdown",
   "metadata": {},
   "source": [
    "We are also eliminating 'PageValues' from the independent variables because (as identified in the previous steps) it is too dependent on the outcome and it will not be possible to use it in the prediction."
   ]
  },
  {
   "cell_type": "code",
   "execution_count": null,
   "metadata": {},
   "outputs": [],
   "source": [
    "df = df.drop('PageValues', axis=1)"
   ]
  },
  {
   "cell_type": "markdown",
   "metadata": {},
   "source": [
    "## Data Encoding"
   ]
  },
  {
   "cell_type": "markdown",
   "metadata": {},
   "source": [
    "We're encoding categorical variables to be able to use them in the models of machine learning.\n"
   ]
  },
  {
   "cell_type": "markdown",
   "metadata": {},
   "source": [
    "### Label Encoder"
   ]
  },
  {
   "cell_type": "markdown",
   "metadata": {},
   "source": [
    "We will be using the Label Encoder for the columns 'Revenue' and 'Weekend'. These columns have only two categories meaning that we don't need to create different columns to encode the values."
   ]
  },
  {
   "cell_type": "code",
   "execution_count": 12,
   "metadata": {
    "ExecuteTime": {
     "end_time": "2020-05-08T16:29:11.283413Z",
     "start_time": "2020-05-08T16:29:11.277355Z"
    }
   },
   "outputs": [],
   "source": [
    "# Creating the instance of labelencoder\n",
    "labelencoder = LabelEncoder()\n",
    "\n",
    "# Assigning the columns\n",
    "cols_label_enc = ['Revenue', 'Weekend']\n",
    "\n",
    "# Creating labels for the columns\n",
    "for col in cols_label_enc:\n",
    "    df[col+'_enc'] = labelencoder.fit_transform(df[col])"
   ]
  },
  {
   "cell_type": "code",
   "execution_count": 13,
   "metadata": {
    "ExecuteTime": {
     "end_time": "2020-05-08T16:29:11.293482Z",
     "start_time": "2020-05-08T16:29:11.285357Z"
    }
   },
   "outputs": [
    {
     "name": "stdout",
     "output_type": "stream",
     "text": [
      "Encoded Revenue values:\n",
      "0    10422\n",
      "1     1908\n",
      "Name: Revenue_enc, dtype: int64\n",
      "\n",
      "Encoded Weekend values:\n",
      "0    9460\n",
      "1    2870\n",
      "Name: Weekend_enc, dtype: int64\n"
     ]
    }
   ],
   "source": [
    "print(f'Encoded Revenue values:\\n{df.Revenue_enc.value_counts()}')\n",
    "print(f'\\nEncoded Weekend values:\\n{df.Weekend_enc.value_counts()}')"
   ]
  },
  {
   "cell_type": "markdown",
   "metadata": {},
   "source": [
    "Checking the value counts of these columns we can see that the values have been encoded to 0 (False) and 1 (True)."
   ]
  },
  {
   "cell_type": "markdown",
   "metadata": {
    "ExecuteTime": {
     "end_time": "2020-05-06T16:29:39.088671Z",
     "start_time": "2020-05-06T16:29:39.085695Z"
    }
   },
   "source": [
    "### OneHotEncoder"
   ]
  },
  {
   "cell_type": "markdown",
   "metadata": {},
   "source": [
    "We will be using OneHotEncoder for 'Month', 'OperatingSystems', 'Region', 'TrafficType' and 'Browser' columns because they have more than two categories, therefore, additional columns have to be created."
   ]
  },
  {
   "cell_type": "code",
   "execution_count": 14,
   "metadata": {
    "ExecuteTime": {
     "end_time": "2020-05-08T16:29:11.370990Z",
     "start_time": "2020-05-08T16:29:11.295165Z"
    }
   },
   "outputs": [
    {
     "data": {
      "text/html": [
       "<div>\n",
       "<style scoped>\n",
       "    .dataframe tbody tr th:only-of-type {\n",
       "        vertical-align: middle;\n",
       "    }\n",
       "\n",
       "    .dataframe tbody tr th {\n",
       "        vertical-align: top;\n",
       "    }\n",
       "\n",
       "    .dataframe thead th {\n",
       "        text-align: right;\n",
       "    }\n",
       "</style>\n",
       "<table border=\"1\" class=\"dataframe\">\n",
       "  <thead>\n",
       "    <tr style=\"text-align: right;\">\n",
       "      <th></th>\n",
       "      <th>Administrative</th>\n",
       "      <th>Administrative_Duration</th>\n",
       "      <th>Informational</th>\n",
       "      <th>Informational_Duration</th>\n",
       "      <th>ProductRelated</th>\n",
       "      <th>ProductRelated_Duration</th>\n",
       "      <th>BounceRates</th>\n",
       "      <th>ExitRates</th>\n",
       "      <th>PageValues</th>\n",
       "      <th>SpecialDay</th>\n",
       "      <th>...</th>\n",
       "      <th>x0_4.0TrafficType</th>\n",
       "      <th>x0_5.0TrafficType</th>\n",
       "      <th>x0_6.0TrafficType</th>\n",
       "      <th>x0_8.0TrafficType</th>\n",
       "      <th>x0_9.0TrafficType</th>\n",
       "      <th>x0_10.0TrafficType</th>\n",
       "      <th>x0_11.0TrafficType</th>\n",
       "      <th>x0_13.0TrafficType</th>\n",
       "      <th>x0_20.0TrafficType</th>\n",
       "      <th>x0_99.0TrafficType</th>\n",
       "    </tr>\n",
       "  </thead>\n",
       "  <tbody>\n",
       "    <tr>\n",
       "      <td>0</td>\n",
       "      <td>0.0</td>\n",
       "      <td>0.0</td>\n",
       "      <td>0.0</td>\n",
       "      <td>0.0</td>\n",
       "      <td>1.0</td>\n",
       "      <td>0.000000</td>\n",
       "      <td>0.20</td>\n",
       "      <td>0.20</td>\n",
       "      <td>0.0</td>\n",
       "      <td>0.0</td>\n",
       "      <td>...</td>\n",
       "      <td>0.0</td>\n",
       "      <td>0.0</td>\n",
       "      <td>0.0</td>\n",
       "      <td>0.0</td>\n",
       "      <td>0.0</td>\n",
       "      <td>0.0</td>\n",
       "      <td>0.0</td>\n",
       "      <td>0.0</td>\n",
       "      <td>0.0</td>\n",
       "      <td>0.0</td>\n",
       "    </tr>\n",
       "    <tr>\n",
       "      <td>1</td>\n",
       "      <td>0.0</td>\n",
       "      <td>0.0</td>\n",
       "      <td>0.0</td>\n",
       "      <td>0.0</td>\n",
       "      <td>2.0</td>\n",
       "      <td>64.000000</td>\n",
       "      <td>0.00</td>\n",
       "      <td>0.10</td>\n",
       "      <td>0.0</td>\n",
       "      <td>0.0</td>\n",
       "      <td>...</td>\n",
       "      <td>0.0</td>\n",
       "      <td>0.0</td>\n",
       "      <td>0.0</td>\n",
       "      <td>0.0</td>\n",
       "      <td>0.0</td>\n",
       "      <td>0.0</td>\n",
       "      <td>0.0</td>\n",
       "      <td>0.0</td>\n",
       "      <td>0.0</td>\n",
       "      <td>0.0</td>\n",
       "    </tr>\n",
       "    <tr>\n",
       "      <td>2</td>\n",
       "      <td>0.0</td>\n",
       "      <td>0.0</td>\n",
       "      <td>0.0</td>\n",
       "      <td>0.0</td>\n",
       "      <td>1.0</td>\n",
       "      <td>64.000000</td>\n",
       "      <td>0.20</td>\n",
       "      <td>0.20</td>\n",
       "      <td>0.0</td>\n",
       "      <td>0.0</td>\n",
       "      <td>...</td>\n",
       "      <td>0.0</td>\n",
       "      <td>0.0</td>\n",
       "      <td>0.0</td>\n",
       "      <td>0.0</td>\n",
       "      <td>0.0</td>\n",
       "      <td>0.0</td>\n",
       "      <td>0.0</td>\n",
       "      <td>0.0</td>\n",
       "      <td>0.0</td>\n",
       "      <td>0.0</td>\n",
       "    </tr>\n",
       "    <tr>\n",
       "      <td>3</td>\n",
       "      <td>0.0</td>\n",
       "      <td>0.0</td>\n",
       "      <td>0.0</td>\n",
       "      <td>0.0</td>\n",
       "      <td>2.0</td>\n",
       "      <td>2.666667</td>\n",
       "      <td>0.05</td>\n",
       "      <td>0.14</td>\n",
       "      <td>0.0</td>\n",
       "      <td>0.0</td>\n",
       "      <td>...</td>\n",
       "      <td>1.0</td>\n",
       "      <td>0.0</td>\n",
       "      <td>0.0</td>\n",
       "      <td>0.0</td>\n",
       "      <td>0.0</td>\n",
       "      <td>0.0</td>\n",
       "      <td>0.0</td>\n",
       "      <td>0.0</td>\n",
       "      <td>0.0</td>\n",
       "      <td>0.0</td>\n",
       "    </tr>\n",
       "    <tr>\n",
       "      <td>4</td>\n",
       "      <td>0.0</td>\n",
       "      <td>0.0</td>\n",
       "      <td>0.0</td>\n",
       "      <td>0.0</td>\n",
       "      <td>10.0</td>\n",
       "      <td>627.500000</td>\n",
       "      <td>0.02</td>\n",
       "      <td>0.05</td>\n",
       "      <td>0.0</td>\n",
       "      <td>0.0</td>\n",
       "      <td>...</td>\n",
       "      <td>1.0</td>\n",
       "      <td>0.0</td>\n",
       "      <td>0.0</td>\n",
       "      <td>0.0</td>\n",
       "      <td>0.0</td>\n",
       "      <td>0.0</td>\n",
       "      <td>0.0</td>\n",
       "      <td>0.0</td>\n",
       "      <td>0.0</td>\n",
       "      <td>0.0</td>\n",
       "    </tr>\n",
       "  </tbody>\n",
       "</table>\n",
       "<p>5 rows × 68 columns</p>\n",
       "</div>"
      ],
      "text/plain": [
       "   Administrative  Administrative_Duration  Informational  \\\n",
       "0             0.0                      0.0            0.0   \n",
       "1             0.0                      0.0            0.0   \n",
       "2             0.0                      0.0            0.0   \n",
       "3             0.0                      0.0            0.0   \n",
       "4             0.0                      0.0            0.0   \n",
       "\n",
       "   Informational_Duration  ProductRelated  ProductRelated_Duration  \\\n",
       "0                     0.0             1.0                 0.000000   \n",
       "1                     0.0             2.0                64.000000   \n",
       "2                     0.0             1.0                64.000000   \n",
       "3                     0.0             2.0                 2.666667   \n",
       "4                     0.0            10.0               627.500000   \n",
       "\n",
       "   BounceRates  ExitRates  PageValues  SpecialDay  ... x0_4.0TrafficType  \\\n",
       "0         0.20       0.20         0.0         0.0  ...               0.0   \n",
       "1         0.00       0.10         0.0         0.0  ...               0.0   \n",
       "2         0.20       0.20         0.0         0.0  ...               0.0   \n",
       "3         0.05       0.14         0.0         0.0  ...               1.0   \n",
       "4         0.02       0.05         0.0         0.0  ...               1.0   \n",
       "\n",
       "   x0_5.0TrafficType  x0_6.0TrafficType  x0_8.0TrafficType  x0_9.0TrafficType  \\\n",
       "0                0.0                0.0                0.0                0.0   \n",
       "1                0.0                0.0                0.0                0.0   \n",
       "2                0.0                0.0                0.0                0.0   \n",
       "3                0.0                0.0                0.0                0.0   \n",
       "4                0.0                0.0                0.0                0.0   \n",
       "\n",
       "  x0_10.0TrafficType  x0_11.0TrafficType  x0_13.0TrafficType  \\\n",
       "0                0.0                 0.0                 0.0   \n",
       "1                0.0                 0.0                 0.0   \n",
       "2                0.0                 0.0                 0.0   \n",
       "3                0.0                 0.0                 0.0   \n",
       "4                0.0                 0.0                 0.0   \n",
       "\n",
       "   x0_20.0TrafficType  x0_99.0TrafficType  \n",
       "0                 0.0                 0.0  \n",
       "1                 0.0                 0.0  \n",
       "2                 0.0                 0.0  \n",
       "3                 0.0                 0.0  \n",
       "4                 0.0                 0.0  \n",
       "\n",
       "[5 rows x 68 columns]"
      ]
     },
     "execution_count": 14,
     "metadata": {},
     "output_type": "execute_result"
    }
   ],
   "source": [
    "appended_dfs = []\n",
    "\n",
    "columns = ['Month', 'OperatingSystems', 'Region', 'Browser', 'TrafficType']\n",
    "\n",
    "for col in columns:\n",
    "    # Creating instance of one-hot-encoder\n",
    "    enc = OneHotEncoder(handle_unknown='ignore')\n",
    "    # Passing columns\n",
    "    enc_df = pd.DataFrame(enc.fit_transform(df[[col]]).toarray())\n",
    "    # Getting values for the names of the columns\n",
    "    enc_df.columns = enc.get_feature_names()+col\n",
    "    # Appenign all new dfs to one list\n",
    "    appended_dfs.append(enc_df)\n",
    "# Mergeing with the main df\n",
    "df_encoded = df.join(appended_dfs) \n",
    "df_encoded.head()"
   ]
  },
  {
   "cell_type": "markdown",
   "metadata": {},
   "source": [
    "Deleting the columns that were encoded:"
   ]
  },
  {
   "cell_type": "code",
   "execution_count": 15,
   "metadata": {
    "ExecuteTime": {
     "end_time": "2020-05-08T16:29:11.381563Z",
     "start_time": "2020-05-08T16:29:11.373719Z"
    }
   },
   "outputs": [],
   "source": [
    "cols_drop = ['Revenue', 'Weekend', 'Month', 'OperatingSystems', 'Region', 'Browser', 'TrafficType', \n",
    "             'VisitorType']\n",
    "df_encoded.drop(columns=cols_drop, inplace=True)"
   ]
  },
  {
   "cell_type": "markdown",
   "metadata": {},
   "source": [
    "Checking if the data has been encoded correctly:"
   ]
  },
  {
   "cell_type": "code",
   "execution_count": 16,
   "metadata": {
    "ExecuteTime": {
     "end_time": "2020-05-08T16:29:11.410552Z",
     "start_time": "2020-05-08T16:29:11.383857Z"
    }
   },
   "outputs": [
    {
     "data": {
      "text/html": [
       "<div>\n",
       "<style scoped>\n",
       "    .dataframe tbody tr th:only-of-type {\n",
       "        vertical-align: middle;\n",
       "    }\n",
       "\n",
       "    .dataframe tbody tr th {\n",
       "        vertical-align: top;\n",
       "    }\n",
       "\n",
       "    .dataframe thead th {\n",
       "        text-align: right;\n",
       "    }\n",
       "</style>\n",
       "<table border=\"1\" class=\"dataframe\">\n",
       "  <thead>\n",
       "    <tr style=\"text-align: right;\">\n",
       "      <th></th>\n",
       "      <th>Administrative</th>\n",
       "      <th>Administrative_Duration</th>\n",
       "      <th>Informational</th>\n",
       "      <th>Informational_Duration</th>\n",
       "      <th>ProductRelated</th>\n",
       "      <th>ProductRelated_Duration</th>\n",
       "      <th>BounceRates</th>\n",
       "      <th>ExitRates</th>\n",
       "      <th>PageValues</th>\n",
       "      <th>SpecialDay</th>\n",
       "      <th>...</th>\n",
       "      <th>x0_4.0TrafficType</th>\n",
       "      <th>x0_5.0TrafficType</th>\n",
       "      <th>x0_6.0TrafficType</th>\n",
       "      <th>x0_8.0TrafficType</th>\n",
       "      <th>x0_9.0TrafficType</th>\n",
       "      <th>x0_10.0TrafficType</th>\n",
       "      <th>x0_11.0TrafficType</th>\n",
       "      <th>x0_13.0TrafficType</th>\n",
       "      <th>x0_20.0TrafficType</th>\n",
       "      <th>x0_99.0TrafficType</th>\n",
       "    </tr>\n",
       "  </thead>\n",
       "  <tbody>\n",
       "    <tr>\n",
       "      <td>0</td>\n",
       "      <td>0.0</td>\n",
       "      <td>0.0</td>\n",
       "      <td>0.0</td>\n",
       "      <td>0.0</td>\n",
       "      <td>1.0</td>\n",
       "      <td>0.000000</td>\n",
       "      <td>0.20</td>\n",
       "      <td>0.20</td>\n",
       "      <td>0.0</td>\n",
       "      <td>0.0</td>\n",
       "      <td>...</td>\n",
       "      <td>0.0</td>\n",
       "      <td>0.0</td>\n",
       "      <td>0.0</td>\n",
       "      <td>0.0</td>\n",
       "      <td>0.0</td>\n",
       "      <td>0.0</td>\n",
       "      <td>0.0</td>\n",
       "      <td>0.0</td>\n",
       "      <td>0.0</td>\n",
       "      <td>0.0</td>\n",
       "    </tr>\n",
       "    <tr>\n",
       "      <td>1</td>\n",
       "      <td>0.0</td>\n",
       "      <td>0.0</td>\n",
       "      <td>0.0</td>\n",
       "      <td>0.0</td>\n",
       "      <td>2.0</td>\n",
       "      <td>64.000000</td>\n",
       "      <td>0.00</td>\n",
       "      <td>0.10</td>\n",
       "      <td>0.0</td>\n",
       "      <td>0.0</td>\n",
       "      <td>...</td>\n",
       "      <td>0.0</td>\n",
       "      <td>0.0</td>\n",
       "      <td>0.0</td>\n",
       "      <td>0.0</td>\n",
       "      <td>0.0</td>\n",
       "      <td>0.0</td>\n",
       "      <td>0.0</td>\n",
       "      <td>0.0</td>\n",
       "      <td>0.0</td>\n",
       "      <td>0.0</td>\n",
       "    </tr>\n",
       "    <tr>\n",
       "      <td>2</td>\n",
       "      <td>0.0</td>\n",
       "      <td>0.0</td>\n",
       "      <td>0.0</td>\n",
       "      <td>0.0</td>\n",
       "      <td>1.0</td>\n",
       "      <td>64.000000</td>\n",
       "      <td>0.20</td>\n",
       "      <td>0.20</td>\n",
       "      <td>0.0</td>\n",
       "      <td>0.0</td>\n",
       "      <td>...</td>\n",
       "      <td>0.0</td>\n",
       "      <td>0.0</td>\n",
       "      <td>0.0</td>\n",
       "      <td>0.0</td>\n",
       "      <td>0.0</td>\n",
       "      <td>0.0</td>\n",
       "      <td>0.0</td>\n",
       "      <td>0.0</td>\n",
       "      <td>0.0</td>\n",
       "      <td>0.0</td>\n",
       "    </tr>\n",
       "    <tr>\n",
       "      <td>3</td>\n",
       "      <td>0.0</td>\n",
       "      <td>0.0</td>\n",
       "      <td>0.0</td>\n",
       "      <td>0.0</td>\n",
       "      <td>2.0</td>\n",
       "      <td>2.666667</td>\n",
       "      <td>0.05</td>\n",
       "      <td>0.14</td>\n",
       "      <td>0.0</td>\n",
       "      <td>0.0</td>\n",
       "      <td>...</td>\n",
       "      <td>1.0</td>\n",
       "      <td>0.0</td>\n",
       "      <td>0.0</td>\n",
       "      <td>0.0</td>\n",
       "      <td>0.0</td>\n",
       "      <td>0.0</td>\n",
       "      <td>0.0</td>\n",
       "      <td>0.0</td>\n",
       "      <td>0.0</td>\n",
       "      <td>0.0</td>\n",
       "    </tr>\n",
       "    <tr>\n",
       "      <td>4</td>\n",
       "      <td>0.0</td>\n",
       "      <td>0.0</td>\n",
       "      <td>0.0</td>\n",
       "      <td>0.0</td>\n",
       "      <td>10.0</td>\n",
       "      <td>627.500000</td>\n",
       "      <td>0.02</td>\n",
       "      <td>0.05</td>\n",
       "      <td>0.0</td>\n",
       "      <td>0.0</td>\n",
       "      <td>...</td>\n",
       "      <td>1.0</td>\n",
       "      <td>0.0</td>\n",
       "      <td>0.0</td>\n",
       "      <td>0.0</td>\n",
       "      <td>0.0</td>\n",
       "      <td>0.0</td>\n",
       "      <td>0.0</td>\n",
       "      <td>0.0</td>\n",
       "      <td>0.0</td>\n",
       "      <td>0.0</td>\n",
       "    </tr>\n",
       "  </tbody>\n",
       "</table>\n",
       "<p>5 rows × 60 columns</p>\n",
       "</div>"
      ],
      "text/plain": [
       "   Administrative  Administrative_Duration  Informational  \\\n",
       "0             0.0                      0.0            0.0   \n",
       "1             0.0                      0.0            0.0   \n",
       "2             0.0                      0.0            0.0   \n",
       "3             0.0                      0.0            0.0   \n",
       "4             0.0                      0.0            0.0   \n",
       "\n",
       "   Informational_Duration  ProductRelated  ProductRelated_Duration  \\\n",
       "0                     0.0             1.0                 0.000000   \n",
       "1                     0.0             2.0                64.000000   \n",
       "2                     0.0             1.0                64.000000   \n",
       "3                     0.0             2.0                 2.666667   \n",
       "4                     0.0            10.0               627.500000   \n",
       "\n",
       "   BounceRates  ExitRates  PageValues  SpecialDay  ...  x0_4.0TrafficType  \\\n",
       "0         0.20       0.20         0.0         0.0  ...                0.0   \n",
       "1         0.00       0.10         0.0         0.0  ...                0.0   \n",
       "2         0.20       0.20         0.0         0.0  ...                0.0   \n",
       "3         0.05       0.14         0.0         0.0  ...                1.0   \n",
       "4         0.02       0.05         0.0         0.0  ...                1.0   \n",
       "\n",
       "   x0_5.0TrafficType  x0_6.0TrafficType  x0_8.0TrafficType  x0_9.0TrafficType  \\\n",
       "0                0.0                0.0                0.0                0.0   \n",
       "1                0.0                0.0                0.0                0.0   \n",
       "2                0.0                0.0                0.0                0.0   \n",
       "3                0.0                0.0                0.0                0.0   \n",
       "4                0.0                0.0                0.0                0.0   \n",
       "\n",
       "   x0_10.0TrafficType  x0_11.0TrafficType  x0_13.0TrafficType  \\\n",
       "0                 0.0                 0.0                 0.0   \n",
       "1                 0.0                 0.0                 0.0   \n",
       "2                 0.0                 0.0                 0.0   \n",
       "3                 0.0                 0.0                 0.0   \n",
       "4                 0.0                 0.0                 0.0   \n",
       "\n",
       "   x0_20.0TrafficType  x0_99.0TrafficType  \n",
       "0                 0.0                 0.0  \n",
       "1                 0.0                 0.0  \n",
       "2                 0.0                 0.0  \n",
       "3                 0.0                 0.0  \n",
       "4                 0.0                 0.0  \n",
       "\n",
       "[5 rows x 60 columns]"
      ]
     },
     "execution_count": 16,
     "metadata": {},
     "output_type": "execute_result"
    }
   ],
   "source": [
    "df_encoded.head()"
   ]
  },
  {
   "cell_type": "code",
   "execution_count": 17,
   "metadata": {
    "ExecuteTime": {
     "end_time": "2020-05-08T16:29:11.422799Z",
     "start_time": "2020-05-08T16:29:11.412552Z"
    }
   },
   "outputs": [
    {
     "data": {
      "text/plain": [
       "Administrative             float64\n",
       "Administrative_Duration    float64\n",
       "Informational              float64\n",
       "Informational_Duration     float64\n",
       "ProductRelated             float64\n",
       "ProductRelated_Duration    float64\n",
       "BounceRates                float64\n",
       "ExitRates                  float64\n",
       "PageValues                 float64\n",
       "SpecialDay                 float64\n",
       "AnyPage                    float64\n",
       "Visitor_isReturning        float64\n",
       "random                     float64\n",
       "Revenue_enc                  int64\n",
       "Weekend_enc                  int64\n",
       "x0_AugMonth                float64\n",
       "x0_DecMonth                float64\n",
       "x0_FebMonth                float64\n",
       "x0_JulMonth                float64\n",
       "x0_JuneMonth               float64\n",
       "x0_MarMonth                float64\n",
       "x0_MayMonth                float64\n",
       "x0_NovMonth                float64\n",
       "x0_OctMonth                float64\n",
       "x0_SepMonth                float64\n",
       "x0_1.0OperatingSystems     float64\n",
       "x0_2.0OperatingSystems     float64\n",
       "x0_3.0OperatingSystems     float64\n",
       "x0_4.0OperatingSystems     float64\n",
       "x0_99.0OperatingSystems    float64\n",
       "x0_1.0Region               float64\n",
       "x0_2.0Region               float64\n",
       "x0_3.0Region               float64\n",
       "x0_4.0Region               float64\n",
       "x0_5.0Region               float64\n",
       "x0_6.0Region               float64\n",
       "x0_7.0Region               float64\n",
       "x0_8.0Region               float64\n",
       "x0_9.0Region               float64\n",
       "x0_1.0Browser              float64\n",
       "x0_2.0Browser              float64\n",
       "x0_4.0Browser              float64\n",
       "x0_5.0Browser              float64\n",
       "x0_6.0Browser              float64\n",
       "x0_8.0Browser              float64\n",
       "x0_10.0Browser             float64\n",
       "x0_99.0Browser             float64\n",
       "x0_1.0TrafficType          float64\n",
       "x0_2.0TrafficType          float64\n",
       "x0_3.0TrafficType          float64\n",
       "x0_4.0TrafficType          float64\n",
       "x0_5.0TrafficType          float64\n",
       "x0_6.0TrafficType          float64\n",
       "x0_8.0TrafficType          float64\n",
       "x0_9.0TrafficType          float64\n",
       "x0_10.0TrafficType         float64\n",
       "x0_11.0TrafficType         float64\n",
       "x0_13.0TrafficType         float64\n",
       "x0_20.0TrafficType         float64\n",
       "x0_99.0TrafficType         float64\n",
       "dtype: object"
      ]
     },
     "execution_count": 17,
     "metadata": {},
     "output_type": "execute_result"
    }
   ],
   "source": [
    "df_encoded.dtypes"
   ]
  },
  {
   "cell_type": "code",
   "execution_count": 18,
   "metadata": {
    "ExecuteTime": {
     "end_time": "2020-05-08T16:29:11.429753Z",
     "start_time": "2020-05-08T16:29:11.424979Z"
    }
   },
   "outputs": [
    {
     "name": "stdout",
     "output_type": "stream",
     "text": [
      "The shape of the encoded dataset is: (12330, 60)\n"
     ]
    }
   ],
   "source": [
    "print(f'The shape of the encoded dataset is: {df_encoded.shape}')"
   ]
  },
  {
   "cell_type": "markdown",
   "metadata": {},
   "source": [
    "### Exporting encoded data to csv"
   ]
  },
  {
   "cell_type": "code",
   "execution_count": 19,
   "metadata": {
    "ExecuteTime": {
     "end_time": "2020-05-08T16:29:12.179193Z",
     "start_time": "2020-05-08T16:29:11.432471Z"
    }
   },
   "outputs": [],
   "source": [
    "df_encoded.to_csv(\"data/df_encoded.csv\", index=True)"
   ]
  },
  {
   "cell_type": "markdown",
   "metadata": {},
   "source": [
    "## Data Split"
   ]
  },
  {
   "cell_type": "markdown",
   "metadata": {},
   "source": [
    "To be able to use data with the machine learning models we will need to split it to the independent variables (X) and target variable (y). "
   ]
  },
  {
   "cell_type": "code",
   "execution_count": 20,
   "metadata": {
    "ExecuteTime": {
     "end_time": "2020-05-08T16:29:12.363196Z",
     "start_time": "2020-05-08T16:29:12.180618Z"
    }
   },
   "outputs": [
    {
     "name": "stdout",
     "output_type": "stream",
     "text": [
      "Original dataset shape X: 12330, y: 12330\n",
      "\n",
      "Original split between True and False:\n",
      "0    10422\n",
      "1     1908\n",
      "Name: Revenue_enc, dtype: int64\n"
     ]
    },
    {
     "data": {
      "image/png": "[encoded data removed]",
      "text/plain": [
       "<Figure size 720x720 with 1 Axes>"
      ]
     },
     "metadata": {
      "needs_background": "light"
     },
     "output_type": "display_data"
    }
   ],
   "source": [
    "X = df_encoded.drop(columns=['Revenue_enc'])\n",
    "y = df_encoded['Revenue_enc']\n",
    "\n",
    "print(f'Original dataset shape X: {len(X)}, y: {len(y)}')\n",
    "print(f'\\nOriginal split between True and False:\\n{y.value_counts()}')\n",
    "\n",
    "sns.countplot(y)\n",
    "plt.show()"
   ]
  },
  {
   "cell_type": "markdown",
   "metadata": {},
   "source": [
    "## Data Balancing (Undersampling)"
   ]
  },
  {
   "cell_type": "markdown",
   "metadata": {},
   "source": [
    "As identified in the EDA in the previous step, we have imbalanced data distribution, the observations in the class False are much higher than the observations in the class True.\n",
    "\n",
    "Standard ML techniques such as Decision Tree and Logistic Regression have a bias towards the majority class, and they tend to ignore the minority class. They tend only to predict the majority class, hence, having major misclassification of the minority class in comparison with the majority class.\n",
    "\n",
    "We will use the NearMiss, an undersampling technique for our dataset."
   ]
  },
  {
   "cell_type": "markdown",
   "metadata": {},
   "source": [
    "### NearMiss"
   ]
  },
  {
   "cell_type": "markdown",
   "metadata": {
    "ExecuteTime": {
     "end_time": "2020-05-08T10:11:48.834187Z",
     "start_time": "2020-05-08T10:11:48.831194Z"
    }
   },
   "source": [
    "This technique aims to balance class distribution by randomly eliminating majority class examples. When instances of two different classes are very close to each other, it removes the instances of the majority class to increase the spaces between the two classes. This helps in the classification process."
   ]
  },
  {
   "cell_type": "code",
   "execution_count": 21,
   "metadata": {
    "ExecuteTime": {
     "end_time": "2020-05-08T16:29:12.833595Z",
     "start_time": "2020-05-08T16:29:12.365112Z"
    }
   },
   "outputs": [
    {
     "name": "stdout",
     "output_type": "stream",
     "text": [
      "Resampled dataset shape X: 3816, Y: 3816\n",
      "\n",
      "Resampled split between True and False:\n",
      "1    1908\n",
      "0    1908\n",
      "dtype: int64\n"
     ]
    },
    {
     "data": {
      "image/png": "[encoded data removed]",
      "text/plain": [
       "<Figure size 720x720 with 1 Axes>"
      ]
     },
     "metadata": {
      "needs_background": "light"
     },
     "output_type": "display_data"
    }
   ],
   "source": [
    "nr = NearMiss()\n",
    "X, y = nr.fit_sample(X, y)\n",
    "\n",
    "print(f'Resampled dataset shape X: {len(X)}, Y: {len(y)}')\n",
    "print(f'\\nResampled split between True and False:\\n{pd.Series(y).value_counts()}')\n",
    "\n",
    "sns.countplot(y)\n",
    "plt.show()"
   ]
  },
  {
   "cell_type": "markdown",
   "metadata": {},
   "source": [
    "## Scaling"
   ]
  },
  {
   "cell_type": "markdown",
   "metadata": {},
   "source": [
    "Feature Scaling is a technique to standardize the independent variables present in the data in a fixed range. We will perform it to handle highly varying values of our dataset. If feature scaling is not done, a machine learning algorithm tends to weigh greater values, and consider smaller values as the lower values, regardless of the unit of the values."
   ]
  },
  {
   "cell_type": "markdown",
   "metadata": {},
   "source": [
    "### StandardScaler"
   ]
  },
  {
   "cell_type": "markdown",
   "metadata": {},
   "source": [
    "We will be using the StandardScaler. It is a technique which re-scales a feature value so that it has distribution with 0 mean value and variance equals to 1."
   ]
  },
  {
   "cell_type": "code",
   "execution_count": 22,
   "metadata": {
    "ExecuteTime": {
     "end_time": "2020-05-08T16:29:12.843671Z",
     "start_time": "2020-05-08T16:29:12.835532Z"
    }
   },
   "outputs": [],
   "source": [
    "std_scale = StandardScaler()\n",
    "\n",
    "X = std_scale.fit_transform(X)"
   ]
  },
  {
   "cell_type": "markdown",
   "metadata": {},
   "source": [
    "## Selecting test and train data"
   ]
  },
  {
   "cell_type": "markdown",
   "metadata": {},
   "source": [
    "To be able to train and test our model on the different sets of the dataset, we will split the data into training and testing parts.\n",
    "\n",
    "- With shuffle, we set to shuffle the data before splitting.\n",
    "- With stratify, we choose to split the data stratifying via our target feature (y)."
   ]
  },
  {
   "cell_type": "code",
   "execution_count": 23,
   "metadata": {
    "ExecuteTime": {
     "end_time": "2020-05-08T16:29:12.855721Z",
     "start_time": "2020-05-08T16:29:12.848115Z"
    }
   },
   "outputs": [],
   "source": [
    "X_train, X_test, y_train, y_test = train_test_split(X, y, test_size=0.3, shuffle=True, stratify=y, \n",
    "                                                    random_state=41)"
   ]
  },
  {
   "cell_type": "markdown",
   "metadata": {},
   "source": [
    "# Modeling"
   ]
  },
  {
   "cell_type": "markdown",
   "metadata": {},
   "source": [
    "We will be testing our data with 6 classification models:\n",
    "\n",
    "- K-Nearest Neighbors\n",
    "- Logistic Regression\n",
    "- Decision Tree\n",
    "- Random Forest\n",
    "- Linear Support Vector Classification\n",
    "- Gaussian Naive Bayes\n",
    "\n",
    "We will focus our analysis to optimize the F1_score. When optimizing for F1_score we take both precision and recall into account. Trying to only optimize recall, the algorithm will predict most examples to belong to the positive class, but that will result in many false positives and, hence, low precision. On the other hand, trying to optimize precision, the model will predict very few examples as positive results (the ones with the highest probability), but recall will be very low."
   ]
  },
  {
   "cell_type": "markdown",
   "metadata": {},
   "source": [
    "## K-Nearest Neighbors"
   ]
  },
  {
   "cell_type": "markdown",
   "metadata": {
    "ExecuteTime": {
     "end_time": "2020-05-07T08:45:33.218399Z",
     "start_time": "2020-05-07T08:45:33.214547Z"
    }
   },
   "source": [
    "K-Nearest Neighbors is an algorithm by which an unclassified data point is classified based on its distance from known points.\n",
    "\n",
    "The way that model decides how to classify the unknown point is by creating a circle with the point as the center. The size of the circle is set by choosing the number of neighbors. This setting does not refer to the actual size of the circle, however, it refers to how many neighboring points are to fall inside of the circle.\n",
    "\n",
    "We will start our modeling with the K-Nearest Neighbors with the default number of neighbors (5)."
   ]
  },
  {
   "cell_type": "code",
   "execution_count": 24,
   "metadata": {
    "ExecuteTime": {
     "end_time": "2020-05-08T16:29:19.663917Z",
     "start_time": "2020-05-08T16:29:12.858552Z"
    }
   },
   "outputs": [
    {
     "name": "stdout",
     "output_type": "stream",
     "text": [
      "Confussion Matrix for test data:\n",
      "[[465 108]\n",
      " [141 431]]\n",
      "\n",
      "Classification report for test data:\n",
      "              precision    recall  f1-score   support\n",
      "\n",
      "           0       0.77      0.81      0.79       573\n",
      "           1       0.80      0.75      0.78       572\n",
      "\n",
      "    accuracy                           0.78      1145\n",
      "   macro avg       0.78      0.78      0.78      1145\n",
      "weighted avg       0.78      0.78      0.78      1145\n",
      "\n"
     ]
    },
    {
     "data": {
      "text/html": [
       "<div>\n",
       "<style scoped>\n",
       "    .dataframe tbody tr th:only-of-type {\n",
       "        vertical-align: middle;\n",
       "    }\n",
       "\n",
       "    .dataframe tbody tr th {\n",
       "        vertical-align: top;\n",
       "    }\n",
       "\n",
       "    .dataframe thead th {\n",
       "        text-align: right;\n",
       "    }\n",
       "</style>\n",
       "<table border=\"1\" class=\"dataframe\">\n",
       "  <thead>\n",
       "    <tr style=\"text-align: right;\">\n",
       "      <th></th>\n",
       "      <th>data</th>\n",
       "      <th>model</th>\n",
       "      <th>accuracy</th>\n",
       "      <th>precision</th>\n",
       "      <th>recall</th>\n",
       "      <th>f1score</th>\n",
       "      <th>rocauc</th>\n",
       "      <th>logloss</th>\n",
       "    </tr>\n",
       "  </thead>\n",
       "  <tbody>\n",
       "    <tr>\n",
       "      <td>0</td>\n",
       "      <td>training</td>\n",
       "      <td>KNeighborsClassifier</td>\n",
       "      <td>0.758907</td>\n",
       "      <td>0.800830</td>\n",
       "      <td>0.725323</td>\n",
       "      <td>0.757512</td>\n",
       "      <td>0.848310</td>\n",
       "      <td>4.926762</td>\n",
       "    </tr>\n",
       "    <tr>\n",
       "      <td>1</td>\n",
       "      <td>test</td>\n",
       "      <td>KNeighborsClassifier</td>\n",
       "      <td>0.785203</td>\n",
       "      <td>0.806846</td>\n",
       "      <td>0.741220</td>\n",
       "      <td>0.770454</td>\n",
       "      <td>0.848949</td>\n",
       "      <td>7.511128</td>\n",
       "    </tr>\n",
       "  </tbody>\n",
       "</table>\n",
       "</div>"
      ],
      "text/plain": [
       "       data                 model  accuracy  precision    recall   f1score  \\\n",
       "0  training  KNeighborsClassifier  0.758907   0.800830  0.725323  0.757512   \n",
       "1      test  KNeighborsClassifier  0.785203   0.806846  0.741220  0.770454   \n",
       "\n",
       "     rocauc   logloss  \n",
       "0  0.848310  4.926762  \n",
       "1  0.848949  7.511128  "
      ]
     },
     "execution_count": 24,
     "metadata": {},
     "output_type": "execute_result"
    }
   ],
   "source": [
    "from sklearn.neighbors import KNeighborsClassifier\n",
    "\n",
    "knn = KNeighborsClassifier()\n",
    "knn.fit(X_train, y_train)\n",
    "\n",
    "y_pred_test = knn.predict(X_test)\n",
    "\n",
    "print(f'Confussion Matrix for test data:\\n{confusion_matrix(y_test, y_pred_test)}')\n",
    "print(f'\\nClassification report for test data:\\n{classification_report(y_test, y_pred_test)}')\n",
    "knn_results = baseline_report(knn, X_train, X_test, y_train, y_test, 'KNeighborsClassifier')\n",
    "knn_results"
   ]
  },
  {
   "cell_type": "markdown",
   "metadata": {
    "ExecuteTime": {
     "end_time": "2020-05-08T10:11:52.358755Z",
     "start_time": "2020-05-08T10:11:52.343131Z"
    }
   },
   "source": [
    "##### Results with default parameters"
   ]
  },
  {
   "cell_type": "code",
   "execution_count": 25,
   "metadata": {
    "ExecuteTime": {
     "end_time": "2020-05-08T16:29:19.670529Z",
     "start_time": "2020-05-08T16:29:19.665957Z"
    }
   },
   "outputs": [
    {
     "name": "stdout",
     "output_type": "stream",
     "text": [
      "KNeighborsClassifier is giving us the F1 score of 0.77 on the test data.\n"
     ]
    }
   ],
   "source": [
    "print(f'{knn_results.iloc[1][\"model\"]} is giving us the F1 score of {round(knn_results.iloc[1][\"f1score\"], 3)} on the test data.')"
   ]
  },
  {
   "cell_type": "markdown",
   "metadata": {},
   "source": [
    "### Hyperparameter Tuning"
   ]
  },
  {
   "cell_type": "markdown",
   "metadata": {},
   "source": [
    "We will be using a GridSearchCV to choose the best parameters for our models. The grid search provided by GridSearchCV exhaustively generates candidates from a grid of parameter values specified with the param_grid parameter. \n",
    "\n",
    "We need to keep in mind that GridSearchCV has a very high computation cost if we want to try a bigger range of parameter values."
   ]
  },
  {
   "cell_type": "markdown",
   "metadata": {},
   "source": [
    "Another thing to mention is that n_jobs is set to -1. By setting n_jobs to -1, we are telling the computer to use all of it’s processors to perform the model."
   ]
  },
  {
   "cell_type": "markdown",
   "metadata": {},
   "source": [
    "##### GridSearchCV"
   ]
  },
  {
   "cell_type": "markdown",
   "metadata": {},
   "source": [
    "Parameters that we will be checking:\n",
    "\n",
    "**n_neighbors**: int, optional (default = 5). Number of neighbors to use by default for kneighbors queries.\n",
    "\n",
    "We will be passing only the odd numbers as the possible values for the n_neighbors parameter. If you choose an even number, in the case of a tie vote, the decision on which class to assign will be done randomly when weights is set to uniform. By choosing an odd number, there are no ties.\n",
    "\n",
    "**weights**: str or callable, optional (default = 'uniform'). Weight function used in prediction. Possible values: \n",
    "\n",
    "'uniform' : uniform weights. All points in each neighborhood are weighted equally. \n",
    "\n",
    "'distance' : weight points by the inverse of their distance. in this case, closer neighbors of a query point will have a greater influence than neighbors which are further away. \n",
    "\n",
    "[callable] : a user-defined function which accepts an array of distances, and returns an array of the same shape containing the weights. \n",
    "\n",
    "**metric**: string or callable, default 'minkowski'. The distance metric to use for the tree. The default metric is minkowski. We will be testing 'euclidean' metric, which distance function is sqrt(sum((x - y)^2)) and 'manhattan' metric, which function is sum(|x - y|).\n",
    "\n",
    "\n"
   ]
  },
  {
   "cell_type": "code",
   "execution_count": 26,
   "metadata": {
    "ExecuteTime": {
     "end_time": "2020-05-08T16:29:29.624090Z",
     "start_time": "2020-05-08T16:29:19.672662Z"
    }
   },
   "outputs": [
    {
     "name": "stdout",
     "output_type": "stream",
     "text": [
      "Fitting 3 folds for each of 32 candidates, totalling 96 fits\n"
     ]
    },
    {
     "name": "stderr",
     "output_type": "stream",
     "text": [
      "[Parallel(n_jobs=-1)]: Using backend LokyBackend with 8 concurrent workers.\n",
      "[Parallel(n_jobs=-1)]: Done  34 tasks      | elapsed:    6.8s\n"
     ]
    },
    {
     "name": "stdout",
     "output_type": "stream",
     "text": [
      "{'metric': 'manhattan', 'n_neighbors': 9, 'weights': 'uniform'}\n"
     ]
    },
    {
     "name": "stderr",
     "output_type": "stream",
     "text": [
      "[Parallel(n_jobs=-1)]: Done  96 out of  96 | elapsed:    9.9s finished\n"
     ]
    }
   ],
   "source": [
    "param_grid = {'n_neighbors': [5,7,9,11,13,15,17,19],\n",
    "              'weights': ['uniform', 'distance'],\n",
    "              'metric' : ['euclidean', 'manhattan']}\n",
    "\n",
    "grid = GridSearchCV(KNeighborsClassifier(), param_grid, verbose=1, cv=3, n_jobs=-1, scoring='f1')                 \n",
    "grid.fit(X_train, y_train)\n",
    "\n",
    "best_params_knn = grid.best_params_\n",
    "print(best_params_knn)"
   ]
  },
  {
   "cell_type": "markdown",
   "metadata": {},
   "source": [
    "We now know the best parameters for our model. The second step is to evaluate our model with the selection of the best parameters and see the impact on the scores."
   ]
  },
  {
   "cell_type": "code",
   "execution_count": 27,
   "metadata": {
    "ExecuteTime": {
     "end_time": "2020-05-08T16:29:35.093072Z",
     "start_time": "2020-05-08T16:29:29.626234Z"
    }
   },
   "outputs": [
    {
     "name": "stdout",
     "output_type": "stream",
     "text": [
      "Confussion Matrix for test data:\n",
      "[[518  55]\n",
      " [128 444]]\n",
      "\n",
      "Classification report for test data:\n",
      "              precision    recall  f1-score   support\n",
      "\n",
      "           0       0.80      0.90      0.85       573\n",
      "           1       0.89      0.78      0.83       572\n",
      "\n",
      "    accuracy                           0.84      1145\n",
      "   macro avg       0.85      0.84      0.84      1145\n",
      "weighted avg       0.85      0.84      0.84      1145\n",
      "\n"
     ]
    },
    {
     "data": {
      "text/html": [
       "<div>\n",
       "<style scoped>\n",
       "    .dataframe tbody tr th:only-of-type {\n",
       "        vertical-align: middle;\n",
       "    }\n",
       "\n",
       "    .dataframe tbody tr th {\n",
       "        vertical-align: top;\n",
       "    }\n",
       "\n",
       "    .dataframe thead th {\n",
       "        text-align: right;\n",
       "    }\n",
       "</style>\n",
       "<table border=\"1\" class=\"dataframe\">\n",
       "  <thead>\n",
       "    <tr style=\"text-align: right;\">\n",
       "      <th></th>\n",
       "      <th>data</th>\n",
       "      <th>model</th>\n",
       "      <th>accuracy</th>\n",
       "      <th>precision</th>\n",
       "      <th>recall</th>\n",
       "      <th>f1score</th>\n",
       "      <th>rocauc</th>\n",
       "      <th>logloss</th>\n",
       "    </tr>\n",
       "  </thead>\n",
       "  <tbody>\n",
       "    <tr>\n",
       "      <td>0</td>\n",
       "      <td>training</td>\n",
       "      <td>KNeighborsClassifier</td>\n",
       "      <td>0.828906</td>\n",
       "      <td>0.89069</td>\n",
       "      <td>0.759699</td>\n",
       "      <td>0.824785</td>\n",
       "      <td>0.922057</td>\n",
       "      <td>4.254333</td>\n",
       "    </tr>\n",
       "    <tr>\n",
       "      <td>1</td>\n",
       "      <td>test</td>\n",
       "      <td>KNeighborsClassifier</td>\n",
       "      <td>0.838429</td>\n",
       "      <td>0.89926</td>\n",
       "      <td>0.760381</td>\n",
       "      <td>0.823494</td>\n",
       "      <td>0.927050</td>\n",
       "      <td>5.520210</td>\n",
       "    </tr>\n",
       "  </tbody>\n",
       "</table>\n",
       "</div>"
      ],
      "text/plain": [
       "       data                 model  accuracy  precision    recall   f1score  \\\n",
       "0  training  KNeighborsClassifier  0.828906    0.89069  0.759699  0.824785   \n",
       "1      test  KNeighborsClassifier  0.838429    0.89926  0.760381  0.823494   \n",
       "\n",
       "     rocauc   logloss  \n",
       "0  0.922057  4.254333  \n",
       "1  0.927050  5.520210  "
      ]
     },
     "execution_count": 27,
     "metadata": {},
     "output_type": "execute_result"
    }
   ],
   "source": [
    "y_pred_test = grid.predict(X_test)\n",
    "\n",
    "print(f'Confussion Matrix for test data:\\n{confusion_matrix(y_test, y_pred_test)}')\n",
    "print(f'\\nClassification report for test data:\\n{classification_report(y_test, y_pred_test)}')\n",
    "knn_results_hyp = baseline_report(grid.best_estimator_, X_train, X_test, y_train, y_test, 'KNeighborsClassifier')\n",
    "knn_results_hyp"
   ]
  },
  {
   "cell_type": "markdown",
   "metadata": {
    "ExecuteTime": {
     "end_time": "2020-05-08T10:11:59.288051Z",
     "start_time": "2020-05-08T10:11:59.285059Z"
    }
   },
   "source": [
    "##### Results after the hyperparameter tuning"
   ]
  },
  {
   "cell_type": "code",
   "execution_count": 28,
   "metadata": {
    "ExecuteTime": {
     "end_time": "2020-05-08T16:29:35.100312Z",
     "start_time": "2020-05-08T16:29:35.094726Z"
    }
   },
   "outputs": [
    {
     "name": "stdout",
     "output_type": "stream",
     "text": [
      "KNeighborsClassifier is giving us the F1 score of 0.823 on the test data.\n",
      "Hyperparameter tuning imporved our score from 0.77 to 0.823\n"
     ]
    }
   ],
   "source": [
    "print(f'{knn_results_hyp.iloc[1][\"model\"]} is giving us the F1 score of {round(knn_results_hyp.iloc[1][\"f1score\"], 3)} on the test data.')\n",
    "\n",
    "if knn_results_hyp.iloc[1][\"f1score\"] > knn_results.iloc[1][\"f1score\"]:\n",
    "    print(f'Hyperparameter tuning improved our score from {round(knn_results.iloc[1][\"f1score\"], 3)} to {round(knn_results_hyp.iloc[1][\"f1score\"], 3)}')\n",
    "else:\n",
    "    print(f'Our score after the hyperparameter tuning changed from {round(knn_results.iloc[1][\"f1score\"], 3)} to {round(knn_results_hyp.iloc[1][\"f1score\"], 3)}')\n",
    "    "
   ]
  },
  {
   "cell_type": "markdown",
   "metadata": {},
   "source": [
    "## Logistic Regression"
   ]
  },
  {
   "cell_type": "markdown",
   "metadata": {
    "ExecuteTime": {
     "end_time": "2020-05-08T09:23:54.157705Z",
     "start_time": "2020-05-08T09:23:54.148684Z"
    }
   },
   "source": [
    "Logistic Regression is a Machine Learning classification algorithm that is used to predict the probability of a categorical dependent variable. In logistic regression, the dependent variable is a binary variable that contains data coded as 1 (yes, success, etc.) or 0 (no, failure, etc.). In other words, the logistic regression model predicts P(Y=1) as a function of X."
   ]
  },
  {
   "cell_type": "code",
   "execution_count": 29,
   "metadata": {
    "ExecuteTime": {
     "end_time": "2020-05-08T16:29:37.184928Z",
     "start_time": "2020-05-08T16:29:35.101919Z"
    }
   },
   "outputs": [
    {
     "name": "stdout",
     "output_type": "stream",
     "text": [
      "Confussion Matrix for test data:\n",
      "[[540  33]\n",
      " [ 37 535]]\n",
      "\n",
      "Classification report for test data:\n",
      "              precision    recall  f1-score   support\n",
      "\n",
      "           0       0.94      0.94      0.94       573\n",
      "           1       0.94      0.94      0.94       572\n",
      "\n",
      "    accuracy                           0.94      1145\n",
      "   macro avg       0.94      0.94      0.94      1145\n",
      "weighted avg       0.94      0.94      0.94      1145\n",
      "\n"
     ]
    },
    {
     "data": {
      "text/html": [
       "<div>\n",
       "<style scoped>\n",
       "    .dataframe tbody tr th:only-of-type {\n",
       "        vertical-align: middle;\n",
       "    }\n",
       "\n",
       "    .dataframe tbody tr th {\n",
       "        vertical-align: top;\n",
       "    }\n",
       "\n",
       "    .dataframe thead th {\n",
       "        text-align: right;\n",
       "    }\n",
       "</style>\n",
       "<table border=\"1\" class=\"dataframe\">\n",
       "  <thead>\n",
       "    <tr style=\"text-align: right;\">\n",
       "      <th></th>\n",
       "      <th>data</th>\n",
       "      <th>model</th>\n",
       "      <th>accuracy</th>\n",
       "      <th>precision</th>\n",
       "      <th>recall</th>\n",
       "      <th>f1score</th>\n",
       "      <th>rocauc</th>\n",
       "      <th>logloss</th>\n",
       "    </tr>\n",
       "  </thead>\n",
       "  <tbody>\n",
       "    <tr>\n",
       "      <td>0</td>\n",
       "      <td>training</td>\n",
       "      <td>LogisticRegression</td>\n",
       "      <td>0.928490</td>\n",
       "      <td>0.946821</td>\n",
       "      <td>0.913173</td>\n",
       "      <td>0.929309</td>\n",
       "      <td>0.981915</td>\n",
       "      <td>2.068981</td>\n",
       "    </tr>\n",
       "    <tr>\n",
       "      <td>1</td>\n",
       "      <td>test</td>\n",
       "      <td>LogisticRegression</td>\n",
       "      <td>0.930073</td>\n",
       "      <td>0.942950</td>\n",
       "      <td>0.910755</td>\n",
       "      <td>0.930994</td>\n",
       "      <td>0.983265</td>\n",
       "      <td>2.111564</td>\n",
       "    </tr>\n",
       "  </tbody>\n",
       "</table>\n",
       "</div>"
      ],
      "text/plain": [
       "       data               model  accuracy  precision    recall   f1score  \\\n",
       "0  training  LogisticRegression  0.928490   0.946821  0.913173  0.929309   \n",
       "1      test  LogisticRegression  0.930073   0.942950  0.910755  0.930994   \n",
       "\n",
       "     rocauc   logloss  \n",
       "0  0.981915  2.068981  \n",
       "1  0.983265  2.111564  "
      ]
     },
     "execution_count": 29,
     "metadata": {},
     "output_type": "execute_result"
    }
   ],
   "source": [
    "from sklearn.linear_model import LogisticRegression\n",
    "\n",
    "logreg = LogisticRegression()\n",
    "logreg.fit(X_train, y_train)\n",
    "\n",
    "y_pred_test = logreg.predict(X_test)\n",
    "\n",
    "print(f'Confussion Matrix for test data:\\n{confusion_matrix(y_test, y_pred_test)}')\n",
    "print(f'\\nClassification report for test data:\\n{classification_report(y_test, y_pred_test)}')\n",
    "logreg_results = baseline_report(logreg, X_train, X_test, y_train, y_test, 'LogisticRegression')\n",
    "logreg_results"
   ]
  },
  {
   "cell_type": "markdown",
   "metadata": {
    "ExecuteTime": {
     "end_time": "2020-05-08T10:11:52.358755Z",
     "start_time": "2020-05-08T10:11:52.343131Z"
    }
   },
   "source": [
    "##### Results with default parameters"
   ]
  },
  {
   "cell_type": "code",
   "execution_count": 30,
   "metadata": {
    "ExecuteTime": {
     "end_time": "2020-05-08T16:29:37.196156Z",
     "start_time": "2020-05-08T16:29:37.188797Z"
    }
   },
   "outputs": [
    {
     "name": "stdout",
     "output_type": "stream",
     "text": [
      "LogisticRegression is giving us the F1 score of 0.931 on the test data.\n",
      "LogisticRegression improves the result from KNeighborsClassifier (score: 0.823)\n"
     ]
    }
   ],
   "source": [
    "results_defaut(logreg_results, knn_results_hyp)"
   ]
  },
  {
   "cell_type": "markdown",
   "metadata": {},
   "source": [
    "### Hyperparameter Tuning"
   ]
  },
  {
   "cell_type": "markdown",
   "metadata": {},
   "source": [
    "##### GridSearchCV"
   ]
  },
  {
   "cell_type": "markdown",
   "metadata": {},
   "source": [
    "Parameters that we will be checking:\n",
    "\n",
    "**C**: float, default=1.0 Inverse of regularization strength. Must be a positive float. Like in support vector machines, smaller values specify stronger regularization.\n",
    "\n",
    "**penalty**: {'l1', 'l2', 'elasticnet', 'none'}, default='l2'. Used to specify the norm used in the penalization. The 'newton-cg', 'sag' and 'lbfgs' solvers support only l2 penalties. 'elasticnet' is only supported by the 'saga' solver. If 'none' (not supported by the liblinear solver), no regularization is applied.\n",
    "\n",
    "**solver**: {'newton-cg', 'lbfgs', 'liblinear', 'sag', 'saga'}, default='lbfgs'. Algorithm to use in the optimization problem. For small datasets, 'liblinear' is a good choice, whereas 'sag' and 'saga' are faster for large ones. For multiclass problems, only 'newton-cg', 'sag', 'saga' and 'lbfgs' handle multinomial loss; 'liblinear' is limited to one-versus-rest schemes.\n",
    "\n",
    "‘newton-cg’, ‘lbfgs’, ‘sag’ and ‘saga’ handle L2 or no penalty\n",
    "\n",
    "‘liblinear’ and ‘saga’ also handle L1 penalty\n",
    "\n",
    "‘saga’ also supports ‘elasticnet’ penalty\n",
    "\n",
    "‘liblinear’ does not support setting penalty='none'\n",
    "\n",
    "**multi_class**: {‘auto’, ‘ovr’, ‘multinomial’}, default=’auto’. If the option chosen is ‘ovr’, then a binary problem is fit for each label. For ‘multinomial’ the loss minimised is the multinomial loss fit across the entire probability distribution, even when the data is binary. ‘multinomial’ is unavailable when solver=’liblinear’. ‘auto’ selects ‘ovr’ if the data is binary, or if solver=’liblinear’, and otherwise selects ‘multinomial’."
   ]
  },
  {
   "cell_type": "code",
   "execution_count": 31,
   "metadata": {
    "ExecuteTime": {
     "end_time": "2020-05-08T16:29:47.519300Z",
     "start_time": "2020-05-08T16:29:37.198949Z"
    }
   },
   "outputs": [
    {
     "name": "stdout",
     "output_type": "stream",
     "text": [
      "Fitting 3 folds for each of 84 candidates, totalling 252 fits\n"
     ]
    },
    {
     "name": "stderr",
     "output_type": "stream",
     "text": [
      "[Parallel(n_jobs=-1)]: Using backend LokyBackend with 8 concurrent workers.\n"
     ]
    },
    {
     "name": "stdout",
     "output_type": "stream",
     "text": [
      "{'C': 0.1, 'multi_class': 'ovr', 'penalty': 'l1', 'solver': 'liblinear'}\n"
     ]
    },
    {
     "name": "stderr",
     "output_type": "stream",
     "text": [
      "[Parallel(n_jobs=-1)]: Done 252 out of 252 | elapsed:   10.3s finished\n"
     ]
    }
   ],
   "source": [
    "c_values = list(10.0**np.arange(-3, 3))\n",
    "\n",
    "param_grid = [{'C': c_values,\n",
    "              'penalty': ['l2'],\n",
    "              'solver' : ['liblinear', 'newton-cg', 'lbfgs', 'sag', 'saga'],\n",
    "              'multi_class': ['ovr', 'warn']},\n",
    "              {'C': c_values,\n",
    "              'penalty': ['l1'],\n",
    "              'solver' : ['liblinear', 'saga'],\n",
    "              'multi_class': ['ovr', 'warn']}]\n",
    "\n",
    "grid = GridSearchCV(LogisticRegression(), param_grid, verbose=1, cv=3, n_jobs=-1, scoring='f1')                 \n",
    "grid.fit(X_train, y_train)\n",
    "\n",
    "best_params_logreg = grid.best_params_\n",
    "print(best_params_logreg)"
   ]
  },
  {
   "cell_type": "markdown",
   "metadata": {},
   "source": [
    "We now know the best parameters for our model. The second step is to evaluate our model with the selection of the best parameters and see the impact on the scores."
   ]
  },
  {
   "cell_type": "code",
   "execution_count": 32,
   "metadata": {
    "ExecuteTime": {
     "end_time": "2020-05-08T16:29:48.444766Z",
     "start_time": "2020-05-08T16:29:47.520980Z"
    }
   },
   "outputs": [
    {
     "name": "stdout",
     "output_type": "stream",
     "text": [
      "Confussion Matrix for test data:\n",
      "[[549  24]\n",
      " [ 40 532]]\n",
      "\n",
      "Classification report for test data:\n",
      "              precision    recall  f1-score   support\n",
      "\n",
      "           0       0.93      0.96      0.94       573\n",
      "           1       0.96      0.93      0.94       572\n",
      "\n",
      "    accuracy                           0.94      1145\n",
      "   macro avg       0.94      0.94      0.94      1145\n",
      "weighted avg       0.94      0.94      0.94      1145\n",
      "\n"
     ]
    },
    {
     "data": {
      "text/html": [
       "<div>\n",
       "<style scoped>\n",
       "    .dataframe tbody tr th:only-of-type {\n",
       "        vertical-align: middle;\n",
       "    }\n",
       "\n",
       "    .dataframe tbody tr th {\n",
       "        vertical-align: top;\n",
       "    }\n",
       "\n",
       "    .dataframe thead th {\n",
       "        text-align: right;\n",
       "    }\n",
       "</style>\n",
       "<table border=\"1\" class=\"dataframe\">\n",
       "  <thead>\n",
       "    <tr style=\"text-align: right;\">\n",
       "      <th></th>\n",
       "      <th>data</th>\n",
       "      <th>model</th>\n",
       "      <th>accuracy</th>\n",
       "      <th>precision</th>\n",
       "      <th>recall</th>\n",
       "      <th>f1score</th>\n",
       "      <th>rocauc</th>\n",
       "      <th>logloss</th>\n",
       "    </tr>\n",
       "  </thead>\n",
       "  <tbody>\n",
       "    <tr>\n",
       "      <td>0</td>\n",
       "      <td>training</td>\n",
       "      <td>LogisticRegression</td>\n",
       "      <td>0.931114</td>\n",
       "      <td>0.952685</td>\n",
       "      <td>0.909444</td>\n",
       "      <td>0.928494</td>\n",
       "      <td>0.981526</td>\n",
       "      <td>2.146566</td>\n",
       "    </tr>\n",
       "    <tr>\n",
       "      <td>1</td>\n",
       "      <td>test</td>\n",
       "      <td>LogisticRegression</td>\n",
       "      <td>0.932800</td>\n",
       "      <td>0.949078</td>\n",
       "      <td>0.905614</td>\n",
       "      <td>0.932507</td>\n",
       "      <td>0.985545</td>\n",
       "      <td>1.930568</td>\n",
       "    </tr>\n",
       "  </tbody>\n",
       "</table>\n",
       "</div>"
      ],
      "text/plain": [
       "       data               model  accuracy  precision    recall   f1score  \\\n",
       "0  training  LogisticRegression  0.931114   0.952685  0.909444  0.928494   \n",
       "1      test  LogisticRegression  0.932800   0.949078  0.905614  0.932507   \n",
       "\n",
       "     rocauc   logloss  \n",
       "0  0.981526  2.146566  \n",
       "1  0.985545  1.930568  "
      ]
     },
     "execution_count": 32,
     "metadata": {},
     "output_type": "execute_result"
    }
   ],
   "source": [
    "y_pred_test = grid.predict(X_test)\n",
    "\n",
    "print(f'Confussion Matrix for test data:\\n{confusion_matrix(y_test, y_pred_test)}')\n",
    "print(f'\\nClassification report for test data:\\n{classification_report(y_test, y_pred_test)}')\n",
    "logreg_results_hyp = baseline_report(grid.best_estimator_, X_train, X_test, y_train, y_test, 'LogisticRegression')\n",
    "logreg_results_hyp"
   ]
  },
  {
   "cell_type": "markdown",
   "metadata": {
    "ExecuteTime": {
     "end_time": "2020-05-08T10:11:59.288051Z",
     "start_time": "2020-05-08T10:11:59.285059Z"
    }
   },
   "source": [
    "##### Results after the hyperparameter tuning"
   ]
  },
  {
   "cell_type": "code",
   "execution_count": 33,
   "metadata": {
    "ExecuteTime": {
     "end_time": "2020-05-08T16:29:48.455846Z",
     "start_time": "2020-05-08T16:29:48.447127Z"
    }
   },
   "outputs": [
    {
     "name": "stdout",
     "output_type": "stream",
     "text": [
      "LogisticRegression is giving us the F1 score of 0.933 on the test data.\n",
      "Hyperparameter tuning imporved our score from 0.931 to 0.933\n",
      "LogisticRegression improves the result from KNeighborsClassifier (score: 0.823)\n"
     ]
    }
   ],
   "source": [
    "results_after_hyp(logreg_results_hyp, logreg_results, knn_results_hyp)"
   ]
  },
  {
   "cell_type": "markdown",
   "metadata": {},
   "source": [
    "## Decision Tree"
   ]
  },
  {
   "cell_type": "markdown",
   "metadata": {},
   "source": [
    "Decision trees learn how to best split the dataset into smaller and smaller subsets to predict the target value. The condition, or test, is represented as the 'leaf' (node) and the possible outcomes as 'branches' (edges). This splitting process continues until no further gain can be made or a preset rule is met, e.g. the maximum depth of the tree is reached."
   ]
  },
  {
   "cell_type": "code",
   "execution_count": 34,
   "metadata": {
    "ExecuteTime": {
     "end_time": "2020-05-08T16:29:49.016176Z",
     "start_time": "2020-05-08T16:29:48.459980Z"
    }
   },
   "outputs": [
    {
     "name": "stdout",
     "output_type": "stream",
     "text": [
      "Confussion Matrix for test data:\n",
      "[[519  54]\n",
      " [ 42 530]]\n",
      "\n",
      "Classification report for test data:\n",
      "              precision    recall  f1-score   support\n",
      "\n",
      "           0       0.93      0.91      0.92       573\n",
      "           1       0.91      0.93      0.92       572\n",
      "\n",
      "    accuracy                           0.92      1145\n",
      "   macro avg       0.92      0.92      0.92      1145\n",
      "weighted avg       0.92      0.92      0.92      1145\n",
      "\n"
     ]
    },
    {
     "data": {
      "text/html": [
       "<div>\n",
       "<style scoped>\n",
       "    .dataframe tbody tr th:only-of-type {\n",
       "        vertical-align: middle;\n",
       "    }\n",
       "\n",
       "    .dataframe tbody tr th {\n",
       "        vertical-align: top;\n",
       "    }\n",
       "\n",
       "    .dataframe thead th {\n",
       "        text-align: right;\n",
       "    }\n",
       "</style>\n",
       "<table border=\"1\" class=\"dataframe\">\n",
       "  <thead>\n",
       "    <tr style=\"text-align: right;\">\n",
       "      <th></th>\n",
       "      <th>data</th>\n",
       "      <th>model</th>\n",
       "      <th>accuracy</th>\n",
       "      <th>precision</th>\n",
       "      <th>recall</th>\n",
       "      <th>f1score</th>\n",
       "      <th>rocauc</th>\n",
       "      <th>logloss</th>\n",
       "    </tr>\n",
       "  </thead>\n",
       "  <tbody>\n",
       "    <tr>\n",
       "      <td>0</td>\n",
       "      <td>training</td>\n",
       "      <td>DecisionTreeClassifier</td>\n",
       "      <td>0.918008</td>\n",
       "      <td>0.911522</td>\n",
       "      <td>0.918411</td>\n",
       "      <td>0.913392</td>\n",
       "      <td>0.920996</td>\n",
       "      <td>9.992007e-16</td>\n",
       "    </tr>\n",
       "    <tr>\n",
       "      <td>1</td>\n",
       "      <td>test</td>\n",
       "      <td>DecisionTreeClassifier</td>\n",
       "      <td>0.913559</td>\n",
       "      <td>0.910023</td>\n",
       "      <td>0.905568</td>\n",
       "      <td>0.899173</td>\n",
       "      <td>0.899519</td>\n",
       "      <td>3.167356e+00</td>\n",
       "    </tr>\n",
       "  </tbody>\n",
       "</table>\n",
       "</div>"
      ],
      "text/plain": [
       "       data                   model  accuracy  precision    recall   f1score  \\\n",
       "0  training  DecisionTreeClassifier  0.918008   0.911522  0.918411  0.913392   \n",
       "1      test  DecisionTreeClassifier  0.913559   0.910023  0.905568  0.899173   \n",
       "\n",
       "     rocauc       logloss  \n",
       "0  0.920996  9.992007e-16  \n",
       "1  0.899519  3.167356e+00  "
      ]
     },
     "execution_count": 34,
     "metadata": {},
     "output_type": "execute_result"
    }
   ],
   "source": [
    "from sklearn.tree import DecisionTreeClassifier\n",
    "\n",
    "dectree = DecisionTreeClassifier()\n",
    "dectree.fit(X_train, y_train)\n",
    "\n",
    "y_pred_test = dectree.predict(X_test)\n",
    "\n",
    "print(f'Confussion Matrix for test data:\\n{confusion_matrix(y_test, y_pred_test)}')\n",
    "print(f'\\nClassification report for test data:\\n{classification_report(y_test, y_pred_test)}')\n",
    "dectree_results = baseline_report(dectree, X_train, X_test, y_train, y_test, 'DecisionTreeClassifier')\n",
    "dectree_results"
   ]
  },
  {
   "cell_type": "markdown",
   "metadata": {
    "ExecuteTime": {
     "end_time": "2020-05-08T10:11:52.358755Z",
     "start_time": "2020-05-08T10:11:52.343131Z"
    }
   },
   "source": [
    "##### Results with default parameters"
   ]
  },
  {
   "cell_type": "code",
   "execution_count": 35,
   "metadata": {
    "ExecuteTime": {
     "end_time": "2020-05-08T16:29:49.022901Z",
     "start_time": "2020-05-08T16:29:49.017694Z"
    }
   },
   "outputs": [
    {
     "name": "stdout",
     "output_type": "stream",
     "text": [
      "DecisionTreeClassifier is giving us the F1 score of 0.899 on the test data.\n",
      "DecisionTreeClassifier does not imporve the score from LogisticRegression (score: 0.933\n"
     ]
    }
   ],
   "source": [
    "results_defaut(dectree_results, logreg_results_hyp)"
   ]
  },
  {
   "cell_type": "markdown",
   "metadata": {},
   "source": [
    "### Feature importance"
   ]
  },
  {
   "cell_type": "markdown",
   "metadata": {},
   "source": [
    "We're will be using a defined function to visualize the most important features from the Decision Tree model:"
   ]
  },
  {
   "cell_type": "code",
   "execution_count": 36,
   "metadata": {
    "ExecuteTime": {
     "end_time": "2020-05-08T16:29:50.260166Z",
     "start_time": "2020-05-08T16:29:49.025498Z"
    }
   },
   "outputs": [
    {
     "data": {
      "image/png": "[encoded data removed]",
      "text/plain": [
       "<Figure size 1080x1080 with 1 Axes>"
      ]
     },
     "metadata": {
      "needs_background": "light"
     },
     "output_type": "display_data"
    }
   ],
   "source": [
    "plot_feature_importances(dectree, df_encoded)\n",
    "plt.savefig('feature_importance_dectree')"
   ]
  },
  {
   "cell_type": "markdown",
   "metadata": {
    "ExecuteTime": {
     "end_time": "2020-05-08T10:12:07.977323Z",
     "start_time": "2020-05-08T10:12:07.973283Z"
    }
   },
   "source": [
    "We can see that the most important feature is SpecialDay, other 4 features that highly impact the performance of the model are: Administrative_Duration, ProductRelated_Duration, ExitRates and Visitor_isReturing. After these 5 features we can see that the impact drops more significantly. \n",
    "\n",
    "The good practice is to remove the insignificant variables and run the model again, to avoid the overfitting. "
   ]
  },
  {
   "cell_type": "markdown",
   "metadata": {},
   "source": [
    "### Hyperparameter Tuning"
   ]
  },
  {
   "cell_type": "markdown",
   "metadata": {},
   "source": [
    "##### GridSearchCV"
   ]
  },
  {
   "cell_type": "markdown",
   "metadata": {},
   "source": [
    "Parameters that we will be checking:\n",
    "\n",
    "**criterion**: optional (default=”gini”) or Choose attribute selection measure: This parameter allows us to use the different attribute selection measure. Supported criteria are “gini” for the Gini index and “entropy” for the information gain.\n",
    "\n",
    "**splitter**: string, optional (default=”best”) or Split Strategy: This parameter allows us to choose the split strategy. Supported strategies are “best” to choose the best split and “random” to choose the best random split.\n",
    "\n",
    "**max_depth**: int or None, optional (default=None) or Maximum Depth of a Tree: The maximum depth of the tree. If None, then nodes are expanded until all the leaves contain less than min_samples_split samples. The higher value of maximum depth causes overfitting, and a lower value causes underfitting"
   ]
  },
  {
   "cell_type": "code",
   "execution_count": 37,
   "metadata": {
    "ExecuteTime": {
     "end_time": "2020-05-08T16:29:50.593117Z",
     "start_time": "2020-05-08T16:29:50.262105Z"
    }
   },
   "outputs": [
    {
     "name": "stdout",
     "output_type": "stream",
     "text": [
      "Fitting 3 folds for each of 32 candidates, totalling 96 fits\n"
     ]
    },
    {
     "name": "stderr",
     "output_type": "stream",
     "text": [
      "[Parallel(n_jobs=-1)]: Using backend LokyBackend with 8 concurrent workers.\n"
     ]
    },
    {
     "name": "stdout",
     "output_type": "stream",
     "text": [
      "{'criterion': 'entropy', 'max_depth': 6, 'splitter': 'best'}\n"
     ]
    },
    {
     "name": "stderr",
     "output_type": "stream",
     "text": [
      "[Parallel(n_jobs=-1)]: Done  96 out of  96 | elapsed:    0.3s finished\n"
     ]
    }
   ],
   "source": [
    "depth = list(np.arange(2, 10))\n",
    "\n",
    "param_grid = {'criterion': ['gini', 'entropy'],\n",
    "              'splitter': ['best', 'random'],\n",
    "              'max_depth' : depth}\n",
    "\n",
    "grid = GridSearchCV(DecisionTreeClassifier(), param_grid, verbose=1, cv=3, n_jobs=-1, scoring='f1')                 \n",
    "grid.fit(X_train, y_train)  \n",
    "\n",
    "best_params_dectree = grid.best_params_\n",
    "print(best_params_dectree)"
   ]
  },
  {
   "cell_type": "markdown",
   "metadata": {},
   "source": [
    "We now know the best parameters for our model. The second step is to evaluate our model with the selection of the best parameters and see the impact on the scores."
   ]
  },
  {
   "cell_type": "code",
   "execution_count": 38,
   "metadata": {
    "ExecuteTime": {
     "end_time": "2020-05-08T16:29:51.029998Z",
     "start_time": "2020-05-08T16:29:50.594848Z"
    }
   },
   "outputs": [
    {
     "name": "stdout",
     "output_type": "stream",
     "text": [
      "Confussion Matrix for test data:\n",
      "[[536  37]\n",
      " [ 32 540]]\n",
      "\n",
      "Classification report for test data:\n",
      "              precision    recall  f1-score   support\n",
      "\n",
      "           0       0.94      0.94      0.94       573\n",
      "           1       0.94      0.94      0.94       572\n",
      "\n",
      "    accuracy                           0.94      1145\n",
      "   macro avg       0.94      0.94      0.94      1145\n",
      "weighted avg       0.94      0.94      0.94      1145\n",
      "\n"
     ]
    },
    {
     "data": {
      "text/html": [
       "<div>\n",
       "<style scoped>\n",
       "    .dataframe tbody tr th:only-of-type {\n",
       "        vertical-align: middle;\n",
       "    }\n",
       "\n",
       "    .dataframe tbody tr th {\n",
       "        vertical-align: top;\n",
       "    }\n",
       "\n",
       "    .dataframe thead th {\n",
       "        text-align: right;\n",
       "    }\n",
       "</style>\n",
       "<table border=\"1\" class=\"dataframe\">\n",
       "  <thead>\n",
       "    <tr style=\"text-align: right;\">\n",
       "      <th></th>\n",
       "      <th>data</th>\n",
       "      <th>model</th>\n",
       "      <th>accuracy</th>\n",
       "      <th>precision</th>\n",
       "      <th>recall</th>\n",
       "      <th>f1score</th>\n",
       "      <th>rocauc</th>\n",
       "      <th>logloss</th>\n",
       "    </tr>\n",
       "  </thead>\n",
       "  <tbody>\n",
       "    <tr>\n",
       "      <td>0</td>\n",
       "      <td>training</td>\n",
       "      <td>DecisionTreeClassifier</td>\n",
       "      <td>0.912385</td>\n",
       "      <td>0.946875</td>\n",
       "      <td>0.907938</td>\n",
       "      <td>0.921866</td>\n",
       "      <td>0.968371</td>\n",
       "      <td>1.693978</td>\n",
       "    </tr>\n",
       "    <tr>\n",
       "      <td>1</td>\n",
       "      <td>test</td>\n",
       "      <td>DecisionTreeClassifier</td>\n",
       "      <td>0.924871</td>\n",
       "      <td>0.937182</td>\n",
       "      <td>0.916064</td>\n",
       "      <td>0.922531</td>\n",
       "      <td>0.953350</td>\n",
       "      <td>2.202064</td>\n",
       "    </tr>\n",
       "  </tbody>\n",
       "</table>\n",
       "</div>"
      ],
      "text/plain": [
       "       data                   model  accuracy  precision    recall   f1score  \\\n",
       "0  training  DecisionTreeClassifier  0.912385   0.946875  0.907938  0.921866   \n",
       "1      test  DecisionTreeClassifier  0.924871   0.937182  0.916064  0.922531   \n",
       "\n",
       "     rocauc   logloss  \n",
       "0  0.968371  1.693978  \n",
       "1  0.953350  2.202064  "
      ]
     },
     "execution_count": 38,
     "metadata": {},
     "output_type": "execute_result"
    }
   ],
   "source": [
    "y_pred_test = grid.predict(X_test)\n",
    "\n",
    "print(f'Confussion Matrix for test data:\\n{confusion_matrix(y_test, y_pred_test)}')\n",
    "print(f'\\nClassification report for test data:\\n{classification_report(y_test, y_pred_test)}')\n",
    "dectree_results_hyp = baseline_report(grid.best_estimator_, X_train, X_test, y_train, y_test, 'DecisionTreeClassifier')\n",
    "dectree_results_hyp"
   ]
  },
  {
   "cell_type": "markdown",
   "metadata": {
    "ExecuteTime": {
     "end_time": "2020-05-08T10:11:59.288051Z",
     "start_time": "2020-05-08T10:11:59.285059Z"
    }
   },
   "source": [
    "##### Results after the hyperparameter tuning"
   ]
  },
  {
   "cell_type": "code",
   "execution_count": 39,
   "metadata": {
    "ExecuteTime": {
     "end_time": "2020-05-08T16:29:51.037709Z",
     "start_time": "2020-05-08T16:29:51.031936Z"
    }
   },
   "outputs": [
    {
     "name": "stdout",
     "output_type": "stream",
     "text": [
      "DecisionTreeClassifier is giving us the F1 score of 0.923 on the test data.\n",
      "Hyperparameter tuning imporved our score from 0.899 to 0.923\n",
      "DecisionTreeClassifier does not imporve the score from LogisticRegression (score: 0.933)\n"
     ]
    }
   ],
   "source": [
    "results_after_hyp(dectree_results_hyp, dectree_results, logreg_results_hyp)"
   ]
  },
  {
   "cell_type": "markdown",
   "metadata": {},
   "source": [
    "## Random Forest"
   ]
  },
  {
   "cell_type": "markdown",
   "metadata": {},
   "source": [
    "Random forests construct many individual decision trees at training. Predictions from all trees are pooled to make the final prediction, the mode of the classes for classification or the mean prediction for regression. As they use a collection of results to make a final decision, they are referred to as Ensemble techniques."
   ]
  },
  {
   "cell_type": "code",
   "execution_count": 40,
   "metadata": {
    "ExecuteTime": {
     "end_time": "2020-05-08T16:29:52.404404Z",
     "start_time": "2020-05-08T16:29:51.039342Z"
    }
   },
   "outputs": [
    {
     "name": "stdout",
     "output_type": "stream",
     "text": [
      "Confussion Matrix for test data:\n",
      "[[535  38]\n",
      " [ 44 528]]\n",
      "\n",
      "Classification report for test data:\n",
      "              precision    recall  f1-score   support\n",
      "\n",
      "           0       0.92      0.93      0.93       573\n",
      "           1       0.93      0.92      0.93       572\n",
      "\n",
      "    accuracy                           0.93      1145\n",
      "   macro avg       0.93      0.93      0.93      1145\n",
      "weighted avg       0.93      0.93      0.93      1145\n",
      "\n"
     ]
    },
    {
     "data": {
      "text/html": [
       "<div>\n",
       "<style scoped>\n",
       "    .dataframe tbody tr th:only-of-type {\n",
       "        vertical-align: middle;\n",
       "    }\n",
       "\n",
       "    .dataframe tbody tr th {\n",
       "        vertical-align: top;\n",
       "    }\n",
       "\n",
       "    .dataframe thead th {\n",
       "        text-align: right;\n",
       "    }\n",
       "</style>\n",
       "<table border=\"1\" class=\"dataframe\">\n",
       "  <thead>\n",
       "    <tr style=\"text-align: right;\">\n",
       "      <th></th>\n",
       "      <th>data</th>\n",
       "      <th>model</th>\n",
       "      <th>accuracy</th>\n",
       "      <th>precision</th>\n",
       "      <th>recall</th>\n",
       "      <th>f1score</th>\n",
       "      <th>rocauc</th>\n",
       "      <th>logloss</th>\n",
       "    </tr>\n",
       "  </thead>\n",
       "  <tbody>\n",
       "    <tr>\n",
       "      <td>0</td>\n",
       "      <td>training</td>\n",
       "      <td>RandomForestClassifier</td>\n",
       "      <td>0.931864</td>\n",
       "      <td>0.950582</td>\n",
       "      <td>0.910177</td>\n",
       "      <td>0.928689</td>\n",
       "      <td>0.980401</td>\n",
       "      <td>0.181035</td>\n",
       "    </tr>\n",
       "    <tr>\n",
       "      <td>1</td>\n",
       "      <td>test</td>\n",
       "      <td>RandomForestClassifier</td>\n",
       "      <td>0.930168</td>\n",
       "      <td>0.956099</td>\n",
       "      <td>0.912616</td>\n",
       "      <td>0.932128</td>\n",
       "      <td>0.980173</td>\n",
       "      <td>2.262388</td>\n",
       "    </tr>\n",
       "  </tbody>\n",
       "</table>\n",
       "</div>"
      ],
      "text/plain": [
       "       data                   model  accuracy  precision    recall   f1score  \\\n",
       "0  training  RandomForestClassifier  0.931864   0.950582  0.910177  0.928689   \n",
       "1      test  RandomForestClassifier  0.930168   0.956099  0.912616  0.932128   \n",
       "\n",
       "     rocauc   logloss  \n",
       "0  0.980401  0.181035  \n",
       "1  0.980173  2.262388  "
      ]
     },
     "execution_count": 40,
     "metadata": {},
     "output_type": "execute_result"
    }
   ],
   "source": [
    "from sklearn.ensemble import RandomForestClassifier\n",
    "\n",
    "rfor = RandomForestClassifier()\n",
    "rfor.fit(X_train, y_train)\n",
    "\n",
    "y_pred_test = rfor.predict(X_test)\n",
    "\n",
    "print(f'Confussion Matrix for test data:\\n{confusion_matrix(y_test, y_pred_test)}')\n",
    "print(f'\\nClassification report for test data:\\n{classification_report(y_test, y_pred_test)}')\n",
    "rfor_results = baseline_report(rfor, X_train, X_test, y_train, y_test, 'RandomForestClassifier')\n",
    "rfor_results"
   ]
  },
  {
   "cell_type": "markdown",
   "metadata": {
    "ExecuteTime": {
     "end_time": "2020-05-08T10:11:52.358755Z",
     "start_time": "2020-05-08T10:11:52.343131Z"
    }
   },
   "source": [
    "##### Results with default parameters"
   ]
  },
  {
   "cell_type": "code",
   "execution_count": 41,
   "metadata": {
    "ExecuteTime": {
     "end_time": "2020-05-08T16:29:52.414486Z",
     "start_time": "2020-05-08T16:29:52.406234Z"
    }
   },
   "outputs": [
    {
     "name": "stdout",
     "output_type": "stream",
     "text": [
      "RandomForestClassifier is giving us the F1 score of 0.932 on the test data.\n",
      "RandomForestClassifier improves the result from DecisionTreeClassifier (score: 0.923)\n"
     ]
    }
   ],
   "source": [
    "results_defaut(rfor_results, dectree_results_hyp)"
   ]
  },
  {
   "cell_type": "markdown",
   "metadata": {},
   "source": [
    "### Feature importance"
   ]
  },
  {
   "cell_type": "markdown",
   "metadata": {},
   "source": [
    "Feature importance is calculated as the decrease in node impurity weighted by the probability of reaching that node. The node probability can be calculated by the number of samples that reach the node, divided by the total number of samples. The higher the value the more important the feature."
   ]
  },
  {
   "cell_type": "code",
   "execution_count": 71,
   "metadata": {
    "ExecuteTime": {
     "end_time": "2020-05-08T16:47:23.317096Z",
     "start_time": "2020-05-08T16:47:22.067485Z"
    }
   },
   "outputs": [
    {
     "data": {
      "text/plain": [
       "False"
      ]
     },
     "execution_count": 71,
     "metadata": {},
     "output_type": "execute_result"
    },
    {
     "data": {
      "image/png": "[encoded data removed]",
      "text/plain": [
       "<Figure size 1080x1080 with 1 Axes>"
      ]
     },
     "metadata": {
      "needs_background": "light"
     },
     "output_type": "display_data"
    }
   ],
   "source": [
    "plot_feature_importances(rfor, df_encoded)\n",
    "plt.savefig('feature_importance_rfor')\n",
    "\n",
    "\n",
    "# feature = rfor.feature_importances_ < 0.05\n",
    "\n",
    "# df_encoded.loc[:, feature]\n",
    "\n",
    "# len(feature) == len(X)"
   ]
  },
  {
   "cell_type": "markdown",
   "metadata": {},
   "source": [
    "We can see a slight difference in the feature selection from the features selected with Decision Tree. Here the importance of the SpecialDay is a lot lower. \n",
    "\n",
    "The randomness in building the random forest forces the algorithm to consider many possible explanations, the result being that the random forest captures a much broader picture of the data than a single tree.\n",
    "\n",
    "The most important feature from the Random Forest is ProductRelated_Duration. Other 8 important features are: ProductRelated, SpecialDay, ExitRates, Administrative, Administrative_Duration, Bouncerates, InformationalDuration and Visitor_isReturning. \n",
    "\n",
    "We can choose to have a split of the features using the elbow principle or using the random feature. The logic behind the random feature is that: if the feature is less important than the random feature (with random values), it could be safely removed from the selection."
   ]
  },
  {
   "cell_type": "markdown",
   "metadata": {},
   "source": [
    "### Hyperparameter Tuning"
   ]
  },
  {
   "cell_type": "markdown",
   "metadata": {},
   "source": [
    "##### GridSearchCV"
   ]
  },
  {
   "cell_type": "markdown",
   "metadata": {},
   "source": [
    "Parameters that we will be checking:\n",
    "\n",
    "**n_estimators**: integer, optional (default=100). The number of trees in the forest. The default value of n_estimators changed from 10 to 100 in version 0.22.\n",
    "\n",
    "**max_features**: int, float, string or None, optional (default=”auto”). The number of features to consider when looking for the best split:\n",
    "\n",
    "If int, then consider max_features features at each split.\n",
    "\n",
    "If float, then max_features is a fraction and int(max_features * n_features) features are considered at each split.\n",
    "\n",
    "If “auto”, then max_features=sqrt(n_features).\n",
    "\n",
    "If “sqrt”, then max_features=sqrt(n_features) (same as “auto”).\n",
    "\n",
    "If “log2”, then max_features=log2(n_features).\n",
    "\n",
    "If None, then max_features=n_features.\n",
    "\n",
    "Note: the search for a split does not stop until at least one valid partition of the node samples is found, even if it requires to effectively inspect more than max_features features.\n",
    "\n",
    "**max_depth**: integer or None, optional (default=None). The maximum depth of the tree. If None, then nodes are expanded until all leaves are pure or until all leaves contain less than min_samples_split samples.\n",
    "\n",
    "**criterion**: string, optional (default=”gini”). The function to measure the quality of a split. Supported criteria are “gini” for the Gini impurity and “entropy” for the information gain. Note: this parameter is tree-specific."
   ]
  },
  {
   "cell_type": "code",
   "execution_count": 43,
   "metadata": {
    "ExecuteTime": {
     "end_time": "2020-05-08T16:30:54.539429Z",
     "start_time": "2020-05-08T16:29:53.647050Z"
    }
   },
   "outputs": [
    {
     "name": "stdout",
     "output_type": "stream",
     "text": [
      "Fitting 3 folds for each of 60 candidates, totalling 180 fits\n"
     ]
    },
    {
     "name": "stderr",
     "output_type": "stream",
     "text": [
      "[Parallel(n_jobs=-1)]: Using backend LokyBackend with 8 concurrent workers.\n",
      "[Parallel(n_jobs=-1)]: Done  34 tasks      | elapsed:   11.3s\n",
      "[Parallel(n_jobs=-1)]: Done 180 out of 180 | elapsed:   59.3s finished\n"
     ]
    },
    {
     "name": "stdout",
     "output_type": "stream",
     "text": [
      "{'criterion': 'gini', 'max_depth': 8, 'max_features': 'auto', 'n_estimators': 500}\n"
     ]
    }
   ],
   "source": [
    "param_grid = {'n_estimators': [200, 500],\n",
    "              'max_features': ['auto', 'sqrt', 'log2'],\n",
    "              'max_depth' : [4,5,6,7,8],\n",
    "              'criterion' :['gini', 'entropy']}\n",
    "\n",
    "grid = GridSearchCV(RandomForestClassifier(), param_grid, verbose=1, cv=3, n_jobs=-1, scoring='f1')                 \n",
    "grid.fit(X_train, y_train)  \n",
    "\n",
    "best_params_rfor = grid.best_params_\n",
    "print(best_params_rfor)"
   ]
  },
  {
   "cell_type": "markdown",
   "metadata": {},
   "source": [
    "We now know the best parameters for our model. The second step is to evaluate our model with the selection of the best parameters and see the impact on the scores."
   ]
  },
  {
   "cell_type": "code",
   "execution_count": 44,
   "metadata": {
    "ExecuteTime": {
     "end_time": "2020-05-08T16:31:57.212547Z",
     "start_time": "2020-05-08T16:30:54.541762Z"
    }
   },
   "outputs": [
    {
     "name": "stdout",
     "output_type": "stream",
     "text": [
      "Confussion Matrix for test data:\n",
      "[[543  30]\n",
      " [ 39 533]]\n",
      "\n",
      "Classification report for test data:\n",
      "              precision    recall  f1-score   support\n",
      "\n",
      "           0       0.93      0.95      0.94       573\n",
      "           1       0.95      0.93      0.94       572\n",
      "\n",
      "    accuracy                           0.94      1145\n",
      "   macro avg       0.94      0.94      0.94      1145\n",
      "weighted avg       0.94      0.94      0.94      1145\n",
      "\n"
     ]
    },
    {
     "data": {
      "text/html": [
       "<div>\n",
       "<style scoped>\n",
       "    .dataframe tbody tr th:only-of-type {\n",
       "        vertical-align: middle;\n",
       "    }\n",
       "\n",
       "    .dataframe tbody tr th {\n",
       "        vertical-align: top;\n",
       "    }\n",
       "\n",
       "    .dataframe thead th {\n",
       "        text-align: right;\n",
       "    }\n",
       "</style>\n",
       "<table border=\"1\" class=\"dataframe\">\n",
       "  <thead>\n",
       "    <tr style=\"text-align: right;\">\n",
       "      <th></th>\n",
       "      <th>data</th>\n",
       "      <th>model</th>\n",
       "      <th>accuracy</th>\n",
       "      <th>precision</th>\n",
       "      <th>recall</th>\n",
       "      <th>f1score</th>\n",
       "      <th>rocauc</th>\n",
       "      <th>logloss</th>\n",
       "    </tr>\n",
       "  </thead>\n",
       "  <tbody>\n",
       "    <tr>\n",
       "      <td>0</td>\n",
       "      <td>training</td>\n",
       "      <td>RandomForestClassifier</td>\n",
       "      <td>0.934105</td>\n",
       "      <td>0.950037</td>\n",
       "      <td>0.921387</td>\n",
       "      <td>0.933729</td>\n",
       "      <td>0.986104</td>\n",
       "      <td>1.396558</td>\n",
       "    </tr>\n",
       "    <tr>\n",
       "      <td>1</td>\n",
       "      <td>test</td>\n",
       "      <td>RandomForestClassifier</td>\n",
       "      <td>0.934516</td>\n",
       "      <td>0.953480</td>\n",
       "      <td>0.926606</td>\n",
       "      <td>0.940627</td>\n",
       "      <td>0.987537</td>\n",
       "      <td>2.021065</td>\n",
       "    </tr>\n",
       "  </tbody>\n",
       "</table>\n",
       "</div>"
      ],
      "text/plain": [
       "       data                   model  accuracy  precision    recall   f1score  \\\n",
       "0  training  RandomForestClassifier  0.934105   0.950037  0.921387  0.933729   \n",
       "1      test  RandomForestClassifier  0.934516   0.953480  0.926606  0.940627   \n",
       "\n",
       "     rocauc   logloss  \n",
       "0  0.986104  1.396558  \n",
       "1  0.987537  2.021065  "
      ]
     },
     "execution_count": 44,
     "metadata": {},
     "output_type": "execute_result"
    }
   ],
   "source": [
    "y_pred_test = grid.predict(X_test)\n",
    "\n",
    "print(f'Confussion Matrix for test data:\\n{confusion_matrix(y_test, y_pred_test)}')\n",
    "print(f'\\nClassification report for test data:\\n{classification_report(y_test, y_pred_test)}')\n",
    "rfor_results_hyp = baseline_report(grid.best_estimator_, X_train, X_test, y_train, y_test, 'RandomForestClassifier')\n",
    "rfor_results_hyp"
   ]
  },
  {
   "cell_type": "markdown",
   "metadata": {
    "ExecuteTime": {
     "end_time": "2020-05-08T10:11:59.288051Z",
     "start_time": "2020-05-08T10:11:59.285059Z"
    }
   },
   "source": [
    "##### Results after the hyperparameter tuning"
   ]
  },
  {
   "cell_type": "code",
   "execution_count": 45,
   "metadata": {
    "ExecuteTime": {
     "end_time": "2020-05-08T16:31:57.222824Z",
     "start_time": "2020-05-08T16:31:57.214749Z"
    }
   },
   "outputs": [
    {
     "name": "stdout",
     "output_type": "stream",
     "text": [
      "RandomForestClassifier is giving us the F1 score of 0.941 on the test data.\n",
      "Hyperparameter tuning imporved our score from 0.932 to 0.941\n",
      "RandomForestClassifier improves the result from DecisionTreeClassifier (score: 0.923)\n"
     ]
    }
   ],
   "source": [
    "results_after_hyp(rfor_results_hyp, rfor_results, dectree_results_hyp)"
   ]
  },
  {
   "cell_type": "markdown",
   "metadata": {},
   "source": [
    "## Linear Support Vector Classification"
   ]
  },
  {
   "cell_type": "markdown",
   "metadata": {},
   "source": [
    "The objective of a Linear SVC (Support Vector Classifier) is to fit to the data provided, returning a 'best fit' hyperplane that divides or categorizes the data. After getting the hyperplane, you can then feed some features to the classifier to see what the 'predicted' class is. It has more flexibility in the choice of penalties and loss functions and should scale better to large numbers of samples compared to SVC."
   ]
  },
  {
   "cell_type": "code",
   "execution_count": 46,
   "metadata": {
    "ExecuteTime": {
     "end_time": "2020-05-08T16:32:07.090159Z",
     "start_time": "2020-05-08T16:31:57.224905Z"
    }
   },
   "outputs": [
    {
     "name": "stdout",
     "output_type": "stream",
     "text": [
      "Confussion Matrix for test data:\n",
      "[[541  32]\n",
      " [ 38 534]]\n",
      "\n",
      "Classification report for test data:\n",
      "              precision    recall  f1-score   support\n",
      "\n",
      "           0       0.93      0.94      0.94       573\n",
      "           1       0.94      0.93      0.94       572\n",
      "\n",
      "    accuracy                           0.94      1145\n",
      "   macro avg       0.94      0.94      0.94      1145\n",
      "weighted avg       0.94      0.94      0.94      1145\n",
      "\n"
     ]
    },
    {
     "data": {
      "text/html": [
       "<div>\n",
       "<style scoped>\n",
       "    .dataframe tbody tr th:only-of-type {\n",
       "        vertical-align: middle;\n",
       "    }\n",
       "\n",
       "    .dataframe tbody tr th {\n",
       "        vertical-align: top;\n",
       "    }\n",
       "\n",
       "    .dataframe thead th {\n",
       "        text-align: right;\n",
       "    }\n",
       "</style>\n",
       "<table border=\"1\" class=\"dataframe\">\n",
       "  <thead>\n",
       "    <tr style=\"text-align: right;\">\n",
       "      <th></th>\n",
       "      <th>data</th>\n",
       "      <th>model</th>\n",
       "      <th>accuracy</th>\n",
       "      <th>precision</th>\n",
       "      <th>recall</th>\n",
       "      <th>f1score</th>\n",
       "      <th>rocauc</th>\n",
       "      <th>logloss</th>\n",
       "    </tr>\n",
       "  </thead>\n",
       "  <tbody>\n",
       "    <tr>\n",
       "      <td>0</td>\n",
       "      <td>training</td>\n",
       "      <td>LinearSVC</td>\n",
       "      <td>0.934481</td>\n",
       "      <td>0.953246</td>\n",
       "      <td>0.914674</td>\n",
       "      <td>0.933230</td>\n",
       "      <td>0.980285</td>\n",
       "      <td>1.978463</td>\n",
       "    </tr>\n",
       "    <tr>\n",
       "      <td>1</td>\n",
       "      <td>test</td>\n",
       "      <td>LinearSVC</td>\n",
       "      <td>0.931015</td>\n",
       "      <td>0.947636</td>\n",
       "      <td>0.928406</td>\n",
       "      <td>0.924754</td>\n",
       "      <td>0.984441</td>\n",
       "      <td>2.111563</td>\n",
       "    </tr>\n",
       "  </tbody>\n",
       "</table>\n",
       "</div>"
      ],
      "text/plain": [
       "       data      model  accuracy  precision    recall   f1score    rocauc  \\\n",
       "0  training  LinearSVC  0.934481   0.953246  0.914674  0.933230  0.980285   \n",
       "1      test  LinearSVC  0.931015   0.947636  0.928406  0.924754  0.984441   \n",
       "\n",
       "    logloss  \n",
       "0  1.978463  \n",
       "1  2.111563  "
      ]
     },
     "execution_count": 46,
     "metadata": {},
     "output_type": "execute_result"
    }
   ],
   "source": [
    "from sklearn.svm import LinearSVC\n",
    "\n",
    "linearsvc = LinearSVC()\n",
    "linearsvc.fit(X_train, y_train)\n",
    "\n",
    "y_pred_test = linearsvc.predict(X_test)\n",
    "\n",
    "print(f'Confussion Matrix for test data:\\n{confusion_matrix(y_test, y_pred_test)}')\n",
    "print(f'\\nClassification report for test data:\\n{classification_report(y_test, y_pred_test)}')\n",
    "linearsvc_results = baseline_report(linearsvc, X_train, X_test, y_train, y_test, 'LinearSVC')\n",
    "linearsvc_results"
   ]
  },
  {
   "cell_type": "markdown",
   "metadata": {
    "ExecuteTime": {
     "end_time": "2020-05-08T10:11:52.358755Z",
     "start_time": "2020-05-08T10:11:52.343131Z"
    }
   },
   "source": [
    "##### Results with default parameters"
   ]
  },
  {
   "cell_type": "code",
   "execution_count": 47,
   "metadata": {
    "ExecuteTime": {
     "end_time": "2020-05-08T16:32:07.109118Z",
     "start_time": "2020-05-08T16:32:07.093399Z"
    }
   },
   "outputs": [
    {
     "name": "stdout",
     "output_type": "stream",
     "text": [
      "LinearSVC is giving us the F1 score of 0.925 on the test data.\n",
      "LinearSVC does not imporve the score from RandomForestClassifier (score: 0.941\n"
     ]
    }
   ],
   "source": [
    "results_defaut(linearsvc_results, rfor_results_hyp)"
   ]
  },
  {
   "cell_type": "code",
   "execution_count": 48,
   "metadata": {
    "ExecuteTime": {
     "end_time": "2020-05-08T16:32:07.639498Z",
     "start_time": "2020-05-08T16:32:07.113394Z"
    },
    "scrolled": false
   },
   "outputs": [
    {
     "data": {
      "image/png": "[encoded data removed]",
      "text/plain": [
       "<Figure size 720x720 with 2 Axes>"
      ]
     },
     "metadata": {
      "needs_background": "light"
     },
     "output_type": "display_data"
    }
   ],
   "source": [
    "# Visualizing results\n",
    "\n",
    "sns.heatmap(confusion_matrix(y_test, y_pred_test), annot=True)\n",
    "plt.show()"
   ]
  },
  {
   "cell_type": "markdown",
   "metadata": {},
   "source": [
    "### Hyperparameter Tuning"
   ]
  },
  {
   "cell_type": "markdown",
   "metadata": {},
   "source": [
    "##### GridSearchCV"
   ]
  },
  {
   "cell_type": "markdown",
   "metadata": {},
   "source": [
    "Parameters that we will be checking:\n",
    "\n",
    "**C**: float, optional (default=1.0). Regularization parameter. The strength of the regularization is inversely proportional to C. Must be strictly positive.\n",
    "\n",
    "**multi_class**: str, ‘ovr’ or ‘crammer_singer’ (default=’ovr’). Determines the multi-class strategy if y contains more than two classes. \n",
    "\n",
    "\"ovr\" trains n_classes one-vs-rest classifiers, while \"crammer_singer\" optimizes a joint objective over all classes. While crammer_singer is interesting from a theoretical perspective as it is consistent, it is seldom used in practice as it rarely leads to better accuracy and is more expensive to compute. If \"crammer_singer\" is chosen, the options loss, penalty and dual will be ignored.\n",
    "\n",
    "**penalty**: str, ‘l1’ or ‘l2’ (default=’l2’). Specifies the norm used in the penalization. The ‘l2’ penalty is the standard used in SVC. The ‘l1’ leads to coef_ vectors that are sparse.\n",
    "\n",
    "**loss**: str, ‘hinge’ or ‘squared_hinge’ (default=’squared_hinge’). Specifies the loss function. ‘hinge’ is the standard SVM loss (used e.g. by the SVC class) while ‘squared_hinge’ is the square of the hinge loss.\n",
    "\n",
    "**dual**: bool, (default=True). Select the algorithm to either solve the dual or primal optimization problem. Prefer dual=False when n_samples > n_features."
   ]
  },
  {
   "cell_type": "code",
   "execution_count": 49,
   "metadata": {
    "ExecuteTime": {
     "end_time": "2020-05-08T16:32:50.174053Z",
     "start_time": "2020-05-08T16:32:07.648428Z"
    }
   },
   "outputs": [
    {
     "name": "stdout",
     "output_type": "stream",
     "text": [
      "Fitting 3 folds for each of 24 candidates, totalling 72 fits\n"
     ]
    },
    {
     "name": "stderr",
     "output_type": "stream",
     "text": [
      "[Parallel(n_jobs=-1)]: Using backend LokyBackend with 8 concurrent workers.\n",
      "[Parallel(n_jobs=-1)]: Done  72 out of  72 | elapsed:   42.0s finished\n"
     ]
    },
    {
     "name": "stdout",
     "output_type": "stream",
     "text": [
      "{'C': 0.1, 'dual': 0, 'loss': 'squared_hinge', 'multi_class': 'ovr', 'penalty': 'l1'}\n"
     ]
    }
   ],
   "source": [
    "c_values = list(10.0**np.arange(-3, 3))\n",
    "\n",
    "param_grid = [{'C': c_values,\n",
    "              'multi_class': ['ovr', 'crammer_singer'],\n",
    "              'penalty': ['l1'],\n",
    "              'loss': ['squared_hinge'],\n",
    "              'dual': [0]},\n",
    "              {'C': c_values,\n",
    "              'multi_class': ['ovr', 'crammer_singer'],\n",
    "              'penalty': ['l2'],\n",
    "              'loss': ['squared_hinge'],\n",
    "              'dual': [1]}]\n",
    "\n",
    "grid = GridSearchCV(LinearSVC(), param_grid, verbose=1, cv=3, n_jobs=-1, scoring='f1')                 \n",
    "grid.fit(X_train, y_train)  \n",
    "\n",
    "best_params_linearsvc = grid.best_params_\n",
    "print(best_params_linearsvc)"
   ]
  },
  {
   "cell_type": "markdown",
   "metadata": {},
   "source": [
    "We now know the best parameters for our model. The second step is to evaluate our model with the selection of the best parameters and see the impact on the scores."
   ]
  },
  {
   "cell_type": "code",
   "execution_count": 50,
   "metadata": {
    "ExecuteTime": {
     "end_time": "2020-05-08T16:32:55.786298Z",
     "start_time": "2020-05-08T16:32:50.175789Z"
    }
   },
   "outputs": [
    {
     "name": "stdout",
     "output_type": "stream",
     "text": [
      "Confussion Matrix for test data:\n",
      "[[544  29]\n",
      " [ 42 530]]\n",
      "\n",
      "Classification report for test data:\n",
      "              precision    recall  f1-score   support\n",
      "\n",
      "           0       0.93      0.95      0.94       573\n",
      "           1       0.95      0.93      0.94       572\n",
      "\n",
      "    accuracy                           0.94      1145\n",
      "   macro avg       0.94      0.94      0.94      1145\n",
      "weighted avg       0.94      0.94      0.94      1145\n",
      "\n"
     ]
    },
    {
     "data": {
      "text/html": [
       "<div>\n",
       "<style scoped>\n",
       "    .dataframe tbody tr th:only-of-type {\n",
       "        vertical-align: middle;\n",
       "    }\n",
       "\n",
       "    .dataframe tbody tr th {\n",
       "        vertical-align: top;\n",
       "    }\n",
       "\n",
       "    .dataframe thead th {\n",
       "        text-align: right;\n",
       "    }\n",
       "</style>\n",
       "<table border=\"1\" class=\"dataframe\">\n",
       "  <thead>\n",
       "    <tr style=\"text-align: right;\">\n",
       "      <th></th>\n",
       "      <th>data</th>\n",
       "      <th>model</th>\n",
       "      <th>accuracy</th>\n",
       "      <th>precision</th>\n",
       "      <th>recall</th>\n",
       "      <th>f1score</th>\n",
       "      <th>rocauc</th>\n",
       "      <th>logloss</th>\n",
       "    </tr>\n",
       "  </thead>\n",
       "  <tbody>\n",
       "    <tr>\n",
       "      <td>0</td>\n",
       "      <td>training</td>\n",
       "      <td>LinearSVC</td>\n",
       "      <td>0.933731</td>\n",
       "      <td>0.953285</td>\n",
       "      <td>0.910179</td>\n",
       "      <td>0.929973</td>\n",
       "      <td>0.982561</td>\n",
       "      <td>2.030186</td>\n",
       "    </tr>\n",
       "    <tr>\n",
       "      <td>1</td>\n",
       "      <td>test</td>\n",
       "      <td>LinearSVC</td>\n",
       "      <td>0.934524</td>\n",
       "      <td>0.956965</td>\n",
       "      <td>0.919588</td>\n",
       "      <td>0.933821</td>\n",
       "      <td>0.987091</td>\n",
       "      <td>2.141726</td>\n",
       "    </tr>\n",
       "  </tbody>\n",
       "</table>\n",
       "</div>"
      ],
      "text/plain": [
       "       data      model  accuracy  precision    recall   f1score    rocauc  \\\n",
       "0  training  LinearSVC  0.933731   0.953285  0.910179  0.929973  0.982561   \n",
       "1      test  LinearSVC  0.934524   0.956965  0.919588  0.933821  0.987091   \n",
       "\n",
       "    logloss  \n",
       "0  2.030186  \n",
       "1  2.141726  "
      ]
     },
     "execution_count": 50,
     "metadata": {},
     "output_type": "execute_result"
    }
   ],
   "source": [
    "y_pred_test = grid.predict(X_test)\n",
    "\n",
    "print(f'Confussion Matrix for test data:\\n{confusion_matrix(y_test, y_pred_test)}')\n",
    "print(f'\\nClassification report for test data:\\n{classification_report(y_test, y_pred_test)}')\n",
    "linearsvc_results_hyp = baseline_report(grid.best_estimator_, X_train, X_test, y_train, y_test, 'LinearSVC')\n",
    "linearsvc_results_hyp"
   ]
  },
  {
   "cell_type": "markdown",
   "metadata": {
    "ExecuteTime": {
     "end_time": "2020-05-08T10:11:59.288051Z",
     "start_time": "2020-05-08T10:11:59.285059Z"
    }
   },
   "source": [
    "##### Results after the hyperparameter tuning"
   ]
  },
  {
   "cell_type": "code",
   "execution_count": 51,
   "metadata": {
    "ExecuteTime": {
     "end_time": "2020-05-08T16:32:55.800881Z",
     "start_time": "2020-05-08T16:32:55.788884Z"
    }
   },
   "outputs": [
    {
     "name": "stdout",
     "output_type": "stream",
     "text": [
      "LinearSVC is giving us the F1 score of 0.934 on the test data.\n",
      "Hyperparameter tuning imporved our score from 0.925 to 0.934\n",
      "LinearSVC does not imporve the score from RandomForestClassifier (score: 0.941)\n"
     ]
    }
   ],
   "source": [
    "results_after_hyp(linearsvc_results_hyp, linearsvc_results, rfor_results_hyp)"
   ]
  },
  {
   "cell_type": "markdown",
   "metadata": {},
   "source": [
    "## Gaussian Naive Bayes"
   ]
  },
  {
   "cell_type": "markdown",
   "metadata": {},
   "source": [
    "A Gaussian Naive Bayes algorithm is a special type of NB algorithm. It assumes that all the features are following a gaussian distribution i.e, normal distribution and that the value of a particular feature is independent of the value of any other feature, given the class variable. An advantage of naive Bayes is that it only requires a small number of training data to estimate the parameters necessary for classification. "
   ]
  },
  {
   "cell_type": "code",
   "execution_count": 52,
   "metadata": {
    "ExecuteTime": {
     "end_time": "2020-05-08T16:32:56.191790Z",
     "start_time": "2020-05-08T16:32:55.803707Z"
    }
   },
   "outputs": [
    {
     "name": "stdout",
     "output_type": "stream",
     "text": [
      "Confussion Matrix for test data:\n",
      "[[560  13]\n",
      " [ 64 508]]\n",
      "\n",
      "Classification report for test data:\n",
      "              precision    recall  f1-score   support\n",
      "\n",
      "           0       0.90      0.98      0.94       573\n",
      "           1       0.98      0.89      0.93       572\n",
      "\n",
      "    accuracy                           0.93      1145\n",
      "   macro avg       0.94      0.93      0.93      1145\n",
      "weighted avg       0.94      0.93      0.93      1145\n",
      "\n"
     ]
    },
    {
     "data": {
      "text/html": [
       "<div>\n",
       "<style scoped>\n",
       "    .dataframe tbody tr th:only-of-type {\n",
       "        vertical-align: middle;\n",
       "    }\n",
       "\n",
       "    .dataframe tbody tr th {\n",
       "        vertical-align: top;\n",
       "    }\n",
       "\n",
       "    .dataframe thead th {\n",
       "        text-align: right;\n",
       "    }\n",
       "</style>\n",
       "<table border=\"1\" class=\"dataframe\">\n",
       "  <thead>\n",
       "    <tr style=\"text-align: right;\">\n",
       "      <th></th>\n",
       "      <th>data</th>\n",
       "      <th>model</th>\n",
       "      <th>accuracy</th>\n",
       "      <th>precision</th>\n",
       "      <th>recall</th>\n",
       "      <th>f1score</th>\n",
       "      <th>rocauc</th>\n",
       "      <th>logloss</th>\n",
       "    </tr>\n",
       "  </thead>\n",
       "  <tbody>\n",
       "    <tr>\n",
       "      <td>0</td>\n",
       "      <td>training</td>\n",
       "      <td>GaussianNB</td>\n",
       "      <td>0.915011</td>\n",
       "      <td>0.951548</td>\n",
       "      <td>0.873484</td>\n",
       "      <td>0.910509</td>\n",
       "      <td>0.972569</td>\n",
       "      <td>2.754322</td>\n",
       "    </tr>\n",
       "    <tr>\n",
       "      <td>1</td>\n",
       "      <td>test</td>\n",
       "      <td>GaussianNB</td>\n",
       "      <td>0.924859</td>\n",
       "      <td>0.961011</td>\n",
       "      <td>0.884622</td>\n",
       "      <td>0.920755</td>\n",
       "      <td>0.973636</td>\n",
       "      <td>2.322704</td>\n",
       "    </tr>\n",
       "  </tbody>\n",
       "</table>\n",
       "</div>"
      ],
      "text/plain": [
       "       data       model  accuracy  precision    recall   f1score    rocauc  \\\n",
       "0  training  GaussianNB  0.915011   0.951548  0.873484  0.910509  0.972569   \n",
       "1      test  GaussianNB  0.924859   0.961011  0.884622  0.920755  0.973636   \n",
       "\n",
       "    logloss  \n",
       "0  2.754322  \n",
       "1  2.322704  "
      ]
     },
     "execution_count": 52,
     "metadata": {},
     "output_type": "execute_result"
    }
   ],
   "source": [
    "from sklearn.naive_bayes import GaussianNB\n",
    "\n",
    "naive_b = GaussianNB()\n",
    "naive_b.fit(X_train, y_train)\n",
    "\n",
    "y_pred_test = naive_b.predict(X_test)\n",
    "\n",
    "print(f'Confussion Matrix for test data:\\n{confusion_matrix(y_test, y_pred_test)}')\n",
    "print(f'\\nClassification report for test data:\\n{classification_report(y_test, y_pred_test)}')\n",
    "naive_b_results = baseline_report(naive_b, X_train, X_test, y_train, y_test, 'GaussianNB')\n",
    "naive_b_results"
   ]
  },
  {
   "cell_type": "markdown",
   "metadata": {
    "ExecuteTime": {
     "end_time": "2020-05-08T10:11:52.358755Z",
     "start_time": "2020-05-08T10:11:52.343131Z"
    }
   },
   "source": [
    "##### Results with default parameters"
   ]
  },
  {
   "cell_type": "code",
   "execution_count": 53,
   "metadata": {
    "ExecuteTime": {
     "end_time": "2020-05-08T16:32:56.202950Z",
     "start_time": "2020-05-08T16:32:56.196123Z"
    }
   },
   "outputs": [
    {
     "name": "stdout",
     "output_type": "stream",
     "text": [
      "GaussianNB is giving us the F1 score of 0.921 on the test data.\n",
      "GaussianNB does not imporve the score from LinearSVC (score: 0.934\n"
     ]
    }
   ],
   "source": [
    "results_defaut(naive_b_results, linearsvc_results_hyp)"
   ]
  },
  {
   "cell_type": "markdown",
   "metadata": {},
   "source": [
    "### Hyperparameter Tuning"
   ]
  },
  {
   "cell_type": "markdown",
   "metadata": {},
   "source": [
    "##### GridSearchCV"
   ]
  },
  {
   "cell_type": "markdown",
   "metadata": {},
   "source": [
    "Parameters that we will be checking:\n",
    "\n",
    "**var_smoothing** : float, optional (default=1e-9). Portion of the largest variance of all features that is added to variances for calculation stability."
   ]
  },
  {
   "cell_type": "code",
   "execution_count": 54,
   "metadata": {
    "ExecuteTime": {
     "end_time": "2020-05-08T16:32:56.364520Z",
     "start_time": "2020-05-08T16:32:56.205741Z"
    }
   },
   "outputs": [
    {
     "name": "stdout",
     "output_type": "stream",
     "text": [
      "Fitting 3 folds for each of 5 candidates, totalling 15 fits\n",
      "{'var_smoothing': 1e-06}\n"
     ]
    },
    {
     "name": "stderr",
     "output_type": "stream",
     "text": [
      "[Parallel(n_jobs=-1)]: Using backend LokyBackend with 8 concurrent workers.\n",
      "[Parallel(n_jobs=-1)]: Done  15 out of  15 | elapsed:    0.1s finished\n"
     ]
    }
   ],
   "source": [
    "smooth = list(10.0**np.arange(-9, -4))\n",
    "\n",
    "param_grid = {'var_smoothing' : smooth}\n",
    "\n",
    "grid = GridSearchCV(GaussianNB(), param_grid, verbose=1, cv=3, n_jobs=-1, scoring='f1')                 \n",
    "grid.fit(X_train, y_train)  \n",
    "\n",
    "best_params_naive_b = grid.best_params_\n",
    "print(best_params_naive_b)"
   ]
  },
  {
   "cell_type": "markdown",
   "metadata": {},
   "source": [
    "We now know the best parameters for our model. The second step is to evaluate our model with the selection of the best parameters and see the impact on the scores."
   ]
  },
  {
   "cell_type": "code",
   "execution_count": 55,
   "metadata": {
    "ExecuteTime": {
     "end_time": "2020-05-08T16:32:56.701751Z",
     "start_time": "2020-05-08T16:32:56.367417Z"
    }
   },
   "outputs": [
    {
     "name": "stdout",
     "output_type": "stream",
     "text": [
      "Confussion Matrix for test data:\n",
      "[[552  21]\n",
      " [ 54 518]]\n",
      "\n",
      "Classification report for test data:\n",
      "              precision    recall  f1-score   support\n",
      "\n",
      "           0       0.91      0.96      0.94       573\n",
      "           1       0.96      0.91      0.93       572\n",
      "\n",
      "    accuracy                           0.93      1145\n",
      "   macro avg       0.94      0.93      0.93      1145\n",
      "weighted avg       0.94      0.93      0.93      1145\n",
      "\n"
     ]
    },
    {
     "data": {
      "text/html": [
       "<div>\n",
       "<style scoped>\n",
       "    .dataframe tbody tr th:only-of-type {\n",
       "        vertical-align: middle;\n",
       "    }\n",
       "\n",
       "    .dataframe tbody tr th {\n",
       "        vertical-align: top;\n",
       "    }\n",
       "\n",
       "    .dataframe thead th {\n",
       "        text-align: right;\n",
       "    }\n",
       "</style>\n",
       "<table border=\"1\" class=\"dataframe\">\n",
       "  <thead>\n",
       "    <tr style=\"text-align: right;\">\n",
       "      <th></th>\n",
       "      <th>data</th>\n",
       "      <th>model</th>\n",
       "      <th>accuracy</th>\n",
       "      <th>precision</th>\n",
       "      <th>recall</th>\n",
       "      <th>f1score</th>\n",
       "      <th>rocauc</th>\n",
       "      <th>logloss</th>\n",
       "    </tr>\n",
       "  </thead>\n",
       "  <tbody>\n",
       "    <tr>\n",
       "      <td>0</td>\n",
       "      <td>training</td>\n",
       "      <td>GaussianNB</td>\n",
       "      <td>0.921011</td>\n",
       "      <td>0.946858</td>\n",
       "      <td>0.888476</td>\n",
       "      <td>0.917032</td>\n",
       "      <td>0.969637</td>\n",
       "      <td>2.625016</td>\n",
       "    </tr>\n",
       "    <tr>\n",
       "      <td>1</td>\n",
       "      <td>test</td>\n",
       "      <td>GaussianNB</td>\n",
       "      <td>0.931053</td>\n",
       "      <td>0.955117</td>\n",
       "      <td>0.889794</td>\n",
       "      <td>0.916157</td>\n",
       "      <td>0.966817</td>\n",
       "      <td>2.262380</td>\n",
       "    </tr>\n",
       "  </tbody>\n",
       "</table>\n",
       "</div>"
      ],
      "text/plain": [
       "       data       model  accuracy  precision    recall   f1score    rocauc  \\\n",
       "0  training  GaussianNB  0.921011   0.946858  0.888476  0.917032  0.969637   \n",
       "1      test  GaussianNB  0.931053   0.955117  0.889794  0.916157  0.966817   \n",
       "\n",
       "    logloss  \n",
       "0  2.625016  \n",
       "1  2.262380  "
      ]
     },
     "execution_count": 55,
     "metadata": {},
     "output_type": "execute_result"
    }
   ],
   "source": [
    "y_pred_test = grid.predict(X_test)\n",
    "\n",
    "print(f'Confussion Matrix for test data:\\n{confusion_matrix(y_test, y_pred_test)}')\n",
    "print(f'\\nClassification report for test data:\\n{classification_report(y_test, y_pred_test)}')\n",
    "naive_b_results_hyp = baseline_report(grid.best_estimator_, X_train, X_test, y_train, y_test, 'GaussianNB')\n",
    "naive_b_results_hyp"
   ]
  },
  {
   "cell_type": "markdown",
   "metadata": {
    "ExecuteTime": {
     "end_time": "2020-05-08T10:11:59.288051Z",
     "start_time": "2020-05-08T10:11:59.285059Z"
    }
   },
   "source": [
    "##### Results after the hyperparameter tuning"
   ]
  },
  {
   "cell_type": "code",
   "execution_count": 56,
   "metadata": {
    "ExecuteTime": {
     "end_time": "2020-05-08T16:32:56.712334Z",
     "start_time": "2020-05-08T16:32:56.705066Z"
    }
   },
   "outputs": [
    {
     "name": "stdout",
     "output_type": "stream",
     "text": [
      "GaussianNB is giving us the F1 score of 0.916 on the test data.\n",
      "Our score after the hyperparameter tuning changed from 0.921 to 0.916\n",
      "GaussianNB does not imporve the score from LinearSVC (score: 0.934)\n"
     ]
    }
   ],
   "source": [
    "results_after_hyp(naive_b_results_hyp, naive_b_results, linearsvc_results_hyp)"
   ]
  },
  {
   "cell_type": "markdown",
   "metadata": {},
   "source": [
    "## Final model evaluation"
   ]
  },
  {
   "cell_type": "markdown",
   "metadata": {},
   "source": [
    "Results of all models before hyperparameter tuning:"
   ]
  },
  {
   "cell_type": "code",
   "execution_count": 57,
   "metadata": {
    "ExecuteTime": {
     "end_time": "2020-05-08T16:32:56.737759Z",
     "start_time": "2020-05-08T16:32:56.716664Z"
    }
   },
   "outputs": [
    {
     "data": {
      "text/html": [
       "<div>\n",
       "<style scoped>\n",
       "    .dataframe tbody tr th:only-of-type {\n",
       "        vertical-align: middle;\n",
       "    }\n",
       "\n",
       "    .dataframe tbody tr th {\n",
       "        vertical-align: top;\n",
       "    }\n",
       "\n",
       "    .dataframe thead th {\n",
       "        text-align: right;\n",
       "    }\n",
       "</style>\n",
       "<table border=\"1\" class=\"dataframe\">\n",
       "  <thead>\n",
       "    <tr style=\"text-align: right;\">\n",
       "      <th></th>\n",
       "      <th>data</th>\n",
       "      <th>model</th>\n",
       "      <th>accuracy</th>\n",
       "      <th>precision</th>\n",
       "      <th>recall</th>\n",
       "      <th>f1score</th>\n",
       "      <th>rocauc</th>\n",
       "      <th>logloss</th>\n",
       "    </tr>\n",
       "  </thead>\n",
       "  <tbody>\n",
       "    <tr>\n",
       "      <td>0</td>\n",
       "      <td>training</td>\n",
       "      <td>KNeighborsClassifier</td>\n",
       "      <td>0.758907</td>\n",
       "      <td>0.800830</td>\n",
       "      <td>0.725323</td>\n",
       "      <td>0.757512</td>\n",
       "      <td>0.848310</td>\n",
       "      <td>4.926762e+00</td>\n",
       "    </tr>\n",
       "    <tr>\n",
       "      <td>1</td>\n",
       "      <td>test</td>\n",
       "      <td>KNeighborsClassifier</td>\n",
       "      <td>0.785203</td>\n",
       "      <td>0.806846</td>\n",
       "      <td>0.741220</td>\n",
       "      <td>0.770454</td>\n",
       "      <td>0.848949</td>\n",
       "      <td>7.511128e+00</td>\n",
       "    </tr>\n",
       "    <tr>\n",
       "      <td>2</td>\n",
       "      <td>training</td>\n",
       "      <td>LogisticRegression</td>\n",
       "      <td>0.928490</td>\n",
       "      <td>0.946821</td>\n",
       "      <td>0.913173</td>\n",
       "      <td>0.929309</td>\n",
       "      <td>0.981915</td>\n",
       "      <td>2.068981e+00</td>\n",
       "    </tr>\n",
       "    <tr>\n",
       "      <td>3</td>\n",
       "      <td>test</td>\n",
       "      <td>LogisticRegression</td>\n",
       "      <td>0.930073</td>\n",
       "      <td>0.942950</td>\n",
       "      <td>0.910755</td>\n",
       "      <td>0.930994</td>\n",
       "      <td>0.983265</td>\n",
       "      <td>2.111564e+00</td>\n",
       "    </tr>\n",
       "    <tr>\n",
       "      <td>4</td>\n",
       "      <td>training</td>\n",
       "      <td>DecisionTreeClassifier</td>\n",
       "      <td>0.918008</td>\n",
       "      <td>0.911522</td>\n",
       "      <td>0.918411</td>\n",
       "      <td>0.913392</td>\n",
       "      <td>0.920996</td>\n",
       "      <td>9.992007e-16</td>\n",
       "    </tr>\n",
       "    <tr>\n",
       "      <td>5</td>\n",
       "      <td>test</td>\n",
       "      <td>DecisionTreeClassifier</td>\n",
       "      <td>0.913559</td>\n",
       "      <td>0.910023</td>\n",
       "      <td>0.905568</td>\n",
       "      <td>0.899173</td>\n",
       "      <td>0.899519</td>\n",
       "      <td>3.167356e+00</td>\n",
       "    </tr>\n",
       "    <tr>\n",
       "      <td>6</td>\n",
       "      <td>training</td>\n",
       "      <td>RandomForestClassifier</td>\n",
       "      <td>0.931864</td>\n",
       "      <td>0.950582</td>\n",
       "      <td>0.910177</td>\n",
       "      <td>0.928689</td>\n",
       "      <td>0.980401</td>\n",
       "      <td>1.810347e-01</td>\n",
       "    </tr>\n",
       "    <tr>\n",
       "      <td>7</td>\n",
       "      <td>test</td>\n",
       "      <td>RandomForestClassifier</td>\n",
       "      <td>0.930168</td>\n",
       "      <td>0.956099</td>\n",
       "      <td>0.912616</td>\n",
       "      <td>0.932128</td>\n",
       "      <td>0.980173</td>\n",
       "      <td>2.262388e+00</td>\n",
       "    </tr>\n",
       "    <tr>\n",
       "      <td>8</td>\n",
       "      <td>training</td>\n",
       "      <td>LinearSVC</td>\n",
       "      <td>0.934481</td>\n",
       "      <td>0.953246</td>\n",
       "      <td>0.914674</td>\n",
       "      <td>0.933230</td>\n",
       "      <td>0.980285</td>\n",
       "      <td>1.978463e+00</td>\n",
       "    </tr>\n",
       "    <tr>\n",
       "      <td>9</td>\n",
       "      <td>test</td>\n",
       "      <td>LinearSVC</td>\n",
       "      <td>0.931015</td>\n",
       "      <td>0.947636</td>\n",
       "      <td>0.928406</td>\n",
       "      <td>0.924754</td>\n",
       "      <td>0.984441</td>\n",
       "      <td>2.111563e+00</td>\n",
       "    </tr>\n",
       "    <tr>\n",
       "      <td>10</td>\n",
       "      <td>training</td>\n",
       "      <td>GaussianNB</td>\n",
       "      <td>0.915011</td>\n",
       "      <td>0.951548</td>\n",
       "      <td>0.873484</td>\n",
       "      <td>0.910509</td>\n",
       "      <td>0.972569</td>\n",
       "      <td>2.754322e+00</td>\n",
       "    </tr>\n",
       "    <tr>\n",
       "      <td>11</td>\n",
       "      <td>test</td>\n",
       "      <td>GaussianNB</td>\n",
       "      <td>0.924859</td>\n",
       "      <td>0.961011</td>\n",
       "      <td>0.884622</td>\n",
       "      <td>0.920755</td>\n",
       "      <td>0.973636</td>\n",
       "      <td>2.322704e+00</td>\n",
       "    </tr>\n",
       "  </tbody>\n",
       "</table>\n",
       "</div>"
      ],
      "text/plain": [
       "        data                   model  accuracy  precision    recall   f1score  \\\n",
       "0   training    KNeighborsClassifier  0.758907   0.800830  0.725323  0.757512   \n",
       "1       test    KNeighborsClassifier  0.785203   0.806846  0.741220  0.770454   \n",
       "2   training      LogisticRegression  0.928490   0.946821  0.913173  0.929309   \n",
       "3       test      LogisticRegression  0.930073   0.942950  0.910755  0.930994   \n",
       "4   training  DecisionTreeClassifier  0.918008   0.911522  0.918411  0.913392   \n",
       "5       test  DecisionTreeClassifier  0.913559   0.910023  0.905568  0.899173   \n",
       "6   training  RandomForestClassifier  0.931864   0.950582  0.910177  0.928689   \n",
       "7       test  RandomForestClassifier  0.930168   0.956099  0.912616  0.932128   \n",
       "8   training               LinearSVC  0.934481   0.953246  0.914674  0.933230   \n",
       "9       test               LinearSVC  0.931015   0.947636  0.928406  0.924754   \n",
       "10  training              GaussianNB  0.915011   0.951548  0.873484  0.910509   \n",
       "11      test              GaussianNB  0.924859   0.961011  0.884622  0.920755   \n",
       "\n",
       "      rocauc       logloss  \n",
       "0   0.848310  4.926762e+00  \n",
       "1   0.848949  7.511128e+00  \n",
       "2   0.981915  2.068981e+00  \n",
       "3   0.983265  2.111564e+00  \n",
       "4   0.920996  9.992007e-16  \n",
       "5   0.899519  3.167356e+00  \n",
       "6   0.980401  1.810347e-01  \n",
       "7   0.980173  2.262388e+00  \n",
       "8   0.980285  1.978463e+00  \n",
       "9   0.984441  2.111563e+00  \n",
       "10  0.972569  2.754322e+00  \n",
       "11  0.973636  2.322704e+00  "
      ]
     },
     "execution_count": 57,
     "metadata": {},
     "output_type": "execute_result"
    }
   ],
   "source": [
    "before_hyp = [knn_results, logreg_results, dectree_results, rfor_results, \n",
    "              linearsvc_results, naive_b_results]\n",
    "\n",
    "final_results_before = pd.concat(before_hyp, ignore_index=True)\n",
    "final_results_before"
   ]
  },
  {
   "cell_type": "code",
   "execution_count": 58,
   "metadata": {
    "ExecuteTime": {
     "end_time": "2020-05-08T16:32:56.749728Z",
     "start_time": "2020-05-08T16:32:56.739727Z"
    }
   },
   "outputs": [
    {
     "name": "stdout",
     "output_type": "stream",
     "text": [
      "The model with the best F1_score with the default parameters is RandomForestClassifier, score: 0.932\n"
     ]
    }
   ],
   "source": [
    "best_test_score_before = final_results_before.loc[final_results_before.data == 'test'].f1score.max()\n",
    "best_test_model_before = final_results_before.loc[(final_results_before.data == 'test') & \n",
    "                                                  (final_results_before.f1score == \n",
    "                                                   best_test_score_before)].model.values[0]\n",
    "print(f'The model with the best F1_score with the default parameters is {best_test_model_before}, score: {round(best_test_score_before, 3)}')"
   ]
  },
  {
   "cell_type": "markdown",
   "metadata": {},
   "source": [
    "Results of all models after hyperparameter tuning:"
   ]
  },
  {
   "cell_type": "code",
   "execution_count": 59,
   "metadata": {
    "ExecuteTime": {
     "end_time": "2020-05-08T16:32:56.777840Z",
     "start_time": "2020-05-08T16:32:56.752404Z"
    }
   },
   "outputs": [
    {
     "data": {
      "text/html": [
       "<div>\n",
       "<style scoped>\n",
       "    .dataframe tbody tr th:only-of-type {\n",
       "        vertical-align: middle;\n",
       "    }\n",
       "\n",
       "    .dataframe tbody tr th {\n",
       "        vertical-align: top;\n",
       "    }\n",
       "\n",
       "    .dataframe thead th {\n",
       "        text-align: right;\n",
       "    }\n",
       "</style>\n",
       "<table border=\"1\" class=\"dataframe\">\n",
       "  <thead>\n",
       "    <tr style=\"text-align: right;\">\n",
       "      <th></th>\n",
       "      <th>data</th>\n",
       "      <th>model</th>\n",
       "      <th>accuracy</th>\n",
       "      <th>precision</th>\n",
       "      <th>recall</th>\n",
       "      <th>f1score</th>\n",
       "      <th>rocauc</th>\n",
       "      <th>logloss</th>\n",
       "    </tr>\n",
       "  </thead>\n",
       "  <tbody>\n",
       "    <tr>\n",
       "      <td>0</td>\n",
       "      <td>training</td>\n",
       "      <td>KNeighborsClassifier</td>\n",
       "      <td>0.828906</td>\n",
       "      <td>0.890690</td>\n",
       "      <td>0.759699</td>\n",
       "      <td>0.824785</td>\n",
       "      <td>0.922057</td>\n",
       "      <td>4.254333</td>\n",
       "    </tr>\n",
       "    <tr>\n",
       "      <td>1</td>\n",
       "      <td>test</td>\n",
       "      <td>KNeighborsClassifier</td>\n",
       "      <td>0.838429</td>\n",
       "      <td>0.899260</td>\n",
       "      <td>0.760381</td>\n",
       "      <td>0.823494</td>\n",
       "      <td>0.927050</td>\n",
       "      <td>5.520210</td>\n",
       "    </tr>\n",
       "    <tr>\n",
       "      <td>2</td>\n",
       "      <td>training</td>\n",
       "      <td>LogisticRegression</td>\n",
       "      <td>0.931114</td>\n",
       "      <td>0.952685</td>\n",
       "      <td>0.909444</td>\n",
       "      <td>0.928494</td>\n",
       "      <td>0.981526</td>\n",
       "      <td>2.146566</td>\n",
       "    </tr>\n",
       "    <tr>\n",
       "      <td>3</td>\n",
       "      <td>test</td>\n",
       "      <td>LogisticRegression</td>\n",
       "      <td>0.932800</td>\n",
       "      <td>0.949078</td>\n",
       "      <td>0.905614</td>\n",
       "      <td>0.932507</td>\n",
       "      <td>0.985545</td>\n",
       "      <td>1.930568</td>\n",
       "    </tr>\n",
       "    <tr>\n",
       "      <td>4</td>\n",
       "      <td>training</td>\n",
       "      <td>DecisionTreeClassifier</td>\n",
       "      <td>0.912385</td>\n",
       "      <td>0.946875</td>\n",
       "      <td>0.907938</td>\n",
       "      <td>0.921866</td>\n",
       "      <td>0.968371</td>\n",
       "      <td>1.693978</td>\n",
       "    </tr>\n",
       "    <tr>\n",
       "      <td>5</td>\n",
       "      <td>test</td>\n",
       "      <td>DecisionTreeClassifier</td>\n",
       "      <td>0.924871</td>\n",
       "      <td>0.937182</td>\n",
       "      <td>0.916064</td>\n",
       "      <td>0.922531</td>\n",
       "      <td>0.953350</td>\n",
       "      <td>2.202064</td>\n",
       "    </tr>\n",
       "    <tr>\n",
       "      <td>6</td>\n",
       "      <td>training</td>\n",
       "      <td>RandomForestClassifier</td>\n",
       "      <td>0.934105</td>\n",
       "      <td>0.950037</td>\n",
       "      <td>0.921387</td>\n",
       "      <td>0.933729</td>\n",
       "      <td>0.986104</td>\n",
       "      <td>1.396558</td>\n",
       "    </tr>\n",
       "    <tr>\n",
       "      <td>7</td>\n",
       "      <td>test</td>\n",
       "      <td>RandomForestClassifier</td>\n",
       "      <td>0.934516</td>\n",
       "      <td>0.953480</td>\n",
       "      <td>0.926606</td>\n",
       "      <td>0.940627</td>\n",
       "      <td>0.987537</td>\n",
       "      <td>2.021065</td>\n",
       "    </tr>\n",
       "    <tr>\n",
       "      <td>8</td>\n",
       "      <td>training</td>\n",
       "      <td>LinearSVC</td>\n",
       "      <td>0.933731</td>\n",
       "      <td>0.953285</td>\n",
       "      <td>0.910179</td>\n",
       "      <td>0.929973</td>\n",
       "      <td>0.982561</td>\n",
       "      <td>2.030186</td>\n",
       "    </tr>\n",
       "    <tr>\n",
       "      <td>9</td>\n",
       "      <td>test</td>\n",
       "      <td>LinearSVC</td>\n",
       "      <td>0.934524</td>\n",
       "      <td>0.956965</td>\n",
       "      <td>0.919588</td>\n",
       "      <td>0.933821</td>\n",
       "      <td>0.987091</td>\n",
       "      <td>2.141726</td>\n",
       "    </tr>\n",
       "    <tr>\n",
       "      <td>10</td>\n",
       "      <td>training</td>\n",
       "      <td>GaussianNB</td>\n",
       "      <td>0.921011</td>\n",
       "      <td>0.946858</td>\n",
       "      <td>0.888476</td>\n",
       "      <td>0.917032</td>\n",
       "      <td>0.969637</td>\n",
       "      <td>2.625016</td>\n",
       "    </tr>\n",
       "    <tr>\n",
       "      <td>11</td>\n",
       "      <td>test</td>\n",
       "      <td>GaussianNB</td>\n",
       "      <td>0.931053</td>\n",
       "      <td>0.955117</td>\n",
       "      <td>0.889794</td>\n",
       "      <td>0.916157</td>\n",
       "      <td>0.966817</td>\n",
       "      <td>2.262380</td>\n",
       "    </tr>\n",
       "  </tbody>\n",
       "</table>\n",
       "</div>"
      ],
      "text/plain": [
       "        data                   model  accuracy  precision    recall   f1score  \\\n",
       "0   training    KNeighborsClassifier  0.828906   0.890690  0.759699  0.824785   \n",
       "1       test    KNeighborsClassifier  0.838429   0.899260  0.760381  0.823494   \n",
       "2   training      LogisticRegression  0.931114   0.952685  0.909444  0.928494   \n",
       "3       test      LogisticRegression  0.932800   0.949078  0.905614  0.932507   \n",
       "4   training  DecisionTreeClassifier  0.912385   0.946875  0.907938  0.921866   \n",
       "5       test  DecisionTreeClassifier  0.924871   0.937182  0.916064  0.922531   \n",
       "6   training  RandomForestClassifier  0.934105   0.950037  0.921387  0.933729   \n",
       "7       test  RandomForestClassifier  0.934516   0.953480  0.926606  0.940627   \n",
       "8   training               LinearSVC  0.933731   0.953285  0.910179  0.929973   \n",
       "9       test               LinearSVC  0.934524   0.956965  0.919588  0.933821   \n",
       "10  training              GaussianNB  0.921011   0.946858  0.888476  0.917032   \n",
       "11      test              GaussianNB  0.931053   0.955117  0.889794  0.916157   \n",
       "\n",
       "      rocauc   logloss  \n",
       "0   0.922057  4.254333  \n",
       "1   0.927050  5.520210  \n",
       "2   0.981526  2.146566  \n",
       "3   0.985545  1.930568  \n",
       "4   0.968371  1.693978  \n",
       "5   0.953350  2.202064  \n",
       "6   0.986104  1.396558  \n",
       "7   0.987537  2.021065  \n",
       "8   0.982561  2.030186  \n",
       "9   0.987091  2.141726  \n",
       "10  0.969637  2.625016  \n",
       "11  0.966817  2.262380  "
      ]
     },
     "execution_count": 59,
     "metadata": {},
     "output_type": "execute_result"
    }
   ],
   "source": [
    "after_hyp = [knn_results_hyp, logreg_results_hyp, dectree_results_hyp, rfor_results_hyp, \n",
    "              linearsvc_results_hyp, naive_b_results_hyp]\n",
    "\n",
    "final_results_after = pd.concat(after_hyp, ignore_index=True)\n",
    "final_results_after"
   ]
  },
  {
   "cell_type": "code",
   "execution_count": 60,
   "metadata": {
    "ExecuteTime": {
     "end_time": "2020-05-08T16:32:56.797562Z",
     "start_time": "2020-05-08T16:32:56.780569Z"
    }
   },
   "outputs": [
    {
     "name": "stdout",
     "output_type": "stream",
     "text": [
      "The model with the best F1_score after the hyperparameter tuning is RandomForestClassifier, score: 0.941\n"
     ]
    }
   ],
   "source": [
    "best_test_score_after = final_results_after.loc[final_results_after.data == 'test'].f1score.max()\n",
    "best_test_model_after = final_results_after.loc[(final_results_after.data == 'test') & \n",
    "                                                (final_results_after.f1score == \n",
    "                                                 best_test_score_after)].model.values[0]\n",
    "print(f'The model with the best F1_score after the hyperparameter tuning is {best_test_model_after}, score: {round(best_test_score_after, 3)}')"
   ]
  },
  {
   "cell_type": "code",
   "execution_count": null,
   "metadata": {},
   "outputs": [],
   "source": [
    "## Make heatmap to draw conclusions"
   ]
  }
 ],
 "metadata": {
  "kernelspec": {
   "display_name": "Python 3",
   "language": "python",
   "name": "python3"
  },
  "language_info": {
   "codemirror_mode": {
    "name": "ipython",
    "version": 3
   },
   "file_extension": ".py",
   "mimetype": "text/x-python",
   "name": "python",
   "nbconvert_exporter": "python",
   "pygments_lexer": "ipython3",
   "version": "3.7.4"
  },
  "toc": {
   "base_numbering": 1,
   "nav_menu": {},
   "number_sections": true,
   "sideBar": true,
   "skip_h1_title": false,
   "title_cell": "Table of Contents",
   "title_sidebar": "Contents",
   "toc_cell": false,
   "toc_position": {
    "height": "calc(100% - 180px)",
    "left": "10px",
    "top": "150px",
    "width": "244.99px"
   },
   "toc_section_display": true,
   "toc_window_display": true
  },
  "varInspector": {
   "cols": {
    "lenName": 16,
    "lenType": 16,
    "lenVar": 40
   },
   "kernels_config": {
    "python": {
     "delete_cmd_postfix": "",
     "delete_cmd_prefix": "del ",
     "library": "var_list.py",
     "varRefreshCmd": "print(var_dic_list())"
    },
    "r": {
     "delete_cmd_postfix": ") ",
     "delete_cmd_prefix": "rm(",
     "library": "var_list.r",
     "varRefreshCmd": "cat(var_dic_list()) "
    }
   },
   "types_to_exclude": [
    "module",
    "function",
    "builtin_function_or_method",
    "instance",
    "_Feature"
   ],
   "window_display": false
  }
 },
 "nbformat": 4,
 "nbformat_minor": 2
}
