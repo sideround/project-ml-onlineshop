{
 "cells": [
  {
   "cell_type": "markdown",
   "metadata": {},
   "source": [
    "# Imports"
   ]
  },
  {
   "cell_type": "markdown",
   "metadata": {},
   "source": [
    "## Libraries"
   ]
  },
  {
   "cell_type": "code",
   "execution_count": 1,
   "metadata": {
    "ExecuteTime": {
     "end_time": "2020-05-07T14:56:59.373623Z",
     "start_time": "2020-05-07T14:56:56.098368Z"
    }
   },
   "outputs": [
    {
     "name": "stderr",
     "output_type": "stream",
     "text": [
      "Using TensorFlow backend.\n"
     ]
    }
   ],
   "source": [
    "import random #can delete thsi when have sosas csv\n",
    "\n",
    "import pandas as pd\n",
    "import numpy as np\n",
    "import seaborn as sns\n",
    "import matplotlib.pyplot as plt\n",
    "\n",
    "from sklearn.preprocessing import LabelEncoder, OneHotEncoder\n",
    "from imblearn.under_sampling import NearMiss\n",
    "from sklearn.model_selection import train_test_split, GridSearchCV, StratifiedKFold, cross_val_score \n",
    "from sklearn.preprocessing import StandardScaler\n",
    "from sklearn.metrics import confusion_matrix, classification_report\n",
    "from sklearn.metrics import accuracy_score, precision_score, recall_score, f1_score, log_loss\n",
    "from sklearn.metrics import auc, roc_curve, roc_auc_score, precision_recall_curve\n",
    "from sklearn.model_selection import GridSearchCV"
   ]
  },
  {
   "cell_type": "code",
   "execution_count": 2,
   "metadata": {
    "ExecuteTime": {
     "end_time": "2020-05-07T14:56:59.379270Z",
     "start_time": "2020-05-07T14:56:59.375279Z"
    }
   },
   "outputs": [],
   "source": [
    "plt.rcParams[\"figure.figsize\"] = (10, 10)"
   ]
  },
  {
   "cell_type": "code",
   "execution_count": 3,
   "metadata": {
    "ExecuteTime": {
     "end_time": "2020-05-07T14:56:59.391236Z",
     "start_time": "2020-05-07T14:56:59.381264Z"
    }
   },
   "outputs": [],
   "source": [
    "import warnings\n",
    "warnings.filterwarnings('ignore')\n",
    "warnings.simplefilter('ignore')"
   ]
  },
  {
   "cell_type": "markdown",
   "metadata": {},
   "source": [
    "## Functions"
   ]
  },
  {
   "cell_type": "code",
   "execution_count": 4,
   "metadata": {
    "ExecuteTime": {
     "end_time": "2020-05-07T14:56:59.395232Z",
     "start_time": "2020-05-07T14:56:59.393231Z"
    }
   },
   "outputs": [],
   "source": [
    "#### ?\n",
    "# check if can have log loss for training and if it's ok to do it like this for train and test data"
   ]
  },
  {
   "cell_type": "code",
   "execution_count": 5,
   "metadata": {
    "ExecuteTime": {
     "end_time": "2020-05-07T14:56:59.410185Z",
     "start_time": "2020-05-07T14:56:59.397220Z"
    }
   },
   "outputs": [],
   "source": [
    "def baseline_report(model, X_train, X_test, y_train, y_test, name):\n",
    "    strat_k_fold = StratifiedKFold(n_splits=5, shuffle=True)\n",
    "    model.fit(X_train, y_train)\n",
    "    accuracy     = np.mean(cross_val_score(model, X_train, y_train, cv=strat_k_fold, scoring='accuracy'))\n",
    "    precision    = np.mean(cross_val_score(model, X_train, y_train, cv=strat_k_fold, scoring='precision'))\n",
    "    recall       = np.mean(cross_val_score(model, X_train, y_train, cv=strat_k_fold, scoring='recall'))\n",
    "    f1score      = np.mean(cross_val_score(model, X_train, y_train, cv=strat_k_fold, scoring='f1'))\n",
    "    rocauc       = np.mean(cross_val_score(model, X_train, y_train, cv=strat_k_fold, scoring='roc_auc'))\n",
    "\n",
    "    df_model_train = pd.DataFrame({'data'        : 'training',\n",
    "                             'model'        : [name],\n",
    "                             'accuracy'     : [accuracy],\n",
    "                             'precision'    : [precision],\n",
    "                             'recall'       : [recall],\n",
    "                             'f1score'      : [f1score],\n",
    "                             'rocauc'       : [rocauc],\n",
    "                             'logloss'      : 'N/A'})\n",
    "    \n",
    "    accuracy     = np.mean(cross_val_score(model, X_test, y_test, cv=strat_k_fold, scoring='accuracy'))\n",
    "    precision    = np.mean(cross_val_score(model, X_test, y_test, cv=strat_k_fold, scoring='precision'))\n",
    "    recall       = np.mean(cross_val_score(model, X_test, y_test, cv=strat_k_fold, scoring='recall'))\n",
    "    f1score      = np.mean(cross_val_score(model, X_test, y_test, cv=strat_k_fold, scoring='f1'))\n",
    "    rocauc       = np.mean(cross_val_score(model, X_test, y_test, cv=strat_k_fold, scoring='roc_auc'))\n",
    "    y_pred = model.predict(X_test)\n",
    "    logloss      = log_loss(y_test, y_pred)   # SVC & LinearSVC unable to use cvs\n",
    "\n",
    "    df_model_test = pd.DataFrame({'data'        : 'test',\n",
    "                             'model'        : [name],\n",
    "                             'accuracy'     : [accuracy],\n",
    "                             'precision'    : [precision],\n",
    "                             'recall'       : [recall],\n",
    "                             'f1score'      : [f1score],\n",
    "                             'rocauc'       : [rocauc],\n",
    "                             'logloss'      : [logloss]})   # timetaken: to be used for comparison later\n",
    "    \n",
    "    df_model = pd.concat([df_model_train, df_model_test])\n",
    "\n",
    "    return df_model"
   ]
  },
  {
   "cell_type": "code",
   "execution_count": 6,
   "metadata": {
    "ExecuteTime": {
     "end_time": "2020-05-07T14:56:59.417168Z",
     "start_time": "2020-05-07T14:56:59.412182Z"
    }
   },
   "outputs": [],
   "source": [
    "def plot_feature_importances(model, df):\n",
    "    names = df.columns[model.feature_importances_.argsort()]\n",
    "    model.feature_importances_.sort()\n",
    "    plt.figure(figsize=(15,15))\n",
    "    n_features = len(names)\n",
    "    plt.barh(range(n_features), np.sort(model.feature_importances_), align='center')\n",
    "    plt.yticks(np.arange(n_features), names)\n",
    "    plt.xlabel(\"Feature importance\")\n",
    "    plt.ylabel(\"Feature\")\n",
    "    plt.ylim(-1, n_features)"
   ]
  },
  {
   "cell_type": "markdown",
   "metadata": {},
   "source": [
    "## Data"
   ]
  },
  {
   "cell_type": "code",
   "execution_count": 7,
   "metadata": {
    "ExecuteTime": {
     "end_time": "2020-05-07T14:56:59.421158Z",
     "start_time": "2020-05-07T14:56:59.418166Z"
    }
   },
   "outputs": [],
   "source": [
    "# Importing clean dataframe (with NaNs filled)\n",
    "\n",
    "#df = pd.read_csv('data/xx.csv')"
   ]
  },
  {
   "cell_type": "code",
   "execution_count": 8,
   "metadata": {
    "ExecuteTime": {
     "end_time": "2020-05-07T14:56:59.471039Z",
     "start_time": "2020-05-07T14:56:59.424150Z"
    }
   },
   "outputs": [],
   "source": [
    "###### To delete this step when have the dataframe from sosa\n",
    "\n",
    "# since don't have yeat the real df, will upload the old one\n",
    "\n",
    "df = pd.read_csv('data/clean_tf.csv')\n",
    "\n",
    "df = df.fillna(method='ffill')\n",
    "df = df.drop('Unnamed: 0', axis=1)\n",
    "\n",
    "rand = [random.random() for i in range(len(df))]\n",
    "df['random'] = rand"
   ]
  },
  {
   "cell_type": "code",
   "execution_count": 9,
   "metadata": {
    "ExecuteTime": {
     "end_time": "2020-05-07T14:56:59.493963Z",
     "start_time": "2020-05-07T14:56:59.473017Z"
    }
   },
   "outputs": [
    {
     "data": {
      "text/html": [
       "<div>\n",
       "<style scoped>\n",
       "    .dataframe tbody tr th:only-of-type {\n",
       "        vertical-align: middle;\n",
       "    }\n",
       "\n",
       "    .dataframe tbody tr th {\n",
       "        vertical-align: top;\n",
       "    }\n",
       "\n",
       "    .dataframe thead th {\n",
       "        text-align: right;\n",
       "    }\n",
       "</style>\n",
       "<table border=\"1\" class=\"dataframe\">\n",
       "  <thead>\n",
       "    <tr style=\"text-align: right;\">\n",
       "      <th></th>\n",
       "      <th>Administrative</th>\n",
       "      <th>Administrative_Duration</th>\n",
       "      <th>Informational</th>\n",
       "      <th>Informational_Duration</th>\n",
       "      <th>ProductRelated</th>\n",
       "      <th>ProductRelated_Duration</th>\n",
       "      <th>BounceRates</th>\n",
       "      <th>ExitRates</th>\n",
       "      <th>PageValues</th>\n",
       "      <th>SpecialDay</th>\n",
       "      <th>...</th>\n",
       "      <th>OperatingSystems</th>\n",
       "      <th>Browser</th>\n",
       "      <th>Region</th>\n",
       "      <th>TrafficType</th>\n",
       "      <th>VisitorType</th>\n",
       "      <th>Weekend</th>\n",
       "      <th>Revenue</th>\n",
       "      <th>AnyPage</th>\n",
       "      <th>Visitor_isReturning</th>\n",
       "      <th>random</th>\n",
       "    </tr>\n",
       "  </thead>\n",
       "  <tbody>\n",
       "    <tr>\n",
       "      <td>0</td>\n",
       "      <td>0.0</td>\n",
       "      <td>0.0</td>\n",
       "      <td>0.0</td>\n",
       "      <td>0.0</td>\n",
       "      <td>1.0</td>\n",
       "      <td>0.000000</td>\n",
       "      <td>0.20</td>\n",
       "      <td>0.20</td>\n",
       "      <td>0.0</td>\n",
       "      <td>0.0</td>\n",
       "      <td>...</td>\n",
       "      <td>1.0</td>\n",
       "      <td>1.0</td>\n",
       "      <td>1.0</td>\n",
       "      <td>1.0</td>\n",
       "      <td>Returning_Visitor</td>\n",
       "      <td>0.0</td>\n",
       "      <td>False</td>\n",
       "      <td>1.0</td>\n",
       "      <td>1.0</td>\n",
       "      <td>0.119733</td>\n",
       "    </tr>\n",
       "    <tr>\n",
       "      <td>1</td>\n",
       "      <td>0.0</td>\n",
       "      <td>0.0</td>\n",
       "      <td>0.0</td>\n",
       "      <td>0.0</td>\n",
       "      <td>2.0</td>\n",
       "      <td>64.000000</td>\n",
       "      <td>0.00</td>\n",
       "      <td>0.10</td>\n",
       "      <td>0.0</td>\n",
       "      <td>0.0</td>\n",
       "      <td>...</td>\n",
       "      <td>2.0</td>\n",
       "      <td>2.0</td>\n",
       "      <td>1.0</td>\n",
       "      <td>2.0</td>\n",
       "      <td>Returning_Visitor</td>\n",
       "      <td>0.0</td>\n",
       "      <td>False</td>\n",
       "      <td>2.0</td>\n",
       "      <td>1.0</td>\n",
       "      <td>0.746880</td>\n",
       "    </tr>\n",
       "    <tr>\n",
       "      <td>2</td>\n",
       "      <td>0.0</td>\n",
       "      <td>0.0</td>\n",
       "      <td>0.0</td>\n",
       "      <td>0.0</td>\n",
       "      <td>1.0</td>\n",
       "      <td>64.000000</td>\n",
       "      <td>0.20</td>\n",
       "      <td>0.20</td>\n",
       "      <td>0.0</td>\n",
       "      <td>0.0</td>\n",
       "      <td>...</td>\n",
       "      <td>4.0</td>\n",
       "      <td>1.0</td>\n",
       "      <td>9.0</td>\n",
       "      <td>3.0</td>\n",
       "      <td>Returning_Visitor</td>\n",
       "      <td>0.0</td>\n",
       "      <td>False</td>\n",
       "      <td>1.0</td>\n",
       "      <td>1.0</td>\n",
       "      <td>0.250035</td>\n",
       "    </tr>\n",
       "    <tr>\n",
       "      <td>3</td>\n",
       "      <td>0.0</td>\n",
       "      <td>0.0</td>\n",
       "      <td>0.0</td>\n",
       "      <td>0.0</td>\n",
       "      <td>2.0</td>\n",
       "      <td>2.666667</td>\n",
       "      <td>0.05</td>\n",
       "      <td>0.14</td>\n",
       "      <td>0.0</td>\n",
       "      <td>0.0</td>\n",
       "      <td>...</td>\n",
       "      <td>3.0</td>\n",
       "      <td>2.0</td>\n",
       "      <td>2.0</td>\n",
       "      <td>4.0</td>\n",
       "      <td>Returning_Visitor</td>\n",
       "      <td>0.0</td>\n",
       "      <td>False</td>\n",
       "      <td>2.0</td>\n",
       "      <td>1.0</td>\n",
       "      <td>0.532047</td>\n",
       "    </tr>\n",
       "    <tr>\n",
       "      <td>4</td>\n",
       "      <td>0.0</td>\n",
       "      <td>0.0</td>\n",
       "      <td>0.0</td>\n",
       "      <td>0.0</td>\n",
       "      <td>10.0</td>\n",
       "      <td>627.500000</td>\n",
       "      <td>0.02</td>\n",
       "      <td>0.05</td>\n",
       "      <td>0.0</td>\n",
       "      <td>0.0</td>\n",
       "      <td>...</td>\n",
       "      <td>3.0</td>\n",
       "      <td>99.0</td>\n",
       "      <td>1.0</td>\n",
       "      <td>4.0</td>\n",
       "      <td>Returning_Visitor</td>\n",
       "      <td>1.0</td>\n",
       "      <td>False</td>\n",
       "      <td>10.0</td>\n",
       "      <td>1.0</td>\n",
       "      <td>0.876952</td>\n",
       "    </tr>\n",
       "  </tbody>\n",
       "</table>\n",
       "<p>5 rows × 21 columns</p>\n",
       "</div>"
      ],
      "text/plain": [
       "   Administrative  Administrative_Duration  Informational  \\\n",
       "0             0.0                      0.0            0.0   \n",
       "1             0.0                      0.0            0.0   \n",
       "2             0.0                      0.0            0.0   \n",
       "3             0.0                      0.0            0.0   \n",
       "4             0.0                      0.0            0.0   \n",
       "\n",
       "   Informational_Duration  ProductRelated  ProductRelated_Duration  \\\n",
       "0                     0.0             1.0                 0.000000   \n",
       "1                     0.0             2.0                64.000000   \n",
       "2                     0.0             1.0                64.000000   \n",
       "3                     0.0             2.0                 2.666667   \n",
       "4                     0.0            10.0               627.500000   \n",
       "\n",
       "   BounceRates  ExitRates  PageValues  SpecialDay  ... OperatingSystems  \\\n",
       "0         0.20       0.20         0.0         0.0  ...              1.0   \n",
       "1         0.00       0.10         0.0         0.0  ...              2.0   \n",
       "2         0.20       0.20         0.0         0.0  ...              4.0   \n",
       "3         0.05       0.14         0.0         0.0  ...              3.0   \n",
       "4         0.02       0.05         0.0         0.0  ...              3.0   \n",
       "\n",
       "   Browser  Region  TrafficType        VisitorType Weekend  Revenue  AnyPage  \\\n",
       "0      1.0     1.0          1.0  Returning_Visitor     0.0    False      1.0   \n",
       "1      2.0     1.0          2.0  Returning_Visitor     0.0    False      2.0   \n",
       "2      1.0     9.0          3.0  Returning_Visitor     0.0    False      1.0   \n",
       "3      2.0     2.0          4.0  Returning_Visitor     0.0    False      2.0   \n",
       "4     99.0     1.0          4.0  Returning_Visitor     1.0    False     10.0   \n",
       "\n",
       "   Visitor_isReturning    random  \n",
       "0                  1.0  0.119733  \n",
       "1                  1.0  0.746880  \n",
       "2                  1.0  0.250035  \n",
       "3                  1.0  0.532047  \n",
       "4                  1.0  0.876952  \n",
       "\n",
       "[5 rows x 21 columns]"
      ]
     },
     "execution_count": 9,
     "metadata": {},
     "output_type": "execute_result"
    }
   ],
   "source": [
    "# Checking if imported data is correct\n",
    "\n",
    "df.head()"
   ]
  },
  {
   "cell_type": "code",
   "execution_count": 10,
   "metadata": {
    "ExecuteTime": {
     "end_time": "2020-05-07T14:56:59.501940Z",
     "start_time": "2020-05-07T14:56:59.495957Z"
    }
   },
   "outputs": [
    {
     "data": {
      "text/plain": [
       "Administrative             float64\n",
       "Administrative_Duration    float64\n",
       "Informational              float64\n",
       "Informational_Duration     float64\n",
       "ProductRelated             float64\n",
       "ProductRelated_Duration    float64\n",
       "BounceRates                float64\n",
       "ExitRates                  float64\n",
       "PageValues                 float64\n",
       "SpecialDay                 float64\n",
       "Month                       object\n",
       "OperatingSystems           float64\n",
       "Browser                    float64\n",
       "Region                     float64\n",
       "TrafficType                float64\n",
       "VisitorType                 object\n",
       "Weekend                    float64\n",
       "Revenue                       bool\n",
       "AnyPage                    float64\n",
       "Visitor_isReturning        float64\n",
       "random                     float64\n",
       "dtype: object"
      ]
     },
     "execution_count": 10,
     "metadata": {},
     "output_type": "execute_result"
    }
   ],
   "source": [
    "# Checking the types of the variables\n",
    "\n",
    "df.dtypes"
   ]
  },
  {
   "cell_type": "markdown",
   "metadata": {},
   "source": [
    "# Prepare Training Data"
   ]
  },
  {
   "cell_type": "markdown",
   "metadata": {},
   "source": [
    "##TODO:\n",
    "Make function that works with different train-test, different scaling, and different balancing\n",
    "Output: Descriptive dataframe"
   ]
  },
  {
   "cell_type": "markdown",
   "metadata": {},
   "source": [
    "## Data Encoding"
   ]
  },
  {
   "cell_type": "markdown",
   "metadata": {},
   "source": [
    "We're encoding categorical variables to be able to use them in the models of the machine learning.\n"
   ]
  },
  {
   "cell_type": "markdown",
   "metadata": {},
   "source": [
    "### Label Encoder"
   ]
  },
  {
   "cell_type": "markdown",
   "metadata": {},
   "source": [
    "Using Label Encoder for the columns Revenue and Weekend because these columns have only two categories."
   ]
  },
  {
   "cell_type": "code",
   "execution_count": 11,
   "metadata": {
    "ExecuteTime": {
     "end_time": "2020-05-07T14:56:59.510916Z",
     "start_time": "2020-05-07T14:56:59.503935Z"
    }
   },
   "outputs": [],
   "source": [
    "# Creating the instance of labelencoder\n",
    "labelencoder = LabelEncoder()\n",
    "\n",
    "# Assigning the columns\n",
    "cols_label_enc = ['Revenue', 'Weekend']\n",
    "\n",
    "# Creating labels for the columns\n",
    "for col in cols_label_enc:\n",
    "    df[col+'_enc'] = labelencoder.fit_transform(df[col])"
   ]
  },
  {
   "cell_type": "markdown",
   "metadata": {
    "ExecuteTime": {
     "end_time": "2020-05-06T16:29:39.088671Z",
     "start_time": "2020-05-06T16:29:39.085695Z"
    }
   },
   "source": [
    "### OneHotEncoder"
   ]
  },
  {
   "cell_type": "markdown",
   "metadata": {},
   "source": [
    "We are using OneHotEncoder for Month, OperatingSystems, Region, TrafficType and Browser columns because they have more than two categories."
   ]
  },
  {
   "cell_type": "code",
   "execution_count": 12,
   "metadata": {
    "ExecuteTime": {
     "end_time": "2020-05-07T14:56:59.562780Z",
     "start_time": "2020-05-07T14:56:59.512911Z"
    }
   },
   "outputs": [
    {
     "data": {
      "text/html": [
       "<div>\n",
       "<style scoped>\n",
       "    .dataframe tbody tr th:only-of-type {\n",
       "        vertical-align: middle;\n",
       "    }\n",
       "\n",
       "    .dataframe tbody tr th {\n",
       "        vertical-align: top;\n",
       "    }\n",
       "\n",
       "    .dataframe thead th {\n",
       "        text-align: right;\n",
       "    }\n",
       "</style>\n",
       "<table border=\"1\" class=\"dataframe\">\n",
       "  <thead>\n",
       "    <tr style=\"text-align: right;\">\n",
       "      <th></th>\n",
       "      <th>Administrative</th>\n",
       "      <th>Administrative_Duration</th>\n",
       "      <th>Informational</th>\n",
       "      <th>Informational_Duration</th>\n",
       "      <th>ProductRelated</th>\n",
       "      <th>ProductRelated_Duration</th>\n",
       "      <th>BounceRates</th>\n",
       "      <th>ExitRates</th>\n",
       "      <th>PageValues</th>\n",
       "      <th>SpecialDay</th>\n",
       "      <th>...</th>\n",
       "      <th>x0_4.0TrafficType</th>\n",
       "      <th>x0_5.0TrafficType</th>\n",
       "      <th>x0_6.0TrafficType</th>\n",
       "      <th>x0_8.0TrafficType</th>\n",
       "      <th>x0_9.0TrafficType</th>\n",
       "      <th>x0_10.0TrafficType</th>\n",
       "      <th>x0_11.0TrafficType</th>\n",
       "      <th>x0_13.0TrafficType</th>\n",
       "      <th>x0_20.0TrafficType</th>\n",
       "      <th>x0_99.0TrafficType</th>\n",
       "    </tr>\n",
       "  </thead>\n",
       "  <tbody>\n",
       "    <tr>\n",
       "      <td>0</td>\n",
       "      <td>0.0</td>\n",
       "      <td>0.0</td>\n",
       "      <td>0.0</td>\n",
       "      <td>0.0</td>\n",
       "      <td>1.0</td>\n",
       "      <td>0.000000</td>\n",
       "      <td>0.20</td>\n",
       "      <td>0.20</td>\n",
       "      <td>0.0</td>\n",
       "      <td>0.0</td>\n",
       "      <td>...</td>\n",
       "      <td>0.0</td>\n",
       "      <td>0.0</td>\n",
       "      <td>0.0</td>\n",
       "      <td>0.0</td>\n",
       "      <td>0.0</td>\n",
       "      <td>0.0</td>\n",
       "      <td>0.0</td>\n",
       "      <td>0.0</td>\n",
       "      <td>0.0</td>\n",
       "      <td>0.0</td>\n",
       "    </tr>\n",
       "    <tr>\n",
       "      <td>1</td>\n",
       "      <td>0.0</td>\n",
       "      <td>0.0</td>\n",
       "      <td>0.0</td>\n",
       "      <td>0.0</td>\n",
       "      <td>2.0</td>\n",
       "      <td>64.000000</td>\n",
       "      <td>0.00</td>\n",
       "      <td>0.10</td>\n",
       "      <td>0.0</td>\n",
       "      <td>0.0</td>\n",
       "      <td>...</td>\n",
       "      <td>0.0</td>\n",
       "      <td>0.0</td>\n",
       "      <td>0.0</td>\n",
       "      <td>0.0</td>\n",
       "      <td>0.0</td>\n",
       "      <td>0.0</td>\n",
       "      <td>0.0</td>\n",
       "      <td>0.0</td>\n",
       "      <td>0.0</td>\n",
       "      <td>0.0</td>\n",
       "    </tr>\n",
       "    <tr>\n",
       "      <td>2</td>\n",
       "      <td>0.0</td>\n",
       "      <td>0.0</td>\n",
       "      <td>0.0</td>\n",
       "      <td>0.0</td>\n",
       "      <td>1.0</td>\n",
       "      <td>64.000000</td>\n",
       "      <td>0.20</td>\n",
       "      <td>0.20</td>\n",
       "      <td>0.0</td>\n",
       "      <td>0.0</td>\n",
       "      <td>...</td>\n",
       "      <td>0.0</td>\n",
       "      <td>0.0</td>\n",
       "      <td>0.0</td>\n",
       "      <td>0.0</td>\n",
       "      <td>0.0</td>\n",
       "      <td>0.0</td>\n",
       "      <td>0.0</td>\n",
       "      <td>0.0</td>\n",
       "      <td>0.0</td>\n",
       "      <td>0.0</td>\n",
       "    </tr>\n",
       "    <tr>\n",
       "      <td>3</td>\n",
       "      <td>0.0</td>\n",
       "      <td>0.0</td>\n",
       "      <td>0.0</td>\n",
       "      <td>0.0</td>\n",
       "      <td>2.0</td>\n",
       "      <td>2.666667</td>\n",
       "      <td>0.05</td>\n",
       "      <td>0.14</td>\n",
       "      <td>0.0</td>\n",
       "      <td>0.0</td>\n",
       "      <td>...</td>\n",
       "      <td>1.0</td>\n",
       "      <td>0.0</td>\n",
       "      <td>0.0</td>\n",
       "      <td>0.0</td>\n",
       "      <td>0.0</td>\n",
       "      <td>0.0</td>\n",
       "      <td>0.0</td>\n",
       "      <td>0.0</td>\n",
       "      <td>0.0</td>\n",
       "      <td>0.0</td>\n",
       "    </tr>\n",
       "    <tr>\n",
       "      <td>4</td>\n",
       "      <td>0.0</td>\n",
       "      <td>0.0</td>\n",
       "      <td>0.0</td>\n",
       "      <td>0.0</td>\n",
       "      <td>10.0</td>\n",
       "      <td>627.500000</td>\n",
       "      <td>0.02</td>\n",
       "      <td>0.05</td>\n",
       "      <td>0.0</td>\n",
       "      <td>0.0</td>\n",
       "      <td>...</td>\n",
       "      <td>1.0</td>\n",
       "      <td>0.0</td>\n",
       "      <td>0.0</td>\n",
       "      <td>0.0</td>\n",
       "      <td>0.0</td>\n",
       "      <td>0.0</td>\n",
       "      <td>0.0</td>\n",
       "      <td>0.0</td>\n",
       "      <td>0.0</td>\n",
       "      <td>0.0</td>\n",
       "    </tr>\n",
       "  </tbody>\n",
       "</table>\n",
       "<p>5 rows × 68 columns</p>\n",
       "</div>"
      ],
      "text/plain": [
       "   Administrative  Administrative_Duration  Informational  \\\n",
       "0             0.0                      0.0            0.0   \n",
       "1             0.0                      0.0            0.0   \n",
       "2             0.0                      0.0            0.0   \n",
       "3             0.0                      0.0            0.0   \n",
       "4             0.0                      0.0            0.0   \n",
       "\n",
       "   Informational_Duration  ProductRelated  ProductRelated_Duration  \\\n",
       "0                     0.0             1.0                 0.000000   \n",
       "1                     0.0             2.0                64.000000   \n",
       "2                     0.0             1.0                64.000000   \n",
       "3                     0.0             2.0                 2.666667   \n",
       "4                     0.0            10.0               627.500000   \n",
       "\n",
       "   BounceRates  ExitRates  PageValues  SpecialDay  ... x0_4.0TrafficType  \\\n",
       "0         0.20       0.20         0.0         0.0  ...               0.0   \n",
       "1         0.00       0.10         0.0         0.0  ...               0.0   \n",
       "2         0.20       0.20         0.0         0.0  ...               0.0   \n",
       "3         0.05       0.14         0.0         0.0  ...               1.0   \n",
       "4         0.02       0.05         0.0         0.0  ...               1.0   \n",
       "\n",
       "   x0_5.0TrafficType  x0_6.0TrafficType  x0_8.0TrafficType  x0_9.0TrafficType  \\\n",
       "0                0.0                0.0                0.0                0.0   \n",
       "1                0.0                0.0                0.0                0.0   \n",
       "2                0.0                0.0                0.0                0.0   \n",
       "3                0.0                0.0                0.0                0.0   \n",
       "4                0.0                0.0                0.0                0.0   \n",
       "\n",
       "  x0_10.0TrafficType  x0_11.0TrafficType  x0_13.0TrafficType  \\\n",
       "0                0.0                 0.0                 0.0   \n",
       "1                0.0                 0.0                 0.0   \n",
       "2                0.0                 0.0                 0.0   \n",
       "3                0.0                 0.0                 0.0   \n",
       "4                0.0                 0.0                 0.0   \n",
       "\n",
       "   x0_20.0TrafficType  x0_99.0TrafficType  \n",
       "0                 0.0                 0.0  \n",
       "1                 0.0                 0.0  \n",
       "2                 0.0                 0.0  \n",
       "3                 0.0                 0.0  \n",
       "4                 0.0                 0.0  \n",
       "\n",
       "[5 rows x 68 columns]"
      ]
     },
     "execution_count": 12,
     "metadata": {},
     "output_type": "execute_result"
    }
   ],
   "source": [
    "appended_dfs = []\n",
    "\n",
    "columns = ['Month', 'OperatingSystems', 'Region', 'Browser', 'TrafficType']\n",
    "\n",
    "for col in columns:\n",
    "    # Creating instance of one-hot-encoder\n",
    "    enc = OneHotEncoder(handle_unknown='ignore')\n",
    "    # Passing columns\n",
    "    enc_df = pd.DataFrame(enc.fit_transform(df[[col]]).toarray())\n",
    "    # Getting values for the names of the columns\n",
    "    enc_df.columns = enc.get_feature_names()+col\n",
    "    # Appenign all new dfs to one list\n",
    "    appended_dfs.append(enc_df)\n",
    "# Mergeing with the main df\n",
    "df_encoded = df.join(appended_dfs) \n",
    "df_encoded.head()"
   ]
  },
  {
   "cell_type": "markdown",
   "metadata": {},
   "source": [
    "Deleting the columns that were encoded:"
   ]
  },
  {
   "cell_type": "code",
   "execution_count": 13,
   "metadata": {
    "ExecuteTime": {
     "end_time": "2020-05-07T14:56:59.570758Z",
     "start_time": "2020-05-07T14:56:59.563775Z"
    }
   },
   "outputs": [],
   "source": [
    "cols_drop = ['Revenue', 'Weekend', 'Month', 'OperatingSystems', 'Region', 'Browser', 'TrafficType', 'VisitorType']\n",
    "df_encoded.drop(columns=cols_drop, inplace=True)"
   ]
  },
  {
   "cell_type": "code",
   "execution_count": 14,
   "metadata": {
    "ExecuteTime": {
     "end_time": "2020-05-07T14:56:59.588709Z",
     "start_time": "2020-05-07T14:56:59.571753Z"
    }
   },
   "outputs": [
    {
     "data": {
      "text/html": [
       "<div>\n",
       "<style scoped>\n",
       "    .dataframe tbody tr th:only-of-type {\n",
       "        vertical-align: middle;\n",
       "    }\n",
       "\n",
       "    .dataframe tbody tr th {\n",
       "        vertical-align: top;\n",
       "    }\n",
       "\n",
       "    .dataframe thead th {\n",
       "        text-align: right;\n",
       "    }\n",
       "</style>\n",
       "<table border=\"1\" class=\"dataframe\">\n",
       "  <thead>\n",
       "    <tr style=\"text-align: right;\">\n",
       "      <th></th>\n",
       "      <th>Administrative</th>\n",
       "      <th>Administrative_Duration</th>\n",
       "      <th>Informational</th>\n",
       "      <th>Informational_Duration</th>\n",
       "      <th>ProductRelated</th>\n",
       "      <th>ProductRelated_Duration</th>\n",
       "      <th>BounceRates</th>\n",
       "      <th>ExitRates</th>\n",
       "      <th>PageValues</th>\n",
       "      <th>SpecialDay</th>\n",
       "      <th>...</th>\n",
       "      <th>x0_4.0TrafficType</th>\n",
       "      <th>x0_5.0TrafficType</th>\n",
       "      <th>x0_6.0TrafficType</th>\n",
       "      <th>x0_8.0TrafficType</th>\n",
       "      <th>x0_9.0TrafficType</th>\n",
       "      <th>x0_10.0TrafficType</th>\n",
       "      <th>x0_11.0TrafficType</th>\n",
       "      <th>x0_13.0TrafficType</th>\n",
       "      <th>x0_20.0TrafficType</th>\n",
       "      <th>x0_99.0TrafficType</th>\n",
       "    </tr>\n",
       "  </thead>\n",
       "  <tbody>\n",
       "    <tr>\n",
       "      <td>0</td>\n",
       "      <td>0.0</td>\n",
       "      <td>0.0</td>\n",
       "      <td>0.0</td>\n",
       "      <td>0.0</td>\n",
       "      <td>1.0</td>\n",
       "      <td>0.000000</td>\n",
       "      <td>0.20</td>\n",
       "      <td>0.20</td>\n",
       "      <td>0.0</td>\n",
       "      <td>0.0</td>\n",
       "      <td>...</td>\n",
       "      <td>0.0</td>\n",
       "      <td>0.0</td>\n",
       "      <td>0.0</td>\n",
       "      <td>0.0</td>\n",
       "      <td>0.0</td>\n",
       "      <td>0.0</td>\n",
       "      <td>0.0</td>\n",
       "      <td>0.0</td>\n",
       "      <td>0.0</td>\n",
       "      <td>0.0</td>\n",
       "    </tr>\n",
       "    <tr>\n",
       "      <td>1</td>\n",
       "      <td>0.0</td>\n",
       "      <td>0.0</td>\n",
       "      <td>0.0</td>\n",
       "      <td>0.0</td>\n",
       "      <td>2.0</td>\n",
       "      <td>64.000000</td>\n",
       "      <td>0.00</td>\n",
       "      <td>0.10</td>\n",
       "      <td>0.0</td>\n",
       "      <td>0.0</td>\n",
       "      <td>...</td>\n",
       "      <td>0.0</td>\n",
       "      <td>0.0</td>\n",
       "      <td>0.0</td>\n",
       "      <td>0.0</td>\n",
       "      <td>0.0</td>\n",
       "      <td>0.0</td>\n",
       "      <td>0.0</td>\n",
       "      <td>0.0</td>\n",
       "      <td>0.0</td>\n",
       "      <td>0.0</td>\n",
       "    </tr>\n",
       "    <tr>\n",
       "      <td>2</td>\n",
       "      <td>0.0</td>\n",
       "      <td>0.0</td>\n",
       "      <td>0.0</td>\n",
       "      <td>0.0</td>\n",
       "      <td>1.0</td>\n",
       "      <td>64.000000</td>\n",
       "      <td>0.20</td>\n",
       "      <td>0.20</td>\n",
       "      <td>0.0</td>\n",
       "      <td>0.0</td>\n",
       "      <td>...</td>\n",
       "      <td>0.0</td>\n",
       "      <td>0.0</td>\n",
       "      <td>0.0</td>\n",
       "      <td>0.0</td>\n",
       "      <td>0.0</td>\n",
       "      <td>0.0</td>\n",
       "      <td>0.0</td>\n",
       "      <td>0.0</td>\n",
       "      <td>0.0</td>\n",
       "      <td>0.0</td>\n",
       "    </tr>\n",
       "    <tr>\n",
       "      <td>3</td>\n",
       "      <td>0.0</td>\n",
       "      <td>0.0</td>\n",
       "      <td>0.0</td>\n",
       "      <td>0.0</td>\n",
       "      <td>2.0</td>\n",
       "      <td>2.666667</td>\n",
       "      <td>0.05</td>\n",
       "      <td>0.14</td>\n",
       "      <td>0.0</td>\n",
       "      <td>0.0</td>\n",
       "      <td>...</td>\n",
       "      <td>1.0</td>\n",
       "      <td>0.0</td>\n",
       "      <td>0.0</td>\n",
       "      <td>0.0</td>\n",
       "      <td>0.0</td>\n",
       "      <td>0.0</td>\n",
       "      <td>0.0</td>\n",
       "      <td>0.0</td>\n",
       "      <td>0.0</td>\n",
       "      <td>0.0</td>\n",
       "    </tr>\n",
       "    <tr>\n",
       "      <td>4</td>\n",
       "      <td>0.0</td>\n",
       "      <td>0.0</td>\n",
       "      <td>0.0</td>\n",
       "      <td>0.0</td>\n",
       "      <td>10.0</td>\n",
       "      <td>627.500000</td>\n",
       "      <td>0.02</td>\n",
       "      <td>0.05</td>\n",
       "      <td>0.0</td>\n",
       "      <td>0.0</td>\n",
       "      <td>...</td>\n",
       "      <td>1.0</td>\n",
       "      <td>0.0</td>\n",
       "      <td>0.0</td>\n",
       "      <td>0.0</td>\n",
       "      <td>0.0</td>\n",
       "      <td>0.0</td>\n",
       "      <td>0.0</td>\n",
       "      <td>0.0</td>\n",
       "      <td>0.0</td>\n",
       "      <td>0.0</td>\n",
       "    </tr>\n",
       "  </tbody>\n",
       "</table>\n",
       "<p>5 rows × 60 columns</p>\n",
       "</div>"
      ],
      "text/plain": [
       "   Administrative  Administrative_Duration  Informational  \\\n",
       "0             0.0                      0.0            0.0   \n",
       "1             0.0                      0.0            0.0   \n",
       "2             0.0                      0.0            0.0   \n",
       "3             0.0                      0.0            0.0   \n",
       "4             0.0                      0.0            0.0   \n",
       "\n",
       "   Informational_Duration  ProductRelated  ProductRelated_Duration  \\\n",
       "0                     0.0             1.0                 0.000000   \n",
       "1                     0.0             2.0                64.000000   \n",
       "2                     0.0             1.0                64.000000   \n",
       "3                     0.0             2.0                 2.666667   \n",
       "4                     0.0            10.0               627.500000   \n",
       "\n",
       "   BounceRates  ExitRates  PageValues  SpecialDay  ...  x0_4.0TrafficType  \\\n",
       "0         0.20       0.20         0.0         0.0  ...                0.0   \n",
       "1         0.00       0.10         0.0         0.0  ...                0.0   \n",
       "2         0.20       0.20         0.0         0.0  ...                0.0   \n",
       "3         0.05       0.14         0.0         0.0  ...                1.0   \n",
       "4         0.02       0.05         0.0         0.0  ...                1.0   \n",
       "\n",
       "   x0_5.0TrafficType  x0_6.0TrafficType  x0_8.0TrafficType  x0_9.0TrafficType  \\\n",
       "0                0.0                0.0                0.0                0.0   \n",
       "1                0.0                0.0                0.0                0.0   \n",
       "2                0.0                0.0                0.0                0.0   \n",
       "3                0.0                0.0                0.0                0.0   \n",
       "4                0.0                0.0                0.0                0.0   \n",
       "\n",
       "   x0_10.0TrafficType  x0_11.0TrafficType  x0_13.0TrafficType  \\\n",
       "0                 0.0                 0.0                 0.0   \n",
       "1                 0.0                 0.0                 0.0   \n",
       "2                 0.0                 0.0                 0.0   \n",
       "3                 0.0                 0.0                 0.0   \n",
       "4                 0.0                 0.0                 0.0   \n",
       "\n",
       "   x0_20.0TrafficType  x0_99.0TrafficType  \n",
       "0                 0.0                 0.0  \n",
       "1                 0.0                 0.0  \n",
       "2                 0.0                 0.0  \n",
       "3                 0.0                 0.0  \n",
       "4                 0.0                 0.0  \n",
       "\n",
       "[5 rows x 60 columns]"
      ]
     },
     "execution_count": 14,
     "metadata": {},
     "output_type": "execute_result"
    }
   ],
   "source": [
    "# Checking if the data is encoded correctly\n",
    "\n",
    "df_encoded.head()"
   ]
  },
  {
   "cell_type": "code",
   "execution_count": 15,
   "metadata": {
    "ExecuteTime": {
     "end_time": "2020-05-07T14:56:59.596688Z",
     "start_time": "2020-05-07T14:56:59.589705Z"
    }
   },
   "outputs": [
    {
     "data": {
      "text/plain": [
       "Administrative             float64\n",
       "Administrative_Duration    float64\n",
       "Informational              float64\n",
       "Informational_Duration     float64\n",
       "ProductRelated             float64\n",
       "ProductRelated_Duration    float64\n",
       "BounceRates                float64\n",
       "ExitRates                  float64\n",
       "PageValues                 float64\n",
       "SpecialDay                 float64\n",
       "AnyPage                    float64\n",
       "Visitor_isReturning        float64\n",
       "random                     float64\n",
       "Revenue_enc                  int64\n",
       "Weekend_enc                  int64\n",
       "x0_AugMonth                float64\n",
       "x0_DecMonth                float64\n",
       "x0_FebMonth                float64\n",
       "x0_JulMonth                float64\n",
       "x0_JuneMonth               float64\n",
       "x0_MarMonth                float64\n",
       "x0_MayMonth                float64\n",
       "x0_NovMonth                float64\n",
       "x0_OctMonth                float64\n",
       "x0_SepMonth                float64\n",
       "x0_1.0OperatingSystems     float64\n",
       "x0_2.0OperatingSystems     float64\n",
       "x0_3.0OperatingSystems     float64\n",
       "x0_4.0OperatingSystems     float64\n",
       "x0_99.0OperatingSystems    float64\n",
       "x0_1.0Region               float64\n",
       "x0_2.0Region               float64\n",
       "x0_3.0Region               float64\n",
       "x0_4.0Region               float64\n",
       "x0_5.0Region               float64\n",
       "x0_6.0Region               float64\n",
       "x0_7.0Region               float64\n",
       "x0_8.0Region               float64\n",
       "x0_9.0Region               float64\n",
       "x0_1.0Browser              float64\n",
       "x0_2.0Browser              float64\n",
       "x0_4.0Browser              float64\n",
       "x0_5.0Browser              float64\n",
       "x0_6.0Browser              float64\n",
       "x0_8.0Browser              float64\n",
       "x0_10.0Browser             float64\n",
       "x0_99.0Browser             float64\n",
       "x0_1.0TrafficType          float64\n",
       "x0_2.0TrafficType          float64\n",
       "x0_3.0TrafficType          float64\n",
       "x0_4.0TrafficType          float64\n",
       "x0_5.0TrafficType          float64\n",
       "x0_6.0TrafficType          float64\n",
       "x0_8.0TrafficType          float64\n",
       "x0_9.0TrafficType          float64\n",
       "x0_10.0TrafficType         float64\n",
       "x0_11.0TrafficType         float64\n",
       "x0_13.0TrafficType         float64\n",
       "x0_20.0TrafficType         float64\n",
       "x0_99.0TrafficType         float64\n",
       "dtype: object"
      ]
     },
     "execution_count": 15,
     "metadata": {},
     "output_type": "execute_result"
    }
   ],
   "source": [
    "df_encoded.dtypes"
   ]
  },
  {
   "cell_type": "markdown",
   "metadata": {},
   "source": [
    "### Exporting encoded data to csv"
   ]
  },
  {
   "cell_type": "code",
   "execution_count": 16,
   "metadata": {
    "ExecuteTime": {
     "end_time": "2020-05-07T14:57:00.065433Z",
     "start_time": "2020-05-07T14:56:59.597685Z"
    }
   },
   "outputs": [],
   "source": [
    "df_encoded.to_csv(\"data/df_encoded.csv\", index=True)"
   ]
  },
  {
   "cell_type": "markdown",
   "metadata": {},
   "source": [
    "## Data Split"
   ]
  },
  {
   "cell_type": "markdown",
   "metadata": {},
   "source": [
    "Splitting data to: <br> X - independent variables <br> y - dependent variable (outcome) <br><br>Eliminating PageValues from the independent variables because it is too dependent on the outcome, it will not be possible to use it in the prediction."
   ]
  },
  {
   "cell_type": "code",
   "execution_count": 17,
   "metadata": {
    "ExecuteTime": {
     "end_time": "2020-05-07T14:57:00.191099Z",
     "start_time": "2020-05-07T14:57:00.066430Z"
    }
   },
   "outputs": [
    {
     "name": "stdout",
     "output_type": "stream",
     "text": [
      "Original dataset shape X: 12330, y: 12330\n",
      "Original split between True and False:\n",
      "0    10422\n",
      "1     1908\n",
      "Name: Revenue_enc, dtype: int64\n"
     ]
    },
    {
     "data": {
      "image/png": "[encoded data removed]",
      "text/plain": [
       "<Figure size 720x720 with 1 Axes>"
      ]
     },
     "metadata": {
      "needs_background": "light"
     },
     "output_type": "display_data"
    }
   ],
   "source": [
    "X = df_encoded.drop(columns=['Revenue_enc', 'PageValues'])\n",
    "y = df_encoded['Revenue_enc']\n",
    "\n",
    "print(f'Original dataset shape X: {len(X)}, y: {len(y)}')\n",
    "print(f'Original split between True and False:\\n{y.value_counts()}')\n",
    "\n",
    "sns.countplot(y)\n",
    "plt.show()"
   ]
  },
  {
   "cell_type": "markdown",
   "metadata": {},
   "source": [
    "## Data Balancing (Undersampling)"
   ]
  },
  {
   "cell_type": "markdown",
   "metadata": {},
   "source": [
    "As identified in the EDA in the previous step, we have a problem of our data being imbalanced. We will use the Undersample method which is the most conveniant for our dataset."
   ]
  },
  {
   "cell_type": "markdown",
   "metadata": {},
   "source": [
    "### NearMiss"
   ]
  },
  {
   "cell_type": "code",
   "execution_count": 18,
   "metadata": {
    "ExecuteTime": {
     "end_time": "2020-05-07T14:57:00.196085Z",
     "start_time": "2020-05-07T14:57:00.192096Z"
    }
   },
   "outputs": [],
   "source": [
    "#### Explain why NearMiss"
   ]
  },
  {
   "cell_type": "code",
   "execution_count": 19,
   "metadata": {
    "ExecuteTime": {
     "end_time": "2020-05-07T14:57:00.566095Z",
     "start_time": "2020-05-07T14:57:00.197082Z"
    }
   },
   "outputs": [
    {
     "name": "stdout",
     "output_type": "stream",
     "text": [
      "Resampled dataset shape X: 3816, Y: 3816\n",
      "Resampled split between True and False:\n",
      "1    1908\n",
      "0    1908\n",
      "dtype: int64\n"
     ]
    },
    {
     "data": {
      "image/png": "[encoded data removed]",
      "text/plain": [
       "<Figure size 720x720 with 1 Axes>"
      ]
     },
     "metadata": {
      "needs_background": "light"
     },
     "output_type": "display_data"
    }
   ],
   "source": [
    "nr = NearMiss()\n",
    "X, y = nr.fit_sample(X, y)\n",
    "\n",
    "print(f'Resampled dataset shape X: {len(X)}, Y: {len(y)}')\n",
    "print(f'Resampled split between True and False:\\n{pd.Series(y).value_counts()}')\n",
    "\n",
    "sns.countplot(y)\n",
    "plt.show()"
   ]
  },
  {
   "cell_type": "markdown",
   "metadata": {},
   "source": [
    "## Selecting test and train data"
   ]
  },
  {
   "cell_type": "code",
   "execution_count": 20,
   "metadata": {
    "ExecuteTime": {
     "end_time": "2020-05-07T14:57:00.575069Z",
     "start_time": "2020-05-07T14:57:00.567092Z"
    }
   },
   "outputs": [],
   "source": [
    "X_train, X_test, y_train, y_test = train_test_split(X, y, test_size=0.3, shuffle=True, stratify=y, random_state=41)"
   ]
  },
  {
   "cell_type": "markdown",
   "metadata": {},
   "source": [
    "We define the train and test data in X training values and y target column.\n",
    "\n",
    "- With shuffle, we set whether or not to shuffle the data before splitting (Default True).\n",
    "- With stratify, we choose to split the data stritifying via labels (Default None)."
   ]
  },
  {
   "cell_type": "markdown",
   "metadata": {},
   "source": [
    "# Scaling"
   ]
  },
  {
   "cell_type": "markdown",
   "metadata": {},
   "source": [
    "Scaling allows us to standarize the numerical values of our dataset, centering to the mean."
   ]
  },
  {
   "cell_type": "markdown",
   "metadata": {},
   "source": [
    "## StandardScaler"
   ]
  },
  {
   "cell_type": "code",
   "execution_count": 21,
   "metadata": {
    "ExecuteTime": {
     "end_time": "2020-05-07T14:57:00.592042Z",
     "start_time": "2020-05-07T14:57:00.576067Z"
    }
   },
   "outputs": [],
   "source": [
    "std_scale = StandardScaler()\n",
    "\n",
    "X_train = std_scale.fit_transform(X_train)\n",
    "X_test = std_scale.transform(X_test)"
   ]
  },
  {
   "cell_type": "markdown",
   "metadata": {},
   "source": [
    "# Modeling"
   ]
  },
  {
   "cell_type": "markdown",
   "metadata": {},
   "source": [
    "## K-Nearest Neighbors"
   ]
  },
  {
   "cell_type": "markdown",
   "metadata": {
    "ExecuteTime": {
     "end_time": "2020-05-07T08:45:33.218399Z",
     "start_time": "2020-05-07T08:45:33.214547Z"
    }
   },
   "source": [
    "K-Nearest Neighbors (kNN) is an algorithm by which an unclassified data point is classified based on it’s distance from known points.\n",
    "\n",
    "The way that model decides how to classify the unknown point is by creating a circle with the point as the center. The size of the circle is set by choosing the number of neighbors. This setting does not refer to the actual size of the circle, however, it refers to how many neighboring points are to fall inside of the circle."
   ]
  },
  {
   "cell_type": "code",
   "execution_count": 22,
   "metadata": {
    "ExecuteTime": {
     "end_time": "2020-05-07T14:57:03.628256Z",
     "start_time": "2020-05-07T14:57:00.593022Z"
    }
   },
   "outputs": [
    {
     "name": "stdout",
     "output_type": "stream",
     "text": [
      "Confussion Matrix for test data:\n",
      "[[465 108]\n",
      " [143 429]]\n",
      "\n",
      "Classification report for test data:\n",
      "              precision    recall  f1-score   support\n",
      "\n",
      "           0       0.76      0.81      0.79       573\n",
      "           1       0.80      0.75      0.77       572\n",
      "\n",
      "    accuracy                           0.78      1145\n",
      "   macro avg       0.78      0.78      0.78      1145\n",
      "weighted avg       0.78      0.78      0.78      1145\n",
      "\n"
     ]
    },
    {
     "data": {
      "text/html": [
       "<div>\n",
       "<style scoped>\n",
       "    .dataframe tbody tr th:only-of-type {\n",
       "        vertical-align: middle;\n",
       "    }\n",
       "\n",
       "    .dataframe tbody tr th {\n",
       "        vertical-align: top;\n",
       "    }\n",
       "\n",
       "    .dataframe thead th {\n",
       "        text-align: right;\n",
       "    }\n",
       "</style>\n",
       "<table border=\"1\" class=\"dataframe\">\n",
       "  <thead>\n",
       "    <tr style=\"text-align: right;\">\n",
       "      <th></th>\n",
       "      <th>data</th>\n",
       "      <th>model</th>\n",
       "      <th>accuracy</th>\n",
       "      <th>precision</th>\n",
       "      <th>recall</th>\n",
       "      <th>f1score</th>\n",
       "      <th>rocauc</th>\n",
       "      <th>logloss</th>\n",
       "    </tr>\n",
       "  </thead>\n",
       "  <tbody>\n",
       "    <tr>\n",
       "      <td>0</td>\n",
       "      <td>training</td>\n",
       "      <td>KNeighborsClassifier</td>\n",
       "      <td>0.758138</td>\n",
       "      <td>0.788030</td>\n",
       "      <td>0.702116</td>\n",
       "      <td>0.744057</td>\n",
       "      <td>0.818009</td>\n",
       "      <td>N/A</td>\n",
       "    </tr>\n",
       "    <tr>\n",
       "      <td>0</td>\n",
       "      <td>test</td>\n",
       "      <td>KNeighborsClassifier</td>\n",
       "      <td>0.756420</td>\n",
       "      <td>0.777193</td>\n",
       "      <td>0.723738</td>\n",
       "      <td>0.752562</td>\n",
       "      <td>0.829552</td>\n",
       "      <td>7.57146</td>\n",
       "    </tr>\n",
       "  </tbody>\n",
       "</table>\n",
       "</div>"
      ],
      "text/plain": [
       "       data                 model  accuracy  precision    recall   f1score  \\\n",
       "0  training  KNeighborsClassifier  0.758138   0.788030  0.702116  0.744057   \n",
       "0      test  KNeighborsClassifier  0.756420   0.777193  0.723738  0.752562   \n",
       "\n",
       "     rocauc  logloss  \n",
       "0  0.818009      N/A  \n",
       "0  0.829552  7.57146  "
      ]
     },
     "execution_count": 22,
     "metadata": {},
     "output_type": "execute_result"
    }
   ],
   "source": [
    "from sklearn.neighbors import KNeighborsClassifier\n",
    "\n",
    "knn = KNeighborsClassifier(n_neighbors = 3)\n",
    "knn.fit(X_train, y_train)\n",
    "\n",
    "y_pred_test = knn.predict(X_test)\n",
    "\n",
    "print(f'Confussion Matrix for test data:\\n{confusion_matrix(y_test, y_pred_test)}')\n",
    "print(f'\\nClassification report for test data:\\n{classification_report(y_test, y_pred_test)}')\n",
    "knn_results = baseline_report(knn, X_train, X_test, y_train, y_test, 'KNeighborsClassifier')\n",
    "knn_results"
   ]
  },
  {
   "cell_type": "code",
   "execution_count": 23,
   "metadata": {
    "ExecuteTime": {
     "end_time": "2020-05-07T14:57:03.635238Z",
     "start_time": "2020-05-07T14:57:03.631265Z"
    }
   },
   "outputs": [],
   "source": [
    "# Explain results"
   ]
  },
  {
   "cell_type": "markdown",
   "metadata": {},
   "source": [
    "### Hyperparameter Tuning"
   ]
  },
  {
   "cell_type": "markdown",
   "metadata": {},
   "source": [
    "We will focus our hyperparameter tuning to optimize the **F1_score**. When optimizing for F1_score you take both precision and recall into account. If you try to only optimize recall, your algorithm will predict most examples to belong to the positive class, but that will result in many false positives and, hence, low precision. On the other hand, if you try to optimize precision, your model will predict very few examples as positive results (the ones which highest probability), but recall will be very low."
   ]
  },
  {
   "cell_type": "markdown",
   "metadata": {},
   "source": [
    "We will be using a GridSearchCV method, it's exostive and would be difficult to run on big datasets, but in our case it will work very well. Like that we will evaluate all possible cases of different parameter values and will find the best selection."
   ]
  },
  {
   "cell_type": "markdown",
   "metadata": {},
   "source": [
    "##### GridSearchCV"
   ]
  },
  {
   "cell_type": "markdown",
   "metadata": {},
   "source": [
    "A note on the number of neighbors: It's best to choose the odd number for the n_neighbors. You can choose an even number, but in the case of a tie vote, the decision on which class to assign will be done randomly when weights is set to uniform. By choosing an odd number, there are no ties."
   ]
  },
  {
   "cell_type": "markdown",
   "metadata": {},
   "source": [
    "Another thing to mention is that n_jobs = -1. By setting n_jobs to -1, you’re telling the computer to use all of it’s processors to perform the model."
   ]
  },
  {
   "cell_type": "code",
   "execution_count": 24,
   "metadata": {
    "ExecuteTime": {
     "end_time": "2020-05-07T14:57:08.003135Z",
     "start_time": "2020-05-07T14:57:03.637231Z"
    }
   },
   "outputs": [
    {
     "name": "stdout",
     "output_type": "stream",
     "text": [
      "Fitting 3 folds for each of 32 candidates, totalling 96 fits\n"
     ]
    },
    {
     "name": "stderr",
     "output_type": "stream",
     "text": [
      "[Parallel(n_jobs=-1)]: Using backend LokyBackend with 8 concurrent workers.\n",
      "[Parallel(n_jobs=-1)]: Done  34 tasks      | elapsed:    2.8s\n"
     ]
    },
    {
     "name": "stdout",
     "output_type": "stream",
     "text": [
      "{'metric': 'manhattan', 'n_neighbors': 15, 'weights': 'distance'}\n"
     ]
    },
    {
     "name": "stderr",
     "output_type": "stream",
     "text": [
      "[Parallel(n_jobs=-1)]: Done  96 out of  96 | elapsed:    4.2s finished\n"
     ]
    }
   ],
   "source": [
    "param_grid = {'n_neighbors': [5,7,9,11,13,15,17,19],\n",
    "              'weights': ['uniform', 'distance'],\n",
    "              'metric' : ['euclidean', 'manhattan']}\n",
    "\n",
    "grid = GridSearchCV(KNeighborsClassifier(), param_grid, verbose=1, cv=3, n_jobs=-1, scoring='f1')                 \n",
    "grid.fit(X_train, y_train)\n",
    "\n",
    "best_params_knn = grid.best_params_\n",
    "print(best_params_knn)"
   ]
  },
  {
   "cell_type": "markdown",
   "metadata": {},
   "source": [
    "The second step is to evaluate our model with the selection of the best parameters and see the impact on the scores."
   ]
  },
  {
   "cell_type": "code",
   "execution_count": 25,
   "metadata": {
    "ExecuteTime": {
     "end_time": "2020-05-07T14:57:10.663581Z",
     "start_time": "2020-05-07T14:57:08.004131Z"
    }
   },
   "outputs": [
    {
     "name": "stdout",
     "output_type": "stream",
     "text": [
      "Confussion Matrix for test data:\n",
      "[[529  44]\n",
      " [129 443]]\n",
      "\n",
      "Classification report for test data:\n",
      "              precision    recall  f1-score   support\n",
      "\n",
      "           0       0.80      0.92      0.86       573\n",
      "           1       0.91      0.77      0.84       572\n",
      "\n",
      "    accuracy                           0.85      1145\n",
      "   macro avg       0.86      0.85      0.85      1145\n",
      "weighted avg       0.86      0.85      0.85      1145\n",
      "\n"
     ]
    },
    {
     "data": {
      "text/html": [
       "<div>\n",
       "<style scoped>\n",
       "    .dataframe tbody tr th:only-of-type {\n",
       "        vertical-align: middle;\n",
       "    }\n",
       "\n",
       "    .dataframe tbody tr th {\n",
       "        vertical-align: top;\n",
       "    }\n",
       "\n",
       "    .dataframe thead th {\n",
       "        text-align: right;\n",
       "    }\n",
       "</style>\n",
       "<table border=\"1\" class=\"dataframe\">\n",
       "  <thead>\n",
       "    <tr style=\"text-align: right;\">\n",
       "      <th></th>\n",
       "      <th>data</th>\n",
       "      <th>model</th>\n",
       "      <th>accuracy</th>\n",
       "      <th>precision</th>\n",
       "      <th>recall</th>\n",
       "      <th>f1score</th>\n",
       "      <th>rocauc</th>\n",
       "      <th>logloss</th>\n",
       "    </tr>\n",
       "  </thead>\n",
       "  <tbody>\n",
       "    <tr>\n",
       "      <td>0</td>\n",
       "      <td>training</td>\n",
       "      <td>KNeighborsClassifier</td>\n",
       "      <td>0.836018</td>\n",
       "      <td>0.903785</td>\n",
       "      <td>0.755255</td>\n",
       "      <td>0.826008</td>\n",
       "      <td>0.927513</td>\n",
       "      <td>N/A</td>\n",
       "    </tr>\n",
       "    <tr>\n",
       "      <td>0</td>\n",
       "      <td>test</td>\n",
       "      <td>KNeighborsClassifier</td>\n",
       "      <td>0.861179</td>\n",
       "      <td>0.907146</td>\n",
       "      <td>0.779756</td>\n",
       "      <td>0.842796</td>\n",
       "      <td>0.945843</td>\n",
       "      <td>5.21855</td>\n",
       "    </tr>\n",
       "  </tbody>\n",
       "</table>\n",
       "</div>"
      ],
      "text/plain": [
       "       data                 model  accuracy  precision    recall   f1score  \\\n",
       "0  training  KNeighborsClassifier  0.836018   0.903785  0.755255  0.826008   \n",
       "0      test  KNeighborsClassifier  0.861179   0.907146  0.779756  0.842796   \n",
       "\n",
       "     rocauc  logloss  \n",
       "0  0.927513      N/A  \n",
       "0  0.945843  5.21855  "
      ]
     },
     "execution_count": 25,
     "metadata": {},
     "output_type": "execute_result"
    }
   ],
   "source": [
    "y_pred_test = grid.predict(X_test)\n",
    "\n",
    "print(f'Confussion Matrix for test data:\\n{confusion_matrix(y_test, y_pred_test)}')\n",
    "print(f'\\nClassification report for test data:\\n{classification_report(y_test, y_pred_test)}')\n",
    "knn_results_hyp = baseline_report(grid.best_estimator_, X_train, X_test, y_train, y_test, 'KNeighborsClassifier')\n",
    "knn_results_hyp"
   ]
  },
  {
   "cell_type": "code",
   "execution_count": 26,
   "metadata": {
    "ExecuteTime": {
     "end_time": "2020-05-07T14:57:10.667570Z",
     "start_time": "2020-05-07T14:57:10.664578Z"
    }
   },
   "outputs": [],
   "source": [
    "# Explain Results"
   ]
  },
  {
   "cell_type": "markdown",
   "metadata": {},
   "source": [
    "## Logistic Regression"
   ]
  },
  {
   "cell_type": "code",
   "execution_count": 27,
   "metadata": {
    "ExecuteTime": {
     "end_time": "2020-05-07T14:57:10.672556Z",
     "start_time": "2020-05-07T14:57:10.668567Z"
    }
   },
   "outputs": [],
   "source": [
    "#description"
   ]
  },
  {
   "cell_type": "code",
   "execution_count": 28,
   "metadata": {
    "ExecuteTime": {
     "end_time": "2020-05-07T14:57:11.802632Z",
     "start_time": "2020-05-07T14:57:10.673554Z"
    }
   },
   "outputs": [
    {
     "name": "stdout",
     "output_type": "stream",
     "text": [
      "Confussion Matrix for test data:\n",
      "[[554  19]\n",
      " [ 37 535]]\n",
      "\n",
      "Classification report for test data:\n",
      "              precision    recall  f1-score   support\n",
      "\n",
      "           0       0.94      0.97      0.95       573\n",
      "           1       0.97      0.94      0.95       572\n",
      "\n",
      "    accuracy                           0.95      1145\n",
      "   macro avg       0.95      0.95      0.95      1145\n",
      "weighted avg       0.95      0.95      0.95      1145\n",
      "\n"
     ]
    },
    {
     "data": {
      "text/html": [
       "<div>\n",
       "<style scoped>\n",
       "    .dataframe tbody tr th:only-of-type {\n",
       "        vertical-align: middle;\n",
       "    }\n",
       "\n",
       "    .dataframe tbody tr th {\n",
       "        vertical-align: top;\n",
       "    }\n",
       "\n",
       "    .dataframe thead th {\n",
       "        text-align: right;\n",
       "    }\n",
       "</style>\n",
       "<table border=\"1\" class=\"dataframe\">\n",
       "  <thead>\n",
       "    <tr style=\"text-align: right;\">\n",
       "      <th></th>\n",
       "      <th>data</th>\n",
       "      <th>model</th>\n",
       "      <th>accuracy</th>\n",
       "      <th>precision</th>\n",
       "      <th>recall</th>\n",
       "      <th>f1score</th>\n",
       "      <th>rocauc</th>\n",
       "      <th>logloss</th>\n",
       "    </tr>\n",
       "  </thead>\n",
       "  <tbody>\n",
       "    <tr>\n",
       "      <td>0</td>\n",
       "      <td>training</td>\n",
       "      <td>LogisticRegression</td>\n",
       "      <td>0.925114</td>\n",
       "      <td>0.944937</td>\n",
       "      <td>0.901210</td>\n",
       "      <td>0.926716</td>\n",
       "      <td>0.979619</td>\n",
       "      <td>N/A</td>\n",
       "    </tr>\n",
       "    <tr>\n",
       "      <td>0</td>\n",
       "      <td>test</td>\n",
       "      <td>LogisticRegression</td>\n",
       "      <td>0.940610</td>\n",
       "      <td>0.948090</td>\n",
       "      <td>0.930114</td>\n",
       "      <td>0.931206</td>\n",
       "      <td>0.984157</td>\n",
       "      <td>1.68925</td>\n",
       "    </tr>\n",
       "  </tbody>\n",
       "</table>\n",
       "</div>"
      ],
      "text/plain": [
       "       data               model  accuracy  precision    recall   f1score  \\\n",
       "0  training  LogisticRegression  0.925114   0.944937  0.901210  0.926716   \n",
       "0      test  LogisticRegression  0.940610   0.948090  0.930114  0.931206   \n",
       "\n",
       "     rocauc  logloss  \n",
       "0  0.979619      N/A  \n",
       "0  0.984157  1.68925  "
      ]
     },
     "execution_count": 28,
     "metadata": {},
     "output_type": "execute_result"
    }
   ],
   "source": [
    "from sklearn.linear_model import LogisticRegression\n",
    "\n",
    "logreg = LogisticRegression()\n",
    "logreg.fit(X_train, y_train)\n",
    "\n",
    "y_pred_test = logreg.predict(X_test)\n",
    "\n",
    "print(f'Confussion Matrix for test data:\\n{confusion_matrix(y_test, y_pred_test)}')\n",
    "print(f'\\nClassification report for test data:\\n{classification_report(y_test, y_pred_test)}')\n",
    "logreg_results = baseline_report(logreg, X_train, X_test, y_train, y_test, 'LogisticRegression')\n",
    "logreg_results"
   ]
  },
  {
   "cell_type": "code",
   "execution_count": 29,
   "metadata": {
    "ExecuteTime": {
     "end_time": "2020-05-07T14:57:11.818003Z",
     "start_time": "2020-05-07T14:57:11.802632Z"
    }
   },
   "outputs": [],
   "source": [
    "# Explain results"
   ]
  },
  {
   "cell_type": "markdown",
   "metadata": {},
   "source": [
    "### Hyperparameter Tuning"
   ]
  },
  {
   "cell_type": "markdown",
   "metadata": {},
   "source": [
    "##### GridSearchCV"
   ]
  },
  {
   "cell_type": "code",
   "execution_count": 30,
   "metadata": {
    "ExecuteTime": {
     "end_time": "2020-05-07T14:57:15.698252Z",
     "start_time": "2020-05-07T14:57:11.819000Z"
    }
   },
   "outputs": [
    {
     "name": "stdout",
     "output_type": "stream",
     "text": [
      "Fitting 3 folds for each of 72 candidates, totalling 216 fits\n"
     ]
    },
    {
     "name": "stderr",
     "output_type": "stream",
     "text": [
      "[Parallel(n_jobs=-1)]: Using backend LokyBackend with 8 concurrent workers.\n"
     ]
    },
    {
     "name": "stdout",
     "output_type": "stream",
     "text": [
      "{'C': 0.1, 'multi_class': 'warn', 'penalty': 'l1', 'solver': 'liblinear'}\n"
     ]
    },
    {
     "name": "stderr",
     "output_type": "stream",
     "text": [
      "[Parallel(n_jobs=-1)]: Done 216 out of 216 | elapsed:    3.7s finished\n"
     ]
    }
   ],
   "source": [
    "c_values = list(10.0**np.arange(-3, 3))\n",
    "\n",
    "param_grid = [{'C': c_values,\n",
    "              'penalty': ['l2'],\n",
    "              'solver' : ['liblinear', 'newton-cg', 'lbfgs', 'sag', 'saga'],\n",
    "              'multi_class': ['ovr', 'warn']},\n",
    "              {'C': c_values,\n",
    "              'penalty': ['l1'],\n",
    "              'solver' : ['liblinear'],\n",
    "              'multi_class': ['ovr', 'warn']}]\n",
    "\n",
    "grid = GridSearchCV(LogisticRegression(), param_grid, verbose=1, cv=3, n_jobs=-1, scoring='f1')                 \n",
    "grid.fit(X_train, y_train)\n",
    "\n",
    "best_params_logreg = grid.best_params_\n",
    "print(best_params_logreg)"
   ]
  },
  {
   "cell_type": "markdown",
   "metadata": {},
   "source": [
    "The second step is to evaluate our model with the selection of the best parameters and see the impact on the scores."
   ]
  },
  {
   "cell_type": "code",
   "execution_count": 31,
   "metadata": {
    "ExecuteTime": {
     "end_time": "2020-05-07T14:57:16.320892Z",
     "start_time": "2020-05-07T14:57:15.700246Z"
    }
   },
   "outputs": [
    {
     "name": "stdout",
     "output_type": "stream",
     "text": [
      "Confussion Matrix for test data:\n",
      "[[556  17]\n",
      " [ 40 532]]\n",
      "\n",
      "Classification report for test data:\n",
      "              precision    recall  f1-score   support\n",
      "\n",
      "           0       0.93      0.97      0.95       573\n",
      "           1       0.97      0.93      0.95       572\n",
      "\n",
      "    accuracy                           0.95      1145\n",
      "   macro avg       0.95      0.95      0.95      1145\n",
      "weighted avg       0.95      0.95      0.95      1145\n",
      "\n"
     ]
    },
    {
     "data": {
      "text/html": [
       "<div>\n",
       "<style scoped>\n",
       "    .dataframe tbody tr th:only-of-type {\n",
       "        vertical-align: middle;\n",
       "    }\n",
       "\n",
       "    .dataframe tbody tr th {\n",
       "        vertical-align: top;\n",
       "    }\n",
       "\n",
       "    .dataframe thead th {\n",
       "        text-align: right;\n",
       "    }\n",
       "</style>\n",
       "<table border=\"1\" class=\"dataframe\">\n",
       "  <thead>\n",
       "    <tr style=\"text-align: right;\">\n",
       "      <th></th>\n",
       "      <th>data</th>\n",
       "      <th>model</th>\n",
       "      <th>accuracy</th>\n",
       "      <th>precision</th>\n",
       "      <th>recall</th>\n",
       "      <th>f1score</th>\n",
       "      <th>rocauc</th>\n",
       "      <th>logloss</th>\n",
       "    </tr>\n",
       "  </thead>\n",
       "  <tbody>\n",
       "    <tr>\n",
       "      <td>0</td>\n",
       "      <td>training</td>\n",
       "      <td>LogisticRegression</td>\n",
       "      <td>0.930730</td>\n",
       "      <td>0.955029</td>\n",
       "      <td>0.900439</td>\n",
       "      <td>0.926204</td>\n",
       "      <td>0.980720</td>\n",
       "      <td>N/A</td>\n",
       "    </tr>\n",
       "    <tr>\n",
       "      <td>0</td>\n",
       "      <td>test</td>\n",
       "      <td>LogisticRegression</td>\n",
       "      <td>0.947628</td>\n",
       "      <td>0.958707</td>\n",
       "      <td>0.929992</td>\n",
       "      <td>0.937056</td>\n",
       "      <td>0.987171</td>\n",
       "      <td>1.71941</td>\n",
       "    </tr>\n",
       "  </tbody>\n",
       "</table>\n",
       "</div>"
      ],
      "text/plain": [
       "       data               model  accuracy  precision    recall   f1score  \\\n",
       "0  training  LogisticRegression  0.930730   0.955029  0.900439  0.926204   \n",
       "0      test  LogisticRegression  0.947628   0.958707  0.929992  0.937056   \n",
       "\n",
       "     rocauc  logloss  \n",
       "0  0.980720      N/A  \n",
       "0  0.987171  1.71941  "
      ]
     },
     "execution_count": 31,
     "metadata": {},
     "output_type": "execute_result"
    }
   ],
   "source": [
    "y_pred_test = grid.predict(X_test)\n",
    "\n",
    "print(f'Confussion Matrix for test data:\\n{confusion_matrix(y_test, y_pred_test)}')\n",
    "print(f'\\nClassification report for test data:\\n{classification_report(y_test, y_pred_test)}')\n",
    "logreg_results_hyp = baseline_report(grid.best_estimator_, X_train, X_test, y_train, y_test, 'LogisticRegression')\n",
    "logreg_results_hyp"
   ]
  },
  {
   "cell_type": "code",
   "execution_count": 32,
   "metadata": {
    "ExecuteTime": {
     "end_time": "2020-05-07T14:57:16.325878Z",
     "start_time": "2020-05-07T14:57:16.322885Z"
    }
   },
   "outputs": [],
   "source": [
    "# Explain Results"
   ]
  },
  {
   "cell_type": "markdown",
   "metadata": {},
   "source": [
    "## Decision Tree"
   ]
  },
  {
   "cell_type": "code",
   "execution_count": 33,
   "metadata": {
    "ExecuteTime": {
     "end_time": "2020-05-07T14:57:16.337846Z",
     "start_time": "2020-05-07T14:57:16.326874Z"
    }
   },
   "outputs": [],
   "source": [
    "# Description"
   ]
  },
  {
   "cell_type": "code",
   "execution_count": 34,
   "metadata": {
    "ExecuteTime": {
     "end_time": "2020-05-07T14:57:16.808588Z",
     "start_time": "2020-05-07T14:57:16.338852Z"
    }
   },
   "outputs": [
    {
     "name": "stdout",
     "output_type": "stream",
     "text": [
      "Confussion Matrix for test data:\n",
      "[[527  46]\n",
      " [ 48 524]]\n",
      "\n",
      "Classification report for test data:\n",
      "              precision    recall  f1-score   support\n",
      "\n",
      "           0       0.92      0.92      0.92       573\n",
      "           1       0.92      0.92      0.92       572\n",
      "\n",
      "    accuracy                           0.92      1145\n",
      "   macro avg       0.92      0.92      0.92      1145\n",
      "weighted avg       0.92      0.92      0.92      1145\n",
      "\n"
     ]
    },
    {
     "data": {
      "text/html": [
       "<div>\n",
       "<style scoped>\n",
       "    .dataframe tbody tr th:only-of-type {\n",
       "        vertical-align: middle;\n",
       "    }\n",
       "\n",
       "    .dataframe tbody tr th {\n",
       "        vertical-align: top;\n",
       "    }\n",
       "\n",
       "    .dataframe thead th {\n",
       "        text-align: right;\n",
       "    }\n",
       "</style>\n",
       "<table border=\"1\" class=\"dataframe\">\n",
       "  <thead>\n",
       "    <tr style=\"text-align: right;\">\n",
       "      <th></th>\n",
       "      <th>data</th>\n",
       "      <th>model</th>\n",
       "      <th>accuracy</th>\n",
       "      <th>precision</th>\n",
       "      <th>recall</th>\n",
       "      <th>f1score</th>\n",
       "      <th>rocauc</th>\n",
       "      <th>logloss</th>\n",
       "    </tr>\n",
       "  </thead>\n",
       "  <tbody>\n",
       "    <tr>\n",
       "      <td>0</td>\n",
       "      <td>training</td>\n",
       "      <td>DecisionTreeClassifier</td>\n",
       "      <td>0.902284</td>\n",
       "      <td>0.899654</td>\n",
       "      <td>0.904195</td>\n",
       "      <td>0.905170</td>\n",
       "      <td>0.908277</td>\n",
       "      <td>N/A</td>\n",
       "    </tr>\n",
       "    <tr>\n",
       "      <td>0</td>\n",
       "      <td>test</td>\n",
       "      <td>DecisionTreeClassifier</td>\n",
       "      <td>0.906560</td>\n",
       "      <td>0.918170</td>\n",
       "      <td>0.923005</td>\n",
       "      <td>0.920744</td>\n",
       "      <td>0.905629</td>\n",
       "      <td>2.6847</td>\n",
       "    </tr>\n",
       "  </tbody>\n",
       "</table>\n",
       "</div>"
      ],
      "text/plain": [
       "       data                   model  accuracy  precision    recall   f1score  \\\n",
       "0  training  DecisionTreeClassifier  0.902284   0.899654  0.904195  0.905170   \n",
       "0      test  DecisionTreeClassifier  0.906560   0.918170  0.923005  0.920744   \n",
       "\n",
       "     rocauc logloss  \n",
       "0  0.908277     N/A  \n",
       "0  0.905629  2.6847  "
      ]
     },
     "execution_count": 34,
     "metadata": {},
     "output_type": "execute_result"
    }
   ],
   "source": [
    "from sklearn.tree import DecisionTreeClassifier\n",
    "\n",
    "dectree = DecisionTreeClassifier()\n",
    "dectree.fit(X_train, y_train)\n",
    "\n",
    "y_pred_test = dectree.predict(X_test)\n",
    "\n",
    "print(f'Confussion Matrix for test data:\\n{confusion_matrix(y_test, y_pred_test)}')\n",
    "print(f'\\nClassification report for test data:\\n{classification_report(y_test, y_pred_test)}')\n",
    "dectree_results = baseline_report(dectree, X_train, X_test, y_train, y_test, 'DecisionTreeClassifier')\n",
    "dectree_results"
   ]
  },
  {
   "cell_type": "markdown",
   "metadata": {},
   "source": [
    "### Feature importance"
   ]
  },
  {
   "cell_type": "markdown",
   "metadata": {},
   "source": [
    "We're will be using a defined function to visualize the most important features:"
   ]
  },
  {
   "cell_type": "code",
   "execution_count": 35,
   "metadata": {
    "ExecuteTime": {
     "end_time": "2020-05-07T14:57:17.945130Z",
     "start_time": "2020-05-07T14:57:16.809588Z"
    }
   },
   "outputs": [
    {
     "data": {
      "image/png": "[encoded data removed]",
      "text/plain": [
       "<Figure size 1080x1080 with 1 Axes>"
      ]
     },
     "metadata": {
      "needs_background": "light"
     },
     "output_type": "display_data"
    }
   ],
   "source": [
    "plot_feature_importances(dectree, df_encoded)\n",
    "plt.savefig('feature_importance_dectree')"
   ]
  },
  {
   "cell_type": "code",
   "execution_count": 36,
   "metadata": {
    "ExecuteTime": {
     "end_time": "2020-05-07T14:57:17.950116Z",
     "start_time": "2020-05-07T14:57:17.947125Z"
    }
   },
   "outputs": [],
   "source": [
    "# Explain results"
   ]
  },
  {
   "cell_type": "markdown",
   "metadata": {},
   "source": [
    "### Hyperparameter Tuning"
   ]
  },
  {
   "cell_type": "markdown",
   "metadata": {},
   "source": [
    "##### GridSearchCV"
   ]
  },
  {
   "cell_type": "markdown",
   "metadata": {},
   "source": [
    "Parameters that we will be checking:\n",
    "\n",
    "**criterion** : optional (default=”gini”) or Choose attribute selection measure: This parameter allows us to use the different attribute selection measure. Supported criteria are “gini” for the Gini index and “entropy” for the information gain.\n",
    "\n",
    "**splitter** : string, optional (default=”best”) or Split Strategy: This parameter allows us to choose the split strategy. Supported strategies are “best” to choose the best split and “random” to choose the best random split.\n",
    "\n",
    "**max_depth** : int or None, optional (default=None) or Maximum Depth of a Tree: The maximum depth of the tree. If None, then nodes are expanded until all the leaves contain less than min_samples_split samples. The higher value of maximum depth causes overfitting, and a lower value causes underfitting"
   ]
  },
  {
   "cell_type": "code",
   "execution_count": 37,
   "metadata": {
    "ExecuteTime": {
     "end_time": "2020-05-07T14:57:18.252308Z",
     "start_time": "2020-05-07T14:57:17.951114Z"
    }
   },
   "outputs": [
    {
     "name": "stdout",
     "output_type": "stream",
     "text": [
      "Fitting 3 folds for each of 32 candidates, totalling 96 fits\n"
     ]
    },
    {
     "name": "stderr",
     "output_type": "stream",
     "text": [
      "[Parallel(n_jobs=-1)]: Using backend LokyBackend with 8 concurrent workers.\n"
     ]
    },
    {
     "name": "stdout",
     "output_type": "stream",
     "text": [
      "{'criterion': 'entropy', 'max_depth': 7, 'splitter': 'best'}\n"
     ]
    },
    {
     "name": "stderr",
     "output_type": "stream",
     "text": [
      "[Parallel(n_jobs=-1)]: Done  96 out of  96 | elapsed:    0.2s finished\n"
     ]
    }
   ],
   "source": [
    "depth = list(np.arange(2, 10))\n",
    "\n",
    "param_grid = {'criterion': ['gini', 'entropy'],\n",
    "              'splitter': ['best', 'random'],\n",
    "              'max_depth' : depth}\n",
    "\n",
    "grid = GridSearchCV(DecisionTreeClassifier(), param_grid, verbose=1, cv=3, n_jobs=-1, scoring='f1')                 \n",
    "grid.fit(X_train, y_train)  \n",
    "\n",
    "best_params_dectree = grid.best_params_\n",
    "print(best_params_dectree)"
   ]
  },
  {
   "cell_type": "markdown",
   "metadata": {},
   "source": [
    "The second step is to evaluate our model with the selection of the best parameters and see the impact on the scores."
   ]
  },
  {
   "cell_type": "code",
   "execution_count": 38,
   "metadata": {
    "ExecuteTime": {
     "end_time": "2020-05-07T14:57:18.618022Z",
     "start_time": "2020-05-07T14:57:18.253305Z"
    }
   },
   "outputs": [
    {
     "name": "stdout",
     "output_type": "stream",
     "text": [
      "Confussion Matrix for test data:\n",
      "[[554  19]\n",
      " [ 44 528]]\n",
      "\n",
      "Classification report for test data:\n",
      "              precision    recall  f1-score   support\n",
      "\n",
      "           0       0.93      0.97      0.95       573\n",
      "           1       0.97      0.92      0.94       572\n",
      "\n",
      "    accuracy                           0.94      1145\n",
      "   macro avg       0.95      0.94      0.94      1145\n",
      "weighted avg       0.95      0.94      0.94      1145\n",
      "\n"
     ]
    },
    {
     "data": {
      "text/html": [
       "<div>\n",
       "<style scoped>\n",
       "    .dataframe tbody tr th:only-of-type {\n",
       "        vertical-align: middle;\n",
       "    }\n",
       "\n",
       "    .dataframe tbody tr th {\n",
       "        vertical-align: top;\n",
       "    }\n",
       "\n",
       "    .dataframe thead th {\n",
       "        text-align: right;\n",
       "    }\n",
       "</style>\n",
       "<table border=\"1\" class=\"dataframe\">\n",
       "  <thead>\n",
       "    <tr style=\"text-align: right;\">\n",
       "      <th></th>\n",
       "      <th>data</th>\n",
       "      <th>model</th>\n",
       "      <th>accuracy</th>\n",
       "      <th>precision</th>\n",
       "      <th>recall</th>\n",
       "      <th>f1score</th>\n",
       "      <th>rocauc</th>\n",
       "      <th>logloss</th>\n",
       "    </tr>\n",
       "  </thead>\n",
       "  <tbody>\n",
       "    <tr>\n",
       "      <td>0</td>\n",
       "      <td>training</td>\n",
       "      <td>DecisionTreeClassifier</td>\n",
       "      <td>0.913520</td>\n",
       "      <td>0.934323</td>\n",
       "      <td>0.892249</td>\n",
       "      <td>0.922020</td>\n",
       "      <td>0.957374</td>\n",
       "      <td>N/A</td>\n",
       "    </tr>\n",
       "    <tr>\n",
       "      <td>0</td>\n",
       "      <td>test</td>\n",
       "      <td>DecisionTreeClassifier</td>\n",
       "      <td>0.929272</td>\n",
       "      <td>0.945803</td>\n",
       "      <td>0.909062</td>\n",
       "      <td>0.927258</td>\n",
       "      <td>0.953053</td>\n",
       "      <td>2.08139</td>\n",
       "    </tr>\n",
       "  </tbody>\n",
       "</table>\n",
       "</div>"
      ],
      "text/plain": [
       "       data                   model  accuracy  precision    recall   f1score  \\\n",
       "0  training  DecisionTreeClassifier  0.913520   0.934323  0.892249  0.922020   \n",
       "0      test  DecisionTreeClassifier  0.929272   0.945803  0.909062  0.927258   \n",
       "\n",
       "     rocauc  logloss  \n",
       "0  0.957374      N/A  \n",
       "0  0.953053  2.08139  "
      ]
     },
     "execution_count": 38,
     "metadata": {},
     "output_type": "execute_result"
    }
   ],
   "source": [
    "y_pred_test = grid.predict(X_test)\n",
    "\n",
    "print(f'Confussion Matrix for test data:\\n{confusion_matrix(y_test, y_pred_test)}')\n",
    "print(f'\\nClassification report for test data:\\n{classification_report(y_test, y_pred_test)}')\n",
    "dectree_results_hyp = baseline_report(grid.best_estimator_, X_train, X_test, y_train, y_test, 'DecisionTreeClassifier')\n",
    "dectree_results_hyp"
   ]
  },
  {
   "cell_type": "code",
   "execution_count": 39,
   "metadata": {
    "ExecuteTime": {
     "end_time": "2020-05-07T14:57:18.623007Z",
     "start_time": "2020-05-07T14:57:18.619018Z"
    }
   },
   "outputs": [],
   "source": [
    "# Explain Results"
   ]
  },
  {
   "cell_type": "markdown",
   "metadata": {},
   "source": [
    "## Random Forest"
   ]
  },
  {
   "cell_type": "code",
   "execution_count": 40,
   "metadata": {
    "ExecuteTime": {
     "end_time": "2020-05-07T14:57:18.633977Z",
     "start_time": "2020-05-07T14:57:18.624004Z"
    }
   },
   "outputs": [],
   "source": [
    "# Description"
   ]
  },
  {
   "cell_type": "code",
   "execution_count": 41,
   "metadata": {
    "ExecuteTime": {
     "end_time": "2020-05-07T14:57:19.421303Z",
     "start_time": "2020-05-07T14:57:18.634975Z"
    }
   },
   "outputs": [
    {
     "name": "stdout",
     "output_type": "stream",
     "text": [
      "Confussion Matrix for test data:\n",
      "[[556  17]\n",
      " [ 36 536]]\n",
      "\n",
      "Classification report for test data:\n",
      "              precision    recall  f1-score   support\n",
      "\n",
      "           0       0.94      0.97      0.95       573\n",
      "           1       0.97      0.94      0.95       572\n",
      "\n",
      "    accuracy                           0.95      1145\n",
      "   macro avg       0.95      0.95      0.95      1145\n",
      "weighted avg       0.95      0.95      0.95      1145\n",
      "\n"
     ]
    },
    {
     "data": {
      "text/html": [
       "<div>\n",
       "<style scoped>\n",
       "    .dataframe tbody tr th:only-of-type {\n",
       "        vertical-align: middle;\n",
       "    }\n",
       "\n",
       "    .dataframe tbody tr th {\n",
       "        vertical-align: top;\n",
       "    }\n",
       "\n",
       "    .dataframe thead th {\n",
       "        text-align: right;\n",
       "    }\n",
       "</style>\n",
       "<table border=\"1\" class=\"dataframe\">\n",
       "  <thead>\n",
       "    <tr style=\"text-align: right;\">\n",
       "      <th></th>\n",
       "      <th>data</th>\n",
       "      <th>model</th>\n",
       "      <th>accuracy</th>\n",
       "      <th>precision</th>\n",
       "      <th>recall</th>\n",
       "      <th>f1score</th>\n",
       "      <th>rocauc</th>\n",
       "      <th>logloss</th>\n",
       "    </tr>\n",
       "  </thead>\n",
       "  <tbody>\n",
       "    <tr>\n",
       "      <td>0</td>\n",
       "      <td>training</td>\n",
       "      <td>RandomForestClassifier</td>\n",
       "      <td>0.924748</td>\n",
       "      <td>0.955070</td>\n",
       "      <td>0.911697</td>\n",
       "      <td>0.928622</td>\n",
       "      <td>0.976262</td>\n",
       "      <td>N/A</td>\n",
       "    </tr>\n",
       "    <tr>\n",
       "      <td>0</td>\n",
       "      <td>test</td>\n",
       "      <td>RandomForestClassifier</td>\n",
       "      <td>0.933631</td>\n",
       "      <td>0.955938</td>\n",
       "      <td>0.910908</td>\n",
       "      <td>0.932232</td>\n",
       "      <td>0.982424</td>\n",
       "      <td>1.87024</td>\n",
       "    </tr>\n",
       "  </tbody>\n",
       "</table>\n",
       "</div>"
      ],
      "text/plain": [
       "       data                   model  accuracy  precision    recall   f1score  \\\n",
       "0  training  RandomForestClassifier  0.924748   0.955070  0.911697  0.928622   \n",
       "0      test  RandomForestClassifier  0.933631   0.955938  0.910908  0.932232   \n",
       "\n",
       "     rocauc  logloss  \n",
       "0  0.976262      N/A  \n",
       "0  0.982424  1.87024  "
      ]
     },
     "execution_count": 41,
     "metadata": {},
     "output_type": "execute_result"
    }
   ],
   "source": [
    "from sklearn.ensemble import RandomForestClassifier\n",
    "\n",
    "rfor = RandomForestClassifier()\n",
    "rfor.fit(X_train, y_train)\n",
    "\n",
    "y_pred_test = rfor.predict(X_test)\n",
    "\n",
    "print(f'Confussion Matrix for test data:\\n{confusion_matrix(y_test, y_pred_test)}')\n",
    "print(f'\\nClassification report for test data:\\n{classification_report(y_test, y_pred_test)}')\n",
    "rfor_results = baseline_report(rfor, X_train, X_test, y_train, y_test, 'RandomForestClassifier')\n",
    "rfor_results"
   ]
  },
  {
   "cell_type": "markdown",
   "metadata": {},
   "source": [
    "### Feature importance"
   ]
  },
  {
   "cell_type": "code",
   "execution_count": 42,
   "metadata": {
    "ExecuteTime": {
     "end_time": "2020-05-07T14:57:20.416754Z",
     "start_time": "2020-05-07T14:57:19.422311Z"
    }
   },
   "outputs": [
    {
     "data": {
      "image/png": "[encoded data removed]",
      "text/plain": [
       "<Figure size 1080x1080 with 1 Axes>"
      ]
     },
     "metadata": {
      "needs_background": "light"
     },
     "output_type": "display_data"
    }
   ],
   "source": [
    "plot_feature_importances(rfor, df_encoded)\n",
    "plt.savefig('feature_importance_rfor')"
   ]
  },
  {
   "cell_type": "code",
   "execution_count": 43,
   "metadata": {
    "ExecuteTime": {
     "end_time": "2020-05-07T14:57:20.422735Z",
     "start_time": "2020-05-07T14:57:20.418746Z"
    }
   },
   "outputs": [],
   "source": [
    "# Explain results\n",
    "\n",
    "# can choose to split where we see elbow or after random\n",
    "\n",
    "#strange that anypage has such a low performance, while each page alone have higher.\n",
    "#check if it's done ok, if it's not redundant info\n",
    "#check what we put under browser 99 when did transformation, why other has higher importance??\n",
    "\n",
    "#explanation of alberto, to change\n",
    "#Similarly to the single decision tree, the random forest also gives a lot of importance to the “Glucose” feature, but it also chooses “BMI” to be the 2nd most informative feature overall. The randomness in building the random forest forces the algorithm to consider many possible explanations, the result being that the random forest captures a much broader picture of the data than a single tree."
   ]
  },
  {
   "cell_type": "markdown",
   "metadata": {},
   "source": [
    "### Hyperparameter Tuning"
   ]
  },
  {
   "cell_type": "markdown",
   "metadata": {},
   "source": [
    "##### GridSearchCV"
   ]
  },
  {
   "cell_type": "code",
   "execution_count": 45,
   "metadata": {
    "ExecuteTime": {
     "end_time": "2020-05-07T15:06:19.574399Z",
     "start_time": "2020-05-07T15:05:59.178068Z"
    }
   },
   "outputs": [
    {
     "name": "stdout",
     "output_type": "stream",
     "text": [
      "Fitting 3 folds for each of 60 candidates, totalling 180 fits\n"
     ]
    },
    {
     "name": "stderr",
     "output_type": "stream",
     "text": [
      "[Parallel(n_jobs=-1)]: Using backend LokyBackend with 8 concurrent workers.\n",
      "[Parallel(n_jobs=-1)]: Done  34 tasks      | elapsed:    5.3s\n",
      "[Parallel(n_jobs=-1)]: Done 180 out of 180 | elapsed:   19.5s finished\n"
     ]
    },
    {
     "name": "stdout",
     "output_type": "stream",
     "text": [
      "{'criterion': 'entropy', 'max_depth': 8, 'max_features': 'auto', 'n_estimators': 500}\n"
     ]
    }
   ],
   "source": [
    "param_grid = {'n_estimators': [200, 500],\n",
    "              'max_features': ['auto', 'sqrt', 'log2'],\n",
    "              'max_depth' : [4,5,6,7,8],\n",
    "              'criterion' :['gini', 'entropy']}\n",
    "\n",
    "grid = GridSearchCV(RandomForestClassifier(), param_grid, verbose=1, cv=3, n_jobs=-1, scoring='f1')                 \n",
    "grid.fit(X_train, y_train)  \n",
    "\n",
    "best_params_rfor = grid.best_params_\n",
    "print(best_params_rfor)"
   ]
  },
  {
   "cell_type": "markdown",
   "metadata": {},
   "source": [
    "The second step is to evaluate our model with the selection of the best parameters and see the impact on the scores."
   ]
  },
  {
   "cell_type": "code",
   "execution_count": 46,
   "metadata": {
    "ExecuteTime": {
     "end_time": "2020-05-07T15:06:50.347176Z",
     "start_time": "2020-05-07T15:06:19.576393Z"
    }
   },
   "outputs": [
    {
     "name": "stdout",
     "output_type": "stream",
     "text": [
      "Confussion Matrix for test data:\n",
      "[[554  19]\n",
      " [ 44 528]]\n",
      "\n",
      "Classification report for test data:\n",
      "              precision    recall  f1-score   support\n",
      "\n",
      "           0       0.93      0.97      0.95       573\n",
      "           1       0.97      0.92      0.94       572\n",
      "\n",
      "    accuracy                           0.94      1145\n",
      "   macro avg       0.95      0.94      0.94      1145\n",
      "weighted avg       0.95      0.94      0.94      1145\n",
      "\n"
     ]
    },
    {
     "data": {
      "text/html": [
       "<div>\n",
       "<style scoped>\n",
       "    .dataframe tbody tr th:only-of-type {\n",
       "        vertical-align: middle;\n",
       "    }\n",
       "\n",
       "    .dataframe tbody tr th {\n",
       "        vertical-align: top;\n",
       "    }\n",
       "\n",
       "    .dataframe thead th {\n",
       "        text-align: right;\n",
       "    }\n",
       "</style>\n",
       "<table border=\"1\" class=\"dataframe\">\n",
       "  <thead>\n",
       "    <tr style=\"text-align: right;\">\n",
       "      <th></th>\n",
       "      <th>data</th>\n",
       "      <th>model</th>\n",
       "      <th>accuracy</th>\n",
       "      <th>precision</th>\n",
       "      <th>recall</th>\n",
       "      <th>f1score</th>\n",
       "      <th>rocauc</th>\n",
       "      <th>logloss</th>\n",
       "    </tr>\n",
       "  </thead>\n",
       "  <tbody>\n",
       "    <tr>\n",
       "      <td>0</td>\n",
       "      <td>training</td>\n",
       "      <td>RandomForestClassifier</td>\n",
       "      <td>0.932981</td>\n",
       "      <td>0.954030</td>\n",
       "      <td>0.915420</td>\n",
       "      <td>0.931715</td>\n",
       "      <td>0.983852</td>\n",
       "      <td>N/A</td>\n",
       "    </tr>\n",
       "    <tr>\n",
       "      <td>0</td>\n",
       "      <td>test</td>\n",
       "      <td>RandomForestClassifier</td>\n",
       "      <td>0.943265</td>\n",
       "      <td>0.957067</td>\n",
       "      <td>0.924836</td>\n",
       "      <td>0.941493</td>\n",
       "      <td>0.989188</td>\n",
       "      <td>1.9909</td>\n",
       "    </tr>\n",
       "  </tbody>\n",
       "</table>\n",
       "</div>"
      ],
      "text/plain": [
       "       data                   model  accuracy  precision    recall   f1score  \\\n",
       "0  training  RandomForestClassifier  0.932981   0.954030  0.915420  0.931715   \n",
       "0      test  RandomForestClassifier  0.943265   0.957067  0.924836  0.941493   \n",
       "\n",
       "     rocauc logloss  \n",
       "0  0.983852     N/A  \n",
       "0  0.989188  1.9909  "
      ]
     },
     "execution_count": 46,
     "metadata": {},
     "output_type": "execute_result"
    }
   ],
   "source": [
    "y_pred_test = grid.predict(X_test)\n",
    "\n",
    "print(f'Confussion Matrix for test data:\\n{confusion_matrix(y_test, y_pred_test)}')\n",
    "print(f'\\nClassification report for test data:\\n{classification_report(y_test, y_pred_test)}')\n",
    "rfor_results_hyp = baseline_report(grid.best_estimator_, X_train, X_test, y_train, y_test, 'RandomForestClassifier')\n",
    "rfor_results_hyp"
   ]
  },
  {
   "cell_type": "code",
   "execution_count": 47,
   "metadata": {
    "ExecuteTime": {
     "end_time": "2020-05-07T15:06:50.359202Z",
     "start_time": "2020-05-07T15:06:50.349172Z"
    }
   },
   "outputs": [],
   "source": [
    "# Explain results"
   ]
  },
  {
   "cell_type": "markdown",
   "metadata": {},
   "source": [
    "## Linear Support Vector Classification"
   ]
  },
  {
   "cell_type": "code",
   "execution_count": 48,
   "metadata": {
    "ExecuteTime": {
     "end_time": "2020-05-07T15:06:50.401114Z",
     "start_time": "2020-05-07T15:06:50.361196Z"
    }
   },
   "outputs": [],
   "source": [
    "# Description"
   ]
  },
  {
   "cell_type": "code",
   "execution_count": 49,
   "metadata": {
    "ExecuteTime": {
     "end_time": "2020-05-07T15:06:55.285289Z",
     "start_time": "2020-05-07T15:06:50.402087Z"
    }
   },
   "outputs": [
    {
     "name": "stdout",
     "output_type": "stream",
     "text": [
      "Confussion Matrix for test data:\n",
      "[[554  19]\n",
      " [ 42 530]]\n",
      "\n",
      "Classification report for test data:\n",
      "              precision    recall  f1-score   support\n",
      "\n",
      "           0       0.93      0.97      0.95       573\n",
      "           1       0.97      0.93      0.95       572\n",
      "\n",
      "    accuracy                           0.95      1145\n",
      "   macro avg       0.95      0.95      0.95      1145\n",
      "weighted avg       0.95      0.95      0.95      1145\n",
      "\n"
     ]
    },
    {
     "data": {
      "text/html": [
       "<div>\n",
       "<style scoped>\n",
       "    .dataframe tbody tr th:only-of-type {\n",
       "        vertical-align: middle;\n",
       "    }\n",
       "\n",
       "    .dataframe tbody tr th {\n",
       "        vertical-align: top;\n",
       "    }\n",
       "\n",
       "    .dataframe thead th {\n",
       "        text-align: right;\n",
       "    }\n",
       "</style>\n",
       "<table border=\"1\" class=\"dataframe\">\n",
       "  <thead>\n",
       "    <tr style=\"text-align: right;\">\n",
       "      <th></th>\n",
       "      <th>data</th>\n",
       "      <th>model</th>\n",
       "      <th>accuracy</th>\n",
       "      <th>precision</th>\n",
       "      <th>recall</th>\n",
       "      <th>f1score</th>\n",
       "      <th>rocauc</th>\n",
       "      <th>logloss</th>\n",
       "    </tr>\n",
       "  </thead>\n",
       "  <tbody>\n",
       "    <tr>\n",
       "      <td>0</td>\n",
       "      <td>training</td>\n",
       "      <td>LinearSVC</td>\n",
       "      <td>0.929615</td>\n",
       "      <td>0.946886</td>\n",
       "      <td>0.910951</td>\n",
       "      <td>0.928851</td>\n",
       "      <td>0.981265</td>\n",
       "      <td>N/A</td>\n",
       "    </tr>\n",
       "    <tr>\n",
       "      <td>0</td>\n",
       "      <td>test</td>\n",
       "      <td>LinearSVC</td>\n",
       "      <td>0.941484</td>\n",
       "      <td>0.946716</td>\n",
       "      <td>0.926529</td>\n",
       "      <td>0.941761</td>\n",
       "      <td>0.986600</td>\n",
       "      <td>1.84007</td>\n",
       "    </tr>\n",
       "  </tbody>\n",
       "</table>\n",
       "</div>"
      ],
      "text/plain": [
       "       data      model  accuracy  precision    recall   f1score    rocauc  \\\n",
       "0  training  LinearSVC  0.929615   0.946886  0.910951  0.928851  0.981265   \n",
       "0      test  LinearSVC  0.941484   0.946716  0.926529  0.941761  0.986600   \n",
       "\n",
       "   logloss  \n",
       "0      N/A  \n",
       "0  1.84007  "
      ]
     },
     "execution_count": 49,
     "metadata": {},
     "output_type": "execute_result"
    }
   ],
   "source": [
    "from sklearn.svm import LinearSVC\n",
    "\n",
    "linearsvc = LinearSVC()\n",
    "linearsvc.fit(X_train, y_train)\n",
    "\n",
    "y_pred_test = linearsvc.predict(X_test)\n",
    "\n",
    "print(f'Confussion Matrix for test data:\\n{confusion_matrix(y_test, y_pred_test)}')\n",
    "print(f'\\nClassification report for test data:\\n{classification_report(y_test, y_pred_test)}')\n",
    "linearsvc_results = baseline_report(linearsvc, X_train, X_test, y_train, y_test, 'LinearSVC')\n",
    "linearsvc_results"
   ]
  },
  {
   "cell_type": "code",
   "execution_count": 50,
   "metadata": {
    "ExecuteTime": {
     "end_time": "2020-05-07T15:06:55.478863Z",
     "start_time": "2020-05-07T15:06:55.285289Z"
    },
    "scrolled": false
   },
   "outputs": [
    {
     "data": {
      "image/png": "[encoded data removed]",
      "text/plain": [
       "<Figure size 720x720 with 2 Axes>"
      ]
     },
     "metadata": {
      "needs_background": "light"
     },
     "output_type": "display_data"
    }
   ],
   "source": [
    "# Visualizing results\n",
    "\n",
    "sns.heatmap(confusion_matrix(y_test, y_pred_test), annot=True)\n",
    "plt.show()"
   ]
  },
  {
   "cell_type": "code",
   "execution_count": 51,
   "metadata": {
    "ExecuteTime": {
     "end_time": "2020-05-07T15:06:55.482852Z",
     "start_time": "2020-05-07T15:06:55.479860Z"
    }
   },
   "outputs": [],
   "source": [
    "# Explain results"
   ]
  },
  {
   "cell_type": "markdown",
   "metadata": {},
   "source": [
    "### Hyperparameter Tuning"
   ]
  },
  {
   "cell_type": "markdown",
   "metadata": {},
   "source": [
    "##### GridSearchCV"
   ]
  },
  {
   "cell_type": "code",
   "execution_count": 53,
   "metadata": {
    "ExecuteTime": {
     "end_time": "2020-05-07T15:08:06.216245Z",
     "start_time": "2020-05-07T15:07:43.169685Z"
    }
   },
   "outputs": [
    {
     "name": "stdout",
     "output_type": "stream",
     "text": [
      "Fitting 3 folds for each of 24 candidates, totalling 72 fits\n"
     ]
    },
    {
     "name": "stderr",
     "output_type": "stream",
     "text": [
      "[Parallel(n_jobs=-1)]: Using backend LokyBackend with 8 concurrent workers.\n"
     ]
    },
    {
     "name": "stdout",
     "output_type": "stream",
     "text": [
      "{'C': 0.1, 'dual': 0, 'loss': 'squared_hinge', 'multi_class': 'ovr', 'penalty': 'l1'}\n"
     ]
    },
    {
     "name": "stderr",
     "output_type": "stream",
     "text": [
      "[Parallel(n_jobs=-1)]: Done  72 out of  72 | elapsed:   22.8s finished\n"
     ]
    }
   ],
   "source": [
    "c_values = list(10.0**np.arange(-3, 3))\n",
    "\n",
    "param_grid = [{'C': c_values,\n",
    "              'multi_class': ['ovr', 'crammer_singer'],\n",
    "              'penalty': ['l1'],\n",
    "              'loss': ['squared_hinge'],\n",
    "              'dual': [0]},\n",
    "              {'C': c_values,\n",
    "              'multi_class': ['ovr', 'crammer_singer'],\n",
    "              'penalty': ['l2'],\n",
    "              'loss': ['squared_hinge'],\n",
    "              'dual': [1]}]\n",
    "\n",
    "grid = GridSearchCV(LinearSVC(), param_grid, verbose=1, cv=3, n_jobs=-1, scoring='f1')                 \n",
    "grid.fit(X_train, y_train)  \n",
    "\n",
    "best_params_linearsvc = grid.best_params_\n",
    "print(best_params_linearsvc)"
   ]
  },
  {
   "cell_type": "markdown",
   "metadata": {},
   "source": [
    "The second step is to evaluate our model with the selection of the best parameters and see the impact on the scores."
   ]
  },
  {
   "cell_type": "code",
   "execution_count": 54,
   "metadata": {
    "ExecuteTime": {
     "end_time": "2020-05-07T15:08:09.095025Z",
     "start_time": "2020-05-07T15:08:06.217242Z"
    }
   },
   "outputs": [
    {
     "name": "stdout",
     "output_type": "stream",
     "text": [
      "Confussion Matrix for test data:\n",
      "[[558  15]\n",
      " [ 41 531]]\n",
      "\n",
      "Classification report for test data:\n",
      "              precision    recall  f1-score   support\n",
      "\n",
      "           0       0.93      0.97      0.95       573\n",
      "           1       0.97      0.93      0.95       572\n",
      "\n",
      "    accuracy                           0.95      1145\n",
      "   macro avg       0.95      0.95      0.95      1145\n",
      "weighted avg       0.95      0.95      0.95      1145\n",
      "\n"
     ]
    },
    {
     "data": {
      "text/html": [
       "<div>\n",
       "<style scoped>\n",
       "    .dataframe tbody tr th:only-of-type {\n",
       "        vertical-align: middle;\n",
       "    }\n",
       "\n",
       "    .dataframe tbody tr th {\n",
       "        vertical-align: top;\n",
       "    }\n",
       "\n",
       "    .dataframe thead th {\n",
       "        text-align: right;\n",
       "    }\n",
       "</style>\n",
       "<table border=\"1\" class=\"dataframe\">\n",
       "  <thead>\n",
       "    <tr style=\"text-align: right;\">\n",
       "      <th></th>\n",
       "      <th>data</th>\n",
       "      <th>model</th>\n",
       "      <th>accuracy</th>\n",
       "      <th>precision</th>\n",
       "      <th>recall</th>\n",
       "      <th>f1score</th>\n",
       "      <th>rocauc</th>\n",
       "      <th>logloss</th>\n",
       "    </tr>\n",
       "  </thead>\n",
       "  <tbody>\n",
       "    <tr>\n",
       "      <td>0</td>\n",
       "      <td>training</td>\n",
       "      <td>LinearSVC</td>\n",
       "      <td>0.927367</td>\n",
       "      <td>0.947794</td>\n",
       "      <td>0.905693</td>\n",
       "      <td>0.925089</td>\n",
       "      <td>0.981464</td>\n",
       "      <td>N/A</td>\n",
       "    </tr>\n",
       "    <tr>\n",
       "      <td>0</td>\n",
       "      <td>test</td>\n",
       "      <td>LinearSVC</td>\n",
       "      <td>0.943253</td>\n",
       "      <td>0.963548</td>\n",
       "      <td>0.928360</td>\n",
       "      <td>0.944000</td>\n",
       "      <td>0.989133</td>\n",
       "      <td>1.68924</td>\n",
       "    </tr>\n",
       "  </tbody>\n",
       "</table>\n",
       "</div>"
      ],
      "text/plain": [
       "       data      model  accuracy  precision    recall   f1score    rocauc  \\\n",
       "0  training  LinearSVC  0.927367   0.947794  0.905693  0.925089  0.981464   \n",
       "0      test  LinearSVC  0.943253   0.963548  0.928360  0.944000  0.989133   \n",
       "\n",
       "   logloss  \n",
       "0      N/A  \n",
       "0  1.68924  "
      ]
     },
     "execution_count": 54,
     "metadata": {},
     "output_type": "execute_result"
    }
   ],
   "source": [
    "y_pred_test = grid.predict(X_test)\n",
    "\n",
    "print(f'Confussion Matrix for test data:\\n{confusion_matrix(y_test, y_pred_test)}')\n",
    "print(f'\\nClassification report for test data:\\n{classification_report(y_test, y_pred_test)}')\n",
    "linearsvc_results_hyp = baseline_report(grid.best_estimator_, X_train, X_test, y_train, y_test, 'LinearSVC')\n",
    "linearsvc_results_hyp"
   ]
  },
  {
   "cell_type": "code",
   "execution_count": 55,
   "metadata": {
    "ExecuteTime": {
     "end_time": "2020-05-07T15:08:09.100012Z",
     "start_time": "2020-05-07T15:08:09.097020Z"
    }
   },
   "outputs": [],
   "source": [
    "# Explain results"
   ]
  },
  {
   "cell_type": "markdown",
   "metadata": {},
   "source": [
    "## Gaussian Naive Bayes"
   ]
  },
  {
   "cell_type": "code",
   "execution_count": 56,
   "metadata": {
    "ExecuteTime": {
     "end_time": "2020-05-07T15:08:09.110983Z",
     "start_time": "2020-05-07T15:08:09.101009Z"
    }
   },
   "outputs": [],
   "source": [
    "# Description"
   ]
  },
  {
   "cell_type": "code",
   "execution_count": 57,
   "metadata": {
    "ExecuteTime": {
     "end_time": "2020-05-07T15:08:09.309760Z",
     "start_time": "2020-05-07T15:08:09.111981Z"
    }
   },
   "outputs": [
    {
     "name": "stdout",
     "output_type": "stream",
     "text": [
      "Confussion Matrix for test data:\n",
      "[[566   7]\n",
      " [ 69 503]]\n",
      "\n",
      "Classification report for test data:\n",
      "              precision    recall  f1-score   support\n",
      "\n",
      "           0       0.89      0.99      0.94       573\n",
      "           1       0.99      0.88      0.93       572\n",
      "\n",
      "    accuracy                           0.93      1145\n",
      "   macro avg       0.94      0.93      0.93      1145\n",
      "weighted avg       0.94      0.93      0.93      1145\n",
      "\n"
     ]
    },
    {
     "data": {
      "text/html": [
       "<div>\n",
       "<style scoped>\n",
       "    .dataframe tbody tr th:only-of-type {\n",
       "        vertical-align: middle;\n",
       "    }\n",
       "\n",
       "    .dataframe tbody tr th {\n",
       "        vertical-align: top;\n",
       "    }\n",
       "\n",
       "    .dataframe thead th {\n",
       "        text-align: right;\n",
       "    }\n",
       "</style>\n",
       "<table border=\"1\" class=\"dataframe\">\n",
       "  <thead>\n",
       "    <tr style=\"text-align: right;\">\n",
       "      <th></th>\n",
       "      <th>data</th>\n",
       "      <th>model</th>\n",
       "      <th>accuracy</th>\n",
       "      <th>precision</th>\n",
       "      <th>recall</th>\n",
       "      <th>f1score</th>\n",
       "      <th>rocauc</th>\n",
       "      <th>logloss</th>\n",
       "    </tr>\n",
       "  </thead>\n",
       "  <tbody>\n",
       "    <tr>\n",
       "      <td>0</td>\n",
       "      <td>training</td>\n",
       "      <td>GaussianNB</td>\n",
       "      <td>0.912391</td>\n",
       "      <td>0.949643</td>\n",
       "      <td>0.857798</td>\n",
       "      <td>0.904500</td>\n",
       "      <td>0.971127</td>\n",
       "      <td>N/A</td>\n",
       "    </tr>\n",
       "    <tr>\n",
       "      <td>0</td>\n",
       "      <td>test</td>\n",
       "      <td>GaussianNB</td>\n",
       "      <td>0.937971</td>\n",
       "      <td>0.969079</td>\n",
       "      <td>0.910831</td>\n",
       "      <td>0.935038</td>\n",
       "      <td>0.978320</td>\n",
       "      <td>2.29254</td>\n",
       "    </tr>\n",
       "  </tbody>\n",
       "</table>\n",
       "</div>"
      ],
      "text/plain": [
       "       data       model  accuracy  precision    recall   f1score    rocauc  \\\n",
       "0  training  GaussianNB  0.912391   0.949643  0.857798  0.904500  0.971127   \n",
       "0      test  GaussianNB  0.937971   0.969079  0.910831  0.935038  0.978320   \n",
       "\n",
       "   logloss  \n",
       "0      N/A  \n",
       "0  2.29254  "
      ]
     },
     "execution_count": 57,
     "metadata": {},
     "output_type": "execute_result"
    }
   ],
   "source": [
    "from sklearn.naive_bayes import GaussianNB\n",
    "\n",
    "naive_b = GaussianNB()\n",
    "naive_b.fit(X_train, y_train)\n",
    "\n",
    "y_pred_test = naive_b.predict(X_test)\n",
    "\n",
    "print(f'Confussion Matrix for test data:\\n{confusion_matrix(y_test, y_pred_test)}')\n",
    "print(f'\\nClassification report for test data:\\n{classification_report(y_test, y_pred_test)}')\n",
    "naive_b_results = baseline_report(naive_b, X_train, X_test, y_train, y_test, 'GaussianNB')\n",
    "naive_b_results"
   ]
  },
  {
   "cell_type": "code",
   "execution_count": 58,
   "metadata": {
    "ExecuteTime": {
     "end_time": "2020-05-07T15:08:09.325382Z",
     "start_time": "2020-05-07T15:08:09.309760Z"
    }
   },
   "outputs": [],
   "source": [
    "# Explain results"
   ]
  },
  {
   "cell_type": "markdown",
   "metadata": {},
   "source": [
    "### Hyperparameter Tuning"
   ]
  },
  {
   "cell_type": "markdown",
   "metadata": {
    "ExecuteTime": {
     "end_time": "2020-05-07T11:55:18.710872Z",
     "start_time": "2020-05-07T11:55:18.702894Z"
    }
   },
   "source": [
    "We will not be performing hyperparameter tuning because GaussianNB does not have any adjustable hyperparameters."
   ]
  },
  {
   "cell_type": "markdown",
   "metadata": {},
   "source": [
    "## Final model evaluation"
   ]
  },
  {
   "cell_type": "markdown",
   "metadata": {},
   "source": [
    "Results before hyperparameter tuning:"
   ]
  },
  {
   "cell_type": "code",
   "execution_count": 59,
   "metadata": {
    "ExecuteTime": {
     "end_time": "2020-05-07T15:08:09.340540Z",
     "start_time": "2020-05-07T15:08:09.325382Z"
    }
   },
   "outputs": [
    {
     "data": {
      "text/html": [
       "<div>\n",
       "<style scoped>\n",
       "    .dataframe tbody tr th:only-of-type {\n",
       "        vertical-align: middle;\n",
       "    }\n",
       "\n",
       "    .dataframe tbody tr th {\n",
       "        vertical-align: top;\n",
       "    }\n",
       "\n",
       "    .dataframe thead th {\n",
       "        text-align: right;\n",
       "    }\n",
       "</style>\n",
       "<table border=\"1\" class=\"dataframe\">\n",
       "  <thead>\n",
       "    <tr style=\"text-align: right;\">\n",
       "      <th></th>\n",
       "      <th>data</th>\n",
       "      <th>model</th>\n",
       "      <th>accuracy</th>\n",
       "      <th>precision</th>\n",
       "      <th>recall</th>\n",
       "      <th>f1score</th>\n",
       "      <th>rocauc</th>\n",
       "      <th>logloss</th>\n",
       "    </tr>\n",
       "  </thead>\n",
       "  <tbody>\n",
       "    <tr>\n",
       "      <td>0</td>\n",
       "      <td>training</td>\n",
       "      <td>KNeighborsClassifier</td>\n",
       "      <td>0.758138</td>\n",
       "      <td>0.788030</td>\n",
       "      <td>0.702116</td>\n",
       "      <td>0.744057</td>\n",
       "      <td>0.818009</td>\n",
       "      <td>N/A</td>\n",
       "    </tr>\n",
       "    <tr>\n",
       "      <td>0</td>\n",
       "      <td>test</td>\n",
       "      <td>KNeighborsClassifier</td>\n",
       "      <td>0.756420</td>\n",
       "      <td>0.777193</td>\n",
       "      <td>0.723738</td>\n",
       "      <td>0.752562</td>\n",
       "      <td>0.829552</td>\n",
       "      <td>7.57146</td>\n",
       "    </tr>\n",
       "    <tr>\n",
       "      <td>0</td>\n",
       "      <td>training</td>\n",
       "      <td>LogisticRegression</td>\n",
       "      <td>0.925114</td>\n",
       "      <td>0.944937</td>\n",
       "      <td>0.901210</td>\n",
       "      <td>0.926716</td>\n",
       "      <td>0.979619</td>\n",
       "      <td>N/A</td>\n",
       "    </tr>\n",
       "    <tr>\n",
       "      <td>0</td>\n",
       "      <td>test</td>\n",
       "      <td>LogisticRegression</td>\n",
       "      <td>0.940610</td>\n",
       "      <td>0.948090</td>\n",
       "      <td>0.930114</td>\n",
       "      <td>0.931206</td>\n",
       "      <td>0.984157</td>\n",
       "      <td>1.68925</td>\n",
       "    </tr>\n",
       "    <tr>\n",
       "      <td>0</td>\n",
       "      <td>training</td>\n",
       "      <td>DecisionTreeClassifier</td>\n",
       "      <td>0.902284</td>\n",
       "      <td>0.899654</td>\n",
       "      <td>0.904195</td>\n",
       "      <td>0.905170</td>\n",
       "      <td>0.908277</td>\n",
       "      <td>N/A</td>\n",
       "    </tr>\n",
       "    <tr>\n",
       "      <td>0</td>\n",
       "      <td>test</td>\n",
       "      <td>DecisionTreeClassifier</td>\n",
       "      <td>0.906560</td>\n",
       "      <td>0.918170</td>\n",
       "      <td>0.923005</td>\n",
       "      <td>0.920744</td>\n",
       "      <td>0.905629</td>\n",
       "      <td>2.6847</td>\n",
       "    </tr>\n",
       "    <tr>\n",
       "      <td>0</td>\n",
       "      <td>training</td>\n",
       "      <td>RandomForestClassifier</td>\n",
       "      <td>0.924748</td>\n",
       "      <td>0.955070</td>\n",
       "      <td>0.911697</td>\n",
       "      <td>0.928622</td>\n",
       "      <td>0.976262</td>\n",
       "      <td>N/A</td>\n",
       "    </tr>\n",
       "    <tr>\n",
       "      <td>0</td>\n",
       "      <td>test</td>\n",
       "      <td>RandomForestClassifier</td>\n",
       "      <td>0.933631</td>\n",
       "      <td>0.955938</td>\n",
       "      <td>0.910908</td>\n",
       "      <td>0.932232</td>\n",
       "      <td>0.982424</td>\n",
       "      <td>1.87024</td>\n",
       "    </tr>\n",
       "    <tr>\n",
       "      <td>0</td>\n",
       "      <td>training</td>\n",
       "      <td>LinearSVC</td>\n",
       "      <td>0.929615</td>\n",
       "      <td>0.946886</td>\n",
       "      <td>0.910951</td>\n",
       "      <td>0.928851</td>\n",
       "      <td>0.981265</td>\n",
       "      <td>N/A</td>\n",
       "    </tr>\n",
       "    <tr>\n",
       "      <td>0</td>\n",
       "      <td>test</td>\n",
       "      <td>LinearSVC</td>\n",
       "      <td>0.941484</td>\n",
       "      <td>0.946716</td>\n",
       "      <td>0.926529</td>\n",
       "      <td>0.941761</td>\n",
       "      <td>0.986600</td>\n",
       "      <td>1.84007</td>\n",
       "    </tr>\n",
       "    <tr>\n",
       "      <td>0</td>\n",
       "      <td>training</td>\n",
       "      <td>GaussianNB</td>\n",
       "      <td>0.912391</td>\n",
       "      <td>0.949643</td>\n",
       "      <td>0.857798</td>\n",
       "      <td>0.904500</td>\n",
       "      <td>0.971127</td>\n",
       "      <td>N/A</td>\n",
       "    </tr>\n",
       "    <tr>\n",
       "      <td>0</td>\n",
       "      <td>test</td>\n",
       "      <td>GaussianNB</td>\n",
       "      <td>0.937971</td>\n",
       "      <td>0.969079</td>\n",
       "      <td>0.910831</td>\n",
       "      <td>0.935038</td>\n",
       "      <td>0.978320</td>\n",
       "      <td>2.29254</td>\n",
       "    </tr>\n",
       "  </tbody>\n",
       "</table>\n",
       "</div>"
      ],
      "text/plain": [
       "       data                   model  accuracy  precision    recall   f1score  \\\n",
       "0  training    KNeighborsClassifier  0.758138   0.788030  0.702116  0.744057   \n",
       "0      test    KNeighborsClassifier  0.756420   0.777193  0.723738  0.752562   \n",
       "0  training      LogisticRegression  0.925114   0.944937  0.901210  0.926716   \n",
       "0      test      LogisticRegression  0.940610   0.948090  0.930114  0.931206   \n",
       "0  training  DecisionTreeClassifier  0.902284   0.899654  0.904195  0.905170   \n",
       "0      test  DecisionTreeClassifier  0.906560   0.918170  0.923005  0.920744   \n",
       "0  training  RandomForestClassifier  0.924748   0.955070  0.911697  0.928622   \n",
       "0      test  RandomForestClassifier  0.933631   0.955938  0.910908  0.932232   \n",
       "0  training               LinearSVC  0.929615   0.946886  0.910951  0.928851   \n",
       "0      test               LinearSVC  0.941484   0.946716  0.926529  0.941761   \n",
       "0  training              GaussianNB  0.912391   0.949643  0.857798  0.904500   \n",
       "0      test              GaussianNB  0.937971   0.969079  0.910831  0.935038   \n",
       "\n",
       "     rocauc  logloss  \n",
       "0  0.818009      N/A  \n",
       "0  0.829552  7.57146  \n",
       "0  0.979619      N/A  \n",
       "0  0.984157  1.68925  \n",
       "0  0.908277      N/A  \n",
       "0  0.905629   2.6847  \n",
       "0  0.976262      N/A  \n",
       "0  0.982424  1.87024  \n",
       "0  0.981265      N/A  \n",
       "0  0.986600  1.84007  \n",
       "0  0.971127      N/A  \n",
       "0  0.978320  2.29254  "
      ]
     },
     "execution_count": 59,
     "metadata": {},
     "output_type": "execute_result"
    }
   ],
   "source": [
    "before_hyp = [knn_results, logreg_results, dectree_results, rfor_results, \n",
    "              linearsvc_results, naive_b_results]\n",
    "\n",
    "final_results_before = pd.concat(before_hyp)\n",
    "final_results_before"
   ]
  },
  {
   "cell_type": "markdown",
   "metadata": {},
   "source": [
    "Results after hyperparameter tuning:"
   ]
  },
  {
   "cell_type": "code",
   "execution_count": 60,
   "metadata": {
    "ExecuteTime": {
     "end_time": "2020-05-07T15:08:09.355500Z",
     "start_time": "2020-05-07T15:08:09.342535Z"
    }
   },
   "outputs": [
    {
     "data": {
      "text/html": [
       "<div>\n",
       "<style scoped>\n",
       "    .dataframe tbody tr th:only-of-type {\n",
       "        vertical-align: middle;\n",
       "    }\n",
       "\n",
       "    .dataframe tbody tr th {\n",
       "        vertical-align: top;\n",
       "    }\n",
       "\n",
       "    .dataframe thead th {\n",
       "        text-align: right;\n",
       "    }\n",
       "</style>\n",
       "<table border=\"1\" class=\"dataframe\">\n",
       "  <thead>\n",
       "    <tr style=\"text-align: right;\">\n",
       "      <th></th>\n",
       "      <th>data</th>\n",
       "      <th>model</th>\n",
       "      <th>accuracy</th>\n",
       "      <th>precision</th>\n",
       "      <th>recall</th>\n",
       "      <th>f1score</th>\n",
       "      <th>rocauc</th>\n",
       "      <th>logloss</th>\n",
       "    </tr>\n",
       "  </thead>\n",
       "  <tbody>\n",
       "    <tr>\n",
       "      <td>0</td>\n",
       "      <td>training</td>\n",
       "      <td>KNeighborsClassifier</td>\n",
       "      <td>0.836018</td>\n",
       "      <td>0.903785</td>\n",
       "      <td>0.755255</td>\n",
       "      <td>0.826008</td>\n",
       "      <td>0.927513</td>\n",
       "      <td>N/A</td>\n",
       "    </tr>\n",
       "    <tr>\n",
       "      <td>0</td>\n",
       "      <td>test</td>\n",
       "      <td>KNeighborsClassifier</td>\n",
       "      <td>0.861179</td>\n",
       "      <td>0.907146</td>\n",
       "      <td>0.779756</td>\n",
       "      <td>0.842796</td>\n",
       "      <td>0.945843</td>\n",
       "      <td>5.21855</td>\n",
       "    </tr>\n",
       "    <tr>\n",
       "      <td>0</td>\n",
       "      <td>training</td>\n",
       "      <td>LogisticRegression</td>\n",
       "      <td>0.930730</td>\n",
       "      <td>0.955029</td>\n",
       "      <td>0.900439</td>\n",
       "      <td>0.926204</td>\n",
       "      <td>0.980720</td>\n",
       "      <td>N/A</td>\n",
       "    </tr>\n",
       "    <tr>\n",
       "      <td>0</td>\n",
       "      <td>test</td>\n",
       "      <td>LogisticRegression</td>\n",
       "      <td>0.947628</td>\n",
       "      <td>0.958707</td>\n",
       "      <td>0.929992</td>\n",
       "      <td>0.937056</td>\n",
       "      <td>0.987171</td>\n",
       "      <td>1.71941</td>\n",
       "    </tr>\n",
       "    <tr>\n",
       "      <td>0</td>\n",
       "      <td>training</td>\n",
       "      <td>DecisionTreeClassifier</td>\n",
       "      <td>0.913520</td>\n",
       "      <td>0.934323</td>\n",
       "      <td>0.892249</td>\n",
       "      <td>0.922020</td>\n",
       "      <td>0.957374</td>\n",
       "      <td>N/A</td>\n",
       "    </tr>\n",
       "    <tr>\n",
       "      <td>0</td>\n",
       "      <td>test</td>\n",
       "      <td>DecisionTreeClassifier</td>\n",
       "      <td>0.929272</td>\n",
       "      <td>0.945803</td>\n",
       "      <td>0.909062</td>\n",
       "      <td>0.927258</td>\n",
       "      <td>0.953053</td>\n",
       "      <td>2.08139</td>\n",
       "    </tr>\n",
       "    <tr>\n",
       "      <td>0</td>\n",
       "      <td>training</td>\n",
       "      <td>RandomForestClassifier</td>\n",
       "      <td>0.932981</td>\n",
       "      <td>0.954030</td>\n",
       "      <td>0.915420</td>\n",
       "      <td>0.931715</td>\n",
       "      <td>0.983852</td>\n",
       "      <td>N/A</td>\n",
       "    </tr>\n",
       "    <tr>\n",
       "      <td>0</td>\n",
       "      <td>test</td>\n",
       "      <td>RandomForestClassifier</td>\n",
       "      <td>0.943265</td>\n",
       "      <td>0.957067</td>\n",
       "      <td>0.924836</td>\n",
       "      <td>0.941493</td>\n",
       "      <td>0.989188</td>\n",
       "      <td>1.9909</td>\n",
       "    </tr>\n",
       "    <tr>\n",
       "      <td>0</td>\n",
       "      <td>training</td>\n",
       "      <td>LinearSVC</td>\n",
       "      <td>0.927367</td>\n",
       "      <td>0.947794</td>\n",
       "      <td>0.905693</td>\n",
       "      <td>0.925089</td>\n",
       "      <td>0.981464</td>\n",
       "      <td>N/A</td>\n",
       "    </tr>\n",
       "    <tr>\n",
       "      <td>0</td>\n",
       "      <td>test</td>\n",
       "      <td>LinearSVC</td>\n",
       "      <td>0.943253</td>\n",
       "      <td>0.963548</td>\n",
       "      <td>0.928360</td>\n",
       "      <td>0.944000</td>\n",
       "      <td>0.989133</td>\n",
       "      <td>1.68924</td>\n",
       "    </tr>\n",
       "  </tbody>\n",
       "</table>\n",
       "</div>"
      ],
      "text/plain": [
       "       data                   model  accuracy  precision    recall   f1score  \\\n",
       "0  training    KNeighborsClassifier  0.836018   0.903785  0.755255  0.826008   \n",
       "0      test    KNeighborsClassifier  0.861179   0.907146  0.779756  0.842796   \n",
       "0  training      LogisticRegression  0.930730   0.955029  0.900439  0.926204   \n",
       "0      test      LogisticRegression  0.947628   0.958707  0.929992  0.937056   \n",
       "0  training  DecisionTreeClassifier  0.913520   0.934323  0.892249  0.922020   \n",
       "0      test  DecisionTreeClassifier  0.929272   0.945803  0.909062  0.927258   \n",
       "0  training  RandomForestClassifier  0.932981   0.954030  0.915420  0.931715   \n",
       "0      test  RandomForestClassifier  0.943265   0.957067  0.924836  0.941493   \n",
       "0  training               LinearSVC  0.927367   0.947794  0.905693  0.925089   \n",
       "0      test               LinearSVC  0.943253   0.963548  0.928360  0.944000   \n",
       "\n",
       "     rocauc  logloss  \n",
       "0  0.927513      N/A  \n",
       "0  0.945843  5.21855  \n",
       "0  0.980720      N/A  \n",
       "0  0.987171  1.71941  \n",
       "0  0.957374      N/A  \n",
       "0  0.953053  2.08139  \n",
       "0  0.983852      N/A  \n",
       "0  0.989188   1.9909  \n",
       "0  0.981464      N/A  \n",
       "0  0.989133  1.68924  "
      ]
     },
     "execution_count": 60,
     "metadata": {},
     "output_type": "execute_result"
    }
   ],
   "source": [
    "after_hyp = [knn_results_hyp, logreg_results_hyp, dectree_results_hyp, rfor_results_hyp, \n",
    "              linearsvc_results_hyp]\n",
    "\n",
    "final_results_after = pd.concat(after_hyp)\n",
    "final_results_after"
   ]
  },
  {
   "cell_type": "markdown",
   "metadata": {},
   "source": [
    "## Notes"
   ]
  },
  {
   "cell_type": "code",
   "execution_count": 62,
   "metadata": {
    "ExecuteTime": {
     "end_time": "2020-05-07T15:08:09.366498Z",
     "start_time": "2020-05-07T15:08:09.360485Z"
    }
   },
   "outputs": [
    {
     "data": {
      "text/plain": [
       "{'bootstrap': True,\n",
       " 'class_weight': None,\n",
       " 'criterion': 'gini',\n",
       " 'max_depth': None,\n",
       " 'max_features': 'auto',\n",
       " 'max_leaf_nodes': None,\n",
       " 'min_impurity_decrease': 0.0,\n",
       " 'min_impurity_split': None,\n",
       " 'min_samples_leaf': 1,\n",
       " 'min_samples_split': 2,\n",
       " 'min_weight_fraction_leaf': 0.0,\n",
       " 'n_estimators': 'warn',\n",
       " 'n_jobs': None,\n",
       " 'oob_score': False,\n",
       " 'random_state': None,\n",
       " 'verbose': 0,\n",
       " 'warm_start': False}"
      ]
     },
     "execution_count": 62,
     "metadata": {},
     "output_type": "execute_result"
    }
   ],
   "source": [
    "RandomForestClassifier().get_params()"
   ]
  },
  {
   "cell_type": "code",
   "execution_count": 63,
   "metadata": {
    "ExecuteTime": {
     "end_time": "2020-05-07T15:08:09.374448Z",
     "start_time": "2020-05-07T15:08:09.367466Z"
    }
   },
   "outputs": [
    {
     "name": "stdout",
     "output_type": "stream",
     "text": [
      "Help on class GridSearchCV in module sklearn.model_selection._search:\n",
      "\n",
      "class GridSearchCV(BaseSearchCV)\n",
      " |  GridSearchCV(estimator, param_grid, scoring=None, n_jobs=None, iid='warn', refit=True, cv='warn', verbose=0, pre_dispatch='2*n_jobs', error_score='raise-deprecating', return_train_score=False)\n",
      " |  \n",
      " |  Exhaustive search over specified parameter values for an estimator.\n",
      " |  \n",
      " |  Important members are fit, predict.\n",
      " |  \n",
      " |  GridSearchCV implements a \"fit\" and a \"score\" method.\n",
      " |  It also implements \"predict\", \"predict_proba\", \"decision_function\",\n",
      " |  \"transform\" and \"inverse_transform\" if they are implemented in the\n",
      " |  estimator used.\n",
      " |  \n",
      " |  The parameters of the estimator used to apply these methods are optimized\n",
      " |  by cross-validated grid-search over a parameter grid.\n",
      " |  \n",
      " |  Read more in the :ref:`User Guide <grid_search>`.\n",
      " |  \n",
      " |  Parameters\n",
      " |  ----------\n",
      " |  estimator : estimator object.\n",
      " |      This is assumed to implement the scikit-learn estimator interface.\n",
      " |      Either estimator needs to provide a ``score`` function,\n",
      " |      or ``scoring`` must be passed.\n",
      " |  \n",
      " |  param_grid : dict or list of dictionaries\n",
      " |      Dictionary with parameters names (string) as keys and lists of\n",
      " |      parameter settings to try as values, or a list of such\n",
      " |      dictionaries, in which case the grids spanned by each dictionary\n",
      " |      in the list are explored. This enables searching over any sequence\n",
      " |      of parameter settings.\n",
      " |  \n",
      " |  scoring : string, callable, list/tuple, dict or None, default: None\n",
      " |      A single string (see :ref:`scoring_parameter`) or a callable\n",
      " |      (see :ref:`scoring`) to evaluate the predictions on the test set.\n",
      " |  \n",
      " |      For evaluating multiple metrics, either give a list of (unique) strings\n",
      " |      or a dict with names as keys and callables as values.\n",
      " |  \n",
      " |      NOTE that when using custom scorers, each scorer should return a single\n",
      " |      value. Metric functions returning a list/array of values can be wrapped\n",
      " |      into multiple scorers that return one value each.\n",
      " |  \n",
      " |      See :ref:`multimetric_grid_search` for an example.\n",
      " |  \n",
      " |      If None, the estimator's score method is used.\n",
      " |  \n",
      " |  n_jobs : int or None, optional (default=None)\n",
      " |      Number of jobs to run in parallel.\n",
      " |      ``None`` means 1 unless in a :obj:`joblib.parallel_backend` context.\n",
      " |      ``-1`` means using all processors. See :term:`Glossary <n_jobs>`\n",
      " |      for more details.\n",
      " |  \n",
      " |  pre_dispatch : int, or string, optional\n",
      " |      Controls the number of jobs that get dispatched during parallel\n",
      " |      execution. Reducing this number can be useful to avoid an\n",
      " |      explosion of memory consumption when more jobs get dispatched\n",
      " |      than CPUs can process. This parameter can be:\n",
      " |  \n",
      " |          - None, in which case all the jobs are immediately\n",
      " |            created and spawned. Use this for lightweight and\n",
      " |            fast-running jobs, to avoid delays due to on-demand\n",
      " |            spawning of the jobs\n",
      " |  \n",
      " |          - An int, giving the exact number of total jobs that are\n",
      " |            spawned\n",
      " |  \n",
      " |          - A string, giving an expression as a function of n_jobs,\n",
      " |            as in '2*n_jobs'\n",
      " |  \n",
      " |  iid : boolean, default='warn'\n",
      " |      If True, return the average score across folds, weighted by the number\n",
      " |      of samples in each test set. In this case, the data is assumed to be\n",
      " |      identically distributed across the folds, and the loss minimized is\n",
      " |      the total loss per sample, and not the mean loss across the folds. If\n",
      " |      False, return the average score across folds. Default is True, but\n",
      " |      will change to False in version 0.22, to correspond to the standard\n",
      " |      definition of cross-validation.\n",
      " |  \n",
      " |      .. versionchanged:: 0.20\n",
      " |          Parameter ``iid`` will change from True to False by default in\n",
      " |          version 0.22, and will be removed in 0.24.\n",
      " |  \n",
      " |  cv : int, cross-validation generator or an iterable, optional\n",
      " |      Determines the cross-validation splitting strategy.\n",
      " |      Possible inputs for cv are:\n",
      " |  \n",
      " |      - None, to use the default 3-fold cross validation,\n",
      " |      - integer, to specify the number of folds in a `(Stratified)KFold`,\n",
      " |      - :term:`CV splitter`,\n",
      " |      - An iterable yielding (train, test) splits as arrays of indices.\n",
      " |  \n",
      " |      For integer/None inputs, if the estimator is a classifier and ``y`` is\n",
      " |      either binary or multiclass, :class:`StratifiedKFold` is used. In all\n",
      " |      other cases, :class:`KFold` is used.\n",
      " |  \n",
      " |      Refer :ref:`User Guide <cross_validation>` for the various\n",
      " |      cross-validation strategies that can be used here.\n",
      " |  \n",
      " |      .. versionchanged:: 0.20\n",
      " |          ``cv`` default value if None will change from 3-fold to 5-fold\n",
      " |          in v0.22.\n",
      " |  \n",
      " |  refit : boolean, string, or callable, default=True\n",
      " |      Refit an estimator using the best found parameters on the whole\n",
      " |      dataset.\n",
      " |  \n",
      " |      For multiple metric evaluation, this needs to be a string denoting the\n",
      " |      scorer that would be used to find the best parameters for refitting\n",
      " |      the estimator at the end.\n",
      " |  \n",
      " |      Where there are considerations other than maximum score in\n",
      " |      choosing a best estimator, ``refit`` can be set to a function which\n",
      " |      returns the selected ``best_index_`` given ``cv_results_``.\n",
      " |  \n",
      " |      The refitted estimator is made available at the ``best_estimator_``\n",
      " |      attribute and permits using ``predict`` directly on this\n",
      " |      ``GridSearchCV`` instance.\n",
      " |  \n",
      " |      Also for multiple metric evaluation, the attributes ``best_index_``,\n",
      " |      ``best_score_`` and ``best_params_`` will only be available if\n",
      " |      ``refit`` is set and all of them will be determined w.r.t this specific\n",
      " |      scorer. ``best_score_`` is not returned if refit is callable.\n",
      " |  \n",
      " |      See ``scoring`` parameter to know more about multiple metric\n",
      " |      evaluation.\n",
      " |  \n",
      " |      .. versionchanged:: 0.20\n",
      " |          Support for callable added.\n",
      " |  \n",
      " |  verbose : integer\n",
      " |      Controls the verbosity: the higher, the more messages.\n",
      " |  \n",
      " |  error_score : 'raise' or numeric\n",
      " |      Value to assign to the score if an error occurs in estimator fitting.\n",
      " |      If set to 'raise', the error is raised. If a numeric value is given,\n",
      " |      FitFailedWarning is raised. This parameter does not affect the refit\n",
      " |      step, which will always raise the error. Default is 'raise' but from\n",
      " |      version 0.22 it will change to np.nan.\n",
      " |  \n",
      " |  return_train_score : boolean, default=False\n",
      " |      If ``False``, the ``cv_results_`` attribute will not include training\n",
      " |      scores.\n",
      " |      Computing training scores is used to get insights on how different\n",
      " |      parameter settings impact the overfitting/underfitting trade-off.\n",
      " |      However computing the scores on the training set can be computationally\n",
      " |      expensive and is not strictly required to select the parameters that\n",
      " |      yield the best generalization performance.\n",
      " |  \n",
      " |  \n",
      " |  Examples\n",
      " |  --------\n",
      " |  >>> from sklearn import svm, datasets\n",
      " |  >>> from sklearn.model_selection import GridSearchCV\n",
      " |  >>> iris = datasets.load_iris()\n",
      " |  >>> parameters = {'kernel':('linear', 'rbf'), 'C':[1, 10]}\n",
      " |  >>> svc = svm.SVC(gamma=\"scale\")\n",
      " |  >>> clf = GridSearchCV(svc, parameters, cv=5)\n",
      " |  >>> clf.fit(iris.data, iris.target)\n",
      " |  ...                             # doctest: +NORMALIZE_WHITESPACE +ELLIPSIS\n",
      " |  GridSearchCV(cv=5, error_score=...,\n",
      " |         estimator=SVC(C=1.0, cache_size=..., class_weight=..., coef0=...,\n",
      " |                       decision_function_shape='ovr', degree=..., gamma=...,\n",
      " |                       kernel='rbf', max_iter=-1, probability=False,\n",
      " |                       random_state=None, shrinking=True, tol=...,\n",
      " |                       verbose=False),\n",
      " |         iid=..., n_jobs=None,\n",
      " |         param_grid=..., pre_dispatch=..., refit=..., return_train_score=...,\n",
      " |         scoring=..., verbose=...)\n",
      " |  >>> sorted(clf.cv_results_.keys())\n",
      " |  ...                             # doctest: +NORMALIZE_WHITESPACE +ELLIPSIS\n",
      " |  ['mean_fit_time', 'mean_score_time', 'mean_test_score',...\n",
      " |   'param_C', 'param_kernel', 'params',...\n",
      " |   'rank_test_score', 'split0_test_score',...\n",
      " |   'split2_test_score', ...\n",
      " |   'std_fit_time', 'std_score_time', 'std_test_score']\n",
      " |  \n",
      " |  Attributes\n",
      " |  ----------\n",
      " |  cv_results_ : dict of numpy (masked) ndarrays\n",
      " |      A dict with keys as column headers and values as columns, that can be\n",
      " |      imported into a pandas ``DataFrame``.\n",
      " |  \n",
      " |      For instance the below given table\n",
      " |  \n",
      " |      +------------+-----------+------------+-----------------+---+---------+\n",
      " |      |param_kernel|param_gamma|param_degree|split0_test_score|...|rank_t...|\n",
      " |      +============+===========+============+=================+===+=========+\n",
      " |      |  'poly'    |     --    |      2     |       0.80      |...|    2    |\n",
      " |      +------------+-----------+------------+-----------------+---+---------+\n",
      " |      |  'poly'    |     --    |      3     |       0.70      |...|    4    |\n",
      " |      +------------+-----------+------------+-----------------+---+---------+\n",
      " |      |  'rbf'     |     0.1   |     --     |       0.80      |...|    3    |\n",
      " |      +------------+-----------+------------+-----------------+---+---------+\n",
      " |      |  'rbf'     |     0.2   |     --     |       0.93      |...|    1    |\n",
      " |      +------------+-----------+------------+-----------------+---+---------+\n",
      " |  \n",
      " |      will be represented by a ``cv_results_`` dict of::\n",
      " |  \n",
      " |          {\n",
      " |          'param_kernel': masked_array(data = ['poly', 'poly', 'rbf', 'rbf'],\n",
      " |                                       mask = [False False False False]...)\n",
      " |          'param_gamma': masked_array(data = [-- -- 0.1 0.2],\n",
      " |                                      mask = [ True  True False False]...),\n",
      " |          'param_degree': masked_array(data = [2.0 3.0 -- --],\n",
      " |                                       mask = [False False  True  True]...),\n",
      " |          'split0_test_score'  : [0.80, 0.70, 0.80, 0.93],\n",
      " |          'split1_test_score'  : [0.82, 0.50, 0.70, 0.78],\n",
      " |          'mean_test_score'    : [0.81, 0.60, 0.75, 0.85],\n",
      " |          'std_test_score'     : [0.01, 0.10, 0.05, 0.08],\n",
      " |          'rank_test_score'    : [2, 4, 3, 1],\n",
      " |          'split0_train_score' : [0.80, 0.92, 0.70, 0.93],\n",
      " |          'split1_train_score' : [0.82, 0.55, 0.70, 0.87],\n",
      " |          'mean_train_score'   : [0.81, 0.74, 0.70, 0.90],\n",
      " |          'std_train_score'    : [0.01, 0.19, 0.00, 0.03],\n",
      " |          'mean_fit_time'      : [0.73, 0.63, 0.43, 0.49],\n",
      " |          'std_fit_time'       : [0.01, 0.02, 0.01, 0.01],\n",
      " |          'mean_score_time'    : [0.01, 0.06, 0.04, 0.04],\n",
      " |          'std_score_time'     : [0.00, 0.00, 0.00, 0.01],\n",
      " |          'params'             : [{'kernel': 'poly', 'degree': 2}, ...],\n",
      " |          }\n",
      " |  \n",
      " |      NOTE\n",
      " |  \n",
      " |      The key ``'params'`` is used to store a list of parameter\n",
      " |      settings dicts for all the parameter candidates.\n",
      " |  \n",
      " |      The ``mean_fit_time``, ``std_fit_time``, ``mean_score_time`` and\n",
      " |      ``std_score_time`` are all in seconds.\n",
      " |  \n",
      " |      For multi-metric evaluation, the scores for all the scorers are\n",
      " |      available in the ``cv_results_`` dict at the keys ending with that\n",
      " |      scorer's name (``'_<scorer_name>'``) instead of ``'_score'`` shown\n",
      " |      above. ('split0_test_precision', 'mean_train_precision' etc.)\n",
      " |  \n",
      " |  best_estimator_ : estimator or dict\n",
      " |      Estimator that was chosen by the search, i.e. estimator\n",
      " |      which gave highest score (or smallest loss if specified)\n",
      " |      on the left out data. Not available if ``refit=False``.\n",
      " |  \n",
      " |      See ``refit`` parameter for more information on allowed values.\n",
      " |  \n",
      " |  best_score_ : float\n",
      " |      Mean cross-validated score of the best_estimator\n",
      " |  \n",
      " |      For multi-metric evaluation, this is present only if ``refit`` is\n",
      " |      specified.\n",
      " |  \n",
      " |  best_params_ : dict\n",
      " |      Parameter setting that gave the best results on the hold out data.\n",
      " |  \n",
      " |      For multi-metric evaluation, this is present only if ``refit`` is\n",
      " |      specified.\n",
      " |  \n",
      " |  best_index_ : int\n",
      " |      The index (of the ``cv_results_`` arrays) which corresponds to the best\n",
      " |      candidate parameter setting.\n",
      " |  \n",
      " |      The dict at ``search.cv_results_['params'][search.best_index_]`` gives\n",
      " |      the parameter setting for the best model, that gives the highest\n",
      " |      mean score (``search.best_score_``).\n",
      " |  \n",
      " |      For multi-metric evaluation, this is present only if ``refit`` is\n",
      " |      specified.\n",
      " |  \n",
      " |  scorer_ : function or a dict\n",
      " |      Scorer function used on the held out data to choose the best\n",
      " |      parameters for the model.\n",
      " |  \n",
      " |      For multi-metric evaluation, this attribute holds the validated\n",
      " |      ``scoring`` dict which maps the scorer key to the scorer callable.\n",
      " |  \n",
      " |  n_splits_ : int\n",
      " |      The number of cross-validation splits (folds/iterations).\n",
      " |  \n",
      " |  refit_time_ : float\n",
      " |      Seconds used for refitting the best model on the whole dataset.\n",
      " |  \n",
      " |      This is present only if ``refit`` is not False.\n",
      " |  \n",
      " |  Notes\n",
      " |  -----\n",
      " |  The parameters selected are those that maximize the score of the left out\n",
      " |  data, unless an explicit score is passed in which case it is used instead.\n",
      " |  \n",
      " |  If `n_jobs` was set to a value higher than one, the data is copied for each\n",
      " |  point in the grid (and not `n_jobs` times). This is done for efficiency\n",
      " |  reasons if individual jobs take very little time, but may raise errors if\n",
      " |  the dataset is large and not enough memory is available.  A workaround in\n",
      " |  this case is to set `pre_dispatch`. Then, the memory is copied only\n",
      " |  `pre_dispatch` many times. A reasonable value for `pre_dispatch` is `2 *\n",
      " |  n_jobs`.\n",
      " |  \n",
      " |  See Also\n",
      " |  ---------\n",
      " |  :class:`ParameterGrid`:\n",
      " |      generates all the combinations of a hyperparameter grid.\n",
      " |  \n",
      " |  :func:`sklearn.model_selection.train_test_split`:\n",
      " |      utility function to split the data into a development set usable\n",
      " |      for fitting a GridSearchCV instance and an evaluation set for\n",
      " |      its final evaluation.\n",
      " |  \n",
      " |  :func:`sklearn.metrics.make_scorer`:\n",
      " |      Make a scorer from a performance metric or loss function.\n",
      " |  \n",
      " |  Method resolution order:\n",
      " |      GridSearchCV\n",
      " |      BaseSearchCV\n",
      " |      sklearn.base.BaseEstimator\n",
      " |      sklearn.base.MetaEstimatorMixin\n",
      " |      builtins.object\n",
      " |  \n",
      " |  Methods defined here:\n",
      " |  \n",
      " |  __init__(self, estimator, param_grid, scoring=None, n_jobs=None, iid='warn', refit=True, cv='warn', verbose=0, pre_dispatch='2*n_jobs', error_score='raise-deprecating', return_train_score=False)\n",
      " |      Initialize self.  See help(type(self)) for accurate signature.\n",
      " |  \n",
      " |  ----------------------------------------------------------------------\n",
      " |  Data and other attributes defined here:\n",
      " |  \n",
      " |  __abstractmethods__ = frozenset()\n",
      " |  \n",
      " |  ----------------------------------------------------------------------\n",
      " |  Methods inherited from BaseSearchCV:\n",
      " |  \n",
      " |  decision_function(self, X)\n",
      " |      Call decision_function on the estimator with the best found parameters.\n",
      " |      \n",
      " |      Only available if ``refit=True`` and the underlying estimator supports\n",
      " |      ``decision_function``.\n",
      " |      \n",
      " |      Parameters\n",
      " |      ----------\n",
      " |      X : indexable, length n_samples\n",
      " |          Must fulfill the input assumptions of the\n",
      " |          underlying estimator.\n",
      " |  \n",
      " |  fit(self, X, y=None, groups=None, **fit_params)\n",
      " |      Run fit with all sets of parameters.\n",
      " |      \n",
      " |      Parameters\n",
      " |      ----------\n",
      " |      \n",
      " |      X : array-like, shape = [n_samples, n_features]\n",
      " |          Training vector, where n_samples is the number of samples and\n",
      " |          n_features is the number of features.\n",
      " |      \n",
      " |      y : array-like, shape = [n_samples] or [n_samples, n_output], optional\n",
      " |          Target relative to X for classification or regression;\n",
      " |          None for unsupervised learning.\n",
      " |      \n",
      " |      groups : array-like, with shape (n_samples,), optional\n",
      " |          Group labels for the samples used while splitting the dataset into\n",
      " |          train/test set. Only used in conjunction with a \"Group\" `cv`\n",
      " |          instance (e.g., `GroupKFold`).\n",
      " |      \n",
      " |      **fit_params : dict of string -> object\n",
      " |          Parameters passed to the ``fit`` method of the estimator\n",
      " |  \n",
      " |  inverse_transform(self, Xt)\n",
      " |      Call inverse_transform on the estimator with the best found params.\n",
      " |      \n",
      " |      Only available if the underlying estimator implements\n",
      " |      ``inverse_transform`` and ``refit=True``.\n",
      " |      \n",
      " |      Parameters\n",
      " |      ----------\n",
      " |      Xt : indexable, length n_samples\n",
      " |          Must fulfill the input assumptions of the\n",
      " |          underlying estimator.\n",
      " |  \n",
      " |  predict(self, X)\n",
      " |      Call predict on the estimator with the best found parameters.\n",
      " |      \n",
      " |      Only available if ``refit=True`` and the underlying estimator supports\n",
      " |      ``predict``.\n",
      " |      \n",
      " |      Parameters\n",
      " |      ----------\n",
      " |      X : indexable, length n_samples\n",
      " |          Must fulfill the input assumptions of the\n",
      " |          underlying estimator.\n",
      " |  \n",
      " |  predict_log_proba(self, X)\n",
      " |      Call predict_log_proba on the estimator with the best found parameters.\n",
      " |      \n",
      " |      Only available if ``refit=True`` and the underlying estimator supports\n",
      " |      ``predict_log_proba``.\n",
      " |      \n",
      " |      Parameters\n",
      " |      ----------\n",
      " |      X : indexable, length n_samples\n",
      " |          Must fulfill the input assumptions of the\n",
      " |          underlying estimator.\n",
      " |  \n",
      " |  predict_proba(self, X)\n",
      " |      Call predict_proba on the estimator with the best found parameters.\n",
      " |      \n",
      " |      Only available if ``refit=True`` and the underlying estimator supports\n",
      " |      ``predict_proba``.\n",
      " |      \n",
      " |      Parameters\n",
      " |      ----------\n",
      " |      X : indexable, length n_samples\n",
      " |          Must fulfill the input assumptions of the\n",
      " |          underlying estimator.\n",
      " |  \n",
      " |  score(self, X, y=None)\n",
      " |      Returns the score on the given data, if the estimator has been refit.\n",
      " |      \n",
      " |      This uses the score defined by ``scoring`` where provided, and the\n",
      " |      ``best_estimator_.score`` method otherwise.\n",
      " |      \n",
      " |      Parameters\n",
      " |      ----------\n",
      " |      X : array-like, shape = [n_samples, n_features]\n",
      " |          Input data, where n_samples is the number of samples and\n",
      " |          n_features is the number of features.\n",
      " |      \n",
      " |      y : array-like, shape = [n_samples] or [n_samples, n_output], optional\n",
      " |          Target relative to X for classification or regression;\n",
      " |          None for unsupervised learning.\n",
      " |      \n",
      " |      Returns\n",
      " |      -------\n",
      " |      score : float\n",
      " |  \n",
      " |  transform(self, X)\n",
      " |      Call transform on the estimator with the best found parameters.\n",
      " |      \n",
      " |      Only available if the underlying estimator supports ``transform`` and\n",
      " |      ``refit=True``.\n",
      " |      \n",
      " |      Parameters\n",
      " |      ----------\n",
      " |      X : indexable, length n_samples\n",
      " |          Must fulfill the input assumptions of the\n",
      " |          underlying estimator.\n",
      " |  \n",
      " |  ----------------------------------------------------------------------\n",
      " |  Data descriptors inherited from BaseSearchCV:\n",
      " |  \n",
      " |  classes_\n",
      " |  \n",
      " |  ----------------------------------------------------------------------\n",
      " |  Methods inherited from sklearn.base.BaseEstimator:\n",
      " |  \n",
      " |  __getstate__(self)\n",
      " |  \n",
      " |  __repr__(self, N_CHAR_MAX=700)\n",
      " |      Return repr(self).\n",
      " |  \n",
      " |  __setstate__(self, state)\n",
      " |  \n",
      " |  get_params(self, deep=True)\n",
      " |      Get parameters for this estimator.\n",
      " |      \n",
      " |      Parameters\n",
      " |      ----------\n",
      " |      deep : boolean, optional\n",
      " |          If True, will return the parameters for this estimator and\n",
      " |          contained subobjects that are estimators.\n",
      " |      \n",
      " |      Returns\n",
      " |      -------\n",
      " |      params : mapping of string to any\n",
      " |          Parameter names mapped to their values.\n",
      " |  \n",
      " |  set_params(self, **params)\n",
      " |      Set the parameters of this estimator.\n",
      " |      \n",
      " |      The method works on simple estimators as well as on nested objects\n",
      " |      (such as pipelines). The latter have parameters of the form\n",
      " |      ``<component>__<parameter>`` so that it's possible to update each\n",
      " |      component of a nested object.\n",
      " |      \n",
      " |      Returns\n",
      " |      -------\n",
      " |      self\n",
      " |  \n",
      " |  ----------------------------------------------------------------------\n",
      " |  Data descriptors inherited from sklearn.base.BaseEstimator:\n",
      " |  \n",
      " |  __dict__\n",
      " |      dictionary for instance variables (if defined)\n",
      " |  \n",
      " |  __weakref__\n",
      " |      list of weak references to the object (if defined)\n",
      "\n"
     ]
    }
   ],
   "source": [
    "help(GridSearchCV)"
   ]
  },
  {
   "cell_type": "code",
   "execution_count": 64,
   "metadata": {
    "ExecuteTime": {
     "end_time": "2020-05-07T15:08:09.403373Z",
     "start_time": "2020-05-07T15:08:09.375445Z"
    }
   },
   "outputs": [
    {
     "ename": "KeyError",
     "evalue": "\"['param_max_depth', 'param_criterion', 'param_n_estimators', 'param_max_features'] not in index\"",
     "output_type": "error",
     "traceback": [
      "\u001b[1;31m---------------------------------------------------------------------------\u001b[0m",
      "\u001b[1;31mKeyError\u001b[0m                                  Traceback (most recent call last)",
      "\u001b[1;32m<ipython-input-64-16a2a5742ad3>\u001b[0m in \u001b[0;36m<module>\u001b[1;34m\u001b[0m\n\u001b[0;32m      4\u001b[0m \u001b[0mhyp_res\u001b[0m\u001b[1;33m\u001b[0m\u001b[1;33m\u001b[0m\u001b[0m\n\u001b[0;32m      5\u001b[0m hyp_res[['param_criterion', 'param_max_depth', 'param_max_features','param_n_estimators', \n\u001b[1;32m----> 6\u001b[1;33m          'mean_test_score']].sort_values('mean_test_score', ascending=False) \n\u001b[0m",
      "\u001b[1;32m~\\Anaconda3\\lib\\site-packages\\pandas\\core\\frame.py\u001b[0m in \u001b[0;36m__getitem__\u001b[1;34m(self, key)\u001b[0m\n\u001b[0;32m   2984\u001b[0m             \u001b[1;32mif\u001b[0m \u001b[0mis_iterator\u001b[0m\u001b[1;33m(\u001b[0m\u001b[0mkey\u001b[0m\u001b[1;33m)\u001b[0m\u001b[1;33m:\u001b[0m\u001b[1;33m\u001b[0m\u001b[1;33m\u001b[0m\u001b[0m\n\u001b[0;32m   2985\u001b[0m                 \u001b[0mkey\u001b[0m \u001b[1;33m=\u001b[0m \u001b[0mlist\u001b[0m\u001b[1;33m(\u001b[0m\u001b[0mkey\u001b[0m\u001b[1;33m)\u001b[0m\u001b[1;33m\u001b[0m\u001b[1;33m\u001b[0m\u001b[0m\n\u001b[1;32m-> 2986\u001b[1;33m             \u001b[0mindexer\u001b[0m \u001b[1;33m=\u001b[0m \u001b[0mself\u001b[0m\u001b[1;33m.\u001b[0m\u001b[0mloc\u001b[0m\u001b[1;33m.\u001b[0m\u001b[0m_convert_to_indexer\u001b[0m\u001b[1;33m(\u001b[0m\u001b[0mkey\u001b[0m\u001b[1;33m,\u001b[0m \u001b[0maxis\u001b[0m\u001b[1;33m=\u001b[0m\u001b[1;36m1\u001b[0m\u001b[1;33m,\u001b[0m \u001b[0mraise_missing\u001b[0m\u001b[1;33m=\u001b[0m\u001b[1;32mTrue\u001b[0m\u001b[1;33m)\u001b[0m\u001b[1;33m\u001b[0m\u001b[1;33m\u001b[0m\u001b[0m\n\u001b[0m\u001b[0;32m   2987\u001b[0m \u001b[1;33m\u001b[0m\u001b[0m\n\u001b[0;32m   2988\u001b[0m         \u001b[1;31m# take() does not accept boolean indexers\u001b[0m\u001b[1;33m\u001b[0m\u001b[1;33m\u001b[0m\u001b[1;33m\u001b[0m\u001b[0m\n",
      "\u001b[1;32m~\\Anaconda3\\lib\\site-packages\\pandas\\core\\indexing.py\u001b[0m in \u001b[0;36m_convert_to_indexer\u001b[1;34m(self, obj, axis, is_setter, raise_missing)\u001b[0m\n\u001b[0;32m   1283\u001b[0m                 \u001b[1;31m# When setting, missing keys are not allowed, even with .loc:\u001b[0m\u001b[1;33m\u001b[0m\u001b[1;33m\u001b[0m\u001b[1;33m\u001b[0m\u001b[0m\n\u001b[0;32m   1284\u001b[0m                 \u001b[0mkwargs\u001b[0m \u001b[1;33m=\u001b[0m \u001b[1;33m{\u001b[0m\u001b[1;34m\"raise_missing\"\u001b[0m\u001b[1;33m:\u001b[0m \u001b[1;32mTrue\u001b[0m \u001b[1;32mif\u001b[0m \u001b[0mis_setter\u001b[0m \u001b[1;32melse\u001b[0m \u001b[0mraise_missing\u001b[0m\u001b[1;33m}\u001b[0m\u001b[1;33m\u001b[0m\u001b[1;33m\u001b[0m\u001b[0m\n\u001b[1;32m-> 1285\u001b[1;33m                 \u001b[1;32mreturn\u001b[0m \u001b[0mself\u001b[0m\u001b[1;33m.\u001b[0m\u001b[0m_get_listlike_indexer\u001b[0m\u001b[1;33m(\u001b[0m\u001b[0mobj\u001b[0m\u001b[1;33m,\u001b[0m \u001b[0maxis\u001b[0m\u001b[1;33m,\u001b[0m \u001b[1;33m**\u001b[0m\u001b[0mkwargs\u001b[0m\u001b[1;33m)\u001b[0m\u001b[1;33m[\u001b[0m\u001b[1;36m1\u001b[0m\u001b[1;33m]\u001b[0m\u001b[1;33m\u001b[0m\u001b[1;33m\u001b[0m\u001b[0m\n\u001b[0m\u001b[0;32m   1286\u001b[0m         \u001b[1;32melse\u001b[0m\u001b[1;33m:\u001b[0m\u001b[1;33m\u001b[0m\u001b[1;33m\u001b[0m\u001b[0m\n\u001b[0;32m   1287\u001b[0m             \u001b[1;32mtry\u001b[0m\u001b[1;33m:\u001b[0m\u001b[1;33m\u001b[0m\u001b[1;33m\u001b[0m\u001b[0m\n",
      "\u001b[1;32m~\\Anaconda3\\lib\\site-packages\\pandas\\core\\indexing.py\u001b[0m in \u001b[0;36m_get_listlike_indexer\u001b[1;34m(self, key, axis, raise_missing)\u001b[0m\n\u001b[0;32m   1090\u001b[0m \u001b[1;33m\u001b[0m\u001b[0m\n\u001b[0;32m   1091\u001b[0m         self._validate_read_indexer(\n\u001b[1;32m-> 1092\u001b[1;33m             \u001b[0mkeyarr\u001b[0m\u001b[1;33m,\u001b[0m \u001b[0mindexer\u001b[0m\u001b[1;33m,\u001b[0m \u001b[0mo\u001b[0m\u001b[1;33m.\u001b[0m\u001b[0m_get_axis_number\u001b[0m\u001b[1;33m(\u001b[0m\u001b[0maxis\u001b[0m\u001b[1;33m)\u001b[0m\u001b[1;33m,\u001b[0m \u001b[0mraise_missing\u001b[0m\u001b[1;33m=\u001b[0m\u001b[0mraise_missing\u001b[0m\u001b[1;33m\u001b[0m\u001b[1;33m\u001b[0m\u001b[0m\n\u001b[0m\u001b[0;32m   1093\u001b[0m         )\n\u001b[0;32m   1094\u001b[0m         \u001b[1;32mreturn\u001b[0m \u001b[0mkeyarr\u001b[0m\u001b[1;33m,\u001b[0m \u001b[0mindexer\u001b[0m\u001b[1;33m\u001b[0m\u001b[1;33m\u001b[0m\u001b[0m\n",
      "\u001b[1;32m~\\Anaconda3\\lib\\site-packages\\pandas\\core\\indexing.py\u001b[0m in \u001b[0;36m_validate_read_indexer\u001b[1;34m(self, key, indexer, axis, raise_missing)\u001b[0m\n\u001b[0;32m   1183\u001b[0m             \u001b[1;32mif\u001b[0m \u001b[1;32mnot\u001b[0m \u001b[1;33m(\u001b[0m\u001b[0mself\u001b[0m\u001b[1;33m.\u001b[0m\u001b[0mname\u001b[0m \u001b[1;33m==\u001b[0m \u001b[1;34m\"loc\"\u001b[0m \u001b[1;32mand\u001b[0m \u001b[1;32mnot\u001b[0m \u001b[0mraise_missing\u001b[0m\u001b[1;33m)\u001b[0m\u001b[1;33m:\u001b[0m\u001b[1;33m\u001b[0m\u001b[1;33m\u001b[0m\u001b[0m\n\u001b[0;32m   1184\u001b[0m                 \u001b[0mnot_found\u001b[0m \u001b[1;33m=\u001b[0m \u001b[0mlist\u001b[0m\u001b[1;33m(\u001b[0m\u001b[0mset\u001b[0m\u001b[1;33m(\u001b[0m\u001b[0mkey\u001b[0m\u001b[1;33m)\u001b[0m \u001b[1;33m-\u001b[0m \u001b[0mset\u001b[0m\u001b[1;33m(\u001b[0m\u001b[0max\u001b[0m\u001b[1;33m)\u001b[0m\u001b[1;33m)\u001b[0m\u001b[1;33m\u001b[0m\u001b[1;33m\u001b[0m\u001b[0m\n\u001b[1;32m-> 1185\u001b[1;33m                 \u001b[1;32mraise\u001b[0m \u001b[0mKeyError\u001b[0m\u001b[1;33m(\u001b[0m\u001b[1;34m\"{} not in index\"\u001b[0m\u001b[1;33m.\u001b[0m\u001b[0mformat\u001b[0m\u001b[1;33m(\u001b[0m\u001b[0mnot_found\u001b[0m\u001b[1;33m)\u001b[0m\u001b[1;33m)\u001b[0m\u001b[1;33m\u001b[0m\u001b[1;33m\u001b[0m\u001b[0m\n\u001b[0m\u001b[0;32m   1186\u001b[0m \u001b[1;33m\u001b[0m\u001b[0m\n\u001b[0;32m   1187\u001b[0m             \u001b[1;31m# we skip the warning on Categorical/Interval\u001b[0m\u001b[1;33m\u001b[0m\u001b[1;33m\u001b[0m\u001b[1;33m\u001b[0m\u001b[0m\n",
      "\u001b[1;31mKeyError\u001b[0m: \"['param_max_depth', 'param_criterion', 'param_n_estimators', 'param_max_features'] not in index\""
     ]
    }
   ],
   "source": [
    "# get cross validation dataframe\n",
    "grid.cv_results_\n",
    "hyp_res = pd.DataFrame(grid.cv_results_)\n",
    "hyp_res\n",
    "hyp_res[['param_criterion', 'param_max_depth', 'param_max_features','param_n_estimators', \n",
    "         'mean_test_score']].sort_values('mean_test_score', ascending=False) "
   ]
  },
  {
   "cell_type": "code",
   "execution_count": null,
   "metadata": {
    "ExecuteTime": {
     "end_time": "2020-05-07T15:08:09.404368Z",
     "start_time": "2020-05-07T15:07:48.542Z"
    }
   },
   "outputs": [],
   "source": [
    "# check what else I can take from it\n",
    "\n",
    "dir(grid)"
   ]
  },
  {
   "cell_type": "code",
   "execution_count": null,
   "metadata": {
    "ExecuteTime": {
     "end_time": "2020-05-07T15:08:09.405367Z",
     "start_time": "2020-05-07T15:07:49.303Z"
    }
   },
   "outputs": [],
   "source": [
    "# The same cross validation done manually, check the difference with function\n",
    "\n",
    "#Cross validation with best_estimator from grid search (using strat_k_fold, by default have kfold)\n",
    "\n",
    "strat_k_fold = StratifiedKFold(n_splits=5, shuffle=True)\n",
    "initial_score = cross_val_score(grid.best_estimator_, X_test, y_test, cv=strat_k_fold, \n",
    "                                scoring='f1').mean()\n",
    "print(\"Final accuracy : {} \".format(initial_score))"
   ]
  },
  {
   "cell_type": "code",
   "execution_count": null,
   "metadata": {
    "ExecuteTime": {
     "end_time": "2020-05-07T15:08:09.406365Z",
     "start_time": "2020-05-07T15:07:49.511Z"
    }
   },
   "outputs": [],
   "source": [
    "# miltiple scoring, should give the same as function, check the difference in settings\n",
    "\n",
    "from sklearn.model_selection import cross_validate\n",
    "\n",
    "initial_score = cross_validate(grid.best_estimator_, X_test, y_test, cv=strat_k_fold, \n",
    "                               scoring=('f1', 'accuracy'))\n",
    "print(initial_score['test_f1'].mean())\n",
    "print(initial_score['test_accuracy'].mean())"
   ]
  },
  {
   "cell_type": "code",
   "execution_count": null,
   "metadata": {
    "ExecuteTime": {
     "end_time": "2020-05-07T15:08:09.408359Z",
     "start_time": "2020-05-07T15:07:49.684Z"
    }
   },
   "outputs": [],
   "source": [
    "# info about scores: https://scikit-learn.org/stable/modules/model_evaluation.html#scoring-parameter"
   ]
  },
  {
   "cell_type": "code",
   "execution_count": null,
   "metadata": {
    "ExecuteTime": {
     "end_time": "2020-05-07T14:57:20.455645Z",
     "start_time": "2020-05-07T14:56:56.322Z"
    }
   },
   "outputs": [],
   "source": [
    "# GridSearchCV has a very high computation cost if we want to try a bigger range of parameter values"
   ]
  },
  {
   "cell_type": "code",
   "execution_count": null,
   "metadata": {
    "ExecuteTime": {
     "end_time": "2020-05-07T14:57:20.455645Z",
     "start_time": "2020-05-07T14:56:56.325Z"
    }
   },
   "outputs": [],
   "source": [
    "# RandomizedSearchCV to randomly try different parameters, but in our case the dataset is not \n",
    "#too big so we can allow to run gridsearch"
   ]
  },
  {
   "cell_type": "code",
   "execution_count": null,
   "metadata": {},
   "outputs": [],
   "source": []
  },
  {
   "cell_type": "code",
   "execution_count": null,
   "metadata": {
    "ExecuteTime": {
     "end_time": "2020-05-07T14:57:20.456644Z",
     "start_time": "2020-05-07T14:56:56.329Z"
    }
   },
   "outputs": [],
   "source": [
    "# hyperparameter for all models to find all best parameter values for all models \n",
    "# https://www.youtube.com/watch?v=HdlDYng8g9s"
   ]
  },
  {
   "cell_type": "code",
   "execution_count": null,
   "metadata": {},
   "outputs": [],
   "source": []
  }
 ],
 "metadata": {
  "kernelspec": {
   "display_name": "Python 3",
   "language": "python",
   "name": "python3"
  },
  "language_info": {
   "codemirror_mode": {
    "name": "ipython",
    "version": 3
   },
   "file_extension": ".py",
   "mimetype": "text/x-python",
   "name": "python",
   "nbconvert_exporter": "python",
   "pygments_lexer": "ipython3",
   "version": "3.7.4"
  },
  "toc": {
   "base_numbering": 1,
   "nav_menu": {},
   "number_sections": true,
   "sideBar": true,
   "skip_h1_title": false,
   "title_cell": "Table of Contents",
   "title_sidebar": "Contents",
   "toc_cell": false,
   "toc_position": {
    "height": "calc(100% - 180px)",
    "left": "10px",
    "top": "150px",
    "width": "259.667px"
   },
   "toc_section_display": true,
   "toc_window_display": true
  },
  "varInspector": {
   "cols": {
    "lenName": 16,
    "lenType": 16,
    "lenVar": 40
   },
   "kernels_config": {
    "python": {
     "delete_cmd_postfix": "",
     "delete_cmd_prefix": "del ",
     "library": "var_list.py",
     "varRefreshCmd": "print(var_dic_list())"
    },
    "r": {
     "delete_cmd_postfix": ") ",
     "delete_cmd_prefix": "rm(",
     "library": "var_list.r",
     "varRefreshCmd": "cat(var_dic_list()) "
    }
   },
   "types_to_exclude": [
    "module",
    "function",
    "builtin_function_or_method",
    "instance",
    "_Feature"
   ],
   "window_display": false
  }
 },
 "nbformat": 4,
 "nbformat_minor": 2
}
